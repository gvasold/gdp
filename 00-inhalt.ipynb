{
 "cells": [
  {
   "cell_type": "markdown",
   "id": "7dba01d3-8cae-4fd0-99d4-9b0bbfc1c097",
   "metadata": {},
   "source": [
    "# Inhaltsübersicht\n",
    "\n",
    "- [Über Jupyter Notebooks](./jupyter_notebooks.ipynb)\n",
    "- [Grundlagen](./01-grundlagen/00-inhalt.ipynb)\n",
    "  - [Datentypen](01-grundlagen/01-datentypen.ipynb)\n",
    "  - [Variablen](01-grundlagen/02-variablen.ipynb)\n",
    "  - [Operatoren](01-grundlagen/03-operatoren.ipynb)\n",
    "  - [Strings](01-grundlagen/04-strings.ipynb)\n",
    "  - [Schleifen](01-grundlagen/05-schleifen.ipynb)\n",
    "  - [Dateien](01-grundlagen/06-dateien.ipynb)\n",
    "  - [Listen](01-grundlagen/07-listen.ipynb)\n",
    "  - [Bedingungen](01-grundlagen/08-bedingungen.ipynb)\n",
    "- [Datenstrukturen](./02-datenstrukturen/00-inhalt.ipynb)\n",
    "  - [2.1 Dictionaries](02-datenstrukturen/01-dictionaries.ipynb)\n",
    "  - [2.2 Sets](02-datenstrukturen/02-sets.ipynb)\n",
    "  - [2.3 Tuples](02-datenstrukturen/03-tuples.ipynb)\n",
    "  - [2.4 Sortieren](02-datenstrukturen/04-sortieren.ipynb)\n",
    "- [Funktionen](03-funktionen/00-inhalt.ipynb)\n",
    "  - [Funktionen](03-funktionen/01-funktionen_basics.ipynb)\n",
    "  - [Gültigkeitsbereiche](03-funktionen/02-funktionen_scopes.ipynb)\n",
    "- [Grundlagen plus](04-grundlagen-plus/00-inhalt.ipynb)\n",
    "  - [Ausnahmen](04-grundlagen-plus/01-ausnahmen.ipynb)\n",
    "  - [Module](04-grundlagen-plus/02-module.ipynb)\n",
    "  - [Existierende Module verwenden](04-grundlagen-plus/03-existierende_module.ipynb)\n",
    "  - [Virtuelle Umgebungen](04-grundlagen-plus/04-virtuelle_umgebungen.ipynb)\n",
    "- [Objekte](05-objekte/00-inhalt.ipynb)\n",
    "  - [Crashkurs Objektorientierung](03-objekte/objekte-kompakt.ipynb)\n",
    "  - [Vertieft](00-inhalt.ipynb)\n",
    "    - [Objektorientierte Programmierung 1: Grundlagen](05-objekte/vertieft/objekte_1.ipynb)\n",
    "    - [Objektorientiere Programmierung: Etwas Theorie](05-objekte/vertieft/objekte_2.ipynb)\n",
    "    - [Objektorientiere Programmierung: Vertiefung](05-objekte/vertieft/objekte_3.ipynb)\n",
    "- [Datenformate](06-datenformate/00-inhalt.ipynb)\n",
    "  - [Daten lesen und speichern](06-datenformate/01-daten_lesen_und_speichern.ipynb)\n",
    "  - [CSV](06-datenformate/csv.ipynb)\n",
    "  - [JSON](06-datenformate/json.ipynb)\n",
    "  - [XML](06-datenformate/xml.ipynb)\n",
    "- [Texte](07-texte/00-inhalt.ipynb)\n",
    "  - [Strings revisited](07-texte/01-strings_revisited.ipynb)\n",
    "  - [Reguläre Ausdrücke](07-texte/02-regex.ipynb)\n",
    "  - [Preprocessing für NLP](07-texte/03-preprocessing.ipynb)\n",
    "- [Pandas](08-pandas/00-inhalt.ipynb)\n",
    "  - [Grundlagen von Pandas](08-pandas/01-pandas_grundlagen.ipynb)\n",
    "  - [Das Series Objekt](08-pandas/02-series.ipynb)\n",
    "  - [Das DataFrame Objekt](08-pandas/03-dataframes.ipynb)\n",
    "  - [Statistik mit Pandas](08-pandas/04-statistische_auswertung.ipynb)\n",
    "  - [Diagramme zeichen](08-pandas/05-diagramme_zeichnen.ipynb)\n",
    "- [Exkurse](exkurse/00-inhalt.ipynb)\n",
    "  - [Grundlagen von Daten](exkurse/grundlagen_von_daten.ipynb)"
   ]
  }
 ],
 "metadata": {
  "kernelspec": {
   "display_name": "Python 3 (ipykernel)",
   "language": "python",
   "name": "python3"
  },
  "language_info": {
   "codemirror_mode": {
    "name": "ipython",
    "version": 3
   },
   "file_extension": ".py",
   "mimetype": "text/x-python",
   "name": "python",
   "nbconvert_exporter": "python",
   "pygments_lexer": "ipython3",
   "version": "3.9.6"
  }
 },
 "nbformat": 4,
 "nbformat_minor": 5
}
