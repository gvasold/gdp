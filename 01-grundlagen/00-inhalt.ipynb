{
 "cells": [
  {
   "cell_type": "markdown",
   "id": "8f829cd5-b79f-4d16-a13b-efd5ade07184",
   "metadata": {},
   "source": [
    "# Kapitel 1: Grundlagen\n",
    "\n",
    "Programmieren lernen lässt sich ein wenig mit dem Erlernen einer (Fremd)Sprache vergleichen: Ehe man sich sinnvoll verständigen kann, muss man sich die Grundlagen der Sprache aneignen. Beim Programmieren ist es auch so: Man muss zuerst zentrale Konzepte verstehen und parallel lernen, wie sich diese Konzepte in der jeweiligen Programmiersprache manifestieren. Erst danach sind wir in der Lage, etwas Sinnvolles zu programmieren. Genau diese ersten Schritte finden Sie hier in diesem Abschnitt:\n",
    "\n",
    "  1) Wir müssen verstehen, was [Datentypen](01-datentypen.ipynb),\n",
    "     [Variablen](02-variablen.ipynb) und [Operatoren](03-operatoren.ipynb) sind,\n",
    "     und wie diese zusammenhängen.\n",
    "  2) Danach werden wir uns mit einem häufig benötigten Datentyp beschäftigen:\n",
    "     [Strings](04-strings.ipynb). Diese *Zeichenketten* werden dazu gebraucht,\n",
    "     textuelle Daten zu verarbeiten. Da Text ein wesentliches Element in den Digitalen\n",
    "     Geisteswissenschaften ist, werden wir im zweiten Teile des Semesters noch einmal\n",
    "     ausführlicher darauf zurückkommen.\n",
    "  3) Beim Programmieren müssen wir bestimmte Vorgänge immer wieder ausführen: zum\n",
    "     Beispiel für jedes Zeichen einer Zeichenkette oder für jedes Element einer\n",
    "     Liste. Zu diesem Zweck gibt es [Schleifen](05-schleifen.ipynb), die zu den\n",
    "     *Kontrollstrukturen* gehören.\n",
    "  5) Da wir unsere Daten nicht nur verarbeiten, sondern häufig zuvor einlesen und\n",
    "     danach wieder abspeichern wollen, sehen wir uns an, wie wir beim Programmieren\n",
    "     mit [Dateien](06-dateien.ipynb) umgehen.\n",
    "  6) Dann lernen wir unsere erste *Datenstruktur* kennen: [Listen](07-listen.ipynb)\n",
    "     dienen dazu, eine Serie von Daten in einer bestimmten Reihenfolge abzulegen\n",
    "     und zu verwalten.\n",
    "  7) Zum Abschluss lernen wir eine weitere, sehr wichtige *Kontrollstruktur* kennen:\n",
    "     [Bedingungen](08-bedingungen.ipynb). Diese werden überall dort benötigt, wo\n",
    "     sich der Programmablauf verzweigen soll.\n",
    "     \n"
   ]
  },
  {
   "cell_type": "markdown",
   "id": "2d351e7a-5e5d-451d-9ff2-945704c75458",
   "metadata": {},
   "source": [
    "---\n",
    "\n",
    "<div style=\"text-align: center; margin-top:20pt;\">  \n",
    "  ← Vorheriges Kapitel\n",
    "  <span style=\"width: 100px;display: inline-block;\"> </span>\n",
    "    <a href=\"Pfad/zum/inhalt\">↑ Inhaltsübersicht</a>\n",
    "    <span style=\"width: 100px;display: inline-block;\"> </span>\n",
    "  <a href=\"../02-datenstrukturen.ipynb\">Nächstes Kapitel →</a>  \n",
    "</div> "
   ]
  }
 ],
 "metadata": {
  "kernelspec": {
   "display_name": "Python 3 (ipykernel)",
   "language": "python",
   "name": "python3"
  },
  "language_info": {
   "codemirror_mode": {
    "name": "ipython",
    "version": 3
   },
   "file_extension": ".py",
   "mimetype": "text/x-python",
   "name": "python",
   "nbconvert_exporter": "python",
   "pygments_lexer": "ipython3",
   "version": "3.13.7"
  }
 },
 "nbformat": 4,
 "nbformat_minor": 5
}
