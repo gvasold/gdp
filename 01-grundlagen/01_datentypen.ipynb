{
 "cells": [
  {
   "cell_type": "markdown",
   "metadata": {},
   "source": [
    "# Datentypen"
   ]
  },
  {
   "cell_type": "markdown",
   "metadata": {},
   "source": [
    "Programmieren ist nichts anderes als das Bearbeiten (Einlesen, Verarbeiten, Ausgeben) von Daten.\n",
    "\n",
    "Daten werden in einem Programm als einzelne *Werte* betrachtet. Werden Sie etwa von einem Programm aufgefordert, eine Zahl (oder eine Namen, eine E-Mailadresse oder was auch immer)  einzugeben, liest Ihr Programm die Tastatureingabe aus und legt das Eingegebene als *Wert* im Hauptspeicher (RAM) ab. Mit einem entsprechenden Befehl können Sie die Eingabe z.B. am Bildschirm ausgeben."
   ]
  },
  {
   "cell_type": "markdown",
   "metadata": {},
   "source": [
    "Führen Sie die nächste Code-Zelle (etwa durch Click auf das Run-Symbol in der Toolbar) aus. Keine Angst: Sie müssen jetzt noch nicht verstehen, was da genau passiert, das Beispiel dient nur zur Demonstration von Eingabe (Wie alt bist du?) -> Verarbeitung (Multipliziere die Jahre mit 365,25) -> Ausgabe (print) von Daten."
   ]
  },
  {
   "cell_type": "code",
   "execution_count": null,
   "metadata": {},
   "outputs": [],
   "source": [
    "age_years = int(input(\"Wie alt bist du (Jahre)? \"))  # input\n",
    "age_days = age_years * 365.25                        # computation\n",
    "print(\"Du bist ca. {} Tage alt.\".format(age_days))   # output"
   ]
  },
  {
   "cell_type": "markdown",
   "metadata": {},
   "source": [
    "## Jeder Wert hat einen Datentyp\n",
    "\n",
    "Jeder Wert in Python hat einen bestimmten Datentyp wie z.B. Zahl, Zeichenkette (Text) oder Uhrzeit. Der Datentyp wird davon bestimmt, wie der Wert eingegeben (bzw. verarbeitet) wurde. In Python ist es im Unterschied zu anderen Sprachen nicht nötig, den Typ explizit zu deklarieren, sondern Python erkennt den Typ automatisch.\n",
    "\n",
    "~~~\n",
    "1              # Datentyp int\n",
    "3.14           # Datentyp float\n",
    "'Hudri Wudri'  # Datentyp str\n",
    "True           # Datentyp bool\n",
    "~~~"
   ]
  },
  {
   "cell_type": "markdown",
   "metadata": {},
   "source": [
    "Die für den Einstieg wichtigsten Typen sind: `int`, `float`, `bool` und `str`.\n",
    "\n",
    "Wir können den Datentyp eines Wertes durch Aufruf der Funktion `type()` ermitteln. Führen Sie dazu die\n",
    "folgenden Codezellen aus:"
   ]
  },
  {
   "cell_type": "code",
   "execution_count": null,
   "metadata": {},
   "outputs": [],
   "source": [
    "type(1)"
   ]
  },
  {
   "cell_type": "code",
   "execution_count": null,
   "metadata": {},
   "outputs": [],
   "source": [
    "type(3.14)"
   ]
  },
  {
   "cell_type": "code",
   "execution_count": null,
   "metadata": {},
   "outputs": [],
   "source": [
    "type('Hudri Wudri')"
   ]
  },
  {
   "cell_type": "code",
   "execution_count": null,
   "metadata": {},
   "outputs": [],
   "source": [
    "type(True)"
   ]
  },
  {
   "cell_type": "markdown",
   "metadata": {},
   "source": [
    "Vorgriff: Da Python im Kern eine objektorientierte Sprache ist (alles ist ein Objekt im Sinne der objektorientierten Programmierung) gibt es potentiell beliebig viele Typen, weil selbstgeschriebene Klassen eigene Typen darstellen."
   ]
  },
  {
   "cell_type": "markdown",
   "metadata": {},
   "source": [
    "## Die numerischen Datentypen `int` und `float`\n",
    "\n",
    "Der Datentyp `int` (Integer) repräsentiert eine Ganzzahl, der Datentyp `float` eine Kommazahl (Gleitkommazahl: Float).\n",
    "Beiden Typen können im Prinzip beliebig groß werden, ihre Größe ist nur durch den vorhanden Hauptspeicher begrenzt."
   ]
  },
  {
   "cell_type": "code",
   "execution_count": null,
   "metadata": {},
   "outputs": [],
   "source": [
    "type(12345)"
   ]
  },
  {
   "cell_type": "code",
   "execution_count": null,
   "metadata": {},
   "outputs": [],
   "source": [
    "type(3.14)"
   ]
  },
  {
   "cell_type": "markdown",
   "metadata": {},
   "source": [
    "In Python gibt es mit `complex` einen dritten numerischen Datentyp für komplexe Zahlen. Da dieser in den Geisteswissenschaften normalerweise nicht benötigt wird, hier nur ein kurzes Beispiel, für Interessierte. Der Imaginärteil wird dabei durch ein angehängtes `j` gekennzeichnet."
   ]
  },
  {
   "cell_type": "code",
   "execution_count": null,
   "metadata": {},
   "outputs": [],
   "source": [
    "type(7 + 0.77j)"
   ]
  },
  {
   "cell_type": "markdown",
   "metadata": {},
   "source": [
    "## Der Datentyp `bool` (Boolean, Wahrheitswert)\n",
    "Dieser Datentyp kennt nur zwei Werte: `True` oder `False` (Achtung: Der Großbuchstabe am Beginn ist wichtig!)"
   ]
  },
  {
   "cell_type": "code",
   "execution_count": null,
   "metadata": {},
   "outputs": [],
   "source": [
    "type(True), type(False)"
   ]
  },
  {
   "cell_type": "markdown",
   "metadata": {},
   "source": [
    "## Der Datentyp `str` (String, Zeichenkette)\n",
    "\n",
    "Ein String ist eine Sequenz von einzelnen Zeichen. Wir werden später noch ausführlich auf diesen Datentyp eingehen. Deshalb hier nur in aller Kürze. String-Werte müssen in Anführungszeichen stehen (in Python ist es egal ob Sie einfache oder doppelte Anführungszeichen verwenden)."
   ]
  },
  {
   "cell_type": "code",
   "execution_count": null,
   "metadata": {},
   "outputs": [],
   "source": [
    "type('abc'), type(\"abc\")"
   ]
  },
  {
   "cell_type": "markdown",
   "metadata": {},
   "source": [
    "Da Strings entweder durch einfache oder doppelte Anführungszeichen begrenzt werden, kann man die jeweils anderen als normale Zeichen im String verwenden:"
   ]
  },
  {
   "cell_type": "code",
   "execution_count": null,
   "metadata": {},
   "outputs": [],
   "source": [
    "print('\"Das ist praktisch\", sagte er, \"weil man im String das jeweils andere Anführungszeichen verwenden kann.\"')"
   ]
  },
  {
   "cell_type": "markdown",
   "metadata": {},
   "source": [
    "### Lange Strings"
   ]
  },
  {
   "cell_type": "markdown",
   "metadata": {},
   "source": [
    "Manchmal muss man lange Strings erzeugen, die auch über mehrere Zeilen reichen können. Python bietet hier zwei elegante Möglchkeiten. Entweder man verwendet als Stringbegrenzer drei Anführungszeichen (egal ob doppelte oder einfache)"
   ]
  },
  {
   "cell_type": "code",
   "execution_count": null,
   "metadata": {},
   "outputs": [],
   "source": [
    "\"\"\"Das ist ein ziemlicher langer String, der \n",
    "über mehrere Zeilen reicht.\"\"\""
   ]
  },
  {
   "cell_type": "markdown",
   "metadata": {},
   "source": [
    "oder man klammert mehrere einzelne Strings:"
   ]
  },
  {
   "cell_type": "code",
   "execution_count": null,
   "metadata": {},
   "outputs": [],
   "source": [
    "('Das ist eine ziemlich langer String, der '\n",
    " 'über mehrere Zeilen reicht.')"
   ]
  },
  {
   "cell_type": "markdown",
   "metadata": {},
   "source": [
    "Strings haben keine Längenbegrenzung, d.h. ihre maxiale Länge ist nur durch den verfügbaren Hauptspeicher begrenzt. Es ist durchaus üblich, ganze Romane in einen String einzulesen."
   ]
  },
  {
   "cell_type": "markdown",
   "metadata": {},
   "source": [
    "### Escape-Sequenzen in Strings\n",
    "\n",
    "In Strings dient der Backslash (\\\\) als Escape-Zeichen, das die Bedeutung des unmittelbar darauf folgenden Zeichens verändert. Es gibt eine Reihe solcher Escape-Sequenzen, hier nur ein paar Beispiele:"
   ]
  },
  {
   "cell_type": "markdown",
   "metadata": {},
   "source": [
    "#### Die Escape-Sequenzen \\\\' und \\\\\""
   ]
  },
  {
   "cell_type": "markdown",
   "metadata": {},
   "source": [
    "`\\'` und `\\\"` können dazu verwendet werden, Anführungszeichen im String zu verwenden, wenn das entsprechende Anfürungszeichen bereits bereits zur Begrenzung des Strings verwendet wurde:"
   ]
  },
  {
   "cell_type": "code",
   "execution_count": null,
   "metadata": {},
   "outputs": [],
   "source": [
    "print(\"Sie sagte: \\\"Escape-Sequenzen sind manchmal recht nützlich\\\"\")"
   ]
  },
  {
   "cell_type": "markdown",
   "metadata": {},
   "source": [
    "#### Die Escape-Sequenz \\\\n"
   ]
  },
  {
   "cell_type": "markdown",
   "metadata": {},
   "source": [
    "Haben Sie jemals darüber nachgedacht, woher Ihr Computer weiß, dass in einem Text an einer bestimmten Stelle eine neue Zeile begonnen werden muss? Die Anwort ist simpel: Es gibt ein bestimmtes (normalerweise nicht dargestelltes) Zeichen, das nichts anderes bedeutet als: \"Mache hier einen Zeilenumbruch\". Dieses Zeichen (Linefeed, Codepoint 10) wird in Python (und vielen anderen Programmiersprachen) als `\\n` eingegeben. "
   ]
  },
  {
   "cell_type": "code",
   "execution_count": null,
   "metadata": {},
   "outputs": [],
   "source": [
    "print(\"Zeile 1\\nZeile 2\")"
   ]
  },
  {
   "cell_type": "markdown",
   "metadata": {},
   "source": [
    "Kleiner Exkurs: Windows verwendet als Zeilentrenner 2 Zeichen: ``\\n`` (linefeed; codepoint 10) und ``\\r`` (carriage return; codepoint 13).\n",
    "Ein Zeilenende unter Windows sieht daher typischerweise so aus:\n",
    "\n",
    "```\n",
    "Zeile1\\n\\rZeile2\n",
    "```\n",
    "Python 3 sorgt normalerweise -- abhängig vom Betriebssystem -- automatisch dafür, dass Zeilenumbrüche korrekt kodiert werden. Man wird also nicht mit diesem Unterschied behelligt. Wenn man ganz sicher gehen will, kann man ``os.linesep`` verwenden. "
   ]
  },
  {
   "cell_type": "markdown",
   "metadata": {},
   "source": [
    "#### Die Escape-Sequent \\\\t\n",
    "`\\t` steht für ein Tabulatorzeichen:"
   ]
  },
  {
   "cell_type": "code",
   "execution_count": null,
   "metadata": {},
   "outputs": [],
   "source": [
    "print('abd\\tefg')"
   ]
  },
  {
   "cell_type": "markdown",
   "metadata": {},
   "source": [
    "#### Den Backslash (\\\\) in einem String escapen\n",
    "Da das Backslash-Zeichen (`\\`) normalerweise eine Escape-Sequenz einleitet, muss man, wenn man in einem String das Backslash-Zeichen braucht, dieses durch ein zweites Backslash-Zeichen escapen:"
   ]
  },
  {
   "cell_type": "code",
   "execution_count": null,
   "metadata": {},
   "outputs": [],
   "source": [
    "print('Die Escape-Sequenz \\\\t steht für einen Tabulator')"
   ]
  },
  {
   "cell_type": "markdown",
   "metadata": {},
   "source": [
    "#### Direkte Eingabe eines Zeichens über seinen Unicode-Codepoint\n",
    "\n",
    "Zeichen, die nicht auf dem Keyboard vorhanden sind, können über ihren Unicode-Codepoint eingegeben werden (im Beispiel unten in Hexadezimalnotation). Die Codepoints finden Sie in den Unicode-Codetabellen, z.b. hier: https://home.unicode.org/ oder hier: https://codepoints.net/"
   ]
  },
  {
   "cell_type": "code",
   "execution_count": null,
   "metadata": {},
   "outputs": [],
   "source": [
    "print('Ein Sigma sieht so aus: \\u03A3')"
   ]
  },
  {
   "cell_type": "markdown",
   "metadata": {},
   "source": [
    "### Hinweise für erfahrene Programmierer\n",
    "* Python kennt keine Primitives\n",
    "* Sogar ganz einfache Typen wie `bool` oder `int` sind von Klassen abgeleitete Objekte\n",
    "* Typen sind in Python also nicht anderes als Klassen"
   ]
  },
  {
   "cell_type": "markdown",
   "metadata": {},
   "source": [
    "## Warum sind Typen wichtig?"
   ]
  },
  {
   "cell_type": "markdown",
   "metadata": {},
   "source": [
    "Der Datentyp legt fest, wie ein Wert intern repräsentiert wird.\n",
    "\n",
    "Aus ProgrammiererInnensicht am wichtigsten ist, was man mit bestimmten Datentypen machen kann und was nicht.\n",
    "Die Methode `upper()` des String-Typs z.B. wandelt alle Zeichen in Großbuchstaben um. "
   ]
  },
  {
   "cell_type": "code",
   "execution_count": null,
   "metadata": {},
   "outputs": [],
   "source": [
    "'abc'.upper()"
   ]
  },
  {
   "cell_type": "markdown",
   "metadata": {},
   "source": [
    "`upper()` in Zusammenhang mit Integern macht dagegen keinen Sinn und führt zu einem Error:"
   ]
  },
  {
   "cell_type": "code",
   "execution_count": null,
   "metadata": {},
   "outputs": [],
   "source": [
    "123.upper()"
   ]
  },
  {
   "cell_type": "markdown",
   "metadata": {},
   "source": [
    "Auch Operatoren (diese werden erst im nächsten Abschnitt behandelt, aber die Beispiele sollten dennoch nachvollziehbar sein) bewirken für unterschiedliche Datentypen Unterschiedliches:"
   ]
  },
  {
   "cell_type": "code",
   "execution_count": null,
   "metadata": {},
   "outputs": [],
   "source": [
    "1 + 1"
   ]
  },
  {
   "cell_type": "code",
   "execution_count": null,
   "metadata": {},
   "outputs": [],
   "source": [
    "'1' + '1' "
   ]
  },
  {
   "cell_type": "code",
   "execution_count": null,
   "metadata": {},
   "outputs": [],
   "source": [
    "'1' + 1 # führt zu TypeError"
   ]
  },
  {
   "cell_type": "markdown",
   "metadata": {},
   "source": [
    "## Typumwandlungen (Casts)\n",
    "Im letzten Beispiel haben wir gesehen, dass die Addition eines Strings mit einem Integer zu einem Fehler führt. Das können wir bei Bedarf umgehen, indem wir Python anweisen, eine Typumwandlung durchzuführen.\n"
   ]
  },
  {
   "cell_type": "code",
   "execution_count": null,
   "metadata": {},
   "outputs": [],
   "source": [
    "'1' + str(1)"
   ]
  },
  {
   "cell_type": "markdown",
   "metadata": {},
   "source": [
    "In diesem Beispiel haben wir Python angewiesen, den zweiten Wert (`1`) vom Datentyp `int` in einen String (`str`) umzuwandeln. Da dies vor Anwendung des Operators passiert, ist das Ergebnis `'11'`."
   ]
  },
  {
   "cell_type": "code",
   "execution_count": null,
   "metadata": {},
   "outputs": [],
   "source": [
    "int('1') + 1"
   ]
  },
  {
   "cell_type": "markdown",
   "metadata": {},
   "source": [
    "In diesem Beispiel haben wir Python angewiesen, den ersten Wert (`'1'`) zu einem Integer umzuwandeln. Der `+` Operator hat nun zwei Integer addiert: das Ergebnis ist `2`."
   ]
  },
  {
   "cell_type": "markdown",
   "metadata": {},
   "source": [
    "Natürlich kann man nicht beliebige Umwandlungen vornehmen. Einen nicht als Zahl interpretierbaren String in einen Integer umzuwandeln scheitert deshalb:"
   ]
  },
  {
   "cell_type": "code",
   "execution_count": null,
   "metadata": {},
   "outputs": [],
   "source": [
    "int('abc')"
   ]
  },
  {
   "cell_type": "markdown",
   "metadata": {},
   "source": [
    "Das gilt übrigens auch für Zahlwörter:"
   ]
  },
  {
   "cell_type": "code",
   "execution_count": null,
   "metadata": {},
   "outputs": [],
   "source": [
    "int('eins')"
   ]
  },
  {
   "cell_type": "markdown",
   "metadata": {},
   "source": [
    "## Vertiefende Literatur\n",
    "Ich empfehle ausdrücklich, mindestens eine der folgenden Ressourcen zur Vertiefung zu lesen. Da Datentypen, Variable und Operatoren oft zusammen abgehandelt werden, beziehen sich die Literaturhinweise teilweise auf alle drei dieser Themen.\n",
    "\n",
    "  * Python Tutorial: Kapitel 3 (3.1.1 und 3.2.1)\n",
    "    (http://docs.python.org/3/tutorial/introduction.html)\n",
    "  * Klein, Kurs:\n",
    "    * Datentypen und Variablen (http://python-kurs.eu/python3_variablen.php)\n",
    "  * Sweigart: https://automatetheboringstuff.com/2e/chapter1/    \n",
    "  \n",
    "  \n",
    "  * Klein, Buch: Kapitel 4\n",
    "  * Kofler: Kapitel 2.2\n",
    "  * Weigend: Kapitel 4 (4.1-4.9)\n",
    "  * Pilgrim: Kapitel 2 (2.1, 2.2, 2.3, 2.8) \n",
    "    (https://www.diveinto.org/python3/native-datatypes.html)\n",
    "  * Downey: Kapitel 2 (http://greenteapress.com/thinkpython/html/thinkpython003.html)"
   ]
  },
  {
   "cell_type": "markdown",
   "metadata": {},
   "source": [
    "## Lizenz\n",
    "\n",
    "This notebook ist part of the course [Grundlagen der Programmierung](https://github.com/gvasold/gdp) held by [Gunter Vasold](https://online.uni-graz.at/kfu_online/wbForschungsportal.cbShowPortal?pPersonNr=51488) at Graz University 2017&thinsp;ff. \n",
    "\n",
    "<p>\n",
    "    It is licensed under <a href=\"https://creativecommons.org/licenses/by-nc-sa/4.0\">CC BY-NC-SA 4.0</a>\n",
    "</p>\n",
    "\n",
    "<table>\n",
    "    <tr>\n",
    "    <td>\n",
    "        <img style=\"height:22px\" \n",
    "             src=\"https://mirrors.creativecommons.org/presskit/icons/cc.svg?ref=chooser-v1\"/></li>\n",
    "    </td>\n",
    "    <td>\n",
    "    <img style=\"height:22px;\"\n",
    "         src=\"https://mirrors.creativecommons.org/presskit/icons/by.svg?ref=chooser-v1\" /></li>\n",
    "    </td>\n",
    "    <td>\n",
    "        <img style=\"height:22px;\"\n",
    "         src=\"https://mirrors.creativecommons.org/presskit/icons/nc.svg?ref=chooser-v1\" /></li>\n",
    "    </td>\n",
    "    <td>\n",
    "        <img style=\"height:22px;\"\n",
    "             src=\"https://mirrors.creativecommons.org/presskit/icons/sa.svg?ref=chooser-v1\" /></li>\n",
    "    </td>\n",
    "</tr>\n",
    "</table>\n",
    "\n"
   ]
  }
 ],
 "metadata": {
  "kernelspec": {
   "display_name": "Python 3 (ipykernel)",
   "language": "python",
   "name": "python3"
  },
  "language_info": {
   "codemirror_mode": {
    "name": "ipython",
    "version": 3
   },
   "file_extension": ".py",
   "mimetype": "text/x-python",
   "name": "python",
   "nbconvert_exporter": "python",
   "pygments_lexer": "ipython3",
   "version": "3.10.6"
  }
 },
 "nbformat": 4,
 "nbformat_minor": 4
}
