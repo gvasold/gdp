{
 "cells": [
  {
   "cell_type": "markdown",
   "metadata": {},
   "source": [
    "# Variablen"
   ]
  },
  {
   "cell_type": "markdown",
   "metadata": {},
   "source": [
    "Variablen sind Namen für Werte. Eine Variable ist also ein Name (den wir selbst festlegen müssen), der auf einen bestimmten Wert zeigt. Damit bekommen wir die Möglichkeit, diesen Wert an unterschiedlichen Stellen im Programm über seinen Namen ansprechen zu können. Das ist praktisch, weil wir so einen Wert an einer Stelle erzeugen und an anderen Stellen damit arbeiten können."
   ]
  },
  {
   "cell_type": "markdown",
   "metadata": {},
   "source": [
    "## Zuweisen von Werten\n",
    "Einer Variable wird ein Wert mit dem Zuweisungsoperator `=` zugewiesen:"
   ]
  },
  {
   "cell_type": "code",
   "execution_count": null,
   "metadata": {},
   "outputs": [],
   "source": [
    "firstname = 'Gunter'"
   ]
  },
  {
   "cell_type": "markdown",
   "metadata": {},
   "source": [
    "Später im Programm können wir dann diese Variable verwenden, um auf den Wert zuzugreifen. Im folgenden Beispiel um ihn auszugeben:"
   ]
  },
  {
   "cell_type": "code",
   "execution_count": null,
   "metadata": {},
   "outputs": [],
   "source": [
    "print(firstname)"
   ]
  },
  {
   "cell_type": "markdown",
   "metadata": {},
   "source": [
    "**Hinweis zur Verwendung von print()**: Normalerweise müssen wir immer die `print()`-Funktion verwenden, wenn wir einen Wert am Bildschirm ausgeben wollen. In einem Jupyter Notebook aber, wie auch in anderen REPL-Shells, funktioniert das auch ohne das `print()`, weil hier immer das Ergebnis des letzten Ausdrucks oder der letzen Anweisung ausgegeben wird.  Um uns den Wert der Variable `firstname` ausgeben zu lassen, können wir in einem Notebook also einfach den Variablennamen ohne `print()` hinschreiben. Das funktioniert aber nur hier und nicht in normalen Programmen!\n",
    "\n",
    "Für alle, die es genau wissen wollen: REPL steht *Read-Eval-Print-Loop* und bezeichnet Programme, die direkte Interaktion, d.h. Anweisung für Anweisung) erlauben. In Python etwa in Form der Python-Konsole oder von IPython, das die Basis von Jupyter Notebooks bildet."
   ]
  },
  {
   "cell_type": "code",
   "execution_count": null,
   "metadata": {},
   "outputs": [],
   "source": [
    "firstname"
   ]
  },
  {
   "cell_type": "markdown",
   "metadata": {},
   "source": [
    "## Variablen sind variabel\n",
    "Wie der Name schon ausdrückt, kann einer Variablen zur Laufzeit beliebig oft ein neuer Wert zugewiesen werden. \n",
    "\n",
    "*Exkurs: Das gilt jedoch nicht für alle Programmiersprachen. Bei Sprachen wie XSLT bzw. nach dem funktionalen Paradigma (z.B. Haskell) kann einer Variable ein Wert nur einmal zugewiesen werden.*"
   ]
  },
  {
   "cell_type": "code",
   "execution_count": null,
   "metadata": {},
   "outputs": [],
   "source": [
    "firstname = 'Wolfgang Amadeus'\n",
    "print(firstname)\n",
    "firstname = 'Ludwig'\n",
    "print(firstname)"
   ]
  },
  {
   "cell_type": "markdown",
   "metadata": {},
   "source": [
    "Wir haben hier der Variable `firstname` zuerst den Wert `Wolfgang Amadeus` zugewiesen und später im Programm den neuen Wert `Ludwig`. Die Variable `firstname` zeigt ab diesem Zeitpunkt auf den neuen Wert. \n",
    "\n",
    "Was aber was passiert mit dem ursprünglichen Wert \"Wolfgang Amadeus\"? Dieser bleibt zunächst im Speicher vorhanden, wird aber von Python automatisch über einen Mechanismus, der \"Garbage Collection\" heißt, aufgeräumt. Etwas vereinfacht dargestellt entfernt Python Werte aus dem Speicher, wenn keine Referenzen auf diesen Wert mehr existieren, also z.B. wenn die zunächst darauf referenzierende Variable nun auf einen anderen Wert referenziert. Das ist sehr bequem, kostet aber auch etwas Rechenleistung. Bei andere Sprachen, wie etwa C, müssen ProgrammiererInnen selbst aufräumen (d.h. den belegten Speicher wieder freigeben); wenn darauf vergessen wird, kann das Probleme verursachen."
   ]
  },
  {
   "cell_type": "markdown",
   "metadata": {},
   "source": [
    "## Variablennamen"
   ]
  },
  {
   "cell_type": "markdown",
   "metadata": {},
   "source": [
    "Da wir Variablennamen selbst vergeben müssen bzw. können, sollten wir von Anfang an versuchen, gute Namen für unsere Variablen zu finden. Dazu ein paar Tipps:\n",
    "\n",
    "* Ein Variablenname sollte ein Nomen sein (`firstname`, `score`). Nur bei bool'schen Variablen (`True/False`) ist oft besser, einen Namen zu verwenden, der mit `is` oder `has` beginnt (z.B. `is_student`, `has_payed`).\n",
    "* Variablennamen sollten möglichst sprechend sein. Wenn Sie ihren Code in ein paar Wochen erneut verstehen müssen (um z.B. eine Fehler auszubessern), werden Sie dankbar sein, wenn eine Variable `firstname` statt `n1` (oder noch schlimmer: `x`) heißt.\n",
    "* Es ist sehr empfehlenswert englische Wörter als Variablennamen zu verwenden. Einzige Ausnahme von dieser Regel ist, wenn Sie zu 100% davon überzeugt sind, dass nie jemand anderer ihren Source Code sehen wird, was eigentlich nur für Skripte zutrifft, von denen Sie wissen, dass sie genau einmal laufen und dann wieder gelöscht werden. Auf den Punkt gebracht: Verwenden Sie von Anfang an englische Bezeichner! \n",
    "* Variablennamen sollten mit einem Kleinbuchstaben beginnen (`firstname` und nicht `Firstname`)"
   ]
  },
  {
   "cell_type": "markdown",
   "metadata": {},
   "source": [
    "### Schlangen oder Kamele? \n",
    "\n",
    "Zusammengesetzte Wörter sind meist gute (weil gut nachvollziehbare) Namen (`max_num_of_participants`). Hier haben sich zwei Möglichkeiten ausgebildet, um die Lesbarkeit solcher Namen zu verbessern:\n",
    "\n",
    "  * Snake-Style: `max_num_of_participants`. Diese Form wird vom offiziellen [Style Guide for Python Code](https://www.python.org/dev/peps/pep-0008/) empfohlen.\n",
    "  * CamelCase Style: `maxNumOfParticipants`. Diese Form wird von anderen Programmiersprachen (z.B. Java oder JavaScript) bevorzugt. \n",
    "  \n",
    "Welche Form sie verwenden, bleibt ihnen überlassen (oft wird das auch vom Projekt vorgegeben, wenn mehrere Personen beteiligt sind, damit der Code einheitlich bleibt). Wichtig ist nur, dass Sie sich konsistent daran halten. Ich würde dennoch vorschlagen, dass wir uns für die Übungen in diesem Kurs gemäß dem Python Style Guide an Snake-Style halten."
   ]
  },
  {
   "cell_type": "markdown",
   "metadata": {},
   "source": [
    "## Mehrere Variablen können auf denselben Wert zeigen\n",
    "\n",
    "Manchmal ist es nützlich, wenn zwei oder mehrer Variablen auf einen Wert zeigen."
   ]
  },
  {
   "cell_type": "code",
   "execution_count": null,
   "metadata": {},
   "outputs": [],
   "source": [
    "firstname = 'Wolfgang Amadeus'\n",
    "othername = firstname \n",
    "firstname, othername"
   ]
  },
  {
   "cell_type": "markdown",
   "metadata": {},
   "source": [
    "Wir können überprüfen, ob die beiden Variablen wirklich auf denselben Wert zeigen, indem wir die Funktion `id()` verwenden. Jedes Objekt (d.h. jeder Wert in Python) hat eine eindeutige Id, die mit der Funktion `id()` ausgelesen werden kann:"
   ]
  },
  {
   "cell_type": "code",
   "execution_count": null,
   "metadata": {},
   "outputs": [],
   "source": [
    "id(firstname), id(othername)"
   ]
  },
  {
   "cell_type": "markdown",
   "metadata": {},
   "source": [
    "Da die beiden ausgegebenen Ids identisch sind, zeigen also die beiden Variablen auf denselben Wert."
   ]
  },
  {
   "cell_type": "markdown",
   "metadata": {},
   "source": [
    "Weisen wir hingegen zweimal einen (und zwar denselben) Wert zu, zeigen die beiden Variablen auf unterschiedliche Objekte, d.h. zwei unterschiedliche Werte:"
   ]
  },
  {
   "cell_type": "code",
   "execution_count": null,
   "metadata": {},
   "outputs": [],
   "source": [
    "firstname = 'Wolfgang Amadeus'\n",
    "othername = 'Wolfgang Amadeus'\n",
    "id(firstname), id(othername)"
   ]
  },
  {
   "cell_type": "markdown",
   "metadata": {},
   "source": [
    "Einzige Ausnahme sind kleine Integer und Bool'sche Werte, die aus Optimierungsgründen als so genannte Singletons implementiert sind (was Sie aber zu diesem Zeitpunkt noch nicht belasten sollte):"
   ]
  },
  {
   "cell_type": "code",
   "execution_count": null,
   "metadata": {},
   "outputs": [],
   "source": [
    "first_score = 256\n",
    "final_score = 256\n",
    "id(first_score), id(final_score)"
   ]
  },
  {
   "cell_type": "code",
   "execution_count": null,
   "metadata": {},
   "outputs": [],
   "source": [
    "first_score = 257\n",
    "final_score = 257\n",
    "id(first_score), id(final_score)"
   ]
  },
  {
   "cell_type": "code",
   "execution_count": null,
   "metadata": {},
   "outputs": [],
   "source": [
    "is_known = True\n",
    "has_payed = True\n",
    "id(is_known), id(has_payed)"
   ]
  },
  {
   "cell_type": "markdown",
   "metadata": {},
   "source": [
    "## Variablen und Nicht-Werte"
   ]
  },
  {
   "cell_type": "markdown",
   "metadata": {},
   "source": [
    "Python kennt einen speziellen Datentyp `NoneType`, der genau einen Wert annehmen kann: `None`. "
   ]
  },
  {
   "cell_type": "code",
   "execution_count": null,
   "metadata": {},
   "outputs": [],
   "source": [
    "type(None)"
   ]
  },
  {
   "cell_type": "markdown",
   "metadata": {},
   "source": [
    "`None` ist ein Nicht-Wert, der überall dort verwendet wird, wo kein Wert vorhanden ist. Beispielsweise kann eine Variable zunächst mit dem Wert `None` initialisert werden und erst später im Programmablauf einen anderen Wert bekommen.\n",
    "Will man testen, ob der Wert einer Variable auf `None` steht, sollte man den `is`-Operator verwenden:"
   ]
  },
  {
   "cell_type": "code",
   "execution_count": null,
   "metadata": {},
   "outputs": [],
   "source": [
    "firstname = None   # Zuweisung\n",
    "firstname is None  # Vergleich"
   ]
  },
  {
   "cell_type": "markdown",
   "metadata": {},
   "source": [
    "## Variablen und Datentypen"
   ]
  },
  {
   "cell_type": "markdown",
   "metadata": {},
   "source": [
    "Weil Variablen (Namen) auf Werte mit bestimmten Datentypen zeigen, sagt man, dass eine Variable einen bestimmten Typ hat. `vorname` im Beispiel oben ist vom Typ `str`."
   ]
  },
  {
   "cell_type": "code",
   "execution_count": null,
   "metadata": {},
   "outputs": [],
   "source": [
    "vorname = 'Gunter'\n",
    "type(vorname)"
   ]
  },
  {
   "cell_type": "code",
   "execution_count": null,
   "metadata": {},
   "outputs": [],
   "source": [
    "grade = 2\n",
    "type(grade)"
   ]
  },
  {
   "cell_type": "markdown",
   "metadata": {},
   "source": [
    "### Python als dynamisch typisierte Sprache\n",
    "Anders als bei statisch typisierten Sprache wie C oder Java, wo man den Typ einer Variable beim Initialisieren angeben muss, und diese Variable den Datentyp während der gesamten Laufzeit des Programms beibehält, ist Python eine dynamisch typisierte Sprache. Das bedeutet, dass einer Variable zur Laufzeit ein neuer Wert mit einem anderen Datentyp zugewiesen werden kann."
   ]
  },
  {
   "cell_type": "code",
   "execution_count": null,
   "metadata": {},
   "outputs": [],
   "source": [
    "alter = 29\n",
    "print(alter, type(alter))\n",
    "alter = 'alt'\n",
    "print(alter, type(alter))"
   ]
  },
  {
   "cell_type": "markdown",
   "metadata": {},
   "source": [
    "### Python als stark typisierte Sprache\n",
    "Anders als bei schwach typisierten Sprachen wie z.B. JavaScript, wo sich der\n",
    "Typ eines Wertes zur Laufzeit ändern kann, behält in Python ein Wert während seiner\n",
    "Existenz immer denselben Datentyp. Deshalb spricht man von einer **stark aber\n",
    "dynamisch typisierten** Sprache."
   ]
  },
  {
   "cell_type": "markdown",
   "metadata": {},
   "source": [
    "### Auf Variablentyp testen\n",
    "Da Variablen (nicht Werte!) ihren Typ im Programmablauf ändern können, braucht es manchmal eine Möglichkeit zu testen, ob eine Variable einen bestimmten Typ hat.\n",
    "Dazu dient die Funktion `isistance()`: "
   ]
  },
  {
   "cell_type": "code",
   "execution_count": null,
   "metadata": {},
   "outputs": [],
   "source": [
    "alter = 29\n",
    "isinstance(alter, int)"
   ]
  },
  {
   "cell_type": "code",
   "execution_count": null,
   "metadata": {},
   "outputs": [],
   "source": [
    "isinstance(alter, str)"
   ]
  },
  {
   "cell_type": "markdown",
   "metadata": {},
   "source": [
    "## Vertiefende Literatur\n",
    "Ich empfehle ausdrücklich, mindestens eine der folgenden Ressourcen zur Vertiefung zu lesen. Da Datentypen, Variable und Operatoren oft zusammen abgehandelt werden, beziehen sich die Literaturhinweise teilweise auf alle drei dieser Themen.\n",
    "\n",
    "  * Python Tutorial: Kapitel 3 (3.1.1 und 3.2.1)\n",
    "    (http://docs.python.org/3/tutorial/introduction.html)\n",
    "  * Klein, Kurs:\n",
    "    * Datentypen und Variablen (http://python-kurs.eu/python3_variablen.php)\n",
    "  * Sweigart: https://automatetheboringstuff.com/2e/chapter1/ \n",
    "  \n",
    "  \n",
    "  * Klein, Buch: Kapitel 4\n",
    "  * Kofler: Kapitel 2.2 und 2.3\n",
    "  * Weigend: Kapitel 4 (4.1-4.9)\n",
    "  * Pilgrim: Kapitel 2 (2.1, 2.2, 2.3, 2.8) \n",
    "    (https://www.diveinto.org/python3/native-datatypes.html)\n",
    "  * Downey: Kapitel 2 (http://greenteapress.com/thinkpython/html/thinkpython003.html)"
   ]
  },
  {
   "cell_type": "markdown",
   "metadata": {},
   "source": [
    "## Lizenz\n",
    "\n",
    "\n",
    "This notebook ist part of the course [Grundlagen der Programmierung](https://github.com/gvasold/gdp) held by [Gunter Vasold](https://online.uni-graz.at/kfu_online/wbForschungsportal.cbShowPortal?pPersonNr=51488) at Graz University 2017&thinsp;ff. \n",
    "\n",
    "<p>\n",
    "    It is licensed under <a href=\"https://creativecommons.org/licenses/by-nc-sa/4.0\">CC BY-NC-SA 4.0</a>\n",
    "</p>\n",
    "\n",
    "<table>\n",
    "    <tr>\n",
    "    <td>\n",
    "        <img style=\"height:22px\" \n",
    "             src=\"https://mirrors.creativecommons.org/presskit/icons/cc.svg?ref=chooser-v1\"/></li>\n",
    "    </td>\n",
    "    <td>\n",
    "    <img style=\"height:22px;\"\n",
    "         src=\"https://mirrors.creativecommons.org/presskit/icons/by.svg?ref=chooser-v1\" /></li>\n",
    "    </td>\n",
    "    <td>\n",
    "        <img style=\"height:22px;\"\n",
    "         src=\"https://mirrors.creativecommons.org/presskit/icons/nc.svg?ref=chooser-v1\" /></li>\n",
    "    </td>\n",
    "    <td>\n",
    "        <img style=\"height:22px;\"\n",
    "             src=\"https://mirrors.creativecommons.org/presskit/icons/sa.svg?ref=chooser-v1\" /></li>\n",
    "    </td>\n",
    "</tr>\n",
    "</table>"
   ]
  }
 ],
 "metadata": {
  "kernelspec": {
   "display_name": "Python 3 (ipykernel)",
   "language": "python",
   "name": "python3"
  },
  "language_info": {
   "codemirror_mode": {
    "name": "ipython",
    "version": 3
   },
   "file_extension": ".py",
   "mimetype": "text/x-python",
   "name": "python",
   "nbconvert_exporter": "python",
   "pygments_lexer": "ipython3",
   "version": "3.10.6"
  }
 },
 "nbformat": 4,
 "nbformat_minor": 4
}
