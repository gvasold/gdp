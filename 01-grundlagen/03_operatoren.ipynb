{
 "cells": [
  {
   "cell_type": "markdown",
   "metadata": {},
   "source": [
    "# Operatoren"
   ]
  },
  {
   "cell_type": "markdown",
   "metadata": {},
   "source": [
    "Operatoren wenden Operationen auf Werte an. D.h. sie tun etwas mit einem oder mehreren Werten. Wir alle kennen Operatoren bereits aus der Volksschule: `1 + 1`."
   ]
  },
  {
   "cell_type": "markdown",
   "metadata": {},
   "source": [
    "## Mathematische Operatoren\n",
    "\n",
    "### Rechnen mit mathematischen Operatoren\n",
    "\n",
    "Python kennt natürlich die vier Grundrechnungsarten: \n",
    "\n",
    "* `+`: Addition\n",
    "* `-`: Subtraktion\n",
    "* `*`: Multiplikation\n",
    "* `/`: Division\n",
    "\n",
    "Darüber hinaus gibt es folgende mathematischen Operatoren:\n",
    "\n",
    "* `**`: Potenzierung (``2 ** 8`` steht also für 2 hoch 8)\n",
    "* `%`: Modulo (Rest einer Division: ``5 % 2`` ist 1)\n"
   ]
  },
  {
   "cell_type": "markdown",
   "metadata": {},
   "source": [
    "### Übungen"
   ]
  },
  {
   "cell_type": "markdown",
   "metadata": {},
   "source": [
    "<div class=\"alert alert-block alert-info\">\n",
    "<b>Übung OP-1</b>\n",
    "<p>\n",
    "Wie viel ist 3429 + 736 - 221?\n",
    "</p>\n",
    "</div>"
   ]
  },
  {
   "cell_type": "code",
   "execution_count": null,
   "metadata": {},
   "outputs": [],
   "source": []
  },
  {
   "cell_type": "markdown",
   "metadata": {},
   "source": [
    "<div class=\"alert alert-block alert-info\">\n",
    "<b>Übung OP-2</b>\n",
    "    \n",
    "<p>\n",
    "   Wie viel ist 43 plus 99 durch 5 mal 3? Versuchen Sie das Ergebnis zu ergründen. Versuchen Sie,  Teilausdrücke zu klammern.\n",
    "</p>\n",
    "</div>"
   ]
  },
  {
   "cell_type": "code",
   "execution_count": null,
   "metadata": {},
   "outputs": [],
   "source": []
  },
  {
   "cell_type": "markdown",
   "metadata": {},
   "source": [
    "<div class=\"alert alert-block alert-info\">\n",
    "    \n",
    "<b>Übung OP-3</b>\n",
    "<p>\n",
    "Versuchen Sie, durch Multiplikation oder Potenzierung eine richtig große Zahl zu erzeugen. (Achtung: Hohe Potenzen brauche viel Rechenzeit. Solange ein Sternchen neben der Code-Zelle sichtbar ist, ist Python am Rechnen. Zur Not können Sie die Operation durch eine der Auswahlmöglichkeiten unter dem Menüpunkt \"Kernel\" abbrechen.)\n",
    "</p>\n",
    "</div>    "
   ]
  },
  {
   "cell_type": "markdown",
   "metadata": {},
   "source": [
    "<div class=\"alert alert-block alert-info\">\n",
    "<b>Übung OP-4</b>\n",
    "<p>\n",
    "Wieviel bleibt Rest, wenn man 481 durch 17 dividiert?\n",
    "</p>"
   ]
  },
  {
   "cell_type": "code",
   "execution_count": null,
   "metadata": {},
   "outputs": [],
   "source": []
  },
  {
   "cell_type": "markdown",
   "metadata": {},
   "source": [
    "<div class=\"alert alert-block alert-info\">\n",
    "<b>Übung OP-5</b>\n",
    "<p>\n",
    "Was passiert, wenn man einen Floatwert zu einem Integerwert addiert? Welchen Datentyp hat das Ergebnis?\n",
    "</p>\n",
    "</div>"
   ]
  },
  {
   "cell_type": "code",
   "execution_count": null,
   "metadata": {},
   "outputs": [],
   "source": []
  },
  {
   "cell_type": "markdown",
   "metadata": {},
   "source": [
    "### Mathematische Operatoren und andere Datentypen\n",
    "Vor allem der `+` Operator kann in Python nicht nur für numerische Typen verwendet werden, sondern auch für viele andere Datentypen. Bei Strings beispielsweise wird der `+` Operator zum *Konkatenierungsoperator*: Er fügt zwei Strings zu einem längeren String zusammen:"
   ]
  },
  {
   "cell_type": "markdown",
   "metadata": {},
   "source": [
    "<div class=\"alert alert-block alert-info\">\n",
    "<b>Übung OP-6</b> \n",
    "<p>Konkatenieren Sie Ihren vollen Namen aus den einzelnen Teilnamen</p>\n",
    "</div>    "
   ]
  },
  {
   "cell_type": "code",
   "execution_count": null,
   "metadata": {},
   "outputs": [],
   "source": []
  },
  {
   "cell_type": "markdown",
   "metadata": {},
   "source": [
    "## Vergleichsoperatoren\n",
    "Vergleichsoperatoren werden dazu verwendet, zwei Werte miteinander zu vergleichen.\n",
    "\n",
    "Man kann z.B. testen, ob zwei Wert gleich sind. Der entsprechende Operator ist `==` (zwei Istgleich-Zeichen!). Jeder Vergleich liefert einen Wahrheitswert (also `True` oder `False`).\n",
    "\n",
    "~~~\n",
    "123 == 123\n",
    "True\n",
    "\n",
    "'Graz' == 'Wien'\n",
    "False\n",
    "~~~\n",
    "\n",
    "Natürlich kann man auch berechnete Werte miteinander vergleichen:\n",
    "\n",
    "~~~\n",
    "100 / 4 == 75 / 3\n",
    "~~~"
   ]
  },
  {
   "cell_type": "markdown",
   "metadata": {},
   "source": [
    "Python kennt eine Reihe von Vergleichsoperatoren:\n",
    "\n",
    "  * `==` liefert `True`, wenn die beiden Werte gleich sind\n",
    "  * `!=` liefert `True`, wenn die beiden Werte unterschiedlich sind\n",
    "  * `<` liefert `True`, wenn der linke Wert kleiner als der rechte Wert ist \n",
    "  * `<=` liefert `True`, wenn der linke Wert kleiner gleich dem rechten Wert ist \n",
    "  * `>` liefert `True`, wenn der linke Wert größer als der rechte Wert ist \n",
    "  * `>=` liefert `True`, wenn der linke Wert größer gleich dem rechten Wert ist "
   ]
  },
  {
   "cell_type": "markdown",
   "metadata": {},
   "source": [
    "<div class=\"alert alert-block alert-info\">\n",
    "<b>Übung OP 7</b>\n",
    "<p>Denken Sie für jeden der folgenden Ausdrücke zuerst nach, ob er True oder False liefert. Probieren Sie ihn dann direkt hier im Notebook aus!</p>\n",
    "</div>"
   ]
  },
  {
   "cell_type": "code",
   "execution_count": null,
   "metadata": {},
   "outputs": [],
   "source": [
    "'abc' != 'def'"
   ]
  },
  {
   "cell_type": "code",
   "execution_count": null,
   "metadata": {},
   "outputs": [],
   "source": [
    "'abc' == 'def'"
   ]
  },
  {
   "cell_type": "code",
   "execution_count": null,
   "metadata": {},
   "outputs": [],
   "source": [
    "5 > 4"
   ]
  },
  {
   "cell_type": "code",
   "execution_count": null,
   "metadata": {},
   "outputs": [],
   "source": [
    "7 <= 7"
   ]
  },
  {
   "cell_type": "code",
   "execution_count": null,
   "metadata": {},
   "outputs": [],
   "source": [
    "'a' < 'b'"
   ]
  },
  {
   "cell_type": "markdown",
   "metadata": {},
   "source": [
    "Falls sie wegen des letzten Beispiels verwirrt sind: In Python können `<`, `>`, `<=` und `>=` auch auf Strings angewendet werden. Dabei wird der lexikalische Werte herangezogen, weshalb `a` kleiner `b` ist. Versuchen Sie das ruhig auch einmal mit längeren Strings!"
   ]
  },
  {
   "cell_type": "markdown",
   "metadata": {},
   "source": [
    "<div class=\"alert alert-block alert-info\">\n",
    "<b>Übung OP 8</b>\n",
    "<p>Lässt sich 3459 ohne Rest durch 7 teilen? (Hinweis: eine Zahl ist durch eine andere Zahl teilbar, wenn bei der Division Rest 0 bleibt).</p>\n",
    "</div>    "
   ]
  },
  {
   "cell_type": "code",
   "execution_count": null,
   "metadata": {},
   "outputs": [],
   "source": []
  },
  {
   "cell_type": "markdown",
   "metadata": {},
   "source": [
    "### Test auf Objektidentität mit `is`\n",
    "Zusätzlich kann man auf Objektidentität testen. Die entsprechenden Operatoren sind ``is`` und ``is not``.\n",
    "Sie liefern nur ``True`` wenn beide Werte auf dasselbe Objekt zeigen. In der Praxis sollten diese beide Operatoren bevorzugt für diese Datentypen verwendet werden: `bool` und `None`, bzw. wenn wir testen wollen, ob zwei Variablen auf dasselbe Objekt zeigen."
   ]
  },
  {
   "cell_type": "code",
   "execution_count": null,
   "metadata": {},
   "outputs": [],
   "source": [
    "True is True"
   ]
  },
  {
   "cell_type": "code",
   "execution_count": null,
   "metadata": {},
   "outputs": [],
   "source": [
    "True is False"
   ]
  },
  {
   "cell_type": "code",
   "execution_count": null,
   "metadata": {},
   "outputs": [],
   "source": [
    "5 is None"
   ]
  },
  {
   "cell_type": "markdown",
   "metadata": {},
   "source": [
    "## Weitere Zuweisungsoperatoren\n",
    "\n",
    "Den Zuweisungsoperator `=` haben bereits bei den Variabalen kennen gelernt:\n",
    "\n",
    "~~~\n",
    "score = 77\n",
    "~~~\n",
    "\n",
    "Auf der rechten Seite können wir dabei auch einen Ausdruck verwenden:"
   ]
  },
  {
   "cell_type": "code",
   "execution_count": null,
   "metadata": {},
   "outputs": [],
   "source": [
    "score = 77 + 17\n",
    "print(score)"
   ]
  },
  {
   "cell_type": "markdown",
   "metadata": {},
   "source": [
    "Dabei ist selbstverständlich auch die Verwendung von Variablen möglich:"
   ]
  },
  {
   "cell_type": "code",
   "execution_count": null,
   "metadata": {},
   "outputs": [],
   "source": [
    "counter = 0\n",
    "counter = counter + 1\n",
    "print(counter)"
   ]
  },
  {
   "cell_type": "markdown",
   "metadata": {},
   "source": [
    "In Python gibt es dafür eine praktische Kurzschreibweise mit dem += Operator:"
   ]
  },
  {
   "cell_type": "code",
   "execution_count": null,
   "metadata": {},
   "outputs": [],
   "source": [
    "counter = 0\n",
    "counter += 1\n",
    "print(counter)"
   ]
  },
  {
   "cell_type": "markdown",
   "metadata": {},
   "source": [
    "Das funktioniert auch für `-` und weitere mathematische Operatoren wie z.B. den `*` Operator:"
   ]
  },
  {
   "cell_type": "code",
   "execution_count": null,
   "metadata": {},
   "outputs": [],
   "source": [
    "score = 99\n",
    "score -= 1\n",
    "print(score)"
   ]
  },
  {
   "cell_type": "code",
   "execution_count": null,
   "metadata": {},
   "outputs": [],
   "source": [
    "score = 2\n",
    "score *= 3\n",
    "score"
   ]
  },
  {
   "cell_type": "markdown",
   "metadata": {},
   "source": [
    "## Vertiefende Literatur\n",
    "Ich empfehle ausdrücklich, mindestens eine der folgenden Ressourcen zur Vertiefung zu lesen. Da Datentypen, Variable und Operatoren oft zusammen abgehandelt werden, beziehen sich die Literaturhinweise teilweise auf alle drei dieser Themen.\n",
    "\n",
    "  * Python Tutorial: Kapitel 3 (3.1.1 und 3.2.1)\n",
    "    (http://docs.python.org/3/tutorial/introduction.html)\n",
    "  * Klein, Kurs:\n",
    "    * Datentypen und Variablen (http://python-kurs.eu/python3_variablen.php)\n",
    "    * Operatoren (http://python-kurs.eu/python3_operatoren.php)\n",
    "  * Sweigart: https://automatetheboringstuff.com/2e/chapter1/      \n",
    "  \n",
    "  \n",
    "  * Klein, Buch: Kapitel 4\n",
    "  * Kofler: Kapitel 3.\n",
    "  * Weigend: Kapitel 4 (4.1-4.9)\n",
    "  * Pilgrim: Kapitel 2 (2.1, 2.2, 2.3, 2.8) \n",
    "    (https://www.diveinto.org/python3/native-datatypes.html)\n",
    "  * Downey: Kapitel 2 (http://greenteapress.com/thinkpython/html/thinkpython003.html)"
   ]
  },
  {
   "cell_type": "markdown",
   "metadata": {},
   "source": [
    "## Lizenz\n",
    "\n",
    "This notebook ist part of the course [Grundlagen der Programmierung](https://github.com/gvasold/gdp) held by [Gunter Vasold](https://online.uni-graz.at/kfu_online/wbForschungsportal.cbShowPortal?pPersonNr=51488) at Graz University 2017&thinsp;ff. \n",
    "\n",
    "<p>\n",
    "    It is licensed under <a href=\"https://creativecommons.org/licenses/by-nc-sa/4.0\">CC BY-NC-SA 4.0</a>\n",
    "</p>\n",
    "\n",
    "<table>\n",
    "    <tr>\n",
    "    <td>\n",
    "        <img style=\"height:22px\" \n",
    "             src=\"https://mirrors.creativecommons.org/presskit/icons/cc.svg?ref=chooser-v1\"/></li>\n",
    "    </td>\n",
    "    <td>\n",
    "    <img style=\"height:22px;\"\n",
    "         src=\"https://mirrors.creativecommons.org/presskit/icons/by.svg?ref=chooser-v1\" /></li>\n",
    "    </td>\n",
    "    <td>\n",
    "        <img style=\"height:22px;\"\n",
    "         src=\"https://mirrors.creativecommons.org/presskit/icons/nc.svg?ref=chooser-v1\" /></li>\n",
    "    </td>\n",
    "    <td>\n",
    "        <img style=\"height:22px;\"\n",
    "             src=\"https://mirrors.creativecommons.org/presskit/icons/sa.svg?ref=chooser-v1\" /></li>\n",
    "    </td>\n",
    "</tr>\n",
    "</table>\n",
    "\n"
   ]
  }
 ],
 "metadata": {
  "kernelspec": {
   "display_name": "Python 3 (ipykernel)",
   "language": "python",
   "name": "python3"
  },
  "language_info": {
   "codemirror_mode": {
    "name": "ipython",
    "version": 3
   },
   "file_extension": ".py",
   "mimetype": "text/x-python",
   "name": "python",
   "nbconvert_exporter": "python",
   "pygments_lexer": "ipython3",
   "version": "3.10.6"
  }
 },
 "nbformat": 4,
 "nbformat_minor": 4
}
