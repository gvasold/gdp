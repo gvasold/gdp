{
 "cells": [
  {
   "cell_type": "markdown",
   "metadata": {},
   "source": [
    "# Strings"
   ]
  },
  {
   "cell_type": "markdown",
   "metadata": {},
   "source": [
    "## Strings sind Sequenzen von Zeichen\n",
    "\n",
    "*Strings* oder *Zeichenketten* bestehen aus einzelnen Zeichen in einer bestimmten Abfolge. \n",
    "Python kennt eine Reihe solcher Datentypen, bei denen mehrere Elemente in einer bestimmten Abfolge gespeichert werden. Solche Datentypen werden als  *Sequenztypen* bezeichnet und können in Python alle auf ähnliche Weise verwenden werden. Viele Funktionen und Methoden, die wir in Zusammenhang mit Strings kennen lernen werden, lassen sich später auch auf andere Sequenztypen übertragen. Diese sind:\n",
    "\n",
    "* Strings\n",
    "* Bytes\n",
    "* Bytearrays\n",
    "* Listen\n",
    "* Tupel\n",
    "\n",
    "Manches ist aber auch auf andere Datenstrukturen wie Dictionaries oder Sets anwendbar."
   ]
  },
  {
   "cell_type": "markdown",
   "metadata": {},
   "source": [
    "Beginnen wir aber mit einem ersten Sequenztyp: den Strings.\n",
    "\n",
    "Strings sind Zeichenketten, also geordnete Abfolgen von Zeichen. \n",
    "\n",
    "![string1.png](img/string1.png)\n",
    "\n",
    "Ein String wird erzeugt, indem wir einen Wert in Anführungszeichen setzen (egal ob einfache oder doppelte):\n",
    "\n",
    "~~~\n",
    "name = \"Hudri Wudri\"\n",
    "name = 'Hudri Wudri'\n",
    "~~~\n",
    "\n",
    "Das und weitere Grundlagen zu Strings haben wir ja bereits im Notebook zu den Datentypen kennen gelernt."
   ]
  },
  {
   "cell_type": "markdown",
   "metadata": {},
   "source": [
    "### Die Länge der Sequenz ermitteln\n",
    "Die Zahl der Element in der Sequenz (also die Zahl der Zeichen im String) kann mit der Funktion `len()` ermittelt werden:"
   ]
  },
  {
   "cell_type": "code",
   "execution_count": null,
   "metadata": {},
   "outputs": [],
   "source": [
    "sentence = 'Ein String ist eine Zeichenkette.'\n",
    "len(sentence)"
   ]
  },
  {
   "cell_type": "markdown",
   "metadata": {},
   "source": [
    "### Adressierung einzelner Elemente\n",
    "Jedes Element in der Sequenz kann einzeln über seine Position addressiert werden:\n",
    "\n",
    "![String2.png](img/string2.png)\n",
    "\n",
    "Dabei ist zu beachten, dass das erste Element der Sequenz den Index 0 hat!"
   ]
  },
  {
   "cell_type": "code",
   "execution_count": null,
   "metadata": {},
   "outputs": [],
   "source": [
    "# Für die folgenden Beispiele ist ein kurzer String übersichtlicher\n",
    "sentence = \"Ein String\"\n",
    "sentence[0]"
   ]
  },
  {
   "cell_type": "markdown",
   "metadata": {},
   "source": [
    "<div class=\"alert alert-block alert-info\">\n",
    "<b>Übung Str-1</b>\n",
    "    \n",
    "Versuchen Sie in der Code-Zelle oben weitere Zeichen aus dem String zu adressieren. Lassen Sie sich z.B. das Element mit dem Index 3 ausgeben. Sie werden sehen, dass ein Leerzeichen ein ganz normales Zeichen im String ist.\n",
    "</div>"
   ]
  },
  {
   "cell_type": "code",
   "execution_count": null,
   "metadata": {},
   "outputs": [],
   "source": []
  },
  {
   "cell_type": "markdown",
   "metadata": {},
   "source": [
    "<div class=\"alert alert-block alert-info\">\n",
    "<b>Übung Str-2</b>\n",
    "    \n",
    "Was passiert, wenn ich auf `sentence[10]`, also auf ein nicht existierendes Zeichen zugreife?\n",
    "</div>"
   ]
  },
  {
   "cell_type": "code",
   "execution_count": null,
   "metadata": {},
   "outputs": [],
   "source": []
  },
  {
   "cell_type": "markdown",
   "metadata": {},
   "source": [
    "### Negative Index-Zahlen\n",
    "Python hat ein nettes Feature, das inzwischen auch von anderen Sprachen übernommen wurde: Man kann mit negativen Index-Zahlen sich in der Sequenz von rechts nach links bewegen. `-1` ist dabei das letzte Element,\n",
    "`-2` das vorletzte usw.\n",
    "\n",
    "![String2.png](img/string3.png)"
   ]
  },
  {
   "cell_type": "code",
   "execution_count": null,
   "metadata": {},
   "outputs": [],
   "source": [
    "sentence[-1]"
   ]
  },
  {
   "cell_type": "markdown",
   "metadata": {},
   "source": [
    "Ohne die negative Indizierung müssten wir immer zuerst die Länge des Strings ermitteln und von diesem Wert ausgehend den Index des letzten Elements berechnen:"
   ]
  },
  {
   "cell_type": "code",
   "execution_count": null,
   "metadata": {},
   "outputs": [],
   "source": [
    "sentence[len(sentence)-1]"
   ]
  },
  {
   "cell_type": "markdown",
   "metadata": {},
   "source": [
    "Sie werden mir vermutlich zustimmen, dass ``sentence[-1]`` einfacher zu verwenden ist."
   ]
  },
  {
   "cell_type": "markdown",
   "metadata": {},
   "source": [
    "<div class=\"alert alert-block alert-info\">\n",
    "<b>Übung Str-3</b>\n",
    "<p>\n",
    "Experimentieren Sie mit verschiendenen Index-Werten\n",
    "</p>\n",
    "</div>"
   ]
  },
  {
   "cell_type": "code",
   "execution_count": null,
   "metadata": {},
   "outputs": [],
   "source": []
  },
  {
   "cell_type": "markdown",
   "metadata": {},
   "source": [
    "### Slicing: Herausschneiden eines Substrings\n",
    "Durch Angabe zweier, durch einen Doppelpunkt getrennter Werte (Index des ersten herauszuschneidenden und des ersten nicht mehr herauszuschneidenden Elements) kann man aus einem String einen Teilstring extrahieren:\n",
    "\n",
    "![string4.png](img/string4.png)"
   ]
  },
  {
   "cell_type": "code",
   "execution_count": null,
   "metadata": {},
   "outputs": [],
   "source": [
    "sentence[0:3]"
   ]
  },
  {
   "cell_type": "markdown",
   "metadata": {},
   "source": [
    "Ist der erste Wert `0`, kann dieser weggelassen werden:"
   ]
  },
  {
   "cell_type": "code",
   "execution_count": null,
   "metadata": {},
   "outputs": [],
   "source": [
    "sentence[:3]"
   ]
  },
  {
   "cell_type": "markdown",
   "metadata": {},
   "source": [
    "Wird der zweite Wert weggelassen, ist das gleichbedeutend mit \"bis zum Ende des Strings\":"
   ]
  },
  {
   "cell_type": "code",
   "execution_count": null,
   "metadata": {},
   "outputs": [],
   "source": [
    "sentence[3:]"
   ]
  },
  {
   "cell_type": "markdown",
   "metadata": {},
   "source": [
    "<div class=\"alert alert-block alert-info\">\n",
    "<b>Übung Str-4</b>\n",
    "    \n",
    "<p>\n",
    "Slicen Sie <tt>sentence</tt> so, dass als Ergebnis <tt>Stri</tt> herauskommt.\n",
    "</p>\n",
    "</div>"
   ]
  },
  {
   "cell_type": "code",
   "execution_count": null,
   "metadata": {},
   "outputs": [],
   "source": []
  },
  {
   "cell_type": "markdown",
   "metadata": {},
   "source": [
    "Slicing funktioniert auch mit negativen Index-Werten:"
   ]
  },
  {
   "cell_type": "code",
   "execution_count": null,
   "metadata": {},
   "outputs": [],
   "source": [
    "sentence[-4:-1]"
   ]
  },
  {
   "cell_type": "code",
   "execution_count": null,
   "metadata": {},
   "outputs": [],
   "source": [
    "sentence[-4:]"
   ]
  },
  {
   "cell_type": "markdown",
   "metadata": {},
   "source": [
    "<div class=\"alert alert-block alert-info\">\n",
    "<b>Übung Str-5</b>\n",
    "    \n",
    "<p>Slicen Sie <tt>sentence</tt> so, dass als Ergebnis <tt>Stri</tt> herauskommt. Verwenden Sie dazu negative Index-Werte.</p>\n",
    "</div>"
   ]
  },
  {
   "cell_type": "code",
   "execution_count": null,
   "metadata": {},
   "outputs": [],
   "source": []
  },
  {
   "cell_type": "markdown",
   "metadata": {},
   "source": [
    "Innerhalb der eckigen Klammern kann noch ein dritter numerischer Wert stehen, der die Schrittweite festlegt:"
   ]
  },
  {
   "cell_type": "code",
   "execution_count": null,
   "metadata": {},
   "outputs": [],
   "source": [
    "print(sentence)\n",
    "sentence[0:8:2]"
   ]
  },
  {
   "cell_type": "markdown",
   "metadata": {},
   "source": [
    "Steht der dritte Wert auf `2`, so wir nur jedes zweite Zeichen berücksichtigt, bei `3` nur jedes dritte Zeichen usw."
   ]
  },
  {
   "cell_type": "markdown",
   "metadata": {},
   "source": [
    "Dieser dritte Wert kann auch negativ sein, wodurch die Richtung umgedreht wird. Damit kann man sehr einfach einen String \"umdrehen\":"
   ]
  },
  {
   "cell_type": "code",
   "execution_count": null,
   "metadata": {},
   "outputs": [],
   "source": [
    "sentence[::-1]"
   ]
  },
  {
   "cell_type": "markdown",
   "metadata": {},
   "source": [
    "## Strings sind unveränderbar\n",
    "\n",
    "Im Gegensatz zu anderen Datentypen, die wir etwas später kennenlernen werden, kann man einen einmal erzeugten String nachträglich nicht mehr verändern. Jeder Veränderung führt zu einem neuen String-Objekt mit einer neuen Id."
   ]
  },
  {
   "cell_type": "code",
   "execution_count": null,
   "metadata": {},
   "outputs": [],
   "source": [
    "mystring = 'foo'\n",
    "print(id(mystring))\n",
    "mystring = 'bar'\n",
    "print(id(mystring))"
   ]
  },
  {
   "cell_type": "markdown",
   "metadata": {},
   "source": [
    "Auch das Hinzufügen z.B. eines Zeichens führt zu einem neuen Objekt:"
   ]
  },
  {
   "cell_type": "code",
   "execution_count": null,
   "metadata": {},
   "outputs": [],
   "source": [
    "mystring = 'foo'\n",
    "print(id(mystring))\n",
    "mystring = mystring + 'x'\n",
    "print(id(mystring))"
   ]
  },
  {
   "cell_type": "markdown",
   "metadata": {},
   "source": [
    "## Stringmethoden\n",
    "\n",
    "Der Datentyp String (``str``) stellt eine Reihe von Methoden (also Funktionalitäten, die auf den String angewendet werden können) zur Verfügung. Wie wir im Abschnitt zur Objektorientierung noch lernen werden, sind Methoden an ein Objekt gebundene Funktionen. Vorerst müssen wir nur wissen wie man Methoden aufruft: Man hängt -- durch einen Punkt getrennt -- den Namen der Funktion an den Wert (oder die auf den Wert verweisende Variable). Hier ein simples Beispiel:"
   ]
  },
  {
   "cell_type": "code",
   "execution_count": null,
   "metadata": {},
   "outputs": [],
   "source": [
    "'abc'.upper()"
   ]
  },
  {
   "cell_type": "markdown",
   "metadata": {},
   "source": [
    "### upper() und lower()\n",
    "\n",
    "Diese beiden Methoden erzeugen einen neuen String, bei dem alle Zeichen des ursprünglichen Strings in Groß- bzw. Kleinbuchstaben umgewandelt sind."
   ]
  },
  {
   "cell_type": "code",
   "execution_count": null,
   "metadata": {},
   "outputs": [],
   "source": [
    "sentence = 'Ich bin ein String'\n",
    "print(sentence.upper())\n",
    "print(sentence.lower())"
   ]
  },
  {
   "cell_type": "markdown",
   "metadata": {},
   "source": [
    "### replace()\n",
    "\n",
    "Die `replace`-Methode eines String-Objekts ersetzt alle Vorkommen eines Zeichens (oder eines Substrings) durch ein anderes Zeichen (oder einen anderen Substring). Dazu wird zuerst der zu ersetzende Teilstring angegeben, und dann die Ersetzung: "
   ]
  },
  {
   "cell_type": "code",
   "execution_count": null,
   "metadata": {},
   "outputs": [],
   "source": [
    "sentence = 'Ich bin ein String'\n",
    "sentence.replace('i', 'y')"
   ]
  },
  {
   "cell_type": "code",
   "execution_count": null,
   "metadata": {},
   "outputs": [],
   "source": [
    "'Ich bin ein String'.replace('ein String', 'eine Zeichenkette')"
   ]
  },
  {
   "cell_type": "markdown",
   "metadata": {},
   "source": [
    "### find()\n",
    "\n",
    "Die Methode find()  liefert die Position (Index) des ersten gefundenen Vorkommens des gesuchten Zeichens im String."
   ]
  },
  {
   "cell_type": "code",
   "execution_count": null,
   "metadata": {},
   "outputs": [],
   "source": [
    "sentence = 'Ich bin ein String'\n",
    "sentence.find('I')"
   ]
  },
  {
   "cell_type": "markdown",
   "metadata": {},
   "source": [
    "`find()` funktioniert auch mit mehr als einem Zeichen:"
   ]
  },
  {
   "cell_type": "code",
   "execution_count": null,
   "metadata": {},
   "outputs": [],
   "source": [
    "sentence.find('bin')"
   ]
  },
  {
   "cell_type": "markdown",
   "metadata": {},
   "source": [
    "Wir das gesuchte Zeichen oder die gesuchte Zeichenkette nicht gefunden, liefert `find()` `-1` zurück:"
   ]
  },
  {
   "cell_type": "code",
   "execution_count": null,
   "metadata": {},
   "outputs": [],
   "source": [
    "sentence.find('y')"
   ]
  },
  {
   "cell_type": "markdown",
   "metadata": {},
   "source": [
    "Der Datentyp `str` kennt noch viele weitere Methoden, die wir nach und nach kennen lernen werden."
   ]
  },
  {
   "cell_type": "markdown",
   "metadata": {},
   "source": [
    "## String Formatting / String Templates\n",
    "Bis jetzt haben wir, wenn wir mehr als einen Wert ausgeben wollten, die beiden Werte durch ein Komma getrennt in die `print()`-Funktion geschrieben:\n",
    "\n",
    "~~~\n",
    "print('foo', 'bar')\n",
    "~~~\n",
    "\n",
    "Das ist ein ziemlich mieser Trick (wir haben in Wirklichkeit ein Tupel erzeugt und dieses ausgegeben). Normalerweise sollte man für solche Fälle eine der im Folgenden vorgestellten Methoden verwenden.\n",
    "\n",
    "Python kennt mehrere Arten, Variablen oder Ausdrücke in einen String einzubauen."
   ]
  },
  {
   "cell_type": "markdown",
   "metadata": {},
   "source": [
    "### f-Strings\n",
    "Eine relativ neue, aber empfohlene Art, Strings zu formatieren, stellen seit Python 3.6 so genannte f-Strings (*formatted string literals*) dar. (Die Beispiele funktionieren deshalb nur, wenn Sie mindestens Python Version 3.6 installiert haben.) Die große Neuerung dabei ist, dass die Variablen oder Ausdrücke direkt an Ort und Stelle in die geschweiften Klammern geschrieben werden können. f-Strings werden durch ein vorangestelltes `f` gekennzeichnet."
   ]
  },
  {
   "cell_type": "code",
   "execution_count": null,
   "metadata": {},
   "outputs": [],
   "source": [
    "name = input('Gib deinen Namen ein: ')\n",
    "age = int(input('Gib dein Alter ein: '))\n",
    "print(f'Hallo {name}. Du bist ca. {age * 365.25} Tage alt.')"
   ]
  },
  {
   "cell_type": "markdown",
   "metadata": {
    "tags": []
   },
   "source": [
    "Die Ausgabe kann bis zu einem gewissen Grad formatiert werden:"
   ]
  },
  {
   "cell_type": "code",
   "execution_count": null,
   "metadata": {
    "tags": []
   },
   "outputs": [],
   "source": [
    "print(f'Hallo {name}. Du bist ca. {age * 365.25:.2f} Tage alt.')"
   ]
  },
  {
   "cell_type": "markdown",
   "metadata": {},
   "source": [
    "Eine sehr genauer Beschreibung von f-Strings finden sie unter https://docs.python.org/3/reference/lexical_analysis.html#f-strings. Da diese aber für Anfänger möglicherweise zu formal gehalten ist, sollten Sie nach 'python f-string' googlen. Sie werden eine Reihe einfache Einführungen finden."
   ]
  },
  {
   "cell_type": "markdown",
   "metadata": {},
   "source": [
    "### format()\n",
    "Eine etwas ältere, aber dennoch viel verwendete Art des String Formattings ist die String-Methode `format()`. Sie wird seit Python 3.2 unterstützt. Dabei werden in der einfachsten Form jedes Paar geschwungener Klammern durch einen Wert in der Reihenfolge der Argumente von `format()` ersetzt:"
   ]
  },
  {
   "cell_type": "markdown",
   "metadata": {},
   "source": [
    "Die Parameter der ``format()``-Methode können sein:\n",
    "\n",
    "* Literale: ``\"=> {}\".format(\"Hudri Wudri\")``  # Literale machen hier nicht wirklich Sinn\n",
    "* Variable: ``\"=> {}\".format(name)``\n",
    "* Ausdrücke: ``\"=> {}\".format(age * 365.25)``"
   ]
  },
  {
   "cell_type": "markdown",
   "metadata": {},
   "source": [
    "Die Ausgabe kann auch formatiert werden, hier etwa legen wir fest, dass die Fließkommazahl mit zwei Kommastellen ausgegeben werden soll:"
   ]
  },
  {
   "cell_type": "code",
   "execution_count": null,
   "metadata": {},
   "outputs": [],
   "source": [
    "print(\"Hallo {}! Du bist ca. {:.2f} Tage alt.\".format(name, age * 365.25))"
   ]
  },
  {
   "cell_type": "markdown",
   "metadata": {},
   "source": [
    "Bei Bedarf finden sie alle Formatierungsmöglichkeiten hier: https://docs.python.org/3/library/string.html#formatstrings"
   ]
  },
  {
   "cell_type": "markdown",
   "metadata": {},
   "source": [
    "### Formatierung über den %-Operator\n",
    "\n",
    "Die älteste Art des String Formatting funktioniert, wie in anderen Sprachen auch, über den `%`-Operator. Diese Art ist noch weit verbreitet, wird aber nicht mehr empfohlen.\n",
    "`%s` steht dabei als Platzhalter für einen String, `%d` als Platzhalter für einen Integer und `%f` für einen Float:"
   ]
  },
  {
   "cell_type": "code",
   "execution_count": null,
   "metadata": {},
   "outputs": [],
   "source": [
    "print('Hallo %s! Du bist ca. %f Tage alt!' % (name, age * 365.25))"
   ]
  },
  {
   "cell_type": "markdown",
   "metadata": {},
   "source": [
    "<div class=\"alert alert-block alert-info\">    \n",
    "<b>Übung Str-6</b>    \n",
    "\n",
    "<p>Schreiben Sie ein Programm, das\n",
    "<ol>\n",
    "<li>Zur Eingabe eines Namens auffordert</li>\n",
    "<li>Diese Eingabe einer Variable zuweist</li>\n",
    "<li>Folgende Ausgabe produziert:\n",
    "<pre>\n",
    "Dein Name ist XYZ und besteht aus n Zeichen. \n",
    "Er beginnt mit X und endet mit Z. \n",
    "Von hinten gelesen lautet er ZYX.\n",
    "</pre>\n",
    "</p>\n",
    "</div>"
   ]
  },
  {
   "cell_type": "code",
   "execution_count": null,
   "metadata": {},
   "outputs": [],
   "source": []
  },
  {
   "cell_type": "markdown",
   "metadata": {},
   "source": [
    "## Vertiefende Literatur\n",
    "Ich empfehle ausdrücklich, mindestens eine der folgenden Ressourcen zur Vertiefung zu lesen!\n",
    "\n",
    "  * Python Standard Library: Kapitel 4.7.1\n",
    "\t(https://docs.python.org/3/library/stdtypes.html#text-sequence-type-str).\n",
    "  * Kein, Kurs: \n",
    "    (https://python-kurs.eu/python3_sequentielle_datentypen.php).\n",
    "  * Sweigart: https://automatetheboringstuff.com/2e/chapter1/; vertiefend https://automatetheboringstuff.com/2e/chapter6/  \n",
    "    \n",
    "    \n",
    "  * Klein, Buch: Kapitel 17.  \n",
    "  * Kofler: Kapitel 5.\n",
    "  * Weigend: Kapitel 13.1 und 13.3.\n",
    "  * Pilgrim: Kapitel 4 (v.a. 4.4. und 4.5.)\n",
    "\t(http://www.diveintopython3.net/strings.html).\n",
    "  * Downey: Kapitel 8.8\n",
    "    (http://www.greenteapress.com/thinkpython/html/thinkpython009.html\\#toc93).\n",
    "  * Sweigart: Kapitel 6"
   ]
  },
  {
   "cell_type": "markdown",
   "metadata": {},
   "source": [
    "## Lizenz\n",
    "\n",
    "This notebook ist part of the course [Grundlagen der Programmierung](https://github.com/gvasold/gdp) held by [Gunter Vasold](https://online.uni-graz.at/kfu_online/wbForschungsportal.cbShowPortal?pPersonNr=51488) at Graz University 2017&thinsp;ff. \n",
    "\n",
    "<p>\n",
    "    It is licensed under <a href=\"https://creativecommons.org/licenses/by-nc-sa/4.0\">CC BY-NC-SA 4.0</a>\n",
    "</p>\n",
    "\n",
    "<table>\n",
    "    <tr>\n",
    "    <td>\n",
    "        <img style=\"height:22px\" \n",
    "             src=\"https://mirrors.creativecommons.org/presskit/icons/cc.svg?ref=chooser-v1\"/></li>\n",
    "    </td>\n",
    "    <td>\n",
    "    <img style=\"height:22px;\"\n",
    "         src=\"https://mirrors.creativecommons.org/presskit/icons/by.svg?ref=chooser-v1\" /></li>\n",
    "    </td>\n",
    "    <td>\n",
    "        <img style=\"height:22px;\"\n",
    "         src=\"https://mirrors.creativecommons.org/presskit/icons/nc.svg?ref=chooser-v1\" /></li>\n",
    "    </td>\n",
    "    <td>\n",
    "        <img style=\"height:22px;\"\n",
    "             src=\"https://mirrors.creativecommons.org/presskit/icons/sa.svg?ref=chooser-v1\" /></li>\n",
    "    </td>\n",
    "</tr>\n",
    "</table>"
   ]
  }
 ],
 "metadata": {
  "kernelspec": {
   "display_name": "Python 3 (ipykernel)",
   "language": "python",
   "name": "python3"
  },
  "language_info": {
   "codemirror_mode": {
    "name": "ipython",
    "version": 3
   },
   "file_extension": ".py",
   "mimetype": "text/x-python",
   "name": "python",
   "nbconvert_exporter": "python",
   "pygments_lexer": "ipython3",
   "version": "3.10.6"
  }
 },
 "nbformat": 4,
 "nbformat_minor": 4
}
