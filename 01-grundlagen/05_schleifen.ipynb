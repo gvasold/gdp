{
 "cells": [
  {
   "cell_type": "markdown",
   "metadata": {},
   "source": [
    "# Schleifen\n",
    "Beim Programmieren müssen häufig eine oder mehrere Anweisung wiederholt werden, beispielsweise für jedes Element einer Sequenz (z.B. für jedes Zeichen eines Strings). Für diesen Zweck ist die `for`-Schleife bestens geeignet."
   ]
  },
  {
   "cell_type": "markdown",
   "metadata": {},
   "source": [
    "## Die for-Schleife\n",
    "\n",
    "Die `for` Schleife geht Element für Element durch einen aus mehreren Elementen bestehenden Datentyp durch und wendet den im *Schleifenkörper* stehenden Code auf jedes Element an. Die Schleife wird automatisch beendet, wenn keine weiteren Elemente mehr vorhanden sind. \n",
    "\n",
    "Im folgenden Beispiel geben wir in einer `for`-Schleife jedes Zeichen eines Strings der Reihe nach aus. Nach dem letzten Zeichen beendet sich die Schleife."
   ]
  },
  {
   "cell_type": "code",
   "execution_count": null,
   "metadata": {},
   "outputs": [],
   "source": [
    "sentence = \"Ich bin ein Satz.\"\n",
    "for char in sentence:\n",
    "    print(char)"
   ]
  },
  {
   "cell_type": "markdown",
   "metadata": {},
   "source": [
    "Dieses Konstrukt (`for Element in Sequenz`) funktioniert für alle Datentypen, die in der Lage sind, ein Element nach dem anderen zu liefern. Man spricht hier von einem **Iterable**. Solche Iterables sind in Python zahlreich. Auf diese Weise kann also nicht nur durch die Zeichen eines Strings, sondern z.B. auch durch die Elemente einer Liste, die Zeilen einer Datei oder einfach nur durch eine Abfolge von Zahlen iteriert werden:"
   ]
  },
  {
   "cell_type": "code",
   "execution_count": null,
   "metadata": {},
   "outputs": [],
   "source": [
    "# die range-Funktion erzeugt ein Objekt, das der Reihe nach Zahlen aus \n",
    "# einem bestimmten Bereich liefert: hier von 1 (inklusiv) bis 11 (exklusiv)\n",
    "# Was genau eine Funktion ist, lernen wir in Kürze\n",
    "\n",
    "for i in range(1, 11):\n",
    "    print(i)"
   ]
  },
  {
   "cell_type": "markdown",
   "metadata": {},
   "source": [
    "<div class=\"alert alert-block alert-info\">\n",
    "<b>Übung Loop-1</b>\n",
    "\n",
    "Ermitteln Sie in einer Schleife die Summe aller Zahlen zwischen 1 und 50000\n",
    "</div>    "
   ]
  },
  {
   "cell_type": "code",
   "execution_count": null,
   "metadata": {},
   "outputs": [],
   "source": []
  },
  {
   "cell_type": "markdown",
   "metadata": {},
   "source": [
    "### Exkurs: Python und Einrückungen"
   ]
  },
  {
   "cell_type": "markdown",
   "metadata": {},
   "source": [
    "Hier haben wir zum ersten Mal eine Eigenheit von Python gesehen, die nicht von allen Programmierer:innen positiv gesehen wird: Logisch zusammengehörige Blöcke werden durch Einrückungen gekennzeichnet.\n",
    "\n",
    "~~~\n",
    "for i in range(1, 11):\n",
    "    print(i)\n",
    "~~~\n",
    "\n",
    "Durch den Doppelpunkt am Ende der ersten Zeile und die Einrückung von `print(i)` weiß der Interpreter, dass es sich hier um den Schleifenkörper handelt, also Anweisung(en), die bei jedem Schleifendurchlauf auszuführen sind.\n",
    "\n",
    "Empfohlen wird eine Einrückung von 4 Leerzeichen, aber grundsätzlich funktioniert jede Zahl von Leerzeichen. Alternativ können auch Tabulator-Einrückungen verwendet werden (nicht empfohlen). Wichtig ist nur, dass sie nie Tabulatoren und Leerzeichen mischen, weil Sie diese im Editor u.U. nicht unterscheiden können, Python sich aber daran stößt. Dieses Problem haben Sie aber nur mit einfachen Editoren. Integrierte Entwicklungsumgebungen wie PyCharm oder VS Code, aber auch spezialisierte Tools wie Jupyter Notebooks, sorgen hier automatisch für Konsistenz.\n",
    "\n",
    "Die meisten anderen Programmiersprachen verwenden statt der Einrückungen geschwungene Klammern. Hier dasselbe Beispiel in JavaScript:\n",
    "\n",
    "~~~\n",
    "for(i=0; i<11; i++) {\n",
    "    console.log(i);\n",
    "}\n",
    "~~~\n",
    "\n",
    "Hier ist die Einrückung nicht zwingend vorgegeben. Man könnte das auch so schreiben:\n",
    "\n",
    "~~~\n",
    "for(i=0; i<11; i++) {\n",
    "console.log(i);\n",
    "}\n",
    "~~~\n",
    "\n",
    "oder sogar so:\n",
    "\n",
    "~~~\n",
    "for(i=0; i<11; i++) { console.log(i); }\n",
    "~~~\n",
    "\n",
    "Erfahrungsgemäß tendieren gerade Anfänger dazu, sich nicht um die Formatierung des Source Codes zu kümmern, weil sie froh sind, dass der Code überhaupt funktioniert. Das erschwert aber die Nachvollziehbarkeit des Codes massiv.\n",
    "\n",
    "Ich persönlich begrüße deshalb den Zwang, in Python saubere Einrückungen verwenden zu müssen. Einerseits wird man so dazu gezwungen, sauber formatierten Code zu schreiben, zum anderen ist Python Code durch die Einrückungen und die fehlende geschwungenen Klammern meist auch besser lesbar."
   ]
  },
  {
   "cell_type": "markdown",
   "metadata": {},
   "source": [
    "### Schleifenzähler\n",
    "Manchmal braucht man zusätzlich zu den Werten auch einen laufenden Zähler, also die Nummer der der aktuellen Iteration. In den meisten Programmiersprachen würde man das so machen (``i`` ist hier der Zähler, der bei jedem Schleifendurchlauf um 1 erhöht wird):"
   ]
  },
  {
   "cell_type": "code",
   "execution_count": null,
   "metadata": {},
   "outputs": [],
   "source": [
    "i = 0\n",
    "for j in range(50, 60):\n",
    "    print(i, j)\n",
    "    i += 1"
   ]
  },
  {
   "cell_type": "markdown",
   "metadata": {},
   "source": [
    "In Python funktioniert das zwar auch, geht aber eleganter mit der `enumerate()` Funktion:"
   ]
  },
  {
   "cell_type": "code",
   "execution_count": null,
   "metadata": {},
   "outputs": [],
   "source": [
    "for i, j in enumerate(range(50, 60)):\n",
    "    print(i, j)"
   ]
  },
  {
   "cell_type": "markdown",
   "metadata": {},
   "source": [
    "``enumerate(iterable)`` liefert für jeden Schleifendurchgang zwei Werte:\n",
    "\n",
    "* den Zähler (also die wievielte Iteration, beginnend mit 0)\n",
    "* den eigentlich Wert aus dem Iterable"
   ]
  },
  {
   "cell_type": "markdown",
   "metadata": {},
   "source": [
    "### Verschachtelte Schleifen\n",
    "Man kann zwei (oder mehr - dies ist jedoch meist nicht empfehlenswert, weil dadurch unter Umständen eine riesige Zahl von Schleifendurchläufen erzeugt wird) Schleifen ineinander verschachteln. Dadurch kann man beispielsweise alle Elemente aus 2 Sequenzen miteinander kombinieren. Für die Zähler in Schleifen haben sich die Variablennamen ``i``,  ``j`` und ``k`` eingebürgert (die für nichts anderes als Zähler verwendet werden sollten!)."
   ]
  },
  {
   "cell_type": "code",
   "execution_count": null,
   "metadata": {},
   "outputs": [],
   "source": [
    "for i in range(1, 11):\n",
    "    for j in range(1, 11):\n",
    "        print(f'{j} x {i} = {i*j}')"
   ]
  },
  {
   "cell_type": "markdown",
   "metadata": {},
   "source": [
    "<div class=\"alert alert-block alert-info\">\n",
    "<b>(Denk)Übung Loop-2a</b><p>Denken Sie Schritt für Schritt durch, was beim Ablauf der verschachtelten Schleife passiert!</p></div>"
   ]
  },
  {
   "cell_type": "markdown",
   "metadata": {},
   "source": [
    "**Hinweis**: Diese Fähigkeit, sich vorstellen zu können, was während des Programmablaufs passiert, ist essentiell! Versuchen also bereits jetzt immer nachzuvollziehen, was in Ihrem Programm passieren wird. Später werden wir noch Möglichkeiten kennen lernen, wie wir einem Programm beim Arbeiten \"zusehen\" können."
   ]
  },
  {
   "cell_type": "markdown",
   "metadata": {},
   "source": [
    "<div class=\"alert alert-block alert-info\">\n",
    "<b>(Denk)Übung Loop-2b</b><p>Schreiben Sie den Code so um, dass statt des kleinen 1x1 das Große 1x1 ausgegeben wird! (1x11=1, 2x11=22 usw.)</p></div>"
   ]
  },
  {
   "cell_type": "code",
   "execution_count": null,
   "metadata": {},
   "outputs": [],
   "source": []
  },
  {
   "cell_type": "markdown",
   "metadata": {},
   "source": [
    "### Tiefe Verschachtelungen\n",
    "\n",
    "Hier noch ein kleines Beispiel das zeigen soll, wie schnell beim Verschachteln von Schleifen eine große Zahl von Schleifendurchläufen entstehen kann. Versuchen Sie selbst, den Wert der Variable `loops_per_loop` langsam zu erhöhen. z.B. von 10 auf 100, 200, 300 usw. Zur Erinnerung: solange ein `*` neben der Zelle angezeigt wird, ist Python mit den Schleifen beschäftigt. Mit \"Kernel -> Interrupt\" können Sie den Prozess abbrechen, falls es zu lange dauern sollte."
   ]
  },
  {
   "cell_type": "code",
   "execution_count": null,
   "metadata": {},
   "outputs": [],
   "source": [
    "loops_per_loop = 10 # num of loops per loop\n",
    "\n",
    "counter = 0\n",
    "for i in range(loops_per_loop):\n",
    "    for j in range(loops_per_loop):\n",
    "        for k in range(loops_per_loop):\n",
    "            counter += 1\n",
    "print(\"{} Schleifendurchläufe\".format(counter))            \n",
    "    "
   ]
  },
  {
   "cell_type": "markdown",
   "metadata": {},
   "source": [
    "<div class=\"alert alert-block alert-info\">\n",
    "<b>Übung Loop-3</b>\n",
    "<p>Erhöhen Sie den Wert von `loops_per_loop` bis das Programm merkbar lange läuft.</p>\n",
    "</div>"
   ]
  },
  {
   "cell_type": "markdown",
   "metadata": {},
   "source": [
    "## Die while Schleife\n",
    "Während die `for`-Schleife über alle Elemente einer Sequenz (oder allgemeiner gesprochen: eines Iterables) iteriert, prüft die `while`-Schleife bei jedem Schleifendurchlauf eine Bedingung und beendet sich, wenn diese Bedingung nicht mehr erfüllt ist. \n",
    "\n",
    "Im folgenden Beispiel ist die Bedingung, dass das aktuelle Zeichen nicht `'x'`  sein darf. Sobald also das verglichene Zeichen 'x' ist, wird die `while-Schleife beendet:"
   ]
  },
  {
   "cell_type": "code",
   "execution_count": null,
   "metadata": {},
   "outputs": [],
   "source": [
    "text = 'Franz jagt im komplett verwahrlosten Taxi quer durch Bayern.'\n",
    "i = 0\n",
    "while text[i] != 'x':\n",
    "    print(text[i], end='')\n",
    "    i += 1"
   ]
  },
  {
   "cell_type": "markdown",
   "metadata": {},
   "source": [
    "*Hinweis: Das `end=''` in der `print()`-Funktion verhindert, dass `print()` am Ende seiner Ausgabe ein Zeilenumbruchszeichen einfügt.*"
   ]
  },
  {
   "cell_type": "markdown",
   "metadata": {},
   "source": [
    "<div class=\"alert alert-block alert-info\">\n",
    "<b>(Denk)übung Loop-4</b> <p>Was würde passieren, wenn wir die letzte Zeile (i += 1) weglassen würden? Denken Sie dazu die ersten paar Schleifendurchläufe durch!</p></div>"
   ]
  },
  {
   "cell_type": "markdown",
   "metadata": {},
   "source": [
    "<div class=\"alert alert-block alert-info\">\n",
    "<b>Übung Loop-5</b>\n",
    "\n",
    "Schreiben Sie eine while-Schleife, die alle Zahlen bis zur (zuvor via `input()`) abgefragten Zahl ausgibt.\n",
    "</div>"
   ]
  },
  {
   "cell_type": "code",
   "execution_count": null,
   "metadata": {},
   "outputs": [],
   "source": []
  },
  {
   "cell_type": "markdown",
   "metadata": {},
   "source": [
    "## Schleifen beeinflussen: break und continue"
   ]
  },
  {
   "cell_type": "markdown",
   "metadata": {},
   "source": [
    "Sowohl `for`- als auch `while`-Schleifen können mit der Anweisung `break` vorzeitig beendet werden. Diese ist in der Regel mit einer Bedingung (kommt noch) verbunden. Hier als Beispiel ein einfaches Additionsprogramm, das so lange nach einer Eingabe fragt, bis ein `=` eingeben wird:"
   ]
  },
  {
   "cell_type": "code",
   "execution_count": null,
   "metadata": {},
   "outputs": [],
   "source": [
    "total = 0\n",
    "while True:  # Runs forever\n",
    "    user_input = input(\"Zahl oder '=' eingeben: \")\n",
    "    if user_input == \"=\":  # user has entered '='\n",
    "        break\n",
    "    else:\n",
    "        # normally we should test here if user really entered a number.\n",
    "        # But we do not know how to do so, yet\n",
    "        total += int(user_input)\n",
    "# the next statemend is not part of the loop as it is not indented\n",
    "print(total)"
   ]
  },
  {
   "cell_type": "markdown",
   "metadata": {},
   "source": [
    "<div class=\"alert alert-block alert-info\">\n",
    "<b>Übung Loop-6</b>\n",
    "<p>Ändern Sie den Code so, dass das Programm so lange weiter Zahlen einfordert, bis der User \"Ergebnis!\" eingibt</b></div>   "
   ]
  },
  {
   "cell_type": "markdown",
   "metadata": {},
   "source": [
    "Wenn in einer Schleife ein `continue` steht, wird der aktuelle Schleifendurchlauf beendet (also alles ignoriert, was im Schleifenkörper darunter steht) und mit dem nächste Durchlauf begonnen. Hier ein Beispiel, das nur durch 7 teilbare Zahlen ausgibt:"
   ]
  },
  {
   "cell_type": "code",
   "execution_count": null,
   "metadata": {},
   "outputs": [],
   "source": [
    "for i in range(1, 101):  \n",
    "    if i % 7 != 0:\n",
    "        continue\n",
    "    print(i)"
   ]
  },
  {
   "cell_type": "markdown",
   "metadata": {},
   "source": [
    "**Achtung:** Wenn Sie verleitet sind, `continue` zu verwenden, gibt es fast immer einen besseren Weg das Problem zu lösen. Denken Sie in so einem Fall noch einmal nach! Hier eine bessere Lösung für den letzten Code, die ohne `continue` auskommt: "
   ]
  },
  {
   "cell_type": "code",
   "execution_count": null,
   "metadata": {},
   "outputs": [],
   "source": [
    "for i in range(100):\n",
    "    if i % 7 == 0:\n",
    "        print(i)"
   ]
  },
  {
   "cell_type": "markdown",
   "metadata": {},
   "source": [
    "oder (eher *pythonic*) so:"
   ]
  },
  {
   "cell_type": "code",
   "execution_count": null,
   "metadata": {},
   "outputs": [],
   "source": [
    "for i in range(0, 100, 7):\n",
    "    print(i)"
   ]
  },
  {
   "cell_type": "markdown",
   "metadata": {},
   "source": [
    "## Vertiefende Literatur\n",
    "Ich empfehle ausdrücklich, mindestens eine der folgenden Ressourcen zur Vertiefung zu lesen!\n",
    "\n",
    "  * Python Tutorial: \n",
    "\t* `for`: Kapitel 4.2 \n",
    "\t\t* http://docs.python.org/3/tutorial/controlflow.html#for-statements\n",
    "\t* `while`: kommt im Tutorial nicht vor\n",
    "  * Klein, Kurs: \n",
    "\t* `for`: https://python-kurs.eu/python3_for-schleife.php\n",
    "\t* `while`: https://python-kurs.eu/python3_schleifen.php\n",
    "  * Sweigart: https://automatetheboringstuff.com/2e/chapter2/\n",
    "  \n",
    "  \n",
    "  * Klein, Buch: Kapitel 9 und 26.  \n",
    "  * Kofler: Kapitel 8.3 und 8.4.\n",
    "  * Weigend: Kapitel Kapitel 5.4, 5.5 und 5.6.\n",
    "  * Briggs: Kapitel 7.\n"
   ]
  },
  {
   "cell_type": "markdown",
   "metadata": {},
   "source": [
    "## Lizenz\n",
    "\n",
    "This notebook ist part of the course [Grundlagen der Programmierung](https://github.com/gvasold/gdp) held by [Gunter Vasold](https://online.uni-graz.at/kfu_online/wbForschungsportal.cbShowPortal?pPersonNr=51488) at Graz University 2017&thinsp;ff. \n",
    "\n",
    "<p>\n",
    "    It is licensed under <a href=\"https://creativecommons.org/licenses/by-nc-sa/4.0\">CC BY-NC-SA 4.0</a>\n",
    "</p>\n",
    "\n",
    "<table>\n",
    "    <tr>\n",
    "    <td>\n",
    "        <img style=\"height:22px\" \n",
    "             src=\"https://mirrors.creativecommons.org/presskit/icons/cc.svg?ref=chooser-v1\"/></li>\n",
    "    </td>\n",
    "    <td>\n",
    "    <img style=\"height:22px;\"\n",
    "         src=\"https://mirrors.creativecommons.org/presskit/icons/by.svg?ref=chooser-v1\" /></li>\n",
    "    </td>\n",
    "    <td>\n",
    "        <img style=\"height:22px;\"\n",
    "         src=\"https://mirrors.creativecommons.org/presskit/icons/nc.svg?ref=chooser-v1\" /></li>\n",
    "    </td>\n",
    "    <td>\n",
    "        <img style=\"height:22px;\"\n",
    "             src=\"https://mirrors.creativecommons.org/presskit/icons/sa.svg?ref=chooser-v1\" /></li>\n",
    "    </td>\n",
    "</tr>\n",
    "</table>"
   ]
  }
 ],
 "metadata": {
  "kernelspec": {
   "display_name": "Python 3 (ipykernel)",
   "language": "python",
   "name": "python3"
  },
  "language_info": {
   "codemirror_mode": {
    "name": "ipython",
    "version": 3
   },
   "file_extension": ".py",
   "mimetype": "text/x-python",
   "name": "python",
   "nbconvert_exporter": "python",
   "pygments_lexer": "ipython3",
   "version": "3.10.6"
  }
 },
 "nbformat": 4,
 "nbformat_minor": 4
}
