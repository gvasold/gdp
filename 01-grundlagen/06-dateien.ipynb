{
 "cells": [
  {
   "cell_type": "markdown",
   "metadata": {},
   "source": [
    "# Mit Dateien arbeiten\n",
    "\n",
    "Bevor aus einer Datei gelesen oder in eine Datei geschrieben werden kann, muss diese Datei mit der Funktion `open()` geöffnet werden. `open()` erwartet mindestens ein Argument: Den Namen (evtl. mit Pfad) der Datei:"
   ]
  },
  {
   "cell_type": "code",
   "execution_count": null,
   "metadata": {},
   "outputs": [],
   "source": [
    "fh = open('data/vornamen/names_short.txt')"
   ]
  },
  {
   "cell_type": "markdown",
   "metadata": {},
   "source": [
    "Falls nötig (und grundsätzlich empfehlenswert), kann noch das Encoding der Datei explizit angegeben werden, falls dieses bekannt ist:"
   ]
  },
  {
   "cell_type": "raw",
   "metadata": {},
   "source": [
    "fh = open('data/vornamen/names_short.txt', encoding='utf-8')"
   ]
  },
  {
   "cell_type": "markdown",
   "metadata": {},
   "source": [
    "Exkurs zum Encoding: Das Encoding bestimmt, wie ein Computer Bitfolgen als Zeichen interpretiert.  Wir werden dieses Thema ausführlicher in einer der Live Sessions behandeln. Zur Vertiefung (oder falls Sie das auf der Stelle wissen müssen), empfehle ich diese Texte:\n",
    "\n",
    "* https://www.joelonsoftware.com/2003/10/08/the-absolute-minimum-every-software-developer-absolutely-positively-must-know-about-unicode-and-character-sets-no-excuses/\n",
    "* https://docs.python.org/3/howto/unicode.html"
   ]
  },
  {
   "cell_type": "markdown",
   "metadata": {},
   "source": [
    "Wenn wir die Datei nicht mehr brauchen, d.h. wenn wir die Datei eingelesen haben, sollte sie wieder geschlossen werden, damit das Betriebssystem die Ressource wieder freigeben kann."
   ]
  },
  {
   "cell_type": "code",
   "execution_count": null,
   "metadata": {},
   "outputs": [],
   "source": [
    "fh.close()"
   ]
  },
  {
   "cell_type": "markdown",
   "metadata": {},
   "source": [
    "Das Objekt, das die geöffnete Datei repräsentiert, bietet mehrere Möglichkeiten, auf den Inhalt \n",
    "der Datei zuzugreifen, darunter auch einen Iterator, den wir in einer `for`-Schleife nutzen können."
   ]
  },
  {
   "cell_type": "code",
   "execution_count": null,
   "metadata": {},
   "outputs": [],
   "source": [
    "fh = open('data/vornamen/names_short.txt', encoding='utf-8')\n",
    "for line in fh:\n",
    "    print(line)\n",
    "fh.close()"
   ]
  },
  {
   "cell_type": "markdown",
   "metadata": {},
   "source": [
    "## Eine Datei in einem Context-Manager öffnen\n",
    "Es ist guter Stil, eine geöffnete Datei auch wieder zu schließen. Wenn aber z.B. das Programm abstürzt, während die Datei geöffnet ist, kann die `close()`-Methode nicht mehr ausgeführt werden. Um solche Probleme zu vermeiden, empfiehlt sich die Verwendung eines Context-Managers:"
   ]
  },
  {
   "cell_type": "code",
   "execution_count": null,
   "metadata": {},
   "outputs": [],
   "source": [
    "with open('data/vornamen/names_short.txt', encoding='utf-8') as fh:\n",
    "    for line in fh:\n",
    "        print(line)"
   ]
  },
  {
   "cell_type": "markdown",
   "metadata": {},
   "source": [
    "## Weitere Methoden um aus einer Datei zu lesen\n",
    "\n",
    "### read()\n",
    "Die `read()`-Methode liest den gesamten Dateiinhalt als String ein. Wie erhalten also den gesamten Dateiinhalt als einen (mitunter sehr langen) String:"
   ]
  },
  {
   "cell_type": "code",
   "execution_count": null,
   "metadata": {},
   "outputs": [],
   "source": [
    "with open('data/vornamen/names_short.txt', encoding='utf-8') as fh:\n",
    "    data = fh.read()\n",
    "print(data)    "
   ]
  },
  {
   "cell_type": "markdown",
   "metadata": {},
   "source": [
    "### readlines()\n",
    "Diese Methode liest jede Zeile der Datei als Element in eine Liste ein (eine Liste ist ein weiterer Sequenztyp, den wir bald kennen lernen werden):"
   ]
  },
  {
   "cell_type": "code",
   "execution_count": null,
   "metadata": {},
   "outputs": [],
   "source": [
    "with open('data/vornamen/names_short.txt', encoding='utf-8') as fh:\n",
    "    lines = fh.readlines()\n",
    "print(lines)    "
   ]
  },
  {
   "cell_type": "markdown",
   "metadata": {},
   "source": [
    "<div class=\"alert alert-block alert-info\">\n",
    "<b>Übung File-1</b><p>wie viele Zeilen hat die Datei names_short.txt?</p></div>"
   ]
  },
  {
   "cell_type": "code",
   "execution_count": null,
   "metadata": {},
   "outputs": [],
   "source": []
  },
  {
   "cell_type": "markdown",
   "metadata": {},
   "source": [
    "## In eine Datei schreiben\n",
    "Bisher haben wir nur aus Dateien gelesen. Um in eine Datei schreiben zu können, müssen wir sie auf eine besondere Weise öffnen. Die `open()`-Funktion erwartet als zweites Argument einen String, der angibt, wie eine Datei geöffnet werden soll. Falls wir nicht angeben, wird der Defaultwert 'r' (für `read`) angenommen.\n",
    "\n",
    "```\n",
    "with open('data/vornamen/names_short.txt', encoding='utf-8') as fh:\n",
    "```\n",
    "führt also zum selben Ergebnis wie \n",
    "\n",
    "```\n",
    "with open('data/vornamen/names_short.txt', 'r', encoding='utf-8') as fh:\n",
    "```\n",
    "\n",
    "\n",
    "Wenn wir eine Datei zum Schreiben öffnen wollen, verwenden wir statt `'r'` `'w'` (für `write`)."
   ]
  },
  {
   "cell_type": "code",
   "execution_count": null,
   "metadata": {},
   "outputs": [],
   "source": [
    "with open('testfile.txt', 'w', encoding='utf-8') as fh:\n",
    "    fh.write('Ich bin ein Text.')"
   ]
  },
  {
   "cell_type": "markdown",
   "metadata": {},
   "source": [
    "Die `write()`-Methode des File-Objekts sorgt dafür, dass die als Argument übergebenen Daten in die Datei geschrieben werden. Dabei ist zu beachten, dass die Datei überschrieben wird, falls sie bereits existiert hat."
   ]
  },
  {
   "cell_type": "markdown",
   "metadata": {},
   "source": [
    "## An eine Datei anhängen\n",
    "\n",
    "Wenn wir die Datei nicht überschreiben, sondern neue Daten an eine bestehende Datei anhängen wollen, müssen wir statt `'w'` den Mode `'a'` (für `append`) angeben. Falls die Datei zuvor noch nicht existiert hat, wird sie angelegt."
   ]
  },
  {
   "cell_type": "code",
   "execution_count": null,
   "metadata": {},
   "outputs": [],
   "source": [
    "with open('testfile.txt', 'a', encoding='utf-8') as fh:\n",
    "    fh.write('Ich bin ein Text.')"
   ]
  },
  {
   "cell_type": "markdown",
   "metadata": {},
   "source": [
    "<div class=\"alert alert-block alert-info\">\n",
    "<b>Übung File-2</b><p>Schreiben Sie ein Programm, das folgende Schritte vornimmt:\n",
    "<ol>\n",
    "<li>Lesen Sie die Inhalte der Datei \"data/vornamen/names_short.txt\" ein.</li>\n",
    "<li>Schreiben Sie den Inhalt der eingelesenen Datei in eine neue Datei \"mynames.txt\"</li>\n",
    "<li>Fragen Sie (mit input()) den Benutzer nach seinem/ihrem Vornamen und speichern Sie diese in einer Variablen </li>\n",
    "<li>Fügen Sie den erfragten Namen ans Ende der Datei \"mynames.txt\" an</li>\n",
    "</ol>\n",
    "</div>"
   ]
  },
  {
   "cell_type": "markdown",
   "metadata": {},
   "source": [
    "## Binärdaten schreiben\n",
    "Bisher haben wir immer angenommen, dass wir Texte aus einer Datei lesen oder in eine Datei schreiben. Falls wir es mit Binärdaten (d.h. mit allem was kein reiner Text ist, z.B. Bilder, PDF-Dateien, Word-Files usw.) zu tun  haben, müssen wir das explizit mit dem Buchstaben `'b'` angeben:"
   ]
  },
  {
   "cell_type": "code",
   "execution_count": null,
   "metadata": {},
   "outputs": [],
   "source": [
    "with open('img/string1.png', 'rb') as fh_in, open('testimage.png', 'wb') as fh_out:\n",
    "    data = fh_in.read()\n",
    "    fh_out.write(data)"
   ]
  },
  {
   "cell_type": "markdown",
   "metadata": {},
   "source": [
    "## Vertiefende Literatur\n",
    "Ich empfehle ausdrücklich, mindestens eine der folgenden Ressourcen zur Vertiefung zu lesen!\n",
    "\n",
    "  * Python Tutorial: Kapitel 7.2\n",
    "\t(https://docs.python.org/3/tutorial/inputoutput.html#reading-and-writing-files)\n",
    "  * Klein, Kurs: Dateien lesen und schreiben (http://python-kurs.eu/python3_dateien.php)\n",
    "  * Sweigart: https://automatetheboringstuff.com/2e/chapter9/\n",
    "  \n",
    "  \n",
    "  * Klein, Buch: Kapitel 10\n",
    "  * Kofler: Kapitel 14.\n",
    "  * Weigend: Kapitel 9.1 und 9.2\n",
    "  * Briggs: Kapitel 10.2\n",
    "  * Sweigart: Kapitel 8.\n",
    "  * Pilgrim: Kapitel 11.1 bis 11.4\n",
    "\t(https://www.diveinto.org/python3/files.html)\n",
    "  * Downey: Kapitel 14.1 bis 14.5\n",
    "    (http://greenteapress.com/thinkpython/html/thinkpython015.html)"
   ]
  },
  {
   "cell_type": "markdown",
   "metadata": {},
   "source": [
    "## Lizenz\n",
    "\n",
    "This notebook ist part of the course [Grundlagen der Programmierung](https://github.com/gvasold/gdp) held by [Gunter Vasold](https://online.uni-graz.at/kfu_online/wbForschungsportal.cbShowPortal?pPersonNr=51488) at Graz University 2017&thinsp;ff. \n",
    "\n",
    "<p>\n",
    "    It is licensed under <a href=\"https://creativecommons.org/licenses/by-nc-sa/4.0\">CC BY-NC-SA 4.0</a>\n",
    "</p>\n",
    "\n",
    "<table>\n",
    "    <tr>\n",
    "    <td>\n",
    "        <img style=\"height:22px\" \n",
    "             src=\"https://mirrors.creativecommons.org/presskit/icons/cc.svg?ref=chooser-v1\"/></li>\n",
    "    </td>\n",
    "    <td>\n",
    "    <img style=\"height:22px;\"\n",
    "         src=\"https://mirrors.creativecommons.org/presskit/icons/by.svg?ref=chooser-v1\" /></li>\n",
    "    </td>\n",
    "    <td>\n",
    "        <img style=\"height:22px;\"\n",
    "         src=\"https://mirrors.creativecommons.org/presskit/icons/nc.svg?ref=chooser-v1\" /></li>\n",
    "    </td>\n",
    "    <td>\n",
    "        <img style=\"height:22px;\"\n",
    "             src=\"https://mirrors.creativecommons.org/presskit/icons/sa.svg?ref=chooser-v1\" /></li>\n",
    "    </td>\n",
    "</tr>\n",
    "</table>"
   ]
  }
 ],
 "metadata": {
  "kernelspec": {
   "display_name": "Python 3 (ipykernel)",
   "language": "python",
   "name": "python3"
  },
  "language_info": {
   "codemirror_mode": {
    "name": "ipython",
    "version": 3
   },
   "file_extension": ".py",
   "mimetype": "text/x-python",
   "name": "python",
   "nbconvert_exporter": "python",
   "pygments_lexer": "ipython3",
   "version": "3.10.6"
  }
 },
 "nbformat": 4,
 "nbformat_minor": 4
}
