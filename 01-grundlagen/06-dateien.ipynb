{
 "cells": [
  {
   "cell_type": "markdown",
   "metadata": {},
   "source": [
    "# Mit Dateien arbeiten\n",
    "\n",
    "Daten, wie wir sie bisher verwendet haben, existieren nur im Hauptspeicher des Computers (RAM). Wenn das Programm beendet oder der Computer ausgeschalten wird, sind die Daten verloren. Daher sollten wir Daten, die wir noch brauchen, auf die Festplatte speichern (und später wieder von dort einlesen). \n",
    "\n",
    "In diesem Notebook lernen wir, wie das geht."
   ]
  },
  {
   "cell_type": "markdown",
   "metadata": {},
   "source": [
    "## Eine Datei öffnen\n",
    "\n",
    "Bevor aus einer Datei gelesen oder in eine Datei geschrieben werden kann, muss diese Datei mit der Funktion `open()` geöffnet werden. `open()` erwartet mindestens ein Argument: Den Namen (evtl. mit Pfad) der Datei. "
   ]
  },
  {
   "cell_type": "markdown",
   "metadata": {},
   "source": [
    "### Die Datei liegt im aktuellen Verzeichnis \n",
    "\n",
    "Wenn Sich die zu öffnende Datei im selben Verzeichnis befindet wie die ausgeführte Python-Datei oder das ausgeführte Notebook, brauchen Sie nur den Namen der zu öffnenden Datei angeben. (Genau genommen spielt das Verzeichnis, von dem aus Sie das Programm aufrufen, die entscheidende Rolle beim Ausgangspunkt).\n",
    "\n",
    "Öffnen wir als eine Datei `example.txt`, die ich zu Demonstrationszwecken in dem Ordner angelegt habe, in dem auch dieses Notebook liegt:"
   ]
  },
  {
   "cell_type": "code",
   "execution_count": null,
   "metadata": {},
   "outputs": [],
   "source": [
    "fh = open('example.txt')"
   ]
  },
  {
   "cell_type": "markdown",
   "metadata": {},
   "source": [
    "Hier sehen wir keine Ausgabe. Wir haben aber eine Variable `fh` angelegt, über die wir auf den Inhalt der Datei zugreifen können:"
   ]
  },
  {
   "cell_type": "code",
   "execution_count": null,
   "metadata": {},
   "outputs": [],
   "source": [
    "print(fh.read())"
   ]
  },
  {
   "cell_type": "markdown",
   "metadata": {},
   "source": [
    "Falls das vorletzte Wort etwas seltsam aussieht, arbeiten Sie vermutlich unter Windows. Wir werden gleich lernen, wie wir sicherstellen können, dass alle Zeichen korrekt dargestellt werden."
   ]
  },
  {
   "cell_type": "markdown",
   "metadata": {},
   "source": [
    "### Eine Datei in einem anderen Verzeichnis öffnen\n",
    "\n",
    "Wir öffnen jetzt eine andere Datei, die sich nicht im Verzeichnis dieses Notebooks befindet, sondern im Ordner `data`, der sich auf derselben Verzeichnisebene befindet, wie der aktuelle Ordner. Er liegt also, wenn man so will, parallel zum Ordner `01-grundlagen`. Sie können sich das links im Menü ansehen oder in einem anderen Programm wie z.B. dem Windows Explorer oder dem Finder in MacOS. Die Struktur ist also diese:\n",
    "\n",
    "```\n",
    "gdp25\n",
    "|-- 01-grundlagen\n",
    "|   |-- 06-dateien.ipynb \n",
    "|-- data\n",
    "    |-- vornamen\n",
    "        |-- names_short.txt\n",
    "```\n",
    "\n",
    "Wir müssen also vom Verzeichnis, in dem das Notebook liegt (`01-grundlagen`), zuerst eine Verzeichnisebene nach oben (`..`), dann ins Verzeichnis `data` und von dort weiter ins Verzeichnis `vornamen`. Dort wollen wir die Datei `names_short.txt` öffnen."
   ]
  },
  {
   "cell_type": "code",
   "execution_count": null,
   "metadata": {},
   "outputs": [],
   "source": [
    "fh = open('../data/vornamen/names_short.txt')"
   ]
  },
  {
   "cell_type": "markdown",
   "metadata": {},
   "source": [
    "Falls Sie sich gerade wundern, warum wir auch unter Windows hier den Slash (`/`) als Trenner zwischen Verzeichnissen und Dateien verwenden können: Python gleicht das selbst für das jeweilige Betriebssystem aus. Sie sollten also immer den Slash verwenden und nicht, wie in Windows gewohnt den Backhslash (`\\`), wenn Sie Interesse daran haben, dass Ihr Programm auf allen Betriebssystem funktioniert (und gleich als kleine Warnung: Die Chance, dass ich Ihre Übungen unter Linux ansehen werde, ist sehr groß 😉)."
   ]
  },
  {
   "cell_type": "markdown",
   "metadata": {},
   "source": [
    "### encoding=\n",
    "Falls nötig (und grundsätzlich empfehlenswert), kann beim Öffnen einer Textdatei noch das Encoding der Datei explizit angegeben werden, falls dieses bekannt ist. Dadurch kann das oben aufgetretene Problem mit den falsch dargestellten Umlauten unter Windows vermieden werden."
   ]
  },
  {
   "cell_type": "raw",
   "metadata": {},
   "source": [
    "fh = open('../data/vornamen/names_short.txt', encoding='utf-8')"
   ]
  },
  {
   "cell_type": "markdown",
   "metadata": {},
   "source": [
    "Exkurs zum Encoding: Das Encoding bestimmt, wie ein Computer Bitfolgen als Zeichen interpretiert.  Wir werden dieses Thema ausführlicher in einer der Live Sessions behandeln. Zur Vertiefung (oder falls Sie das auf der Stelle wissen müssen), empfehle ich diese Texte:\n",
    "\n",
    "* [The Absolute Minimum Every Software Developer Absolutely, Positively Must Know About Unicode and Character Sets (No Excuses!)](https://www.joelonsoftware.com/2003/10/08/the-absolute-minimum-every-software-developer-absolutely-positively-must-know-about-unicode-and-character-sets-no-excuses/)\n",
    "* [The Absolute Minimum Every Software Developer Must Know About Unicode in 2023 (Still No Excuses!)](https://tonsky.me/blog/unicode/)\n",
    "* https://docs.python.org/3/howto/unicode.html"
   ]
  },
  {
   "cell_type": "markdown",
   "metadata": {},
   "source": [
    "## Dateien wieder schließen\n",
    "\n",
    "Wenn wir die Datei nicht mehr brauchen, d.h. wenn wir die Datei eingelesen haben, sollte sie wieder geschlossen werden, damit das Betriebssystem die Ressource wieder freigeben kann."
   ]
  },
  {
   "cell_type": "code",
   "execution_count": null,
   "metadata": {},
   "outputs": [],
   "source": [
    "fh.close()"
   ]
  },
  {
   "cell_type": "markdown",
   "metadata": {},
   "source": [
    "Es ist also guter Stil, eine geöffnete Datei auch wieder zu schließen. Was aber, wenn z.B. das Programm abstürzt, während die Datei geöffnet ist, so dass die `close()`-Methode nicht mehr ausgeführt werden kann? \n",
    "\n",
    "Um solche Probleme zu vermeiden, empfiehlt sich die Verwendung eines *Context-Managers*. In Python gibt es einige solcher Context.Manager (und man kann auch selbst welche programmieren). Hier sehen wir uns aber einmal den Context-Manager zum Öffnen einer Datei an:"
   ]
  },
  {
   "cell_type": "code",
   "execution_count": null,
   "metadata": {},
   "outputs": [],
   "source": [
    "with open('../data/vornamen/names_short.txt', encoding='utf-8') as fh:\n",
    "    print(fh.read())"
   ]
  },
  {
   "cell_type": "markdown",
   "metadata": {},
   "source": [
    "Es ist Ihnen vielleicht aufgefallen, dass ich in der letzten Codezelle die Datei nicht geschlossen habe. Das ist auch nicht nötig, weil der Content-Manager (`with open( ...`), dafür sorgt, dass die Datei automatisch geschlossen wird.\n",
    "\n",
    "Meine Empfehlung: Verwenden Sie von Anfang an immer einen Context-Manager, wenn Sie  eine Datei öffnen. Das wird Ihnen sehr rasch in Fleisch und Blut übergehen und Sie brauchen nicht mehr drüber nachzudenken."
   ]
  },
  {
   "cell_type": "markdown",
   "metadata": {},
   "source": [
    "## Dateiinhalte einlesen\n",
    "\n",
    "Das Objekt, das die geöffnete Datei repräsentiert, bietet mehrere Möglichkeiten, auf den Inhalt \n",
    "der Datei zuzugreifen. Weiter unten werden wir `read()` und `readlines()` kennen lernen, wir können aber auch ganz elegant zeilenweise durch die Datei *iterieren*:"
   ]
  },
  {
   "cell_type": "code",
   "execution_count": null,
   "metadata": {},
   "outputs": [],
   "source": [
    "with open('../data/vornamen/names_short.txt', encoding='utf-8') as fh:\n",
    "    for line in fh:\n",
    "        print(line)"
   ]
  },
  {
   "cell_type": "markdown",
   "metadata": {},
   "source": [
    "### Weitere Methoden um aus einer Datei zu lesen\n",
    "\n",
    "#### read()\n",
    "Die `read()`-Methode liest den gesamten Dateiinhalt als String ein. Wie erhalten also den gesamten Dateiinhalt als einen (mitunter sehr langen) String:"
   ]
  },
  {
   "cell_type": "code",
   "execution_count": null,
   "metadata": {},
   "outputs": [],
   "source": [
    "with open('../data/vornamen/names_short.txt', encoding='utf-8') as fh:\n",
    "    data = fh.read()\n",
    "print(data)"
   ]
  },
  {
   "cell_type": "markdown",
   "metadata": {},
   "source": [
    "#### readlines()\n",
    "Diese Methode liest jede Zeile der Datei als Element in eine Liste ein (eine Liste ist ein weiterer Sequenztyp, den wir bald kennen lernen werden):"
   ]
  },
  {
   "cell_type": "code",
   "execution_count": null,
   "metadata": {},
   "outputs": [],
   "source": [
    "with open('../data/vornamen/names_short.txt', encoding='utf-8') as fh:\n",
    "    lines = fh.readlines()\n",
    "print(lines)    "
   ]
  },
  {
   "cell_type": "markdown",
   "metadata": {},
   "source": [
    "<div class=\"alert alert-block alert-info\">\n",
    "<b>Übung File-1</b><p>wie viele Zeilen hat die Datei names_short.txt?</p></div>"
   ]
  },
  {
   "cell_type": "code",
   "execution_count": null,
   "metadata": {},
   "outputs": [],
   "source": []
  },
  {
   "cell_type": "markdown",
   "metadata": {},
   "source": [
    "## In eine Datei schreiben\n",
    "Bisher haben wir nur aus Dateien gelesen. Um in eine Datei schreiben zu können, müssen wir sie auf eine besondere Weise öffnen. Die `open()`-Funktion erwartet als zweites Argument einen String, der angibt, wie eine Datei geöffnet werden soll. Falls wir nichts angeben, wird der Defaultwert 'r' (für `read`) angenommen.\n",
    "\n",
    "```\n",
    "with open('../data/vornamen/names_short.txt', encoding='utf-8') as fh:\n",
    "```\n",
    "führt also zum selben Ergebnis wie \n",
    "\n",
    "```\n",
    "with open('../data/vornamen/names_short.txt', 'r', encoding='utf-8') as fh:\n",
    "```\n",
    "\n",
    "\n",
    "Wenn wir eine Datei zum Schreiben öffnen wollen, verwenden wir statt `'r'` `'w'` (für `write`)."
   ]
  },
  {
   "cell_type": "code",
   "execution_count": null,
   "metadata": {},
   "outputs": [],
   "source": [
    "with open('testfile.txt', 'w', encoding='utf-8') as fh:\n",
    "    fh.write('Ich bin ein Text.')"
   ]
  },
  {
   "cell_type": "markdown",
   "metadata": {},
   "source": [
    "Die `write()`-Methode des File-Objekts sorgt dafür, dass die als Argument übergebenen Daten in die Datei geschrieben werden. Dabei ist zu beachten, dass die Datei überschrieben wird, falls sie bereits existiert hat."
   ]
  },
  {
   "cell_type": "markdown",
   "metadata": {},
   "source": [
    "## An eine Datei anhängen\n",
    "\n",
    "Wenn wir die Datei nicht überschreiben, sondern neue Daten an eine bestehende Datei anhängen wollen, müssen wir statt `'w'` den Mode `'a'` (für `append`) angeben. Falls die Datei zuvor noch nicht existiert hat, wird sie angelegt, d.h. `append` funktioniert auch für neue Dateien."
   ]
  },
  {
   "cell_type": "code",
   "execution_count": null,
   "metadata": {},
   "outputs": [],
   "source": [
    "with open('testfile.txt', 'a', encoding='utf-8') as fh:\n",
    "    fh.write('Ich bin ein Text.')"
   ]
  },
  {
   "cell_type": "markdown",
   "metadata": {},
   "source": [
    "<div class=\"alert alert-block alert-info\">\n",
    "<b>Übung File-2</b><p>Schreiben Sie ein Programm, das folgende Schritte vornimmt:\n",
    "<ol>\n",
    "<li>Lesen Sie die Inhalte der Datei \"data/vornamen/names_short.txt\" ein.</li>\n",
    "<li>Schreiben Sie den Inhalt der eingelesenen Datei in eine neue Datei \"mynames.txt\"</li>\n",
    "<li>Fragen Sie (mit input()) den Benutzer nach seinem/ihrem Vornamen und speichern Sie diese in einer Variablen </li>\n",
    "<li>Fügen Sie den erfragten Namen ans Ende der Datei \"mynames.txt\" an</li>\n",
    "</ol>\n",
    "</div>"
   ]
  },
  {
   "cell_type": "markdown",
   "metadata": {},
   "source": [
    "## Binärdaten schreiben\n",
    "Bisher haben wir immer angenommen, dass wir Texte aus einer Datei lesen oder in eine Datei schreiben. Falls wir es mit Binärdaten (d.h. mit allem was kein reiner Text ist, z.B. Bilder, PDF-Dateien, Word-Files usw.) zu tun  haben, müssen wir das explizit mit dem Buchstaben `'b'` angeben:"
   ]
  },
  {
   "cell_type": "code",
   "execution_count": null,
   "metadata": {},
   "outputs": [],
   "source": [
    "with open('../data/img/string1.png', 'rb') as fh_in, open('testimage.png', 'wb') as fh_out:\n",
    "    data = fh_in.read()\n",
    "    fh_out.write(data)"
   ]
  },
  {
   "cell_type": "markdown",
   "metadata": {},
   "source": [
    "Der Unterschied ist, dass im 'rb'-Mode Python nicht versucht, die eingelesenen Bits als Text-Zeichen zu interpretieren (was z.B. bei einem Bild keinen Sinn machen würde), sondern die Bits genau so weitergibt, wie sie gelesen werden. Wenn wir die Bits (wie im letzten Beispiel) einfach in einen neue Datei kopieren, reicht das aus -- wir sind an der inhaltlichen Bedeutung der Bitfolgen nicht interessiert. Falls wir aber das Bild bearbeiten wollten, also beispielsweise die Größe ändern oder das Bild in Graustufen umwandeln, müssen wir die Bedeutung der Bits verstehen. Dabei helfen Bibliotheken zur Interpretation der Bits, für Bilder etwa die Pillow-Bibliothek, die wir hier aber (noch) nicht behandeln."
   ]
  },
  {
   "cell_type": "markdown",
   "metadata": {},
   "source": [
    "## Pathlib\n",
    "\n",
    "Seit Python Version 3.4 gibt es eine objektorientierte Alternative beim Umgang mit Dateien und Verzeichnissen. Hier werden Pfade zu Dateien (bzw. Dateinamen) nicht durch Strings repräsentiert, sondern durch Objekte des Typs `Path`. Das erleichtert gewisse Dinge, hat aber eine steilere Lernkurve. Ich empfehle daher, sich erst gegen Ende dieses Kurses mit `pathlib` vertraut zu machen, was sich wirklich lohnt. Als Teaser hier nur die absoluten Basics. Sie können diesen Teil auch überspringen."
   ]
  },
  {
   "cell_type": "code",
   "execution_count": null,
   "metadata": {},
   "outputs": [],
   "source": [
    "import pathlib\n",
    "\n",
    "example_dir = pathlib.Path('example')\n",
    "example_dir.is_dir()"
   ]
  },
  {
   "cell_type": "markdown",
   "metadata": {},
   "source": [
    "Der Pfad existiert im Filesystem noch nicht, weil das Verzeichnis noch nicht angelegt wurde. Unser `path` Objekt hat also noch keine Entsprechung im Dateisystem. Erst wenn wir `path.mkdir()` aufrufen, wird der Pfad im Dateisystem angelegt."
   ]
  },
  {
   "cell_type": "code",
   "execution_count": null,
   "metadata": {},
   "outputs": [],
   "source": [
    "example_dir.mkdir()"
   ]
  },
  {
   "cell_type": "markdown",
   "metadata": {},
   "source": [
    "`Path`  Objekte unterstützen den \"/\" Operator um Pfade zusammen zu bauen. Dieser Operator funktioniert auch unter Windows. Erzeugen wir nun im durch `example_dir` repräsentierten Pfad einen neuen Pfad `foo.txt`:"
   ]
  },
  {
   "cell_type": "code",
   "execution_count": null,
   "metadata": {},
   "outputs": [],
   "source": [
    "foo_file = example_dir / \"foo.txt\"\n",
    "foo_file"
   ]
  },
  {
   "cell_type": "markdown",
   "metadata": {},
   "source": [
    "Natürlich kann man mit der Pathlib auch Dateien Lesen und schreiben. Wir schreiben einen kurzen Text in die Datei, die durch den Pfad `foo_file` referenziert wird:"
   ]
  },
  {
   "cell_type": "code",
   "execution_count": null,
   "metadata": {},
   "outputs": [],
   "source": [
    "# write text to file\n",
    "foo_file.write_text(\"Das ist mein ganz persönliches File\", encoding=\"utf-8\")"
   ]
  },
  {
   "cell_type": "markdown",
   "metadata": {},
   "source": [
    "Im Ordner `example` gibt es nun eine Datei `foo.txt`. Diese können wir wieder einlesen:"
   ]
  },
  {
   "cell_type": "code",
   "execution_count": null,
   "metadata": {},
   "outputs": [],
   "source": [
    "\n",
    "# read text from file\n",
    "content =  foo_file.read_text(encoding=\"utf-8\")\n",
    "print(content)"
   ]
  },
  {
   "cell_type": "markdown",
   "metadata": {},
   "source": [
    "`Path` Objekte können noch viel mehr, beispielsweise kann man ein Verzeichnis oder eine Datei umbenennen. `foo_file` hatte bisher den Namen `foo.txt`. Um die Datei umzubenennen, verwenden wir die `rename()`  Methode:"
   ]
  },
  {
   "cell_type": "code",
   "execution_count": null,
   "metadata": {},
   "outputs": [],
   "source": [
    "foo_file = foo_file.rename(example_dir / \"bar.txt\")"
   ]
  },
  {
   "cell_type": "markdown",
   "metadata": {},
   "source": [
    "Wichtig: wir müssen hier `example_dir` mit angeben, sonst würde die Datei in den aktuellen Ordner verschoben."
   ]
  },
  {
   "cell_type": "markdown",
   "metadata": {},
   "source": [
    "Mit dem folgenden Code können Sie alle angelegte Beispieldatei und den Ordner wieder löschen."
   ]
  },
  {
   "cell_type": "code",
   "execution_count": null,
   "metadata": {},
   "outputs": [],
   "source": [
    "foo_file.unlink()\n",
    "example_dir.rmdir()"
   ]
  },
  {
   "cell_type": "markdown",
   "metadata": {},
   "source": [
    "## Vertiefende Literatur\n",
    "Ich empfehle ausdrücklich, mindestens eine der folgenden Ressourcen zur Vertiefung zu lesen!\n",
    "\n",
    "  * Python Tutorial: Kapitel 7.2\n",
    "\t(https://docs.python.org/3/tutorial/inputoutput.html#reading-and-writing-files)\n",
    "  * Klein, Kurs: Dateien lesen und schreiben (http://python-kurs.eu/python3_dateien.php)\n",
    "  * Sweigart: https://automatetheboringstuff.com/2e/chapter9/\n",
    "  \n",
    "  \n",
    "  * Klein, Buch: Kapitel 10\n",
    "  * Kofler: Kapitel 14.\n",
    "  * Inden: Kapitel 8.\n",
    "  * Weigend: Kapitel 9.1 und 9.2\n",
    "  * Briggs: Kapitel 10.2\n",
    "  * Sweigart: Kapitel 8.\n",
    "  * Pilgrim: Kapitel 11.1 bis 11.4\n",
    "\t(https://www.diveinto.org/python3/files.html)\n",
    "  * Downey: Kapitel 14.1 bis 14.5\n",
    "    (http://greenteapress.com/thinkpython/html/thinkpython015.html)\n",
    "  * Dokumentation zur pathlib: https://docs.python.org/3/library/pathlib.html  "
   ]
  },
  {
   "cell_type": "markdown",
   "metadata": {},
   "source": [
    "## Lizenz\n",
    "\n",
    "This notebook ist part of the course [Grundlagen der Programmierung](https://github.com/gvasold/gdp) held by [Gunter Vasold](https://online.uni-graz.at/kfu_online/wbForschungsportal.cbShowPortal?pPersonNr=51488) at Graz University 2017&thinsp;ff. \n",
    "\n",
    "<p>\n",
    "    It is licensed under <a href=\"https://creativecommons.org/licenses/by-nc-sa/4.0\">CC BY-NC-SA 4.0</a>\n",
    "</p>\n",
    "\n",
    "<table>\n",
    "    <tr>\n",
    "    <td>\n",
    "        <img style=\"height:22px\" \n",
    "             src=\"https://mirrors.creativecommons.org/presskit/icons/cc.svg?ref=chooser-v1\"/></li>\n",
    "    </td>\n",
    "    <td>\n",
    "    <img style=\"height:22px;\"\n",
    "         src=\"https://mirrors.creativecommons.org/presskit/icons/by.svg?ref=chooser-v1\" /></li>\n",
    "    </td>\n",
    "    <td>\n",
    "        <img style=\"height:22px;\"\n",
    "         src=\"https://mirrors.creativecommons.org/presskit/icons/nc.svg?ref=chooser-v1\" /></li>\n",
    "    </td>\n",
    "    <td>\n",
    "        <img style=\"height:22px;\"\n",
    "             src=\"https://mirrors.creativecommons.org/presskit/icons/sa.svg?ref=chooser-v1\" /></li>\n",
    "    </td>\n",
    "</tr>\n",
    "</table>"
   ]
  }
 ],
 "metadata": {
  "kernelspec": {
   "display_name": "Python 3 (ipykernel)",
   "language": "python",
   "name": "python3"
  },
  "language_info": {
   "codemirror_mode": {
    "name": "ipython",
    "version": 3
   },
   "file_extension": ".py",
   "mimetype": "text/x-python",
   "name": "python",
   "nbconvert_exporter": "python",
   "pygments_lexer": "ipython3",
   "version": "3.12.3"
  }
 },
 "nbformat": 4,
 "nbformat_minor": 4
}
