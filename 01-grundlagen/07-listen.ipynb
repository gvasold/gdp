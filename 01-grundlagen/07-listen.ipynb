{
 "cells": [
  {
   "cell_type": "markdown",
   "metadata": {},
   "source": [
    "# Listen\n",
    "Eine Liste ist eine geordnete Sequenz von Elementen. \n",
    "Sie können sich eine Liste als Container vorstellen, in dem andere Objekte in eine bestimmten Reihenfolge enthalten sind. Eine Liste (`list`) ist damit ein weiterer *Sequenztyp*, den wir kennen lernen.\n",
    "\n",
    "Im Code wird eine Liste durch eckige Klammern gekennzeichnet.\n",
    "\n",
    "~~~\n",
    "my_friends = ['Otto', 'Anna', 'Berta', 'Fritz']\n",
    "~~~"
   ]
  },
  {
   "cell_type": "markdown",
   "metadata": {},
   "source": [
    "Der Datentyp eines Listen-Elements ist egal, oder anders gesagt: In einer Liste können Elemente beliebigen Typs gespeichert werden:\n",
    "            "
   ]
  },
  {
   "cell_type": "code",
   "execution_count": null,
   "metadata": {},
   "outputs": [],
   "source": [
    "students = ['Otto', 'Anna', 'Maria', 'Franz']\n",
    "students"
   ]
  },
  {
   "cell_type": "code",
   "execution_count": null,
   "metadata": {},
   "outputs": [],
   "source": [
    "temperatures = [25.4, 28.1, 20.9, 26.0, 32.6]\n",
    "temperatures"
   ]
  },
  {
   "cell_type": "code",
   "execution_count": null,
   "metadata": {},
   "outputs": [],
   "source": [
    "grades = [1, 2, 1, 4, 3, 3, 2]\n",
    "grades"
   ]
  },
  {
   "cell_type": "markdown",
   "metadata": {},
   "source": [
    "In einer Liste können sogar Elemente unterschiedlichen Typs gespeichert werden (das ist aber meist keine besonders gute Idee):"
   ]
  },
  {
   "cell_type": "code",
   "execution_count": null,
   "metadata": {},
   "outputs": [],
   "source": [
    "values = ['Otto', 7, True, 3.14]\n",
    "values"
   ]
  },
  {
   "cell_type": "markdown",
   "metadata": {},
   "source": [
    "Da eine Liste -- so wie ein String -- ein Sequenztyp ist, funktionieren viele Dinge, die wir bei Strings kennengelernt haben, auch bei Listen. \n",
    "\n",
    "## Zahl der Listenelemente ermitteln\n",
    "Wir können die Zahl der Elemente einer Liste mit der Funktion `len()` ermitteln:"
   ]
  },
  {
   "cell_type": "code",
   "execution_count": null,
   "metadata": {},
   "outputs": [],
   "source": [
    "len(students)"
   ]
  },
  {
   "cell_type": "markdown",
   "metadata": {},
   "source": [
    "## Einzelne Elemente adressieren\n",
    "So wie bei einem String über den Index auf ein einzelnes Zeichen zugegriffen werden kann, kann bei einer Liste ein bestimmtes Element adressiert werden:\n"
   ]
  },
  {
   "cell_type": "code",
   "execution_count": null,
   "metadata": {},
   "outputs": [],
   "source": [
    "students[0]"
   ]
  },
  {
   "cell_type": "markdown",
   "metadata": {},
   "source": [
    "Das funktioniert auch, wie gewohnt, für negative Indexwerte:"
   ]
  },
  {
   "cell_type": "code",
   "execution_count": null,
   "metadata": {},
   "outputs": [],
   "source": [
    "students[-1]"
   ]
  },
  {
   "cell_type": "markdown",
   "metadata": {},
   "source": [
    "## Slicing\n",
    "Außerdem können Teillisten extrahiert werden:"
   ]
  },
  {
   "cell_type": "code",
   "execution_count": null,
   "metadata": {},
   "outputs": [],
   "source": [
    "students[1:3]"
   ]
  },
  {
   "cell_type": "markdown",
   "metadata": {},
   "source": [
    "## Durch eine Liste iterieren\n",
    "\n",
    "Mit einer `for`-Schleife können wir durch die einzelne Elemente einer Liste durchgehen, wie wir das bereits für die einzelnen Zeichen eines Strings gemacht haben:"
   ]
  },
  {
   "cell_type": "code",
   "execution_count": null,
   "metadata": {},
   "outputs": [],
   "source": [
    "for student in students:\n",
    "    print(student)"
   ]
  },
  {
   "cell_type": "markdown",
   "metadata": {},
   "source": [
    "<div class=\"alert alert-block alert-info\">\n",
    "<b>Übung List-1a</b>\n",
    "\n",
    "<p>Erstellen Sie eine Liste der letzten 5 Gerichte, die Sie gegegessen haben. Denken Sie sich einen guten Variablennamen für diese Liste aus.</li>\n",
    "</p>\n",
    "</div>"
   ]
  },
  {
   "cell_type": "code",
   "execution_count": null,
   "metadata": {},
   "outputs": [],
   "source": []
  },
  {
   "cell_type": "markdown",
   "metadata": {},
   "source": [
    "<div class=\"alert alert-block alert-info\">\n",
    "<b>Übung List-1b</b>\n",
    "<p>Geben Sie dann der Reihe nach, jeweils eingeleitet durch ein einen Zähler, jedes Gericht in einer eigenen Zeile aus, (verwenden Sie dazu die `enumerate()`-Funktion, die wir im \n",
    "<a href=\"05_schleifen.ipynb\">Notebook zu Schleifen</a> kennen gelernt haben. Die Ausgabe soll in etwa so aussehen:\n",
    "<pre>\n",
    "1. Pizza\n",
    "2. Burger\n",
    "3. Döner\n",
    "4. Pizza\n",
    "5. Sushi\n",
    "</pre>\n",
    "Achten Sie darauf, dass die Numerierung mit `1` beginnt!\n",
    "</p>        \n",
    "</div>"
   ]
  },
  {
   "cell_type": "code",
   "execution_count": null,
   "metadata": {},
   "outputs": [],
   "source": []
  },
  {
   "cell_type": "markdown",
   "metadata": {},
   "source": [
    "<div class=\"alert alert-block alert-info\">\n",
    "<b>Übung List-1c</b>\n",
    "<p>Lassen Sie sich die letzten 3 Gerichte jeweils in einer eigenen Zeile ausgeben. Die Ausgabe sollte ungefähr so aussehen:\n",
    "<pre>\n",
    "Döner\n",
    "Pizza\n",
    "Sushi\n",
    "</pre>\n",
    "</p></div>"
   ]
  },
  {
   "cell_type": "code",
   "execution_count": null,
   "metadata": {},
   "outputs": [],
   "source": []
  },
  {
   "cell_type": "markdown",
   "metadata": {},
   "source": [
    "## Listen verändern\n",
    "\n",
    "Im Unterschied zu Strings sind Listen nachträglich veränderbar. "
   ]
  },
  {
   "cell_type": "markdown",
   "metadata": {},
   "source": [
    "### Elemente hinzufügen\n",
    "Wir können jederzeit neue Elemente hinzufügen. Die Mehode `append(WERT)` fügt ein neues Element am Ende der Liste ein:"
   ]
  },
  {
   "cell_type": "code",
   "execution_count": null,
   "metadata": {},
   "outputs": [],
   "source": [
    "students = ['Otto', 'Anna', 'Maria', 'Franz']\n",
    "print(students)\n",
    "students.append('Otto')\n",
    "print(students)"
   ]
  },
  {
   "cell_type": "markdown",
   "metadata": {},
   "source": [
    "Bei Bedarf können wir ein Element an beliebiger Position einfügen. Dazu verwenden wie die `insert()`-Methode des `list`-Objekts. Diese Methode erwartet 2 Parameter:\n",
    "\n",
    "1. Die Position, an der der Wert in die Liste eingefügt werden soll. Diese Angabe ist 0-basiert. Position `0` bedeutet also \"ganz vorne\", `1` bedeutet: nach dem ersten Element.\n",
    "2. Den einzufügendenden Wert"
   ]
  },
  {
   "cell_type": "code",
   "execution_count": null,
   "metadata": {},
   "outputs": [],
   "source": [
    "students.insert(0, 'Berta')\n",
    "students"
   ]
  },
  {
   "cell_type": "markdown",
   "metadata": {},
   "source": [
    "### Elemente entfernen\n",
    "\n",
    "Ebenso können wir Elemente wieder entfernen. Die Methode `pop()` entfernt das letzte Element der Liste. `pop()`gibt den Wert des entfernten Elements zurück."
   ]
  },
  {
   "cell_type": "code",
   "execution_count": null,
   "metadata": {},
   "outputs": [],
   "source": [
    "last_student = students.pop()\n",
    "print(last_student)\n",
    "print(students)"
   ]
  },
  {
   "cell_type": "markdown",
   "metadata": {},
   "source": [
    "`pop()` kann aber auch optional mit einem Argument aufgerufen werden: Einer Zahl, die dem Index des zu entfernenden Objekts entspricht:"
   ]
  },
  {
   "cell_type": "code",
   "execution_count": null,
   "metadata": {},
   "outputs": [],
   "source": [
    "first_student = students.pop(0) #  entferne das erste Element der Liste\n",
    "print(first_student)\n",
    "students"
   ]
  },
  {
   "cell_type": "markdown",
   "metadata": {},
   "source": [
    "<div class=\"alert alert-block alert-info\">\n",
    "<b>Übung List-2</b>\n",
    "<p>Stellen Sie sich vor, Sie kommen gerade vom Essen. \n",
    "<ol>\n",
    "<li>Hängen Sie das eben zu sich genommene Gericht ans Ende der bei <b>Übung List-1</b> erstellten Liste an.</li>\n",
    "<li>Entfernen Sie die älteste Mahlzeit, damit die Liste wieder genau 5 Einträge umfasst.</li>\n",
    "</ol>\n",
    "</p>    \n",
    "</div>"
   ]
  },
  {
   "cell_type": "code",
   "execution_count": null,
   "metadata": {},
   "outputs": [],
   "source": []
  },
  {
   "cell_type": "markdown",
   "metadata": {},
   "source": [
    "Was Sie hier gerade in einer sehr einfachen Form geschrieben haben, nennt man in der Informatik eine **Queue**: Wenn ein neues Element am Ende eingefügt und dabei die maximale Länge der Queue überschritten wird, muss das erste (d.h. älteste) Element aus der Queue entfernt werden.\n",
    "\n",
    "![Eine Queue](img/queue.png)\n",
    "\n",
    "Sie kennen dieses Prinzip vermutlich von Ihrem Hausarzt: Wenn das Wartezimmer voll ist, muss man am Gang warten, bis der nächste Patient ins Behandlungszimmer gerufen und so ein Platz im  Wartezimmer frei wird.\n",
    "\n",
    "Wir werden später im Semester noch einen genaueren Blick auf die Verwendung von Queues werfen."
   ]
  },
  {
   "cell_type": "markdown",
   "metadata": {},
   "source": [
    "### Elemente ersetzen\n",
    "Über den Index kann der Wert eines Listenelements jederzeit verändert werden:"
   ]
  },
  {
   "cell_type": "code",
   "execution_count": null,
   "metadata": {},
   "outputs": [],
   "source": [
    "students = ['Otto', 'Anna', 'Maria', 'Franz']\n",
    "print(students)\n",
    "students[1] = 'Berta'\n",
    "print(students)"
   ]
  },
  {
   "cell_type": "markdown",
   "metadata": {},
   "source": [
    "Hier haben wir also den Wert des zweiten Elements von 'Anna' auf 'Berta' geändert. (Genau genommen haben wir das alte durch ein neues String-Objekt ersetzt, aber das ist jetzt noch nicht wichtig.)"
   ]
  },
  {
   "cell_type": "markdown",
   "metadata": {},
   "source": [
    "## Mehrdimensionale Listen\n",
    "Wir haben gesehen, dass eine Liste Werte mit beliebige Datentypen enthalten kann. Dazu zählen natürlich auch Listen. Wir können also eine Liste erzeugen, deren Elemente wiederum Listen sind. Wir haben dann eine Liste von Listen. \n",
    "\n",
    "Stellen wir uns vor, wir messen drei Mal täglich die Temperatur und möchten diese Meßwerte speichern. Am ersten Tag haben wir diese 3 Messungen: `[17, 28, 24]`. Am zweiten Tage messen wird diese Werte: `[18, 31, 28]`. Wir haben also für jeden Tag eine Liste mit 3 Werten. Die einzelnen Tage (sprich: Listen) können wir wieder in einer Liste speichern:"
   ]
  },
  {
   "cell_type": "code",
   "execution_count": null,
   "metadata": {},
   "outputs": [],
   "source": [
    "temperatures = [\n",
    "    [17, 28, 24],\n",
    "    [18, 31, 28],\n",
    "    [20, 35, 29]\n",
    "]"
   ]
  },
  {
   "cell_type": "markdown",
   "metadata": {},
   "source": [
    "Wir können uns diese Temperaturen als Tabelle vorstellen: Jede Zeile repräsentiert einen Tag, jede Spalte einen Meßzeitpunkt (z.B. 6:00, 12:00, 18:00). Wie wir auf die Messwerte eines bestimmten Tages zugreifen können, haben wir schon gelernt:"
   ]
  },
  {
   "cell_type": "code",
   "execution_count": null,
   "metadata": {},
   "outputs": [],
   "source": [
    "temperatures[1]"
   ]
  },
  {
   "cell_type": "markdown",
   "metadata": {},
   "source": [
    "Da das so adressierte Element wieder eine Liste ist, können wir auch auf einzelne Element dieser Liste zugreifen. Den ersten Messwert des zweiten Tages können wir so auslesen:"
   ]
  },
  {
   "cell_type": "code",
   "execution_count": null,
   "metadata": {},
   "outputs": [],
   "source": [
    "day = temperatures[1] # temperatures of second day as list in variable 'day'\n",
    "temperature_at_6 = day[0] # first value of day\n",
    "temperature_at_6"
   ]
  },
  {
   "cell_type": "markdown",
   "metadata": {},
   "source": [
    "Normalerweise schreibt man das kompakter so:"
   ]
  },
  {
   "cell_type": "code",
   "execution_count": null,
   "metadata": {},
   "outputs": [],
   "source": [
    "temperatures[1][0]"
   ]
  },
  {
   "cell_type": "markdown",
   "metadata": {},
   "source": [
    "Der Wert im der ersten Klammernpaar beziehlt sich auch die Liste `temperatures` (also das was wir oben als `day` referenziert haben), der Wert im zweiten Klammernpaar auf die Liste, die wir über den ersten Index erhalten, also auf den ersten Eintrag des zweiten Eintrags der Liste `temperatures`."
   ]
  },
  {
   "cell_type": "markdown",
   "metadata": {},
   "source": [
    "<div class=\"alert alert-block alert-info\">\n",
    "<b>Übung List-3</b>\n",
    "<p>\n",
    "Damit sie mit diesem Konzept vertraut werden, lassen Sie sich folgende Temperaturen ausgeben:\n",
    "<ol>\n",
    "<li>Mittagstemperatur des ersten Tages</li>\n",
    "<li>Morgentemperatur des ersten Tages</li>\n",
    "<li>Morgentemperatur des letzten Tages</li>\n",
    "<li>Abendtemperatur des zweiten Tages</li>\n",
    "</ol>\n",
    "</p>\n",
    "</div>    \n"
   ]
  },
  {
   "cell_type": "markdown",
   "metadata": {},
   "source": [
    "## Mit Listen-Werten rechnen\n",
    "Für Listen, die numerische Werte enthalten (int, float) stellt Python Funktionen bereit, die auf alle Werte einer Liste angewandt werden können:\n",
    "\n",
    "  * `max(liste)` ermittelt den größten, in der Liste vorkommenden Wert\n",
    "  * `min(liste)` ermittelt den kleinsten, in der Liste vorkommenden Wert\n",
    "  * `sum(liste)` ermittelt die Summe aller Werte der Liste"
   ]
  },
  {
   "cell_type": "code",
   "execution_count": null,
   "metadata": {},
   "outputs": [],
   "source": [
    "scores = [7, 2, 4, 1, 4, 8, 4]\n",
    "print(\"Größter Wert: {}\".format(max(scores)))\n",
    "print(\"Kleinster Wert: {}\".format(min(scores)))\n",
    "print(\"Summe: {}\".format(sum(scores)))"
   ]
  },
  {
   "cell_type": "markdown",
   "metadata": {},
   "source": [
    "<div class=\"alert alert-block alert-info\">\n",
    "<b>Übung List-4</b>\n",
    "<p>\n",
    "Wie hoch ist die gemittelte Mittagstemperatur der oben erstellten Tabelle `temperatures`? \n",
    "</p>    \n",
    "<p>Hinweis: Zerlegen Sie die Aufgabe in einzelne Schritte:\n",
    "<ol>\n",
    "<li>Erzeugen Sie eine neue Liste <tt>noon_temperatures</tt>, in die Sie in einer Schleife nur die Mittagstemperaturen aus der Liste <tt>temperatures</tt> einfügen</li>\n",
    "<li>Ermitteln sie den Mittelwert (Summe durch Anzahl der Elemente) dieser Liste.\n",
    "</ol>\n",
    "</div>"
   ]
  },
  {
   "cell_type": "code",
   "execution_count": null,
   "metadata": {},
   "outputs": [],
   "source": []
  },
  {
   "cell_type": "markdown",
   "metadata": {},
   "source": [
    "## Zeilen einer Datei in eine Liste lesen\n",
    "Kehren wir zurück zu unsere Datei mit den Vornamen, die wir im [Notebook zum Umgang mit Dateien](06_dateien.ipynb) kennen gelernt haben. Wir haben dort gelernt, dass die Methode `readlines()` den Inhalt einer Datei als Liste von Zeilen liefert:"
   ]
  },
  {
   "cell_type": "code",
   "execution_count": null,
   "metadata": {},
   "outputs": [],
   "source": [
    "with open('data/vornamen/names_short.txt', encoding='utf-8') as fh:\n",
    "    lines = fh.readlines()\n",
    "print(lines)"
   ]
  },
  {
   "cell_type": "markdown",
   "metadata": {},
   "source": [
    "Unsere Liste `lines` enthält also jetzt Zeile für Zeile den Inhalt der Datei `names_short.txt`. Allerdings mit einem Schönheitsfehler: Da jede Zeile durch ein Zeilenumbruchszeichen beendet wird, ist dieses auch in jedem Eintrag der Liste enthalten (`\\n`). Der folgende Exkurs beschreibt, wie wir diese Zeilenumbrüche los werden können."
   ]
  },
  {
   "cell_type": "markdown",
   "metadata": {},
   "source": [
    "## Exkurs: Die String-Methoden rstrip(), lstrip() und strip()\n",
    "Wie wir sehen, enthält jedes Listenelement am Ende das Zeilenumbruchszeichen `\\n` (line feed). Wir könnten dieses z.B. mit Slicing entfernen, jedoch bietet der String-Typ eine Methode `.rstrip()`, die genau das tut, was wird brauchen:"
   ]
  },
  {
   "cell_type": "code",
   "execution_count": null,
   "metadata": {},
   "outputs": [],
   "source": [
    "s = 'abc\\n'\n",
    "s.rstrip()"
   ]
  },
  {
   "cell_type": "markdown",
   "metadata": {},
   "source": [
    "`rstrip()` entfernt allen Whitespace (Leerzeichen, Tabulaturen, Zeilenumbrüche etc.) am Ende einen Strings und gibt den veränderten String zurück. \n",
    "\n",
    "Zusätzlich gibt es noch `lstrip()`, das Whitespace am Anfang eines Strings entfernt, und `strip()`, das Whitespace links und rechts entfernt."
   ]
  },
  {
   "cell_type": "code",
   "execution_count": null,
   "metadata": {},
   "outputs": [],
   "source": [
    "s = '   abc   '\n",
    "print('s: \"{}\"'.format(s))\n",
    "print('s.rstrip(): \"{}\"'.format(s.rstrip()))\n",
    "print('s.lstrip(): \"{}\"'.format(s.lstrip()))\n",
    "print('s.strip(): \"{}\"'.format(s.strip()))"
   ]
  },
  {
   "cell_type": "markdown",
   "metadata": {},
   "source": [
    "## Zeilenumbrüche in einer Liste von Strings entfernen \n",
    "### Methode 1: in einer Schleife\n",
    "Wenn wir nun alle Zeilenumbrüche aus unserer Liste `lines` entfernen wollen, können wir das in einer `for`-Schleife tun:"
   ]
  },
  {
   "cell_type": "code",
   "execution_count": null,
   "metadata": {},
   "outputs": [],
   "source": [
    "clean_names = [] # here we will store all names without \\n\n",
    "for line in lines:\n",
    "    clean_names.append(line.rstrip())\n",
    "print(clean_names)"
   ]
  },
  {
   "cell_type": "markdown",
   "metadata": {},
   "source": [
    "Zur Erinnerung: Mit `list.append(WERT)`  können wir einer Liste einen Wert hinzufügen. Dieser Wert wird hinten an die Liste angefügt:"
   ]
  },
  {
   "cell_type": "code",
   "execution_count": null,
   "metadata": {},
   "outputs": [],
   "source": [
    "students = ['Anna', 'Hans', 'Berta']\n",
    "students.append('Dora')\n",
    "students"
   ]
  },
  {
   "cell_type": "markdown",
   "metadata": {},
   "source": [
    "## Methode 2: mit einer List Comprehension\n",
    "*List Comprehensions* sind ein aus dem Bereich der funktionalen Programmierung kommender Ansatz, um eine Aktion auf alle Elemente eine Liste anzuwenden.\n",
    "\n",
    "Die Syntax einer List Comprehension ist diese:\n",
    "\n",
    "```\n",
    "[<tue etwas mit element> for <element> in <iterable>]\n",
    "```"
   ]
  },
  {
   "cell_type": "code",
   "execution_count": null,
   "metadata": {},
   "outputs": [],
   "source": [
    "clean_names = [line.rstrip() for line in lines]\n",
    "print(clean_names)"
   ]
  },
  {
   "cell_type": "markdown",
   "metadata": {},
   "source": [
    "List Comprehensions sind eine seit einigen Jahren sehr populär gewordene Alternative für einfache Schleifen. Ich empfehle ausdrücklich, sich damit vertraut zu machen, weil \n",
    "\n",
    "1. sie kompakter sind als normale Schleifen\n",
    "2. häufig in fremdem Code auftauchen und Sie sie deshalb lesen und verstehen sollten"
   ]
  },
  {
   "cell_type": "markdown",
   "metadata": {},
   "source": [
    "<div class=\"alert alert-block alert-info\">\n",
    "<b>Übung List-5</b>\n",
    "<p>\n",
    "Schreiben Sie eine List Comprehension, die jeden Wert der Liste <tt>nums</tt> mit sich selbst multipliziert.\n",
    "Das Ergebnis sollte also so ausehen:\n",
    "<pre>\n",
    "[16, 81, 289, 25, 9801]\n",
    "</pre>\n",
    "</p>    \n",
    "</div>    "
   ]
  },
  {
   "cell_type": "code",
   "execution_count": null,
   "metadata": {},
   "outputs": [],
   "source": [
    "nums = [4, 9, 17, 5, 99]"
   ]
  },
  {
   "cell_type": "markdown",
   "metadata": {},
   "source": [
    "## Vertiefende Literatur\n",
    "Ich empfehle ausdrücklich, mindestens eine der folgenden Ressourcen zur Vertiefung zu lesen!\n",
    "\n",
    "  * Python Tutorial: \n",
    "\t* Kapitel 3.1.3 \n",
    "\t  https://docs.python.org/3/tutorial/introduction.html#lists,\n",
    "      https://docs.python.org/3/tutorial/datastructures.html#more-on-lists\n",
    "  * Klein, Kurs: \n",
    "\t* Sequentielle Datentypen\n",
    "\t  https://python-kurs.eu/python3_sequentielle_datentypen.php\n",
    "\t* Listen manipulieren\n",
    "\t  https://python-kurs.eu/python3_listen.php\n",
    "  * Sweigart: https://automatetheboringstuff.com/2e/chapter4/\n",
    "  \n",
    "  \n",
    "  * Klein, Buch: Kapitel 5\n",
    "  * Kofler: Kapitel 7.1\n",
    "  * Weigend: Kapitel 4.10\n",
    "  * Pilgrim: Kapitel 2.4 und 2.5\n",
    "\thttps://www.diveinto.org/python3/native-datatypes.html#lists\n",
    "  * Downey: \n",
    "\t* Lists: http://greenteapress.com/thinkpython/html/thinkpython011.html\n",
    "\t* Tuples: http://greenteapress.com/thinkpython/html/thinkpython013.html\n"
   ]
  },
  {
   "cell_type": "markdown",
   "metadata": {},
   "source": [
    "## Lizenz\n",
    "\n",
    "This notebook ist part of the course [Grundlagen der Programmierung](https://github.com/gvasold/gdp) held by [Gunter Vasold](https://online.uni-graz.at/kfu_online/wbForschungsportal.cbShowPortal?pPersonNr=51488) at Graz University 2017&thinsp;ff. \n",
    "\n",
    "<p>\n",
    "    It is licensed under <a href=\"https://creativecommons.org/licenses/by-nc-sa/4.0\">CC BY-NC-SA 4.0</a>\n",
    "</p>\n",
    "\n",
    "<table>\n",
    "    <tr>\n",
    "    <td>\n",
    "        <img style=\"height:22px\" \n",
    "             src=\"https://mirrors.creativecommons.org/presskit/icons/cc.svg?ref=chooser-v1\"/></li>\n",
    "    </td>\n",
    "    <td>\n",
    "    <img style=\"height:22px;\"\n",
    "         src=\"https://mirrors.creativecommons.org/presskit/icons/by.svg?ref=chooser-v1\" /></li>\n",
    "    </td>\n",
    "    <td>\n",
    "        <img style=\"height:22px;\"\n",
    "         src=\"https://mirrors.creativecommons.org/presskit/icons/nc.svg?ref=chooser-v1\" /></li>\n",
    "    </td>\n",
    "    <td>\n",
    "        <img style=\"height:22px;\"\n",
    "             src=\"https://mirrors.creativecommons.org/presskit/icons/sa.svg?ref=chooser-v1\" /></li>\n",
    "    </td>\n",
    "</tr>\n",
    "</table>"
   ]
  }
 ],
 "metadata": {
  "kernelspec": {
   "display_name": "Python 3 (ipykernel)",
   "language": "python",
   "name": "python3"
  },
  "language_info": {
   "codemirror_mode": {
    "name": "ipython",
    "version": 3
   },
   "file_extension": ".py",
   "mimetype": "text/x-python",
   "name": "python",
   "nbconvert_exporter": "python",
   "pygments_lexer": "ipython3",
   "version": "3.10.6"
  }
 },
 "nbformat": 4,
 "nbformat_minor": 4
}
