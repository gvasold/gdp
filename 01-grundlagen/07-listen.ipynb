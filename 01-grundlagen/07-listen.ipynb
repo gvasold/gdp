{
 "cells": [
  {
   "cell_type": "markdown",
   "metadata": {},
   "source": [
    "# Listen\n",
    "Eine Liste ist eine geordnete Sequenz von Elementen. \n",
    "Sie können sich eine Liste als Container vorstellen, in dem andere Objekte in einer bestimmten Reihenfolge enthalten sind. Eine Liste (`list`) ist somit nach Strings (str) ein weiterer *Sequenztyp*, den wir kennen lernen. Wie bereits angekündigt, lassen sich viele Dinge, die wir bei Strings bereits kennen gelernt haben, auch auf Listen anwenden.\n",
    "\n",
    "Im Code wird eine Liste durch eckige Klammern gekennzeichnet. Hier erzeugen wir eine Liste von vier Strings.\n",
    "\n",
    "~~~\n",
    "my_friends = ['Otto', 'Anna', 'Berta', 'Fritz']\n",
    "~~~"
   ]
  },
  {
   "cell_type": "markdown",
   "metadata": {},
   "source": [
    "Der Datentyp eines Listen-Elements ist egal, oder anders gesagt: In einer Liste können Elemente beliebigen Typs gespeichert werden:\n",
    "            "
   ]
  },
  {
   "cell_type": "code",
   "execution_count": null,
   "metadata": {},
   "outputs": [],
   "source": [
    "students = ['Otto', 'Anna', 'Maria', 'Franz']\n",
    "students"
   ]
  },
  {
   "cell_type": "code",
   "execution_count": null,
   "metadata": {},
   "outputs": [],
   "source": [
    "temperatures = [25.4, 28.1, 20.9, 26.0, 32.6]\n",
    "temperatures"
   ]
  },
  {
   "cell_type": "code",
   "execution_count": null,
   "metadata": {},
   "outputs": [],
   "source": [
    "grades = [1, 2, 1, 4, 3, 3, 2]\n",
    "grades"
   ]
  },
  {
   "cell_type": "markdown",
   "metadata": {},
   "source": [
    "In einer Liste können sogar Elemente unterschiedlichen Typs gespeichert werden (das ist aber meist keine besonders gute Idee):"
   ]
  },
  {
   "cell_type": "code",
   "execution_count": null,
   "metadata": {},
   "outputs": [],
   "source": [
    "values = ['Otto', 7, True, 3.14]\n",
    "values"
   ]
  },
  {
   "cell_type": "markdown",
   "metadata": {},
   "source": [
    "Da eine Liste -- so wie ein String -- ein Sequenztyp ist, funktionieren viele Dinge, die wir bei Strings kennengelernt haben, auch bei Listen. \n",
    "\n",
    "## Zahl der Listenelemente ermitteln\n",
    "Wir können die Zahl der Elemente einer Liste mit der Funktion `len()` ermitteln:"
   ]
  },
  {
   "cell_type": "code",
   "execution_count": null,
   "metadata": {},
   "outputs": [],
   "source": [
    "len(students)"
   ]
  },
  {
   "cell_type": "markdown",
   "metadata": {},
   "source": [
    "## Einzelne Elemente adressieren\n",
    "So wie bei einem String über den Index auf ein einzelnes Zeichen zugegriffen werden kann, kann bei einer Liste ein bestimmtes Element adressiert werden:\n"
   ]
  },
  {
   "cell_type": "code",
   "execution_count": null,
   "metadata": {},
   "outputs": [],
   "source": [
    "students[0]"
   ]
  },
  {
   "cell_type": "markdown",
   "metadata": {},
   "source": [
    "Das funktioniert auch, wie gewohnt, für negative Indexwerte:"
   ]
  },
  {
   "cell_type": "code",
   "execution_count": null,
   "metadata": {},
   "outputs": [],
   "source": [
    "students[-1]"
   ]
  },
  {
   "cell_type": "markdown",
   "metadata": {},
   "source": [
    "## Slicing\n",
    "Außerdem können Teillisten extrahiert werden:"
   ]
  },
  {
   "cell_type": "code",
   "execution_count": null,
   "metadata": {},
   "outputs": [],
   "source": [
    "students[1:3]"
   ]
  },
  {
   "cell_type": "markdown",
   "metadata": {},
   "source": [
    "## Durch eine Liste iterieren\n",
    "\n",
    "Mit einer `for`-Schleife können wir durch die einzelne Elemente einer Liste durchgehen, wie wir das bereits für die einzelnen Zeichen eines Strings gemacht haben:"
   ]
  },
  {
   "cell_type": "code",
   "execution_count": null,
   "metadata": {},
   "outputs": [],
   "source": [
    "for student in students:\n",
    "    print(student)"
   ]
  },
  {
   "cell_type": "markdown",
   "metadata": {},
   "source": [
    "<div class=\"alert alert-block alert-info\">\n",
    "<b>Übung List-1a</b>\n",
    "\n",
    "<p>Erstellen Sie eine Liste der letzten 5 Gerichte, die Sie gegegessen haben. Denken Sie sich einen guten Variablennamen für diese Liste aus.</li>\n",
    "</p>\n",
    "</div>"
   ]
  },
  {
   "cell_type": "code",
   "execution_count": null,
   "metadata": {},
   "outputs": [],
   "source": []
  },
  {
   "cell_type": "markdown",
   "metadata": {},
   "source": [
    "<div class=\"alert alert-block alert-info\">\n",
    "<b>Übung List-1b</b>\n",
    "<p>Geben Sie dann der Reihe nach, jeweils eingeleitet durch ein einen Zähler, jedes Gericht in einer eigenen Zeile aus, (verwenden Sie dazu die `enumerate()`-Funktion, die wir im \n",
    "<a href=\"05_schleifen.ipynb\">Notebook zu Schleifen</a> kennen gelernt haben. Die Ausgabe soll in etwa so aussehen:\n",
    "<pre>\n",
    "1. Pizza\n",
    "2. Burger\n",
    "3. Döner\n",
    "4. Pizza\n",
    "5. Sushi\n",
    "</pre>\n",
    "Achten Sie darauf, dass die Numerierung mit `1` beginnt!\n",
    "</p>        \n",
    "</div>"
   ]
  },
  {
   "cell_type": "code",
   "execution_count": null,
   "metadata": {},
   "outputs": [],
   "source": []
  },
  {
   "cell_type": "markdown",
   "metadata": {},
   "source": [
    "<div class=\"alert alert-block alert-info\">\n",
    "<b>Übung List-1c</b>\n",
    "<p>Lassen Sie sich die letzten 3 Gerichte jeweils in einer eigenen Zeile ausgeben. Die Ausgabe sollte ungefähr so aussehen:\n",
    "<pre>\n",
    "Döner\n",
    "Pizza\n",
    "Sushi\n",
    "</pre>\n",
    "</p></div>"
   ]
  },
  {
   "cell_type": "code",
   "execution_count": null,
   "metadata": {},
   "outputs": [],
   "source": []
  },
  {
   "cell_type": "markdown",
   "metadata": {},
   "source": [
    "## Listen verändern\n",
    "\n",
    "Im Unterschied zu Strings sind Listen nachträglich veränderbar. Sie gehören also zu den veränderbaren Datentypen (*mutable types*)."
   ]
  },
  {
   "cell_type": "markdown",
   "metadata": {},
   "source": [
    "### Elemente hinzufügen\n",
    "Wir können jederzeit neue Elemente hinzufügen. Die Mehode `append(WERT)` fügt ein neues Element am Ende der Liste ein:"
   ]
  },
  {
   "cell_type": "code",
   "execution_count": null,
   "metadata": {},
   "outputs": [],
   "source": [
    "students = ['Otto', 'Anna', 'Maria', 'Franz']\n",
    "print(students)\n",
    "students.append('Otto')\n",
    "print(students)"
   ]
  },
  {
   "cell_type": "markdown",
   "metadata": {},
   "source": [
    "Bei Bedarf können wir ein Element an beliebiger Position einfügen. Dazu verwenden wie die `insert()`-Methode des `list`-Objekts. Diese Methode erwartet 2 Parameter:\n",
    "\n",
    "1. Die Position, an der der Wert in die Liste eingefügt werden soll. Diese Angabe ist 0-basiert. Position `0` bedeutet also \"ganz vorne\", `1` bedeutet: nach dem ersten Element.\n",
    "2. Den einzufügendenden Wert"
   ]
  },
  {
   "cell_type": "code",
   "execution_count": null,
   "metadata": {},
   "outputs": [],
   "source": [
    "students.insert(0, 'Berta')\n",
    "students"
   ]
  },
  {
   "cell_type": "markdown",
   "metadata": {},
   "source": [
    "### Elemente entfernen\n",
    "\n",
    "Ebenso können wir Elemente wieder entfernen. Die Methode `pop()` entfernt das letzte Element der Liste. `pop()`gibt den Wert des entfernten Elements zurück."
   ]
  },
  {
   "cell_type": "code",
   "execution_count": null,
   "metadata": {},
   "outputs": [],
   "source": [
    "last_student = students.pop()\n",
    "print(last_student)\n",
    "print(students)"
   ]
  },
  {
   "cell_type": "markdown",
   "metadata": {},
   "source": [
    "`pop()` kann aber auch optional mit einem Argument aufgerufen werden: Einer Zahl, die dem Index des zu entfernenden Objekts entspricht:"
   ]
  },
  {
   "cell_type": "code",
   "execution_count": null,
   "metadata": {},
   "outputs": [],
   "source": [
    "first_student = students.pop(0) #  entferne das erste Element der Liste\n",
    "print(first_student)\n",
    "students"
   ]
  },
  {
   "cell_type": "markdown",
   "metadata": {},
   "source": [
    "<div class=\"alert alert-block alert-info\">\n",
    "<b>Übung List-2</b>\n",
    "<p>Stellen Sie sich vor, Sie kommen gerade vom Essen. \n",
    "<ol>\n",
    "<li>Hängen Sie das eben zu sich genommene Gericht ans Ende der bei <b>Übung List-1</b> erstellten Liste an.</li>\n",
    "<li>Entfernen Sie die älteste Mahlzeit, damit die Liste wieder genau 5 Einträge umfasst.</li>\n",
    "</ol>\n",
    "</p>    \n",
    "</div>"
   ]
  },
  {
   "cell_type": "code",
   "execution_count": null,
   "metadata": {},
   "outputs": [],
   "source": []
  },
  {
   "cell_type": "markdown",
   "metadata": {},
   "source": [
    "Was Sie hier gerade in einer sehr einfachen Form geschrieben haben, nennt man in der Informatik eine **Queue**: Wenn ein neues Element am Ende eingefügt und dabei die maximale Länge der Queue überschritten wird, muss das erste (d.h. älteste) Element aus der Queue entfernt werden."
   ]
  },
  {
   "cell_type": "markdown",
   "metadata": {},
   "source": [
    "![Eine Queue](data:image/png;base64,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)"
   ]
  },
  {
   "cell_type": "markdown",
   "metadata": {},
   "source": [
    "Sie kennen dieses Prinzip vermutlich von Ihrem Hausarzt: Wenn das Wartezimmer voll ist, muss man am Gang warten, bis der nächste Patient ins Behandlungszimmer gerufen und so ein Platz im  Wartezimmer frei wird.\n",
    "\n",
    "Wir werden später im Semester noch einen genaueren Blick auf die Verwendung von Queues werfen."
   ]
  },
  {
   "cell_type": "markdown",
   "metadata": {},
   "source": [
    "### Elemente ersetzen\n",
    "Über den Index kann der Wert eines Listenelements jederzeit verändert werden:"
   ]
  },
  {
   "cell_type": "code",
   "execution_count": null,
   "metadata": {},
   "outputs": [],
   "source": [
    "students = ['Otto', 'Anna', 'Maria', 'Franz']\n",
    "print(students)\n",
    "students[1] = 'Berta'\n",
    "print(students)"
   ]
  },
  {
   "cell_type": "markdown",
   "metadata": {},
   "source": [
    "Hier haben wir also den Wert des zweiten Elements von 'Anna' auf 'Berta' geändert. (Genau genommen haben wir das alte String-Objekt an Position 1 durch ein neues String-Objekt ersetzt)."
   ]
  },
  {
   "cell_type": "markdown",
   "metadata": {},
   "source": [
    "## Mehrdimensionale Listen\n",
    "Wir haben gesehen, dass eine Liste Werte mit beliebigen Datentypen enthalten kann. Dazu zählen natürlich auch Listen. Wir können also eine Liste erzeugen, deren Elemente wiederum Listen sind. Wir haben dann eine Liste von Listen. \n",
    "\n",
    "Stellen wir uns vor, wir messen drei Mal täglich die Temperatur und möchten diese Meßwerte so speichern, dass wir gezielt auf einzelne Tage, aber auch auf einzelne Messwerte zugreifen können. Am ersten Tag haben wir diese 3 Messungen: `[17, 28, 24]`. Am zweiten Tage messen wird diese Werte: `[18, 31, 28]`. Wir haben also für jeden Tag eine Liste mit 3 Werten. Die einzelnen Tage (sprich: Listen) können wir wieder in einer Liste speichern:"
   ]
  },
  {
   "cell_type": "code",
   "execution_count": null,
   "metadata": {},
   "outputs": [],
   "source": [
    "temperatures = [\n",
    "    [17, 28, 24],\n",
    "    [18, 31, 28],\n",
    "    [20, 35, 29]\n",
    "]"
   ]
  },
  {
   "cell_type": "markdown",
   "metadata": {},
   "source": [
    "Wir können uns diese Temperaturen als Tabelle vorstellen: Jede Zeile repräsentiert einen Tag, jede Spalte einen Meßzeitpunkt (z.B. 6:00, 12:00, 18:00). Wie wir auf die Messwerte eines bestimmten Tages zugreifen können, haben wir schon gelernt:"
   ]
  },
  {
   "cell_type": "code",
   "execution_count": null,
   "metadata": {},
   "outputs": [],
   "source": [
    "temperatures[1]"
   ]
  },
  {
   "cell_type": "markdown",
   "metadata": {},
   "source": [
    "Da das so adressierte Element wieder eine Liste ist, können wir auch auf einzelne Element dieser Liste zugreifen. Den ersten Messwert des zweiten Tages könnten wir so auslesen:"
   ]
  },
  {
   "cell_type": "code",
   "execution_count": null,
   "metadata": {},
   "outputs": [],
   "source": [
    "day = temperatures[1]  # temperatures of second day as list in variable 'day'\n",
    "print(day[0])  # first value of day"
   ]
  },
  {
   "cell_type": "markdown",
   "metadata": {},
   "source": [
    "Normalerweise schreibt man das aber in einer kompakteren Form:"
   ]
  },
  {
   "cell_type": "code",
   "execution_count": null,
   "metadata": {},
   "outputs": [],
   "source": [
    "temperatures[1][0]  # Second row, first column"
   ]
  },
  {
   "cell_type": "markdown",
   "metadata": {},
   "source": [
    "Der Wert im der ersten Klammernpaar beziehlt sich auch die Liste `temperatures` (also das was wir oben als `day` referenziert haben), der Wert im zweiten Klammernpaar auf die Liste, die wir über den ersten Index erhalten, also auf den ersten Eintrag des zweiten Eintrags der Liste `temperatures`."
   ]
  },
  {
   "cell_type": "markdown",
   "metadata": {},
   "source": [
    "<div class=\"alert alert-block alert-info\">\n",
    "<b>Übung List-3</b>\n",
    "<p>\n",
    "Damit sie mit diesem Konzept vertraut werden, lassen Sie sich folgende Temperaturen ausgeben:\n",
    "<ol>\n",
    "<li>Mittagstemperatur des ersten Tages</li>\n",
    "<li>Morgentemperatur des ersten Tages</li>\n",
    "<li>Morgentemperatur des letzten Tages</li>\n",
    "<li>Abendtemperatur des zweiten Tages</li>\n",
    "</ol>\n",
    "</p>\n",
    "</div>    \n"
   ]
  },
  {
   "cell_type": "markdown",
   "metadata": {},
   "source": [
    "## Mit Listen-Werten rechnen\n",
    "Für Listen, die numerische Werte enthalten (int, float) stellt Python Funktionen bereit, die auf alle Werte einer Liste angewandt werden können:\n",
    "\n",
    "  * `max(liste)` ermittelt den größten, in der Liste vorkommenden Wert\n",
    "  * `min(liste)` ermittelt den kleinsten, in der Liste vorkommenden Wert\n",
    "  * `sum(liste)` ermittelt die Summe aller Werte der Liste"
   ]
  },
  {
   "cell_type": "code",
   "execution_count": null,
   "metadata": {},
   "outputs": [],
   "source": [
    "scores = [7, 2, 4, 1, 4, 8, 4]\n",
    "print(\"Größter Wert: {}\".format(max(scores)))\n",
    "print(\"Kleinster Wert: {}\".format(min(scores)))\n",
    "print(\"Summe: {}\".format(sum(scores)))"
   ]
  },
  {
   "cell_type": "markdown",
   "metadata": {},
   "source": [
    "<div class=\"alert alert-block alert-info\">\n",
    "<b>Übung List-4</b>\n",
    "<p>\n",
    "Wie hoch ist die gemittelte Mittagstemperatur der oben erstellten Tabelle `temperatures`? \n",
    "</p>    \n",
    "<p>Hinweis: Zerlegen Sie die Aufgabe in einzelne Schritte:\n",
    "<ol>\n",
    "<li>Erzeugen Sie eine neue Liste <tt>noon_temperatures</tt>, in die Sie in einer Schleife nur die Mittagstemperaturen aus der Liste <tt>temperatures</tt> einfügen</li>\n",
    "<li>Ermitteln sie den Mittelwert (Summe durch Anzahl der Elemente) dieser Liste.\n",
    "</ol>\n",
    "</div>"
   ]
  },
  {
   "cell_type": "code",
   "execution_count": null,
   "metadata": {},
   "outputs": [],
   "source": []
  },
  {
   "cell_type": "markdown",
   "metadata": {},
   "source": [
    "## Zeilen einer Datei in eine Liste lesen\n",
    "Kehren wir zurück zu unsere Datei mit den Vornamen, die wir im [Notebook zum Umgang mit Dateien](06_dateien.ipynb) kennen gelernt haben. Wir haben dort gelernt, dass die Methode `readlines()` den Inhalt einer Datei als Liste von Zeilen liefert:"
   ]
  },
  {
   "cell_type": "code",
   "execution_count": null,
   "metadata": {},
   "outputs": [],
   "source": [
    "with open('../data/vornamen/names_short.txt', encoding='utf-8') as fh:\n",
    "    lines = fh.readlines()\n",
    "print(lines)"
   ]
  },
  {
   "cell_type": "markdown",
   "metadata": {},
   "source": [
    "Unsere Liste `lines` enthält also jetzt Zeile für Zeile den Inhalt der Datei `names_short.txt`. Allerdings mit einem Schönheitsfehler: Da jede Zeile durch ein Zeilenumbruchszeichen beendet wird, ist dieses auch in jedem Eintrag der Liste enthalten (`\\n`). Der folgende Exkurs beschreibt, wie wir diese Zeilenumbrüche los werden können."
   ]
  },
  {
   "cell_type": "markdown",
   "metadata": {},
   "source": [
    "## Exkurs: Die String-Methoden rstrip(), lstrip() und strip()\n",
    "Wie wir sehen, enthält jedes Listenelement am Ende das Zeilenumbruchszeichen `\\n` (line feed). Wir könnten dieses z.B. mit Slicing entfernen, jedoch bietet der String-Typ eine Methode `.rstrip()`, die genau das tut, was wird brauchen:"
   ]
  },
  {
   "cell_type": "code",
   "execution_count": null,
   "metadata": {},
   "outputs": [],
   "source": [
    "s = 'abc\\n'\n",
    "s.rstrip()"
   ]
  },
  {
   "cell_type": "markdown",
   "metadata": {},
   "source": [
    "`rstrip()` entfernt allen Whitespace (Leerzeichen, Tabulaturen, Zeilenumbrüche etc.) am Ende einen Strings und gibt den veränderten String zurück. \n",
    "\n",
    "Zusätzlich gibt es noch `lstrip()`, das Whitespace am Anfang eines Strings entfernt, und `strip()`, das Whitespace links und rechts entfernt."
   ]
  },
  {
   "cell_type": "code",
   "execution_count": null,
   "metadata": {},
   "outputs": [],
   "source": [
    "s = '   abc   '\n",
    "print('s: \"{}\"'.format(s))\n",
    "print('s.rstrip(): \"{}\"'.format(s.rstrip()))\n",
    "print('s.lstrip(): \"{}\"'.format(s.lstrip()))\n",
    "print('s.strip(): \"{}\"'.format(s.strip()))"
   ]
  },
  {
   "cell_type": "markdown",
   "metadata": {},
   "source": [
    "## Zeilenumbrüche in einer Liste von Strings entfernen \n",
    "### Methode 1: in einer Schleife\n",
    "Wenn wir nun alle Zeilenumbrüche aus unserer Liste `lines` entfernen wollen, können wir das in einer `for`-Schleife tun:"
   ]
  },
  {
   "cell_type": "code",
   "execution_count": null,
   "metadata": {},
   "outputs": [],
   "source": [
    "clean_names = [] # here we will store all names without \\n\n",
    "for line in lines:\n",
    "    clean_names.append(line.rstrip())\n",
    "print(clean_names)"
   ]
  },
  {
   "cell_type": "markdown",
   "metadata": {},
   "source": [
    "Zur Erinnerung: Mit `list.append(WERT)`  können wir einer Liste einen Wert hinzufügen. Dieser Wert wird hinten an die Liste angefügt:"
   ]
  },
  {
   "cell_type": "code",
   "execution_count": null,
   "metadata": {},
   "outputs": [],
   "source": [
    "students = ['Anna', 'Hans', 'Berta']\n",
    "students.append('Dora')\n",
    "students"
   ]
  },
  {
   "cell_type": "markdown",
   "metadata": {},
   "source": [
    "## Methode 2: mit einer List Comprehension\n",
    "*List Comprehensions* sind ein aus dem Bereich der funktionalen Programmierung kommender Ansatz, um eine Aktion auf alle Elemente einer Liste anzuwenden.\n",
    "\n",
    "Die Syntax einer List Comprehension ist diese:\n",
    "\n",
    "```\n",
    "[<tue etwas mit element> for <element> in <iterable>]\n",
    "```"
   ]
  },
  {
   "cell_type": "code",
   "execution_count": null,
   "metadata": {},
   "outputs": [],
   "source": [
    "clean_names = [line.rstrip() for line in lines]\n",
    "print(clean_names)"
   ]
  },
  {
   "cell_type": "markdown",
   "metadata": {},
   "source": [
    "List Comprehensions sind eine seit einigen Jahren sehr populär gewordene Alternative für einfache Schleifen. Ich empfehle ausdrücklich, sich damit vertraut zu machen, weil \n",
    "\n",
    "1. sie kompakter sind als normale Schleifen\n",
    "2. häufig in fremdem Code auftauchen und Sie sie deshalb lesen und verstehen sollten"
   ]
  },
  {
   "cell_type": "markdown",
   "metadata": {},
   "source": [
    "<div class=\"alert alert-block alert-info\">\n",
    "<b>Übung List-5</b>\n",
    "<p>\n",
    "Schreiben Sie eine List Comprehension, die jeden Wert der Liste <tt>nums</tt> mit sich selbst multipliziert.\n",
    "Das Ergebnis sollte also so ausehen:\n",
    "<pre>\n",
    "[16, 81, 289, 25, 9801]\n",
    "</pre>\n",
    "</p>    \n",
    "</div>    "
   ]
  },
  {
   "cell_type": "code",
   "execution_count": null,
   "metadata": {},
   "outputs": [],
   "source": [
    "nums = [4, 9, 17, 5, 99]\n",
    "# Hier die List Comprehension einfügen"
   ]
  },
  {
   "cell_type": "markdown",
   "metadata": {},
   "source": [
    "Neben List Comprehensions kennt Python noch weitere Comprehensions wie Dictionary Comprehension, Set Comprehension oder Generator Comprehension. Da wir aber diese Datetypen bzw. Konzeptenoch nicht kennen, gehe ich hier nicht weiter darauf ein, auch weil List Comprehensions viel häufiger verwendet werden als die anderen."
   ]
  },
  {
   "cell_type": "markdown",
   "metadata": {},
   "source": [
    "## Methode 3\n",
    "\n",
    "Eine weitere, sehr gebräuchliche Methode ist, den gesamten Inhalt der Datei als einen String einzulesen und dann die `splitlines()` Methode des Stringobjects dazu zu verwenden, den String in einzelne Zeile aufzusplitten. `splitlines()` entfernt dabei auch die Zeilentrennzeichen:"
   ]
  },
  {
   "cell_type": "code",
   "execution_count": null,
   "metadata": {},
   "outputs": [],
   "source": [
    "with open('../data/vornamen/names_short.txt', encoding='utf-8') as fh:\n",
    "    lines = fh.read().splitlines()\n",
    "print(lines)"
   ]
  },
  {
   "cell_type": "markdown",
   "metadata": {},
   "source": [
    "## Vertiefende Literatur\n",
    "Ich empfehle ausdrücklich, mindestens eine der folgenden Ressourcen zur Vertiefung zu lesen!\n",
    "\n",
    "  * Python Tutorial: \n",
    "\t* Kapitel 3.1.3 \n",
    "\t  https://docs.python.org/3/tutorial/introduction.html#lists,\n",
    "      https://docs.python.org/3/tutorial/datastructures.html#more-on-lists\n",
    "  * Klein, Kurs: \n",
    "\t* Sequentielle Datentypen\n",
    "\t  https://python-kurs.eu/python3_sequentielle_datentypen.php\n",
    "\t* Listen manipulieren\n",
    "\t  https://python-kurs.eu/python3_listen.php\n",
    "  * Sweigart: https://automatetheboringstuff.com/2e/chapter4/\n",
    "  \n",
    "  \n",
    "  * Klein, Buch: Kapitel 5\n",
    "  * Kofler: Kapitel 7.1\n",
    "  * Inden: Kapitel 2.9.1 und Teile von Kapitel 5.\n",
    "  * Weigend: Kapitel 4.10\n",
    "  * Pilgrim: Kapitel 2.4 und 2.5\n",
    "\thttps://www.diveinto.org/python3/native-datatypes.html#lists\n",
    "  * Downey: \n",
    "\t* Lists: http://greenteapress.com/thinkpython/html/thinkpython011.html\n",
    "\t* Tuples: http://greenteapress.com/thinkpython/html/thinkpython013.html\n"
   ]
  },
  {
   "cell_type": "markdown",
   "metadata": {},
   "source": [
    "## Lizenz\n",
    "\n",
    "This notebook ist part of the course [Grundlagen der Programmierung](https://github.com/gvasold/gdp) held by [Gunter Vasold](https://online.uni-graz.at/kfu_online/wbForschungsportal.cbShowPortal?pPersonNr=51488) at Graz University 2017&thinsp;ff. \n",
    "\n",
    "<p>\n",
    "    It is licensed under <a href=\"https://creativecommons.org/licenses/by-nc-sa/4.0\">CC BY-NC-SA 4.0</a>\n",
    "</p>\n",
    "\n",
    "<table>\n",
    "    <tr>\n",
    "    <td>\n",
    "        <img style=\"height:22px\" \n",
    "             src=\"https://mirrors.creativecommons.org/presskit/icons/cc.svg?ref=chooser-v1\"/></li>\n",
    "    </td>\n",
    "    <td>\n",
    "    <img style=\"height:22px;\"\n",
    "         src=\"https://mirrors.creativecommons.org/presskit/icons/by.svg?ref=chooser-v1\" /></li>\n",
    "    </td>\n",
    "    <td>\n",
    "        <img style=\"height:22px;\"\n",
    "         src=\"https://mirrors.creativecommons.org/presskit/icons/nc.svg?ref=chooser-v1\" /></li>\n",
    "    </td>\n",
    "    <td>\n",
    "        <img style=\"height:22px;\"\n",
    "             src=\"https://mirrors.creativecommons.org/presskit/icons/sa.svg?ref=chooser-v1\" /></li>\n",
    "    </td>\n",
    "</tr>\n",
    "</table>"
   ]
  },
  {
   "cell_type": "markdown",
   "metadata": {},
   "source": [
    "---\n",
    "\n",
    "<div style=\"text-align: center; margin-top:20pt;\">  \n",
    "  <a href=\"06-dateien.ipynb\">← Vorheriges Notebook</a>  \n",
    "  <span style=\"width: 100px;display: inline-block;\"> </span>\n",
    "    <a href=\"00-inhalt.ipynb\">↑ Inhaltsübersicht</a>\n",
    "    <span style=\"width: 100px;display: inline-block;\"> </span>\n",
    "  <a href=\"08-bedingungen.ipynb\">Nächstes Notebook →</a>  \n",
    "</div> "
   ]
  }
 ],
 "metadata": {
  "kernelspec": {
   "display_name": "Python 3 (ipykernel)",
   "language": "python",
   "name": "python3"
  },
  "language_info": {
   "codemirror_mode": {
    "name": "ipython",
    "version": 3
   },
   "file_extension": ".py",
   "mimetype": "text/x-python",
   "name": "python",
   "nbconvert_exporter": "python",
   "pygments_lexer": "ipython3",
   "version": "3.13.7"
  }
 },
 "nbformat": 4,
 "nbformat_minor": 4
}
