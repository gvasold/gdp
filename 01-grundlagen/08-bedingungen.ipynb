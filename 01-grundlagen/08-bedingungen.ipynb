{
 "cells": [
  {
   "cell_type": "markdown",
   "metadata": {},
   "source": [
    "# Bedingungen"
   ]
  },
  {
   "cell_type": "markdown",
   "metadata": {},
   "source": [
    "Im Programmablauf müssen oft abhängig von bestimmten Zuständen (also z.B. dem aktuellen Wert einer Variablen oder einer Benutzereingabe) Abzweigungen genommenen werden. Dies wird über *Bedingungen* realisiert.\n",
    "\n",
    "Das Programm prüft vor eine solchen \"Abzweigung\" ob eine Bedingung wahr oder falsch ist, und nimmt dann entweder den einen Weg oder den anderen."
   ]
  },
  {
   "cell_type": "markdown",
   "metadata": {},
   "source": [
    "![Bedingung](data:image/png;base64,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)"
   ]
  },
  {
   "cell_type": "markdown",
   "metadata": {},
   "source": [
    "Stellen wir uns vor, wir programmieren einen Bankomaten:\n",
    "\n",
    "~~~\n",
    "# Dieses Beispiel verwendet Pseudocode\n",
    "\n",
    "abzuhebender_betrag = input('Wieviel wollen Sie abheben? ')\n",
    "\n",
    "WENN kontostand - abzuhebender_betrag >= ueberziehungsrahmen:\n",
    "    Geld auszahlen   \n",
    "SONST\n",
    "    Fehlermeldung: Ihr Kontostand reicht nicht aus\n",
    "~~~"
   ]
  },
  {
   "cell_type": "markdown",
   "metadata": {},
   "source": [
    "Die allgemeine Form einer Bedingung in Python (und den meisten höheren Programmiersprachen) sieht so aus:\n",
    "\n",
    "~~~\n",
    "if BEDINGUNG == True:\n",
    "    tue das eine\n",
    "else:  # BEDINGUNG war nicht True\n",
    "    tue etwas anderes\n",
    "~~~\n",
    "\n",
    "Wobei `else` weggelassen werden kann, wenn es nicht gebraucht wird."
   ]
  },
  {
   "cell_type": "markdown",
   "metadata": {},
   "source": [
    "## Beispieldaten einlesen\n",
    "Im letzten Notebook haben wir die Zeilen aus der Datei `names_short.txt` in eine Liste von Zeilen namens `clean_names` eingelesen und dabei in einer List Comprehension die Linefeeds abgestreift.\n",
    "Wir tun das hier noch einmal, weil wir mit diesen Daten arbeiten werden."
   ]
  },
  {
   "cell_type": "code",
   "execution_count": null,
   "metadata": {},
   "outputs": [],
   "source": [
    "with open('../data/vornamen/names_short.txt', encoding='utf-8') as fh:\n",
    "    clean_names = [line.rstrip() for line in fh.readlines()]\n",
    "print(clean_names)"
   ]
  },
  {
   "cell_type": "markdown",
   "metadata": {},
   "source": [
    "## if\n",
    "Ermitteln wir nun als Beispiel alle Namen aus unserer Liste `clean_names`, die länger als 8 Zeichen sind:"
   ]
  },
  {
   "cell_type": "code",
   "execution_count": null,
   "metadata": {},
   "outputs": [],
   "source": [
    "for name in clean_names:\n",
    "    if len(name) > 8:\n",
    "        print(name)"
   ]
  },
  {
   "cell_type": "markdown",
   "metadata": {},
   "source": [
    "## Bedingungen in List Comprehensions\n",
    "Das letzte Beispiel lässt sich auch mit einer List Comprehension lösen:"
   ]
  },
  {
   "cell_type": "code",
   "execution_count": null,
   "metadata": {},
   "outputs": [],
   "source": [
    "[name for name in clean_names if len(name) > 8]"
   ]
  },
  {
   "cell_type": "markdown",
   "metadata": {},
   "source": [
    "## if ... else\n",
    "Mit `else` können wir alle Fälle behandeln, die nicht die bei if gestellte Bedingung erfüllen. Im folgenden `else`-Abschnitt wollen wir zählen, wie viele Namen kürzer oder gleich 8 Zeichen sind:"
   ]
  },
  {
   "cell_type": "code",
   "execution_count": null,
   "metadata": {},
   "outputs": [],
   "source": [
    "num_of_short_names = 0\n",
    "num_of_long_names = 0\n",
    "\n",
    "for name in clean_names:\n",
    "    if len(name) > 8:\n",
    "        num_of_long_names += 1\n",
    "    else:\n",
    "        num_of_short_names += 1\n",
    "print(f\"{num_of_short_names} kurze Namen und {num_of_long_names} lange Namen\")"
   ]
  },
  {
   "cell_type": "markdown",
   "metadata": {},
   "source": [
    "## Unterbedingungen\n",
    "If-Bedingungen können verschachtelt werden:"
   ]
  },
  {
   "cell_type": "code",
   "execution_count": null,
   "metadata": {},
   "outputs": [],
   "source": [
    "short_length_names = 0\n",
    "medium_length_names = 0\n",
    "long_length_names = 0\n",
    "\n",
    "for name in clean_names:\n",
    "    if len(name) > 8:\n",
    "        long_length_names += 1\n",
    "    else: # name was shorter than 9\n",
    "        if len(name) < 5:\n",
    "            short_length_names += 1\n",
    "        else: # this is >= 5 (because of second if) and  <= 8 (because of first if)\n",
    "            medium_length_names += 1\n",
    "print(f'{short_length_names} kurze Namen, {medium_length_names} mittellange und {long_length_names} lange Namen')"
   ]
  },
  {
   "cell_type": "markdown",
   "metadata": {},
   "source": [
    "## if ... elif ... else\n",
    "In Python können solche verschachtelten Bedingungen oft vermieden werden, indem man `elif` verwendet. Python geht so lange durch die Abfolge an Bedingungen, bis die erste als `True` evaluiert wird. Alle darunter stehenden `elifs` und das `else` werden dann ignoriert:"
   ]
  },
  {
   "cell_type": "code",
   "execution_count": null,
   "metadata": {},
   "outputs": [],
   "source": [
    "short_length_names = 0\n",
    "medium_length_names = 0\n",
    "long_length_names = 0\n",
    "\n",
    "for name in clean_names:\n",
    "    if len(name) > 8:\n",
    "        long_length_names += 1\n",
    "    elif len(name) < 5:\n",
    "        short_length_names += 1\n",
    "    else:\n",
    "        medium_length_names += 1\n",
    "        \n",
    "print(f'{short_length_names} kurze Namen, {medium_length_names} mittellange und {long_length_names} lange Namen')"
   ]
  },
  {
   "cell_type": "markdown",
   "metadata": {},
   "source": [
    "<div class=\"alert alert-block alert-info\">\n",
    "<b>Übung Condition-1</b>\n",
    "<p>\n",
    "Gehen Sie im Kopf Schritt für Schritt durch, was im oben stehenden Code passiert. Verwenden Sie dazu diese Namen:\n",
    "<pre>\n",
    "    ['Christopher', 'Anna', 'Elena']\n",
    "</pre>\n",
    "</p>\n",
    "<p>\n",
    "Sie sollten das so vorbereitet haben, dass Sie es in der Gruppe erklären können.    \n",
    "</p>"
   ]
  },
  {
   "cell_type": "markdown",
   "metadata": {},
   "source": [
    "Bei der Verwendung von elif ist zu beachten, dass Python, sobald es auf die erste `wahr` erkannte Bedingung stößt, keine weitere Bedingungen mehr prüft. Man muss hier also auf die korrekte Reihenfolge der `if` und `elif` statements achten:"
   ]
  },
  {
   "cell_type": "code",
   "execution_count": null,
   "metadata": {},
   "outputs": [],
   "source": [
    "number = 40\n",
    "if number < 100:\n",
    "    print('number ist kleiner als 100')\n",
    "elif number < 50:\n",
    "    print('number ist kleiner als 50')    "
   ]
  },
  {
   "cell_type": "markdown",
   "metadata": {},
   "source": [
    "Obwohl die Bedingung beim `elif` `True` liefert, wird der entsprechende Text nicht ausgegeben, weil zuvor bereits eine andere Bedingung wahr war. Das zu übersehen, ist ein beliebter Anfängerfehler."
   ]
  },
  {
   "cell_type": "markdown",
   "metadata": {},
   "source": [
    "<div class=\"alert alert-block alert-info\">\n",
    "<b>Übung Condition-2</b>\n",
    "<p>Legen Sie eine int-Variable <tt>price</tt> an. Schreiben Sie dann eine <tt>if .. elif .. elif .. else</tt> Kaskade, diese für den Wert von <tt>price</tt> diese Ausagebe produziert:</p>\n",
    "<ul>\n",
    "<li>Wenn <tt>price > 10</tt> ist, geben Sie 'akzeptabel' aus.</li>\n",
    "<li>Wenn <tt>price > 20</tt> ist, geben Sie 'teuer' aus.</li>\n",
    "<li>Wenn <tt>price > 30</tt> ist, geben Sie 'sehr teuer' aus.</li>\n",
    "<li>In allen anderen Fällen, geben Sie 'billig' aus.</li>\n",
    "</ul>\n",
    "<p>\n",
    "Probieren Sie ihr Bedingungen mit verschiedenen Werten für `price` aus!\n",
    "</p>    \n",
    "</div>"
   ]
  },
  {
   "cell_type": "markdown",
   "metadata": {},
   "source": [
    "## Doppelt vorkommende Namen entfernen\n",
    "### Der in-Operator\n",
    "\n",
    "In der Liste `clean_names` kommen manche Namen mehrfach vor. Je nach Fragestellung kann das erwünscht sein oder auch nicht. Versuchen wir einmal, doppelt vorkommende Namen zu verhindern. Dazu müssen wir einen neuen Operator einführen,\n",
    "der testet, ob ein Wert in einer Sequenz vorhanden ist: `in`."
   ]
  },
  {
   "cell_type": "code",
   "execution_count": null,
   "metadata": {},
   "outputs": [],
   "source": [
    "'a' in 'Anakonda'"
   ]
  },
  {
   "cell_type": "markdown",
   "metadata": {},
   "source": [
    "`in` funktioniert mit allen Sequenztypen und, wie wir noch sehen werden, auch mit ein paar anderen Typen. Da Listen zu den Sequenztypen gehören, funktioniert der 'in'-Operator auch mit Listen. Hier prüfen wir, ob der Integer `42` in einer Liste vorkommt:"
   ]
  },
  {
   "cell_type": "code",
   "execution_count": null,
   "metadata": {},
   "outputs": [],
   "source": [
    "42 in [1, 55, 44, 32, 71, 41]"
   ]
  },
  {
   "cell_type": "markdown",
   "metadata": {},
   "source": [
    "Im nächsten Beispiel verwenden wir den `in` Operator, um zu prüfen, ob der Name bereits in einer Liste distinkter Namen erscheint:"
   ]
  },
  {
   "cell_type": "code",
   "execution_count": null,
   "metadata": {},
   "outputs": [],
   "source": [
    "distinct_names = []\n",
    "for name in clean_names:\n",
    "    if name in distinct_names:\n",
    "        pass  # tue nichts\n",
    "    else:\n",
    "        distinct_names.append(name)\n",
    "print(f'clean_names: {len(clean_names)} Einträgen, distinct_names: {len(distinct_names)} Einträge')"
   ]
  },
  {
   "cell_type": "markdown",
   "metadata": {},
   "source": [
    "Das `pass` in der vierten Zeile dieses Beispiels ist eine Besonderheit von Python. Nach einem Doppelpunkt (`if name in distinct names:`) muss mindestens eine Anweisung stehen. Im konkreten Fall unseres Beispiels ist nichts zu tun, wenn der Name bereits in `distinct_names` vorhanden ist. Wegen des Doppelpunktes in der Zeile davor muss hier aber etwas stehen. Genau aus diesem Grund gibt es in Python die `pass`-Anweisung. Sie ist das Equivalent zu einem Paar geschwungener Klammern ohne Inhalt in anderen Programmiersprachen:\n",
    "\n",
    "~~~\n",
    "if(Bedingung) {\n",
    "}\n",
    "~~~"
   ]
  },
  {
   "cell_type": "markdown",
   "metadata": {},
   "source": [
    "### not in\n",
    "Wenn wir statt \"in\" \"not in\" verwenden (also die Bedingung umkehren), können wir im Beispiel oben auf das `else` und das `pass` verzichten:"
   ]
  },
  {
   "cell_type": "code",
   "execution_count": null,
   "metadata": {},
   "outputs": [],
   "source": [
    "distinct_names = []\n",
    "for name in clean_names:\n",
    "    if name not in distinct_names:\n",
    "        distinct_names.append(name)\n",
    "print(f'clean_names: {len(clean_names)} Einträgen, distinct_names: {len(distinct_names)} Einträge')"
   ]
  },
  {
   "cell_type": "markdown",
   "metadata": {},
   "source": [
    "Dieses Beispiel soll auch demonstrieren, dass es Sinn macht, Code zu vereinfachen und damit besser lesbar zu machen. Vergleichen Sie noch einmal in Ruhe die beiden Lösungen! Sie werden mir zustimmen, dass die zweite viel schneller zu verstehen ist, als die erste."
   ]
  },
  {
   "cell_type": "markdown",
   "metadata": {},
   "source": [
    "<div class=\"alert alert-block alert-info\">\n",
    "<b>Übung Condition-3</b>\n",
    "<p>Lesen Sie noch einmal (wie oben) die Namensliste aus der Datei \n",
    "<tt>data/vornamen/names_short.txt</tt> in eine Liste und testen Sie, ob der Name \"Alfons\" in der Liste erscheint.\n",
    "</div>"
   ]
  },
  {
   "cell_type": "markdown",
   "metadata": {},
   "source": [
    "## Bedingungen mit dem ternären Operator\n",
    "\n",
    "Für einfache `if .. else`-Bedingungen kann alternativ der ternäre Operator verwendet werden.\n",
    "Da bedingte Ausdrücke mit dem ternären Operator in Python fast natürlichsprachlich zu\n",
    "lesen sind, spricht nichts gegen deren Einsatz:"
   ]
  },
  {
   "cell_type": "code",
   "execution_count": null,
   "metadata": {},
   "outputs": [],
   "source": [
    "speed = 45\n",
    "if speed <= 50:\n",
    "    print ( 'Speed ok')\n",
    "else :\n",
    "    print ( 'Too fast')"
   ]
  },
  {
   "cell_type": "markdown",
   "metadata": {},
   "source": [
    "kann ternär so formuliert werden:"
   ]
  },
  {
   "cell_type": "code",
   "execution_count": null,
   "metadata": {},
   "outputs": [],
   "source": [
    "'Speed ok' if speed <= 50 else 'Too fast'"
   ]
  },
  {
   "cell_type": "markdown",
   "metadata": {},
   "source": [
    "welche der beiden Möglichkeiten man bei einfachen Bedingungen verwendet, bleibt Geschmackssache."
   ]
  },
  {
   "cell_type": "markdown",
   "metadata": {},
   "source": [
    "## Besonderheiten von Python\n",
    "In if -Anweisungen können nicht nur die beiden boolschen Werte `True` und `False` ausgewertet werden, sondern noch andere Werte. Man kommt auch ohne dieses Wissen sehr weit, es lohnt sich aber, diese Besonderheiten einmal gehört (bzw. gelesen) zu haben, da sie allgemein als *pythonic* gelten und häufig verwendet werden. Hier finden Sie eine (unvollständige) Übersicht über häufiger in Bedingungen verwendete Werte. Entsprechende Beispiele stehen weiter unten:\n",
    "\n",
    "* Numerischer Wert 0\n",
    "  * ints, floats, complex werden, wenn sie auf `0` stehen, von `if` als `False` interpretiert.\n",
    "  * Alle anderen numerischen Werte werden von `if` als `True` interpretiert.\n",
    "* Leere Strings:\n",
    "  * Leere Strings werden als `False` interpretiert\n",
    "  * Alle anderen, d.h. nicht leeren String-Werte werden als `True` interpretiert\n",
    "* NoneType: None\n",
    "  * None wird als `False` interpretiert\n",
    "* Leere Listen, Tupel, Dictionaries und Sets: `[]` , `()` , `{}` , `set()`\n",
    "  * Wenn diese Typen leer sind (d.h. keine Elemente enthalten), werden sie als\n",
    "    `False` interpretiert\n",
    "  * Nicht leere Objekte dieser Typen werden als `True` interpretiert.\n",
    "  \n",
    "Hier finden sie einige Beispiele zum Experimentieren. Setzten Sie versuchsweise den Wert von `input`' auf andere Werte:  "
   ]
  },
  {
   "cell_type": "code",
   "execution_count": null,
   "metadata": {},
   "outputs": [],
   "source": [
    "input = \"\"\n",
    "if input:\n",
    "    print(\"Input wurde als wahr interpretiert\")\n",
    "else:    \n",
    "    print(\"Input wurde als False interpretiert.\")"
   ]
  },
  {
   "cell_type": "code",
   "execution_count": null,
   "metadata": {},
   "outputs": [],
   "source": [
    "input = 0\n",
    "if input:\n",
    "    print(\"Input wurde als wahr interpretiert\")\n",
    "else:    \n",
    "    print(\"Input wurde als False interpretiert.\")"
   ]
  },
  {
   "cell_type": "code",
   "execution_count": null,
   "metadata": {},
   "outputs": [],
   "source": [
    "input = None\n",
    "if input:\n",
    "    print(\"Input wurde als wahr interpretiert\")\n",
    "else:    \n",
    "    print(\"Input wurde als False interpretiert.\")"
   ]
  },
  {
   "cell_type": "code",
   "execution_count": null,
   "metadata": {},
   "outputs": [],
   "source": [
    "students = []\n",
    "if input:\n",
    "    print(\"Input wurde als wahr interpretiert\")\n",
    "else:    \n",
    "    print(\"Input wurde als False interpretiert.\")"
   ]
  },
  {
   "cell_type": "markdown",
   "metadata": {},
   "source": [
    "## Bedingungen verknüpfen mit logischen Operatoren\n",
    "\n",
    "Python kennt die folgenden Operatoren um 2 oder mehr Bedingungen logisch miteinander zu verknüpfen:\n",
    "\n",
    "### and\n",
    "\n",
    "Beide Bedingungen müssen wahr sein"
   ]
  },
  {
   "cell_type": "code",
   "execution_count": null,
   "metadata": {},
   "outputs": [],
   "source": [
    "True and True"
   ]
  },
  {
   "cell_type": "markdown",
   "metadata": {},
   "source": [
    "<div class=\"alert alert-block alert-info\">\n",
    "<b>Übung Condition-4</b>\n",
    "<p>Finden Sie einen <tt>and</tt>-Ausdruck, der <tt>False</tt> liefert!</p>\n",
    "</div>"
   ]
  },
  {
   "cell_type": "code",
   "execution_count": null,
   "metadata": {},
   "outputs": [],
   "source": []
  },
  {
   "cell_type": "markdown",
   "metadata": {},
   "source": [
    "### or\n",
    "\n",
    "Mindestens eine Bedingung muss wahr sein "
   ]
  },
  {
   "cell_type": "code",
   "execution_count": null,
   "metadata": {},
   "outputs": [],
   "source": [
    "True or True"
   ]
  },
  {
   "cell_type": "code",
   "execution_count": null,
   "metadata": {},
   "outputs": [],
   "source": [
    "True or False"
   ]
  },
  {
   "cell_type": "code",
   "execution_count": null,
   "metadata": {},
   "outputs": [],
   "source": [
    "False or True"
   ]
  },
  {
   "cell_type": "markdown",
   "metadata": {},
   "source": [
    "<div class=\"alert alert-block alert-info\">\n",
    "<b>Übung Condition-5</b>\n",
    "<p>Finden Sie einen <tt>or</tt>-Ausdruck, der <tt>False</tt> liefert!</p>\n",
    "</div>"
   ]
  },
  {
   "cell_type": "markdown",
   "metadata": {},
   "source": [
    "### not\n",
    "\n",
    "Kehrt den Wahrheitswert um (aus `True` wird `False` und umgekehrt)"
   ]
  },
  {
   "cell_type": "code",
   "execution_count": null,
   "metadata": {},
   "outputs": [],
   "source": [
    "not True"
   ]
  },
  {
   "cell_type": "markdown",
   "metadata": {},
   "source": [
    "### Logische Ausdrücke klammern\n",
    "\n",
    "Runde Klammern können bei logischen Ausdrücken so ähnlich verwendet werden wie\n",
    "beim Rechnen mit arithmetischen Operatoren. Die Klammern beeinflussen die Abarbeitungsreihenfolge: Was geklammert ist, wird zuerst ausgewertet. Grundsätzlich empfehle ich, ab einer gewissen Komplexitätsstufe Klammern zu verwenden, auch wenn sie gar nicht notwendig wären, weil Klammern den Ausdruck in der Regel nachvollziehbarer machen.\n",
    "\n",
    "Denken wir einmal diese Beispiel durch:\n",
    "\n",
    "```\n",
    "if punkte > 1000 or punkte > 100 and status = ' Superpower ':\n",
    "```\n",
    "\n",
    "```\n",
    "if punkte > 1000 or (punkte > 100 and status = 'Superpower'):\n",
    "```\n",
    "\n",
    "```\n",
    "if (punkte > 1000 or punkte > 100) and status = 'Superpower':\n",
    "```\n",
    "\n",
    "Vielleicht wird es klarer, wenn wir nur auf die Wahrheitswerte reduzieren:"
   ]
  },
  {
   "cell_type": "code",
   "execution_count": null,
   "metadata": {},
   "outputs": [],
   "source": [
    "True or True and False"
   ]
  },
  {
   "cell_type": "code",
   "execution_count": null,
   "metadata": {},
   "outputs": [],
   "source": [
    "(True or True) and False"
   ]
  },
  {
   "cell_type": "code",
   "execution_count": null,
   "metadata": {},
   "outputs": [],
   "source": [
    "True or (True and False)"
   ]
  },
  {
   "cell_type": "markdown",
   "metadata": {},
   "source": [
    "Die logischen Operatoren werden in Python in dieser Reihenfolge abgearbeitet:\n",
    "`not` vor `and` vor `or`. Geklammerte Ausdrücke werden zuerst ausgewertet."
   ]
  },
  {
   "cell_type": "markdown",
   "metadata": {},
   "source": [
    "<div class=\"alert alert-block alert-info\">\n",
    "<b>Übung Condition-6</b>\n",
    "<p>Versetzen Sie sich in den Python-Interpreter und werten Sie die drei oben \n",
    "    stehenden Bedingungen schrittweise aus. Mit anderen Worten: \n",
    "    Ermitteln Sie schrittweise den Wahrheitswert der beiden \n",
    "    ersten auszuwählende Werte und wenden Sie dann dieses Ergebnis auf \n",
    "    den dritten Wert an, um den Wahrheitswert des gesamten Ausdrucks zu bekommen. \n",
    "    Schreiben Sie das Ergebnis einfach in die unten stehende Zelle. Er sollten dem \n",
    "    Ergebnis der drei Beispiele oben entsprechen. Falls sich das Ergebnis unterscheidet, \n",
    "    denken Sie darüber nach, wo Sie den Fehler gemacht haben.\n",
    "</p>\n",
    "<p>\n",
    "    Um das zu verdeutlichen, hier für das erste Beispiel:\n",
    "    <pre>\n",
    "    (True and False) or True\n",
    "    </pre>\n",
    "</p>\n",
    "</div>"
   ]
  },
  {
   "cell_type": "code",
   "execution_count": null,
   "metadata": {},
   "outputs": [],
   "source": [
    "(True and False) or True"
   ]
  },
  {
   "cell_type": "markdown",
   "metadata": {},
   "source": [
    " "
   ]
  },
  {
   "cell_type": "markdown",
   "metadata": {},
   "source": [
    "<div class=\"alert alert-block alert-info\">\n",
    "<b>Übung Condition-7</b>\n",
    "<p>Stellen Sie sich vor, dass Sie ein Spiel programmieren. Zu einem gegebenen Zeitpunkt hat der Spieler einen bestimmten Score und einen bestimmten Status, die jeweils in einer Variable gespeichert sind. An dieser Stelle im Spiel entscheidet sich, ob der Spieler verliert oder nicht. Und zwar noch diesen Regeln:</p>\n",
    "<ul>\n",
    "<li>Wenn der Spieler mehr als 1000 Punkte hat, geht das Spiel unabhängig vom Status des Spielers weiter</li>\n",
    "<li>Wenn der Spieler mehr als 100 Punkte hat, und der Status auf \"Superpower\" steht, geht das Spiel auch weiter</li>\n",
    "<li>In allen anderen Fällen heißt es 'game over'</li>\n",
    "</ul>\n",
    "<p>    \n",
    "    Schreiben Sie <b>einen</b> if-Ausdruck mit mehreren logisch verknüpften Bedingungen, der diese Regeln berücksichtigt. Je nach score und status soll entweder 'Das Spiel geht weiter' oder 'Game over' ausgeben werden.\n",
    "</p>\n",
    "<p>\n",
    "Wichtig: Probieren Sie Ihr if-Konstrukt aus, indem Sie die Werte der beiden Variablen zum Testen verändern.\n",
    "</p>\n",
    "</div>"
   ]
  },
  {
   "cell_type": "code",
   "execution_count": null,
   "metadata": {},
   "outputs": [],
   "source": [
    "score = 500\n",
    "status = 'Superpower'\n",
    "\n",
    "if ...\n",
    "   print(\"Das Spiel geht weiter\")\n",
    "else:\n",
    "    print(\"Game over\")"
   ]
  },
  {
   "cell_type": "markdown",
   "metadata": {},
   "source": [
    "## match\n",
    "\n",
    "Seit Python Version 3.10 gibt es in Python (so wie in vielen anderen Programmiersprachen auch) die Möglichkeit der Fallunterscheidung mit `case`. Diese wird eingeleitet mit einem `match <Ausdruck oder Wert>:` gefolgt von beliebig vielen `case` Statements. In anderen Programmiersprachen gibt es ein ähnliches Konstrukt als `switch/case`. `match/case` ist besonders sinnvoll, wenn es viele Fallunterscheidungen gibt. In der einfachsten Form sieht das so aus:"
   ]
  },
  {
   "cell_type": "code",
   "execution_count": null,
   "metadata": {},
   "outputs": [],
   "source": [
    "month_int = int(input(\"Give your birth month as int (1=Jan etc.)\"))\n",
    "month_name = None\n",
    "match month_int:\n",
    "    case 1:\n",
    "        month_name = \"Jänner\"\n",
    "    case 2:\n",
    "        month_name = \"Februar\"\n",
    "    case 3:\n",
    "        month_name = \"März\"\n",
    "    case 4:\n",
    "        month_name = \"April\"\n",
    "    case 5:\n",
    "        month_name = \"Mai\"\n",
    "    case 6:\n",
    "        month_name = \"Juni\"\n",
    "    case 7:\n",
    "        month_name = \"Juli\"\n",
    "    case 8:\n",
    "        month_name = \"August\"\n",
    "    case 9:\n",
    "        month_name = \"September\"\n",
    "    case 10:\n",
    "        month_name = \"Oktober\"\n",
    "    case 11:\n",
    "        month_name = \"November\"\n",
    "    case 12:\n",
    "        month_name = \"Dezember\"\n",
    "    case _:\n",
    "        month_name = \"Not a month\"\n",
    "print(month_name)"
   ]
  },
  {
   "cell_type": "markdown",
   "metadata": {},
   "source": [
    "Sobald ein `case` einen Treffer ergibt, wird nicht mehr weiter verglichen. Das in anderen Sprachen nötige `break` ist also nicht nötig.\n",
    "\n",
    "Der zu vergleichende Wert muss keinen bestimmten Datentyp haben. Man kann also auch z.B. String oder Floats vergleichen. \n",
    "\n",
    "Mehrere Werte können durch den `|` Operator verbunden werden:"
   ]
  },
  {
   "cell_type": "code",
   "execution_count": null,
   "metadata": {},
   "outputs": [],
   "source": [
    "month_int = int(input(\"Give your birth month as int (1=Jan etc.)\"))\n",
    "season = None\n",
    "# this is valid for Graz\n",
    "match month_int:\n",
    "    case 1 | 2 | 12:\n",
    "        month_name = \"winter\"\n",
    "    case 3 | 4 | 5 :\n",
    "        month_name = \"spring\"\n",
    "    case 6 | 7 |8 | 9 :\n",
    "        month_name = \"summer\"\n",
    "    case 10 | 11:\n",
    "        month_name = \"autumn\"\n",
    "    case _:\n",
    "        month_name = \"Not a month\"\n",
    "print(month_name)"
   ]
  },
  {
   "cell_type": "markdown",
   "metadata": {},
   "source": [
    "## Vertiefende Literatur\n",
    "Ich empfehle ausdrücklich, mindestens eine der folgenden Ressourcen zur Vertiefung zu lesen!\n",
    "\n",
    "  * Python Tutorial: \n",
    "\t* Kapitel 4.1\n",
    "\t\t* https://docs.python.org/3/tutorial/controlflow.html#if-statements\n",
    "  * Klein, Kurs: \n",
    "\t* https://python-kurs.eu/bedingte_anweisungen.php\n",
    "  * Sweigart: https://automatetheboringstuff.com/2e/chapter2/\n",
    "  \n",
    "  \n",
    "  * Klein, Buch: Kapitel 8. \n",
    "  * Kofler: Kapitel 8.1.\n",
    "  * Inden: Kapitel 2.4 und 6.6.\n",
    "  * Weigend: Kapitel 5.1, 5.2 und 5.3.  \n",
    "  \n",
    "Für alle, die es ganz genau wissen wollen:   Unter https://docs.python.org/3/reference/expressions.html#operator-precedence ist die Rangordnung (precedence) aller Operatoren dokumentiert."
   ]
  },
  {
   "cell_type": "markdown",
   "metadata": {},
   "source": [
    "## Lizenz\n",
    "\n",
    "This notebook ist part of the course [Grundlagen der Programmierung](https://github.com/gvasold/gdp) held by [Gunter Vasold](https://online.uni-graz.at/kfu_online/wbForschungsportal.cbShowPortal?pPersonNr=51488) at Graz University 2017&thinsp;ff. \n",
    "\n",
    "<p>\n",
    "    It is licensed under <a href=\"https://creativecommons.org/licenses/by-nc-sa/4.0\">CC BY-NC-SA 4.0</a>\n",
    "</p>\n",
    "\n",
    "<table>\n",
    "    <tr>\n",
    "    <td>\n",
    "        <img style=\"height:22px\" \n",
    "             src=\"https://mirrors.creativecommons.org/presskit/icons/cc.svg?ref=chooser-v1\"/></li>\n",
    "    </td>\n",
    "    <td>\n",
    "    <img style=\"height:22px;\"\n",
    "         src=\"https://mirrors.creativecommons.org/presskit/icons/by.svg?ref=chooser-v1\" /></li>\n",
    "    </td>\n",
    "    <td>\n",
    "        <img style=\"height:22px;\"\n",
    "         src=\"https://mirrors.creativecommons.org/presskit/icons/nc.svg?ref=chooser-v1\" /></li>\n",
    "    </td>\n",
    "    <td>\n",
    "        <img style=\"height:22px;\"\n",
    "             src=\"https://mirrors.creativecommons.org/presskit/icons/sa.svg?ref=chooser-v1\" /></li>\n",
    "    </td>\n",
    "</tr>\n",
    "</table>"
   ]
  },
  {
   "cell_type": "markdown",
   "metadata": {},
   "source": [
    "---\n",
    "\n",
    "<div style=\"text-align: center; margin-top:20pt;\">  \n",
    "  <a href=\"07-listen.ipynb\">← Vorheriges Notebook</a>  \n",
    "  <span style=\"width: 100px;display: inline-block;\"> </span>\n",
    "    <a href=\"00-inhalt.ipynb\">↑ Inhaltsübersicht</a>\n",
    "    <span style=\"width: 100px;display: inline-block;\"> </span>\n",
    "  <a href=\"../02-datenstrukturen/01-dictionaries.ipynb\">Nächstes Notebook →</a>  \n",
    "</div> "
   ]
  }
 ],
 "metadata": {
  "kernelspec": {
   "display_name": "Python 3 (ipykernel)",
   "language": "python",
   "name": "python3"
  },
  "language_info": {
   "codemirror_mode": {
    "name": "ipython",
    "version": 3
   },
   "file_extension": ".py",
   "mimetype": "text/x-python",
   "name": "python",
   "nbconvert_exporter": "python",
   "pygments_lexer": "ipython3",
   "version": "3.13.7"
  }
 },
 "nbformat": 4,
 "nbformat_minor": 4
}
