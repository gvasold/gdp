{
 "cells": [
  {
   "cell_type": "markdown",
   "metadata": {},
   "source": [
    "# Bedingungen"
   ]
  },
  {
   "cell_type": "markdown",
   "metadata": {},
   "source": [
    "Im Programmablauf müssen oft abhängig von bestimmten Zuständen (also z.B. dem aktuellen Wert einer Variablen) Abzweigungen genommenen werden. Dies wird über *Bedingungen* realisiert.\n",
    "\n",
    "Das Programm prüft vor eine solchen \"Abzweigung\" ob eine Bedingung wahr oder falsch ist, und nimmt dann entweder den einen Weg oder den anderen.\n",
    "\n",
    "![Bedingung](img/if.png)\n",
    "\n",
    "Stellen wir uns vor, wir programmieren einen Bankomaten:\n",
    "\n",
    "~~~\n",
    "# Dieses Beispiel verwendet Pseudocode\n",
    "\n",
    "abzuhebender_betrag = input('Wieviel wollen Sie abheben? ')\n",
    "\n",
    "WENN kontostand - abzuhebender_betrag > ueberziehungsrahmen:\n",
    "    Geld auszahlen   \n",
    "SONST\n",
    "    Fehlermeldung: Ihr Kontostand reicht nicht aus\n",
    "~~~"
   ]
  },
  {
   "cell_type": "markdown",
   "metadata": {},
   "source": [
    "Die allgemeine Form einer Bedingung in Python (und den meisten höheren Programmiersprachen) sieht so aus:\n",
    "\n",
    "~~~\n",
    "if BEDINGUNG == True:\n",
    "    tue das eine\n",
    "else:  # BEDINGUNG war nicht True\n",
    "    tue etwas anderes\n",
    "~~~\n",
    "\n",
    "Wobei `else` weggelassen werden kann."
   ]
  },
  {
   "cell_type": "markdown",
   "metadata": {},
   "source": [
    "## Beispieldaten einlesen\n",
    "Im letzten Notebook haben wir die Zeilen aus der Datei `names_short.txt` in eine Liste von Zeilen namens `clean_names` eingelesen und dabei in einer List Comprehension die Linefeeds abgestreift.\n",
    "Wir tun das hier noch einmal, weil wir mit diesen Daten arbeiten werden."
   ]
  },
  {
   "cell_type": "code",
   "execution_count": null,
   "metadata": {},
   "outputs": [],
   "source": [
    "with open('data/vornamen/names_short.txt', encoding='utf-8') as fh:\n",
    "    clean_names = [line.rstrip() for line in fh.readlines()]\n",
    "print(clean_names)"
   ]
  },
  {
   "cell_type": "markdown",
   "metadata": {},
   "source": [
    "## if\n",
    "Ermitteln wir nun als Beispiel alle Namen aus unserer Liste `clean_names`, die länger als 8 Zeichen sind:"
   ]
  },
  {
   "cell_type": "code",
   "execution_count": null,
   "metadata": {},
   "outputs": [],
   "source": [
    "for name in clean_names:\n",
    "    if len(name) > 8:\n",
    "        print(name)"
   ]
  },
  {
   "cell_type": "markdown",
   "metadata": {},
   "source": [
    "## Bedingungen in List Comprehensions\n",
    "Das letzte Beispiel lässt sich auch mit einer List Comprehension lösen:"
   ]
  },
  {
   "cell_type": "code",
   "execution_count": null,
   "metadata": {},
   "outputs": [],
   "source": [
    "[name for name in clean_names if len(name) > 8]"
   ]
  },
  {
   "cell_type": "markdown",
   "metadata": {},
   "source": [
    "## if ... else\n",
    "Mit `else` können wir alle Fälle behandeln, die nicht die bei if gestellte Bedingung erfüllen. Im folgenden `else`-Abschnitt wollen wir zählen, wie viele Namen kürzer oder gleich 8 Zeichen sind:"
   ]
  },
  {
   "cell_type": "code",
   "execution_count": null,
   "metadata": {},
   "outputs": [],
   "source": [
    "num_of_short_names = 0\n",
    "num_of_long_names = 0\n",
    "\n",
    "for name in clean_names:\n",
    "    if len(name) > 8:\n",
    "        num_of_long_names += 1\n",
    "    else:\n",
    "        num_of_short_names += 1\n",
    "print(f\"{num_of_short_names} kurze Namen und {num_of_long_names} lange Namen\")"
   ]
  },
  {
   "cell_type": "markdown",
   "metadata": {},
   "source": [
    "## Unterbedingungen\n",
    "If-Bedingungen können verschachtelt werden:"
   ]
  },
  {
   "cell_type": "code",
   "execution_count": null,
   "metadata": {},
   "outputs": [],
   "source": [
    "short_length_names = 0\n",
    "medium_length_names = 0\n",
    "long_length_names = 0\n",
    "\n",
    "for name in clean_names:\n",
    "    if len(name) > 8:\n",
    "        long_length_names += 1\n",
    "    else: # name was shorter than 9\n",
    "        if len(name) < 5:\n",
    "            short_length_names += 1\n",
    "        else: # this is >= 5 (because of second if) and  <= 8 (because of first if)\n",
    "            medium_length_names += 1\n",
    "print('{} kurze Namen, {} mittellange und {} lange Namen'.format(\n",
    "    short_length_names, medium_length_names, long_length_names))"
   ]
  },
  {
   "cell_type": "markdown",
   "metadata": {},
   "source": [
    "## if ... elif ... else\n",
    "In Python können solche verschachtelten Bedingungen oft vermieden werden, indem man `elif` verwendet. Python geht so lange durch die Abfolge an Bedingungen, bis die erste als `True` evaluiert wird. Alle darunter stehenden `elifs` und das `else` werden dann ignoriert:"
   ]
  },
  {
   "cell_type": "code",
   "execution_count": null,
   "metadata": {},
   "outputs": [],
   "source": [
    "short_length_names = 0\n",
    "medium_length_names = 0\n",
    "long_length_names = 0\n",
    "\n",
    "for name in clean_names:\n",
    "    if len(name) > 8:\n",
    "        long_length_names += 1\n",
    "    elif len(name) < 5:\n",
    "        short_length_names += 1\n",
    "    else:\n",
    "        medium_length_names += 1\n",
    "        \n",
    "print('{} kurze Namen, {} mittellange und {} lange Namen'.format(\n",
    "    short_length_names, medium_length_names, long_length_names))"
   ]
  },
  {
   "cell_type": "markdown",
   "metadata": {},
   "source": [
    "<div class=\"alert alert-block alert-info\">\n",
    "<b>Übung Condition-1</b>\n",
    "<p>\n",
    "Gehen Sie im Kopf Schritt für Schritt durch, was im oben stehenden Code passiert. Verwenden Sie dazu diese Namen:\n",
    "<pre>\n",
    "    ['Christopher', 'Anna', 'Elena']\n",
    "</pre>\n",
    "</p>\n",
    "<p>\n",
    "Sie sollten das so vorbereitet haben, dass Sie es in der Gruppe erklären können.    \n",
    "</p>"
   ]
  },
  {
   "cell_type": "markdown",
   "metadata": {},
   "source": [
    "Bei der Verwendung von elif ist zu beachten, dass Python, sobald es auf die erste `wahr` erkannte Bedingung stößt, keine weitere Bedingungen mehr prüft. Man muss hier also auf die korrekte Reihenfolge der `if` und `elif` statements achten:"
   ]
  },
  {
   "cell_type": "code",
   "execution_count": null,
   "metadata": {},
   "outputs": [],
   "source": [
    "number = 40\n",
    "if number < 100:\n",
    "    print('number ist kleiner als 100')\n",
    "elif number < 50:\n",
    "    print('number ist keliner als 50')    "
   ]
  },
  {
   "cell_type": "markdown",
   "metadata": {},
   "source": [
    "Obwohl die Bedingung beim `elif` `True` liefert, wird der entsprechende Text nicht ausgegeben, weil zuvor bereits eine andere Bedingung wahr war. Das zu übersehen, ist ein beliebter Anfängerfehler."
   ]
  },
  {
   "cell_type": "markdown",
   "metadata": {},
   "source": [
    "<div class=\"alert alert-block alert-info\">\n",
    "<b>Übung Condition-2</b>\n",
    "<p>Legen Sie eine int-Variable <tt>price</tt> an. Schreiben Sie dann eine <tt>if .. elif .. elif .. else</tt> Kaskade, diese für den Wert von <tt>price</tt> diese Ausagebe produziert:</p>\n",
    "<ul>\n",
    "<li>Wenn <tt>price > 10</tt> ist, geben Sie 'akzeptabel' aus.</li>\n",
    "<li>Wenn <tt>price > 20</tt> ist, geben Sie 'teuer' aus.</li>\n",
    "<li>Wenn <tt>price > 30</tt> ist, geben Sie 'sehr teuer' aus.</li>\n",
    "<li>In allen anderen Fällen, geben Sie 'billig' aus.</li>\n",
    "</ul>\n",
    "<p>\n",
    "Probieren Sie ihr Bedingungen mit verschiedenen Werten für `price` aus!\n",
    "</p>    \n",
    "</div>"
   ]
  },
  {
   "cell_type": "markdown",
   "metadata": {},
   "source": [
    "## Doppelt vorkommende Namen entfernen\n",
    "### Der in-Operator\n",
    "\n",
    "In der Liste `clean_names` kommen manche Namen mehrfach vor. Je nach Fragestellung kann das erwünscht sein oder auch nicht. Versuchen wir einmal, doppelt vorkommende Namen zu verhindern. Dazu müssen wir einen neuen Operator einführen,\n",
    "der testet, ob ein Wert in einer Sequenz vorhanden ist: `in`."
   ]
  },
  {
   "cell_type": "code",
   "execution_count": null,
   "metadata": {},
   "outputs": [],
   "source": [
    "'a' in 'Anakonda'"
   ]
  },
  {
   "cell_type": "markdown",
   "metadata": {},
   "source": [
    "`in` funktioniert mit allen Sequenztypen und, wie wir noch sehen werden, auch mit ein paar anderen Typen. Da Listen zu den Sequenztypen gehören, funktioniert der 'in'-Operator auch mit Listen. Hier prüfen wir, ob der Integer `42` in einer Liste vorkommt:"
   ]
  },
  {
   "cell_type": "code",
   "execution_count": null,
   "metadata": {},
   "outputs": [],
   "source": [
    "42 in [1, 55, 44, 32, 71, 41]"
   ]
  },
  {
   "cell_type": "markdown",
   "metadata": {},
   "source": [
    "Im nächsten Beispiel verwenden wir den `in` Operator, um zu prüfen, ob der Name bereits in einer Liste distinkter Namen erscheint:"
   ]
  },
  {
   "cell_type": "code",
   "execution_count": null,
   "metadata": {},
   "outputs": [],
   "source": [
    "distinct_names = []\n",
    "for name in clean_names:\n",
    "    if name in distinct_names:\n",
    "        pass  # tue nichts\n",
    "    else:\n",
    "        distinct_names.append(name)\n",
    "print(f'clean_names: {len(clean_names)} Einträgen, distinct_names: {len(distinct_names)} Einträge')"
   ]
  },
  {
   "cell_type": "markdown",
   "metadata": {},
   "source": [
    "Das `pass` in der vierten Zeile dieses Beispiels ist eine Besonderheit von Python. Nach einem Doppelpunkt (``if name in distinct names:``) muss mindestens eine Anweisung stehen. Im konkreten Fall unseres Beispiels ist nichts zu tun, wenn der Name bereits in `distinct_names` vorhanden ist. Wegen des Doppelpunktes in der Zeile davor muss hier aber etwas stehen. Genau aus diesem Grund gibt es in Python die `pass`-Anweisung. Sie ist das Equivalent zu einem Paar geschwungener Klammern ohne Inhalt in anderen Programmiersprachen:\n",
    "\n",
    "~~~\n",
    "if(Bedingung) {\n",
    "}\n",
    "~~~"
   ]
  },
  {
   "cell_type": "markdown",
   "metadata": {},
   "source": [
    "### not in\n",
    "Wenn wir statt \"in\" \"not in\" verwenden (also die Bedingung umkehren), können wir auf das `else` verzichten:"
   ]
  },
  {
   "cell_type": "code",
   "execution_count": null,
   "metadata": {},
   "outputs": [],
   "source": [
    "distinct_names = []\n",
    "for name in clean_names:\n",
    "    if name not in distinct_names:\n",
    "        distinct_names.append(name)\n",
    "print(f'clean_names: {len(clean_names)} Einträgen, distinct_names: {len(distinct_names)} Einträge')"
   ]
  },
  {
   "cell_type": "markdown",
   "metadata": {},
   "source": [
    "Dieses Beispiel soll auch demonstrieren, dass es Sinn macht, Code zu vereinfachen und damit besser lesbar zu machen. Vergleichen Sie noch einmal in Ruhe die beiden Lösungen! Sie werden mir zustimmen, dass die zweite viel schneller zu verstehen ist, als die erste."
   ]
  },
  {
   "cell_type": "markdown",
   "metadata": {},
   "source": [
    "<div class=\"alert alert-block alert-info\">\n",
    "<b>Übung Condition-3</b>\n",
    "<p>Lesen Sie noch einmal (wie oben) die Namensliste aus der Datei \n",
    "<tt>data/vornamen/names_short.txt</tt> in eine Liste und testen Sie, ob der Name \"Alfons\" in der Liste erscheint.\n",
    "</div>"
   ]
  },
  {
   "cell_type": "markdown",
   "metadata": {},
   "source": [
    "## Bedingungen mit dem ternären Operator\n",
    "\n",
    "Für einfache `if .. else`-Bedingungen kann alternativ der ternäre Operator verwendet werden.\n",
    "Da bedingte Ausdrücke mit dem ternären Operator in Python fast natürlichsprachlich zu\n",
    "lesen sind, spricht nichts gegen deren Einsatz:"
   ]
  },
  {
   "cell_type": "code",
   "execution_count": null,
   "metadata": {},
   "outputs": [],
   "source": [
    "speed = 45\n",
    "if speed <= 50:\n",
    "    print ( 'Speed ok')\n",
    "else :\n",
    "    print ( 'Too fast')"
   ]
  },
  {
   "cell_type": "markdown",
   "metadata": {},
   "source": [
    "kann ternär so formuliert werden:"
   ]
  },
  {
   "cell_type": "code",
   "execution_count": null,
   "metadata": {},
   "outputs": [],
   "source": [
    "'Speed ok' if speed <= 50 else 'Too fast'"
   ]
  },
  {
   "cell_type": "markdown",
   "metadata": {},
   "source": [
    "welche der beiden Möglichkeiten man bei einfachen Bedingungen verwendet, bleibt Geschmackssache."
   ]
  },
  {
   "cell_type": "markdown",
   "metadata": {},
   "source": [
    "## Besonderheiten von Python\n",
    "In if -Anweisungen können nicht nur die beiden boolschen Werte `True` und `False` ausgewertet werden, sondern noch andere Werte. Man kommt auch ohne dieses Wissen sehr weit, es lohnt sich aber, diese Besonderheiten einmal gehört (bzw. gelesen) zu haben, da sie allgemein als *pythonic* gelten und häufig verwendet werden. Hier finden Sie eine (unvollständige) Übersicht über häufiger in Bedingungen verwendete Werte. Entsprechende Beispiele stehen weiter unten:\n",
    "\n",
    "* Numerischer Wert 0\n",
    "  * ints, floats, complex werden, wenn sie auf `0` stehen von `if` als `False` interpretiert.\n",
    "  * Alle anderen numerischen Werte werden von `if` als `True` interpretiert.\n",
    "* Leere Strings:\n",
    "  * Leere Strings werden als `False` interpretiert\n",
    "  * Alle anderen, d.h. nicht leeren String-Werte werden als `True` interpretiert\n",
    "* NoneType: None\n",
    "  * None wird als `False` interpretiert\n",
    "* Leere Listen, Tupel, Dictionaries und Sets: `[]` , `()` , `{}` , `set()`\n",
    "  * Wenn diese Typen leer sind (d.h. keine Elemente enthalten), werden sie als\n",
    "    `False` interpretiert\n",
    "  * Nicht leere Objekte dieser Typen werden als `True` interpretiert.\n",
    "  \n",
    "Hier finden sie einige Beispiele zum Experimentieren:  "
   ]
  },
  {
   "cell_type": "code",
   "execution_count": null,
   "metadata": {},
   "outputs": [],
   "source": [
    "input = \"\"\n",
    "if input:\n",
    "    print(\"Input wurde als wahr interpretiert\")\n",
    "else:    \n",
    "    print(\"Input wurde als False interpretiert.\")"
   ]
  },
  {
   "cell_type": "code",
   "execution_count": null,
   "metadata": {},
   "outputs": [],
   "source": [
    "input = 0\n",
    "if input:\n",
    "    print(\"Input wurde als wahr interpretiert\")\n",
    "else:    \n",
    "    print(\"Input wurde als False interpretiert.\")"
   ]
  },
  {
   "cell_type": "code",
   "execution_count": null,
   "metadata": {},
   "outputs": [],
   "source": [
    "input = None\n",
    "if input:\n",
    "    print(\"Input wurde als wahr interpretiert\")\n",
    "else:    \n",
    "    print(\"Input wurde als False interpretiert.\")"
   ]
  },
  {
   "cell_type": "code",
   "execution_count": null,
   "metadata": {},
   "outputs": [],
   "source": [
    "students = []\n",
    "if input:\n",
    "    print(\"Input wurde als wahr interpretiert\")\n",
    "else:    \n",
    "    print(\"Input wurde als False interpretiert.\")"
   ]
  },
  {
   "cell_type": "markdown",
   "metadata": {},
   "source": [
    "## Bedingungen verknüpfen mit logischen Operatoren\n",
    "\n",
    "Python kennt die folgenden Operatoren um 2 oder mehr Bedingungen logisch miteinander zu verknüpfen:\n",
    "\n",
    "### and\n",
    "\n",
    "Beide Bedingungen müssen wahr sein"
   ]
  },
  {
   "cell_type": "code",
   "execution_count": null,
   "metadata": {},
   "outputs": [],
   "source": [
    "True and True"
   ]
  },
  {
   "cell_type": "markdown",
   "metadata": {},
   "source": [
    "<div class=\"alert alert-block alert-info\">\n",
    "<b>Übung Condition-4</b>\n",
    "<p>Finden Sie einen <tt>and</tt>-Ausdruck, der <tt>False</tt> liefert!</p>\n",
    "</div>"
   ]
  },
  {
   "cell_type": "code",
   "execution_count": null,
   "metadata": {},
   "outputs": [],
   "source": []
  },
  {
   "cell_type": "markdown",
   "metadata": {},
   "source": [
    "### or\n",
    "\n",
    "Mindestens eine Bedingung muss wahr sein "
   ]
  },
  {
   "cell_type": "code",
   "execution_count": null,
   "metadata": {},
   "outputs": [],
   "source": [
    "True or True"
   ]
  },
  {
   "cell_type": "code",
   "execution_count": null,
   "metadata": {},
   "outputs": [],
   "source": [
    "True or False"
   ]
  },
  {
   "cell_type": "markdown",
   "metadata": {},
   "source": [
    "<div class=\"alert alert-block alert-info\">\n",
    "<b>Übung Condition-5</b>\n",
    "<p>Finden Sie einen <tt>or</tt>-Ausdruck, der <tt>False</tt> liefert!</p>\n",
    "</div>"
   ]
  },
  {
   "cell_type": "markdown",
   "metadata": {},
   "source": [
    "### not\n",
    "\n",
    "Kehrt den Wahrheitswert um (aus `True` wird `False` und umgekehrt)"
   ]
  },
  {
   "cell_type": "code",
   "execution_count": null,
   "metadata": {},
   "outputs": [],
   "source": [
    "not True"
   ]
  },
  {
   "cell_type": "markdown",
   "metadata": {},
   "source": [
    "### Logische Ausdrücke klammern\n",
    "\n",
    "Runde Klammern können bei logischen Ausdrücken so ähnlich verwendet werden wie\n",
    "beim Rechnen mit Zahlen, d.h. sie beeinflussen die Abarbeitungsreihenfolge: Was geklammert ist, wird zuerst abgearbeitet. Grundsätzlich empfehle ich, ab einer gewissen Komplexitätsstufe Klammern zu verwenden, auch wenn sie gar nicht notwendig wären, weil Klammern den Ausdruck in der Regel nachvollziehbarer machen.\n",
    "\n",
    "Denken wir einmal diese Beispiel durch:\n",
    "\n",
    "```\n",
    "if punkte > 1000 or punkte > 100 and status = ' Superpower ':\n",
    "```\n",
    "\n",
    "```\n",
    "if ( punkte > 1000) or ( punkte > 100 and status = ' Superpower ') :\n",
    "```\n",
    "\n",
    "```\n",
    "if ( punkte > 1000 or punkte > 100) and status = ' Superpower ':\n",
    "```\n",
    "\n",
    "Vielleicht wird es klarer, wenn wir nur auf die Wahrheitswerte reduzieren:"
   ]
  },
  {
   "cell_type": "code",
   "execution_count": null,
   "metadata": {},
   "outputs": [],
   "source": [
    "True or True and False"
   ]
  },
  {
   "cell_type": "code",
   "execution_count": null,
   "metadata": {},
   "outputs": [],
   "source": [
    "(True or True) and False"
   ]
  },
  {
   "cell_type": "code",
   "execution_count": null,
   "metadata": {},
   "outputs": [],
   "source": [
    "True or (True and False)"
   ]
  },
  {
   "cell_type": "markdown",
   "metadata": {},
   "source": [
    "<div class=\"alert alert-block alert-info\">\n",
    "<b>Übung Condition-6</b>\n",
    "<p>Versetzen Sie sich in den Python-Interpreter und werten Sie die oben stehenden Bedingungen schrittweise aus. Mit anderen Worten: Ermitteln Sie den Wahrheitswert der beiden ersten auszuwählende Werte (also im Sinne von z.B.\n",
    "\n",
    "<pre>\n",
    "`True and True` ergibt `True` \n",
    "</pre>\n",
    "\n",
    "und wenden Sie dann dieses Ergebnis auf den dritten Wert an, um den Wahrheitswert des gesamten Ausdrucks zu bekommen. Schreiben Sie das Ergebnis einfach in die unten stehende Zelle. Er sollten dem Ergebnis der drei Beispiele oben entsprechen. Falls sich das Ergebnis unterschiedet, denken Sie darüber nach, wo Sie den Fehler gemacht haben.</p>\n",
    "</div>"
   ]
  },
  {
   "cell_type": "markdown",
   "metadata": {},
   "source": [
    " "
   ]
  },
  {
   "cell_type": "markdown",
   "metadata": {},
   "source": [
    "<div class=\"alert alert-block alert-info\">\n",
    "<b>Übung Condition-7</b>\n",
    "<p>Stellen Sie sich vor, dass Sie ein Spiel programmieren. Zu einem gegebenen Zeitpunkt hat der Spieler einen bestimmten Score und einen bestimmten Status, die jeweils in einer Variable gespeichert sind. An dieser Stelle im Spiel entscheidet sich, ob der Spieler verliert oder nicht. Und zwar noch diesen Regeln:</p>\n",
    "<ul>\n",
    "<li>Wenn der Spieler mehr als 1000 Punkte hat, geht das Spiel unabhängig vom Status des Spielers weiter</li>\n",
    "<li>Wenn der Spieler mehr als 100 Punkte hat, und der Status auf \"Superpower\" steht, geht das Spiel auch weiter</li>\n",
    "<li>In allen anderen Fällen heißt es 'game over'</li>\n",
    "</ul>\n",
    "<p>    \n",
    "    Schreiben Sie <b>einen</b> if-Ausdruck mit mehreren logisch verknüpften Bedingungen, der diese Regeln berücksichtigt. Je nach score und status soll entweder 'Das Spiel geht weiter' oder 'Game over' ausgeben werden.\n",
    "</p>\n",
    "<p>\n",
    "Wichtig: Probieren Sie Ihr if-Konstrukt aus, indem Sie die Werte der beiden Variablen zum Testen verändern.\n",
    "</p>\n",
    "</div>"
   ]
  },
  {
   "cell_type": "code",
   "execution_count": null,
   "metadata": {},
   "outputs": [],
   "source": [
    "score = 500\n",
    "status = 'Superpower'\n",
    "\n",
    "if ...\n",
    "   print(\"Das Spiel geht weiter\")\n",
    "else:\n",
    "    print(\"Game over\")"
   ]
  },
  {
   "cell_type": "markdown",
   "metadata": {},
   "source": [
    "## Vertiefende Literatur\n",
    "Ich empfehle ausdrücklich, mindestens eine der folgenden Ressourcen zur Vertiefung zu lesen!\n",
    "\n",
    "  * Python Tutorial: \n",
    "\t* Kapitel 4.1\n",
    "\t\t* https://docs.python.org/3/tutorial/controlflow.html#if-statements\n",
    "  * Klein, Kurs: \n",
    "\t* https://python-kurs.eu/bedingte_anweisungen.php\n",
    "  * Sweigart: https://automatetheboringstuff.com/2e/chapter2/\n",
    "  \n",
    "  \n",
    "  * Klein, Buch: Kapitel 8. \n",
    "  * Kofler: Kapitel 8.1.\n",
    "  * Weigend: Kapitel 5.1, 5.2 und 5.3.  "
   ]
  },
  {
   "cell_type": "markdown",
   "metadata": {},
   "source": [
    "## Lizenz\n",
    "\n",
    "This notebook ist part of the course [Grundlagen der Programmierung](https://github.com/gvasold/gdp) held by [Gunter Vasold](https://online.uni-graz.at/kfu_online/wbForschungsportal.cbShowPortal?pPersonNr=51488) at Graz University 2017&thinsp;ff. \n",
    "\n",
    "<p>\n",
    "    It is licensed under <a href=\"https://creativecommons.org/licenses/by-nc-sa/4.0\">CC BY-NC-SA 4.0</a>\n",
    "</p>\n",
    "\n",
    "<table>\n",
    "    <tr>\n",
    "    <td>\n",
    "        <img style=\"height:22px\" \n",
    "             src=\"https://mirrors.creativecommons.org/presskit/icons/cc.svg?ref=chooser-v1\"/></li>\n",
    "    </td>\n",
    "    <td>\n",
    "    <img style=\"height:22px;\"\n",
    "         src=\"https://mirrors.creativecommons.org/presskit/icons/by.svg?ref=chooser-v1\" /></li>\n",
    "    </td>\n",
    "    <td>\n",
    "        <img style=\"height:22px;\"\n",
    "         src=\"https://mirrors.creativecommons.org/presskit/icons/nc.svg?ref=chooser-v1\" /></li>\n",
    "    </td>\n",
    "    <td>\n",
    "        <img style=\"height:22px;\"\n",
    "             src=\"https://mirrors.creativecommons.org/presskit/icons/sa.svg?ref=chooser-v1\" /></li>\n",
    "    </td>\n",
    "</tr>\n",
    "</table>"
   ]
  }
 ],
 "metadata": {
  "kernelspec": {
   "display_name": "Python 3 (ipykernel)",
   "language": "python",
   "name": "python3"
  },
  "language_info": {
   "codemirror_mode": {
    "name": "ipython",
    "version": 3
   },
   "file_extension": ".py",
   "mimetype": "text/x-python",
   "name": "python",
   "nbconvert_exporter": "python",
   "pygments_lexer": "ipython3",
   "version": "3.10.6"
  }
 },
 "nbformat": 4,
 "nbformat_minor": 4
}
