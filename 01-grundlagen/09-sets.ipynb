{
 "cells": [
  {
   "cell_type": "markdown",
   "metadata": {},
   "source": [
    "# Sets\n",
    "\n",
    "Sets sind Mengen im Sinne der Mengenlehre. Mengen haben zwei wichtige Eigenschaften:\n",
    "\n",
    "* Sie sind **ungeordnet**. Die Elemente einer Menge liegen also nicht wie bei einer Liste in einer bestimmten Reihenfolge vor.\n",
    "* Jedes Element kann in einer Menge **nur genau ein Mal** enthalten sein. Wenn Sie z.B. eine Menge von Namen haben, darf in dieser Menge jeder Name nur genau ein Mal vorkommen. Das ist auch der Grund, warum in einer Menge veränderbare Datentypen als Werte nicht erlaubt sind. Sie können deshalb z.B. keine Menge von Listen anlegen.\n",
    "\n",
    "In Python gibt es zwei Arten von Sets:\n",
    "\n",
    "* **set** ist der Datentyp für veränderbare Mengen. Das bedeutet, das bei Bedarf Elemente hinzugefügt und entfernt werden können.\n",
    "* **frozenset** ist der Datentyp für unveränderbare Mengen. Sie können z.B. eine Liste oder ein `set` in ein `frozenset` umwandeln. Dieses `frozenset` ist danach nicht mehr veränderbar. Da sich `frozensets` abgesehen von ihrer Unveränderlichkeit nicht von normalen Sets unterscheiden, werden wir nicht weiter darauf eingehen. "
   ]
  },
  {
   "cell_type": "markdown",
   "metadata": {},
   "source": [
    "## Sets erzeugen\n",
    "\n",
    "So wie eckige Klammern eine Liste anlegen, wird eine Menge durch geschwungene Klammern erzeugt:"
   ]
  },
  {
   "cell_type": "code",
   "execution_count": null,
   "metadata": {},
   "outputs": [],
   "source": [
    "names = {'Anton', 'Berta', 'Clara', 'Dieter'}\n",
    "type(names)"
   ]
  },
  {
   "cell_type": "markdown",
   "metadata": {},
   "source": [
    "Eine andere Möglichkeit besteht darin, andere Datentypen (Sequenztypen) in ein Set umzuwandeln. Dazu benötigen wir die Funktion `set()`: "
   ]
  },
  {
   "cell_type": "code",
   "execution_count": null,
   "metadata": {},
   "outputs": [],
   "source": [
    "names = ['Anton', 'Berta', 'Clara', 'Dieter']\n",
    "nameset = set(names)\n",
    "type(nameset)"
   ]
  },
  {
   "cell_type": "markdown",
   "metadata": {},
   "source": [
    "Die Funktion `set()` wandelt also andere Typen in ein Set um. Sie ist auf alle *Iterables* anwendbar, also auf jeden Datentyp, der seine Elemente eines nach dem anderen zurückgeben kann."
   ]
  },
  {
   "cell_type": "markdown",
   "metadata": {},
   "source": [
    "### Beispiel: Liste in Set umwandeln"
   ]
  },
  {
   "cell_type": "markdown",
   "metadata": {},
   "source": [
    "Im letzten Notebook haben wir eine distinkte Liste von Vornamen erzeugt, indem wir in einer `for`-Schleife für jeden Eintrag der Namensliste überprüft haben, ob er bereits in der zweiten Liste `distinct_names` vorhanden war. Da es in einem Set per definitionem keine doppelten Einträge geben darf, können wir uns das zunutze machen, um dasselbe zu erreichen: Wir wandeln einfach unsere Liste von Namen in ein Set um."
   ]
  },
  {
   "cell_type": "markdown",
   "metadata": {},
   "source": [
    "Lesen wir zunächst noch einmal alle Name in die Liste `clean_names` ein:"
   ]
  },
  {
   "cell_type": "code",
   "execution_count": null,
   "metadata": {},
   "outputs": [],
   "source": [
    "with open('data/vornamen/names_short.txt', encoding='utf-8') as fh:\n",
    "    clean_names = [line.rstrip() for line in fh.readlines()]"
   ]
  },
  {
   "cell_type": "markdown",
   "metadata": {},
   "source": [
    "Dann wandeln wir die Liste in ein `set` um:"
   ]
  },
  {
   "cell_type": "code",
   "execution_count": null,
   "metadata": {},
   "outputs": [],
   "source": [
    "distinct_names = set(clean_names)\n",
    "print('clean_names: {} Einträgen, distinct_names: {} Einträge'. format(len(clean_names), len(distinct_names)))   "
   ]
  },
  {
   "cell_type": "markdown",
   "metadata": {},
   "source": [
    "`distinct_names` ist jetzt aber keine Liste mehr, sondern vom Typ `set`:"
   ]
  },
  {
   "cell_type": "code",
   "execution_count": null,
   "metadata": {},
   "outputs": [],
   "source": [
    "type(distinct_names)"
   ]
  },
  {
   "cell_type": "markdown",
   "metadata": {},
   "source": [
    "Wir könnten das oben erzeugte Set einfach wieder in eine Liste zurückverwandeln um die schon bekannten Listenmethoden darauf anzuwenden:"
   ]
  },
  {
   "cell_type": "code",
   "execution_count": null,
   "metadata": {},
   "outputs": [],
   "source": [
    "distinct_names = list(distinct_names)\n",
    "type(distinct_names)"
   ]
  },
  {
   "cell_type": "markdown",
   "metadata": {},
   "source": [
    "Wir können das sogar in einem Aufwasch erledigen:"
   ]
  },
  {
   "cell_type": "code",
   "execution_count": null,
   "metadata": {},
   "outputs": [],
   "source": [
    "distinct_names = list(set(clean_names))\n",
    "type(distinct_names), len(distinct_names)"
   ]
  },
  {
   "cell_type": "markdown",
   "metadata": {},
   "source": [
    "Oft ist das aber gar nicht nötig, weil vieles, was mit Listen funktioniert, auch auf Sets anwendbar ist. Zum Beispiel kann man mit der Funktion `len()` die Zahl der Elemente eines Sets ermitteln:"
   ]
  },
  {
   "cell_type": "markdown",
   "metadata": {},
   "source": [
    "## Elemente zählen mit len()\n",
    "\n",
    "Die Funktion `len()` kann auch auf Sets angewendet werden, um die Zahl der im Set vorhandenen Elemente zu zählen:"
   ]
  },
  {
   "cell_type": "code",
   "execution_count": null,
   "metadata": {},
   "outputs": [],
   "source": [
    "distinct_names = set(clean_names)\n",
    "len(distinct_names)"
   ]
  },
  {
   "cell_type": "markdown",
   "metadata": {},
   "source": [
    "## Auf das Vorhandensein von Elementen prüfen mit dem in-Operator\n",
    "\n",
    "Auch der `in`-Operator funktioniert genau gleich wie bei Listen: Mit `in` können wir testen, ob ein Wert im Set vorhanden ist:"
   ]
  },
  {
   "cell_type": "code",
   "execution_count": null,
   "metadata": {},
   "outputs": [],
   "source": [
    "names = {'Anton', 'Berta', 'Clara'}\n",
    "'Berta' in names"
   ]
  },
  {
   "cell_type": "markdown",
   "metadata": {},
   "source": [
    "## Durch Sets iterieren mit for .. in\n",
    "\n",
    "Sie können mit `for ... in` genau so durch ein Set iterieren, wie durch eine Liste. Dabei sollten Sie aber beachten, dass es im Unterschied zu Listen in Sets keine festgelegte Reihenfolge der Element gibt. Es ist also nicht vorhersehbar, in welcher Reihenfolge die Elemente in der Schleife verarbeitet werden. \n",
    "\n",
    "Zur Illustration können wir erneut die Vornamen in lange, mittellange und kurze Namen aufteilen und auszählen: "
   ]
  },
  {
   "cell_type": "code",
   "execution_count": null,
   "metadata": {},
   "outputs": [],
   "source": [
    "short_length_names = 0\n",
    "medium_length_names = 0\n",
    "long_length_names = 0\n",
    "\n",
    "# if you have run the cells above, distinct_names is a set, not a list like in the original example!\n",
    "print(type(distinct_names))\n",
    "for name in distinct_names: # distinct_names is a set\n",
    "    if len(name) > 8:\n",
    "        long_length_names += 1\n",
    "    elif len(name) < 5:\n",
    "        short_length_names += 1\n",
    "    else:\n",
    "        medium_length_names += 1\n",
    "        \n",
    "print('{} kurze Namen, {} mittellange und {} lange Namen'.format(\n",
    "    short_length_names, medium_length_names, long_length_names))"
   ]
  },
  {
   "cell_type": "markdown",
   "metadata": {},
   "source": [
    "<div class=\"alert alert-block alert-info\">\n",
    "<b>Übung Set-1</b>\n",
    "<p>Da auch Strings Sequenztypen sind, können Sie einen String in ein Set (von Zeichen) umwandeln. Verwenden Sie diese Technik, um herausfinden, aus wie vielen <b>unterschiedlichen</b> Buchstaben Ihr Name besteht.</p>\n",
    "</div>"
   ]
  },
  {
   "cell_type": "code",
   "execution_count": null,
   "metadata": {},
   "outputs": [],
   "source": [
    "name = input('Geben Sie Ihren Namen ein: ')\n",
    "distinct_chars =  # TODO\n",
    "print(f'Ihr Name besteht aus {len(name)} Zeichen, {len(distinct_chars)} davon sind unterschiedlich')"
   ]
  },
  {
   "cell_type": "markdown",
   "metadata": {},
   "source": [
    "## Mengen verändern\n"
   ]
  },
  {
   "cell_type": "markdown",
   "metadata": {},
   "source": [
    "### Werte zu einem Set hinzufügen\n",
    "\n",
    "Ein neues Element kann einer Menge mit der Methode `add()` hinzugefügt werden. Registrieren Sie bitte den feinen semantischen Unterschied zu `append()` bei Listen: `append()` fügt ans Ende der List hinzu; da ein Set aber keine definierte Reihenfolge hat, wird hier dieselbe Funktionalität durch die Methode `add()` angeboten: Das neue Element wird einfach der Menge hinzugefügt, ohne dass damit eine bestimmte Position impliziert wird."
   ]
  },
  {
   "cell_type": "code",
   "execution_count": null,
   "metadata": {},
   "outputs": [],
   "source": [
    "names = {'Anna', 'Berta', 'Clara'}\n",
    "names.add('Dieter')\n",
    "names"
   ]
  },
  {
   "cell_type": "markdown",
   "metadata": {},
   "source": [
    "Man kann natürlich auch mit einem leeren Set starten. Hier funktioniert allerdings die Notation mit den geschwungenen Klammern nicht, weil diese bereits für die Erzeugung eines leeren Dictionaries (kommt im übernächsten Notebook) verwendet wird. Daher müssen wir explizit ein `set`-Objekt erzeugen:"
   ]
  },
  {
   "cell_type": "code",
   "execution_count": null,
   "metadata": {},
   "outputs": [],
   "source": [
    "names = set()\n",
    "names.add('Anna')\n",
    "names.add('Berta')\n",
    "names"
   ]
  },
  {
   "cell_type": "markdown",
   "metadata": {},
   "source": [
    "Da in einem Set jedes Element nur einmal vorkommen kann, ignoriert ein Set ein hinzugefügtes Element stillschweigend, wenn es bereits vorhanden ist:"
   ]
  },
  {
   "cell_type": "code",
   "execution_count": null,
   "metadata": {},
   "outputs": [],
   "source": [
    "names = {'Anna', 'Berta', 'Clara'}\n",
    "names.add('Anna')\n",
    "names"
   ]
  },
  {
   "cell_type": "markdown",
   "metadata": {},
   "source": [
    "### Werte aus einem Set entfernen mit discard()"
   ]
  },
  {
   "cell_type": "markdown",
   "metadata": {},
   "source": [
    "Die Methode `discard()` entfernt ein bestimmtes Element aus einem Set:"
   ]
  },
  {
   "cell_type": "code",
   "execution_count": null,
   "metadata": {},
   "outputs": [],
   "source": [
    "names = {'Anna', 'Berta', 'Carla', 'Dora'}\n",
    "print(names)\n",
    "names.discard('Berta')\n",
    "names"
   ]
  },
  {
   "cell_type": "markdown",
   "metadata": {},
   "source": [
    "Falls wir versuchen, ein nicht existierendes Element mit `discard()` zu entfernen, ignoriert Python das stillschweigend:"
   ]
  },
  {
   "cell_type": "code",
   "execution_count": null,
   "metadata": {},
   "outputs": [],
   "source": [
    "names = {'Anna', 'Berta', 'Carla', 'Dora'}\n",
    "print(names)\n",
    "names.discard('Zita')\n",
    "names"
   ]
  },
  {
   "cell_type": "markdown",
   "metadata": {},
   "source": [
    "### Werte aus einem Set entfernen mit remove()"
   ]
  },
  {
   "cell_type": "markdown",
   "metadata": {},
   "source": [
    "Ein alternative Methode zum Entfernen eines Elements steht mit `remove()`zur Verfügung:"
   ]
  },
  {
   "cell_type": "code",
   "execution_count": null,
   "metadata": {},
   "outputs": [],
   "source": [
    "names = {'Anna', 'Berta', 'Carla', 'Dora'}\n",
    "print(names)\n",
    "names.remove('Berta')\n",
    "names"
   ]
  },
  {
   "cell_type": "markdown",
   "metadata": {},
   "source": [
    "Der Unterschied zu `discard()` liegt in der Weise, wie Python darauf reagiert, wenn wir versuchen, ein nicht existierendes Element zu entfernen:"
   ]
  },
  {
   "cell_type": "code",
   "execution_count": null,
   "metadata": {},
   "outputs": [],
   "source": [
    "names = {'Anna', 'Berta', 'Carla', 'Dora'}\n",
    "print(names)\n",
    "names.remove('Zita')\n",
    "names"
   ]
  },
  {
   "cell_type": "markdown",
   "metadata": {},
   "source": [
    "Hier wird das Fehlen des Wertes nicht einfach ignoriert, sondern es wird eine Exception ausgelöst. Was das ist, werden wir in einem der nächsten Notebooks lernen."
   ]
  },
  {
   "cell_type": "markdown",
   "metadata": {},
   "source": [
    "### Einen Wert entfernen mit `pop()`\n"
   ]
  },
  {
   "cell_type": "code",
   "execution_count": null,
   "metadata": {},
   "outputs": [],
   "source": [
    "names = {'Anna', 'Berta', 'Carla', 'Dora'}\n",
    "print(names)\n",
    "names.pop()\n",
    "names"
   ]
  },
  {
   "cell_type": "markdown",
   "metadata": {},
   "source": [
    "Wir haben gelernt, dass `pop()` das letzte Element einer Liste entfernt. Da ein Set keine definierte Reihenfolge hat, wird hier durch `pop()` ein nicht vorhersehbares Element aus dem Set entfernt. Die Methode macht dennoch Sinn, etwas wenn in einer `while`-Schleife ein Element nach dem anderen Entfernt werden soll: "
   ]
  },
  {
   "cell_type": "code",
   "execution_count": null,
   "metadata": {},
   "outputs": [],
   "source": [
    "names = {'Anna', 'Berta', 'Carla', 'Dora'}\n",
    "while names:  # True, solange noch Elemente vorhanden sind\n",
    "    print(names.pop())\n",
    "names # now empty"
   ]
  },
  {
   "cell_type": "markdown",
   "metadata": {},
   "source": [
    "### Alle Werte aus einem Set löschen\n",
    "\n",
    "Zum Löschen aller Werte aus einem Set gibt es die Methode `clear()`:"
   ]
  },
  {
   "cell_type": "code",
   "execution_count": null,
   "metadata": {},
   "outputs": [],
   "source": [
    "names = {'Anna', 'Berta', 'Carla', 'Dora'}\n",
    "print(names)\n",
    "names.clear()\n",
    "names"
   ]
  },
  {
   "cell_type": "markdown",
   "metadata": {},
   "source": [
    "<div class=\"alert alert-block alert-info\">\n",
    "<b>Übung Set-2</b>\n",
    "<ol>\n",
    "<li>Lesen Sie die Datei <tt>data/vornamen/vornamen_2015.txt</tt> zeilenweise ein, entfernen Sie die Zeilenumbrüche und wandeln die so entstandene Liste in ein Set <tt>distinct_names</tt> um.</li>\n",
    "<li>Iterieren Sie in einer Schleife durch dieses Set und geben Sie alle Einträge aus, die aus 3, 4 oder 5 Zeichen bestehen.</li>\n",
    "</ol>\n",
    "</div>"
   ]
  },
  {
   "cell_type": "markdown",
   "metadata": {},
   "source": [
    "## Mengenoperationen\n",
    "\n",
    "Das Enfernen von mehrfach vorkommenden Elementen ist zwar ein nettes Feature, der eigentliche Zweck von Sets aber ist, dass wir damit Mengenlehre betreiben können. "
   ]
  },
  {
   "cell_type": "markdown",
   "metadata": {},
   "source": [
    "### Die Schnittmenge bilden\n",
    "\n",
    "Nehmen wir an, wir haben zwei Freundesgruppen: Eine aus dem Umfeld der Universität, eine zweite treffen wir regelmässig beim Bouldern:"
   ]
  },
  {
   "cell_type": "code",
   "execution_count": null,
   "metadata": {},
   "outputs": [],
   "source": [
    "uni_friends = {'Anna', 'Georg', 'Hannes', 'Sabrina'}\n",
    "boulder_friends = {'Emil', 'Sabrina', 'Georg'}"
   ]
  },
  {
   "cell_type": "markdown",
   "metadata": {},
   "source": [
    "Wenn wir herausfinden wollen, wer beiden Gruppen angehört, müssen wir die Schnittmenge der beiden Sets bilden.\n",
    "\n",
    "![Schnittmenge](img/set_intersection.png)"
   ]
  },
  {
   "cell_type": "code",
   "execution_count": null,
   "metadata": {},
   "outputs": [],
   "source": [
    "uni_friends & boulder_friends"
   ]
  },
  {
   "cell_type": "markdown",
   "metadata": {},
   "source": [
    "Wir haben hier den `&`-Operator kennen gelernt, der auf zwei Mengen angewendet, die Schnittmenge dieser beiden Mengen bildet.\n",
    "\n",
    "Alternativ zum `&`-Operator können Sie die `intersection()`-Methode eines `set`-Objekts verwenden:"
   ]
  },
  {
   "cell_type": "code",
   "execution_count": null,
   "metadata": {},
   "outputs": [],
   "source": [
    "uni_friends.intersection(boulder_friends)"
   ]
  },
  {
   "cell_type": "markdown",
   "metadata": {},
   "source": [
    "### Differenzmenge zweier Sets bilden\n",
    "\n",
    "Die Differenz zweier Mengen entsteht dadurch, dass alle Elemente, die in beiden Mengen vorhanden sind,\n",
    "aus der einen Menge entfernt wird: Es bleiben somit nur die Elemente, die nur in der einen Menge vorhanden sind.\n",
    "\n",
    "![Differenzmenge](img/set_difference.png)\n",
    "\n",
    "Um das etwas konkreter zu machen: Wenn wenn wir heraufinden wollen, welche unserer Freunde wir nur von der Uni kennen, ist der Differenzoperator `-` genau das, was wir brauchen:"
   ]
  },
  {
   "cell_type": "code",
   "execution_count": null,
   "metadata": {},
   "outputs": [],
   "source": [
    "uni_friends - boulder_friends"
   ]
  },
  {
   "cell_type": "markdown",
   "metadata": {},
   "source": [
    "Auch hier gibt es alternativ zum Operator eine Methode: `difference()`"
   ]
  },
  {
   "cell_type": "code",
   "execution_count": null,
   "metadata": {},
   "outputs": [],
   "source": [
    "uni_friends.difference(boulder_friends)"
   ]
  },
  {
   "cell_type": "markdown",
   "metadata": {},
   "source": [
    "Wenn wir herausfinden wollen, wenn wir nur vom Bouldern kennen, müssen wir die beiden Sets vertauschen:"
   ]
  },
  {
   "cell_type": "code",
   "execution_count": null,
   "metadata": {},
   "outputs": [],
   "source": [
    "boulder_friends - uni_friends"
   ]
  },
  {
   "cell_type": "markdown",
   "metadata": {},
   "source": [
    "bzw. so:"
   ]
  },
  {
   "cell_type": "code",
   "execution_count": null,
   "metadata": {},
   "outputs": [],
   "source": [
    "boulder_friends.difference(uni_friends)"
   ]
  },
  {
   "cell_type": "markdown",
   "metadata": {},
   "source": [
    "### Vereinigungsmenge zwei Mengen bilden"
   ]
  },
  {
   "cell_type": "markdown",
   "metadata": {},
   "source": [
    "Ebenso einfach kann die Vereinigungsmenge erzeugt werden:"
   ]
  },
  {
   "cell_type": "code",
   "execution_count": null,
   "metadata": {},
   "outputs": [],
   "source": [
    "uni_friends | boulder_friends"
   ]
  },
  {
   "cell_type": "markdown",
   "metadata": {},
   "source": [
    "enthält nun alle Elemente aus beiden Mengen.\n",
    "\n",
    "![Vereinigungsmenge](img/set_union.png)"
   ]
  },
  {
   "cell_type": "markdown",
   "metadata": {},
   "source": [
    "Auch hier gibt es eine Methode, die daselbe tut wie der `|`-Operator: `.union()`:"
   ]
  },
  {
   "cell_type": "code",
   "execution_count": null,
   "metadata": {},
   "outputs": [],
   "source": [
    "uni_friends.union(boulder_friends)"
   ]
  },
  {
   "cell_type": "markdown",
   "metadata": {},
   "source": [
    "## Weitere nützliche Methoden\n",
    "\n",
    "Beim Programmieren geschieht nicht selten, dass man etwas selbst programmiert und dann später herausfindet, dass diese Funktionalität ohnehin bereits vorhanden war. Deshalb stelle ich hier noch kurz ein paar weitere nützliche Methoden des Set-Objekts vor. (Ab hier kein Prüfungsstoff, da sie das jederzeit nachschlagen können)."
   ]
  },
  {
   "cell_type": "markdown",
   "metadata": {},
   "source": [
    "### Gibt es Überschneidungen?\n",
    "\n",
    "Um herauszufinden, ob zwei Mengen keine gemeinsamen Elemente haben, können Sie `isdisjoint()` verwenden:"
   ]
  },
  {
   "cell_type": "code",
   "execution_count": null,
   "metadata": {},
   "outputs": [],
   "source": [
    "uni_friends = {'Anna', 'Georg', 'Hannes', 'Sabrina'}\n",
    "boulder_friends = {'Emil', 'Sabrina', 'Georg'}\n",
    "beer_friends = {'Otto', 'Lisa', 'Hans'}\n",
    "\n",
    "uni_friends.isdisjoint(boulder_friends)"
   ]
  },
  {
   "cell_type": "code",
   "execution_count": null,
   "metadata": {},
   "outputs": [],
   "source": [
    "uni_friends.isdisjoint(beer_friends)"
   ]
  },
  {
   "cell_type": "markdown",
   "metadata": {},
   "source": [
    "## Ist eine Menge ein Subset der anderen Menge?\n",
    "\n",
    "Um herauszufinden, ob alle Element der einen Menge in der anderen Menge enthalten sind, können Sie `issubset()` verwenden."
   ]
  },
  {
   "cell_type": "code",
   "execution_count": null,
   "metadata": {},
   "outputs": [],
   "source": [
    "uni_friends = {'Anna', 'Georg', 'Hannes', 'Sabrina'}\n",
    "beer_friends = {'Anna', 'Hannes'}\n",
    "\n",
    "beer_friends.issubset(uni_friends)"
   ]
  },
  {
   "cell_type": "markdown",
   "metadata": {},
   "source": [
    "Anders herum können Sie diese Frage mit `issuperset()` lösen:"
   ]
  },
  {
   "cell_type": "code",
   "execution_count": null,
   "metadata": {},
   "outputs": [],
   "source": [
    "uni_friends = {'Anna', 'Georg', 'Hannes', 'Sabrina'}\n",
    "beer_friends = {'Anna', 'Hannes'}\n",
    "\n",
    "uni_friends.issuperset(beer_friends)"
   ]
  },
  {
   "cell_type": "markdown",
   "metadata": {},
   "source": [
    "## Vertiefende Literatur\n",
    "Ich empfehle ausdrücklich, mindestens eine der folgenden Ressourcen zur Vertiefung zu lesen!\n",
    "\n",
    "  * Python Tutorial: Kapitel 5.4\n",
    "    (https://docs.python.org/3/tutorial/datastructures.html#sets).\n",
    "  * Klein, Kurs: Mengen (https://python-kurs.eu/python3_sets_mengen.php).\n",
    "  \n",
    "  \n",
    "  * Klein, Buch: Kapitel 7.\n",
    "  * Kofler: Kapitel 7.4.\n",
    "  * Weigend: Kapitel 7.6.\n",
    "  * Pilgrim: Kapitel 2.5\n",
    "    (https://www.diveinto.org/python3/native-datatypes.html#sets)."
   ]
  },
  {
   "cell_type": "markdown",
   "metadata": {},
   "source": [
    "## Lizenz\n",
    "\n",
    "This notebook ist part of the course [Grundlagen der Programmierung](https://github.com/gvasold/gdp) held by [Gunter Vasold](https://online.uni-graz.at/kfu_online/wbForschungsportal.cbShowPortal?pPersonNr=51488) at Graz University 2017&thinsp;ff. \n",
    "\n",
    "<p>\n",
    "    It is licensed under <a href=\"https://creativecommons.org/licenses/by-nc-sa/4.0\">CC BY-NC-SA 4.0</a>\n",
    "</p>\n",
    "\n",
    "<table>\n",
    "    <tr>\n",
    "    <td>\n",
    "        <img style=\"height:22px\" \n",
    "             src=\"https://mirrors.creativecommons.org/presskit/icons/cc.svg?ref=chooser-v1\"/></li>\n",
    "    </td>\n",
    "    <td>\n",
    "    <img style=\"height:22px;\"\n",
    "         src=\"https://mirrors.creativecommons.org/presskit/icons/by.svg?ref=chooser-v1\" /></li>\n",
    "    </td>\n",
    "    <td>\n",
    "        <img style=\"height:22px;\"\n",
    "         src=\"https://mirrors.creativecommons.org/presskit/icons/nc.svg?ref=chooser-v1\" /></li>\n",
    "    </td>\n",
    "    <td>\n",
    "        <img style=\"height:22px;\"\n",
    "             src=\"https://mirrors.creativecommons.org/presskit/icons/sa.svg?ref=chooser-v1\" /></li>\n",
    "    </td>\n",
    "</tr>\n",
    "</table>"
   ]
  }
 ],
 "metadata": {
  "kernelspec": {
   "display_name": "Python 3 (ipykernel)",
   "language": "python",
   "name": "python3"
  },
  "language_info": {
   "codemirror_mode": {
    "name": "ipython",
    "version": 3
   },
   "file_extension": ".py",
   "mimetype": "text/x-python",
   "name": "python",
   "nbconvert_exporter": "python",
   "pygments_lexer": "ipython3",
   "version": "3.10.7"
  }
 },
 "nbformat": 4,
 "nbformat_minor": 4
}
