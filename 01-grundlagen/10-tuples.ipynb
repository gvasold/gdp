{
 "cells": [
  {
   "cell_type": "markdown",
   "metadata": {},
   "source": [
    "# Tupel\n",
    "\n",
    "Tupel (tuples) repräsentieren zusammengehörige Daten. Ein einfaches Beispiel sind Koodinaten in einem zweidimensionalen Raum (Werte auf der Y- und Y-Achse). Einen Punkt auf dieser Fläche kann man als Tupel so darstellen:\n",
    "\n",
    "```\n",
    "(5, 17) # x=5, y=17\n",
    "```\n",
    "\n",
    "Tupel können mehr als 2 Werte enthalten, etwa drei Werte für die Koordinaten in einem dreidimensionalen Raum:\n",
    "\n",
    "~~~\n",
    "(5, 17, 3)\n",
    "~~~\n",
    "\n",
    "Tupel können aber auch nicht-numerische Daten enthalten. Ich könnte beispielsweise die Teilnehmerinnen an diesem Kurs als Tupel verwalten:\n",
    "\n",
    "~~~\n",
    "('019173377', 'Maria', 'Meier', 3, 2, 3, 1, True, 2)\n",
    "~~~\n",
    "\n",
    "Wäre so zu lesen: \n",
    "\n",
    "~~~\n",
    "(Matrikelnummer, Vorname, Zuname, Klausur1, Klausur2, Übung1, Übung2, Abschlussprojekt gemacht, Note)\n",
    "~~~"
   ]
  },
  {
   "cell_type": "markdown",
   "metadata": {},
   "source": [
    "### Tupel, Sets und Listen\n",
    "\n",
    "Tupel sind von der Idee her ein wenig mit Mengen (Sets) verwandt, mit dem Unterschied, dass die Reihenfolge der Elemente im Tupel fix ist, d.h. dass die Element immer in derselben Reihenfolge vorkommen (was bei Mengen nicht der Fall ist).\n",
    "\n",
    "Aus der Sicht von Python sind Tupel eng mit Listen verwandt. Der wichtigste Unterschied im Umgang von Listen und Tupel ist der, dass Tupel nicht veränderbar sind. Während man einer Liste jederzeit neue Elemente hinzufügen, Elemente aus der Liste löschen oder Elemente ersetzen kann, sind Tupel, sobald sie erzeugt werden, nicht mehr veränderbar."
   ]
  },
  {
   "cell_type": "markdown",
   "metadata": {},
   "source": [
    "## Mit Tupeln arbeiten\n",
    "\n",
    "### Ein Tupel erzeugen\n",
    "\n",
    "Ein Tupel wird die runde Klammern gekennzeichnet. Ein neues Tupel kann also so angelegt werden:"
   ]
  },
  {
   "cell_type": "code",
   "execution_count": null,
   "metadata": {},
   "outputs": [],
   "source": [
    "pos1 = (5, 17)\n",
    "print(pos1)\n",
    "print(type(pos1))"
   ]
  },
  {
   "cell_type": "markdown",
   "metadata": {},
   "source": [
    "Das Hinzufügen neuen Werte funktioniert, wie oben bereits gesagt nicht, weil ein Tupel unveränderbar (*immutable*) ist:"
   ]
  },
  {
   "cell_type": "code",
   "execution_count": null,
   "metadata": {},
   "outputs": [],
   "source": [
    "pos1.append(11)"
   ]
  },
  {
   "cell_type": "code",
   "execution_count": null,
   "metadata": {},
   "outputs": [],
   "source": [
    "pos1.add(11)"
   ]
  },
  {
   "cell_type": "markdown",
   "metadata": {},
   "source": [
    "### Ein Tupel löschen\n",
    "\n",
    "Die `del`-Anweisung löscht ein Objekt aus dem Hauptspeicher. Das ist nicht Tupel-spezifisch, sondern funktioniert für alle Objekte. Im folgenden legen wir zuerst ein Tupel an, geben den Wert dann aus, löschen es mit `del` und versuchen dann noch einmal, uns den Wert ausgeben zu lassen:"
   ]
  },
  {
   "cell_type": "code",
   "execution_count": null,
   "metadata": {},
   "outputs": [],
   "source": [
    "pos2 = (33, 76)\n",
    "print(pos2)\n",
    "del pos2\n",
    "print(pos2)"
   ]
  },
  {
   "cell_type": "markdown",
   "metadata": {},
   "source": [
    "## Die Länge eines Tupels ermitteln\n",
    "\n",
    "Wie bei anderen Typen kann mit `len()` die Zahl der Elemente ermittelt werden:"
   ]
  },
  {
   "cell_type": "code",
   "execution_count": null,
   "metadata": {},
   "outputs": [],
   "source": [
    "mytuple = (3, 7, 2)\n",
    "len(mytuple)"
   ]
  },
  {
   "cell_type": "markdown",
   "metadata": {},
   "source": [
    "### Auf einzelne Werte eines Tupels zugreifen\n",
    "\n",
    "Auf die einzelnen Elemente (Werte) eines Tupel kann genau so zugegriffen werden wie auf die Elemente einer Liste:"
   ]
  },
  {
   "cell_type": "code",
   "execution_count": null,
   "metadata": {},
   "outputs": [],
   "source": [
    "pos1 = (3, 5, 9)\n",
    "pos1[0]"
   ]
  },
  {
   "cell_type": "markdown",
   "metadata": {},
   "source": [
    "Wie bei Listen funktioniert das auch mit negativen Werten:"
   ]
  },
  {
   "cell_type": "code",
   "execution_count": null,
   "metadata": {},
   "outputs": [],
   "source": [
    "pos1[-1]"
   ]
  },
  {
   "cell_type": "markdown",
   "metadata": {},
   "source": [
    "Auch Slicing funktioniert mit Tupel:"
   ]
  },
  {
   "cell_type": "code",
   "execution_count": null,
   "metadata": {},
   "outputs": [],
   "source": [
    "pos1[:2]"
   ]
  },
  {
   "cell_type": "markdown",
   "metadata": {},
   "source": [
    "<div class=\"alert alert-block alert-info\">\n",
    "<b>Übung Tuple-1</b>\n",
    "<p>Unten finden Sie eine Liste von Tupeln, die Punkte in einem Raum darstellen (x,y,z). Erzeugen Sie eine neue Liste von Tupeln, die nur noch die x und y Werte enthält!</p>\n",
    "</div>"
   ]
  },
  {
   "cell_type": "code",
   "execution_count": null,
   "metadata": {},
   "outputs": [],
   "source": [
    "coordinates = [\n",
    "    (9, 2, 17),\n",
    "    (4, 14, 11),\n",
    "    (8, 10, 6),\n",
    "    (2, 7, 0)\n",
    "]    "
   ]
  },
  {
   "cell_type": "markdown",
   "metadata": {},
   "source": [
    "## Named Tupels\n",
    "\n",
    "Als kleiner Vorgriff auf die Standard Library: Bei komplexeren Tupeln ist es manchmal schwierig, im Kopf zu behalten an welcher Position welcher Wert steht. Erinnern wir uns an das Beispiel von oben:\n",
    "\n",
    "('019173377', 'Maria', 'Meier', 3, 2, 3, 1, True, 2)\n",
    " \n",
    "Ich mußte selbst gerade nachsehen, wofür der dritte numerische Wert steht (es war `Übung1`).\n",
    "\n",
    "Aus diesem Grund gibt es im Package `collections` einen Datentyp *Named Tuple*, der sich wie ein normales Tupel verhält, es aber erlaubt, auf die einzelnen Tupelelemente über einen Namen zuzugreifen. Named Tuples werden so verwendet:"
   ]
  },
  {
   "cell_type": "code",
   "execution_count": null,
   "metadata": {},
   "outputs": [],
   "source": [
    "from collections import namedtuple\n",
    "\n",
    "Student = namedtuple('Student', \n",
    "            ('matrikeln', 'firstname', 'lastname', 'klausur1', 'klausur2', \n",
    "             'assignement1', 'assignment2', 'finished_project', 'final_grade'))\n",
    "\n",
    "maria = Student('019173377', 'Maria', 'Meier', 3, 2, 3, 1, True, 2)\n",
    "                     \n",
    "maria.lastname"
   ]
  },
  {
   "cell_type": "code",
   "execution_count": null,
   "metadata": {},
   "outputs": [],
   "source": [
    "maria.finished_project"
   ]
  },
  {
   "cell_type": "markdown",
   "metadata": {},
   "source": [
    "Alles, was wir für Tupel gelernt haben, funktioniert weiterhin:"
   ]
  },
  {
   "cell_type": "code",
   "execution_count": null,
   "metadata": {},
   "outputs": [],
   "source": [
    "maria[0]"
   ]
  },
  {
   "cell_type": "markdown",
   "metadata": {},
   "source": [
    "## Vertiefende Literatur\n",
    "Ich empfehle ausdrücklich, mindestens eine der folgenden Ressourcen zur Vertiefung zu lesen!\n",
    "\n",
    "* Python Tutorial:\n",
    "    * https://docs.python.org/3/tutorial/datastructures.html#tuples-and-sequences\n",
    "* Sweigart:\n",
    "    * https://automatetheboringstuff.com/2e/chapter4/\n",
    "* Weigend: Kapitel Kapitel 4.10.3\n",
    "* Kofler: Kapitel 7.3.\n",
    "* Briggs: Kapitel 7.\n",
    "* Sweigart: Kapitel 4."
   ]
  },
  {
   "cell_type": "markdown",
   "metadata": {},
   "source": [
    "## Lizenz\n",
    "\n",
    "This notebook ist part of the course [Grundlagen der Programmierung](https://github.com/gvasold/gdp) held by [Gunter Vasold](https://online.uni-graz.at/kfu_online/wbForschungsportal.cbShowPortal?pPersonNr=51488) at Graz University 2017&thinsp;ff. \n",
    "\n",
    "<p>\n",
    "    It is licensed under <a href=\"https://creativecommons.org/licenses/by-nc-sa/4.0\">CC BY-NC-SA 4.0</a>\n",
    "</p>\n",
    "\n",
    "<table>\n",
    "    <tr>\n",
    "    <td>\n",
    "        <img style=\"height:22px\" \n",
    "             src=\"https://mirrors.creativecommons.org/presskit/icons/cc.svg?ref=chooser-v1\"/></li>\n",
    "    </td>\n",
    "    <td>\n",
    "    <img style=\"height:22px;\"\n",
    "         src=\"https://mirrors.creativecommons.org/presskit/icons/by.svg?ref=chooser-v1\" /></li>\n",
    "    </td>\n",
    "    <td>\n",
    "        <img style=\"height:22px;\"\n",
    "         src=\"https://mirrors.creativecommons.org/presskit/icons/nc.svg?ref=chooser-v1\" /></li>\n",
    "    </td>\n",
    "    <td>\n",
    "        <img style=\"height:22px;\"\n",
    "             src=\"https://mirrors.creativecommons.org/presskit/icons/sa.svg?ref=chooser-v1\" /></li>\n",
    "    </td>\n",
    "</tr>\n",
    "</table>"
   ]
  }
 ],
 "metadata": {
  "kernelspec": {
   "display_name": "Python 3 (ipykernel)",
   "language": "python",
   "name": "python3"
  },
  "language_info": {
   "codemirror_mode": {
    "name": "ipython",
    "version": 3
   },
   "file_extension": ".py",
   "mimetype": "text/x-python",
   "name": "python",
   "nbconvert_exporter": "python",
   "pygments_lexer": "ipython3",
   "version": "3.10.7"
  }
 },
 "nbformat": 4,
 "nbformat_minor": 4
}
