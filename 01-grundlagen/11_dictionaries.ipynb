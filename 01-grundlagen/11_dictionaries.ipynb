{
 "cells": [
  {
   "cell_type": "markdown",
   "metadata": {},
   "source": [
    "# Dictionaries\n",
    "\n",
    "Dictionaries, die in anderen Programmiersprachen auch *Maps*, *Hashtables* oder *Assoziative Arrays* heißen, sind (intern) einer der wichtigsten Datentypen in Python. In einem Dictionary\n",
    "wird jeder Wert über einen Key (Schlüssel) referenziert. Jeder Eintrag besteht also aus einem Schlüssel und dem dazu gehörigen Wert.\n",
    "\n",
    "<img src=\"img/dict.svg\" alt=\"Dictionary\" style=\"height: 120px\">\n",
    "\n",
    "Ein Dictionary ist ein mächtiges und flexibles Instrument, um Daten zwischenzuspeichern\n",
    "und sehr rasch wieder zu finden.\n",
    "\n",
    "Dictionaries können jederzeit erweitert und verkürzt werden. Wie bei Listen können die\n",
    "in einem Dictionary gespeicherten Werte überschrieben werden. Dictionaries gehören also zu den veränderbaren Datentypen.\n",
    "\n",
    "Mit Python 3.6 wurde der Typ Dictionary neu implementiert, wodurch (zumindest\n",
    "intern) die Reihenfolge der Elemente in einem Dictionary stabil bleibt. Für ältere Versionen ist dies nicht garantiert."
   ]
  },
  {
   "cell_type": "markdown",
   "metadata": {},
   "source": [
    "## Grundlagen"
   ]
  },
  {
   "cell_type": "markdown",
   "metadata": {},
   "source": [
    "### Erzeugen und Befüllen eines Dictionaries\n",
    "\n",
    "Ein leeres Dictionary wird so angelegt:"
   ]
  },
  {
   "cell_type": "code",
   "execution_count": null,
   "metadata": {},
   "outputs": [],
   "source": [
    "phone_numbers = {}"
   ]
  },
  {
   "cell_type": "markdown",
   "metadata": {},
   "source": [
    "Dann können Werte eingefügt werden:"
   ]
  },
  {
   "cell_type": "code",
   "execution_count": null,
   "metadata": {},
   "outputs": [],
   "source": [
    "phone_numbers['Anna'] = '0316 123456'\n",
    "phone_numbers['Hans'] = '0664 345678'\n",
    "phone_numbers['Otto'] = '0660 987654'\n",
    "\n",
    "phone_numbers"
   ]
  },
  {
   "cell_type": "markdown",
   "metadata": {},
   "source": [
    "Man kann die Schlüssel-Wertpaare auch direkt beim Erzeugen des Dictionary anlegen:"
   ]
  },
  {
   "cell_type": "code",
   "execution_count": null,
   "metadata": {},
   "outputs": [],
   "source": [
    "phone_numbers = {\n",
    "    'Anna': '0316 123456',\n",
    "    'Hans': '0664 345678',\n",
    "    'Otto': '0660 987654'\n",
    "}\n",
    "phone_numbers"
   ]
  },
  {
   "cell_type": "markdown",
   "metadata": {},
   "source": [
    "<div class=\"alert alert-block alert-info\">\n",
    "<b>Übung Dict-1</b>\n",
    "<p>\n",
    "Erzeugen Sie ein Dictionary, das für 5 deutsche Wörter ihre englische Übersetzung enthält.\n",
    "</p>\n",
    "</div>"
   ]
  },
  {
   "cell_type": "code",
   "execution_count": null,
   "metadata": {},
   "outputs": [],
   "source": []
  },
  {
   "cell_type": "markdown",
   "metadata": {},
   "source": [
    "### Abfragen von Werten aus einem Dictionary"
   ]
  },
  {
   "cell_type": "markdown",
   "metadata": {},
   "source": [
    "Die Telefonnummer von Hans können wir über das Dictionary so ermitteln:"
   ]
  },
  {
   "cell_type": "code",
   "execution_count": null,
   "metadata": {},
   "outputs": [],
   "source": [
    "phone_numbers['Hans']"
   ]
  },
  {
   "cell_type": "markdown",
   "metadata": {},
   "source": [
    "Was passiert aber, wenn wir einen nicht existierenden Key verwenden?"
   ]
  },
  {
   "cell_type": "code",
   "execution_count": null,
   "metadata": {},
   "outputs": [],
   "source": [
    "phone_numbers['Tusnelda']"
   ]
  },
  {
   "cell_type": "markdown",
   "metadata": {},
   "source": [
    "#### Dictionaries und der in-Operator"
   ]
  },
  {
   "cell_type": "markdown",
   "metadata": {},
   "source": [
    "Wie bereits für andere Datentypen gezeigt, funktioniert der `in`-Operator auch für Dictionaries. Dabei wird auf die Existenz des entsprechenden Keys geprüft:"
   ]
  },
  {
   "cell_type": "code",
   "execution_count": null,
   "metadata": {},
   "outputs": [],
   "source": [
    "'Hans' in phone_numbers"
   ]
  },
  {
   "cell_type": "code",
   "execution_count": null,
   "metadata": {},
   "outputs": [],
   "source": [
    "'Tusnelda' in phone_numbers"
   ]
  },
  {
   "cell_type": "markdown",
   "metadata": {},
   "source": [
    "Um einen `KeyError` beim Zugriff auf ein nicht existierenden Key zu vermeiden, können wir zuerst mit dem `in` -Operator testen, ob der entsprechende Key vorhanden ist:"
   ]
  },
  {
   "cell_type": "code",
   "execution_count": null,
   "metadata": {},
   "outputs": [],
   "source": [
    "name = \"Tusnelda\"\n",
    "if name in phone_numbers:\n",
    "    print(phone_numbers[name])\n",
    "else:\n",
    "    print(f\"Kein Eintrag für '{name}' vorhanden.\")"
   ]
  },
  {
   "cell_type": "markdown",
   "metadata": {},
   "source": [
    "#### Die Methode get()\n",
    "\n",
    "Eine kompaktere Lösung für das Abfangen fehlender Schlüssel bietet die Methode get(): Sie liefert den zum Schlüssel passenden Wert oder, falls der Schlüssel nicht existiert, `None`. Hier ein Beispiel:"
   ]
  },
  {
   "cell_type": "code",
   "execution_count": null,
   "metadata": {},
   "outputs": [],
   "source": [
    "print('Hans: {}'.format(phone_numbers.get('Hans')))\n",
    "print('Tusnelda: {}'.format(phone_numbers.get('Tusnelda')))"
   ]
  },
  {
   "cell_type": "markdown",
   "metadata": {},
   "source": [
    "Es besteht sogar die Möglichkeit, als Defaultwert etwas anderes als `None` zu verwenden:"
   ]
  },
  {
   "cell_type": "code",
   "execution_count": null,
   "metadata": {},
   "outputs": [],
   "source": [
    "phone_numbers.get('Tusnelda', 'Nicht vorhanden')"
   ]
  },
  {
   "cell_type": "markdown",
   "metadata": {},
   "source": [
    "<div class=\"alert alert-block alert-info\">\n",
    "<b>Übung Dict-2</b>    \n",
    "<p>\n",
    "Probieren Sie das Dictionary aus Übung Dict-1 aus.\n",
    "<ol>\n",
    "<li>Lassen Sie sich ein Wort übersetzen</li>\n",
    "<li>Probieren Sie es mit einem nicht funktionierenden Wort</li> \n",
    "</ol>\n",
    "</p>\n",
    "</div>"
   ]
  },
  {
   "cell_type": "code",
   "execution_count": null,
   "metadata": {},
   "outputs": [],
   "source": []
  },
  {
   "cell_type": "markdown",
   "metadata": {},
   "source": [
    "### Wissenswertes zu Keys"
   ]
  },
  {
   "cell_type": "markdown",
   "metadata": {},
   "source": [
    "In einem Dictionary kann ein Schlüssel nur einmal verwendet werden. Wird er ein zweites Mal verwendet, wird der ursprüngliche Wert überschrieben."
   ]
  },
  {
   "cell_type": "code",
   "execution_count": null,
   "metadata": {},
   "outputs": [],
   "source": [
    "print(phone_numbers['Hans'])\n",
    "phone_numbers['Hans'] = 'Neue Nummer'\n",
    "phone_numbers"
   ]
  },
  {
   "cell_type": "markdown",
   "metadata": {},
   "source": [
    "Meist werden als Key Strings verwendet. Dictionaries erlauben aber jeden unveränderbaren Datentyp als Key. Sie können also z.B. auch Integers, Floats oder Tupel  als Key verwenden. Nicht erlaubt als Keys sind jedoch veränderbare Datentypen wie Listen, Sets oder Dictionaries."
   ]
  },
  {
   "cell_type": "code",
   "execution_count": null,
   "metadata": {},
   "outputs": [],
   "source": [
    "my_dict = {}\n",
    "\n",
    "my_dict[42] = 'Solution'\n",
    "my_dict[3.14] = 'Pi'\n",
    "print(my_dict)"
   ]
  },
  {
   "cell_type": "markdown",
   "metadata": {},
   "source": [
    "Hier ein nicht erlaubter Datentyp als Key:"
   ]
  },
  {
   "cell_type": "code",
   "execution_count": null,
   "metadata": {},
   "outputs": [],
   "source": [
    "my_dict[['a', 'b', 'c']] = 'abc'"
   ]
  },
  {
   "cell_type": "markdown",
   "metadata": {},
   "source": [
    "<div class=\"alert alert-block alert-info\">\n",
    "<b>Übung Dict-3</b>    \n",
    "<p>\n",
    "Ersetzen Sie einen Wert aus dem Dictionary aus Übung Dict-1 durch eine alternative Übersetzung!\n",
    "</p>\n",
    "</div>"
   ]
  },
  {
   "cell_type": "code",
   "execution_count": null,
   "metadata": {},
   "outputs": [],
   "source": []
  },
  {
   "cell_type": "markdown",
   "metadata": {},
   "source": [
    "## Die Zahl der Elemente ermitteln\n",
    "\n",
    "Die Methode `len()`, die wir bereits bei einigen anderen Datentypen kennen gelernt haben, funktioniert auch für Dictionaries. Sie ermittelt die Zahl der Key-Value-Paare im Dict."
   ]
  },
  {
   "cell_type": "code",
   "execution_count": null,
   "metadata": {},
   "outputs": [],
   "source": [
    "phone_numbers = {\n",
    "    'Anna': '0316 123456',\n",
    "    'Hans': '0664 345678',\n",
    "    'Otto': '0660 987654'\n",
    "}\n",
    "len(phone_numbers)"
   ]
  },
  {
   "cell_type": "markdown",
   "metadata": {},
   "source": [
    "## In einer for-Schleife durch ein Dictionary iterieren"
   ]
  },
  {
   "cell_type": "markdown",
   "metadata": {},
   "source": [
    "Die schon bekannte `for ... in` Schleife funktioniert auch mit Dictionaries."
   ]
  },
  {
   "cell_type": "code",
   "execution_count": null,
   "metadata": {},
   "outputs": [],
   "source": [
    "for key in phone_numbers:\n",
    "    print(key)"
   ]
  },
  {
   "cell_type": "markdown",
   "metadata": {},
   "source": [
    "Wie wir sehen, liefert `for ... in` einen Key nach dem anderen. Den dazugehörigen Wert können wir auf bekannte Weise auslesen:"
   ]
  },
  {
   "cell_type": "code",
   "execution_count": null,
   "metadata": {},
   "outputs": [],
   "source": [
    "for key in phone_numbers:\n",
    "    print(f\"{key} -> {phone_numbers[key]}\")"
   ]
  },
  {
   "cell_type": "markdown",
   "metadata": {},
   "source": [
    "### Die Methode items()\n",
    "Alternativ können wir die Methode `items()` verwenden, die jeweils Schlüssel und Wert als Tupel zurückgibt:"
   ]
  },
  {
   "cell_type": "code",
   "execution_count": null,
   "metadata": {},
   "outputs": [],
   "source": [
    "for key, value in phone_numbers.items():\n",
    "    print('{} -> {}'.format(key, value))"
   ]
  },
  {
   "cell_type": "markdown",
   "metadata": {},
   "source": [
    "### Die Methode values()\n",
    "\n",
    "Falls wir an den Keys nicht interessiert sind, können wir in der Schleife nur die Werte konsumieren:"
   ]
  },
  {
   "cell_type": "code",
   "execution_count": null,
   "metadata": {},
   "outputs": [],
   "source": [
    "for value in phone_numbers.values():\n",
    "    print(value)"
   ]
  },
  {
   "cell_type": "markdown",
   "metadata": {},
   "source": [
    "<div class=\"alert alert-block alert-info\">\n",
    "<b>Übung Dict-4</b>    \n",
    "<p>\n",
    "Iterieren Sie durch das Dictionary aus Übung Dict-1. Geben Sie für jeden Eintrag Ihres Dictionaries eine Zeile aus, die (beispielhaft) so aussehen soll:\n",
    "<pre>    \n",
    "'house' heißt auf Deutsch 'Haus'\n",
    "</pre>\n",
    "</p>\n",
    "</div>"
   ]
  },
  {
   "cell_type": "markdown",
   "metadata": {},
   "source": [
    "## Ein Dictionary als Zähler\n",
    "Wir können ein Dictionary verwenden, um die Namen in der schon bekannten Namensdatei zu zählen. Lesen wir die Namen zuerst wieder aus der Datei ein:"
   ]
  },
  {
   "cell_type": "code",
   "execution_count": null,
   "metadata": {},
   "outputs": [],
   "source": [
    "with open('data/vornamen/names_short.txt', encoding='utf-8') as fh:\n",
    "    clean_names = [line.rstrip() for line in fh.readlines()]"
   ]
  },
  {
   "cell_type": "markdown",
   "metadata": {},
   "source": [
    "Die Liste `clean_names` enthält nun alle aus der Datei gelesenen Namen. Im nächsten Schritt\n",
    "erzeugen wir ein leeres Dictionary. Dann iterieren wir durch die Liste der Vornamen. Wir verwenden das  Dictionary, um für jeden Key (d.h. für jeden Vornamen) zu zählen, wie oft er erscheint (d.h. key ist der Vorname, value eine Zahl, die festhält, wie oft der Name bisher vorgekommen ist):"
   ]
  },
  {
   "cell_type": "code",
   "execution_count": null,
   "metadata": {},
   "outputs": [],
   "source": [
    "name_counter = {}\n",
    "for name in clean_names:\n",
    "    if name in name_counter:  # we saw the name before\n",
    "        name_counter[name] += 1\n",
    "    else:  # new name: create counter with 1\n",
    "        name_counter[name] = 1\n",
    "print(name_counter)        "
   ]
  },
  {
   "cell_type": "markdown",
   "metadata": {},
   "source": [
    "Wenn wir nur an Namen interessiert sind, die mindestens zwei Mal erscheinen können wir das so lösen:"
   ]
  },
  {
   "cell_type": "code",
   "execution_count": null,
   "metadata": {},
   "outputs": [],
   "source": [
    "for name in name_counter:\n",
    "    if name_counter[name] > 1:\n",
    "        print(f'{name} erscheint {name_counter[name]} Mal')"
   ]
  },
  {
   "cell_type": "markdown",
   "metadata": {},
   "source": [
    "## Verschachtelte Dictionaries\n",
    "\n",
    "So wie ein Element einer Liste wieder eine Liste sein kann, kann in einem Dictionary der einem Schlüssel zugewiesene Wert wieder ein Dictionary sein:"
   ]
  },
  {
   "cell_type": "code",
   "execution_count": null,
   "metadata": {},
   "outputs": [],
   "source": [
    "colors = {\n",
    "  'red': { \n",
    "      'de': 'rot ' , \n",
    "      'fr': 'rouge ' , \n",
    "      'it': 'rosso '\n",
    "  } ,\n",
    "  'blue': { \n",
    "      'de': 'blau' , \n",
    "      'fr': 'bleu' , \n",
    "      'it': 'blu'\n",
    "  } ,\n",
    "  'yellow': { \n",
    "      'de': 'gelb' , \n",
    "      'fr': 'jaune' , \n",
    "      'it': 'giallo'\n",
    "  }\n",
    "}"
   ]
  },
  {
   "cell_type": "markdown",
   "metadata": {},
   "source": [
    "Wie bereits von den Listen bekannt können wir auf eine einzelne Übersetzung (umständlich) so zugreifen:"
   ]
  },
  {
   "cell_type": "code",
   "execution_count": null,
   "metadata": {},
   "outputs": [],
   "source": [
    "blue_translations = colors['blue']\n",
    "blue_translations['fr']"
   ]
  },
  {
   "cell_type": "markdown",
   "metadata": {},
   "source": [
    "Normalerweise wird aber die deutlich kompaktere Schreibweise verwendet:"
   ]
  },
  {
   "cell_type": "code",
   "execution_count": null,
   "metadata": {},
   "outputs": [],
   "source": [
    "colors['blue']['fr']"
   ]
  },
  {
   "cell_type": "markdown",
   "metadata": {},
   "source": [
    "## Vertiefende Literatur\n",
    "Ich empfehle ausdrücklich, mindestens eine der folgenden Ressourcen zur Vertiefung zu lesen!\n",
    "\n",
    "  * Python Tutorial: Kapitel 5.5\n",
    "\t(https://docs.python.org/3/tutorial/datastructures.html#dictionaries)\n",
    "  * Klein, Kurs: \n",
    "\t* Dictionaries (https://python-kurs.eu/python3_dictionaries.php).\n",
    "  * Sweigart: https://automatetheboringstuff.com/2e/chapter5/\n",
    "  \n",
    "  \n",
    "  * Klein, Buch: Kapitel 6.\n",
    "  * Kofler: Kaitel 7.5.\n",
    "  * Weigend: Kapitel 4.12\n",
    "  * Briggs: Kapitel 4.4.\n",
    "  * Pilgrim: Kapitel 2.7 \n",
    "    (https://www.diveinto.org/python3/native-datatypes.html#dictionaries) \n",
    "  * Downey: Kapitel 11\n",
    "    (http://greenteapress.com/thinkpython/html/thinkpython012.html)"
   ]
  },
  {
   "cell_type": "markdown",
   "metadata": {},
   "source": [
    "## Lizenz\n",
    "\n",
    "This notebook ist part of the course [Grundlagen der Programmierung](https://github.com/gvasold/gdp) held by [Gunter Vasold](https://online.uni-graz.at/kfu_online/wbForschungsportal.cbShowPortal?pPersonNr=51488) at Graz University 2017&thinsp;ff. \n",
    "\n",
    "<p>\n",
    "    It is licensed under <a href=\"https://creativecommons.org/licenses/by-nc-sa/4.0\">CC BY-NC-SA 4.0</a>\n",
    "</p>\n",
    "\n",
    "<table>\n",
    "    <tr>\n",
    "    <td>\n",
    "        <img style=\"height:22px\" \n",
    "             src=\"https://mirrors.creativecommons.org/presskit/icons/cc.svg?ref=chooser-v1\"/></li>\n",
    "    </td>\n",
    "    <td>\n",
    "    <img style=\"height:22px;\"\n",
    "         src=\"https://mirrors.creativecommons.org/presskit/icons/by.svg?ref=chooser-v1\" /></li>\n",
    "    </td>\n",
    "    <td>\n",
    "        <img style=\"height:22px;\"\n",
    "         src=\"https://mirrors.creativecommons.org/presskit/icons/nc.svg?ref=chooser-v1\" /></li>\n",
    "    </td>\n",
    "    <td>\n",
    "        <img style=\"height:22px;\"\n",
    "             src=\"https://mirrors.creativecommons.org/presskit/icons/sa.svg?ref=chooser-v1\" /></li>\n",
    "    </td>\n",
    "</tr>\n",
    "</table>"
   ]
  }
 ],
 "metadata": {
  "kernelspec": {
   "display_name": "Python 3 (ipykernel)",
   "language": "python",
   "name": "python3"
  },
  "language_info": {
   "codemirror_mode": {
    "name": "ipython",
    "version": 3
   },
   "file_extension": ".py",
   "mimetype": "text/x-python",
   "name": "python",
   "nbconvert_exporter": "python",
   "pygments_lexer": "ipython3",
   "version": "3.10.6"
  }
 },
 "nbformat": 4,
 "nbformat_minor": 4
}
