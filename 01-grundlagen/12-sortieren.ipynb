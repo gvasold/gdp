{
 "cells": [
  {
   "cell_type": "markdown",
   "metadata": {},
   "source": [
    "# Sortieren\n",
    "Listen (und einige andere Datentypen - allerdings wird hier das Resultat der Sortierung immer als Liste geliefert) können auf einfache Weise sortiert werden. Damit wir Daten zum Sortieren haben, lesen wir wieder die bereits mehrfach verwendeten\n",
    "Vornamen ein:"
   ]
  },
  {
   "cell_type": "code",
   "execution_count": null,
   "metadata": {},
   "outputs": [],
   "source": [
    "with open('data/vornamen/names_short.txt', encoding='utf-8') as fh:\n",
    "    clean_names = [line.rstrip() for line in fh.readlines()]"
   ]
  },
  {
   "cell_type": "markdown",
   "metadata": {},
   "source": [
    "## sort()\n",
    "Um die Namen zu sortieren, wenden wir die `sort()`-Methode des `list`-Objekts an:"
   ]
  },
  {
   "cell_type": "code",
   "execution_count": null,
   "metadata": {},
   "outputs": [],
   "source": [
    "print(clean_names)\n",
    "clean_names.sort()\n",
    "print(clean_names)"
   ]
  },
  {
   "cell_type": "markdown",
   "metadata": {},
   "source": [
    "Wir sehen, dass `sort()` eine Liste *in-place* sortiert, es werden die Positionen der Werte innerhalb der\n",
    "Liste, also die Liste selbst verändert. Wenn wir das nicht wollen (etwa, weil wir die Originalreihenfolge noch brauchen), können wir alternativ die Funktion `sorted()` verwenden, die ein neue, sortierte Liste erzeugt und dabei die Elementreihenfolge der originalen Liste nicht verändert."
   ]
  },
  {
   "cell_type": "markdown",
   "metadata": {},
   "source": [
    "## sorted()\n",
    "`sorted()` verhält sich weitgehend wie `sort()`, erzeugt aber ein neues Listen-Objekt mit den sortierten Einträgen.\n",
    "\n",
    "(Da wir `clean_names` bereits sortiert haben, lesen wir die Daten zuerst noch einmal ein):"
   ]
  },
  {
   "cell_type": "code",
   "execution_count": null,
   "metadata": {},
   "outputs": [],
   "source": [
    "with open('data/vornamen/names_short.txt', encoding='utf-8') as fh:\n",
    "    clean_names = [line.rstrip() for line in fh.readlines()]\n",
    "sorted_names = sorted(clean_names)\n",
    "print(clean_names[:10])\n",
    "print(sorted_names[:10])"
   ]
  },
  {
   "cell_type": "markdown",
   "metadata": {},
   "source": [
    "Die Methode `sort()` muss von dem Datentyp bereit gestellt werden, dessen Methode sie ist. Von den bisher vorgestellten Typen hat nur `list` eine solche Methode. Die Funktion `sorted()` dagegen kann auf alle `Iterables` angewendet werden. Hier zuerst ein Beispiel mit einem Set:"
   ]
  },
  {
   "cell_type": "code",
   "execution_count": null,
   "metadata": {},
   "outputs": [],
   "source": [
    "distinct_names = set(clean_names)\n",
    "print(type(distinct_names))\n",
    "sorted_distinct_names = sorted(distinct_names)\n",
    "print(sorted_distinct_names[:10])\n",
    "print(type(sorted_distinct_names))"
   ]
  },
  {
   "cell_type": "markdown",
   "metadata": {},
   "source": [
    "Wie wir sehen, liefert `sorted()`  hier eine sortierte Liste der Elemente des Sets. Das von `sorted()` gelieferte Ergebnis ist unabhängig vom zu sortierenden Datentyp immer eine Liste."
   ]
  },
  {
   "cell_type": "markdown",
   "metadata": {},
   "source": [
    "Zur Illustration hier noch ein weiteres Beispiel mit einem Dictionary:"
   ]
  },
  {
   "cell_type": "code",
   "execution_count": null,
   "metadata": {},
   "outputs": [],
   "source": [
    "mydict = {'X': 4, 'A': 3}\n",
    "mydict"
   ]
  },
  {
   "cell_type": "code",
   "execution_count": null,
   "metadata": {},
   "outputs": [],
   "source": [
    "sorted(mydict)"
   ]
  },
  {
   "cell_type": "markdown",
   "metadata": {},
   "source": [
    "Hier werden also die Keys sortiert. Eine sortierte Liste von Values bekommen wir so:"
   ]
  },
  {
   "cell_type": "code",
   "execution_count": null,
   "metadata": {},
   "outputs": [],
   "source": [
    "sorted(mydict.values())"
   ]
  },
  {
   "cell_type": "markdown",
   "metadata": {},
   "source": [
    "Über die Methode `items()` bekommen wir eine sortierte Liste von Tupeln, die jeweils den Key und den Value aus dem Dictionary enthalten:"
   ]
  },
  {
   "cell_type": "code",
   "execution_count": null,
   "metadata": {},
   "outputs": [],
   "source": [
    "sorted(mydict.items())"
   ]
  },
  {
   "cell_type": "markdown",
   "metadata": {},
   "source": [
    "## Sortierreihenfolge umkehren\n",
    "\n",
    "Sowohl `sort()` als auch `sorted()` kennen den Parameter `reverse`. Wird dieser auf `True` gesetzt, wird die\n",
    "Sortierreihenfolge umgekehrt."
   ]
  },
  {
   "cell_type": "code",
   "execution_count": null,
   "metadata": {},
   "outputs": [],
   "source": [
    "sorted(clean_names, reverse=True)"
   ]
  },
  {
   "cell_type": "markdown",
   "metadata": {},
   "source": [
    "## Sortieren von komlexeren Daten\n",
    "\n",
    "Solange eine Liste nur aus einzelnen Werten besteht, ist die Sortierung einfach. Aber was, wenn wie eine Liste von Listen oder eine Liste von Tupeln sortieren wollen? Erinnern wir uns an das Beispiel mit den Temperaturmessungen im Notebook zu den Listen:"
   ]
  },
  {
   "cell_type": "code",
   "execution_count": null,
   "metadata": {},
   "outputs": [],
   "source": [
    "temperatures = [\n",
    "    (20, 35, 29),\n",
    "    (17, 28, 24),\n",
    "    (20, 32, 29),\n",
    "    (17, 31, 28)\n",
    "]\n",
    "sorted(temperatures)"
   ]
  },
  {
   "cell_type": "markdown",
   "metadata": {},
   "source": [
    "Hier sehen wir, dass Listen von Tupeln zuerst nach dem Wert der ersten Elements (17, 17, 20, 20) sortiert werden, dann als zusätzlichem Sortierkriterium nach dem Wert des zweiten Elements usw."
   ]
  },
  {
   "cell_type": "markdown",
   "metadata": {},
   "source": [
    "### Nicht nach dem ersten Element sortieren\n",
    "Was aber, wenn wir nicht nach den Morgentemperaturen sortieren wollen, sondern nach den Mittagstemperaturen?\n",
    "\n",
    "Hier wird die Sache etwas komplizierter. Sowohl `sort()` als auch `sorted()` kennen einen Parameter `key=`, der als Argument eine Funktion erwartet, die den Wert zurückgibt, nach dem sortiert werden soll. "
   ]
  },
  {
   "cell_type": "code",
   "execution_count": null,
   "metadata": {},
   "outputs": [],
   "source": [
    "def get_noon_temperature(day_temperatures):\n",
    "    \"Return the noon temperature\"\n",
    "    return day_temperatures[1]\n",
    "\n",
    "sorted(temperatures, key=get_noon_temperature)"
   ]
  },
  {
   "cell_type": "markdown",
   "metadata": {},
   "source": [
    "Sie sehen, dass hier die Tagesmessungen nach den Mittagstemperaturen sortiert wurden: 28, 31, 32, 35."
   ]
  },
  {
   "cell_type": "markdown",
   "metadata": {},
   "source": [
    "Da diese Funktion in unserem Fall nichts anderes tut, als den zweiten Wert eines jeden Tupels zurückzugeben, brauchen wir keine eigene Funktion zu schreiben, sondern können uns mit einem Lambda-Ausdruck begnügen. "
   ]
  },
  {
   "cell_type": "markdown",
   "metadata": {},
   "source": [
    "#### Exkurs: Lamba-Ausdrücke\n",
    "\n",
    "Ein Lambda-Ausdruck ist eine Art einfache und anonyme Funktion und hat diese Form:\n",
    "\n",
    "~~~\n",
    "lambda argument[, argument]: aktion\n",
    "~~~\n",
    "\n",
    "~~~\n",
    "lambda mytuple: mytuple[1]\n",
    "~~~\n",
    "\n",
    "tut also nichts anderes, als ein Tupel (`mytuple`) an den Lambda-Ausdruck zu übergeben, der den zweiten Wert des Tupels zurückgibt.\n",
    "\n",
    "Um die nach den Mittagstemperaturen zu sortieren, können wir die oben verwendete Funktion durch einen Lambda-Ausdruck ersetzen, der den zweiten Wert eines jeden Tupels zurückgibt:"
   ]
  },
  {
   "cell_type": "code",
   "execution_count": null,
   "metadata": {},
   "outputs": [],
   "source": [
    "sorted(temperatures, key=lambda temperature: temperature[1])"
   ]
  },
  {
   "cell_type": "markdown",
   "metadata": {},
   "source": [
    "<div class=\"alert alert-block alert-info\">\n",
    "<b>Übung Sort-1</b>\n",
    "<p>Sortieren Sie die Temperaturen nach den Abend-Werten!\n",
    "</div>"
   ]
  },
  {
   "cell_type": "code",
   "execution_count": null,
   "metadata": {},
   "outputs": [],
   "source": []
  },
  {
   "cell_type": "markdown",
   "metadata": {},
   "source": [
    "<div class=\"alert alert-block alert-info\">\n",
    "<b>Übung Sort-2</b>\n",
    "<p>Sortieren Sie die Temperaturen nach den Morgen-Werten als primäres Sortierkriterium und nach den Abendwerten als sekundäres Sortierkriterium! D.h.: Wenn zwei Morgentemperaturen gleich sind, sollend diese nach den Abendtemperaturen sortiert werden.</p>\n",
    "<p>Hinweis: Lassen Sie dazu den Lambda-Ausdruck statt eines Integers ein Tupel aus  zwei Integern zurückliefern.\n",
    "</div>"
   ]
  },
  {
   "cell_type": "markdown",
   "metadata": {},
   "source": [
    "### Dictionaries sortieren\n",
    "\n",
    "Erinnern wir uns an das Dictionary zum Zählen der Vornamen aus dem Notebook zu Dictionaries. Dieses enthält die Namen als Keys und die Zahl der Vorkommen des Namens als Value."
   ]
  },
  {
   "cell_type": "code",
   "execution_count": null,
   "metadata": {},
   "outputs": [],
   "source": [
    "with open('data/vornamen/names_short.txt', encoding='utf-8') as fh:\n",
    "    clean_names = [line.rstrip() for line in fh.readlines()]\n",
    "\n",
    "name_counter = {}\n",
    "for name in clean_names:\n",
    "    name_counter[name] = name_counter.get(name, 0) + 1\n",
    "print(name_counter)"
   ]
  },
  {
   "cell_type": "markdown",
   "metadata": {},
   "source": [
    "Die Variable `name_counter` enthält jetzt für jeden Namen (Key), wie oft er vorkommt (Value)."
   ]
  },
  {
   "cell_type": "markdown",
   "metadata": {},
   "source": [
    "Dictionaries können wir nicht direkt sortieren, weil Sie kein `sort()`-Methode haben. Wir können aber, wie bereits bekannt, die Keys und Values des Dictionaries als eine Art Liste von Tuples liefern lassen:"
   ]
  },
  {
   "cell_type": "code",
   "execution_count": null,
   "metadata": {},
   "outputs": [],
   "source": [
    "name_counter.items()"
   ]
  },
  {
   "cell_type": "markdown",
   "metadata": {},
   "source": [
    "Mit dieser Information sollten sich die beiden nächsten Aufgabe einfach lösen lassen:"
   ]
  },
  {
   "cell_type": "markdown",
   "metadata": {},
   "source": [
    "<div class=\"alert alert-block alert-info\">\n",
    "<b>Übung Sort-3</b>\n",
    "<p>Sortieren Sie das Dictionary <tt>name_counter</tt> so, dass die Namen (und die Zahl des Vorkommens dieses Namens) sortiert nach den Namen ausgegeben werden.\n",
    "Die Ausgabe soll so aussehen:\n",
    "<pre>\n",
    "Anna: 3\n",
    "Anna-Lena: 1\n",
    "Astrid: 1\n",
    "Bianca: 1\n",
    "...\n",
    "</pre>\n",
    "</div>"
   ]
  },
  {
   "cell_type": "code",
   "execution_count": null,
   "metadata": {},
   "outputs": [],
   "source": []
  },
  {
   "cell_type": "markdown",
   "metadata": {},
   "source": [
    "<div class=\"alert alert-block alert-info\">\n",
    "<b>Übung Sort-4</b>\n",
    "<p>Sortieren Sie das Dictionary <tt>name_counter</tt> so, dass die Zahl des Vorkommens und die Namen ausgegeben werden. Die Sortierung soll dabei absteigend (höchster Wert zuerst) nach der Zahl der Vorkommen erfolgen.\n",
    "Die Ausgabe soll so aussehen:\n",
    "<pre>\n",
    "4: Thomas\n",
    "4: Manuel\n",
    "3: Florian\n",
    "3: Christoph\n",
    "3: Anna\n",
    "2: Verena\n",
    "2: Simon\n",
    "...\n",
    "</pre>\n",
    "</div>"
   ]
  },
  {
   "cell_type": "markdown",
   "metadata": {},
   "source": [
    "## Vertiefende Literatur\n",
    "Ich empfehle ausdrücklich, mindestens eine der folgenden Ressourcen zur Vertiefung zu lesen!\n",
    "\n",
    "  * Das Sorting HOW TO (http://docs.python.org/3/howto/sorting.html)\n",
    "  * Klein, Buch: Kapitel 11.10\n",
    "\n",
    "\n"
   ]
  },
  {
   "cell_type": "markdown",
   "metadata": {},
   "source": [
    "## Lizenz\n",
    "\n",
    "This notebook ist part of the course [Grundlagen der Programmierung](https://github.com/gvasold/gdp) held by [Gunter Vasold](https://online.uni-graz.at/kfu_online/wbForschungsportal.cbShowPortal?pPersonNr=51488) at Graz University 2017&thinsp;ff. \n",
    "\n",
    "<p>\n",
    "    It is licensed under <a href=\"https://creativecommons.org/licenses/by-nc-sa/4.0\">CC BY-NC-SA 4.0</a>\n",
    "</p>\n",
    "\n",
    "<table>\n",
    "    <tr>\n",
    "    <td>\n",
    "        <img style=\"height:22px\" \n",
    "             src=\"https://mirrors.creativecommons.org/presskit/icons/cc.svg?ref=chooser-v1\"/></li>\n",
    "    </td>\n",
    "    <td>\n",
    "    <img style=\"height:22px;\"\n",
    "         src=\"https://mirrors.creativecommons.org/presskit/icons/by.svg?ref=chooser-v1\" /></li>\n",
    "    </td>\n",
    "    <td>\n",
    "        <img style=\"height:22px;\"\n",
    "         src=\"https://mirrors.creativecommons.org/presskit/icons/nc.svg?ref=chooser-v1\" /></li>\n",
    "    </td>\n",
    "    <td>\n",
    "        <img style=\"height:22px;\"\n",
    "             src=\"https://mirrors.creativecommons.org/presskit/icons/sa.svg?ref=chooser-v1\" /></li>\n",
    "    </td>\n",
    "</tr>\n",
    "</table>"
   ]
  }
 ],
 "metadata": {
  "kernelspec": {
   "display_name": "Python 3 (ipykernel)",
   "language": "python",
   "name": "python3"
  },
  "language_info": {
   "codemirror_mode": {
    "name": "ipython",
    "version": 3
   },
   "file_extension": ".py",
   "mimetype": "text/x-python",
   "name": "python",
   "nbconvert_exporter": "python",
   "pygments_lexer": "ipython3",
   "version": "3.10.6"
  }
 },
 "nbformat": 4,
 "nbformat_minor": 4
}
