{
 "cells": [
  {
   "cell_type": "markdown",
   "id": "bcb75e25-3c85-4d5b-958b-625ddde05a4b",
   "metadata": {},
   "source": [
    "# Funktionen: Gültigkeitsbereich von Variablen (Scope)"
   ]
  },
  {
   "cell_type": "markdown",
   "id": "d9ebd70c-7036-4773-b2d6-e9db0702c717",
   "metadata": {},
   "source": [
    "Bisher haben wir uns noch keine großen Gedanken darüber gemacht, wann und wo der Wert einer Variable sichtbar ist. In Zusammenhang mit Funktionen müssen wir uns jedoch damit beschäftigen. Vorauszuschicken ist, dass diese Sichtbarkeit in Python eher ungewöhnlich gelöst ist.\n",
    "\n",
    "Hier ein erstes Beispiel:"
   ]
  },
  {
   "cell_type": "code",
   "execution_count": null,
   "id": "b3ea5a73-3184-475a-85ac-56e195fca81e",
   "metadata": {},
   "outputs": [],
   "source": [
    "def increase(val):\n",
    "    val += 1\n",
    "\n",
    "val = 1\n",
    "increase(val)\n",
    "print(val)"
   ]
  },
  {
   "cell_type": "markdown",
   "id": "35dd9671-3faa-4ace-a728-c18f20aff12d",
   "metadata": {},
   "source": [
    "Wesentlich ist hier, dass es die Variable `val` innerhalb der Funktion (`local scope`) und auch außerhalb der Funktion (`global scope`) gibt.\n",
    "\n",
    "Obwohl wir den Wert innerhalb der Funktion um 1 erhöhen (Zeile 2), und `val` somit beim `print(val)` (Zeile 6) den Wert 2 haben sollte, wird dort als Wert von `val` `1` ausgegeben. Das bedarf einer näheren Untersuchung. \n",
    "\n",
    "*Hinweis: Wenn Sie die Zeilennummern nicht sehen, drücken Sie folgenden Tastenkombination: (Shift+L).*"
   ]
  },
  {
   "cell_type": "markdown",
   "id": "3d92b85a-3375-4f93-9dca-9bdf9ada8b6f",
   "metadata": {},
   "source": [
    "Um dem Verhalten auf die Spur zu kommen, lassen wir uns den Wert von `val` auch innerhalb der Funktion ausgeben (Zeile 3):"
   ]
  },
  {
   "cell_type": "code",
   "execution_count": null,
   "id": "be381786-b44e-49e9-9e84-4a717d6582f1",
   "metadata": {},
   "outputs": [],
   "source": [
    "def increase(val):\n",
    "    val += 1\n",
    "    print(\"val in der Funktion: {}\".format(val))\n",
    "\n",
    "val = 1\n",
    "increase(val)\n",
    "print(\"val außerhalb der Funktion: {}\".format(val))"
   ]
  },
  {
   "cell_type": "markdown",
   "id": "44b3a659-2459-4440-be00-1ed4f8975779",
   "metadata": {},
   "source": [
    "Wir haben in diesem Beispiel zwei Gültigkeitsbereich für die Variable `val` (und damit, wenn man so will, zwei Variablen): eine **global** gültige und eine zweite **lokale**, die nur innerhalb der Funktion sichtbar ist. Die Variable `val` innerhalb der Funktion wird in dem Moment eine Kopie des globalen Wertes, wenn sie innerhalb der Funktion verändert wird.\n",
    "\n",
    "Wenn wir nun innerhalb der Funktion den Wert von `val` verändern, betrifft das nur das lokale `val`, also die ausschließlich innerhalb der Funktion verfügbare Kopie, die bei der Rückkehr aus der Funktion wieder automatisch gelöscht wird.\n",
    "\n",
    "Dieses Verhalten wird anhand des nächsten Beispiels sichtbar:"
   ]
  },
  {
   "cell_type": "code",
   "execution_count": null,
   "id": "82895572-7538-41bc-955e-6a0f7ee5054b",
   "metadata": {},
   "outputs": [],
   "source": [
    "def increase(val):\n",
    "    print(f\"[b]: id von val in der Funktion (vor der Änderung): {id(val)}\")\n",
    "    val += 1\n",
    "    print(f\"[c]: id von val in der Funktion nach der Änderung: {id(val)}\")\n",
    "\n",
    "val = 1\n",
    "print(f\"[a]: id von val außerhalb der Funktion: {id(val)}\")\n",
    "\n",
    "increase(val)\n",
    "print(f\"[d]: id von val außerhalb der Funktion: {id(val)}\")"
   ]
  },
  {
   "cell_type": "markdown",
   "id": "22f33761-12f6-4854-bbbb-cfb11ee81432",
   "metadata": {},
   "source": [
    "Beim ersten `print()` innerhalb der Funktion hat val noch die id der globalen Variable ([a] und [b]). Erst wenn wir ihren Wert verändern, bekommt das lokale `val` eine neue id ([c]). Das globale `val` behält seine ursprüngliche id ([d])."
   ]
  },
  {
   "cell_type": "markdown",
   "id": "694bf82c-78f1-405d-8d5c-6896cb1e5e01",
   "metadata": {},
   "source": [
    "### Sichtbarkeit von globalen Variablen"
   ]
  },
  {
   "cell_type": "markdown",
   "id": "6063b968-b9b9-44dd-b8de-3661d0b042c0",
   "metadata": {},
   "source": [
    "Globale Variablen sind überall sichtbar, lokale Variablen nur in ihrem lokalen Kontext (also innerhalb der Funktion). Sehen wir uns zuerst ein Beispiel an, wo wir versuchen, im globalen Kontext auf eine lokale Variable zuzugreifen:"
   ]
  },
  {
   "cell_type": "code",
   "execution_count": null,
   "id": "06c3a7b9-8d24-4b4b-93c0-8679afe2155c",
   "metadata": {},
   "outputs": [],
   "source": [
    "def increase():\n",
    "    local_val = 1\n",
    "    \n",
    "increase()\n",
    "print(local_val)"
   ]
  },
  {
   "cell_type": "markdown",
   "id": "ef9e5dbc-d048-4e2f-b4a1-3b87ef435671",
   "metadata": {},
   "source": [
    "Die Fehlermeldung `'local_val' is not defined` sagt deutlich, dass es im globalen Namensraum keine solche Variable gibt.\n",
    "\n",
    "Sehen wir uns nun den umgekehrten Fall an: Globale Variablen sind auch in lokalen Kontexten sichtbar. Oder anders gesagt: Auf globale Variablen kann innerhalb einer Funktion zugegriffen werden (auch wenn diese nicht an die Funktion übergeben wurden):\n"
   ]
  },
  {
   "cell_type": "code",
   "execution_count": null,
   "id": "7fc95a71-beab-4370-ab09-4784ea35f00b",
   "metadata": {},
   "outputs": [],
   "source": [
    "def increase():\n",
    "    print(f\"Der Wert der globalen Variable 'val' ist {val}\")\n",
    "\n",
    "val = 1\n",
    "increase()"
   ]
  },
  {
   "cell_type": "markdown",
   "id": "c306d21a-acec-42e5-9405-c49c188b6d32",
   "metadata": {},
   "source": [
    "Obwohl wir `val` nicht als Argument an die Funktion übergeben und damit keine lokale Variable erzeugt haben, können wir sie innerhalb der Funktion verwenden.\n",
    "\n",
    "Das gilt jedoch nur für lesende Zugriffe. Sobald wir innerhalb der Funktion versuchen, den Wert der globalen Variable `val` zu ändern, wird das durch Python zurückgewiesen:"
   ]
  },
  {
   "cell_type": "code",
   "execution_count": null,
   "id": "71205aec-ab5d-4dd9-ad08-95577a047e44",
   "metadata": {},
   "outputs": [],
   "source": [
    "def increase():\n",
    "    val = val + 1\n",
    "\n",
    "val = 1\n",
    "increase()\n",
    "print(val)"
   ]
  },
  {
   "cell_type": "markdown",
   "id": "5fee45cf-057c-4654-abf2-214db1d8dfeb",
   "metadata": {},
   "source": [
    "Dieser Mechanismus soll verhindern, dass wir als Seiteneffekt irrtümlich den Wert einer globalen Variablen innerhalb einer Funktion verändern. Solche Seiteneffekte führen nämlich zu Fehlern, die nur sehr schwer zu finden sind."
   ]
  },
  {
   "cell_type": "markdown",
   "id": "552c3926-d8c9-418e-ae72-500c92554979",
   "metadata": {},
   "source": [
    "Was ist aber nun beim ursprünglichen Beispiel mit der gleichnamigen lokalen und globalen Variable passiert? Hier noch einmal der Code:"
   ]
  },
  {
   "cell_type": "code",
   "execution_count": null,
   "id": "ded33ea4-27f6-4062-9102-4b98b9cb4b04",
   "metadata": {},
   "outputs": [],
   "source": [
    "def increase(val):\n",
    "    val += 1\n",
    "    print(f\"val in der Funktion: {val}\")\n",
    "\n",
    "val = 1\n",
    "increase(val)\n",
    "print(f\"val außerhalb der Funktion: {val}\")"
   ]
  },
  {
   "cell_type": "markdown",
   "id": "017a6720-0ee2-406f-95eb-ffee0dd85e9e",
   "metadata": {},
   "source": [
    "Wir haben bei der Definition der Funktion den Parameternamen `val` festgelegt und so eine lokale Variable definiert. Beide Variablen haben denselben Namen, sind aber unterschiedlich. Man spricht davon, dass die lokale Variable (innerhalb der Funktion) die globale **überlagert**. Die gleichnamige globale Variable ist also innerhalb der Funktion nicht mehr sichtbar. Hätten wir die lokale Variable (in der Funktionsdeklaration) anders benannt, könnten wir innerhalb der Funktion auch (lesend) auf die globale Variable zugreifen:"
   ]
  },
  {
   "cell_type": "code",
   "execution_count": null,
   "id": "fdabcbd2-f690-4012-a6be-f512e2340deb",
   "metadata": {},
   "outputs": [],
   "source": [
    "def increase(innerval):\n",
    "    innerval += 1\n",
    "    print(f\"In der Funktion: val = {val}; innerval = {innerval}\")\n",
    "\n",
    "val = 1\n",
    "increase(val)\n",
    "print(f\"Außerhalb der Funktion: val = {val}\")"
   ]
  },
  {
   "cell_type": "markdown",
   "id": "56ee80fb-1d18-4d3d-b45e-a03d12c4c0d9",
   "metadata": {},
   "source": [
    "### Sichtbarkeitsbereich veränderbarer Datentypen\n",
    "Wir haben oben gesehen, dass, wenn wir einen Wert als Argument an eine Funktion übergeben, und die Funktion diesen Wert verändert, innerhalb der Funktion eine lokale Kopie dieses Wertes erzeugt wird. Innerhalb der Funktion werden dann alle Operationen auf diese lokale Kopie (und nicht auf den globalen Wert) angewendet. Der globale Wert bleibt also unverändert."
   ]
  },
  {
   "cell_type": "code",
   "execution_count": null,
   "id": "97dbd778-785d-45a6-af24-308bedc91699",
   "metadata": {},
   "outputs": [],
   "source": [
    "def increase(val):\n",
    "    print(f\"val in der Funktion vor der Änderung: {val}, id: {id(val)}\")\n",
    "    val += 1\n",
    "    print(f\"val in der Funktion nach der Änderung: {val}, id: {id(val)}\")\n",
    "\n",
    "val = 1\n",
    "increase(val)\n",
    "print(f\"val außerhalb der Funktion: {val}, id: {id(val)}\")"
   ]
  },
  {
   "cell_type": "markdown",
   "id": "74d28706-05c3-4ef6-b9bc-cf70e73e6efe",
   "metadata": {},
   "source": [
    "Das eben Behauptete stimmt jedoch **nur für nicht veränderbare Datentypen** wie Strings, Integers, Floats, usw.\n",
    "\n",
    "Übergeben wir einen veränderbaren Wert an eine Funktion und verändern wir diesen innerhalb der Funktion, so wird keine Kopie angelegt, sondern der ursprüngliche Wert verändert. Es wird also keine lokale Kopie erzeugt! Dies war eine bewußte Entscheidung beim Design der Sprache, da die Erzeugung einer Kopie z.B. einer großen, mehrdimensionalen Liste sehr aufwändig ist. \n",
    "\n",
    "Veränderbare Datentypen wie Listen, Dictionaries oder Sets werden also nicht kopiert, sondern es wird der Wert der globalen Variable verändert, wie wir am folgenden Beispiel sehen können:"
   ]
  },
  {
   "cell_type": "code",
   "execution_count": null,
   "id": "06f556f0-f7d2-4d0e-8b9b-d8e60374d927",
   "metadata": {},
   "outputs": [],
   "source": [
    "def compute_final_grade(grades):\n",
    "    print(f\"(b) {grades} {id(grades)}\")\n",
    "    grades[1] = 1\n",
    "    print(f\"(c) {grades} {id(grades)}\")\n",
    "    \n",
    "grades = [3, 5, 4, 1]    \n",
    "print(f\"(a) {grades} {id(grades)}\")\n",
    "compute_final_grade(grades)\n",
    "print(f\"(d) {grades} {id(grades)}\")"
   ]
  },
  {
   "cell_type": "markdown",
   "id": "fef6be67-3d87-4f27-ac1f-be5f216fc637",
   "metadata": {},
   "source": [
    "Wie wir sehen, ist `grades` innerhalb der Funktion dasselbe Objekt (mit derselben id) wie außerhalb, auch wenn wir einen Wert verändern (Zeile 3)."
   ]
  },
  {
   "cell_type": "markdown",
   "id": "83d2483c-cb0f-4ed4-ad87-15c63fc923c3",
   "metadata": {},
   "source": [
    "Dieses Verhalten kann schnell zu unbeabsichtigten Nebeneffekten und damit zu Fehlern führen, die sehr schwer zu finden sind. Man kann sich am einfachsten dagegen schützen, indem man \n",
    "\n",
    "   * keine veränderbaren Typen (Listen, Dictionaries, ...) als Funktionsargumente verwendet\n",
    "   * oder zumindest darauf achtet, dass diese innerhalb der \n",
    "     Funktion nicht verändert werden \n",
    "   * Alternativ kann man mit Kopien oder Typänderungen auf nicht\n",
    "     veränderbare Typen (wie Tupel) arbeiten. \n",
    "     \n",
    "Als Faustregel sollte man aber die Verwendung veränderbarer Typen als Funktionsargumente vermeiden."
   ]
  },
  {
   "cell_type": "markdown",
   "id": "6217c2b9-7da0-4dd5-95c0-32e5f1794440",
   "metadata": {},
   "source": [
    "## Vertiefende Literatur\n",
    "Ich empfehle ausdrücklich, mindestens eine der folgenden Ressourcen zur Vertiefung zu lesen!\n",
    "\n",
    "  * Python Tutorial: \n",
    "\t* Kapitel 4.6 - Defining Functions \n",
    "      (https://docs.python.org/3/tutorial/controlflow.html#defining-functions)\n",
    "    * Kapitel 4.7 - More on Defining Functions\n",
    "\t  (https://docs.python.org/3/tutorial/controlflow.html#more-on-defining-functions)\n",
    "  * Klein, Kurs: \n",
    "\t* Funktionen (https://python-kurs.eu/python3_funktionen.php)\n",
    "\t* Parameter-Übergabe (http://python-kurs.eu/python3_parameter.php)\n",
    "\t* Globale und lokale Variablen (http://python-kurs.eu/python3_global_lokal.php)\n",
    "\t* Rekursive Funktionen (http://python-kurs.eu/python3_rekursive_funktionen.php)\n",
    "\t* Flaches und tiefes Kopieren (http://python-kurs.eu/python3_deep_copy.php)\n",
    "  * Sweigart: https://automatetheboringstuff.com/2e/chapter3/  \n",
    "    \n",
    "    \n",
    "  * Klein, Buch: Kapitel 14, 15 und evtl. 13.\n",
    "  * Kofler: Kapitel 9.\n",
    "  * Weigend: Kapitel 6.1 bis 6.8 und 6.14.\n",
    "  * Pilgrim: Kapitel 1.2\n",
    "    (https://www.diveinto.org/python3/your-first-python-program.html#declaringfunctions)\n",
    "  * Downey: Kapitel 3\n",
    "    (http://www.greenteapress.com/thinkpython/html/thinkpython004.html)\n",
    "    \n",
    "    \n",
    "  * Video: Ned Batchelder - Facts and Myths about Python names and values - PyCon \n",
    "    2015 (https://www.youtube.com/watch?v=_AEJHKGk9ns)"
   ]
  }
 ],
 "metadata": {
  "kernelspec": {
   "display_name": "Python 3 (ipykernel)",
   "language": "python",
   "name": "python3"
  },
  "language_info": {
   "codemirror_mode": {
    "name": "ipython",
    "version": 3
   },
   "file_extension": ".py",
   "mimetype": "text/x-python",
   "name": "python",
   "nbconvert_exporter": "python",
   "pygments_lexer": "ipython3",
   "version": "3.10.6"
  }
 },
 "nbformat": 4,
 "nbformat_minor": 5
}
