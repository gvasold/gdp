{
 "cells": [
  {
   "cell_type": "markdown",
   "id": "01ecfd7e-e436-4de2-b404-402cef2be87e",
   "metadata": {},
   "source": [
    "# Kapitel 2: Weitere Datenstrukturen\n",
    "\n",
    "In diesem Abschnitt werden wir weitere, häufig benötigte Datenstrukturen kennen lernen. Alle hier vorgestellten Datenstrukturen werden direkt von Python als Typen bereit gestellt und sind relativ einfach in der Verwendung. \n",
    "\n",
    "Aus meiner Erfahrung liegt die Schwierigkeit beim Erlernen und Verstehen solcher Strukuren weniger darin, die Schnittstellen der einzelnen Objekttypen zu verstehen, also zu erlernen wie man mit diesen Objekten auf syntaktischer Ebene arbeitet, sondern in zwei anderen Bereichen:\n",
    "\n",
    "  * Viele haben Probleme damit, die unterschiedlichen Strukturen zu visualisieren.\n",
    "    Ich halte es für wesentlich, dass Sie in der Lage sind, sich vorzustellen, wie\n",
    "    die Daten in der jeweiligen Struktur angeordnet sind und wie diese Anordnung\n",
    "    durch Interaktion mit dem Objekt beeinflusst werden kann. Versuchen Sie unbedingt,\n",
    "    sich in diese Strukturen hineinzudenken! Wenn Sie es nicht schaffen, habe ich\n",
    "    es nicht gut genug erklärt und Sie sollten mich darauf aufmerksam machen. Oft\n",
    "    hilft ein kleiner Stubs, damit sich der Knoten löst.\n",
    "  * Eine weitere Herausforderung liegt darin, ein Gefühl dafür zu entwickeln,\n",
    "    welche Datenstruktur für welchen Zweck am besten geeignet ist. Hier spielt\n",
    "    Erfahrung eine große Rolle und natürlich sinnvolle Beispiele.\n",
    "\n",
    "## Was sind Datenstrukturen?\n",
    "\n",
    "Im Grunde sind Datenstrukturen nichts anderes als verschiedene Möglicheiten, Daten im Speicher so zu organisieren, dass sie zum Beispiel effizient verwendet werden können. In der Informatik hat man im Lauf der Jahrzehnte viele solcher Strukturen beschrieben und implementiert, für den Einstieg reichen aber einige wenige. Eine erste Datenstruktur haben wir bereits in den Grundlagen kennen gelernt: [Listen](../01-grundlagen/07-listen.ipynb).\n",
    "\n",
    "In diesem Abschnitt werden drei weitere vorgestellt.  Zusätzlich werden Sie lernen, wie man Daten ganz einfach sortieren kann.\n",
    "\n",
    "## Inhalt dieses Kapitels\n",
    "\n",
    "   * [Dictionaries](01-dictionaries.ipynb)\n",
    "   * [Sets](02-sets.ipynb)\n",
    "   * [Tupel](03-tuples.ipynb)\n",
    "   * [Sortieren](04-sortieren.ipynb)"
   ]
  }
 ],
 "metadata": {
  "kernelspec": {
   "display_name": "Python 3 (ipykernel)",
   "language": "python",
   "name": "python3"
  },
  "language_info": {
   "codemirror_mode": {
    "name": "ipython",
    "version": 3
   },
   "file_extension": ".py",
   "mimetype": "text/x-python",
   "name": "python",
   "nbconvert_exporter": "python",
   "pygments_lexer": "ipython3",
   "version": "3.12.3"
  }
 },
 "nbformat": 4,
 "nbformat_minor": 5
}
