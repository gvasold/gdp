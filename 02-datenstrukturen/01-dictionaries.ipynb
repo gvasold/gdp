{
 "cells": [
  {
   "cell_type": "markdown",
   "metadata": {},
   "source": [
    "# Dictionaries\n",
    "\n",
    "Dictionaries, die in anderen Programmiersprachen auch *Maps*, *Hashtables* oder *Assoziative Arrays* heißen, sind (intern) einer der wichtigsten Datentypen in Python. In einem Dictionary\n",
    "wird jeder Wert über einen Key (Schlüssel) referenziert. Jeder Eintrag besteht also aus einem Schlüssel und dem dazu gehörigen Wert."
   ]
  },
  {
   "cell_type": "markdown",
   "metadata": {},
   "source": [
    "![Ein Dictionary](data:image/png;base64,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)"
   ]
  },
  {
   "cell_type": "markdown",
   "metadata": {},
   "source": [
    "Ein Dictionary ist ein mächtiges und flexibles Instrument, um Daten zwischenzuspeichern\n",
    "und sehr rasch wieder zu finden.\n",
    "\n",
    "Dictionaries können jederzeit erweitert und verkürzt werden. Wie bei Listen können die\n",
    "in einem Dictionary gespeicherten Werte überschrieben werden. Dictionaries gehören also zu den veränderbaren Datentypen."
   ]
  },
  {
   "cell_type": "markdown",
   "metadata": {},
   "source": [
    "## Grundlagen"
   ]
  },
  {
   "cell_type": "markdown",
   "metadata": {},
   "source": [
    "### Erzeugen und Befüllen eines Dictionaries\n",
    "\n",
    "Ein leeres Dictionary wird so angelegt:"
   ]
  },
  {
   "cell_type": "code",
   "execution_count": null,
   "metadata": {},
   "outputs": [],
   "source": [
    "phone_numbers = {}"
   ]
  },
  {
   "cell_type": "markdown",
   "metadata": {},
   "source": [
    "Dann können Werte eingefügt werden:"
   ]
  },
  {
   "cell_type": "code",
   "execution_count": null,
   "metadata": {},
   "outputs": [],
   "source": [
    "phone_numbers['Anna'] = '0316 123456'\n",
    "phone_numbers['Hans'] = '0664 345678'\n",
    "phone_numbers['Otto'] = '0660 987654'\n",
    "\n",
    "phone_numbers"
   ]
  },
  {
   "cell_type": "markdown",
   "metadata": {},
   "source": [
    "Man kann die Schlüssel-Wertpaare auch direkt beim Erzeugen des Dictionary anlegen:"
   ]
  },
  {
   "cell_type": "code",
   "execution_count": null,
   "metadata": {},
   "outputs": [],
   "source": [
    "phone_numbers = {\n",
    "    'Anna': '0316 123456',\n",
    "    'Hans': '0664 345678',\n",
    "    'Otto': '0660 987654'\n",
    "}\n",
    "phone_numbers"
   ]
  },
  {
   "cell_type": "markdown",
   "metadata": {},
   "source": [
    "<div class=\"alert alert-block alert-info\">\n",
    "<b>Übung Dict-1</b>\n",
    "<p>\n",
    "Erzeugen Sie ein Dictionary, das für 5 deutsche Wörter ihre englische Übersetzung enthält.\n",
    "</p>\n",
    "</div>"
   ]
  },
  {
   "cell_type": "code",
   "execution_count": null,
   "metadata": {},
   "outputs": [],
   "source": []
  },
  {
   "cell_type": "markdown",
   "metadata": {},
   "source": [
    "### Abfragen von Werten aus einem Dictionary"
   ]
  },
  {
   "cell_type": "markdown",
   "metadata": {},
   "source": [
    "Die Telefonnummer von Hans können wir über das Dictionary so ermitteln:"
   ]
  },
  {
   "cell_type": "code",
   "execution_count": null,
   "metadata": {},
   "outputs": [],
   "source": [
    "phone_numbers['Hans']"
   ]
  },
  {
   "cell_type": "markdown",
   "metadata": {},
   "source": [
    "Was passiert aber, wenn wir einen nicht existierenden Key verwenden?"
   ]
  },
  {
   "cell_type": "code",
   "execution_count": null,
   "metadata": {},
   "outputs": [],
   "source": [
    "phone_numbers['Tusnelda']"
   ]
  },
  {
   "cell_type": "markdown",
   "metadata": {},
   "source": [
    "#### Dictionaries und der in-Operator"
   ]
  },
  {
   "cell_type": "markdown",
   "metadata": {},
   "source": [
    "Wie bereits für andere Datentypen gezeigt, funktioniert der `in`-Operator auch für Dictionaries. Dabei wird auf die Existenz des entsprechenden Keys geprüft:"
   ]
  },
  {
   "cell_type": "code",
   "execution_count": null,
   "metadata": {},
   "outputs": [],
   "source": [
    "'Hans' in phone_numbers"
   ]
  },
  {
   "cell_type": "code",
   "execution_count": null,
   "metadata": {},
   "outputs": [],
   "source": [
    "'Tusnelda' in phone_numbers"
   ]
  },
  {
   "cell_type": "markdown",
   "metadata": {},
   "source": [
    "Um einen `KeyError` beim Zugriff auf ein nicht existierenden Key zu vermeiden, können wir zuerst mit dem `in` -Operator testen, ob der entsprechende Key vorhanden ist:"
   ]
  },
  {
   "cell_type": "code",
   "execution_count": null,
   "metadata": {},
   "outputs": [],
   "source": [
    "name = \"Tusnelda\"\n",
    "if name in phone_numbers:\n",
    "    print(phone_numbers[name])\n",
    "else:\n",
    "    print(f\"Kein Eintrag für '{name}' vorhanden.\")"
   ]
  },
  {
   "cell_type": "markdown",
   "metadata": {},
   "source": [
    "#### Die Methode get()\n",
    "\n",
    "Eine kompaktere Lösung für das Abfangen fehlender Schlüssel bietet die Methode get(): Sie liefert den zum Schlüssel passenden Wert oder, falls der Schlüssel nicht existiert, `None`. Hier ein Beispiel:"
   ]
  },
  {
   "cell_type": "code",
   "execution_count": null,
   "metadata": {},
   "outputs": [],
   "source": [
    "print('Hans: {}'.format(phone_numbers.get('Hans')))\n",
    "print('Tusnelda: {}'.format(phone_numbers.get('Tusnelda')))"
   ]
  },
  {
   "cell_type": "markdown",
   "metadata": {},
   "source": [
    "Es besteht sogar die Möglichkeit, als Defaultwert etwas anderes als `None` zu verwenden:"
   ]
  },
  {
   "cell_type": "code",
   "execution_count": null,
   "metadata": {},
   "outputs": [],
   "source": [
    "phone_numbers.get('Tusnelda', 'Unbekannt')"
   ]
  },
  {
   "cell_type": "markdown",
   "metadata": {},
   "source": [
    "<div class=\"alert alert-block alert-info\">\n",
    "<b>Übung Dict-2</b>    \n",
    "<p>\n",
    "Probieren Sie das Dictionary aus Übung Dict-1 aus.\n",
    "<ol>\n",
    "<li>Lassen Sie sich ein Wort übersetzen</li>\n",
    "<li>Probieren Sie es mit einem nicht definierten Wort</li> \n",
    "</ol>\n",
    "</p>\n",
    "</div>"
   ]
  },
  {
   "cell_type": "code",
   "execution_count": null,
   "metadata": {},
   "outputs": [],
   "source": []
  },
  {
   "cell_type": "markdown",
   "metadata": {},
   "source": [
    "### Wissenswertes zu Keys"
   ]
  },
  {
   "cell_type": "markdown",
   "metadata": {},
   "source": [
    "In einem Dictionary kann ein Schlüssel nur einmal verwendet werden. Wird er ein zweites Mal verwendet, wird der ursprüngliche Wert überschrieben."
   ]
  },
  {
   "cell_type": "code",
   "execution_count": null,
   "metadata": {},
   "outputs": [],
   "source": [
    "print(phone_numbers['Hans'])\n",
    "phone_numbers['Hans'] = 'Neue Nummer'\n",
    "phone_numbers"
   ]
  },
  {
   "cell_type": "markdown",
   "metadata": {},
   "source": [
    "Meist werden als Key Strings verwendet. Dictionaries erlauben aber jeden unveränderbaren Datentyp als Key. Sie können also z.B. auch Integers, Floats oder Tupel  als Key verwenden. Nicht erlaubt als Keys sind jedoch veränderbare Datentypen wie Listen, Sets oder Dictionaries."
   ]
  },
  {
   "cell_type": "code",
   "execution_count": null,
   "metadata": {},
   "outputs": [],
   "source": [
    "my_dict = {}\n",
    "\n",
    "my_dict[42] = 'Solution'\n",
    "my_dict[3.14] = 'Pi'\n",
    "print(my_dict)"
   ]
  },
  {
   "cell_type": "markdown",
   "metadata": {},
   "source": [
    "Hier ein nicht erlaubter Datentyp als Key:"
   ]
  },
  {
   "cell_type": "code",
   "execution_count": null,
   "metadata": {},
   "outputs": [],
   "source": [
    "my_dict[['a', 'b', 'c']] = 'abc'"
   ]
  },
  {
   "cell_type": "markdown",
   "metadata": {},
   "source": [
    "<div class=\"alert alert-block alert-info\">\n",
    "<b>Übung Dict-3</b>    \n",
    "<p>\n",
    "Ersetzen Sie einen Wert aus dem Dictionary aus Übung Dict-1 durch eine alternative Übersetzung!\n",
    "</p>\n",
    "<p>\n",
    "    Falls sie also z.B. zuerst farbe -> color hatten, ändern Sie das im laufenden Programm auf farbe -> tint. Oder einfacher gesagt: Geben Sie dem Key einen neuen Wert!\n",
    "</p>\n",
    "</div>"
   ]
  },
  {
   "cell_type": "code",
   "execution_count": null,
   "metadata": {},
   "outputs": [],
   "source": []
  },
  {
   "cell_type": "markdown",
   "metadata": {},
   "source": [
    "## Die Zahl der Elemente ermitteln\n",
    "\n",
    "Die Methode `len()`, die wir bereits bei einigen anderen Datentypen kennen gelernt haben, funktioniert auch für Dictionaries. Sie ermittelt die Zahl der Key-Value-Paare im Dict."
   ]
  },
  {
   "cell_type": "code",
   "execution_count": null,
   "metadata": {},
   "outputs": [],
   "source": [
    "phone_numbers = {\n",
    "    'Anna': '0316 123456',\n",
    "    'Hans': '0664 345678',\n",
    "    'Otto': '0660 987654'\n",
    "}\n",
    "len(phone_numbers)"
   ]
  },
  {
   "cell_type": "markdown",
   "metadata": {},
   "source": [
    "## In einer for-Schleife durch ein Dictionary iterieren"
   ]
  },
  {
   "cell_type": "markdown",
   "metadata": {},
   "source": [
    "Die schon bekannte `for ... in` Schleife funktioniert auch mit Dictionaries."
   ]
  },
  {
   "cell_type": "code",
   "execution_count": null,
   "metadata": {},
   "outputs": [],
   "source": [
    "for key in phone_numbers:\n",
    "    print(key)"
   ]
  },
  {
   "cell_type": "markdown",
   "metadata": {},
   "source": [
    "Wie wir sehen, liefert `for ... in` einen Key nach dem anderen. Den dazugehörigen Wert können wir auf bekannte Weise auslesen:"
   ]
  },
  {
   "cell_type": "code",
   "execution_count": null,
   "metadata": {},
   "outputs": [],
   "source": [
    "for key in phone_numbers:\n",
    "    print(f\"{key} -> {phone_numbers[key]}\")"
   ]
  },
  {
   "cell_type": "markdown",
   "metadata": {},
   "source": [
    "Seit Python 3.6 ist garantiert, dass die Reihenfolge der Elemente in einem Dictionary stabil bleibt. Wenn man also mehrfach durch ein Dictionary iteriert, kommen die Elemente immer in derselben Reihenfolge."
   ]
  },
  {
   "cell_type": "markdown",
   "metadata": {},
   "source": [
    "### Die Methode items()\n",
    "Alternativ können wir die Methode `items()` verwenden, die jeweils Schlüssel und Wert als Tupel (also als zweiwertigen Wert) zurückgibt:"
   ]
  },
  {
   "cell_type": "code",
   "execution_count": null,
   "metadata": {},
   "outputs": [],
   "source": [
    "for key, value in phone_numbers.items():\n",
    "    print(f'{key} -> {value}')"
   ]
  },
  {
   "cell_type": "markdown",
   "metadata": {},
   "source": [
    "### Die Methode values()\n",
    "\n",
    "Falls wir an den Keys nicht interessiert sind, können wir in der Schleife nur die Werte konsumieren:"
   ]
  },
  {
   "cell_type": "code",
   "execution_count": null,
   "metadata": {},
   "outputs": [],
   "source": [
    "for value in phone_numbers.values():\n",
    "    print(value)"
   ]
  },
  {
   "cell_type": "markdown",
   "metadata": {},
   "source": [
    "<div class=\"alert alert-block alert-info\">\n",
    "<b>Übung Dict-4</b>    \n",
    "<p>\n",
    "Iterieren Sie durch das Dictionary aus Übung Dict-1. Geben Sie für jeden Eintrag Ihres Dictionaries eine Zeile aus, die (beispielhaft) so aussehen soll:\n",
    "<pre>    \n",
    "'house' heißt auf Deutsch 'Haus'\n",
    "</pre>\n",
    "</p>\n",
    "</div>"
   ]
  },
  {
   "cell_type": "markdown",
   "metadata": {},
   "source": [
    "## Ein Dictionary als Zähler\n",
    "Wir können ein Dictionary verwenden, um die Namen in der schon bekannten Namensdatei zu zählen. Lesen wir die Namen zuerst wieder aus der Datei ein:"
   ]
  },
  {
   "cell_type": "code",
   "execution_count": null,
   "metadata": {},
   "outputs": [],
   "source": [
    "with open('../data/vornamen/names_short.txt', encoding='utf-8') as fh:\n",
    "    clean_names = [line.rstrip() for line in fh.readlines()]"
   ]
  },
  {
   "cell_type": "markdown",
   "metadata": {},
   "source": [
    "Die Liste `clean_names` enthält nun alle aus der Datei gelesenen Namen. Im nächsten Schritt\n",
    "erzeugen wir ein leeres Dictionary. Dann iterieren wir durch die Liste der Vornamen. Wir verwenden das  Dictionary, um für jeden Key (d.h. für jeden Vornamen) zu zählen, wie oft er erscheint (d.h. key ist der Vorname, value eine Zahl, die festhält, wie oft der Name bisher vorgekommen ist):"
   ]
  },
  {
   "cell_type": "code",
   "execution_count": null,
   "metadata": {},
   "outputs": [],
   "source": [
    "name_counter = {}\n",
    "for name in clean_names:\n",
    "    if name in name_counter:  # we saw the name before\n",
    "        name_counter[name] += 1\n",
    "    else:  # new name: create counter with 1\n",
    "        name_counter[name] = 1\n",
    "print(name_counter)        "
   ]
  },
  {
   "cell_type": "markdown",
   "metadata": {},
   "source": [
    "Für Afficionados: Im Prinzip könnte man das auch so schreiben. Ich halte die erste Version aber für lesbarer:"
   ]
  },
  {
   "cell_type": "code",
   "execution_count": null,
   "metadata": {},
   "outputs": [],
   "source": [
    "name_counter = {}\n",
    "for name in clean_names:\n",
    "    name_counter[name] = name_counter.get(name, 0) + 1\n",
    "print(name_counter)    "
   ]
  },
  {
   "cell_type": "markdown",
   "metadata": {},
   "source": [
    "Wenn wir nur an Namen interessiert sind, die mindestens zwei Mal erscheinen können wir das so lösen:"
   ]
  },
  {
   "cell_type": "code",
   "execution_count": null,
   "metadata": {},
   "outputs": [],
   "source": [
    "for name in name_counter:\n",
    "    if name_counter[name] > 1:\n",
    "        print(f'{name} erscheint {name_counter[name]} Mal')"
   ]
  },
  {
   "cell_type": "markdown",
   "metadata": {},
   "source": [
    "## Verschachtelte Dictionaries\n",
    "\n",
    "So wie ein Element einer Liste wieder eine Liste sein kann, kann in einem Dictionary der einem Schlüssel zugewiesene Wert wieder ein Dictionary sein:"
   ]
  },
  {
   "cell_type": "code",
   "execution_count": null,
   "metadata": {},
   "outputs": [],
   "source": [
    "colors = {\n",
    "  'red': { \n",
    "      'de': 'rot ' , \n",
    "      'fr': 'rouge ' , \n",
    "      'it': 'rosso '\n",
    "  } ,\n",
    "  'blue': { \n",
    "      'de': 'blau' , \n",
    "      'fr': 'bleu' , \n",
    "      'it': 'blu'\n",
    "  } ,\n",
    "  'yellow': { \n",
    "      'de': 'gelb' , \n",
    "      'fr': 'jaune' , \n",
    "      'it': 'giallo'\n",
    "  }\n",
    "}"
   ]
  },
  {
   "cell_type": "markdown",
   "metadata": {},
   "source": [
    "Wie bereits von den Listen bekannt können wir auf eine einzelne Übersetzung (umständlich) so zugreifen:"
   ]
  },
  {
   "cell_type": "code",
   "execution_count": null,
   "metadata": {},
   "outputs": [],
   "source": [
    "blue_translations = colors['blue']\n",
    "blue_translations['fr']"
   ]
  },
  {
   "cell_type": "markdown",
   "metadata": {},
   "source": [
    "Normalerweise wird aber die deutlich kompaktere Schreibweise verwendet:"
   ]
  },
  {
   "cell_type": "code",
   "execution_count": null,
   "metadata": {},
   "outputs": [],
   "source": [
    "colors['blue']['fr']"
   ]
  },
  {
   "cell_type": "markdown",
   "metadata": {},
   "source": [
    "## Vertiefende Literatur\n",
    "Ich empfehle ausdrücklich, mindestens eine der folgenden Ressourcen zur Vertiefung zu lesen!\n",
    "\n",
    "  * Python Tutorial: Kapitel 5.5\n",
    "\t(https://docs.python.org/3/tutorial/datastructures.html#dictionaries)\n",
    "  * Klein, Kurs: \n",
    "\t* Dictionaries (https://python-kurs.eu/python3_dictionaries.php).\n",
    "  * Sweigart: https://automatetheboringstuff.com/2e/chapter5/\n",
    "  \n",
    "  \n",
    "  * Klein, Buch: Kapitel 6.\n",
    "  * Kofler: Kapitel 7.5.\n",
    "  * Inden: Kapitel 2.9.4 und 5.1.3.\n",
    "  * Weigend: Kapitel 4.12\n",
    "  * Briggs: Kapitel 4.4.\n",
    "  * Pilgrim: Kapitel 2.7 \n",
    "    (https://www.diveinto.org/python3/native-datatypes.html#dictionaries) \n",
    "  * Downey: Kapitel 11\n",
    "    (http://greenteapress.com/thinkpython/html/thinkpython012.html)"
   ]
  },
  {
   "cell_type": "markdown",
   "metadata": {},
   "source": [
    "## Lizenz\n",
    "\n",
    "This notebook ist part of the course [Grundlagen der Programmierung](https://github.com/gvasold/gdp) held by [Gunter Vasold](https://online.uni-graz.at/kfu_online/wbForschungsportal.cbShowPortal?pPersonNr=51488) at Graz University 2017&thinsp;ff. \n",
    "\n",
    "<p>\n",
    "    It is licensed under <a href=\"https://creativecommons.org/licenses/by-nc-sa/4.0\">CC BY-NC-SA 4.0</a>\n",
    "</p>\n",
    "\n",
    "<table>\n",
    "    <tr>\n",
    "    <td>\n",
    "        <img style=\"height:22px\" \n",
    "             src=\"https://mirrors.creativecommons.org/presskit/icons/cc.svg?ref=chooser-v1\"/></li>\n",
    "    </td>\n",
    "    <td>\n",
    "    <img style=\"height:22px;\"\n",
    "         src=\"https://mirrors.creativecommons.org/presskit/icons/by.svg?ref=chooser-v1\" /></li>\n",
    "    </td>\n",
    "    <td>\n",
    "        <img style=\"height:22px;\"\n",
    "         src=\"https://mirrors.creativecommons.org/presskit/icons/nc.svg?ref=chooser-v1\" /></li>\n",
    "    </td>\n",
    "    <td>\n",
    "        <img style=\"height:22px;\"\n",
    "             src=\"https://mirrors.creativecommons.org/presskit/icons/sa.svg?ref=chooser-v1\" /></li>\n",
    "    </td>\n",
    "</tr>\n",
    "</table>"
   ]
  },
  {
   "cell_type": "markdown",
   "metadata": {},
   "source": [
    "---\n",
    "\n",
    "<div style=\"text-align: center; margin-top:20pt;\">  \n",
    "  <a href=\"../01-grundlagen/08-bedingungen.ipynb\">← Vorheriges Notebook</a>  \n",
    "  <span style=\"width: 100px;display: inline-block;\"> </span>\n",
    "    <a href=\"00-inhalt.ipynb\">↑ Inhaltsübersicht</a>\n",
    "    <span style=\"width: 100px;display: inline-block;\"> </span>\n",
    "  <a href=\"02-sets.ipynb\">Nächstes Notebook →</a>  \n",
    "</div> "
   ]
  }
 ],
 "metadata": {
  "kernelspec": {
   "display_name": "Python 3 (ipykernel)",
   "language": "python",
   "name": "python3"
  },
  "language_info": {
   "codemirror_mode": {
    "name": "ipython",
    "version": 3
   },
   "file_extension": ".py",
   "mimetype": "text/x-python",
   "name": "python",
   "nbconvert_exporter": "python",
   "pygments_lexer": "ipython3",
   "version": "3.13.7"
  }
 },
 "nbformat": 4,
 "nbformat_minor": 4
}
