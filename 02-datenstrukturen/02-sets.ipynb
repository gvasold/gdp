{
 "cells": [
  {
   "cell_type": "markdown",
   "metadata": {},
   "source": [
    "# Sets\n",
    "\n",
    "Sets sind Mengen im Sinne der Mengenlehre. Mengen haben zwei wichtige Eigenschaften:\n",
    "\n",
    "* Sie sind **ungeordnet**. Die Elemente einer Menge liegen also nicht wie bei einer Liste in einer bestimmten Reihenfolge vor.\n",
    "* Jedes Element kann in einer Menge **nur genau ein Mal** enthalten sein. Wenn Sie z.B. eine Menge von Namen haben, darf in dieser Menge jeder Name nur genau ein Mal vorkommen. Das ist auch der Grund, warum in einer Menge veränderbare Datentypen als Werte nicht erlaubt sind. Sie können deshalb z.B. keine Menge von Listen anlegen.\n",
    "\n",
    "In Python gibt es zwei Arten von Sets:\n",
    "\n",
    "* **set** ist der Datentyp für veränderbare Mengen. Das bedeutet, das bei Bedarf Elemente hinzugefügt und entfernt werden können.\n",
    "* **frozenset** ist der Datentyp für unveränderbare Mengen. Sie können z.B. eine Liste oder ein `set` in ein `frozenset` umwandeln. Dieses `frozenset` ist danach nicht mehr veränderbar. Da sich `frozensets` abgesehen von ihrer Unveränderlichkeit nicht von normalen Sets unterscheiden, werden wir nicht weiter darauf eingehen. "
   ]
  },
  {
   "cell_type": "markdown",
   "metadata": {},
   "source": [
    "## Sets erzeugen\n",
    "\n",
    "So wie eckige Klammern eine Liste anlegen, wird eine Menge durch geschwungene Klammern erzeugt:"
   ]
  },
  {
   "cell_type": "code",
   "execution_count": null,
   "metadata": {},
   "outputs": [],
   "source": [
    "names = {'Anton', 'Berta', 'Clara', 'Dieter'}\n",
    "type(names)"
   ]
  },
  {
   "cell_type": "markdown",
   "metadata": {},
   "source": [
    "Eine andere Möglichkeit besteht darin, andere Datentypen (Sequenztypen) in ein Set umzuwandeln. Dazu benötigen wir die Funktion `set()`: "
   ]
  },
  {
   "cell_type": "code",
   "execution_count": null,
   "metadata": {},
   "outputs": [],
   "source": [
    "names = ['Anton', 'Berta', 'Clara', 'Dieter']\n",
    "nameset = set(names)\n",
    "type(nameset)"
   ]
  },
  {
   "cell_type": "markdown",
   "metadata": {},
   "source": [
    "Die Funktion `set()` wandelt also andere Typen in ein Set um. Sie ist auf alle *Iterables* anwendbar, also auf jeden Datentyp, der seine Elemente eines nach dem anderen zurückgeben kann."
   ]
  },
  {
   "cell_type": "markdown",
   "metadata": {},
   "source": [
    "### Beispiel: Liste in Set umwandeln"
   ]
  },
  {
   "cell_type": "markdown",
   "metadata": {},
   "source": [
    "Im Notebook zu Bedingungen haben wir eine distinkte Liste von Vornamen erzeugt, indem wir in einer `for`-Schleife für jeden Eintrag der Namensliste überprüft haben, ob er bereits in der zweiten Liste `distinct_names` vorhanden war. Da es in einem Set per definitionem keine doppelten Einträge geben darf, können wir uns das zunutze machen, um dasselbe zu erreichen: Wir wandeln einfach unsere Liste von Namen in ein Set um."
   ]
  },
  {
   "cell_type": "markdown",
   "metadata": {},
   "source": [
    "Lesen wir zunächst noch einmal alle Name in die Liste `clean_names` ein:"
   ]
  },
  {
   "cell_type": "code",
   "execution_count": null,
   "metadata": {},
   "outputs": [],
   "source": [
    "with open('../data/vornamen/names_short.txt', encoding='utf-8') as fh:\n",
    "    clean_names = [line.rstrip() for line in fh.readlines()]"
   ]
  },
  {
   "cell_type": "markdown",
   "metadata": {},
   "source": [
    "Dann wandeln wir die Liste in ein `set` um:"
   ]
  },
  {
   "cell_type": "code",
   "execution_count": null,
   "metadata": {},
   "outputs": [],
   "source": [
    "distinct_names = set(clean_names)\n",
    "print(f'clean_names: {len(clean_names)} Einträgen, distinct_names: {len(distinct_names)} Einträge')   "
   ]
  },
  {
   "cell_type": "markdown",
   "metadata": {},
   "source": [
    "`distinct_names` ist jetzt aber keine Liste mehr, sondern vom Typ `set`:"
   ]
  },
  {
   "cell_type": "code",
   "execution_count": null,
   "metadata": {},
   "outputs": [],
   "source": [
    "type(distinct_names)"
   ]
  },
  {
   "cell_type": "markdown",
   "metadata": {},
   "source": [
    "Wir könnten das oben erzeugte Set einfach wieder in eine Liste zurückverwandeln um die schon bekannten Listenmethoden darauf anzuwenden:"
   ]
  },
  {
   "cell_type": "code",
   "execution_count": null,
   "metadata": {},
   "outputs": [],
   "source": [
    "distinct_names = list(distinct_names)\n",
    "type(distinct_names)"
   ]
  },
  {
   "cell_type": "markdown",
   "metadata": {},
   "source": [
    "Wir können das sogar in einem Aufwasch erledigen:"
   ]
  },
  {
   "cell_type": "code",
   "execution_count": null,
   "metadata": {},
   "outputs": [],
   "source": [
    "distinct_names = list(set(clean_names))\n",
    "type(distinct_names), len(distinct_names)"
   ]
  },
  {
   "cell_type": "markdown",
   "metadata": {},
   "source": [
    "Oft ist das aber gar nicht nötig, weil vieles, was mit Listen funktioniert, auch auf Sets anwendbar ist. Zum Beispiel kann man ein Set mit `sorted()` sortieren, wobei das Ergebnis dann natürlich eine Liste ist. Mit der Funktion `len()` können wir die Zahl der Elemente eines Sets ermitteln:"
   ]
  },
  {
   "cell_type": "markdown",
   "metadata": {},
   "source": [
    "## Elemente zählen mit len()\n",
    "\n",
    "Die Funktion `len()` kann auch auf Sets angewendet werden, um die Zahl der im Set vorhandenen Elemente zu zählen:"
   ]
  },
  {
   "cell_type": "code",
   "execution_count": null,
   "metadata": {},
   "outputs": [],
   "source": [
    "distinct_names = set(clean_names)\n",
    "len(distinct_names)"
   ]
  },
  {
   "cell_type": "markdown",
   "metadata": {},
   "source": [
    "## Auf das Vorhandensein von Elementen prüfen mit dem in-Operator\n",
    "\n",
    "Auch der `in`-Operator funktioniert genau gleich wie bei Listen: Mit `in` können wir testen, ob ein Wert im Set vorhanden ist:"
   ]
  },
  {
   "cell_type": "code",
   "execution_count": null,
   "metadata": {},
   "outputs": [],
   "source": [
    "names = {'Anton', 'Berta', 'Clara'}\n",
    "'Berta' in names"
   ]
  },
  {
   "cell_type": "markdown",
   "metadata": {},
   "source": [
    "## Durch Sets iterieren mit for .. in\n",
    "\n",
    "Sie können mit `for ... in` genau so durch ein Set iterieren, wie durch eine Liste. Dabei sollten Sie aber beachten, dass es im Unterschied zu Listen in Sets keine festgelegte Reihenfolge der Element gibt. Es ist also nicht vorhersehbar, in welcher Reihenfolge die Elemente in der Schleife verarbeitet werden. \n",
    "\n",
    "Zur Illustration können wir erneut die Vornamen in lange, mittellange und kurze Namen aufteilen und auszählen: "
   ]
  },
  {
   "cell_type": "code",
   "execution_count": null,
   "metadata": {},
   "outputs": [],
   "source": [
    "with open('../data/vornamen/names_short.txt', encoding='utf-8') as fh:\n",
    "    distinct_names = set([line.rstrip() for line in fh.readlines()])\n",
    "\n",
    "short_length_names = 0\n",
    "medium_length_names = 0\n",
    "long_length_names = 0\n",
    "\n",
    "for name in distinct_names: # distinct_names is a set\n",
    "    if len(name) > 8:\n",
    "        long_length_names += 1\n",
    "    elif len(name) < 5:\n",
    "        short_length_names += 1\n",
    "    else:\n",
    "        medium_length_names += 1\n",
    "        \n",
    "print('{} kurze Namen, {} mittellange und {} lange Namen'.format(\n",
    "    short_length_names, medium_length_names, long_length_names))"
   ]
  },
  {
   "cell_type": "markdown",
   "metadata": {},
   "source": [
    "<div class=\"alert alert-block alert-info\">\n",
    "<b>Übung Set-1</b>\n",
    "<p>Da auch Strings Sequenztypen sind, können Sie einen String in ein Set (von Zeichen) umwandeln. Verwenden Sie diese Technik, um herausfinden, aus wie vielen <b>unterschiedlichen</b> Buchstaben Ihr Name besteht.</p>\n",
    "</div>"
   ]
  },
  {
   "cell_type": "code",
   "execution_count": null,
   "metadata": {},
   "outputs": [],
   "source": [
    "name = input('Geben Sie Ihren Namen ein: ')\n",
    "distinct_chars =  # TODO\n",
    "print(f'Ihr Name besteht aus {len(name)} Zeichen, {len(distinct_chars)} davon sind unterschiedlich')"
   ]
  },
  {
   "cell_type": "markdown",
   "metadata": {},
   "source": [
    "## Mengen verändern\n"
   ]
  },
  {
   "cell_type": "markdown",
   "metadata": {},
   "source": [
    "### Werte zu einem Set hinzufügen\n",
    "\n",
    "Ein neues Element kann einer Menge mit der Methode `add()` hinzugefügt werden. Registrieren Sie bitte den feinen semantischen Unterschied zu `append()` bei Listen: `append()` fügt ans Ende der List hinzu; da ein Set aber keine definierte Reihenfolge hat, wird ein neues Element mit `add()` hinzugefügt: Das neue Element wird einfach der Menge hinzugefügt, ohne dass damit eine bestimmte Position impliziert wird."
   ]
  },
  {
   "cell_type": "code",
   "execution_count": null,
   "metadata": {},
   "outputs": [],
   "source": [
    "names = {'Anna', 'Berta', 'Clara'}\n",
    "names.add('Dieter')\n",
    "names"
   ]
  },
  {
   "cell_type": "markdown",
   "metadata": {},
   "source": [
    "Man kann natürlich auch mit einem leeren Set starten. Hier funktioniert allerdings die Notation mit den geschwungenen Klammern nicht, weil diese bereits für die Erzeugung eines leeren Dictionaries verwendet wird. Daher müssen wir explizit ein `set`-Objekt erzeugen:"
   ]
  },
  {
   "cell_type": "code",
   "execution_count": null,
   "metadata": {},
   "outputs": [],
   "source": [
    "names = set()\n",
    "names.add('Anna')\n",
    "names.add('Berta')\n",
    "names"
   ]
  },
  {
   "cell_type": "markdown",
   "metadata": {},
   "source": [
    "Da in einem Set jedes Element nur einmal vorkommen kann, ignoriert ein Set ein hinzugefügtes Element stillschweigend, wenn es bereits vorhanden ist:"
   ]
  },
  {
   "cell_type": "code",
   "execution_count": null,
   "metadata": {},
   "outputs": [],
   "source": [
    "names = {'Anna', 'Berta', 'Clara'}\n",
    "names.add('Anna')\n",
    "names"
   ]
  },
  {
   "cell_type": "markdown",
   "metadata": {},
   "source": [
    "### Werte aus einem Set entfernen mit discard()"
   ]
  },
  {
   "cell_type": "markdown",
   "metadata": {},
   "source": [
    "Die Methode `discard()` entfernt ein bestimmtes Element aus einem Set:"
   ]
  },
  {
   "cell_type": "code",
   "execution_count": null,
   "metadata": {},
   "outputs": [],
   "source": [
    "names = {'Anna', 'Berta', 'Carla', 'Dora'}\n",
    "print(names)\n",
    "names.discard('Berta')\n",
    "names"
   ]
  },
  {
   "cell_type": "markdown",
   "metadata": {},
   "source": [
    "Falls wir versuchen, ein nicht existierendes Element mit `discard()` zu entfernen, ignoriert Python das stillschweigend:"
   ]
  },
  {
   "cell_type": "code",
   "execution_count": null,
   "metadata": {},
   "outputs": [],
   "source": [
    "names = {'Anna', 'Berta', 'Carla', 'Dora'}\n",
    "print(names)\n",
    "names.discard('Zita')\n",
    "names"
   ]
  },
  {
   "cell_type": "markdown",
   "metadata": {},
   "source": [
    "### Werte aus einem Set entfernen mit remove()"
   ]
  },
  {
   "cell_type": "markdown",
   "metadata": {},
   "source": [
    "Ein alternative Methode zum Entfernen eines Elements steht mit `remove()`zur Verfügung:"
   ]
  },
  {
   "cell_type": "code",
   "execution_count": null,
   "metadata": {},
   "outputs": [],
   "source": [
    "names = {'Anna', 'Berta', 'Carla', 'Dora'}\n",
    "print(names)\n",
    "names.remove('Berta')\n",
    "names"
   ]
  },
  {
   "cell_type": "markdown",
   "metadata": {},
   "source": [
    "Der Unterschied zu `discard()` liegt in der Weise, wie Python darauf reagiert, wenn wir versuchen, ein nicht existierendes Element zu entfernen:"
   ]
  },
  {
   "cell_type": "code",
   "execution_count": null,
   "metadata": {},
   "outputs": [],
   "source": [
    "names = {'Anna', 'Berta', 'Carla', 'Dora'}\n",
    "print(names)\n",
    "names.remove('Zita')\n",
    "names"
   ]
  },
  {
   "cell_type": "markdown",
   "metadata": {},
   "source": [
    "Hier wird das Fehlen des Wertes nicht einfach ignoriert, sondern es wird eine Exception ausgelöst. Was das ist, werden wir in einem der nächsten Notebooks lernen."
   ]
  },
  {
   "cell_type": "markdown",
   "metadata": {},
   "source": [
    "### Einen Wert entfernen mit `pop()`\n"
   ]
  },
  {
   "cell_type": "code",
   "execution_count": null,
   "metadata": {},
   "outputs": [],
   "source": [
    "names = {'Anna', 'Berta', 'Carla', 'Dora'}\n",
    "print(names)\n",
    "names.pop()\n",
    "names"
   ]
  },
  {
   "cell_type": "markdown",
   "metadata": {},
   "source": [
    "Wir haben gelernt, dass `pop()` das letzte Element einer Liste entfernt. Da ein Set keine definierte Reihenfolge hat, wird hier durch `pop()` ein nicht vorhersehbares Element aus dem Set entfernt. Die Methode macht dennoch Sinn, etwa wenn in einer `while`-Schleife ein Element nach dem anderen aus dem Set entfernt werden soll: "
   ]
  },
  {
   "cell_type": "code",
   "execution_count": null,
   "metadata": {},
   "outputs": [],
   "source": [
    "names = {'Anna', 'Berta', 'Carla', 'Dora'}\n",
    "while names:  # True, solange noch Elemente vorhanden sind\n",
    "    print(names.pop())\n",
    "names # now empty"
   ]
  },
  {
   "cell_type": "markdown",
   "metadata": {},
   "source": [
    "### Alle Werte aus einem Set löschen\n",
    "\n",
    "Zum Löschen aller Werte aus einem Set gibt es die Methode `clear()`:"
   ]
  },
  {
   "cell_type": "code",
   "execution_count": null,
   "metadata": {},
   "outputs": [],
   "source": [
    "names = {'Anna', 'Berta', 'Carla', 'Dora'}\n",
    "print(names)\n",
    "names.clear()\n",
    "names"
   ]
  },
  {
   "cell_type": "markdown",
   "metadata": {},
   "source": [
    "<div class=\"alert alert-block alert-info\">\n",
    "<b>Übung Set-2</b>\n",
    "<ol>\n",
    "<li>Lesen Sie die Datei <tt>../data/vornamen/vornamen_2015.txt</tt> zeilenweise ein, entfernen Sie die Zeilenumbrüche und wandeln die so entstandene Liste in ein Set <tt>distinct_names</tt> um.</li>\n",
    "<li>Iterieren Sie in einer Schleife durch dieses Set und geben Sie alle Einträge aus, die aus 3, 4 oder 5 Zeichen bestehen.</li>\n",
    "</ol>\n",
    "</div>"
   ]
  },
  {
   "cell_type": "markdown",
   "metadata": {},
   "source": [
    "## Mengenoperationen\n",
    "\n",
    "Das Enfernen von mehrfach vorkommenden Elementen ist zwar ein nettes Feature, der eigentliche Zweck von Sets aber ist, dass wir damit Mengenlehre betreiben können. "
   ]
  },
  {
   "cell_type": "markdown",
   "metadata": {},
   "source": [
    "### Die Schnittmenge bilden\n",
    "\n",
    "Nehmen wir an, wir haben zwei Freundesgruppen: Eine aus dem Umfeld der Universität, eine zweite treffen wir regelmässig beim Bouldern:"
   ]
  },
  {
   "cell_type": "code",
   "execution_count": null,
   "metadata": {},
   "outputs": [],
   "source": [
    "uni_friends = {'Anna', 'Georg', 'Hannes', 'Sabrina'}\n",
    "boulder_friends = {'Emil', 'Sabrina', 'Georg'}"
   ]
  },
  {
   "cell_type": "markdown",
   "metadata": {},
   "source": [
    "Wenn wir herausfinden wollen, wer beiden Gruppen angehört, müssen wir die Schnittmenge der beiden Sets bilden."
   ]
  },
  {
   "cell_type": "markdown",
   "metadata": {},
   "source": [
    "![Schnittmenge](data:image/png;base64,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)"
   ]
  },
  {
   "cell_type": "code",
   "execution_count": null,
   "metadata": {},
   "outputs": [],
   "source": [
    "uni_friends & boulder_friends"
   ]
  },
  {
   "cell_type": "markdown",
   "metadata": {},
   "source": [
    "Wir haben hier den `&`-Operator kennen gelernt, der auf zwei Mengen angewendet, die Schnittmenge dieser beiden Mengen bildet.\n",
    "\n",
    "Alternativ zum `&`-Operator können Sie die `intersection()`-Methode eines `set`-Objekts verwenden:"
   ]
  },
  {
   "cell_type": "code",
   "execution_count": null,
   "metadata": {},
   "outputs": [],
   "source": [
    "uni_friends.intersection(boulder_friends)"
   ]
  },
  {
   "cell_type": "markdown",
   "metadata": {},
   "source": [
    "### Differenzmenge zweier Sets bilden\n",
    "\n",
    "Die Differenz zweier Mengen entsteht dadurch, dass alle Elemente, die in beiden Mengen vorhanden sind,\n",
    "aus der einen Menge entfernt wird: Es bleiben somit nur die Elemente, die nur in der einen Menge vorhanden sind."
   ]
  },
  {
   "cell_type": "markdown",
   "metadata": {},
   "source": [
    "![Differenzmenge](data:image/png;base64,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)"
   ]
  },
  {
   "cell_type": "markdown",
   "metadata": {},
   "source": [
    "Um das etwas konkreter zu machen: Wenn wenn wir heraufinden wollen, welche unserer Freunde wir nur von der Uni kennen, ist der Differenzoperator `-` genau das, was wir brauchen:"
   ]
  },
  {
   "cell_type": "code",
   "execution_count": null,
   "metadata": {},
   "outputs": [],
   "source": [
    "uni_friends - boulder_friends"
   ]
  },
  {
   "cell_type": "markdown",
   "metadata": {},
   "source": [
    "Auch hier gibt es alternativ zum Operator eine Methode: `difference()`"
   ]
  },
  {
   "cell_type": "code",
   "execution_count": null,
   "metadata": {},
   "outputs": [],
   "source": [
    "uni_friends.difference(boulder_friends)"
   ]
  },
  {
   "cell_type": "markdown",
   "metadata": {},
   "source": [
    "Wenn wir herausfinden wollen, wenn wir nur vom Bouldern kennen, müssen wir die beiden Sets vertauschen:"
   ]
  },
  {
   "cell_type": "code",
   "execution_count": null,
   "metadata": {},
   "outputs": [],
   "source": [
    "boulder_friends - uni_friends"
   ]
  },
  {
   "cell_type": "markdown",
   "metadata": {},
   "source": [
    "bzw. so:"
   ]
  },
  {
   "cell_type": "code",
   "execution_count": null,
   "metadata": {},
   "outputs": [],
   "source": [
    "boulder_friends.difference(uni_friends)"
   ]
  },
  {
   "cell_type": "markdown",
   "metadata": {},
   "source": [
    "### Vereinigungsmenge zwei Mengen bilden"
   ]
  },
  {
   "cell_type": "markdown",
   "metadata": {},
   "source": [
    "Ebenso einfach kann die Vereinigungsmenge erzeugt werden:"
   ]
  },
  {
   "cell_type": "code",
   "execution_count": null,
   "metadata": {},
   "outputs": [],
   "source": [
    "uni_friends | boulder_friends"
   ]
  },
  {
   "cell_type": "markdown",
   "metadata": {},
   "source": [
    "enthält nun alle Elemente aus beiden Mengen."
   ]
  },
  {
   "cell_type": "markdown",
   "metadata": {},
   "source": [
    "![Vereinigungsmenge](data:image/png;base64,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)"
   ]
  },
  {
   "cell_type": "markdown",
   "metadata": {},
   "source": [
    "Auch hier gibt es eine Methode, die daselbe tut wie der `|`-Operator: `.union()`:"
   ]
  },
  {
   "cell_type": "code",
   "execution_count": null,
   "metadata": {},
   "outputs": [],
   "source": [
    "uni_friends.union(boulder_friends)"
   ]
  },
  {
   "cell_type": "markdown",
   "metadata": {},
   "source": [
    "## Weitere nützliche Methoden\n",
    "\n",
    "Beim Programmieren geschieht nicht selten, dass man etwas selbst programmiert und dann später herausfindet, dass diese Funktionalität ohnehin bereits vorhanden war. Deshalb stelle ich hier noch kurz ein paar weitere nützliche Methoden des Set-Objekts vor. (Ab hier kein Prüfungsstoff, da sie das jederzeit nachschlagen können)."
   ]
  },
  {
   "cell_type": "markdown",
   "metadata": {},
   "source": [
    "### Gibt es Überschneidungen?\n",
    "\n",
    "Um herauszufinden, ob zwei Mengen keine gemeinsamen Elemente haben, können Sie `isdisjoint()` verwenden:"
   ]
  },
  {
   "cell_type": "code",
   "execution_count": null,
   "metadata": {},
   "outputs": [],
   "source": [
    "uni_friends = {'Anna', 'Georg', 'Hannes', 'Sabrina'}\n",
    "boulder_friends = {'Emil', 'Sabrina', 'Georg'}\n",
    "beer_friends = {'Otto', 'Lisa', 'Hans'}\n",
    "\n",
    "uni_friends.isdisjoint(boulder_friends)"
   ]
  },
  {
   "cell_type": "code",
   "execution_count": null,
   "metadata": {},
   "outputs": [],
   "source": [
    "uni_friends.isdisjoint(beer_friends)"
   ]
  },
  {
   "cell_type": "markdown",
   "metadata": {},
   "source": [
    "## Ist eine Menge ein Subset der anderen Menge?\n",
    "\n",
    "Um herauszufinden, ob alle Element der einen Menge in der anderen Menge enthalten sind, können Sie `issubset()` verwenden."
   ]
  },
  {
   "cell_type": "code",
   "execution_count": null,
   "metadata": {},
   "outputs": [],
   "source": [
    "uni_friends = {'Anna', 'Georg', 'Hannes', 'Sabrina'}\n",
    "beer_friends = {'Anna', 'Hannes'}\n",
    "\n",
    "beer_friends.issubset(uni_friends)"
   ]
  },
  {
   "cell_type": "markdown",
   "metadata": {},
   "source": [
    "Anders herum können Sie diese Frage mit `issuperset()` lösen:"
   ]
  },
  {
   "cell_type": "code",
   "execution_count": null,
   "metadata": {},
   "outputs": [],
   "source": [
    "uni_friends = {'Anna', 'Georg', 'Hannes', 'Sabrina'}\n",
    "beer_friends = {'Anna', 'Hannes'}\n",
    "\n",
    "uni_friends.issuperset(beer_friends)"
   ]
  },
  {
   "cell_type": "markdown",
   "metadata": {},
   "source": [
    "## Vertiefende Literatur\n",
    "Ich empfehle ausdrücklich, mindestens eine der folgenden Ressourcen zur Vertiefung zu lesen!\n",
    "\n",
    "  * Python Tutorial: Kapitel 5.4\n",
    "    (https://docs.python.org/3/tutorial/datastructures.html#sets).\n",
    "  * Klein, Kurs: Mengen (https://python-kurs.eu/python3_sets_mengen.php).\n",
    "  \n",
    "  \n",
    "  * Klein, Buch: Kapitel 7.\n",
    "  * Kofler: Kapitel 7.4.\n",
    "  * Inden: Kapitel 2.9.3 und 5.1.2.\n",
    "  * Weigend: Kapitel 7.6.\n",
    "  * Pilgrim: Kapitel 2.5\n",
    "    (https://www.diveinto.org/python3/native-datatypes.html#sets)."
   ]
  },
  {
   "cell_type": "markdown",
   "metadata": {},
   "source": [
    "## Lizenz\n",
    "\n",
    "This notebook ist part of the course [Grundlagen der Programmierung](https://github.com/gvasold/gdp) held by [Gunter Vasold](https://online.uni-graz.at/kfu_online/wbForschungsportal.cbShowPortal?pPersonNr=51488) at Graz University 2017&thinsp;ff. \n",
    "\n",
    "<p>\n",
    "    It is licensed under <a href=\"https://creativecommons.org/licenses/by-nc-sa/4.0\">CC BY-NC-SA 4.0</a>\n",
    "</p>\n",
    "\n",
    "<table>\n",
    "    <tr>\n",
    "    <td>\n",
    "        <img style=\"height:22px\" \n",
    "             src=\"https://mirrors.creativecommons.org/presskit/icons/cc.svg?ref=chooser-v1\"/></li>\n",
    "    </td>\n",
    "    <td>\n",
    "    <img style=\"height:22px;\"\n",
    "         src=\"https://mirrors.creativecommons.org/presskit/icons/by.svg?ref=chooser-v1\" /></li>\n",
    "    </td>\n",
    "    <td>\n",
    "        <img style=\"height:22px;\"\n",
    "         src=\"https://mirrors.creativecommons.org/presskit/icons/nc.svg?ref=chooser-v1\" /></li>\n",
    "    </td>\n",
    "    <td>\n",
    "        <img style=\"height:22px;\"\n",
    "             src=\"https://mirrors.creativecommons.org/presskit/icons/sa.svg?ref=chooser-v1\" /></li>\n",
    "    </td>\n",
    "</tr>\n",
    "</table>"
   ]
  },
  {
   "cell_type": "markdown",
   "metadata": {},
   "source": [
    "---\n",
    "\n",
    "<div style=\"text-align: center; margin-top:20pt;\">  \n",
    "  <a href=\"01-dictionaries.ipynb\">← Vorheriges Notebook</a>  \n",
    "  <span style=\"width: 100px;display: inline-block;\"> </span>\n",
    "    <a href=\"00-inhalt.ipynb\">↑ Inhaltsübersicht</a>\n",
    "    <span style=\"width: 100px;display: inline-block;\"> </span>\n",
    "  <a href=\"03-tuples.ipynb\">Nächstes Notebook →</a>  \n",
    "</div> "
   ]
  }
 ],
 "metadata": {
  "kernelspec": {
   "display_name": "Python 3 (ipykernel)",
   "language": "python",
   "name": "python3"
  },
  "language_info": {
   "codemirror_mode": {
    "name": "ipython",
    "version": 3
   },
   "file_extension": ".py",
   "mimetype": "text/x-python",
   "name": "python",
   "nbconvert_exporter": "python",
   "pygments_lexer": "ipython3",
   "version": "3.13.7"
  }
 },
 "nbformat": 4,
 "nbformat_minor": 4
}
