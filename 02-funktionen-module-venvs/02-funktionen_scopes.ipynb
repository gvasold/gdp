{
 "cells": [
  {
   "cell_type": "markdown",
   "id": "bcb75e25-3c85-4d5b-958b-625ddde05a4b",
   "metadata": {},
   "source": [
    "# Funktionen: Gültigkeitsbereich von Variablen"
   ]
  },
  {
   "cell_type": "markdown",
   "id": "d9ebd70c-7036-4773-b2d6-e9db0702c717",
   "metadata": {},
   "source": [
    "Bisher haben wir uns noch keine großen Gedanken darüber gemacht, wann und wo der Wert einer Variable sichtbar ist. In Zusammenhang mit Funktionen müssen wir uns jedoch damit beschäftigen. Vorauszuschicken ist, dass diese Sichtbarkeit in Python eher ungewöhnlich gelöst ist."
   ]
  },
  {
   "cell_type": "markdown",
   "id": "e5d6e086-cebb-4312-8e45-7a3859d4ff8c",
   "metadata": {},
   "source": [
    "## Scopes (Gültigkeitsbereiche)\n",
    "\n",
    "Grundsätzlich müssen wir zwei Gültigkeitsbereich unterscheiden:\n",
    "\n",
    "  * Den globalen Gültigkeitsbereich\n",
    "    * Jede im Hauptprogramm (also außerhalb einer Funktion) angelegt Variable \n",
    "      lebt im globalen Scope.\n",
    "    * Globale Variablen sind auch innerhalb einer Funktion sichtbar\n",
    "  * Den lokalen Gültigkeitsbereich\n",
    "    * Jede innerhalb einer Funktion angelegte Variable ist nur innerhalb der \n",
    "      Funktion sichtbar (außer sie ist mit dem Keyword ``global`` als global \n",
    "      definiert, was aber fast immer eine schlechte Idee ist, weshalb Sie das \n",
    "      gleich wieder vergessen sollten).\n",
    "      \n",
    "Probieren wir die Gültigkeitsbereiche gleich aus. Im folgenden Beispiel legen wir eine globale Variable ``val`` an, die dann in der Funktion verwendet wird:      "
   ]
  },
  {
   "cell_type": "code",
   "execution_count": null,
   "id": "fbf736d1-7672-4c90-93e9-bfe7bad364e9",
   "metadata": {},
   "outputs": [],
   "source": [
    "def a_function():\n",
    "    print(val)\n",
    "    \n",
    "val = 1\n",
    "a_function()"
   ]
  },
  {
   "cell_type": "markdown",
   "id": "3bd8cf50-f32e-4b86-98c8-d6e36daba438",
   "metadata": {},
   "source": [
    "Wie wir sehen, ist die außerhalb der Funktion angelegte Variable ``val`` auch innerhalb der Funktion sichtbar: Wir können ihren Wert ausgeben.\n",
    "\n",
    "Anders herum funktioniert es nicht: Eine in einer Funktion angelegte **lokale Variable** ist außerhalb der Funktion (d.h. im globalen Scope) nicht sichtbar:"
   ]
  },
  {
   "cell_type": "code",
   "execution_count": null,
   "id": "f4084910-4b27-4f9b-bd70-7a96c8365ccc",
   "metadata": {},
   "outputs": [],
   "source": [
    "def a_function():\n",
    "    other_val = 1\n",
    "    \n",
    "a_function()\n",
    "other_val"
   ]
  },
  {
   "cell_type": "markdown",
   "id": "3a6e1c99-c14c-4eba-bac7-5ae4158cd185",
   "metadata": {},
   "source": [
    "Hier noch eine Anmerkung zum ersten, funktionierenden Beispiel: Es ist in den meisten Fällen unschön, auf diese Weise das Vorhandensein einer globalen Variable vorauszusetzen. Außerdem leidet die Nachvollziehbarkeit des Codes,  weil man nicht nur die Funktion verstehen, sondern auch herausfinden muss, was es mit der globalen Variable auf sich hat.\n",
    "\n",
    "Besser ist, die in der Funktion benötigten Werte explizit via Parameter an die Funktion zu übergeben. Dann sieht man sofort, welche Werte die Funktion erwartet und zusätzlich kann man die Funktion einfacher testen. Das oben stehende Beispiel sollte also besser so geschrieben werden:"
   ]
  },
  {
   "cell_type": "code",
   "execution_count": null,
   "id": "034f6def-bef6-4f3e-a43b-813e3b018cce",
   "metadata": {},
   "outputs": [],
   "source": [
    "def a_function(value):\n",
    "    print(value)\n",
    "    \n",
    "val = 1\n",
    "a_function(val)"
   ]
  },
  {
   "cell_type": "markdown",
   "id": "35ec78eb-eefd-482f-a843-5899fe1dcd04",
   "metadata": {},
   "source": [
    "In diesem Falle ist ``value`` eine lokale, ``val`` eine globale Variable. Die beiden sind also einfach auseinander zu halten, weil wir unterschiedliche Namen verwendet haben. Im Prinzip kann man aber als Parametername (sprich: lokale Variable) denselben Namen verwenden wie für die globale Variable:"
   ]
  },
  {
   "cell_type": "code",
   "execution_count": null,
   "id": "e210f735-d370-40ea-a5e4-58c4e7cad576",
   "metadata": {},
   "outputs": [],
   "source": [
    "def a_function(val):\n",
    "    print(val)\n",
    "    \n",
    "val = 1\n",
    "a_function(val)"
   ]
  },
  {
   "cell_type": "markdown",
   "id": "9de87043-931a-484e-8dac-7d831181f928",
   "metadata": {},
   "source": [
    "Wie wir sehen, funktioniert auch diese Lösung. Es ist aber wichtig zu verstehen, dass wir es mit zwei unterschiedlichen Variablen zu tun haben, auch wenn sie denselben Namen tragen. Gleichnamige Variablen im globalen und lokalen Scope sind also grundsätzlich keine Problem. Die Lösung mit unterschiedlichen Variablennamen ist aber meiner Meinung nach einfacher nachvollziehbar."
   ]
  },
  {
   "cell_type": "markdown",
   "id": "3ce15943-7f5c-465b-b631-51bf4d2d5485",
   "metadata": {},
   "source": [
    "## Parameterwerte werden als Referenz übergeben\n",
    "\n",
    "Kommen wir nun zu einer Besonderheit, die schon häufig dazu geführt hat, dass Python Programme nicht sauber funktionieren. Der Grund dafür liegt daran, dass Python versucht, Objekte nur dann zu kopieren, wenn es unumgänglich ist. Man spricht hier von *shallow copies* also \"seichten\" Kopien. \n",
    "\n",
    "Um das zu verstehen, lassen wir uns nun mit der ``id()`` Funktion anzeigen, auf welche Objekte die beiden  Variablen zeigen:"
   ]
  },
  {
   "cell_type": "code",
   "execution_count": null,
   "id": "7b070131-f8ad-4328-9f7f-d80792e20672",
   "metadata": {},
   "outputs": [],
   "source": [
    "def a_function(value):\n",
    "    print(id(value))\n",
    "    \n",
    "val = 1\n",
    "print(id(val))\n",
    "a_function(val)"
   ]
  },
  {
   "cell_type": "markdown",
   "id": "0168b859-8319-4dc6-bbcc-a0e58f10e50e",
   "metadata": {},
   "source": [
    "Zu unserer Verwirrung sehen wir, dass beide Variablen (also die globale und die lokale) auf dasselbe Objekt zeigen. Haben wir es also doch nicht mit zwei unterschiedlichen Variablen und Gültigkeitsbereichen zu tun? \n",
    "\n",
    "Um dieses Verhalten zu verstehen, müssen wir wissen, dass Python aus Effizienzgründen für Funktionsparameter nie volle Kopien (\"Deep Copies\") des übergebenen Wertes erzeugt, sondern eine \"Shallow Copy\" verwendet. Diese enthält, so lange der Wert sich nicht ändert, einfach eine Referenz auf das übergebene Originalobjekt. Die Id der globalen und der lokalen Variable ist zunächst einmal gleich, weil beide sich auf dasselbe Objekt im Hauptspeicher beziehen.\n",
    "\n",
    "Erst, wenn wir innerhalb der Funktion den übergebenen Wert verändern, wird ein neues Objekt (im lokalen Scope) erzeugt."
   ]
  },
  {
   "cell_type": "code",
   "execution_count": null,
   "id": "82895572-7538-41bc-955e-6a0f7ee5054b",
   "metadata": {},
   "outputs": [],
   "source": [
    "def increase(val):\n",
    "    print(f\"[b]: id von val in der Funktion (vor der Änderung): {id(val)}\")\n",
    "    val += 1\n",
    "    print(f\"[c]: id von val in der Funktion nach der Änderung: {id(val)}\")\n",
    "\n",
    "val = 1\n",
    "print(f\"[a]: id von val außerhalb der Funktion: {id(val)}\")\n",
    "\n",
    "increase(val)\n",
    "print(f\"[d]: id von val außerhalb der Funktion: {id(val)}\")"
   ]
  },
  {
   "cell_type": "markdown",
   "id": "f3e4a51f-5611-4576-ada6-537e36dff097",
   "metadata": {},
   "source": [
    "Die globale Variable (in der Ausgabe [a] und [d], im Code Zeilen 7 und 10) zeigt immer auf dasselbe Objekt.\n",
    "Innerhalb der Funktion zeigt ``val`` zuerst ebenfalls auf dieses Objekt (Ausgabe [b] bzw. Zeile 2). Erst nachdem wir in der Funktion den Wert der lokalen Variable verändert haben, zeigt diese auf ein anderes Objekt ([b] bzw. Zeile 4). Dass dies nur für den lokalen Gültigkeitsbereich gilt, sehen wir daran, dass sich die id der globalen Variable nicht geändert hat ([d] bzw. Zeile 10). Fassen wir also zusammen: Lokale Variablen innerhalb einer Funktion sind so lange Referenzen auf das global referenziert Objekt, solange wir innerhalb der Funktion diesen Wert nicht verändern.\n",
    "\n",
    "Eigentlich sollte uns dieses Verhalten nicht überraschen, weil wir bereits gelernt haben, dass ``int`` wie auch einige andere Datentypen zu den unveränderbaren Datentypen gehören: Jedes Mal, wenn wir den Wert verändern, wird ein neues Objekt angelegt. In unserem Fall ist eigentlich nur neu, dass das nach der Änderung angelegt Objekt nur im lokalen Scope sichtbar ist."
   ]
  },
  {
   "cell_type": "markdown",
   "id": "d4969228-0dfb-441e-a544-23bac7dbceb5",
   "metadata": {},
   "source": [
    "## Scopes veränderbarer Datentypen\n",
    "\n",
    "Was aber passiert, wenn wir veränderbare Datentypen (z.B. Listen oder Dictionaries) an die Funktion übergeben (bzw. nicht  übergebene globale Variablen verwenden)? Probieren wir es aus, indem wir eine Liste an eine Funktion übergeben und dann in der Funktion ein Element der Liste ersetzen:"
   ]
  },
  {
   "cell_type": "code",
   "execution_count": null,
   "id": "06f556f0-f7d2-4d0e-8b9b-d8e60374d927",
   "metadata": {},
   "outputs": [],
   "source": [
    "def compute_final_grade(grades):\n",
    "    print(f\"(b) {grades} {id(grades)}\")\n",
    "    grades[1] = 1\n",
    "    print(f\"(c) {grades} {id(grades)}\")\n",
    "    \n",
    "grades = [3, 5, 4, 1]    \n",
    "print(f\"(a) {grades} {id(grades)}\")\n",
    "compute_final_grade(grades)\n",
    "print(f\"(d) {grades} {id(grades)}\")"
   ]
  },
  {
   "cell_type": "markdown",
   "id": "fef6be67-3d87-4f27-ac1f-be5f216fc637",
   "metadata": {},
   "source": [
    "Wie wir sehen, ist die Liste ``grades`` innerhalb der Funktion dasselbe Objekt (mit derselben id) wie außerhalb, auch wenn wir einen Wert verändern (Zeile 3). Mit anderen Worten: Wenn wir einen veränderbaren Datentyp innerhalb einer Funktion verändern, erzeugen wir kein neues Objekt, sondern wir verändern das Objekt aus dem globalen Gültigkeitbereich! "
   ]
  },
  {
   "cell_type": "markdown",
   "id": "0adca5c3-ad1e-4887-9e5b-c52340b3208d",
   "metadata": {},
   "source": [
    "Dieses Verhalten kann schnell zu unbeabsichtigten Nebeneffekten und damit zu Fehlern führen, die sehr schwer zu finden sind. Man kann sich am einfachsten dagegen schützen, indem man \n",
    "\n",
    "   * keine veränderbaren Typen (Listen, Dictionaries, ...) als Argumente an eine Funktion übergibt\n",
    "   * oder zumindest penibel darauf achtet, dass der übergebene Wert innerhalb der \n",
    "     Funktion nicht verändert wird \n",
    "   * Alternativ kann man mit Kopien oder Typänderungen auf nicht\n",
    "     veränderbare Typen (wie Tupel) arbeiten. Dabei ist aber zu bedenken, dass durch den \n",
    "     Kopiervorgang mitunter ein erheblicher Overhead entsteht."
   ]
  },
  {
   "cell_type": "markdown",
   "id": "e8b154ba-617d-4953-88e6-f2af48ad9283",
   "metadata": {},
   "source": [
    "### Exkurs: Shallow Copy und Deep Copy\n",
    "\n",
    "Falls Sie sich mit dem Gedanken tragen, aus Sicherheitsgründen in der Funktion (oder schon vorher) für veränderbare Datentypen eine Kopie zu erzeugen, sollten Sie unbedingt die folgenden Ausführungen lesen, damit Sie keine böse Überraschung erleben."
   ]
  },
  {
   "cell_type": "markdown",
   "id": "bcf278ed-9523-4aeb-8785-2fa146c442d5",
   "metadata": {},
   "source": [
    "Bei der Erstellung einer Kopie ist zu beachten, dass bei Elementen mit veränderbarem Datentyp unerwartete Probleme auftreten können. Bleiben wir zunächst bei den unveränderbaren Typen. Im folgenden Codebeispiel erzeugen wir in der Funktion eine Kopie der Liste ``data`` und geben dieser den Namen ``ldata``:"
   ]
  },
  {
   "cell_type": "code",
   "execution_count": 45,
   "id": "2949bd87-f601-4878-91bc-095683ea7229",
   "metadata": {},
   "outputs": [
    {
     "name": "stdout",
     "output_type": "stream",
     "text": [
      "data: 137199178011072\n",
      "ldata: 137199177991360\n",
      "data[0]: 137199544640048\n",
      "ldata[0]: 137199544640048\n",
      "ldata[0] nach Änderung: 137199535523696\n",
      "data[0] nach Änderung: 137199544640048\n"
     ]
    }
   ],
   "source": [
    "def a_function(data):\n",
    "    ldata = data[:]\n",
    "    \n",
    "    print(f\"data: {id(data)}\")\n",
    "    print(f\"ldata: {id(ldata)}\")\n",
    "    print(f\"data[0]: {id(data[0])}\")\n",
    "    print(f\"ldata[0]: {id(ldata[0])}\")\n",
    "    ldata[0] = \"Z\"\n",
    "    print(f\"ldata[0] nach Änderung: {id(ldata[0])}\")\n",
    "    print(f\"data[0] nach Änderung: {id(data[0])}\")\n",
    "    \n",
    "a_function([\"A\", \"B\", \"C\"])    "
   ]
  },
  {
   "cell_type": "markdown",
   "id": "302ec0bf-42e0-4539-9a7a-a367b0fb54ee",
   "metadata": {},
   "source": [
    "Hier sehen wir, dass das erste Element der Kopie der Liste (also ``ldata[0]``) zunächst auf dasselbe Objekt zeigt wie das erste Objekt der originalen Liste ``data``. Erst wenn wir den Wert von ``ldata[0]`` ändern, ändert sich auch die Id des Objekts. Das wurde bewußt so designed, weil dadurch nicht benötigte doppelte Werte vermieden werden (\"shallow copy\"). Bei unveränderbaren Werten funktioniert das auch problemlos, weil diese ohnehin neu erzeugt werden. Wir sehen, dass die Änderung von ``ldata[0]`` den Wert von ``data[0]`` nicht verändert hat.\n",
    "\n",
    "Wir müssen aber im Hinterkopf behalten, dass das Kopieren von Containern anders funktioniert, wenn die enthaltenen Objekte zu den veränderbaren Datentypen gehören. Im folgenden Beispiel haben wir es nicht mehr mit einer Liste von Strings, sondern mit einer Liste von Listen zu tun. Wir machen in der Funktion eine Kopie der Liste und verändern in der Funktion den ersten Wert des ersten Listenelements der kopierten Liste:"
   ]
  },
  {
   "cell_type": "code",
   "execution_count": 46,
   "id": "4298a6bc-f702-491c-b2a8-8b5ce39704e0",
   "metadata": {},
   "outputs": [
    {
     "name": "stdout",
     "output_type": "stream",
     "text": [
      "data: 137199177838336\n",
      "ldata: 137199179710144\n",
      "data[0]: 137199177737984\n",
      "ldata[0]: 137199177737984\n",
      "data[0] nach Änderung: 137199177737984\n",
      "ldata[0] nach Änderung: 137199177737984\n"
     ]
    }
   ],
   "source": [
    "def a_function(data):\n",
    "    ldata = data[:]\n",
    "    \n",
    "    print(f\"data: {id(data)}\")\n",
    "    print(f\"ldata: {id(ldata)}\")\n",
    "    print(f\"data[0]: {id(data[0])}\")\n",
    "    print(f\"ldata[0]: {id(ldata[0])}\")\n",
    "    ldata[0][0] = \"Z\"\n",
    "    print(f\"data[0] nach Änderung: {id(data[0])}\")\n",
    "    print(f\"ldata[0] nach Änderung: {id(ldata[0])}\")\n",
    "    \n",
    "a_function([[\"A\", \"B\", \"C\"], [\"D\", \"E\", \"F\"]])    "
   ]
  },
  {
   "cell_type": "markdown",
   "id": "634b1fb2-e0b5-453b-a0cc-d7cec0601720",
   "metadata": {},
   "source": [
    "Hier sehen wir, dass die Änderung von ``ldata[0]`` auch ``data[0]`` verändert hat. Der Grund dafür liegt in der oben beschrieben Art und Weise, wie Python beim Kopieren von Containerobjekten vorgeht: Kopien von Werten werden erst erzeugt, wenn ein neues Objekt angelegt wird. Da bei veränderbaren Objekten kein neues Objekt erzeugt wird, wird nicht kopiert. Dadurch verändern wir nicht nur den Wert in der Kopie, sondern auch im Original! Die einzige Möglichkeit, dies zu verhindern, liegt darin, eine \"tiefe Kopie\" (deep copy) des Originalcontainers zu erzeugen. Dabei wird nicht nur der Container kopiert, sondern auch sein gesamter Inhalt. Hier ein Beispiel:"
   ]
  },
  {
   "cell_type": "code",
   "execution_count": null,
   "id": "dd4a14b0-df28-4160-94b2-d4207ff8f950",
   "metadata": {},
   "outputs": [],
   "source": [
    "import copy\n",
    "\n",
    "\n",
    "def a_function(data):\n",
    "    ldata = copy.deepcopy(data)\n",
    "    \n",
    "    print(f\"data: {id(data)}\")\n",
    "    print(f\"ldata: {id(ldata)}\")\n",
    "    print(f\"data[0]: {id(data[0])}\")\n",
    "    print(f\"ldata[0]: {id(ldata[0])}\")\n",
    "    ldata[0][0] = \"Z\"\n",
    "    print(f\"data[0] nach Änderung: {id(data[0])}\")\n",
    "    print(f\"ldata[0] nach Änderung: {id(ldata[0])}\")    \n",
    "    \n",
    "a_function([[\"A\", \"B\", \"C\"], [\"D\", \"E\", \"F\"]])   "
   ]
  },
  {
   "cell_type": "markdown",
   "id": "60adba33-be58-4329-80a1-681cf9a9b969",
   "metadata": {},
   "source": [
    "Hier haben wir zum Kopieren die ``copy.deepcopy()`` Funktion verwendet. Damit ist nicht nur der Container ``ldata`` eine Kopie von ``data``, sondern auch alle darin enthaltenen Objekte sind Kopien der Originalwerte. Wir können also nun Werte in ``ldata`` verändern, ohne dass dadurch die Werte in ``data`` tangiert werden. Es muss uns allerdings klar sein, dass eine solche tiefe Kopieraktion bei größeren Datenmengen \"teuer\" im Sinne von Rechenzeit und Speicherbedarf werden kann.\n",
    "\n",
    "Mit diesem Wissen sollte deutlicher werden, warum man auf die Übergabe von veränderbaren Typen als Funktionsargumente verzichten sollte."
   ]
  },
  {
   "cell_type": "markdown",
   "id": "6217c2b9-7da0-4dd5-95c0-32e5f1794440",
   "metadata": {},
   "source": [
    "## Vertiefende Literatur\n",
    "Ich empfehle ausdrücklich, mindestens eine der folgenden Ressourcen zur Vertiefung zu lesen!\n",
    "\n",
    "  * Python Tutorial: \n",
    "\t* Kapitel 4.6 - Defining Functions \n",
    "      (https://docs.python.org/3/tutorial/controlflow.html#defining-functions)\n",
    "    * Kapitel 4.7 - More on Defining Functions\n",
    "\t  (https://docs.python.org/3/tutorial/controlflow.html#more-on-defining-functions)\n",
    "  * Klein, Kurs: \n",
    "\t* Funktionen (https://python-kurs.eu/python3_funktionen.php)\n",
    "\t* Parameter-Übergabe (http://python-kurs.eu/python3_parameter.php)\n",
    "\t* Globale und lokale Variablen (http://python-kurs.eu/python3_global_lokal.php)\n",
    "\t* Rekursive Funktionen (http://python-kurs.eu/python3_rekursive_funktionen.php)\n",
    "\t* Flaches und tiefes Kopieren (http://python-kurs.eu/python3_deep_copy.php)\n",
    "  * Sweigart: https://automatetheboringstuff.com/2e/chapter3/  \n",
    "    \n",
    "    \n",
    "  * Klein, Buch: Kapitel 14, 15 und evtl. 13.\n",
    "  * Kofler: Kapitel 9.\n",
    "  * Inden: Kapitel 2.5.\n",
    "  * Weigend: Kapitel 6.1 bis 6.8 und 6.14.\n",
    "  * Pilgrim: Kapitel 1.2\n",
    "    (https://www.diveinto.org/python3/your-first-python-program.html#declaringfunctions)\n",
    "  * Downey: Kapitel 3\n",
    "    (http://www.greenteapress.com/thinkpython/html/thinkpython004.html)\n",
    "    \n",
    "    \n",
    "  * Video: Ned Batchelder - Facts and Myths about Python names and values - PyCon \n",
    "    2015 (https://www.youtube.com/watch?v=_AEJHKGk9ns)"
   ]
  }
 ],
 "metadata": {
  "kernelspec": {
   "display_name": "Python 3 (ipykernel)",
   "language": "python",
   "name": "python3"
  },
  "language_info": {
   "codemirror_mode": {
    "name": "ipython",
    "version": 3
   },
   "file_extension": ".py",
   "mimetype": "text/x-python",
   "name": "python",
   "nbconvert_exporter": "python",
   "pygments_lexer": "ipython3",
   "version": "3.10.12"
  }
 },
 "nbformat": 4,
 "nbformat_minor": 5
}
