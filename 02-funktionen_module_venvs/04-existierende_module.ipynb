{
 "cells": [
  {
   "cell_type": "markdown",
   "metadata": {},
   "source": [
    "# Existierende Module verwenden\n",
    "\n",
    "Ehe man damit beginnt, eine bestimmte Funktionalität zu implementieren, sollte man prüfen, ob diese Arbeit nicht bereits jemand anders gemacht hat. Solcher \"Fremdcode\" steht in Form von Modulen und Paketen zur Verfügung, die man bei Bedarf einfach in sein Programm importieren kann. Dabei müssen wir unterscheiden zwischen Paketen/Modulen\n",
    "\n",
    " * aus der Standard-Library\n",
    " * von dritter Seite\n",
    "\n",
    "## Die Standard-Library\n",
    "\n",
    "Python kommt mit *batteries included*. Damit ist gemeint ist, dass bei der Installation von Python zahlreiche Module und Pakete für unterschiedlichste Zwecke mitinstalliert werden und somit sofort verwendbar sind. Diese \"Standard Library\" ist ausführlich dokumentiert: https://docs.python.org/3/library/index.html\n",
    "Diese sehr umfangreiche Dokumentation, die als PDF mehr als 2000 Seiten umfasst, beschreibt alle Module der mitinstallierten Standard Library. Die Beschreibung ist nach Einsatzmöglichkeiten organisiert. Im Inhaltsverzeichnis finden Sie (hier nur ausschnittsweise übernommen) diese Hauptpunkte:\n",
    "\n",
    "* Built-in Constants\n",
    "* Built-in Types\n",
    "* Built-in Exceptions\n",
    "* Text Processing Services\n",
    "* Binary Data Services\n",
    "* Data Types\n",
    "* Numeric and Mathematical Modules\n",
    "* Functional Programming Modules\n",
    "* File and Directory Access\n",
    "* Data Persistence\n",
    "* Data Compression and Archiving\n",
    "* File Formats\n",
    "* Cryptographic Services\n",
    "* Generic Operating System Services\n",
    "* Concurrent Execution\n",
    "* Structured Markup Processing Tools\n",
    "* Internet Protocols and Support\n",
    "* Multimedia Services\n",
    "* Internationalization\n",
    "* Graphical User Interfaces with Tk\n",
    "* Development Tools\n",
    "* Debugging and Profiling\n",
    "* ...\n",
    "\n",
    "Unter `Numeric and Mathematical Modules` finden wir z.B. ein Module `random — Generate pseudo-random numbers`:\n",
    "https://docs.python.org/3/library/random.html, das wir uns als Beispiel ansehen können. Zunächst wird beschrieben, wofür das Modul verwendet werden kann. Darauf folgt eine Aufzählung von Konstanten (soweit vorhanden) und aller Funktionen des Moduls, häufig mit einem kleinen Beispiel. Z.B. wird die Funktion `choice()` so beschrieben:\n",
    "\n",
    "\n",
    "#### random.choice(seq)\n",
    "\n",
    "Return a random element from the non-empty sequence seq. If seq is empty, raises IndexError.\n",
    "\n"
   ]
  },
  {
   "cell_type": "markdown",
   "metadata": {},
   "source": [
    "### Ein Modul der Standard-Library verwenden\n",
    "\n",
    "Um die oben beschriebene `choice()` Funktion zu verwenden, müssen wir zuerst das Modul in unser Programm importieren. Danach steht uns die Funktion zur Verfügung:"
   ]
  },
  {
   "cell_type": "code",
   "execution_count": null,
   "metadata": {},
   "outputs": [],
   "source": [
    "import random\n",
    "\n",
    "students = ['Otto', 'Anna', 'Fritz', 'Helga', 'Berta']\n",
    "print(random.choice(students))"
   ]
  },
  {
   "cell_type": "markdown",
   "metadata": {},
   "source": [
    "`choice()` wählt also zufällig ein Element aus unserer Liste. Probieren Sie es aus, indem Sie das Code-Snippet mehrfach laufen lassen!"
   ]
  },
  {
   "cell_type": "markdown",
   "metadata": {},
   "source": [
    "Um zu prüfen, ob `choice()` verlässlich funktioniert, können wir es in einer Schleife laufen lassen und dann zählen, wie oft jedes Element gewählt wurde. Dazu verwenden wir nicht den selbst geschriebenen Counter aus dem Notebook zu den Dictionaries, sondern ein von der Standard-Library bereit gestellte Counter-Objekt. Wenn wir `choice()` 100 000 Mal aufrufen, sollte am Ende jeder der fünf Namen ca. 20 000 Mal vorkommen."
   ]
  },
  {
   "cell_type": "code",
   "execution_count": null,
   "metadata": {},
   "outputs": [],
   "source": [
    "from collections import Counter\n",
    "import random\n",
    "\n",
    "students = ['Otto', 'Anna', 'Fritz', 'Helga', 'Berta']\n",
    "\n",
    "random_students = []\n",
    "for _ in range(100000):\n",
    "    random_students.append(random.choice(students))\n",
    "\n",
    "counter = Counter(random_students)\n",
    "print(counter)"
   ]
  },
  {
   "cell_type": "markdown",
   "metadata": {},
   "source": [
    "<div class=\"alert alert-block alert-info\">    \n",
    "<b>Übung StdLib-1</b>    \n",
    "    \n",
    "Als Übung sollten Sie in der Dokumentation der Standard-Library nachsehen, welche Möglichkeiten das Counter-Objekt bietet, und die Ausgabe entsprechend anders lösen.\n",
    "</div>"
   ]
  },
  {
   "cell_type": "markdown",
   "metadata": {},
   "source": [
    "Mit der Standard-Library haben Sie ein wirklich mächtiges Werkzeug an der Hand. Sie sollten deshalb auch Zeit investieren um zumindest das Inhaltsverzeichnis und einige Modulbeschreibungen zu lesen, damit Sie einen Eindruck davon bekommen, was alles durch die Standard Library abgedeckt wird."
   ]
  },
  {
   "cell_type": "markdown",
   "metadata": {},
   "source": [
    "## Externe Bibliotheken\n",
    "\n",
    "Auch wenn die Standard Library viele Module bereit stellt, ist damit nur ein geringer Anteil dessen abgedeckt, was es an nützlichen Modulen gibt. Viele Programmierer stellen die von ihnen geschriebenen Bibliotheken zur Nachnutzung bereit. Diese können, wie wir gleich sehen werden, einfach installiert und dann wie ein Modul der Standard Library import werden. Die zentrale Ressource für solche Module von Dritten ist der **Py**thon **P**ackage **I**ndex: https://pypi.org/\n",
    "\n",
    "Auf dieser Seite können Sie nach existierenden Modulen suchen, indem Sie einfach einen oder mehrere Suchbegriffe eingeben. PyPi enthält aktuell mehr als 300 000 Projekte. Die Chance, dass Sie fündig werden, ist also relativ groß. Viele der Projekte bieten auch einen Link zur Dokumentation, die Sie sich auf jeden Falls ansehen sollten, bevor Sie eine Bibliothek verwenden. Falls Sie planen, Ihren Code weiterzugeben, sollten Sie auch einen Blick auf die Art der Lizenzierung der verwendeten Bibliotheken werfen, weil die Lizenz bestimmt, wie Sie fremden Code verwenden dürfen.\n",
    "\n",
    "### Eine Bibliothek von pypi installieren\n",
    "\n",
    "Die einfachste Möglichkeit, ein Modul von pypi zu verwenden, bietet `pip`. Dabei handelt es sich um einen Paketmanager, mit dem Sie Dinge von PyPi (ggf. auch woanders her) installieren, updaten oder deinstallieren können. Falls Sie eine Conda-basierte Python-Installation haben, funktioniert `pip` auch, allerdings wird hier empfohlen, statt pip `conda` als Paketmanager zu verwenden. Conda verwendet nich pypi, sondern seine eigene (kleinere) Paketsammlung. Falls ein Paket mit Conda nicht verfügbar ist, spricht nichts dagegen, auch hier mit `pip` zu arbeiten.\n",
    "\n",
    "Ein großer Vorteil eines Paketmanagers ist neben der sehr einfachen Möglichkeit, Module und Pakete nachzuinstallieren, dass er Abhängigkeiten erkennt und berücksichtigt. Wenn wir also mit pip (oder conda) Module A installieren, erkennt der Paketmanager, dass A selbst wieder bestimmte Bibliotheken braucht (also z.B. Modul B und Paket C) und installiert diese ebenfalls."
   ]
  },
  {
   "cell_type": "markdown",
   "metadata": {},
   "source": [
    "### Crashkurs pip\n",
    "\n",
    "Grundsätzlich ist es empfehlenswert, für solche Experimente ein *virtuelles Environment* zu verwenden, wie dies in einem eigenen Notebook beschrieben ist. Der Vorteil ist, dass `pip` dann Dinge im virtuellen Environment installiert und nicht in der systemweiten Python-Umgebung. Wir legen also zuerst ein Venv mit dem Namen `piptest` an und aktivieren dieses. **Wichtig**: Das funktioniert nicht in einem Notebook. Sie müssen die Befehle in einer Eingabeaufforderung/Shell wie cmd, Powershell oder einem Terminal eingeben.\n",
    "\n",
    "Zuerst legen wir das `venv` mit dem Namen `piptest` (in einem gleichnamigen Verzeichnis) an.\n",
    "```\n",
    "python3 -m venv piptest\n",
    "```\n",
    "Dann müssen wir das `venv` aktivieren:\n",
    "\n",
    "Unter Windows:\n",
    "\n",
    "```\n",
    "piptest\\Scripts\\activate\n",
    "```\n",
    "\n",
    "bzw. für die Powershell\n",
    "```\n",
    "piptest\\Scripts\\activate.ps1\n",
    "```\n",
    "\n",
    "Unter OSX oder Linux geben Sie das ein:\n",
    "\n",
    "```\n",
    "source piptest\\bin\\activate\n",
    "```\n",
    "\n",
    "Sie sollten jetzt sehen, dass Sie sich in einem venv befinden, weil (piptest) im Prompt anzeiegt wird.\n",
    "\n",
    "Wenn wir nun etwas mit `pip` installieren, wird es nur im Venv `piptest` installiert, und nicht im normalen Python.\n",
    "\n",
    "Installieren wir uns nun z.B. die `requests` Library, mit der wir bequem http-Anfragen im WWW machen können:\n",
    "\n",
    "```\n",
    "pip install requests\n",
    "```\n",
    "\n",
    "Vor der Installation hätten wir uns Details zum Paket anzeigen lassen können:\n",
    "\n",
    "```\n",
    "pip show requests\n",
    "```\n",
    "\n",
    "Wir könnten sogar eine bestimmte (ältere) Version installieren. \n",
    "\n",
    "```\n",
    "pip install requests==1.2.3\n",
    "```\n",
    "\n",
    "Das Pakte lässt sich updaten (d.h. auf die aktuelle Version bringen):\n",
    "\n",
    "```\n",
    "pip install --upgrade requests\n",
    "```\n",
    "\n",
    "Wenn wir es nicht mehr brauchen, können wir ein Paket auch wieder entfernen:\n",
    "\n",
    "```\n",
    "pip uninstall requests\n",
    "```"
   ]
  },
  {
   "cell_type": "markdown",
   "metadata": {},
   "source": [
    "## Vertiefende Literatur\n",
    "\n",
    "Ich empfehle ausdrücklich, mindestens eine der folgenden Ressourcen zur Vertiefung zu konsultieren!\n",
    "\n",
    "* Die Dokumentation der Standard Library: https://docs.python.org/3/library/random.html\n",
    "* Projektbeschreibungen (auf den PyPi-Seiten des jeweilgen Projekts verlinkt): https://pypi.org\n",
    "* Die Beschreibung von pip: https://pip.pypa.io/en/stable/\n",
    "* Die Beschreibung von Conda: https://anaconda.org/anaconda/repo      "
   ]
  },
  {
   "cell_type": "markdown",
   "metadata": {},
   "source": [
    "## Lizenz\n",
    "\n",
    "This notebook ist part of the course [Grundlagen der Programmierung](https://github.com/gvasold/gdp) held by [Gunter Vasold](https://online.uni-graz.at/kfu_online/wbForschungsportal.cbShowPortal?pPersonNr=51488) at Graz University 2017&thinsp;ff. \n",
    "\n",
    "<p>\n",
    "    It is licensed under <a href=\"https://creativecommons.org/licenses/by-nc-sa/4.0\">CC BY-NC-SA 4.0</a>\n",
    "</p>\n",
    "\n",
    "<table>\n",
    "    <tr>\n",
    "    <td>\n",
    "        <img style=\"height:22px\" \n",
    "             src=\"https://mirrors.creativecommons.org/presskit/icons/cc.svg?ref=chooser-v1\"/></li>\n",
    "    </td>\n",
    "    <td>\n",
    "    <img style=\"height:22px;\"\n",
    "         src=\"https://mirrors.creativecommons.org/presskit/icons/by.svg?ref=chooser-v1\" /></li>\n",
    "    </td>\n",
    "    <td>\n",
    "        <img style=\"height:22px;\"\n",
    "         src=\"https://mirrors.creativecommons.org/presskit/icons/nc.svg?ref=chooser-v1\" /></li>\n",
    "    </td>\n",
    "    <td>\n",
    "        <img style=\"height:22px;\"\n",
    "             src=\"https://mirrors.creativecommons.org/presskit/icons/sa.svg?ref=chooser-v1\" /></li>\n",
    "    </td>\n",
    "</tr>\n",
    "</table>"
   ]
  }
 ],
 "metadata": {
  "kernelspec": {
   "display_name": "Python 3 (ipykernel)",
   "language": "python",
   "name": "python3"
  },
  "language_info": {
   "codemirror_mode": {
    "name": "ipython",
    "version": 3
   },
   "file_extension": ".py",
   "mimetype": "text/x-python",
   "name": "python",
   "nbconvert_exporter": "python",
   "pygments_lexer": "ipython3",
   "version": "3.10.6"
  }
 },
 "nbformat": 4,
 "nbformat_minor": 4
}
