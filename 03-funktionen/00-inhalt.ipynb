{
 "cells": [
  {
   "cell_type": "markdown",
   "id": "c7964610-720f-44bf-9d1a-bc479cacbf59",
   "metadata": {},
   "source": [
    "# Funktionen\n",
    "\n",
    "Funktion sind wiederverwendbare Prozeduren, die uns dabei helfen, unseren Code besser zu organisieren und redundanten Code zu vermeiden. Dieses Kapitel besteht aus zwei Notebooks:\n",
    "\n",
    "  1. Eine [grundlegenden Beschreibung](./01-funktionen_basics.ipynb) was Funktionen sind und wie man diese schreibt.\n",
    "  2. Ein [Beschreibung des Gültigkeitbereichs](./02_funktionen_scopes.ipynb) von Variablen in und außerhalb von Funktionen."
   ]
  }
 ],
 "metadata": {
  "kernelspec": {
   "display_name": "Python 3 (ipykernel)",
   "language": "python",
   "name": "python3"
  },
  "language_info": {
   "codemirror_mode": {
    "name": "ipython",
    "version": 3
   },
   "file_extension": ".py",
   "mimetype": "text/x-python",
   "name": "python",
   "nbconvert_exporter": "python",
   "pygments_lexer": "ipython3",
   "version": "3.9.6"
  }
 },
 "nbformat": 4,
 "nbformat_minor": 5
}
