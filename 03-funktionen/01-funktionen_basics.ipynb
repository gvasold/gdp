{
 "cells": [
  {
   "cell_type": "markdown",
   "metadata": {},
   "source": [
    "# Funktionen: Grundlagen"
   ]
  },
  {
   "cell_type": "markdown",
   "metadata": {},
   "source": [
    "Funktionen sind Prozeduren (→ prozedurales Programmieren) oder, wenn man so will, Unterprogramme, die aus dem Hauptprogramm heraus aufgerufen werden. Die Vorteile der Verwendung von Funktionen sind:\n",
    "\n",
    "* Funktionen gliedern den Code und machen ihn so besser verständlich.\n",
    "* Funktionen sind wiederverwendbar: Eine einmal geschriebene Funktion kann in einem Programm mehrfach an unterschiedlichen Stellen aufgerufen werden. Grundsätzlich kann man eine einmal geschrieben Funktion auch in anderen Programmen \"recyclen\".\n",
    "* Funktionen verhindern Redundanz: Jede Funktionalität steht nur einmal im Programm. Das Programm wird dadurch leichter wartbar und die Fehleranfälligkeit wird reduziert.\n"
   ]
  },
  {
   "cell_type": "markdown",
   "metadata": {},
   "source": [
    "## Eine Funktion schreiben\n",
    "\n",
    "Eine Funktionsdefinition beginnt in Python mit dem Schlüsselwort `def` (Viele andere Sprachen verwenden statt dessen `function`). Nach dem `def` folgt der Name der Funktion. Dieser sollte idealerweise ein Verb sein, da eine Funktion immer etwas tut. Der Name der Funktion wird durch ein Paar runde Klammern und einen Doppelpunkt abgeschlossen. Danach folgt eingerückt der eigentliche Funktionskörper, in dem festgelegt ist, was die Funktion tut."
   ]
  },
  {
   "cell_type": "code",
   "execution_count": null,
   "metadata": {},
   "outputs": [],
   "source": [
    "def say_hello():\n",
    "    print('Hello!')"
   ]
  },
  {
   "cell_type": "markdown",
   "metadata": {},
   "source": [
    "Damit haben wir eine Funktion mit dem Namen `say_hello` geschrieben. Die Funktion wurde bei Ausführung zwar erzeugt, sie tut aber noch nichts, da wir sie noch nicht aufgerufen haben. Der Aufruf der Funktion sieht so aus:"
   ]
  },
  {
   "cell_type": "code",
   "execution_count": null,
   "metadata": {},
   "outputs": [],
   "source": [
    "say_hello()"
   ]
  },
  {
   "cell_type": "markdown",
   "metadata": {},
   "source": [
    "Sie erinnern sich an die Funktionsaufrufe, die wir bisher gemacht haben, ohne eigentlich zu wissen was wir da tun?\n",
    "\n",
    "* `print()`\n",
    "* `type()`\n",
    "* `len()`\n",
    "* ...\n",
    "\n",
    "Dabei wird jeweils eine Funktion aufgerufen, die freundlicherweise bereits jemand anders für uns geschrieben hat, und die in jeder Python-Installation zur Verfügung steht"
   ]
  },
  {
   "cell_type": "markdown",
   "metadata": {},
   "source": [
    "## Funktionsparameter\n",
    "Die gerade geschriebene Funktion `say_hello()` stellt nur die Minimalversion einer Funktion dar: Sie tut immer dasselbe. Wir können die Funktion flexibler machen, indem wir ihr bei der Definition **Parameter** zuweisen:"
   ]
  },
  {
   "cell_type": "code",
   "execution_count": null,
   "metadata": {},
   "outputs": [],
   "source": [
    "def say_hello(username):\n",
    "    print(f'Hello {username}!')"
   ]
  },
  {
   "cell_type": "markdown",
   "metadata": {},
   "source": [
    "Hier legt die Funktionsdeklaration fest, dass der Funktion beim Aufruf ein *Parameter*, also ein Wert übergeben werden muss, der dann innerhalb der Funktion als  Variable `username` verfügbar ist. Wir können diesen Wert als *Argument* beim Aufruf der Funktion übergeben:"
   ]
  },
  {
   "cell_type": "code",
   "execution_count": null,
   "metadata": {},
   "outputs": [],
   "source": [
    "say_hello('Otto')"
   ]
  },
  {
   "cell_type": "code",
   "execution_count": null,
   "metadata": {},
   "outputs": [],
   "source": [
    "say_hello('Anna')"
   ]
  },
  {
   "cell_type": "markdown",
   "metadata": {},
   "source": [
    "## Rückgabewerte\n",
    "\n",
    "### Der Default-Rückgabewert ist `None`\n",
    "\n",
    "Jede Funktion gibt beim Aufruf einen Wert zurück. Dieser zurückgegeben Wert ersetzt quasi den Funktionsaufruf."
   ]
  },
  {
   "cell_type": "code",
   "execution_count": null,
   "metadata": {},
   "outputs": [],
   "source": [
    "def square(number):\n",
    "    return number * number\n",
    "\n",
    "square(2) + square(3)  # 4 + 9"
   ]
  },
  {
   "cell_type": "markdown",
   "metadata": {},
   "source": [
    "Der Rückgabewert wird mit der ``return``  Anweisung festgelegt und sollte immer am Ende des *Funktionskörpers* stehen. Wird keine ``return``-Wert explizit festgelegt, ist der Rückgabewert immer ``None``, als der Nicht-Wert. Hier ein Beispiel, das diesen nicht explizit angegebenen Rückgabewert verdeutlicht:"
   ]
  },
  {
   "cell_type": "code",
   "execution_count": null,
   "metadata": {},
   "outputs": [],
   "source": [
    "def say_hello(username):\n",
    "    print(f'Hello {username}!')\n",
    "    \n",
    "retval = say_hello('Otto')  # Store return value to variable\n",
    "print(f'Rückgabewert: {retval}')"
   ]
  },
  {
   "cell_type": "markdown",
   "metadata": {},
   "source": [
    "### Explizite Rückgabewerte\n",
    "\n",
    "Explizite Rückgabewerte sind immer dann sinnvoll, wenn eine Funktion z.B. etwas berechnet und das Resultat der Berechnung im Hauptprogramm verwendet werden soll. Das erste Beispiel `say_hello()` hat die Begrüßung direkt in Ausgabe geschrieben. Die Funktion wäre vielseitiger nutzbar, wenn wir die generierte Begrüßung als String zurück bekämen. Dann könnten wie sie z.B. auch in eine Datei speichern oder in einem E-Mail verwenden. Machen wie die Funktion also viellseitiger. Das sollte sich auch einem einem besser passenden Funktionsnamen niederschlagen:"
   ]
  },
  {
   "cell_type": "code",
   "execution_count": null,
   "metadata": {},
   "outputs": [],
   "source": [
    "def generate_greeting(name):\n",
    "    return f\"Hello {name}!\"\n",
    "\n",
    "print(generate_greeting('Otto'))    "
   ]
  },
  {
   "cell_type": "markdown",
   "metadata": {},
   "source": [
    "#### Ein anderes Beispiel\n",
    "\n",
    "Die folgende Funktion transformatiert den übergebenen String so, dass nur das erste und letzte Zeichen zurückgegeben werden. Zwischen diesen beiden Zeichen steht der Zahl der ausgelassenen Zeichen. `abcd` wird also zu `a2d`."
   ]
  },
  {
   "cell_type": "code",
   "execution_count": null,
   "metadata": {},
   "outputs": [],
   "source": [
    "def shorten(long_str):\n",
    "    if len(long_str) > 2:  # only useful for strings with at least 3 characters\n",
    "        # return the first, last character and in between the number of left out characters\n",
    "        rv = f\"{long_str[0]}{len(long_str) - 2}{long_str[-1]}\"\n",
    "    else:\n",
    "        rv = long_str\n",
    "    return rv"
   ]
  },
  {
   "cell_type": "code",
   "execution_count": null,
   "metadata": {},
   "outputs": [],
   "source": [
    "shorten('internationalization')"
   ]
  },
  {
   "cell_type": "code",
   "execution_count": null,
   "metadata": {},
   "outputs": [],
   "source": [
    "shorten('Donaudampfschifffartskapitän')"
   ]
  },
  {
   "cell_type": "markdown",
   "metadata": {},
   "source": [
    "<div class=\"alert alert-block alert-info\">\n",
    "<b>Übung Func-1</b>\n",
    "<p>Schreiben Sie eine Funktion <tt>count_distinct_chars()</tt>, die einen Parameter <tt>text</tt> erwartet. Ermitteln Sie in der Funktion, aus wie vielen unterschiedlichen Zeichen <tt>text</tt> besteht (falls Sie nicht mehr wissen wie das geht, sehen Sie im Notebook zu sets nach) und liefern Sie diese Zahl als Ergebnis zurück</p>\n",
    "<p>Wenn Sie also <tt>count_distinc_chars('abcabc')</tt> aufrufen, sollen Sie als Ergebnis <tt>3</tt> bekommen.\n",
    "</div>    "
   ]
  },
  {
   "cell_type": "markdown",
   "metadata": {},
   "source": [
    "### Ein echtes Beispiel\n",
    "Erinnern wir uns an die Hausübung, wo wir die beliebtesten Vornamen von 1984 und 2015 verglichen haben. Dort haben wir für jedes der beiden Jahre die Namen aus der entsprechenden Datei als Liste eingelesen:"
   ]
  },
  {
   "cell_type": "code",
   "execution_count": null,
   "metadata": {},
   "outputs": [],
   "source": [
    "# we use the data from the 01-grundlagen directory:\n",
    "# so we have to move up 1 directory level (..) and then down to 01-grundlagen\n",
    "with open('../data/vornamen/vornamen_1984.txt') as fh:\n",
    "    names_84 = [n.rstrip() for n in fh.readlines()]"
   ]
  },
  {
   "cell_type": "markdown",
   "metadata": {},
   "source": [
    "Anstatt diesen Code für jede zu untersuchende Datei neu zu schreiben, können wir eine entsprechende Funktion `read_names()` programmieren und diese mehrfach aufrufen:"
   ]
  },
  {
   "cell_type": "code",
   "execution_count": null,
   "metadata": {},
   "outputs": [],
   "source": [
    "def read_names(filename):\n",
    "    with open(filename) as fh:\n",
    "        names = [n.rstrip() for n in fh.readlines()]\n",
    "    return names"
   ]
  },
  {
   "cell_type": "code",
   "execution_count": null,
   "metadata": {},
   "outputs": [],
   "source": [
    "names_84 = read_names('../data/vornamen/vornamen_1984.txt')\n",
    "names_15 = read_names('../data/vornamen/vornamen_2015.txt')"
   ]
  },
  {
   "cell_type": "markdown",
   "metadata": {},
   "source": [
    "Wenn wir davon ausgehen können, dass wir die beliebtesten Vornamen eines jeden Jahres immer im Verzeichnis `data/vornamen` finden, und die Dateinamen immer gleich aufgebaut sind (`vornamen_YYYY.txt`), können wir auch eine spezialisiertere Funktion schreiben:"
   ]
  },
  {
   "cell_type": "code",
   "execution_count": null,
   "metadata": {},
   "outputs": [],
   "source": [
    "def read_names_for_year(year):\n",
    "    filename = f\"../data/vornamen/vornamen_{year}.txt\"\n",
    "    with open(filename) as fh:\n",
    "        names = [n.rstrip() for n in fh.readlines()]\n",
    "    return names"
   ]
  },
  {
   "cell_type": "code",
   "execution_count": null,
   "metadata": {},
   "outputs": [],
   "source": [
    "names_84 = read_names_for_year(1984)\n",
    "names_15 = read_names_for_year(2015)"
   ]
  },
  {
   "cell_type": "markdown",
   "metadata": {},
   "source": [
    "### Funktionen vermeiden Redundanz\n",
    "Die zweite Lösung ist nicht so allgemein verwendbar wie die erste (weil sie voraussetzt, dass alle Vornamen-Dateien in einem bestimmten Verzeichnis liegen und einem bestimmten Namensschema folgen), bietet aber neben der kompakteren Schreibweise beim Aufruf einen weiteren Vorteil: Falls sich z.B. an der Verzeichnisstruktur etwas ändern sollte, müssen wir diese Änderung nicht bei jedem einzelnen Aufruf der Funktion nachziehen, sondern nur an genau einer Stelle: in der Funktion.\n",
    "\n",
    "Nehmen wir an, aus irgendwelchen Gründen müssten wir den Verzeichnisnamen von `data/vornamen` nach `data/popular_firstnames` ändern. Während wir im ersten Beispiel alle Aufrufe von `read_names()` suchen und dort den Verzeichnisnamen ändern müßten (was bei zwei Aufrufen jetzt nicht so aufwändig wäre ;-)), brauchen wir im zweiten Fall die Änderung nur einmal (in der Funktion) zu machen:\n"
   ]
  },
  {
   "cell_type": "code",
   "execution_count": null,
   "metadata": {},
   "outputs": [],
   "source": [
    "def read_names_for_year(year):\n",
    "    filename = f\"../data/popular_firstnames/vornamen_{year}.txt\"\n",
    "    with open(filename) as fh:\n",
    "        names = [n.rstrip() for n in fh.readlines()]\n",
    "    return names"
   ]
  },
  {
   "cell_type": "markdown",
   "metadata": {},
   "source": [
    "Hier aber auch gleich eine Warnung: Die Wiederverwendbarkeit einer Funktion hängt stark von ihrer Flexibilität (sprich: Parametrisierbarkeit) ab. Je spezialisierter eine Funktion ist, desto seltener kann sie wiederverwendet werden. Ebenso gilt das Gegenteil: Man kann eine Funktion sehr flexibel schreiben, indem man viele Parameter verwendet, aber irgendwann wird die Verwendung der Funktion dadurch so kompliziert, dass man sie nicht mehr verwenden will."
   ]
  },
  {
   "cell_type": "markdown",
   "metadata": {},
   "source": [
    "## Eine Funktion mit mehreren Parametern"
   ]
  },
  {
   "cell_type": "markdown",
   "metadata": {},
   "source": [
    "Grundsätzlich kann eine Funktion beliebig viele Parameter haben. In der Praxis sollte man sich, außer man hat sehr gute Gründe, auf maximal 3 oder 4 Parameter beschränken, weil das die Verwendbarkeit (sprich: Verständlichkeit) erleichtert. \n",
    "\n",
    "Im folgenen Beispiel berechnen wir das Gewicht von Wasser in einem Quader:"
   ]
  },
  {
   "cell_type": "code",
   "execution_count": null,
   "metadata": {},
   "outputs": [],
   "source": [
    "def compute_weight(length, width, height):\n",
    "    ccm = length * width * height\n",
    "    return ccm / 1000"
   ]
  },
  {
   "cell_type": "code",
   "execution_count": null,
   "metadata": {},
   "outputs": [],
   "source": [
    "compute_weight(80, 40, 40)"
   ]
  },
  {
   "cell_type": "markdown",
   "metadata": {},
   "source": [
    "## Exkurs: Kommentare\n",
    "Dokumentation des Source Codes ist wichtig, weil dadurch der Code erklärt und für spätere Bearbeiter:innen (und das werden häufig Sie selbst sein) leichter verständlich wird. Dazu verwendet man Kommentare. Das Kommentarzeichen in Python ist `#`. Alles was rechts neben dem Kommentarzeichen steht, wird beim Ausführen des Programms ignoriert.\n",
    "\n",
    "Man sollte allerdings nur Dinge kommentieren, die sich nicht ohnehin auf einfache Weise aus dem Code ableiten lassen:\n",
    "\n",
    "~~~\n",
    "    i += 1 # increase i by 1\n",
    "~~~\n",
    "\n",
    "ist ein gutes Beispiel für einen unnötigen Kommentar. Als Faustregel sollten Sie beherzigen: Dokumentieren Sie nicht *was* passiert, sondern *warum* es passiert.\n",
    "\n",
    "Im nächsten Beispiel dokumentieren wir, woher ein bestimmter Wert kommt. Hier macht der Kommentar mehr Sinn.\n",
    "\n",
    "~~~\n",
    "def compute_weight(length, width, height):\n",
    "    ccm = length * width * height\n",
    "    # we assume a water density of 1000 kg/cbm\n",
    "    # so we first convert ccm to cbm \n",
    "    # and multiply by density of water (1000 kg/cbm)\n",
    "    # so ccm / 1000000 * 1000 = ccm / 1000\n",
    "    return ccm / 1000\n",
    "~~~    "
   ]
  },
  {
   "cell_type": "markdown",
   "metadata": {},
   "source": [
    "## Docstrings\n",
    "Python bietet mit Docstrings eine Besonderheit. In Form solcher Docstrings wird die Dokumentation Teil der Funktion (Docstrings können auch für Module und Pakete verwendet werden, aber dazu kommen wir erst später). Ein Docstring muss unmittelbar nach der Funktionsdeklaration in Form eines Strings stehen: "
   ]
  },
  {
   "cell_type": "code",
   "execution_count": null,
   "metadata": {
    "editable": true,
    "slideshow": {
     "slide_type": ""
    },
    "tags": []
   },
   "outputs": [],
   "source": [
    "def compute_weight(length, width, height):\n",
    "    \"Return the weight of a fish tank in kg.\"\n",
    "    ccm = length * width * height\n",
    "    # we assume a water density of 1000 kg/cbm\n",
    "    # so we first convert ccm to cbm and multiply by density\n",
    "    # so ccm / 1000000 * 1000 = ccm / 1000\n",
    "    return ccm / 1000"
   ]
  },
  {
   "cell_type": "markdown",
   "metadata": {
    "editable": true,
    "slideshow": {
     "slide_type": ""
    },
    "tags": []
   },
   "source": [
    "Der Docstring in diesem Beispiel wird wirklich Teil des Funktion-Objekts und kann abgefragt werden:"
   ]
  },
  {
   "cell_type": "code",
   "execution_count": null,
   "metadata": {},
   "outputs": [],
   "source": [
    "compute_weight.__doc__"
   ]
  },
  {
   "cell_type": "markdown",
   "metadata": {},
   "source": [
    "Das macht sich beispielsweise die in Python eingebaute `help()`-Funktion zunutze, um die Beschreibung einer Funktion anzuzeigen. Aber auch integrierte Entwicklungsumgebungen (IDEs) verwenden Docstrings, um kontextsensitiv Informationen zur Verwendung einer Funktion anzuzeigen."
   ]
  },
  {
   "cell_type": "code",
   "execution_count": null,
   "metadata": {
    "editable": true,
    "slideshow": {
     "slide_type": ""
    },
    "tags": []
   },
   "outputs": [],
   "source": [
    "help(compute_weight)"
   ]
  },
  {
   "cell_type": "markdown",
   "metadata": {},
   "source": [
    "### Mehrzeilige Docstrings\n",
    "Zusätzlich zur Basisform können auch ausführlichere Docstrings geschrieben werden:"
   ]
  },
  {
   "cell_type": "code",
   "execution_count": null,
   "metadata": {},
   "outputs": [],
   "source": [
    "def compute_weight(length, width, height):\n",
    "    \"\"\"Compute weight of water (in kg) for a fish tank.\n",
    "    \n",
    "    Args:\n",
    "        length -- length in cm.\n",
    "        width -- width in cm.\n",
    "        height -- height in cm.\n",
    "    Returns:\n",
    "        Weight in kg as float.\n",
    "    \"\"\"\n",
    "    ccm = length * width * height\n",
    "    # we assume a water density of 1000 kg/cbm\n",
    "    # so we first convert ccm to cbm and multiply by density\n",
    "    # so ccm / 1000000 * 1000 = ccm / 1000\n",
    "    return ccm / 1000"
   ]
  },
  {
   "cell_type": "code",
   "execution_count": null,
   "metadata": {},
   "outputs": [],
   "source": [
    "help(compute_weight)"
   ]
  },
  {
   "cell_type": "markdown",
   "metadata": {},
   "source": [
    "<div class=\"alert alert-block alert-info\">\n",
    "<b>Übung Func-2</b>\n",
    "<p>Die Dichte des Wassers ist abhängig von der Temperatur. Diese Werte stehen im Dictionary `densities`. Schreiben Sie `compute_weight` so um, dass das Gewicht abhängig von der Temperatur berechnet wird. D.h. schreiben Sie die Funktion so um, dass zusätzlich die Temperatur übergeben wird und berechnen Sie das Gewicht unter Berücksichtigung der Temperatur.</p>\n",
    "<div>"
   ]
  },
  {
   "cell_type": "code",
   "execution_count": null,
   "metadata": {},
   "outputs": [],
   "source": [
    "# fluid densities only\n",
    "# ice has a density of 918, steam of 0.59 \n",
    "densities = {0: 999.84, 1: 999.9, 2: 999.94, 3: 999.96, 4: 999.97, 5: 999.96, \n",
    "             6: 999.94, 7: 999.9, 8: 999.85, 9: 999.78, 10: 999.7, 11: 999.6, \n",
    "             12: 999.5, 13: 999.38, 14: 999.24, 15: 999.1, 16: 998.94, \n",
    "             17: 998.77, 18: 998.59, 19: 998.4, 20: 998.2, 21: 997.99, \n",
    "             22: 997.77, 23: 997.54, 24: 997.29, 25: 997.04, 26: 996.78, \n",
    "             27: 996.51, 28: 996.23, 29: 995.94, 30: 995.64, 31: 995.34, \n",
    "             32: 995.02, 33: 994.7, 34: 994.37, 35: 994.03, 36: 993.68, \n",
    "             37: 993.32, 38: 992.96, 39: 992.59, 40: 992.21, 45: 990.21, \n",
    "             50: 988.03, 55: 985.69, 60: 983.19, 65: 980.55, 70: 977.76, \n",
    "             75: 974.84, 80: 971.79, 85: 968.61, 90: 965.3, 95: 961.88, \n",
    "             100: 958.35}\n"
   ]
  },
  {
   "cell_type": "markdown",
   "metadata": {},
   "source": [
    "<div class=\"alert alert-block alert-info\">\n",
    "<b>Übung Func-3</b>\n",
    "<p>Schreiben Sie die Funktion aus Übung Func-2 so um, dass nicht ein einzelner Temperaturwert übergeben wird, sondern zwei Werte, die als Intervall interpretiert werden sollen (von ... bis). Die Idee dahinter ist, dass man sagen kann: In diesem Raum liegt die Temperatur immer zwischen z.B. 10 und 30 Grad Celsius.</p>\n",
    "<p>Die Funktion soll das höchste Gewicht für diesen Temperaturbereich liefern.</p>\n",
    "<div>"
   ]
  },
  {
   "cell_type": "markdown",
   "metadata": {},
   "source": [
    "## Funktionen mit mehreren Rückgabewerten\n",
    "In den meisten Programmiersprachen können Funktionen nur einen Wert zurückliefern (außer natürlich, wenn die Rückgabewerte in einen Container \"verpackt\" werden). In Python können aber direkt zwei oder mehr Werte zurückgeliefert werden. Zwei oder mehr durch Komma getrennte Werte werden von Python als Tuple interpretiert -- der eigentliche Rückgabewert ist also ein Tuple. Da die Syntax von Python aber erlaubt, die einzelnen Werte eines Tuples wieder mehreren Variablen zuzuweisen (``foo, bar = (1, 2)``) kann man Funktionen, die ein Tupel zurückgeben, so verwenden, als würde die Funktion mehrere Werte zurückgeben."
   ]
  },
  {
   "cell_type": "code",
   "execution_count": null,
   "metadata": {},
   "outputs": [],
   "source": [
    "import random # we need this because we do not have a thermometer attached\n",
    "\n",
    "\n",
    "def get_temperature():\n",
    "    \"Return temperature in Celsius and Fahrenheit.\"\"\"\n",
    "    # as we do not have a thermometer attached, we return a random temperature\n",
    "    celsius = random.randint(-30, 45)\n",
    "    fahrenheit = celsius * (9/5) + 32\n",
    "    return celsius, fahrenheit\n",
    "\n",
    "celsius, fahrenheit = get_temperature()\n",
    "print(f'Aktuelle Temperatur: {celsius}° Celsius ({fahrenheit:0.2f}° Fahrenheit)')"
   ]
  },
  {
   "cell_type": "markdown",
   "metadata": {},
   "source": [
    "Ganz grundsätzlich: Das Beispiel `get_temperature()` ist ein sehr konstruiertes Beispiel,  üblicher wäre es, die Maßeinheit als Parameter zu übergeben oder zwei eigenständige Funktionen für Celsius und Fahrenheit zu haben. \n",
    "\n",
    "Sie können ja versuchsweise die Funktion entsprechend umschreiben."
   ]
  },
  {
   "cell_type": "markdown",
   "metadata": {},
   "source": [
    "##  Default Parameter\n",
    "Normalerweise muss die Reihenfolge der Argumente beim Aufruf der Funktion der Reihenfolge der Parameter in der Funktionsdeklaration entsprechen und es müssen auch alle Argumente mitgegeben werden:\n",
    "\n",
    "~~~\n",
    "def set_userdata(username, age):\n",
    "    ...\n",
    "    \n",
    "set_userdata('otto', 20)    \n",
    "~~~\n",
    "\n",
    "Werden beim Funktionsaufruf nicht alle Parameter belegt, führt das zu einem Fehler:"
   ]
  },
  {
   "cell_type": "code",
   "execution_count": null,
   "metadata": {},
   "outputs": [],
   "source": [
    "def set_userdata(username, age):\n",
    "    return username, age\n",
    "\n",
    "set_userdata('Hans')"
   ]
  },
  {
   "cell_type": "markdown",
   "metadata": {},
   "source": [
    "Falls wir einen Parameter nicht zwingend erwarten, können wir für diesen einen Defaultwert festlegen:"
   ]
  },
  {
   "cell_type": "code",
   "execution_count": null,
   "metadata": {},
   "outputs": [],
   "source": [
    "def set_userdata(username, age=None):\n",
    "    return username, age\n",
    "\n",
    "print(set_userdata('otto', 20))\n",
    "print(set_userdata('anna'))"
   ]
  },
  {
   "cell_type": "markdown",
   "metadata": {},
   "source": [
    "Wenn der Wert mitgegeben wird, wird er in der Funktion verwendet, andernfalls wird der Defaultwert verwendet. Solche vorbelegten Parameter müssen **nach** allen anderen Parametern stehen, weshalb der folgende Code-Block nicht funktioniert."
   ]
  },
  {
   "cell_type": "code",
   "execution_count": null,
   "metadata": {},
   "outputs": [],
   "source": [
    "def set_userdata(age=None, username):\n",
    "    return username, age"
   ]
  },
  {
   "cell_type": "markdown",
   "metadata": {},
   "source": [
    "Wenn mehr als ein Default Parameter definiert wird, können beim Aufruf der Funktion Keyword Arguments verwendet werden, wodurch wir uns nicht mehr an die gegebene Reihenfolge halten müssen:"
   ]
  },
  {
   "cell_type": "code",
   "execution_count": null,
   "metadata": {},
   "outputs": [],
   "source": [
    "def set_userdata(username, age=None, weight=None, height=None):\n",
    "    return username, age, weight, height\n",
    "\n",
    "print(set_userdata('Otto', height=181))"
   ]
  },
  {
   "cell_type": "code",
   "execution_count": null,
   "metadata": {},
   "outputs": [],
   "source": [
    "print(set_userdata('Otto', height=181, age=25))"
   ]
  },
  {
   "cell_type": "markdown",
   "metadata": {},
   "source": [
    "## Funktionen mit beliebig vielen Parametern\n",
    "Manchmal ist zum Zeitpunkt, an dem die Funktion geschrieben wird, noch nicht bekannt, wie viele Parameter zu erwarten sind. In diesem Fall können wir die Funktionsdeklaration so schreiben:\n",
    "\n",
    "~~~\n",
    "def my_function(*args):\n",
    "~~~\n",
    "\n",
    "In diesem Fall werden alle Werte in ein Tupel gepackt:\n"
   ]
  },
  {
   "cell_type": "code",
   "execution_count": null,
   "metadata": {},
   "outputs": [],
   "source": [
    "def my_function(*args):\n",
    "    print(type(args))\n",
    "    \n",
    "my_function(1, 2, 3)    "
   ]
  },
  {
   "cell_type": "markdown",
   "metadata": {},
   "source": [
    "Damit können wir z.B. eine Funktion zur Ermittlung des arithmetische Mittels schreiben: "
   ]
  },
  {
   "cell_type": "code",
   "execution_count": null,
   "metadata": {},
   "outputs": [],
   "source": [
    "def avg(*args):\n",
    "    return sum(args) / len(args)\n",
    "\n",
    "avg(1, 2, 3, 4)"
   ]
  },
  {
   "cell_type": "markdown",
   "metadata": {},
   "source": [
    "In der Praxis werden Sie das aber eher selten benötigen. Üblicher wäre eine Implementierung, die z.B. den Mittelwert für ein Iterable ermittelt: "
   ]
  },
  {
   "cell_type": "code",
   "execution_count": null,
   "metadata": {},
   "outputs": [],
   "source": [
    "def avg(values):\n",
    "    return sum(values) / len(values)\n",
    "\n",
    "# with list\n",
    "avg([1, 2, 3, 4])"
   ]
  },
  {
   "cell_type": "code",
   "execution_count": null,
   "metadata": {},
   "outputs": [],
   "source": [
    "# with set\n",
    "avg({1, 3, 8, 4, 2})"
   ]
  },
  {
   "cell_type": "code",
   "execution_count": null,
   "metadata": {},
   "outputs": [],
   "source": [
    "# with range\n",
    "avg(range(1, 101))"
   ]
  },
  {
   "cell_type": "markdown",
   "metadata": {},
   "source": [
    "## Exkurs: Type hints\n",
    "\n",
    "Python ist eine dynamisch typisierte Sprache. Das bedeutet, dass der Datentyp einer Variable sich während des Programmablaufs ändern kann:"
   ]
  },
  {
   "cell_type": "code",
   "execution_count": null,
   "metadata": {},
   "outputs": [],
   "source": [
    "age = 21\n",
    "print(age)\n",
    "age = \"jung\"\n",
    "print(age)"
   ]
  },
  {
   "cell_type": "markdown",
   "metadata": {},
   "source": [
    "Diese dynamische Typisierung hat viele Vorteile, kann aber auch nachteilig sein. Sehen wir uns zum Beispiel die folgende, bewusst möglichst einfach gehaltene Funktion an:"
   ]
  },
  {
   "cell_type": "code",
   "execution_count": null,
   "metadata": {},
   "outputs": [],
   "source": [
    "def join(val1, val2):\n",
    "    \"Join two strings.\"\n",
    "    return val1 + val2\n",
    "\n",
    "print(join('foo', 'bar'))\n",
    "print(join(1,2))"
   ]
  },
  {
   "cell_type": "markdown",
   "metadata": {},
   "source": [
    "Je nach Anwendungsfall kann das erwünscht sein oder auch nicht. Es kann sogar sein, dass das die Verwendung nicht vorgesehener Datentypen zu unerwarteten oder gar falschen Ergebnissen führt. \n",
    "\n",
    "Wenn die Funktion eigentlich nur für Strings gedacht ist, können wir das nur zur Laufzeit in der Funktion prüfen (und nicht wie in anderen Sprachen schon beim Kompilieren):"
   ]
  },
  {
   "cell_type": "code",
   "execution_count": null,
   "metadata": {},
   "outputs": [],
   "source": [
    "def join(val1, val2):\n",
    "    \"Join two strings.\"\n",
    "    if not isinstance(val1, str):\n",
    "        raise ValueError(\"val1 must be a string\")\n",
    "    if not isinstance(val2, str):\n",
    "        raise ValueError(\"val2 must be a string\")\n",
    "    return val1 + val2\n",
    "\n",
    "join(\"foo\", \"bar\")\n",
    "join(1, 2)"
   ]
  },
  {
   "cell_type": "markdown",
   "metadata": {},
   "source": [
    "Python bietet aber noch eine weitere Möglichkeit, den erwarteten Typ antzugeben: Type Hints"
   ]
  },
  {
   "cell_type": "code",
   "execution_count": null,
   "metadata": {},
   "outputs": [],
   "source": [
    "def join(val1: str, val2: str) -> str:\n",
    "    return val1 + val2"
   ]
  },
  {
   "cell_type": "markdown",
   "metadata": {},
   "source": [
    "Damit wird dokumentiert, dass wir erwarten, dass beide Parameter Strings sein sollen (``val1: str``, ``val2: str``). Wir haben zusätzlich angegeben, dass der Rückgabewert ein String ist (``-> str``).\n",
    "Diese Type Hints werden aber von Python selbst nicht überprüft, sie sind, wie der Name schon sagt, nur Hinweise. Die Funktion schluckt also nach wie vor z.B. auch Integer:\n"
   ]
  },
  {
   "cell_type": "code",
   "execution_count": null,
   "metadata": {},
   "outputs": [],
   "source": [
    "join(1, 2)"
   ]
  },
  {
   "attachments": {
    "9ad7cd38-08dd-4ee4-9932-b333e448a8e5.png": {
     "image/png": "[encoded data removed]"
    }
   },
   "cell_type": "markdown",
   "metadata": {},
   "source": [
    "Wozu sollte man also Type Hints verwenden, wenn Sie anscheinend keine Auswirkungen haben?\n",
    "\n",
    "  * Sie erleichtern die Nachvollziehbarkeit des Codes\n",
    "  * Es gibt Werkzeuge, die Tpe Hints auswerten und warnen, wenn unerwartete Datentypen verwendet werden. Z.B. Mypy (https://www.mypy-lang.org/),\n",
    "    Pyright (https://github.com/Microsoft/pyright), pyre (https://pyre-check.org/) oder Pytype (https://google.github.io/pytype/).\n",
    "  * Manche  IDEs wie z.B. PyCharm markieren Code, der gegen Type Hints verstößt\n",
    "    \n",
    "![pycharm.png](attachment:9ad7cd38-08dd-4ee4-9932-b333e448a8e5.png)"
   ]
  },
  {
   "cell_type": "markdown",
   "metadata": {
    "tags": []
   },
   "source": [
    "## Vertiefende Literatur\n",
    "Ich empfehle ausdrücklich, mindestens eine der folgenden Ressourcen zur Vertiefung zu lesen!\n",
    "\n",
    "  * Python Tutorial: \n",
    "\t* Kapitel 4.6 - Defining Functions \n",
    "      (https://docs.python.org/3/tutorial/controlflow.html#defining-functions)\n",
    "    * Kapitel 4.7 - More on Defining Functions\n",
    "\t  (https://docs.python.org/3/tutorial/controlflow.html#more-on-defining-functions)\n",
    "  * Klein, Kurs: \n",
    "\t* Funktionen (https://python-kurs.eu/python3_funktionen.php)\n",
    "\t* Parameter-Übergabe (http://python-kurs.eu/python3_parameter.php)\n",
    "\t* Globale und lokale Variablen (http://python-kurs.eu/python3_global_lokal.php)\n",
    "\t* Rekursive Funktionen (http://python-kurs.eu/python3_rekursive_funktionen.php)\n",
    "\t* Flaches und tiefes Kopieren (http://python-kurs.eu/python3_deep_copy.php)\n",
    "  * Sweigart: https://automatetheboringstuff.com/2e/chapter3/  \n",
    "  * https://docs.python.org/3/library/typing.html  \n",
    "    \n",
    "  * Klein, Buch: Kapitel 14, 15 und evtl. 13.\n",
    "  * Kofler: Kapitel 9.\n",
    "  * Inden: Kapitel 2.5.\n",
    "  * Weigend: Kapitel 6.1 bis 6.8 und 6.14.\n",
    "  * Pilgrim: Kapitel 1.2\n",
    "    (https://www.diveinto.org/python3/your-first-python-program.html#declaringfunctions)\n",
    "  * Downey: Kapitel 3\n",
    "    (http://www.greenteapress.com/thinkpython/html/thinkpython004.html)\n",
    "    \n",
    "    \n",
    "  * Video: Ned Batchelder - Facts and Myths about Python names and values - PyCon \n",
    "    2015 (https://www.youtube.com/watch?v=_AEJHKGk9ns)\n",
    "    "
   ]
  }
 ],
 "metadata": {
  "kernelspec": {
   "display_name": "Python 3 (ipykernel)",
   "language": "python",
   "name": "python3"
  },
  "language_info": {
   "codemirror_mode": {
    "name": "ipython",
    "version": 3
   },
   "file_extension": ".py",
   "mimetype": "text/x-python",
   "name": "python",
   "nbconvert_exporter": "python",
   "pygments_lexer": "ipython3",
   "version": "3.12.3"
  }
 },
 "nbformat": 4,
 "nbformat_minor": 4
}
