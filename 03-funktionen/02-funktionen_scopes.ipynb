{
 "cells": [
  {
   "cell_type": "markdown",
   "id": "bcb75e25-3c85-4d5b-958b-625ddde05a4b",
   "metadata": {},
   "source": [
    "# Funktionen: Gültigkeitsbereich von Variablen (Scope)"
   ]
  },
  {
   "cell_type": "markdown",
   "id": "d9ebd70c-7036-4773-b2d6-e9db0702c717",
   "metadata": {},
   "source": [
    "Bisher haben wir uns noch keine Gedanken darüber gemacht, wann und wo der Wert einer Variable sichtbar ist. In Zusammenhang mit Funktionen müssen wir uns jedoch damit beschäftigen. Vorauszuschicken ist, dass diese Sichtbarkeit in Python eher ungewöhnlich gelöst ist."
   ]
  },
  {
   "cell_type": "markdown",
   "id": "f15ef6fd-36c1-4051-b4fd-da678e95d117",
   "metadata": {},
   "source": [
    "Grundsätzlich müssen wir zwei Gültigkeitsbereiche unterscheiden:\n",
    "\n",
    "  1) den globalen Scope: globale Werte sind an allen Stellen des Programms sichtbar\n",
    "     (im Sinne von \"können überall gelesen werden\")\n",
    "  3) den lokalen Scope: Werte im lokalen Scope können nur in Teilen des Programms verwendet\n",
    "     werden: im Normalfall innerhalb der Funktion, in der sie angelegt wurden."
   ]
  },
  {
   "cell_type": "markdown",
   "id": "6b7323d4-a6dd-432b-abf8-90f2cdf6b33a",
   "metadata": {},
   "source": [
    "## Der globale Gültigkeitsbereich\n",
    "\n",
    "Wie der Name schon vermuten lässt, sind **globale Variablen** überall (außerhalb und innerhalb von Funktionen) sichtbar. Sie werden üblicherweise außerhalb einer Funktion angelegt:"
   ]
  },
  {
   "cell_type": "code",
   "execution_count": null,
   "id": "1820af2e-d1d9-439d-839b-aec57a40eacf",
   "metadata": {},
   "outputs": [],
   "source": [
    "VAT = 20\n",
    "\n",
    "def calculate_brutto(price:float) -> float:\n",
    "    \"Return price including VAT.\"\n",
    "    return price + price * VAT / 100\n",
    "\n",
    "print(calculate_brutto(7.50))"
   ]
  },
  {
   "cell_type": "markdown",
   "id": "5648c85d-9d73-4f37-aa94-5d89e5fb62a5",
   "metadata": {},
   "source": [
    "In diesem Beispiel haben wir der Funktion ``calculate_brutto()`` den Netto-Preis übergeben und den finalen Preis (inklusive Umsatzsteuer) zurückbekommen. Die Höhe der Umsatzsteuer (``VAT``: 20%) wurde im Unterschied zu `price` nicht an die Funktion übergeben, sondern außerhalb der Funktion als globale Variable angelegt. Eine solche globale Variable ist auch innerhalb der Funktion sichtbar, weshalb in der Funktion mit diesem Wert gerechnet werden kann."
   ]
  },
  {
   "cell_type": "markdown",
   "id": "18185b65-0f04-4c1e-b8d8-45c16d129c6e",
   "metadata": {},
   "source": [
    "*Kleiner Exkurs:* Viele Programmiersprachen kennen **Konstanten**. Das sind Werte, die nur einmal festgelegt und später nicht mehr verändert werden können. Python kennt dieses Konzept nicht, sondern nur Variablen. Allerdings gibt es in Python die Konvention, dass Variablen, die mit Großbuchstaben geschrieben sind, wie Konstanten behandelt werden: Man sollte also den Wert einer in Großbuchstaben geschriebenen Variable **nie** im Programmablauf verändern."
   ]
  },
  {
   "cell_type": "markdown",
   "id": "3cd14d6a-7ea8-481f-921c-256123850099",
   "metadata": {},
   "source": [
    "### Vorsicht bei globalen Variablen\n",
    "\n",
    "In der Praxis sollte man globale Variablen möglichst sparsam einsetzen. Die Gründe dafür sind:\n",
    "\n",
    "  * Verwendet man viele globale Variablen, erschweren das die Nachvollziehbarkeit des Codes\n",
    "  * Globale Variablen bergen die Gefahr von *Seiteneffekten*. Damit ist gemeint, dass man den Wert einer globalen Variable unabsichtlich verändert und\n",
    "    damit einen schwer zu findenden Fehler produziert.\n",
    "\n",
    "Die klaren Empfehlung ist daher, keine oder zumindest nur wenige globale Variablen zu verwenden und eher auf lokale Variablen mit eingeschränkten Gültigkeitsbereich zu setzen."
   ]
  },
  {
   "cell_type": "markdown",
   "id": "08320766-8306-442f-8a30-f039fabb6afd",
   "metadata": {},
   "source": [
    "### Juyter Notebooks und globale Variablen\n",
    "\n",
    "Ein unschöner Seiteneffekt von Jupyter Notebooks ist, dass hier oft unbewußt viele globale Variablen angelegt werden, weil Codezellen den Eindruck einer Strukturierung und Abgrenzung der Codeteile vermitteln. Diese Struktur hat aber keine Auswirkungen auf die Sichbarkeit von Variablen: Eine in einer Codezelle global (d.h. außerhalb einer Funktion) angelegte Variable ist, sobald die Zelle ausgeführt wurde, in allen anderen Zellen sichtbar und veränderbar. \n",
    "\n",
    "Das erhöht die Gefahr von unbeabsichtigen Seiteneffekten enorm und kann sogar dazu führen, dass die Ergebnisse eines Notebooks davon abhängen, in welcher Reihenfolge die Codezellen ausgeführt wurden. "
   ]
  },
  {
   "cell_type": "markdown",
   "id": "cab45ce6-3648-496d-a9db-54e303304d32",
   "metadata": {},
   "source": [
    "## Der lokale Gültigkeitsbereich"
   ]
  },
  {
   "cell_type": "markdown",
   "id": "d831c5a7-f3cc-41d0-873f-404e2d777acb",
   "metadata": {},
   "source": [
    "Beginnen wir mit einem kleinen Beispiel:"
   ]
  },
  {
   "cell_type": "code",
   "execution_count": null,
   "id": "aa363c6d-6dcb-4a91-9a2a-ab57652dfe69",
   "metadata": {},
   "outputs": [],
   "source": [
    "def do_something():\n",
    "    some_value = 42\n",
    "\n",
    "do_something()\n",
    "print(some_value)"
   ]
  },
  {
   "cell_type": "markdown",
   "id": "5195c394-b3cc-4078-9851-800b54d396f9",
   "metadata": {},
   "source": [
    "Hier haben wir innerhalb der Funktion eine lokale Variable `some_value` angelegt. Wenn wir versuchen, außerhalb der Funktion auf diese Variable zuzugreifen, wirft Python einen ``NameError: name 'some_value' is not defined``. Mit anderen Worten: Die lokale Variable ``some_value`` ist im globalen Scope nicht sichtbar."
   ]
  },
  {
   "cell_type": "markdown",
   "id": "cfefe1b4-b367-4784-9826-992830216311",
   "metadata": {},
   "source": [
    "Da diese Gültigkeitsbereiche jeweils eigene Namensräume bilden, können wir im lokalen und globalen Scope unterschiedliche Variablen mit gleichem Namen haben. Es können also im lokalen und globalen Raum zwei Variablen mit unterschiedlichen Werten existieren, die denselben Name tragen. Die Verwendung gleicher Namen in unterschiedlichen Gültigkeitsbereichen wird jedoch aus Gründen, auf die ich später noch eingehen werde, nicht empfohlen."
   ]
  },
  {
   "cell_type": "markdown",
   "id": "d4645d8d-a80f-4a55-bb94-dc4e318be27e",
   "metadata": {},
   "source": [
    "Im folgenden Beispiel setzen wir im globalen Scope den Wert von `some_value` auf `1`. Innerhalb der Funktion legen wir eine zweite Variable `some_value` mit dem Wert `42` an.\n",
    "Anhand der Ausgabe sehen wir, dass es sich hier wirklich um zwei unterschiedliche Variablen handelt, auch wenn sie denselben Namen tragen."
   ]
  },
  {
   "cell_type": "code",
   "execution_count": null,
   "id": "a58067f1-aefe-4a0c-b4e8-308840870d03",
   "metadata": {},
   "outputs": [],
   "source": [
    "def do_something():\n",
    "    some_value = 42\n",
    "    print(f\"some_value im lokalen Scope: {some_value}\")\n",
    "    \n",
    "some_value = 1\n",
    "do_something()\n",
    "print(f\"some_value im globalen Scope: {some_value}\")"
   ]
  },
  {
   "cell_type": "markdown",
   "id": "51130740-68f4-42f0-95e0-446f244a9158",
   "metadata": {},
   "source": [
    "### Parameterwerte\n",
    "\n",
    "Was passiert nun, wenn wir einen Wert als Funktionsparameter übergeben? Schreiben wir dazu eine einfache Funktion ``double()``, die den übergebenen Wert verdoppelt:"
   ]
  },
  {
   "cell_type": "code",
   "execution_count": null,
   "id": "b3ea5a73-3184-475a-85ac-56e195fca81e",
   "metadata": {},
   "outputs": [],
   "source": [
    "def double(val):\n",
    "    print(f\"val in der Funktion [b]: {val}\")\n",
    "    val += val\n",
    "    print(f\"val in der Funktion [c]: {val}\")\n",
    "\n",
    "val = \"Wuff\"\n",
    "print(f\"val außerhalb der Funktion [a]: {val}\")\n",
    "double(val)\n",
    "print(f\"val außerhalb der Funktion [d]: {val}\")"
   ]
  },
  {
   "cell_type": "markdown",
   "id": "7cb9fbdc-f5ba-4e5d-bd52-2667ba10bc86",
   "metadata": {},
   "source": [
    "Wir haben hier wieder denselben Variablennamen (`val`) in beiden  Gültigkeitsbereichen mit unterschiedlichen Werten. Der vedoppelte Wert wird nur bei [c] in der Funktion ausgegeben. Interessanter wird die Sache, wenn wir uns zusätzlich die ID der Werte ausgeben lassen, auf die das jeweilige ``val`` zeigt:"
   ]
  },
  {
   "cell_type": "code",
   "execution_count": null,
   "id": "66d69c16-4fa3-4e06-a484-5950e32151fc",
   "metadata": {},
   "outputs": [],
   "source": [
    "def double(val):\n",
    "    print(f\"val in der Funktion [b]: {val}; ID: {id(val)}\")\n",
    "    val += val\n",
    "    print(f\"val in der Funktion [c]: {val}; ID: {id(val)}\")\n",
    "\n",
    "val = \"Wuff\"\n",
    "print(f\"val außerhalb der Funktion [a]: {val}; ID: {id(val)}\")\n",
    "double(val)\n",
    "print(f\"val außerhalb der Funktion [d]: {val}; ID: {id(val)}\")"
   ]
  },
  {
   "cell_type": "markdown",
   "id": "7f819f33-b4cb-4446-9480-abb3e7b196b4",
   "metadata": {},
   "source": [
    "Hier sehen wir, dass das lokale ``val`` in der Funktion zunächst auf denselben Wert zeigt, wie das globale ``val``: Die beiden IDs ([a] und [b]) sind identisch. \n",
    "\n",
    "Das bedeutet, dass Python nicht eine Kopie des Wertes der globalen Variable an die Funktion übergeben hat, sondern eine Referenz auf den Wert. In Zeile 2 zeigt die lokale Variable daher auf denselben Wert wie die globale Variable. \n",
    "\n",
    "Wenn wir in Zeile 3 den Wert von ``val`` ändern, ändert sich auch die ID des Wertes ([c]). Das ist nicht weiter verwunderlich, weil Strings (so wie int, float usw.) zu den unveränderbaren Datentypen (immutable types) gehören: Wenn wir den Wert einer solchen Variable ändern, wird für den Wert ein neues Objekt (mit einer anderen ID) erzeugt.\n",
    "\n",
    "Das verhindert, dass wir in einer Funktion irrtümlich den Wert einer globalen Variable ändern und so einen unbeabsichtigten Seiteneffekt erzeugen."
   ]
  },
  {
   "cell_type": "markdown",
   "id": "4a86157c-9186-4c76-863a-dde62d24f0a2",
   "metadata": {},
   "source": [
    "### Überlagerte Variablen\n",
    "\n",
    "Im letzten Beispiel hat die lokale Variable (sprich: der Parameter der Funktion) denselben Namen wie die globale Variable. Das funktioniert technisch zwar, wird aber nicht empfohlen, weil die lokale Variable innerhalb der Funktion die globale Variable *überlagert*. Das erschwert die Nachvollziehbarkeit des Codes und macht die globale Variable innerhab der Funktion unsichtbar. Eine bessere Lösung wäre, dem Parameter einen anderen Namen zu geben:"
   ]
  },
  {
   "cell_type": "code",
   "execution_count": null,
   "id": "10cbe78f-0da2-418b-8065-3864372ff9a4",
   "metadata": {},
   "outputs": [],
   "source": [
    "def double(val_to_double):\n",
    "    print(f\"val_to_double in der Funktion [b]: {val_to_double}; ID: {id(val_to_double)}\")\n",
    "    val_to_double += val_to_double\n",
    "    print(f\"val_to_double in der Funktion [c]: {val_to_double}; ID: {id(val_to_double)}\")\n",
    "\n",
    "val = \"Wuff\"\n",
    "print(f\"val außerhalb der Funktion [a]: {val}; ID: {id(val)}\")\n",
    "double(val)\n",
    "print(f\"val außerhalb der Funktion [d]: {val}; ID: {id(val)}\")"
   ]
  },
  {
   "cell_type": "markdown",
   "id": "943ef639-01ce-4185-9dba-30c3ac15a077",
   "metadata": {},
   "source": [
    "Bei Bedarf können wir nun in der Funktion auf die globale Variable zugreifen, weil sie nicht mehr überlagert wird:"
   ]
  },
  {
   "cell_type": "code",
   "execution_count": null,
   "id": "98d0524d-e778-4e5f-aba7-c4a476f1ac77",
   "metadata": {},
   "outputs": [],
   "source": [
    "def repeat(val_to_double):\n",
    "    print(f\"val_to_double in der Funktion [b]: {val_to_repeat}; ID: {id(val_to_repeat)}\")\n",
    "    val_to_double += val_to_double\n",
    "    print(f\"val_to_double in der Funktion [c]: {val_to_double}; ID: {id(val_to_double)}\")\n",
    "    print(f\"val in der Funktion [e]: {val}; ID: {id(val)}\")\n",
    "\n",
    "val = \"Wuff\"\n",
    "print(f\"val außerhalb der Funktion [a]: {val}; ID: {id(val)}\")\n",
    "double(val)\n",
    "print(f\"val außerhalb der Funktion [d]: {val}; ID: {id(val)}\")"
   ]
  },
  {
   "cell_type": "markdown",
   "id": "2dac73b9-fe3d-49c5-a4fa-0a6778a4d4fc",
   "metadata": {},
   "source": [
    "### Parameterwerte und veränderbare Datentypen\n",
    "\n",
    "Hat der an eine Funktion übergebene Wert einen veränderbaren Datentyp (mutable type), so können wir uns nicht drauf verlassen, dass Seiteneffekte verhindert werden. Wir haben bereits einige solche Datentypen kennengelernt: Listen (list), Dictionaries (dict) oder normale Sets (im Unterschied zu FrozenSets). Dazu gehören auch die meisten Objekte von selbst geschriebenen Klassen (kommt noch später). Was passiert aber nun, wenn wir so einen Datentyp an die Funktion übergeben?"
   ]
  },
  {
   "cell_type": "code",
   "execution_count": null,
   "id": "192d65af-cfe5-472d-bda2-c7a26c3c3d00",
   "metadata": {},
   "outputs": [],
   "source": [
    "def double(val):\n",
    "    print(f\"val in der Funktion [b]: {val}; ID: {id(val)}\")\n",
    "    val += val\n",
    "    print(f\"val in der Funktion [c]: {val}; ID: {id(val)}\")\n",
    "\n",
    "val = [\"Foo\", \"Bar\"]\n",
    "print(f\"val außerhalb der Funktion [a]: {val}; ID: {id(val)}\")\n",
    "double(val)\n",
    "print(f\"val außerhalb der Funktion [d]: {val}; ID: {id(val)}\")"
   ]
  },
  {
   "cell_type": "markdown",
   "id": "54aa6655-4aa3-4dac-b765-c788b1192b0f",
   "metadata": {},
   "source": [
    "Hier fällt auf, dass die IDs in allen Ausgabezeichen gleich sind. Mit anderen Worten: Wir haben es geschafft, in der Funktion (also vermeintlich im lokalen Scope) den globalen Wert zu verändern! Das ist, wie bereits beschrieben, relativ gefährlich, weil wir so Seiteneffekte und damit schwer zu findende Fehler produzieren können. "
   ]
  },
  {
   "cell_type": "markdown",
   "id": "e8ef6e46-377c-4346-8aad-71066540b6b4",
   "metadata": {},
   "source": [
    "Wie gehen wir nun mit solchen Fällen am besten um? Wir sollten\n",
    "\n",
    "   * keine veränderbaren Typen (Listen, Dictionaries, ...) als Funktionsargumente verwendet\n",
    "   * oder zumindest darauf achtet, dass diese innerhalb der \n",
    "     Funktion nicht verändert werden \n",
    "   * Alternativ kann man mit Kopien (siehe dazu das ``copy`` Modul der Standardlibrary)\n",
    "     oder mit alternativen unveränderbaren Typen (wie Tupel) arbeiten."
   ]
  },
  {
   "cell_type": "markdown",
   "id": "930b2f8b-b96e-4bb6-9f05-e888a93670c6",
   "metadata": {},
   "source": [
    "Da ich schon mehrfach auf ein Missverständnis gestoßen bin: Die Verwendung eines anderen Parameternamens hilft hier nicht:"
   ]
  },
  {
   "cell_type": "code",
   "execution_count": null,
   "id": "7a18e772-4976-4608-99fd-6e2da1ced3fe",
   "metadata": {},
   "outputs": [],
   "source": [
    "def double(val_to_double):\n",
    "    print(f\"val_to_double in der Funktion [b]: {val_to_double}; ID: {id(val_to_double)}\")\n",
    "    val_to_double += val_to_double\n",
    "    print(f\"val_to_double in der Funktion [c]: {val_to_double}; ID: {id(val_to_double)}\")\n",
    "    \n",
    "\n",
    "val = [\"Foo\", \"Bar\"]\n",
    "print(f\"val außerhalb der Funktion [a]: {val}; ID: {id(val)}\")\n",
    "double(val)\n",
    "print(f\"val außerhalb der Funktion [d]: {val}; ID: {id(val)}\")"
   ]
  },
  {
   "cell_type": "markdown",
   "id": "e6faecf6-4afc-402a-b04f-59189e6b4558",
   "metadata": {},
   "source": [
    "Wie wir sehen, haben wir jetzt zwar im lokalen Scope einen anderen Variablennamen, der referenzierte Wert ist aber immer noch derselbe wie im globalen Scope."
   ]
  },
  {
   "cell_type": "markdown",
   "id": "3ccc7561-a2ca-4c20-a783-e943d90e147a",
   "metadata": {},
   "source": [
    "### Veränderbare Datentype als default Parameterwerte\n",
    "\n",
    "Noch gefährliche als die Übergabe von veränderbaren Datentypen an eine Funktion ist, wenn wir einen veränderbaren Datentyp als Defaultwert für einen Parameter verwenden:"
   ]
  },
  {
   "cell_type": "code",
   "execution_count": null,
   "id": "319b1ee2-86cc-4d19-b234-d23f5c29e814",
   "metadata": {},
   "outputs": [],
   "source": [
    "def do_something(val, mylist = []):\n",
    "    mylist.append(val)\n",
    "    return mylist\n",
    "    \n",
    "val1 = do_something('foo')\n",
    "print(f\"val1: {val1}\")\n",
    "\n",
    "val2 = do_something('bar')\n",
    "print(f\"val2: {val2}\")\n",
    "\n",
    "# This might be a little surprising:\n",
    "print(f\"val1: {val1}\")\n",
    "    "
   ]
  },
  {
   "cell_type": "markdown",
   "id": "b50cb34e-f0ce-441d-b8e1-a836a4671ccf",
   "metadata": {},
   "source": [
    "In diesem Beispiel wird beim ersten Aufruf der Funktion unbeabsichtigt ein Wert im globalen Scope angelegt, der bei jedem Aufruf der Funktion weiterverwendet wird. Jeder Aufruf der Funktion erweitert also die Liste um ein Element. Da es sich um einen Wert im globalen Scope handelt, werden auch bereits früher befüllte Variablen (``val1``) verändert. Damit hat man einen Fehler produziert der richtig schwer zu finden ist.\n",
    "\n",
    "Statt dessen sollte man diese Funktion so schreiben:"
   ]
  },
  {
   "cell_type": "code",
   "execution_count": null,
   "id": "fe241014-2376-4682-92c1-cadb9b39632e",
   "metadata": {},
   "outputs": [],
   "source": [
    "def do_something(val, mylist = None):\n",
    "    if mylist is None:\n",
    "        mylist = []\n",
    "    mylist.append(val)\n",
    "    return mylist\n",
    "\n",
    "val1 = do_something('foo')\n",
    "print(f\"val1: {val1}\")\n",
    "\n",
    "val2 = do_something('bar')\n",
    "print(f\"val2: {val2}\")\n",
    "\n",
    "# val1 is still on the original value\n",
    "print(f\"val1: {val1}\")"
   ]
  },
  {
   "cell_type": "markdown",
   "id": "5f566587-4c66-4c42-95a6-23e5fe5b9f1b",
   "metadata": {},
   "source": [
    "Der Unterschied ist, dass ``mylist`` hier garantiert als lokale Variable angelegt wird, wenn nicht explizit ein Wert übergeben wurde."
   ]
  },
  {
   "cell_type": "markdown",
   "id": "6217c2b9-7da0-4dd5-95c0-32e5f1794440",
   "metadata": {},
   "source": [
    "## Vertiefende Literatur\n",
    "Ich empfehle ausdrücklich, mindestens eine der folgenden Ressourcen zur Vertiefung zu lesen!\n",
    "\n",
    "  * Python Tutorial: \n",
    "\t* Kapitel 4.6 - Defining Functions \n",
    "      (https://docs.python.org/3/tutorial/controlflow.html#defining-functions)\n",
    "    * Kapitel 4.7 - More on Defining Functions\n",
    "\t  (https://docs.python.org/3/tutorial/controlflow.html#more-on-defining-functions)\n",
    "  * Klein, Kurs: \n",
    "\t* Funktionen (https://python-kurs.eu/python3_funktionen.php)\n",
    "\t* Parameter-Übergabe (http://python-kurs.eu/python3_parameter.php)\n",
    "\t* Globale und lokale Variablen (http://python-kurs.eu/python3_global_lokal.php)\n",
    "\t* Rekursive Funktionen (http://python-kurs.eu/python3_rekursive_funktionen.php)\n",
    "\t* Flaches und tiefes Kopieren (http://python-kurs.eu/python3_deep_copy.php)\n",
    "  * Sweigart: https://automatetheboringstuff.com/2e/chapter3/  \n",
    "    \n",
    "    \n",
    "  * Klein, Buch: Kapitel 14, 15 und evtl. 13.\n",
    "  * Kofler: Kapitel 9.\n",
    "  * Inden: Kapitel 2.5.\n",
    "  * Weigend: Kapitel 6.1 bis 6.8 und 6.14.\n",
    "  * Pilgrim: Kapitel 1.2\n",
    "    (https://www.diveinto.org/python3/your-first-python-program.html#declaringfunctions)\n",
    "  * Downey: Kapitel 3\n",
    "    (http://www.greenteapress.com/thinkpython/html/thinkpython004.html)\n",
    "    \n",
    "    \n",
    "  * Video: Ned Batchelder - Facts and Myths about Python names and values - PyCon \n",
    "    2015 (https://www.youtube.com/watch?v=_AEJHKGk9ns)"
   ]
  },
  {
   "cell_type": "markdown",
   "id": "9ee0b980-a69c-4001-97a0-09d2eac416d3",
   "metadata": {},
   "source": [
    "## Lizenz\n",
    "\n",
    "This notebook ist part of the course [Grundlagen der Programmierung](https://github.com/gvasold/gdp) held by [Gunter Vasold](https://online.uni-graz.at/kfu_online/wbForschungsportal.cbShowPortal?pPersonNr=51488) at Graz University 2017&thinsp;ff. \n",
    "\n",
    "<p>\n",
    "    It is licensed under <a href=\"https://creativecommons.org/licenses/by-nc-sa/4.0\">CC BY-NC-SA 4.0</a>\n",
    "</p>\n",
    "\n",
    "<table>\n",
    "    <tr>\n",
    "    <td>\n",
    "        <img style=\"height:22px\" \n",
    "             src=\"https://mirrors.creativecommons.org/presskit/icons/cc.svg?ref=chooser-v1\"/></li>\n",
    "    </td>\n",
    "    <td>\n",
    "    <img style=\"height:22px;\"\n",
    "         src=\"https://mirrors.creativecommons.org/presskit/icons/by.svg?ref=chooser-v1\" /></li>\n",
    "    </td>\n",
    "    <td>\n",
    "        <img style=\"height:22px;\"\n",
    "         src=\"https://mirrors.creativecommons.org/presskit/icons/nc.svg?ref=chooser-v1\" /></li>\n",
    "    </td>\n",
    "    <td>\n",
    "        <img style=\"height:22px;\"\n",
    "             src=\"https://mirrors.creativecommons.org/presskit/icons/sa.svg?ref=chooser-v1\" /></li>\n",
    "    </td>\n",
    "</tr>\n",
    "</table>"
   ]
  },
  {
   "cell_type": "markdown",
   "id": "98bfc1ef-36f5-46b5-864f-8c8229a2cbbd",
   "metadata": {},
   "source": [
    "---\n",
    "\n",
    "<div style=\"text-align: center; margin-top:20pt;\">  \n",
    "  <a href=\"01-funktionen_basics.ipynb\">← Vorheriges Notebook</a>  \n",
    "  <span style=\"width: 100px;display: inline-block;\"> </span>\n",
    "    <a href=\"00-inhalt.ipynb\">↑ Inhaltsübersicht</a>\n",
    "    <span style=\"width: 100px;display: inline-block;\"> </span>\n",
    "  <a href=\"../04-grundlagen-plus/01-ausnahmen.ipynb\">Nächstes Notebook →</a>  \n",
    "</div> "
   ]
  },
  {
   "cell_type": "code",
   "execution_count": null,
   "id": "00ea48a4-d4b3-4df8-b7ba-821e0057742f",
   "metadata": {},
   "outputs": [],
   "source": []
  }
 ],
 "metadata": {
  "kernelspec": {
   "display_name": "Python 3 (ipykernel)",
   "language": "python",
   "name": "python3"
  },
  "language_info": {
   "codemirror_mode": {
    "name": "ipython",
    "version": 3
   },
   "file_extension": ".py",
   "mimetype": "text/x-python",
   "name": "python",
   "nbconvert_exporter": "python",
   "pygments_lexer": "ipython3",
   "version": "3.13.7"
  }
 },
 "nbformat": 4,
 "nbformat_minor": 5
}
