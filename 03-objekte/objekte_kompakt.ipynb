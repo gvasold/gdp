{
 "cells": [
  {
   "cell_type": "markdown",
   "id": "48214e9d-7768-455f-88a0-45dbe55b6ff1",
   "metadata": {},
   "source": [
    "# Crashkurs Objektorientierung\n",
    "\n",
    "Objektorientierte Programmierung bietet ein mächtige Konzepte, das dabei helfen sollen, ein Programmcode übersichtlicher,wartbarer und wiederverwendbarer zu halten. Wir werden im aufbauenden Kurs im Sommersemester uns noch ausführlich mit objektorientierter Programmierung befassen, weshalb hier nur eine kompakte Einführung geboten wird."
   ]
  },
  {
   "cell_type": "markdown",
   "id": "3f50e8fa-35d6-4ffa-885b-62b211111bf4",
   "metadata": {},
   "source": [
    "## Objekte\n",
    "Objekte sind überall in Python: Jeder Wert, den wir anlegen, aber auch Dinge wie Funktionen sind in Python Objekte."
   ]
  },
  {
   "cell_type": "code",
   "execution_count": null,
   "id": "420075d4-dd57-46ff-92ca-49b68f172697",
   "metadata": {},
   "outputs": [],
   "source": [
    "firstname = 'Hans'"
   ]
  },
  {
   "cell_type": "markdown",
   "id": "c89ee1cc-973e-46c4-9ebc-73ae0b6c437c",
   "metadata": {},
   "source": [
    "erzeugt ein String-Objekt mit dem Wert ``Hans``. "
   ]
  },
  {
   "cell_type": "markdown",
   "id": "ee6b1e05-a5d6-4905-8b63-5560edec9554",
   "metadata": {},
   "source": [
    "Jedes Objekt hat:\n",
    "* einen Typ (hier: ``str``)\n",
    "* einen oder mehrere Werte (hier: ``Hans``)\n",
    "* Methoden (z.B. ``firstname.upper()``)\n",
    "\n",
    "Der **Typ** legt fest, welche Werte und Methoden ein Objekte ausmachen. Der Typ legt also z.B. fest dass es eine Methode ``upper()`` gibt. Da wir Datentypen bereits behandelt haben, gehe ich nicht näher darauf ein.\n",
    "\n",
    "Der oder die **Werte** legen die **Eigenschaften** (engl. **Properties**) eines Objektes fest. Im Prinzip sind das nur Daten, die im Objekt abgelegt sind und das Objekt *beschreiben*.\n",
    "\n",
    "Die **Methoden** dienen primär dazu, etwas mit den Eigenschaften eines Objekts zu tun: Diese etwas zu setzen oder auszulesen oder wie im Fall von ``upper()`` eine veränderte Form der Daten zu liefern. Allgemeiner ausgedrückt kann man sagen: Methoden tun etwas mit oder auf Basis von Eigenschaften. Sie führen beispielsweise eine Berechnung durch und liefern das Ergebnis. \n",
    "\n",
    "In Python kann über spezielle Methoden auch das Verhalten von Operatoren festgelegt werden. Man kann also selbst festlegen, was passiert wenn zwei Objekte mit dem `+` Operator verbunden werden."
   ]
  },
  {
   "cell_type": "markdown",
   "id": "5db47cd6-37b9-45ae-9f1a-ab726fe11ab8",
   "metadata": {},
   "source": [
    "## Klassen\n",
    "\n",
    "Wo kommt nun der Typ eines Objekts her? Python liefert eine große Menge von vordefinierten Datentypen mit. Wir können aber jederzeit unsere eigenen Typen erfinden. Dazu müssen wir einen Art *Bauplan* die Objekte dieses Typs festlegen. Das geschieht in Python (und vielen anderen Sprachen) über so genannte *Klassen*. \n",
    "\n",
    "Eine Klasse legt also die Eigenschaften (im Objekt angelegte Werte) und das Verhalten (d.h. Möglichkeiten der Interaktion mit Objekten; mit anderen Worten: *Methoden*) fest.\n",
    "\n",
    "Das Schreiben einer Klasse hat viel mit Datenmodellierung zu tun: Ein Objekt repräsentiert einen Ausschnitt aus der Realwelt. Die Kunst dabei ist nun, alle benötigten Eigenschaften (aber keine nicht benötigten Eigenschaften!) festzulegen.\n",
    "\n",
    "Ein konkretes Beispiel: Wenn ich eine Klasse (d.h. einen Datentyp) `Student` anlegen möchte, um Ihre Leistungen im Laufe des Semesters zu verwalten, muss ich zuerst darüber nachdenken, welche Daten für mich relevant sein werden:\n",
    "\n",
    "* Name\n",
    "* Matrikelnummer\n",
    "* Studienrichtung\n",
    "* E-Mail-Addresse\n",
    "* Einzelleistungen im Semester\n",
    "\n",
    "Nicht relevant sind hingegen Eigenschaften wie Schuhgröße oder Augenfarbe.\n",
    "\n",
    "In einem weiteren Schritt muss ich darüber nachdenken, wie solche Objekte mit ihrer Umwelt (also z.B. meinem Programm oder anderen Objekte) interagieren können sollen. Ich definiere also das *Verhalten* des Objekts. Im Beispiel könnten das Dinge sein wie\n",
    "\n",
    "* Neue Teilleistung hinzufügen\n",
    "* Gesamtnote berechnen\n",
    "* Daten (Eigenschaften) speichern (z.B. in eine Datei oder eine Datenbank)\n",
    "* Daten (Eigenschaften) laden (z.B. aus einer Datei oder einer Datenbank)\n",
    "\n",
    "Jedes \"Verhalten\" findet Ausdruck in einer Methode.\n",
    "\n",
    "All diese Dinge müssen im \"Bauplan\", also der Klassendefinition festgehalten werden:"
   ]
  },
  {
   "cell_type": "code",
   "execution_count": null,
   "id": "05ea0573-cae1-416d-958a-2ce5132f36d0",
   "metadata": {},
   "outputs": [],
   "source": [
    "class Student:\n",
    "    \n",
    "    def __init__(self, firstname, lastname, matrnr):\n",
    "        self.firstname = firstname\n",
    "        self.lastname = lastname\n",
    "        self.matrikelnummer = matrnr\n",
    "        self.grades = []"
   ]
  },
  {
   "cell_type": "markdown",
   "id": "9dded00c-0e6b-4e14-a4f0-7cdffa5e58b6",
   "metadata": {},
   "source": [
    "Ich definiere hier einen neuen Datentyp `Student`, indem ich festlege, wie später aus diesem Bauplan ein Objekt erzeugt werden soll. Dazu verwende ich die spezielle Methode ``__init__()``. Diese wird automatisch aufgerufen, nachdem ein Objekt aus dem Bauplan erzeugt worden ist. Ich verwende also diese Methode, um mein Objekt zu initialisieren. Typischerweise werden hier die Eigenschaften eines Objekts festgelegt und mit initialen Werten belegt.\n",
    "\n",
    "Methoden sind, wenn man so will, Funktionen, die an ein Objekt gebunden sind. Wie Funktionen können Methoden auch Parameter haben, deren Namen und Werte dann innerhalb der Methode zur Verfügung stehen. Im Falle der ``__init__()`` Methode legen diese Parameter fest, welche Argumente verwendet werden müssen, um ein Objekt zu erzeugen. Im konkreten Fall muss ich also 3 Werte angeben: ``firstname``, ``lastname`` und ``matrnr``.\n",
    "\n",
    "So wie Funktionen haben Methoden einen Gültigkeitsbereich (Scope). Die drei eben genannten Variablen stehen also nur innerhalb der ``__init__()`` Methode zur Verfügung. Wenn ich die übergebenen Werte als Eigenschaften an das Objekt binden will, muss ich das explizit tun. Auf das Objekt wird dabei über ``self`` referenziert. (Beachten Sie, dass ``self`` auch als erster Parameter einer Methode angegeben werden muss).\n",
    "\n",
    "```python\n",
    "self.firstname = firstname\n",
    "```\n",
    "\n",
    "Nimmt also den Wert der Variable `firstname` und setzt diesen als Wert der Objekteigenschaft des eben erzeugten Objekts.\n",
    "\n",
    "Probieren wir das einmal aus:"
   ]
  },
  {
   "cell_type": "code",
   "execution_count": null,
   "id": "0ca9a203-d42d-4d64-8df9-b7c6bd03d340",
   "metadata": {},
   "outputs": [],
   "source": [
    "hans = Student('Hans', 'Huber', '020123456')\n",
    "hans.firstname"
   ]
  },
  {
   "cell_type": "markdown",
   "id": "68b91d0f-eac2-4f67-bb44-b8b740b4faa3",
   "metadata": {},
   "source": [
    "Was ist nun konkret passiert?\n",
    "\n",
    "1. Wir haben oben (class Student ...) eine neue Klasse (und damit einen neuen Datentyp) 'Student' definiert.\n",
    "2. Basierend auf dieser Klasse haben wir ein neues Objekt vom Typ `Student` angelegt und der Variable `hans` zugewiesen\n",
    "    (Man kann auch sagen: Wir haben eine **Instanz** der Klasse `Student` erzeugt):\n",
    "\n",
    "   ```python\n",
    "   hans = Student('Hans', 'Huber', '020123456')\n",
    "   ```\n",
    "   \n",
    "   Das ist aus der Sicht von Python nichts anderes als das Anlegen einen Strings, weil\n",
    "   \n",
    "   ```python\n",
    "   firstname = \"Gunter\"\n",
    "   ```\n",
    "   \n",
    "   nichts anderes ist als die Kurzschreibweise für\n",
    "   \n",
    "   ```python\n",
    "   firstname = str(\"Gunter\")\n",
    "   ```\n",
    "   \n",
    "  "
   ]
  },
  {
   "cell_type": "markdown",
   "id": "dd7e8a5a-dca8-48bb-8a0c-ba93a3d62077",
   "metadata": {},
   "source": [
    "## Objekteigenschaften (Properties)\n",
    "\n",
    "Wir haben oben gesehen, dass wir auf bestimmte Eigenschaften eines Objekte über den definierten Eigenschaftsnamen zugreifen können. Der Eigenschaftsname wird dabei durch einen Punkt (`.`) vom Objekt getrennt angebenen:"
   ]
  },
  {
   "cell_type": "code",
   "execution_count": null,
   "id": "f23f154a-e801-437d-8caa-75dea6fe1a52",
   "metadata": {},
   "outputs": [],
   "source": [
    "hans.firstname"
   ]
  },
  {
   "cell_type": "markdown",
   "id": "e429dbe5-e00a-4f46-820a-eb38be8a7cdc",
   "metadata": {},
   "source": [
    "<div class=\"alert alert-block alert-info\">\n",
    "<b>Übung Obj-1.1</b>\n",
    "<p>\n",
    "Übung: Sehen Sie in der Klassendefinition nach, welche weiteren Eigenschaften ein Objekt vom Typ `Student` hat und lassen Sie sich diese für `hans` ausgeben!</p>\n",
    "</div>  \n"
   ]
  },
  {
   "cell_type": "markdown",
   "id": "53a6e36c-fd85-4fd7-88c7-d5e874b58cce",
   "metadata": {},
   "source": [
    "<div class=\"alert alert-block alert-info\">\n",
    "<b>Übung Obj-1.2</b>\n",
    "<p>\n",
    "Übung: Erweitern Sie die Klasse `Student` so, dass auch `email` und `studienkennzahl` als Eigenschaften angelegt werden.\n",
    "Erzeugen Sie dann ein Student-Objekt für sich selbst.</div>  \n"
   ]
  },
  {
   "cell_type": "markdown",
   "id": "c6980477-66f0-48a8-ac29-80a872c5e380",
   "metadata": {},
   "source": [
    "### Eigenschaften können überschrieben werden\n",
    "\n",
    "In Python kann man den Wert einer Objekt-Eigenschaft überschreiben:"
   ]
  },
  {
   "cell_type": "code",
   "execution_count": null,
   "id": "443ac6f2-ab84-432b-a573-c36cef4c633d",
   "metadata": {},
   "outputs": [],
   "source": [
    "hans.firstname = 'Otto'\n",
    "hans.firstname"
   ]
  },
  {
   "cell_type": "markdown",
   "id": "d912d85c-6fa9-4091-ac97-13907568e94f",
   "metadata": {},
   "source": [
    "## Methoden\n",
    "\n",
    "Wie bereits erwähnt, sind Methoden Schnittstellen des Objekts nach außen. Methoden werden also dazu verwendet, ein Objekt zu verändern (d.h. seine Eigenschaften zu verändern), oder um etwas mit den Eigenschaften zu tun.\n",
    "\n",
    "Wir haben oben in der ``__init__()`` Methode eine Eigenschaft `grades` als leere Liste angelegt. In dieser Liste sollen die Noten für die einzelnen Teilleistungen (Hausübungen, Klausuren, ...) landen. Im Prinzip könnten wir das so machen:"
   ]
  },
  {
   "cell_type": "code",
   "execution_count": null,
   "id": "89f023b4-e9f4-4796-82a9-83faea69f92b",
   "metadata": {},
   "outputs": [],
   "source": [
    "hans.grades.append(1)"
   ]
  },
  {
   "cell_type": "markdown",
   "id": "deb3eed9-d5ef-4f70-8df4-9fb004517d61",
   "metadata": {},
   "source": [
    "Wenn wir aber etwas mehr Kontrolle haben möchten (z.B. nur bestimmte Personen dürfen Noten eintragen) oder etwas einfacher: Wir lassen nur bestimmte Werte als Noten zu, dann müssen wir das mit einer Methode lösen:"
   ]
  },
  {
   "cell_type": "code",
   "execution_count": null,
   "id": "ef6d8fd8-808f-4f05-90b7-666e873c56f4",
   "metadata": {},
   "outputs": [],
   "source": [
    "class Student:\n",
    "    \n",
    "    def __init__(self, firstname, lastname, matrnr):\n",
    "        self.firstname = firstname\n",
    "        self.lastname = lastname\n",
    "        self.matrikelnummer = matrnr\n",
    "        self.grades = []\n",
    "        \n",
    "    def add_grade(self, grade):\n",
    "        if grade >= 1 and grade <= 5:\n",
    "            self.grades.append(grade)\n",
    "        else:\n",
    "            raise ValueError(f'Not a valid grade: {grade}')"
   ]
  },
  {
   "cell_type": "markdown",
   "id": "98f930f9-614f-4391-865d-4fc4b31b6902",
   "metadata": {},
   "source": [
    "Wir haben hier eine Methode ``add_grade()`` hinzugefügt, die, ehe die Note in .grades eingetragen wird, überprüft,\n",
    "ob der übergebene Wert in erlaubten Bereich liegt. Falls versucht wird, eine ungültige Note einzutragen, lösen wir eine Ausnahme aus (Ausnahmen haben wir noch nicht behandelt, wird aber noch kommen).\n",
    "\n",
    "Probieren wir es aus:"
   ]
  },
  {
   "cell_type": "code",
   "execution_count": null,
   "id": "5d0c8406-d114-4593-89d3-c5fb4b8437ea",
   "metadata": {},
   "outputs": [],
   "source": [
    "hans = Student('Hans', 'Huber', '123456789')\n",
    "print(hans.grades)\n",
    "hans.add_grade(2)\n",
    "print(hans.grades)\n",
    "hans.add_grade(1)\n",
    "hans.grades"
   ]
  },
  {
   "cell_type": "markdown",
   "id": "56aba2b1-3a3c-46e0-b0e2-f746b5b601a5",
   "metadata": {},
   "source": [
    "Wenn wird nun einen falschen Wert verwenden, wir die Ausnahme ausgelöst:"
   ]
  },
  {
   "cell_type": "code",
   "execution_count": null,
   "id": "0b9ab65c-7536-424b-8c25-686cd24d47c7",
   "metadata": {},
   "outputs": [],
   "source": [
    "hans.add_grade(9)"
   ]
  },
  {
   "cell_type": "markdown",
   "id": "c87e14c1-968c-4048-9d7d-3d282b5cdeeb",
   "metadata": {},
   "source": [
    "Eine weitere brauchbare Methode wäre ``compute_final_grade``, die aus den Teilleistungen die finale Note berechnet:"
   ]
  },
  {
   "cell_type": "code",
   "execution_count": null,
   "id": "d4362ff7-ecf8-48c8-88bb-d61783beb9b3",
   "metadata": {},
   "outputs": [],
   "source": [
    "class Student:\n",
    "    \n",
    "    def __init__(self, firstname, lastname, matrnr):\n",
    "        self.firstname = firstname\n",
    "        self.lastname = lastname\n",
    "        self.matrikelnummer = matrnr\n",
    "        self.grades = []\n",
    "        \n",
    "    def add_grade(self, grade):\n",
    "        if grade >= 1 and grade <= 5:\n",
    "            self.grades.append(grade)\n",
    "        else:\n",
    "            raise ValueError(f'Not a valid grade: {grade}')\n",
    "            \n",
    "    def compute_final_grade(self):\n",
    "        if not self.grades:\n",
    "            return 0\n",
    "        return round(sum(self.grades) / len(self.grades))"
   ]
  },
  {
   "cell_type": "markdown",
   "id": "d685d0cc-8531-4aef-837a-4ab1c457bcd0",
   "metadata": {},
   "source": [
    "Probieren wie es aus:"
   ]
  },
  {
   "cell_type": "code",
   "execution_count": null,
   "id": "5d689ddb-e92b-4946-831b-85122b16e01b",
   "metadata": {},
   "outputs": [],
   "source": [
    "hans = Student('Hans', 'Huber', '123456789')\n",
    "hans.compute_final_grade()"
   ]
  },
  {
   "cell_type": "code",
   "execution_count": null,
   "id": "99167f2f-7d2b-40d7-b130-05f9eb33cf86",
   "metadata": {},
   "outputs": [],
   "source": [
    "hans.add_grade(3)\n",
    "hans.add_grade(2)\n",
    "hans.add_grade(1)\n",
    "hans.add_grade(1)\n",
    "hans.add_grade(4)"
   ]
  },
  {
   "cell_type": "code",
   "execution_count": null,
   "id": "f7f13997-75c7-44a0-9450-7a6b2bfc69ed",
   "metadata": {},
   "outputs": [],
   "source": [
    "hans.compute_final_grade()"
   ]
  },
  {
   "cell_type": "markdown",
   "id": "306a57d1-1621-4018-99c3-d0bc7c7c28d8",
   "metadata": {},
   "source": [
    "## Weiterführende Themen\n",
    "\n",
    "Objektorientierte Programmierung hat also den Vorteil, das wir in relativ einfachen Objekten denken können, und nicht immer das gesamte Programm im Kopf haben müssen. Es bietet aber noch eine Reihe weiterer Vorteile, die hier nur kurz angerissen werden.\n",
    "\n",
    "## Vererbung\n",
    "\n",
    "Wir können jederzeit spezialisierte Klassen von bestehenden Klassen ableiten. Dieses Verfahren nennt man Vererbung, weil die abgeleitete Klasse alle Eigenschaften und Methoden der Basisklasse *erbt*.\n",
    "\n",
    "Als einfaches Beispiel könnten wir von `Student` eine spezilisierte Klasse `GuestStudent` ableiten, die sich nur dadurch von Student unterscheidet, dass Sie keine Benotung zulässt:"
   ]
  },
  {
   "cell_type": "code",
   "execution_count": null,
   "id": "3bd0a80c-64b1-4c0e-9672-588596b2f6b6",
   "metadata": {},
   "outputs": [],
   "source": [
    "class GuestStudent(Student):\n",
    "    \n",
    "    def add_grade(self, grade):\n",
    "        print('Warning: Guest students cannot be graded!')"
   ]
  },
  {
   "cell_type": "markdown",
   "id": "803c5fd7-756d-49db-b78e-08779474719d",
   "metadata": {},
   "source": [
    "Probieren wir es aus:"
   ]
  },
  {
   "cell_type": "code",
   "execution_count": null,
   "id": "e40b9ff2-43e3-4a0d-8a24-1dede0496a64",
   "metadata": {},
   "outputs": [],
   "source": [
    "franz = GuestStudent('Franz', 'Fischerr', '1234567')\n",
    "franz.add_grade(4)\n",
    "franz.compute_final_grade()"
   ]
  },
  {
   "cell_type": "markdown",
   "id": "0cf90eeb-db23-4fa9-bac5-5797847d3752",
   "metadata": {},
   "source": [
    "`GuestStudent` ist also ein `Student`, der sich nur in in einigen wenigen Eigenschaften und/oder Methoden vom Basisobjekt unterscheidet: Wenn wir add_grade() aufrufen, wird die Note nicht gesetzt, sondern eine Warnung ausgegeben.\n",
    "\n",
    "Python weiß, dass hier eine Spezialisierung vorliegt und wir können das sogar abfragen:"
   ]
  },
  {
   "cell_type": "code",
   "execution_count": null,
   "id": "107b34c7-f289-4eb5-8964-bdd67f1148cb",
   "metadata": {},
   "outputs": [],
   "source": [
    "hans = Student('Hans', 'Huber', '12345')\n",
    "franz = GuestStudent('Franz', 'Futter', '23456')\n",
    "print('Hans: ', type(hans))\n",
    "print('Franz: ', type(franz))\n",
    "\n",
    "print(f'Ist hans ein Student? -> {isinstance(hans, Student)}')\n",
    "print(f'Ist franz ein Student? -> {isinstance(franz, Student)}')"
   ]
  },
  {
   "cell_type": "markdown",
   "id": "ea653a6c-a7eb-44c4-93ca-60a7d842a885",
   "metadata": {},
   "source": [
    "Wir sehen, dass `hans` und `franz` unterschiedliche Datentypen haben. Da `GuestStudent` aber von `Student` abgeleitet ist (Spezialisierung), ist automatisch jeder `GuestStudent` automatisch auch ein `Student`."
   ]
  },
  {
   "cell_type": "markdown",
   "id": "451f893f-d555-435a-9792-905192ed959a",
   "metadata": {},
   "source": [
    "## Kapselung\n",
    "\n",
    "Unter *Kapselung* versteht man das Prinzip, dass in einem Objekt Eigenschaften anlegen kann, die man nur innerhalb des Objekts \"sehen\" bzw. verändern kann. Der einzige Zugriff auf solche Eigenschaften ist dann nur über Methoden möglich, wo der Zugriff eingeschränkt oder ganz unterbunden werden kann.\n",
    "\n",
    "Dadurch wird verhindert, dass jemand böswillig oder unabsichtlich Daten verändern kann. Im Sommerstemester werden wir uns noch ausführlicher damit beschäftigen."
   ]
  },
  {
   "cell_type": "markdown",
   "id": "9ffe1a86-1d37-4244-afab-fd70ce8c2a1c",
   "metadata": {},
   "source": [
    "## Polymorphie\n",
    "\n",
    "Unter *Vielgestaltigkeit* versteht man, das unterschiedliche Objekte gleichartige Schnittstellen (Interfaces) bereit stellen, und dadurch gleich behandelt werden können. Ein Beispiel dafür wäre, wenn wir eigene Typen für  geometrische Formen (Kreis, Rechteck, Dreieck) schreiben, und dabei darauf achten, dass jede dieser Klassen z.B. eine get_area() Methode bereit stellt, die den Flächeninhalt der Form liefert. Auch darauf werden wir in der Nachfolgeveranstaltung genauer eingehen."
   ]
  },
  {
   "cell_type": "markdown",
   "id": "97fd7095-3b32-4152-890e-76cdef3aabb7",
   "metadata": {},
   "source": [
    "## Vertiefende Literatur zu diesem Abschnitt\n",
    "\n",
    "Ich empfehle ausdrücklich, mindestens eine der folgenden Ressourcen zur Vertiefung zu lesen!\n",
    "\n",
    "* Python Tutorial: Kapitel 9.1 - 9.6\n",
    "\t(http://docs.python.org/3/tutorial/classes.html)\n",
    "* Klein, Kurs: \n",
    "\t* Klassen (http://python-kurs.eu/python3_klassen.php)\n",
    "\t* Klassen- und Instanzattribute (http://python-kurs.eu/python3_klassen_instanzattribute.php)\n",
    "\t* Vererbung: (http://python-kurs.eu/python3_vererbung.php)\n",
    "\t* Mehrfachvererbung (http://python-kurs.eu/python3_mehrfachvererbung.php)\n",
    "\n",
    "* Klein, Buch: Kapitel 19\n",
    "* Kofler, Kapitel 11.\n",
    "* Weigend: Kapitel 10\n",
    "* Briggs: Kapitel 9\n",
    "\n",
    "* Downey: \n",
    "\t* Kapitel 15: Classes and objects\n",
    "\t  (http://www.greenteapress.com/thinkpython/html/thinkpython016.html)\n",
    "\t* Kapitel 16: Classes and functions\n",
    "\t  (http://www.greenteapress.com/thinkpython/html/thinkpython017.html)\n",
    "\t* Kapitel 17: Classes and methods\n",
    "\t  (http://www.greenteapress.com/thinkpython/html/thinkpython018.html)\n",
    "\t* Kapitel 18: Inheritance\n",
    "\t  (http://www.greenteapress.com/thinkpython/html/thinkpython019.html)"
   ]
  }
 ],
 "metadata": {
  "kernelspec": {
   "display_name": "Python 3 (ipykernel)",
   "language": "python",
   "name": "python3"
  },
  "language_info": {
   "codemirror_mode": {
    "name": "ipython",
    "version": 3
   },
   "file_extension": ".py",
   "mimetype": "text/x-python",
   "name": "python",
   "nbconvert_exporter": "python",
   "pygments_lexer": "ipython3",
   "version": "3.10.6"
  }
 },
 "nbformat": 4,
 "nbformat_minor": 5
}
