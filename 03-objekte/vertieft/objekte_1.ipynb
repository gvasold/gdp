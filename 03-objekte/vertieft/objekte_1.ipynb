{
 "cells": [
  {
   "cell_type": "markdown",
   "metadata": {},
   "source": [
    "# Objektorientierte Programmierung 1: Grundlagen"
   ]
  },
  {
   "cell_type": "markdown",
   "metadata": {},
   "source": [
    "## Was ist objektorientierte Programmierung?\n",
    "Die Grundidee objektorientierter Programmierung ist, die im Programm\n",
    "benötigten Funktionen und Daten in logisch zusammengehörige Einheiten\n",
    "als Objekte zusammenzufassen um damit die Komplexität des Programms zu\n",
    "reduzieren. Wir haben dann, wenn man so will, nicht mehr ein großes und\n",
    "komplexes Programm, sondern viele kleine, überschaubare und miteinander\n",
    "interagierende Programme (Objekte).\n",
    "\n",
    "Ein Objekt ist also ein \"Ding\", das\n",
    "\n",
    "1. in der Lage ist, Daten zu halten (speichern), die dieses \"Ding\" beschreiben\n",
    "  (Eigenschaften)\n",
    "2. Funktionalität (\"Methoden\") bereitstellt, über die\n",
    "\n",
    "    * die eigenen Eigenschaften (Daten) verändert werden\n",
    "    * das Ding mit anderen \"Dingen\" (Objekten) interagieren kann\n",
    "\n",
    "Objekte können konkrete Entitäten, wie etwa einen Gegenstand oder eine\n",
    "Person beschreiben, aber auch abstrakte Dinge, wie etwa einen Vorgang oder\n",
    "ein Konzept.\n",
    "\n",
    "Wesentlich ist, dass Objekte in sich geschlossene Einheiten aus Daten und\n",
    "Funktionen darstellen, die nach außen nur wenige, klar definierte Schnittstellen\n",
    "anbieten - die Außenwelt braucht somit nicht zu verstehen, wie ein Objekt intern funktioniert,\n",
    "es braucht nur die nach außen angebotenen Schnittstellen zu verstehen."
   ]
  },
  {
   "cell_type": "markdown",
   "metadata": {},
   "source": [
    "## Ein Beispiel\n",
    "\n",
    "Das Konzept der Objektorientierung lässt sich anhand eines konkreten Beispiels\n",
    "am einfachsten verstehen.\n",
    "\n",
    "Wenn wir ein Bibliotheksverwaltungsprogramm schreiben, können wir\n",
    "die Bücher z.B. als Liste von Tupeln verwalten. Jeder Listeneintrag\n",
    "repräsentiert ein Buch und jedes Tupel die zur Beschreibung dieses Buches\n",
    "benötigten Daten wie `Autor`, `Titel`, `Erscheinungsjahr` usw. "
   ]
  },
  {
   "cell_type": "code",
   "execution_count": null,
   "metadata": {},
   "outputs": [],
   "source": [
    "books = [\n",
    "    (\"Klein, Bernd\", \"Einführung in Python\", \"Hanser\", \"3\", 2017),\n",
    "    (\"Sweigart, Al\", \"Automate the Boring Stuff with Python\", \"No Starch Press\", \"2\", 2019),\n",
    "    (\"Weigend, Michael\", \"Python 3\", \"mitp\", \"8., überarb. Aufl.\", 2019),\n",
    "    (\"Downey, Allen B.\", \"Programmieren lernen mit Python\", \"O'Reilly\", \"1\", 2014)\n",
    "]"
   ]
  },
  {
   "cell_type": "markdown",
   "metadata": {},
   "source": [
    "Auch die\n",
    "Bibliotheksbenutzer können wir auf diese Art in einer zweiten Liste verwalten. Statt Tupeln verwenden wir hier\n",
    "(nur beispielhaft) Dictionaries:"
   ]
  },
  {
   "cell_type": "code",
   "execution_count": null,
   "metadata": {},
   "outputs": [],
   "source": [
    "users = [\n",
    "    {'firstname': 'Anton',\n",
    "     'lastname': 'Huber',\n",
    "     'address': 'Maygasse 12, 8010 Graz',\n",
    "     'status': 'Student',\n",
    "     'borrowed_books': []\n",
    "    },\n",
    "    {'firstname': 'Anna',\n",
    "     'lastname': 'Schmidt',\n",
    "     'address': 'Rosenberg 5, 8010 Graz',\n",
    "     'status': 'Professor',\n",
    "     'borrowed_books': []\n",
    "    },\n",
    "]"
   ]
  },
  {
   "cell_type": "markdown",
   "metadata": {},
   "source": [
    "Für den Fall, dass ein Benutzer ein Buch entlehnen will, könnten wir eine\n",
    "Funktion `entlehne(benutzer, buch)` schreiben. Die Sache scheint einfach.\n"
   ]
  },
  {
   "cell_type": "code",
   "execution_count": null,
   "metadata": {},
   "outputs": [],
   "source": [
    "def entlehne(user, book):\n",
    "    user[\"borrowed_books\"].append(book)"
   ]
  },
  {
   "cell_type": "markdown",
   "metadata": {},
   "source": [
    "Die Sache kann schnell komplex werden, wenn\n",
    "wir überprüfen müssen, ob ein Buch entlehnbar ist, welche maximale Entlehndauer ein Benutzer hat, wie viele Bücher er gleichzeitig entlehnen darf usw."
   ]
  },
  {
   "cell_type": "markdown",
   "metadata": {},
   "source": [
    "Die objektorientierte Programmierung versucht diese Komplexität zu vermeiden, indem sie Objekte als weitgehend eigenständige Entitäten einführt. Jedes Objekt stellt dabei eine Einheit dar, die in der Lage ist, seine Eigenschaften (Name, Adresse, Status, entlehnte Bücher) selbst zu verwalten. \n",
    "\n",
    "Darüber hinaus bieten Objekte definierte Schnittstellen, über die (und nur über die!) die Außenwelt mit dem Objekt interagieren kann. Ein Bibliotheksbenutzerobjekt könnte etwas diese Methoden haben:\n",
    "\n",
    "* borrow_book(book)\n",
    "* return_book(book)\n",
    "* get_borrowed_books()\n",
    "\n",
    "usw.\n",
    "\n",
    "Dabei könnte ein Objekt \"User\" die Methode (Prozedur) ``borrow_book(book)`` haben, in der 1) überprüft wird, ob der Benutzer noch Bücher entlehnen darf (er könnte ja bereits sein Entlehnmaximum errreicht haben oder wegen nicht bezahlter Gebühren gesperrt sein) und 2) das Buch als entlehnt eingetragen wird. Das Objekt kümmert sich in der Folge auch um Dinge wie Entlehnfristen, Mahnungen usw. Der Vorteil liegt darin, dass die Programmiererin, die Code schreibt, bei dem ein Buch entlehnt wird, sich keinerlei Gedanken über diese Dinge machen muss. Sie verwendet einfach die Methode borrow_book(book); das Benutzer-Objekt weiß selbst, ob und wie die Entlehnung durchzuführen ist. "
   ]
  },
  {
   "cell_type": "markdown",
   "metadata": {},
   "source": [
    "## Klassen und Objekte\n",
    "Die meisten objektorientierten Programmiersprachen unterscheiden zwischen **Klassen**, die quasi die Vorlage zur Erstellung eines Objekts darstellen und für die Erzeugung von Objekten zuständig sind, und den eigentlichen **Objekten**, mit denen gearbeitet wird. Diese Unterscheidung trifft auch Python. Das bedeutet, dass wir, ehe wir ein Objekt erzeugen können, zuerst eine entsprechende Klasse brauchen. Python bringt von sich aus eine Menge von Klassen mit, die wir bisher schon verwendet haben, ohne groß darüber nachzudenken."
   ]
  },
  {
   "cell_type": "code",
   "execution_count": null,
   "metadata": {},
   "outputs": [],
   "source": [
    "distinct_names = set()"
   ]
  },
  {
   "cell_type": "markdown",
   "metadata": {},
   "source": [
    "erzeugt ein (leeres) Set-Objekt, genau so wie "
   ]
  },
  {
   "cell_type": "code",
   "execution_count": null,
   "metadata": {},
   "outputs": [],
   "source": [
    "names = [] "
   ]
  },
  {
   "cell_type": "markdown",
   "metadata": {},
   "source": [
    "nichts anderes ist als die Kurzschreibweise für "
   ]
  },
  {
   "cell_type": "code",
   "execution_count": null,
   "metadata": {},
   "outputs": [],
   "source": [
    "names = list()"
   ]
  },
  {
   "cell_type": "markdown",
   "metadata": {},
   "source": [
    "wodurch eine neues `list`-Objekt erzeugt wird."
   ]
  },
  {
   "cell_type": "code",
   "execution_count": null,
   "metadata": {},
   "outputs": [],
   "source": [
    "type(names)"
   ]
  },
  {
   "cell_type": "markdown",
   "metadata": {},
   "source": [
    "**Klassen definieren also Datentypen**."
   ]
  },
  {
   "cell_type": "markdown",
   "metadata": {},
   "source": [
    "## Eigene Klassen\n",
    "Eine eigene Klasse zu schreiben ist grundsätzlich einfach:"
   ]
  },
  {
   "cell_type": "code",
   "execution_count": null,
   "metadata": {},
   "outputs": [],
   "source": [
    "class Student:\n",
    "    pass"
   ]
  },
  {
   "cell_type": "markdown",
   "metadata": {},
   "source": [
    "Sobald wir die Klasse definiert haben, können wir daraus neue Objekte erzeugen:"
   ]
  },
  {
   "cell_type": "code",
   "execution_count": null,
   "metadata": {},
   "outputs": [],
   "source": [
    "hans = Student()\n",
    "anna = Student()"
   ]
  },
  {
   "cell_type": "code",
   "execution_count": null,
   "metadata": {},
   "outputs": [],
   "source": [
    "hans"
   ]
  },
  {
   "cell_type": "code",
   "execution_count": null,
   "metadata": {},
   "outputs": [],
   "source": [
    "type(hans)"
   ]
  },
  {
   "cell_type": "markdown",
   "metadata": {},
   "source": [
    "Wir haben also wirklich einen neuen Datentyp `Student` geschaffen."
   ]
  },
  {
   "cell_type": "markdown",
   "metadata": {},
   "source": [
    "## Eigenschaften eines Objekts\n",
    "Wir wir bereits gehört haben, kombiniert ein Objekt Eigenschaften und Methoden. Beginnen wir mit den Eingenschaften.\n",
    "In Python (Achtung: das gilt nicht für alle objektorientieren Sprachen!), können wir einem bereits erzeugten Objekt nachträglich Eigenschaften zuweisen, die in der Klasse nicht vorgesehen sind:"
   ]
  },
  {
   "cell_type": "code",
   "execution_count": null,
   "metadata": {},
   "outputs": [],
   "source": [
    "hans.firstname = 'Hans'\n",
    "anna.lastname = 'Huber'\n",
    "hans.firstname"
   ]
  },
  {
   "cell_type": "code",
   "execution_count": null,
   "metadata": {},
   "outputs": [],
   "source": [
    "anna.firstname"
   ]
  },
  {
   "cell_type": "markdown",
   "metadata": {},
   "source": [
    "Hier sehen wir bereits, dass das freie Zuweisen von Eigenschaften an existierende Objekte nicht ganz unproblematisch ist, weil wir dadurch Objekte vom selben Typ erhalten, die u.U. unterschiedliche Eigenschaften tragen, was das Konzept eines Typs sabotiert. Wir sollten deshalb besser die Klasse nutzen, um alle benötigten Eigenschaften festzulegen."
   ]
  },
  {
   "cell_type": "markdown",
   "metadata": {},
   "source": [
    "### Die __init__() Methode"
   ]
  },
  {
   "cell_type": "markdown",
   "metadata": {},
   "source": [
    "`__init__()` ist eine spezielle Methode, die, wenn sie in einer Klasse definiert ist, \n",
    "automatisch unmittelbar nach dem Erzeugen des Objekts aufgerufen wird. Manche nennen `__init__()` den **Konstruktur** der Klasse, was aber technisch gesehen in Python nicht ganz korrekt ist. (Ein Konstruktur erzeugt ein Objekt aus einer Klasse). Wir können uns aber bis auf weiteres `__init__()` als eine Art Konstruktor vorstellen."
   ]
  },
  {
   "cell_type": "code",
   "execution_count": null,
   "metadata": {},
   "outputs": [],
   "source": [
    "class Student:\n",
    "    \n",
    "    def __init__(self, firstname, lastname):\n",
    "        self.firstname = firstname\n",
    "        self.lastname = lastname"
   ]
  },
  {
   "cell_type": "markdown",
   "metadata": {},
   "source": [
    "Innerhalb der `__init__()`-Methode weisen wir die übergebenen Parameterwerte dem Objekt (referenziert über den Namen `self`) als Eigenschaften zu. Damit werden die Werte Eigenschaftswerte des Objekts."
   ]
  },
  {
   "cell_type": "code",
   "execution_count": null,
   "metadata": {},
   "outputs": [],
   "source": [
    "hans = Student('Hans', 'Meier')"
   ]
  },
  {
   "cell_type": "code",
   "execution_count": null,
   "metadata": {},
   "outputs": [],
   "source": [
    "hans.firstname"
   ]
  },
  {
   "cell_type": "code",
   "execution_count": null,
   "metadata": {},
   "outputs": [],
   "source": [
    "hans.lastname"
   ]
  },
  {
   "cell_type": "markdown",
   "metadata": {},
   "source": [
    "Wenn wir eine Klasse mit einer `__init__()`-Methode ausstatten, **muss** ein Objekt mit den entsprechenden Argumenten erzeugt werden. Das ist der Grund warum der folgende Code nicht mehr funktioniert:"
   ]
  },
  {
   "cell_type": "code",
   "execution_count": null,
   "metadata": {},
   "outputs": [],
   "source": [
    "anna = Student()"
   ]
  },
  {
   "cell_type": "markdown",
   "metadata": {},
   "source": [
    "Parameternamen müssen nicht zwingen dieselbe Namen haben wie die Objekteigenschaften (letzendlich handelt es sich dabei um Variablen). Die `Student`-Klasse würde auch so funktionieren:"
   ]
  },
  {
   "cell_type": "code",
   "execution_count": null,
   "metadata": {},
   "outputs": [],
   "source": [
    "class Student:\n",
    "    \n",
    "    def __init__(self, forename, surname):\n",
    "        self.firstname = forename\n",
    "        self.lastname = surname\n",
    "        \n",
    "hans = Student('Hans', 'Meier')\n",
    "print(hans.firstname, hans.lastname)"
   ]
  },
  {
   "cell_type": "markdown",
   "metadata": {},
   "source": [
    "Da aber die Methode `__init__()` nichts anderes ist, als eine dem Objekt zugewiesene  Funktion, gilt hier alles, was wir bereits bei Funktionen gelernt haben. Man kann also z.B. Defaultwerte definieren:"
   ]
  },
  {
   "cell_type": "code",
   "execution_count": null,
   "metadata": {},
   "outputs": [],
   "source": [
    "import random\n",
    "\n",
    "class Student:\n",
    "    \n",
    "    def __init__(self, firstname, lastname, matrikelnummer=None):\n",
    "        self.firstname = firstname\n",
    "        self.lastname = lastname\n",
    "        # if matrikelnummer is None, generate it randomly\n",
    "        if matrikelnummer is None:\n",
    "            self.matrikelnummer = '02020{}'.format(random.randint(100000, 999999))\n",
    "        else:\n",
    "            self.matrikelnummer = matrikelnummer"
   ]
  },
  {
   "cell_type": "code",
   "execution_count": null,
   "metadata": {},
   "outputs": [],
   "source": [
    "hans = Student('Hans', 'Meier', '017542345')\n",
    "anna = Student('Anna', 'Huber')"
   ]
  },
  {
   "cell_type": "code",
   "execution_count": null,
   "metadata": {},
   "outputs": [],
   "source": [
    "hans.matrikelnummer"
   ]
  },
  {
   "cell_type": "code",
   "execution_count": null,
   "metadata": {},
   "outputs": [],
   "source": [
    "anna.matrikelnummer"
   ]
  },
  {
   "cell_type": "markdown",
   "metadata": {},
   "source": [
    "*Hinweis: Diese Beispiel ist bewußt sehr einfach gehalten. Im richtigen Leben müßte man die zufällig generierte Nummer zumindest noch darauf testen, dass sie noch nicht vergeben wurde.*"
   ]
  },
  {
   "cell_type": "markdown",
   "metadata": {},
   "source": [
    "## Methoden"
   ]
  },
  {
   "cell_type": "markdown",
   "metadata": {},
   "source": [
    "Ich habe oben behauptet, dass Methoden nichts anderes sind als Funktionen, die einem Objekt zugewiesen und nur im Kontext des Objekts verfügbar sind."
   ]
  },
  {
   "cell_type": "code",
   "execution_count": null,
   "metadata": {},
   "outputs": [],
   "source": [
    "class Rectangle:\n",
    "    \n",
    "    def __init__(self, length, width):\n",
    "        self.length = length\n",
    "        self.width = width\n",
    "        \n",
    "    def get_area(self):\n",
    "        return self.length * self.width"
   ]
  },
  {
   "cell_type": "markdown",
   "metadata": {},
   "source": [
    "`get_area()` ist eine Funktion, die nicht allgemein überall im Programm (d.h. im globalen Scope) verfügbar ist, "
   ]
  },
  {
   "cell_type": "code",
   "execution_count": null,
   "metadata": {},
   "outputs": [],
   "source": [
    "get_area()"
   ]
  },
  {
   "cell_type": "markdown",
   "metadata": {},
   "source": [
    "sondern nur im Kontext eines Objekts dieser Klasse:"
   ]
  },
  {
   "cell_type": "code",
   "execution_count": null,
   "metadata": {},
   "outputs": [],
   "source": [
    "a_rect = Rectangle(80, 50)\n",
    "a_rect.get_area()"
   ]
  },
  {
   "cell_type": "markdown",
   "metadata": {},
   "source": [
    "`get_area()` verwendet die Eigenschaften `length` und `width` des jeweiligen Objekts (die also auch im Objekt gespeichert sind), um daraus die Fläche des Objekts zu berechnen.\n"
   ]
  },
  {
   "cell_type": "markdown",
   "metadata": {},
   "source": [
    "### self\n",
    "Sie haben sich vermutlich schon gefragt, was es mit diesem `self` auf sich hat, das als erster Parameter einer jeden Methode definiert wird, das aber anscheinend beim Aufruf der Methode nicht angegeben wird:\n",
    "\n",
    "~~~\n",
    "def get_area(self):\n",
    "    return self.length * self.width\n",
    "    \n",
    "a_rect = Rectangle(80, 50)\n",
    "a_rect.get_area()\n",
    "~~~"
   ]
  },
  {
   "cell_type": "markdown",
   "metadata": {},
   "source": [
    "`self` ist nichts anderes als die Referenz auf das jeweilige Objekt. In der Methodendefinition bedeutet das `self`, dass die Methode dem jeweiligen Objekt zuzuweisen ist, so wie bei den Eigenschaften  (`self.length`, `self.width`) ein Wert über die `self`-Referenz dem jeweilige Objekt zugewiesen wird."
   ]
  },
  {
   "cell_type": "markdown",
   "metadata": {},
   "source": [
    "<div class=\"alert alert-block alert-info\">\n",
    "<b>Übung Obj-1.1</b>\n",
    "<p>\n",
    "    Schreiben Sie ein Objekt <tt>Book</tt>. Überlegen Sie, welche Eigenschaften gebraucht werden und definieren Sie diese entsprechend. Schreiben Sie auch eine Methode <tt>get_citation</tt>, die die Eigenschaften des Buchs in einer Form zurückgibt, wie sie diese z.B. in einer Fußnote verwenden würden.\n",
    "<p>\n",
    "<p>Erzeugen Sie dann einige <tt>Book</tt>-Objekte aus dieser Klasse.\n",
    "</div>\n"
   ]
  },
  {
   "cell_type": "markdown",
   "metadata": {},
   "source": [
    "<div class=\"alert alert-block alert-info\">\n",
    "<b>Übung Obj-1.2</b>\n",
    "<p>\n",
    "    Schreiben Sie ein Objekt <tt>Page</tt>, das eine einzelne Seite im Buch representiert. Jedes <tt>Page</tt>-Objekt soll die Seitenzahl und den Text der Seite enthalten.\n",
    "</p>\n",
    "<p>Erweitern Sie das <tt>Book</tt>-Objekt aus der letzten Übung so, dass dort die Seiten in der korrekten Reihenfolge gespeichert werden.\n",
    "<p>\n",
    "<p>Fügen Sie dem Book-Objekt eine Methode <tt>get_text()</tt> hinzu, der den Text aller Seiten des Buches als einen String zurückliefert.\n",
    "</div>"
   ]
  },
  {
   "cell_type": "markdown",
   "metadata": {},
   "source": [
    "## Vertiefende Literatur zu diesem Abschnitt\n",
    "\n",
    "Ich empfehle ausdrücklich, mindestens eine der folgenden Ressourcen zur Vertiefung zu lesen!\n",
    "\n",
    "* Python Tutorial: Kapitel 9.1 - 9.6\n",
    "\t(http://docs.python.org/3/tutorial/classes.html)\n",
    "* Klein, Kurs: \n",
    "\t* Klassen (http://python-kurs.eu/python3_klassen.php)\n",
    "\t* Klassen- und Instanzattribute (http://python-kurs.eu/python3_klassen_instanzattribute.php)\n",
    "\t* Vererbung: (http://python-kurs.eu/python3_vererbung.php)\n",
    "\t* Mehrfachvererbung (http://python-kurs.eu/python3_mehrfachvererbung.php)\n",
    "\n",
    "* Klein, Buch: Kapitel 19\n",
    "* Kofler, Kapitel 11.\n",
    "* Weigend: Kapitel 10\n",
    "* Briggs: Kapitel 9\n",
    "\n",
    "* Downey: \n",
    "\t* Kapitel 15: Classes and objects\n",
    "\t  (http://www.greenteapress.com/thinkpython/html/thinkpython016.html)\n",
    "\t* Kapitel 16: Classes and functions\n",
    "\t  (http://www.greenteapress.com/thinkpython/html/thinkpython017.html)\n",
    "\t* Kapitel 17: Classes and methods\n",
    "\t  (http://www.greenteapress.com/thinkpython/html/thinkpython018.html)\n",
    "\t* Kapitel 18: Inheritance\n",
    "\t  (http://www.greenteapress.com/thinkpython/html/thinkpython019.html)\n",
    "\n"
   ]
  },
  {
   "cell_type": "markdown",
   "metadata": {},
   "source": [
    "## Lizenz\n",
    "\n",
    "This notebook ist part of the course [Grundlagen der Programmierung](https://github.com/gvasold/gdp) held by [Gunter Vasold](https://online.uni-graz.at/kfu_online/wbForschungsportal.cbShowPortal?pPersonNr=51488) at Graz University 2017&thinsp;ff. \n",
    "\n",
    "<p>\n",
    "    It is licensed under <a href=\"https://creativecommons.org/licenses/by-nc-sa/4.0\">CC BY-NC-SA 4.0</a>\n",
    "</p>\n",
    "\n",
    "<table>\n",
    "    <tr>\n",
    "    <td>\n",
    "        <img style=\"height:22px\" \n",
    "             src=\"https://mirrors.creativecommons.org/presskit/icons/cc.svg?ref=chooser-v1\"/></li>\n",
    "    </td>\n",
    "    <td>\n",
    "    <img style=\"height:22px;\"\n",
    "         src=\"https://mirrors.creativecommons.org/presskit/icons/by.svg?ref=chooser-v1\" /></li>\n",
    "    </td>\n",
    "    <td>\n",
    "        <img style=\"height:22px;\"\n",
    "         src=\"https://mirrors.creativecommons.org/presskit/icons/nc.svg?ref=chooser-v1\" /></li>\n",
    "    </td>\n",
    "    <td>\n",
    "        <img style=\"height:22px;\"\n",
    "             src=\"https://mirrors.creativecommons.org/presskit/icons/sa.svg?ref=chooser-v1\" /></li>\n",
    "    </td>\n",
    "</tr>\n",
    "</table>"
   ]
  }
 ],
 "metadata": {
  "kernelspec": {
   "display_name": "Python 3 (ipykernel)",
   "language": "python",
   "name": "python3"
  },
  "language_info": {
   "codemirror_mode": {
    "name": "ipython",
    "version": 3
   },
   "file_extension": ".py",
   "mimetype": "text/x-python",
   "name": "python",
   "nbconvert_exporter": "python",
   "pygments_lexer": "ipython3",
   "version": "3.10.6"
  }
 },
 "nbformat": 4,
 "nbformat_minor": 4
}
