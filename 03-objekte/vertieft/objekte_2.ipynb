{
 "cells": [
  {
   "cell_type": "markdown",
   "metadata": {},
   "source": [
    "# Objektorientiere Programmierung: Etwas Theorie\n",
    "Objektorientierte Programmierung hat drei wesentliche Merkmale, die für die Popularität dieser Art von Programmierung verantwortlich sind:\n",
    "\n",
    "* Kapselung\n",
    "* Vererbung\n",
    "* Polymorphismus\n",
    "\n",
    "Sehen wir uns diese der Reihe nach an jeweils einem Beispiel an."
   ]
  },
  {
   "cell_type": "markdown",
   "metadata": {},
   "source": [
    "## Klassenbildung\n",
    "\n",
    "### Klassen sind Abstraktionen von Dingen und Konzepten\n",
    "\n",
    "Das Entwerfen einer Klasse bedeutet die Modellierung der benötigten\n",
    "Information.\n",
    "Wie jede Modellbildung impliziert das Abstraktion und\n",
    "Reduktion.\n",
    "\n",
    "#### Abstraktion\n",
    "\n",
    "Unter Abstraktion verstehen wir hier das Herausarbeiten von Gemeinsamkeiten\n",
    "und somit das Erkennen von übergeordneten Kategorien.\n",
    "Anna und Hans sind unterschiedliche Individuen, die eine für uns interessante\n",
    "Gemeinsamkeit haben: Sie sind beide Studierende. Indem wir erkannt haben,\n",
    "dass beide Individuen dieser Kategorie oder Klasse zugeordnet werden können\n",
    "(unsere\n",
    "Wahrnehmung tut dies ununterbrochen), haben wir bereits (zumindest implizit)\n",
    "ein Modell Studierende(r) entwickelt. Dieses muss nun für die Überführung\n",
    "in ein Computersystem noch genau formalisiert\n",
    "werden.\n",
    "\n",
    "#### Reduktion\n",
    "Jedes Modell (und eine Klasse ist nichts anderes als ein solches Modell)\n",
    "stellt eine Vereinfachung dessen dar, was modelliert wird. Für die\n",
    "Klasse `Student` müssen wir also überlegen, welche Daten so ein Modell\n",
    "beschreiben. Wir könnten ein extrem komplexes Modell entwerfen, in dem\n",
    "ein Student durch tausende Eigenschaften beschrieben wird, von der Schuhgröße\n",
    "bis zum bevorzugten Urlaubsland. Die eigentliche Kunst ist jedoch,\n",
    "sich auf die für den konkreten Anwendungsfall benötigten Daten zu beschränken,\n",
    "gleichzeitig aber auch keine zu vergessen.\n",
    "\n",
    "\n",
    "### Datenmodellierung\n",
    "\n",
    "Der Schritt der Modellierung darf nicht unterschätzt werden. In dieser\n",
    "Phase geht es darum, eine klare Vorstellung davon zu bekommen, welche\n",
    "Objekte im Programm benötigt werden, welche Eigenschaften diese haben\n",
    "und wie sie mit ihrer Umwelt interagieren (Methoden).\n",
    "\n",
    "Fehler in der Planungsphase zu erkennen und zu reparieren ist\n",
    "weniger aufwendig und damit weniger kostenträchtig, als wenn\n",
    "der Modellierungsfehler erst im halbfertigen Programm entdeckt wird.\n",
    "\n",
    "In der Praxis zeichnet man hier echte \"Konstruktionspläne\" z.B. in\n",
    "Form von UML-Diagrammen. Diese dienen nicht nur als Hilfe beim Nachdenken\n",
    "über ein Projekt, sondern auch Kommunikationsmittel und zur Dokumentation.\n",
    "\n",
    "Bei den Unterlagen im Moodle-Kurs gibt es ein eigenes Dokument zum Thema UML (Unified Modeling Language).\n",
    "\n",
    "\n"
   ]
  },
  {
   "cell_type": "markdown",
   "metadata": {},
   "source": [
    "## Kapselung\n",
    "Kapselung beschreibt das Prinzip, dass ein Objekt in seinem Aufbau und seiner Funktionsweise sehr komplex sein kann, dass es aber nach außen nur eine vereinfachte Sichtweise, repräsentiert durch **Schnittstellen** bereitstellt.\n",
    "\n",
    "Stellen wir uns eine Klasse vor, das ein Bankkonto repräsentiert:"
   ]
  },
  {
   "cell_type": "code",
   "execution_count": null,
   "metadata": {
    "scrolled": true
   },
   "outputs": [],
   "source": [
    "class BankAccount:\n",
    "    \"Represents a bank account.\"\n",
    "    \n",
    "    def __init__(self, account_number=None):\n",
    "        \"Initialize or create a new account.\"\n",
    "        self.account_number = ''\n",
    "        self.__balance = 0\n",
    "        self.holder = None\n",
    "        self._transactions = []\n",
    "        \n",
    "        if account_number is None:\n",
    "            self._create_new_account()\n",
    "        else:\n",
    "            self.account_number = account_number\n",
    "            self._fetch_account_data(self, account_number)\n",
    "\n",
    "    def get_balance(self):\n",
    "        \"Return the actual balance.\"\n",
    "        return self.__balance\n",
    "    \n",
    "    def get_available_amount(self):\n",
    "        \"Return the maximum amount which can be withdrawn.\"\n",
    "        rv = self.__balance + self._calculate_overdraft()\n",
    "        if rv < 0:\n",
    "            rv = 0\n",
    "        return rv\n",
    "        \n",
    "    def make_deposit(self, amount, text):\n",
    "        \"Add money to this account.\"\n",
    "        self.__balance += amount\n",
    "        self.transactions.append(Transaction(amount, info=text))\n",
    "        \n",
    "    def withdraw(self, amount, text):\n",
    "        \"Withdraw amount from this account.\"\n",
    "        if self.get_available_amount() > 0:\n",
    "            self.__balance -= amount\n",
    "            self.transactions.append(Transaction(amount * -1, info=text))\n",
    "            return True\n",
    "        else:\n",
    "            raise BalanceTooLowException('Your max amount is ...')\n",
    "        \n",
    "    def transfer_money(self, target_account, amount, text):\n",
    "        \"Transfer money from this account to target_account.\"\n",
    "        if self.get_available_amount() > 0:            \n",
    "            # start some complecated procedurce which transfers money\n",
    "            self.transactions.append(Transaction(amount * -1, target=target_account))\n",
    "        else:\n",
    "            raise BalanceTooLowException('You max amount is ...')\n",
    "        \n",
    "    def _create_new_account(self):\n",
    "        \"Create initial data for new account.\"\n",
    "        self.holder = input('Enter name of account holder:')\n",
    "    \n",
    "    def _fetch_account_data(self, account_number):\n",
    "        \"Fetch some data from e.g. a database\"\n",
    "        # Missing: the DB code\n",
    "        self.balance = account_data.get_balance()\n",
    "        self.holder = account_data.get_holder()"
   ]
  },
  {
   "cell_type": "markdown",
   "metadata": {},
   "source": [
    "Das ist nun relativ viel Code. Wesentlich aus der Sicht der Kapselung sind hier zwei Dinge:\n",
    "\n",
    "## Datenkapselung\n",
    "Der Kontostand (`__balance`) darf von außen nicht direkt verändert werden, sondern nur über bestimmte Methoden:\n",
    "    \n",
    "* `make_deposit()`\n",
    "* `withdraw()`\n",
    "* `transfer_money()`\n",
    "    \n",
    "Dadurch wird sichergestellt, dass niemand ungeprüft den Kontostand verändern kann \n",
    "(also z.B. mehr abheben als erlaubt ist). Außerdem können wir in den Methoden \n",
    "Code haben, der z.B. jede Transaktion protokolliert, oder bei verdächtigen Transaktionsmustern Alarm auslöst.\n",
    "\n",
    "### Kapselung der Funktionalität\n",
    "Ein Programmierer der mit so einem Account-Objekt interagieren will, \n",
    "braucht über die Funktionsweise des Objekts faktisch nichts zu wissen, sondern muss nur die Methoden kennen, die nach außen verfügbar sind:\n",
    "\n",
    "* get_balance()\n",
    "* make_deposit()\n",
    "* withdraw()\n",
    "* transfer_money()\n",
    "   \n",
    "Sollen 1000 Euro auf das Konto überwiesen werden, reicht diese Codezeile\n",
    "\n",
    "~~~\n",
    "make_deposit(1000, 'Erfolgsprämie für ...')\n",
    "~~~\n",
    "\n",
    "Soll Geld auf ein anderes Konto überwiesen werden, kann dies ebenfalls mit einer Zeile erledigt werden:\n",
    "\n",
    "~~~\n",
    "transfer_money('AT01234711223322', 1200, 'Miete für Dezember') \n",
    "~~~\n",
    "\n",
    "Um die Details kümmert sich jeweils das Objekt selbst.\n",
    "   \n",
    "Die Kapselung der Funktionalität bietet einen weiteren Vorteil: So lange die Schnittstelle der Methode (d.h. ihr Name, die Parameter und der Rückgabewert) sich nicht verändern, kann der Funktionskörper jederzeit verändert werden, ohne dass Programme, die das Objekt nutzen, umgeschrieben werden müssen. Ändert sich etwa die Art, wie Transaktionen zwischen Konten verschiedener Banken durchgeführt werden, braucht das nur in der Methode geändert werden, die die Transaktion durchführt. Alle Programme, die diese Methode nutzen brauchen nicht verändert zu werden.\n"
   ]
  },
  {
   "cell_type": "markdown",
   "metadata": {},
   "source": [
    "## Vererbung\n",
    "Unter diesem Begriff versteht man das Prinzip, das von einer Klasse jederzeit eine spezialisierte Unterform abgeleitet werden kann. Es entsteht so eine Hierarchie von Typen. Nehmen wir an, wir wollen für die Universitätsbibliothek eine Benutzerverwaltung schreiben, in der es unterschiedlichen Typen von Benutzern gibt. Zunächst erstellen wir einen Basistyp `User`:"
   ]
  },
  {
   "cell_type": "code",
   "execution_count": null,
   "metadata": {
    "scrolled": true
   },
   "outputs": [],
   "source": [
    "class MaxBorrowingsError(Exception): pass\n",
    "class BookNotBorrowedException(Exception): pass\n",
    "\n",
    "class User:\n",
    "    \n",
    "    def __init__(self, firstname, lastname):\n",
    "        self.max_books = 10\n",
    "        self.firstname = firstname\n",
    "        self.lastname = lastname\n",
    "        self.borrowed_books = []\n",
    "        \n",
    "    def borrow_book(self, book):\n",
    "        if len(self.borrowed_books) < self.max_books:\n",
    "            self.borrowed_books.append(book)\n",
    "        else:\n",
    "            raise MaxBorrowingsError('You have exceeded the number of books you are '\n",
    "                                     'allowed to borrow.')\n",
    "            \n",
    "    def return_book(self, book):\n",
    "        if book in self.borrowed_books:\n",
    "            self.borrowed_books.remove(book)\n",
    "        else:\n",
    "            raise BookNotBorrowedException('You did not borrow this book!')"
   ]
  },
  {
   "cell_type": "markdown",
   "metadata": {},
   "source": [
    "Ein Student ist ein spezieller User, der zusätzlich noch eine Matrikellnummer hat:"
   ]
  },
  {
   "cell_type": "code",
   "execution_count": null,
   "metadata": {
    "scrolled": true
   },
   "outputs": [],
   "source": [
    "class Student(User):\n",
    "    \n",
    "    def __init__(self, firstname, lastname, matrikelnummer):\n",
    "        self.max_books = 10\n",
    "        self.firstname = firstname\n",
    "        self.lastname = lastname\n",
    "        self.matrikelnummer = matrikelnummer\n",
    "        self.borrowed_books = []"
   ]
  },
  {
   "cell_type": "markdown",
   "metadata": {},
   "source": [
    "Hier sind 2 Dinge zu beachten:\n",
    "\n",
    "1. `class Student(User)` legt fest, dass die neue Klasse `Student` einen Spezialfall der\n",
    "Klasse `User` darstellt.\n",
    "1. Wir **überschreiben** (oder besser: überlagern) die Methode `__init__()`. Alle anderen Methoden **erbt** `Student` von der Klasse `User`."
   ]
  },
  {
   "cell_type": "code",
   "execution_count": null,
   "metadata": {
    "scrolled": true
   },
   "outputs": [],
   "source": [
    "otto = Student('Otto', 'Huber', '017844556')\n",
    "book1 = Book('A Book', 2018)\n",
    "otto.borrow_book(book1)\n",
    "print(otto.borrowed_books)\n",
    "otto.return_book(book1)\n",
    "print(otto.borrowed_books)"
   ]
  },
  {
   "cell_type": "markdown",
   "metadata": {},
   "source": [
    "Wir sehen hier, dass die Methoden `borrow_books()` und `return_books()` zur Verfügung stehen, obwohl wir sie beim Schreiben der Klasse `Student` gar nicht definiert haben. Sie kommen von der Basisklasse `User`. Dieser Mechanismus ist sehr mächtig, weil wir nur die Teile einer Klasse zu verändern brauchen, die den Spezialfall gegenüber der Elternklasse manifestieren."
   ]
  },
  {
   "cell_type": "markdown",
   "metadata": {},
   "source": [
    "### Auf Typen testen\n",
    "Wir haben schon mehrfach mit der Funktion `type()` den Typ eines Wertes abgefragt. Das funktioniert auch mit selbst geschriebenen Klassen, die ja eigene Typen festlegen:"
   ]
  },
  {
   "cell_type": "code",
   "execution_count": null,
   "metadata": {
    "scrolled": true
   },
   "outputs": [],
   "source": [
    "type(otto)"
   ]
  },
  {
   "cell_type": "markdown",
   "metadata": {},
   "source": [
    "Wir können auch auf einen bestimmten Typen testen:"
   ]
  },
  {
   "cell_type": "code",
   "execution_count": null,
   "metadata": {
    "scrolled": true
   },
   "outputs": [],
   "source": [
    "type(otto) is Student"
   ]
  },
  {
   "cell_type": "code",
   "execution_count": null,
   "metadata": {
    "scrolled": true
   },
   "outputs": [],
   "source": [
    "isinstance(otto, Student)"
   ]
  },
  {
   "cell_type": "markdown",
   "metadata": {},
   "source": [
    "Mit `isinstance()` können wir sogar testen, ob ein Wert einen bestimmten Typus hat, der weiter oben in der Vererbungskette steht:"
   ]
  },
  {
   "cell_type": "code",
   "execution_count": null,
   "metadata": {
    "scrolled": true
   },
   "outputs": [],
   "source": [
    "isinstance(otto, User)"
   ]
  },
  {
   "cell_type": "markdown",
   "metadata": {},
   "source": [
    "Da Vererbung immer Spezialisierung bedeutet, ist in unserer Typhierarchie ein Student immer auch ein User."
   ]
  },
  {
   "cell_type": "markdown",
   "metadata": {},
   "source": [
    "### Übung\n",
    "Schreiben Sie eine weitere Klasse Diplomand, als Spezialfall von User, der sich von einem Student nur dadurch unterscheidet, dass max_books auf 30 steht."
   ]
  },
  {
   "cell_type": "code",
   "execution_count": null,
   "metadata": {
    "scrolled": true
   },
   "outputs": [],
   "source": []
  },
  {
   "cell_type": "markdown",
   "metadata": {},
   "source": [
    "### super()\n",
    "`super()` ist eine spezielle Methode, die eine Referenz auf die Elternklasse liefert. Das kann nützlich sein, um explizit auf eine Methode der Elternklasse zuzugreifen, auch wenn diese in der Kindklasse überschrieben wird. Hier ein Anwendungsfall:"
   ]
  },
  {
   "cell_type": "code",
   "execution_count": null,
   "metadata": {
    "scrolled": true
   },
   "outputs": [],
   "source": [
    "class User2:\n",
    "    \n",
    "    def __init__(self, firstname, lastname):\n",
    "        self.max_books = 10\n",
    "        self.firstname = firstname\n",
    "        self.lastname = lastname\n",
    "        self.borrowed_books = []\n",
    "\n",
    "        \n",
    "class Student2(User2):\n",
    "    \n",
    "    def __init__(self, firstname, lastname, matrikelnummer):\n",
    "        super().__init__(firstname, lastname)  #  call __init__() of class User2\n",
    "        self.matrikelnummer = matrikelnummer\n",
    "        \n",
    "anna = Student2('Anna', 'Meier', '0175546655')        \n",
    "print(anna.firstname, anna.matrikelnummer)\n"
   ]
  },
  {
   "cell_type": "markdown",
   "metadata": {},
   "source": [
    "## Polymorphie\n",
    "Unter Polymorphie bzw. Vielgestaltigkeit versteht man die Fähigkeit, bestimmte Methoden an den Objekttyp anzupassen. Es geht also darum, dass unterschiedliche Typen gleichnamige und gleich aufzurufende Methoden haben, die aber an den jeweiligen Objekttyp angepasste Dinge tun.\n"
   ]
  },
  {
   "cell_type": "code",
   "execution_count": null,
   "metadata": {
    "scrolled": true
   },
   "outputs": [],
   "source": [
    "import math\n",
    "\n",
    "\n",
    "class Rectangle:\n",
    "    \n",
    "    def __init__(self, length, width):\n",
    "        self.length = length\n",
    "        self.width = width\n",
    "        \n",
    "    def get_area(self):\n",
    "        return self.length * self.width\n",
    "    \n",
    "    \n",
    "class Circle:\n",
    "    \n",
    "    def __init__(self, radius):\n",
    "        self.radius = radius\n",
    "        \n",
    "    def get_area(self):\n",
    "        return self.radius ** 2 * math.pi\n",
    "    \n",
    "rect = Rectangle(60, 40)    \n",
    "circ = Circle(25)\n",
    "\n",
    "print(rect.get_area())\n",
    "print(circ.get_area())"
   ]
  },
  {
   "cell_type": "markdown",
   "metadata": {},
   "source": [
    "Das hat den Vorteil, dass wir die Formen in gleicher Weise verwenden können. Um etwas die Gesamtfläche mehrerer geometrischer Formen zu ermitteln können wir das tun:"
   ]
  },
  {
   "cell_type": "code",
   "execution_count": null,
   "metadata": {
    "scrolled": true
   },
   "outputs": [],
   "source": [
    "figures = [Rectangle(72, 55), Circle(42), Rectangle(22, 19)]\n",
    "sum([fig.get_area() for fig in figures])"
   ]
  },
  {
   "cell_type": "markdown",
   "metadata": {},
   "source": [
    "Ein schönes Beispiel für Polymorphie haben wir schon kennen gelernt: `len()`. Diese Methode wird von allen Container-Objekten wie Listen, Tuples, Sets und Dictionaries unterstützt, aber auch vom Datentyp String. Die Funktion `len()` funktioniert für alle Objekte, die eine Methode ``__len__()`` bereit stellen, d.h. ``len(obj)`` ruft intern ``obj.__len__()`` auf."
   ]
  },
  {
   "cell_type": "code",
   "execution_count": null,
   "metadata": {
    "scrolled": true
   },
   "outputs": [],
   "source": [
    "my_data = [\n",
    "    \"Hudriwudri\", #str\n",
    "    [1, 5, 7, 2, 4], # list\n",
    "    ('a', 'b', 'c'), # tuple\n",
    "    {'a': 5, 'b': 2, 'c': 7, 'd': 4}, # dict\n",
    "    {'X', 'Y', 'Z'} # set\n",
    "]\n",
    "for element in my_data:\n",
    "    print(len(element))"
   ]
  },
  {
   "cell_type": "markdown",
   "metadata": {},
   "source": [
    "## Vertiefende Literatur zu diesem Abschnitt\n",
    "\n",
    "Ich empfehle ausdrücklich, mindestens eine der folgenden Ressourcen zur Vertiefung zu lesen!\n",
    "\n",
    "* Python Tutorial: Kapitel 9.1 - 9.6\n",
    "\t(http://docs.python.org/3/tutorial/classes.html)\n",
    "* Klein, Kurs: \n",
    "\t* Klassen (http://python-kurs.eu/python3_klassen.php)\n",
    "\t* Klassen- und Instanzattribute (http://python-kurs.eu/python3_klassen_instanzattribute.php)\n",
    "\t* Vererbung: (http://python-kurs.eu/python3_vererbung.php)\n",
    "\t* Mehrfachvererbung (http://python-kurs.eu/python3_mehrfachvererbung.php)\n",
    "\n",
    "* Klein, Buch: Kapitel 19\n",
    "* Kofler, Kapitel 11.\n",
    "* Weigend: Kapitel 10\n",
    "* Briggs: Kapitel 9\n",
    "\n",
    "* Downey: \n",
    "\t* Kapitel 15: Classes and objects\n",
    "\t  (http://www.greenteapress.com/thinkpython/html/thinkpython016.html)\n",
    "\t* Kapitel 16: Classes and functions\n",
    "\t  (http://www.greenteapress.com/thinkpython/html/thinkpython017.html)\n",
    "\t* Kapitel 17: Classes and methods\n",
    "\t  (http://www.greenteapress.com/thinkpython/html/thinkpython018.html)\n",
    "\t* Kapitel 18: Inheritance\n",
    "\t  (http://www.greenteapress.com/thinkpython/html/thinkpython019.html)"
   ]
  },
  {
   "cell_type": "markdown",
   "metadata": {},
   "source": [
    "## Lizenz\n",
    "\n",
    "This notebook ist part of the course [Grundlagen der Programmierung](https://github.com/gvasold/gdp) held by [Gunter Vasold](https://online.uni-graz.at/kfu_online/wbForschungsportal.cbShowPortal?pPersonNr=51488) at Graz University 2017&thinsp;ff. \n",
    "\n",
    "<p>\n",
    "    It is licensed under <a href=\"https://creativecommons.org/licenses/by-nc-sa/4.0\">CC BY-NC-SA 4.0</a>\n",
    "</p>\n",
    "\n",
    "<table>\n",
    "    <tr>\n",
    "    <td>\n",
    "        <img style=\"height:22px\" \n",
    "             src=\"https://mirrors.creativecommons.org/presskit/icons/cc.svg?ref=chooser-v1\"/></li>\n",
    "    </td>\n",
    "    <td>\n",
    "    <img style=\"height:22px;\"\n",
    "         src=\"https://mirrors.creativecommons.org/presskit/icons/by.svg?ref=chooser-v1\" /></li>\n",
    "    </td>\n",
    "    <td>\n",
    "        <img style=\"height:22px;\"\n",
    "         src=\"https://mirrors.creativecommons.org/presskit/icons/nc.svg?ref=chooser-v1\" /></li>\n",
    "    </td>\n",
    "    <td>\n",
    "        <img style=\"height:22px;\"\n",
    "             src=\"https://mirrors.creativecommons.org/presskit/icons/sa.svg?ref=chooser-v1\" /></li>\n",
    "    </td>\n",
    "</tr>\n",
    "</table>"
   ]
  }
 ],
 "metadata": {
  "kernelspec": {
   "display_name": "Python 3 (ipykernel)",
   "language": "python",
   "name": "python3"
  },
  "language_info": {
   "codemirror_mode": {
    "name": "ipython",
    "version": 3
   },
   "file_extension": ".py",
   "mimetype": "text/x-python",
   "name": "python",
   "nbconvert_exporter": "python",
   "pygments_lexer": "ipython3",
   "version": "3.10.6"
  }
 },
 "nbformat": 4,
 "nbformat_minor": 4
}
