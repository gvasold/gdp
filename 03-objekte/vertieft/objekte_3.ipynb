{
 "cells": [
  {
   "cell_type": "markdown",
   "metadata": {},
   "source": [
    "# Objektorientiere Programmierung: Vertiefung\n",
    "Diese Notebook vertieft einige Konzepte der objektorientierten Programmierung, insbesondere in Hinblick auf Python."
   ]
  },
  {
   "cell_type": "markdown",
   "metadata": {},
   "source": [
    "## Geschützte Variablen und Methoden (Kapselung)\n",
    "### Geschützte Variablen und Methoden\n",
    "Wir haben gelernt, dass einer der wesentlichen Vorteile von Objektorientierung die Datenkapselung ist. Damit ist gemeint, dass der Zugriff auf Eigenschaften und Methoden eingeschränkt werden kann. \n",
    "\n",
    "Manche Programmiersprachen wie z.B. Java markieren diese Zugriffsrechte explizit und sind in der Auslegung sehr strikt. Die folgende Variablendeklaration in Java beschränkt den Zugriff auf die Variable ``score`` auf die Klasse selbst, weil sie die Sichbarkeit der Variable auf ``private`` setzt.\n",
    "\n",
    "~~~\n",
    "private int score = 0;\n",
    "~~~\n",
    "\n",
    "Dadurch kann der Wert von `score` nur aus der Klasse heraus gelesen oder verändert werden.\n",
    "\n",
    "\n",
    "Der folgende Code hingegen erlaubt den uneingeschränkten Zugriff auf die Eigenschaft `username`:\n",
    "\n",
    "~~~\n",
    "public String username;\n",
    "~~~\n",
    "\n",
    "Einen ähnlichen Mechanismus gibt es auch in Python. Allerdings geht man hier die Dinge relaxter an: Ein vor einen Variablennamen oder einen Methodennamen gesetztes Underline (``_``) bedeutet, dass dieser Teil des Objekt von außerhalb des Objekts nicht verwendet, vor allem nicht verändert werden soll."
   ]
  },
  {
   "cell_type": "code",
   "execution_count": null,
   "metadata": {},
   "outputs": [],
   "source": [
    "class MyClass:\n",
    "    \n",
    "    def __init__(self, val):\n",
    "        self.set_val(val)\n",
    "        \n",
    "    def get_val(self):\n",
    "        return self._val\n",
    "        \n",
    "    def set_val(self, val):\n",
    "        if val > 0:\n",
    "            self._val = val\n",
    "        else:\n",
    "            raise ValueError('val must be greater 0')\n",
    "        \n",
    "myclass = MyClass(27)        \n",
    "myclass._val"
   ]
  },
  {
   "cell_type": "markdown",
   "metadata": {},
   "source": [
    "Wie wir sehen, ist die Eigenschaft `_val` von außerhalb verfügbar. Allerdings signalisiert das Underline, dass vom Programmierer der Klasse nicht vorgesehen ist, dass dieser Wert direkt verwendet wird (sondern z.B. nur über die Methoden `get_val()` und `set_val()`). Wenn ein anderer Programmierer der Meinung ist, dass er direkten Zugriff auf die Eigenschaft `_val` braucht, liegt das in seiner Verantwortung (wird aber von Python nicht unterbunden). Man spricht hier von *protection by convention*. Python-Programmierer halten sich in aller Regel an diese Konvention, weshalb dieser Art von \"Schutz\" weit verbreitet ist. \n",
    "\n",
    "Ein Vorteil dieser Herangehensweise liegt z.B. darin, dass solche Elemente einfacher getestet werden können, weil ein Test direkt zugreifen kann; ob das den Nachteil aufwiegt, dass das Element nur per Konvention und nicht von der Sprache selbst geschützt ist, muss anhand der Erfordernisse eines Projekt beurteilt werden."
   ]
  },
  {
   "cell_type": "markdown",
   "metadata": {},
   "source": [
    "### Unsichtbare Eigenschaften und Methoden\n",
    "Für paranoide Programmierer bietet Python die Möglichkeit, den Zugriff von außerhalb des Objekt komplett zu unterbinden, indem man statt eines Unterstrichts zwei Unterstriche vor den Namen setzt."
   ]
  },
  {
   "cell_type": "code",
   "execution_count": null,
   "metadata": {},
   "outputs": [],
   "source": [
    "class MyClass:\n",
    "    \n",
    "    def __init__(self, val):\n",
    "        self.__val = val\n",
    "        \n",
    "myclass = MyClass(42)        \n",
    "myclass.__val"
   ]
  },
  {
   "cell_type": "markdown",
   "metadata": {},
   "source": [
    "Hier sehen wir, dass die Eigenschaft `__val` von außerhalb der Klasse gar nicht sichtbar und damit auch nicht veränderbar ist. Innerhalb der Klasse ist sie jedoch normal verfügbar:"
   ]
  },
  {
   "cell_type": "code",
   "execution_count": null,
   "metadata": {},
   "outputs": [],
   "source": [
    "class MyClass:\n",
    "    \n",
    "    def __init__(self, val):\n",
    "        self.__val = val\n",
    "        \n",
    "    def get_val(self):\n",
    "        return self.__val\n",
    "        \n",
    "myclass = MyClass(42)        \n",
    "myclass.get_val()"
   ]
  },
  {
   "cell_type": "markdown",
   "metadata": {},
   "source": [
    "### Datenkapelung mit Properties\n",
    "Wie wir gesehen haben, werden für den Zugriff auf geschützte Eigenschaften eigene Getter- und Setter-Methoden geschrieben, über die der Wert einer Eigenschaft kontrolliert verändert werden kann. Programmieren wir eine `Student`-Klasse, in der eine Note gespeichert werden soll. Um den Zugriff auf diese Eigenschaft zu kontrollieren, schreiben wir eine Setter- und eine Getter-Methode."
   ]
  },
  {
   "cell_type": "code",
   "execution_count": null,
   "metadata": {},
   "outputs": [],
   "source": [
    "class GradingError(Exception): pass\n",
    "\n",
    "\n",
    "class Student:\n",
    "    \n",
    "    def __init__(self, matrikelnr):\n",
    "        self.matrikelnr = matrikelnr\n",
    "        self._grade = 0\n",
    "        \n",
    "    def set_grade(self, grade):\n",
    "        if grade > 0 and grade < 6:\n",
    "            self._grade = grade\n",
    "        else:\n",
    "            raise ValueError('Grade must be between 1 and 5!')\n",
    "            \n",
    "    def get_grade(self):\n",
    "        if self._grade > 0:\n",
    "            return self._grade\n",
    "        raise GradingError('Noch nicht benotet!')"
   ]
  },
  {
   "cell_type": "markdown",
   "metadata": {},
   "source": [
    "Wir können jetzt die Note setzen und auslesen:"
   ]
  },
  {
   "cell_type": "code",
   "execution_count": null,
   "metadata": {},
   "outputs": [],
   "source": [
    "anna = Student('01754645')\n",
    "anna.set_grade(6)"
   ]
  },
  {
   "cell_type": "code",
   "execution_count": null,
   "metadata": {},
   "outputs": [],
   "source": [
    "anna.set_grade(2)\n",
    "anna.get_grade()"
   ]
  },
  {
   "cell_type": "markdown",
   "metadata": {},
   "source": [
    "Allerdings ist der direkte Zugriff auf `grade` immer noch möglich:"
   ]
  },
  {
   "cell_type": "code",
   "execution_count": null,
   "metadata": {},
   "outputs": [],
   "source": [
    "anna._grade"
   ]
  },
  {
   "cell_type": "code",
   "execution_count": null,
   "metadata": {},
   "outputs": [],
   "source": [
    "anna._grade = 6"
   ]
  },
  {
   "cell_type": "markdown",
   "metadata": {},
   "source": [
    "Wie wir bereits gesehen haben, können wir das verhindern, indem wir die Eigenschaft `grade` auf `__grade` umbenennen. "
   ]
  },
  {
   "cell_type": "markdown",
   "metadata": {},
   "source": [
    "## Properties setzen via Getter und Setter \n",
    "Python bietet eine Möglichkeit, das Setzen und Auslesen von Objekteigenschaften automatisch durch Methoden zu leiten. Dazu werden der Getter und Setter an die `poperty`-Funktion übergeben (letzte Zeile der Klasse)."
   ]
  },
  {
   "cell_type": "code",
   "execution_count": null,
   "metadata": {},
   "outputs": [],
   "source": [
    "class Student:\n",
    "    \n",
    "    def __init__(self, matrikelnr):\n",
    "        self.matrikelnr = matrikelnr\n",
    "        self.__grade = 0\n",
    "        \n",
    "    def set_grade(self, grade):\n",
    "        if grade > 0 and grade < 6:\n",
    "            self.__grade = grade\n",
    "        else:\n",
    "            raise ValueError('Grade must be between 1 and 5!')\n",
    "            \n",
    "    def get_grade(self):\n",
    "        if self.__grade > 0:\n",
    "            return self.__grade\n",
    "        raise GradingError('Noch nicht benotet!')\n",
    "        \n",
    "    grade = property(get_grade, set_grade)\n",
    "    \n",
    "otto = Student('01745646465')    \n",
    "otto.grade = 6"
   ]
  },
  {
   "cell_type": "markdown",
   "metadata": {},
   "source": [
    "Wie wir sehen, können wir die Eigenschaft des Objekts direkt setzen und auslesen, der Zugriff wird aber von Python jeweils durch den Setter und Getter geleitet."
   ]
  },
  {
   "cell_type": "markdown",
   "metadata": {},
   "source": [
    "Wenn wir nur eine Methode (den Getter) als Argument an die property()-Funktion übergeben, haben wir eine Eigenschaft, die sich nur auslesen, aber nicht verändern lässt."
   ]
  },
  {
   "cell_type": "code",
   "execution_count": null,
   "metadata": {},
   "outputs": [],
   "source": [
    "class Student:\n",
    "    \n",
    "    def __init__(self, matrikelnr, grade):\n",
    "        self.matrikelnr = matrikelnr\n",
    "        self.__grade = grade\n",
    "                \n",
    "    def get_grade(self):\n",
    "        if self.__grade > 0:\n",
    "            return self.__grade\n",
    "        raise GradingError('Noch nicht benotet!')\n",
    "        \n",
    "    grade = property(get_grade)\n",
    "    \n",
    "albert = Student('0157897846546', 5)    \n",
    "albert.grade"
   ]
  },
  {
   "cell_type": "markdown",
   "metadata": {},
   "source": [
    "Wir können also auf unsere via property() definierte Eigenschaften zugreifen. Wir können `grade` aber nicht verwenden,\n",
    "um die Eigenschaft zu verändern:"
   ]
  },
  {
   "cell_type": "code",
   "execution_count": null,
   "metadata": {},
   "outputs": [],
   "source": [
    "albert.grade = 1"
   ]
  },
  {
   "cell_type": "markdown",
   "metadata": {},
   "source": [
    "### Der @property-Dekorator\n",
    "Dekoratoren erweitern  dynamisch die Funktionalität von Funktionen indem sie diese (im Hintergrund) in eine weitere Funktion verpacken. Die Anwendung eines Dekorators ist einfach: man schreibt ihn einfach vor die Funktionsdefinition.\n",
    "Python bringt eine Reihe von Dekoratoren mit, man kann sich aber auch eigene Dekoratoren schreiben, was jedoch hier nicht behandelt wird.\n",
    "Der in Python-Objekten eingebaute `@property`-Dekorator ist eine Alternative zu der oben vorgestellten `property()`-Funktion:"
   ]
  },
  {
   "cell_type": "code",
   "execution_count": null,
   "metadata": {},
   "outputs": [],
   "source": [
    "class Student:\n",
    "    \n",
    "    def __init__(self, matrikelnr):\n",
    "        self.matrikelnr = matrikelnr\n",
    "        self.__grade = 0\n",
    "            \n",
    "    @property\n",
    "    def grade(self):\n",
    "        if self.__grade > 0:\n",
    "            return self.__grade\n",
    "        raise GradingError('Noch nicht benotet!')\n",
    "        \n",
    "    @grade.setter\n",
    "    def grade(self, grade):\n",
    "        if grade > 0 and grade < 6:\n",
    "            self.__grade = grade\n",
    "        else:\n",
    "            raise ValueError('Grade must be between 1 and 5!')\n",
    "    \n",
    "\n",
    "hugo = Student('0176464645454')    "
   ]
  },
  {
   "cell_type": "code",
   "execution_count": null,
   "metadata": {},
   "outputs": [],
   "source": [
    "hugo.grade = 6"
   ]
  },
  {
   "cell_type": "code",
   "execution_count": null,
   "metadata": {},
   "outputs": [],
   "source": [
    "hugo.grade = 2"
   ]
  },
  {
   "cell_type": "code",
   "execution_count": null,
   "metadata": {},
   "outputs": [],
   "source": [
    "hugo.grade"
   ]
  },
  {
   "cell_type": "markdown",
   "metadata": {},
   "source": [
    "## Klassenvariablen (Static members)\n",
    "Wir haben gelernt, dass Klassen Eigenschaften und Methoden von Objekten festlegen. Allerdings (und das kann zu Beginn etwas verwirrend sein), sind Klassen selbst auch Objekte, die Eigenschaften und Methoden haben. Hier ein Beispiel:"
   ]
  },
  {
   "cell_type": "code",
   "execution_count": null,
   "metadata": {},
   "outputs": [],
   "source": [
    "class MyClass:\n",
    "    \n",
    "    the_answer = 42\n",
    "    \n",
    "    def __init__(self, val):\n",
    "        self.the_answer = val\n",
    "        \n",
    "MyClass.the_answer        "
   ]
  },
  {
   "cell_type": "code",
   "execution_count": null,
   "metadata": {},
   "outputs": [],
   "source": [
    "mc = MyClass(17)\n",
    "print('Objekteigenschaft:', mc.the_answer)\n",
    "print('Klasseneigenschaft:', MyClass.the_answer)"
   ]
  },
  {
   "cell_type": "markdown",
   "metadata": {},
   "source": [
    "Die eine Eigenschaft hängt also am Klassenobjekt, die andere am aus der Klasse erzeugten Objekt. Solche Klassenobjekte können nützlich sein, weil sie in allen aus der Klasse erzeugten Objekten verfügbar sind (sogar via `self`, solange das Objekt nicht selbst eine gleichnamige Eigenschaft hat):"
   ]
  },
  {
   "cell_type": "code",
   "execution_count": null,
   "metadata": {},
   "outputs": [],
   "source": [
    "class MyClass:\n",
    "    instance_counter = 0\n",
    "    \n",
    "    def __init__(self):\n",
    "        MyClass.instance_counter += 1\n",
    "        print('Ich bin das {}. Objekt'.format(MyClass.instance_counter))\n",
    "        \n",
    "a = MyClass()\n",
    "b = MyClass()"
   ]
  },
  {
   "cell_type": "code",
   "execution_count": null,
   "metadata": {},
   "outputs": [],
   "source": [
    "# Achtung: diese Code tut vermutlich nicht, was Sie erwartet haben,\n",
    "# weil im __init__()-Code der Basisklasse, diese (d.h. MyClass) direkt\n",
    "# referenziert wird (und nicht MyOtherClass). Sie dazu Zeile 5 der Zelle\n",
    "# in der MyClass definiert wird.\n",
    "class MyOtherClass(MyClass):\n",
    "    instance_counter = 0\n",
    "\n",
    "a = MyOtherClass()\n",
    "b = MyOtherClass()"
   ]
  },
  {
   "cell_type": "markdown",
   "metadata": {},
   "source": [
    "Man kann das auch so schreiben, wodurch der Counter auch für Subklassen funktioniert:"
   ]
  },
  {
   "cell_type": "code",
   "execution_count": null,
   "metadata": {},
   "outputs": [],
   "source": [
    "class MyClass:\n",
    "    instance_counter = 0\n",
    "    \n",
    "    def __init__(self):\n",
    "        self.__class__.instance_counter += 1\n",
    "        # self.__class__ referenziert auf die eigene Klasse des Objekts\n",
    "        print('Ich bin das {}. Objekt'.format(self.__class__.instance_counter))\n",
    "        \n",
    "a = MyClass()\n",
    "b = MyClass()"
   ]
  },
  {
   "cell_type": "code",
   "execution_count": null,
   "metadata": {},
   "outputs": [],
   "source": [
    "class MyOtherClass(MyClass):\n",
    "    instance_counter = 0\n",
    "\n",
    "a = MyOtherClass()\n",
    "b = MyOtherClass()"
   ]
  },
  {
   "cell_type": "markdown",
   "metadata": {},
   "source": [
    "<div class=\"alert alert-block alert-info\">\n",
    "<b>Übung Obj-3.1</b>\n",
    "<p>\n",
    "Schreiben Sie eine Klasse Student, die über eine Klassenvariable sicherstellt, dass keine Matrikelnummer mehr als einmal vorkommt.\n",
    "</p>\n",
    "</div>    "
   ]
  },
  {
   "cell_type": "markdown",
   "metadata": {},
   "source": [
    "## Vertiefende Literatur zu diesem Abschnitt\n",
    "\n",
    "Ich empfehle ausdrücklich, mindestens eine der folgenden Ressourcen zur Vertiefung zu lesen!\n",
    "\n",
    "* Python Tutorial: Kapitel 9.1 - 9.6\n",
    "\t(http://docs.python.org/3/tutorial/classes.html)\n",
    "* Klein, Kurs: \n",
    "\t* Klassen (http://python-kurs.eu/python3_klassen.php)\n",
    "\t* Klassen- und Instanzattribute (http://python-kurs.eu/python3_klassen_instanzattribute.php)\n",
    "\t* Vererbung: (http://python-kurs.eu/python3_vererbung.php)\n",
    "\t* Mehrfachvererbung (http://python-kurs.eu/python3_mehrfachvererbung.php)\n",
    "\n",
    "* Klein, Buch: Kapitel 19\n",
    "* Kofler, Kapitel 11\n",
    "* Weigend: Kapitel 10\n",
    "* Briggs: Kapitel 9\n",
    "\n",
    "* Downey: \n",
    "\t* Kapitel 15: Classes and objects\n",
    "\t  (http://www.greenteapress.com/thinkpython/html/thinkpython016.html)\n",
    "\t* Kapitel 16: Classes and functions\n",
    "\t  (http://www.greenteapress.com/thinkpython/html/thinkpython017.html)\n",
    "\t* Kapitel 17: Classes and methods\n",
    "\t  (http://www.greenteapress.com/thinkpython/html/thinkpython018.html)\n",
    "\t* Kapitel 18: Inheritance\n",
    "\t  (http://www.greenteapress.com/thinkpython/html/thinkpython019.html)"
   ]
  },
  {
   "cell_type": "markdown",
   "metadata": {},
   "source": [
    "## Lizenz\n",
    "\n",
    "This notebook ist part of the course [Grundlagen der Programmierung](https://github.com/gvasold/gdp) held by [Gunter Vasold](https://online.uni-graz.at/kfu_online/wbForschungsportal.cbShowPortal?pPersonNr=51488) at Graz University 2017&thinsp;ff. \n",
    "\n",
    "<p>\n",
    "    It is licensed under <a href=\"https://creativecommons.org/licenses/by-nc-sa/4.0\">CC BY-NC-SA 4.0</a>\n",
    "</p>\n",
    "\n",
    "<table>\n",
    "    <tr>\n",
    "    <td>\n",
    "        <img style=\"height:22px\" \n",
    "             src=\"https://mirrors.creativecommons.org/presskit/icons/cc.svg?ref=chooser-v1\"/></li>\n",
    "    </td>\n",
    "    <td>\n",
    "    <img style=\"height:22px;\"\n",
    "         src=\"https://mirrors.creativecommons.org/presskit/icons/by.svg?ref=chooser-v1\" /></li>\n",
    "    </td>\n",
    "    <td>\n",
    "        <img style=\"height:22px;\"\n",
    "         src=\"https://mirrors.creativecommons.org/presskit/icons/nc.svg?ref=chooser-v1\" /></li>\n",
    "    </td>\n",
    "    <td>\n",
    "        <img style=\"height:22px;\"\n",
    "             src=\"https://mirrors.creativecommons.org/presskit/icons/sa.svg?ref=chooser-v1\" /></li>\n",
    "    </td>\n",
    "</tr>\n",
    "</table>"
   ]
  }
 ],
 "metadata": {
  "kernelspec": {
   "display_name": "Python 3 (ipykernel)",
   "language": "python",
   "name": "python3"
  },
  "language_info": {
   "codemirror_mode": {
    "name": "ipython",
    "version": 3
   },
   "file_extension": ".py",
   "mimetype": "text/x-python",
   "name": "python",
   "nbconvert_exporter": "python",
   "pygments_lexer": "ipython3",
   "version": "3.10.6"
  }
 },
 "nbformat": 4,
 "nbformat_minor": 4
}
