{
 "cells": [
  {
   "cell_type": "markdown",
   "metadata": {},
   "source": [
    "# Ausnahmen (Exceptions)"
   ]
  },
  {
   "cell_type": "markdown",
   "metadata": {},
   "source": [
    "## Was sind Ausnahmen?"
   ]
  },
  {
   "cell_type": "markdown",
   "metadata": {},
   "source": [
    "Wir haben schon mehrfach festgestellt, dass beim Ausführen von Programmen Fehler aufgetreten sind, die zum Abbruch des Programms geführt haben. Das passiert beispielsweise, wenn wir auf ein nicht existierendes Element einer Liste zuzugreifen versuchen:"
   ]
  },
  {
   "cell_type": "code",
   "execution_count": null,
   "metadata": {},
   "outputs": [],
   "source": [
    "names = ['Otto', 'Hugo', 'Maria']\n",
    "names[3]\n",
    "print('Das steht am Ende des Programms')"
   ]
  },
  {
   "cell_type": "markdown",
   "metadata": {},
   "source": [
    "Oder wenn wir versuchen eine Zahl durch 0 zu dividieren:"
   ]
  },
  {
   "cell_type": "code",
   "execution_count": null,
   "metadata": {},
   "outputs": [],
   "source": [
    "user_input = 0 \n",
    "2335 / user_input\n",
    "print('Das steht am Ende des Programms')"
   ]
  },
  {
   "cell_type": "markdown",
   "metadata": {},
   "source": [
    "Oder wenn wir versuchen, eine nicht vorhandene Datei zu öffnen:"
   ]
  },
  {
   "cell_type": "code",
   "execution_count": null,
   "metadata": {},
   "outputs": [],
   "source": [
    "with open('hudriwudri.txt') as fh:\n",
    "    print(fh.read())\n",
    "print('Das steht am Ende des Programms')    "
   ]
  },
  {
   "cell_type": "markdown",
   "metadata": {},
   "source": [
    "Da die Ausgabe der `print()`-Funktion (jeweils Zeile 3) nie erfolgt, sehen wir, dass in allen Fällen Python das Programm sofort abbricht, sobald der Fehler auftritt. Das passiert jedoch nur, wenn wir in unserem Programm keinen Mechanismus einbauen, der auf die Ausnahme (d.h. den Fehler) reagiert. Wichtig ist zunächst aber nur, dass es verschiedene Arten von Ausnahmen gibt. Das ist gut, weil wir dadurch selektiv auf bestimmte Ausnahmen in einer bestimmten Weise reagieren können. Wir werden später sehen, wie das funktioniert. Sehen wir uns aber zuerst ein paar Ausnahme-Typen an."
   ]
  },
  {
   "cell_type": "markdown",
   "metadata": {},
   "source": [
    "## Ausnahme-Typen"
   ]
  },
  {
   "cell_type": "markdown",
   "metadata": {},
   "source": [
    " Hier noch einmal die drei Fragmente, mit denen wir am Anfang dieses Notebooks Fehler ausgelöst haben:"
   ]
  },
  {
   "cell_type": "code",
   "execution_count": null,
   "metadata": {},
   "outputs": [],
   "source": [
    "names = ['Otto', 'Hugo', 'Maria']\n",
    "names[3]"
   ]
  },
  {
   "cell_type": "code",
   "execution_count": null,
   "metadata": {},
   "outputs": [],
   "source": [
    "user_input = 0 \n",
    "2335 / user_input"
   ]
  },
  {
   "cell_type": "code",
   "execution_count": null,
   "metadata": {},
   "outputs": [],
   "source": [
    "with open('hudriwudri.txt') as fh:\n",
    "    print(fh.read())"
   ]
  },
  {
   "cell_type": "markdown",
   "metadata": {},
   "source": [
    "Wenn wir genau hinsehen, stellen wir fest, dass es sich um drei unterschiedliche Arten von Fehlern handelt:\n",
    "\n",
    "* IndexError bei (`names[3]`)\n",
    "* ZeroDivisionError bei (`2335 / user_input`)\n",
    "* FileNotFoundError bei (`open('hudriwudri.txt')`)\n",
    "\n",
    "Python generiert also, abhängig davon, welche Art von Fehler aufgetreten ist, ein entsprechendes Ausnahme-Objekt. \n",
    "\n",
    "Diese Fehler sind hierarchisch organisiert, d.h. dass jede zusätzliche Ebene eine speziellere Art eines Fehlers bedeutet. \n",
    "\n",
    "Die komplette Hierarchie der eingebauten Exceptions findet sich hier: https://docs.python.org/3/library/exceptions.html#exception-hierarchy. Öffnen Sie diesen Link in einem eigenen Fenster, damit Sie es parallel zum Notebook sehen können!)\n",
    "\n",
    "Die allgemeinste Art eines Fehlers ist also die `BaseException`. Abgeleitet davon gibt es z.B. die `KeyboardInterrupt`-Exception (wird ausgelöst, wenn der Benutzer das Programm mit 'CTRL-C' abbricht) oder die `Exception`, die selbst wieder Basisklasse für viele andere Exceptions ist, wie etwa des `ArithmethicError` oder des `LookupError`. Der `ArithmeticError` wiederum ist Basisklasse für `FloatingPointError`, `OverflowError` und des gerade aufgetretenen `ZeroDivisionError`.\n",
    "\n",
    "Dieses Prinzip sollte Ihnen bekannt vorkommen. Es handelt sich dabei im Vererbung im Sinne der Objektorientierung.\n",
    "Ausgehend von einer Basisklasse `BaseException` wird spezialisiert. D.h. `Exception`ist ein Spezialfall von `BaseException`, `ArithmeticError` wieder ein Spezialfall von `Exception` usw.\n",
    "\n",
    "Wenn wir uns nur diesen Ausschnitt an Exceptions als Baum aufzeichnen, sieht das so aus:\n",
    "\n",
    "![Exception Hierarchie](img/exceptions.png)\n",
    "\n",
    "Der Clou an der Sache mit der Vererbung ist, dass die folgenden Aussagen aus der Sicht von Python alle korrekt sind:\n",
    "\n",
    "* Ein `ZeroDivisionError` ist ein `ZeroDivisionError`\n",
    "* Ein `ZeroDivisionError` ist ein `ArithmeticError`\n",
    "* Ein `ZeroDivisionError` ist eine `Exception`\n",
    "* Ein `ZeroDivisionError` ist eine `BaseException`\n",
    "\n",
    "Wenn wir also auf einen `ZeroDivisionError` reagieren wollen, können wir genau diesen Exception-Typ abfangen. Alternativ könnten wir alle `ArithmeticError` gemeinsam an einer Stelle behandeln oder sogar alle `Exception`-Objekte, was aber keine gute Idee ist."
   ]
  },
  {
   "cell_type": "markdown",
   "metadata": {},
   "source": [
    "## Auf Ausnahmen reagieren\n",
    "\n",
    "Wenn Python also auf ein Problem stößt, erzeugt es ein Ausnahme-Objekt. Dieses Objekt kann \"abgefangen\" werden. Sehen wir uns das an einem konkreten Beispiel an:"
   ]
  },
  {
   "cell_type": "code",
   "execution_count": null,
   "metadata": {},
   "outputs": [],
   "source": [
    "divisor = int(input('Divisor: '))\n",
    "try:\n",
    "    print(6543 / divisor)\n",
    "except:\n",
    "    print('Bei der Division ist ein Fehler aufgetreten')\n",
    "print(\"Programm wird normal beendet.\")   "
   ]
  },
  {
   "cell_type": "markdown",
   "metadata": {},
   "source": [
    "Wir haben hier den \"gefährlichen\" Codeteil (also den Teil, wo eine Division durch 0 passieren könnte) in einen \"`try`\"-Block gesetzt. Wenn innerhalb des `try`-Blocks ein Fehler auftritt, wird der \"`catch`\" Block aktiviert und dort (in unserem trivialen Beispiel) die entsprechende Fehlermeldung ausgegeben. Wesentlich dabei ist aber, dass -- anders als bisher -- beim Auftreten der Ausnahme das Programm nicht mehr abgebrochen wird, was wir daran erkennen können, das die `print()`-Funktion in Zeile 6 ausgeführt wird. Wie haben die Ausnahme selbst behandelt und Python sieht deshalb keine Veranlassung mehr, das Programm wegen des Fehlers zu beenden."
   ]
  },
  {
   "cell_type": "markdown",
   "metadata": {},
   "source": [
    "Was wir hier gemacht haben, ist jedoch **ganz schlechter Stil**: Wir haben jede Art von Fehler oder Warnung abgefangen. Damit werden unter Umständen auch Fehler abgefangen, die wir gar nicht abfangen wollten, und die unter Umständen entscheidende Hinweise zur Fehlersuche geben könnten. Hier ein (sehr konstruiertes) Beispiel um das zu verdeutlichen. Geben Sie zuerst `0` ein, um einen `ZeroDivisionError` auszulösen:"
   ]
  },
  {
   "cell_type": "code",
   "execution_count": null,
   "metadata": {},
   "outputs": [],
   "source": [
    "divisor = int(input('Divisor: '))\n",
    "some_names = ['Otto', 'Anna']\n",
    "try:\n",
    "    print(some_names[divisor])\n",
    "    print(6543 / divisor)\n",
    "except:\n",
    "    print('Bei der Division ist ein Fehler aufgetreten')\n",
    "print(\"Programm wird normal beendet.\")       "
   ]
  },
  {
   "cell_type": "markdown",
   "metadata": {},
   "source": [
    "Das ist das, was wir schon kennen und auch erwartet haben.\n",
    "\n",
    "Lassen Sie nun die Zelle oben noch einmal laufen und geben Sie `5` ein! Python meldet erneut, dass es ein Problem beim Dividieren gegeben hat. In Wahrheit war mit der Division alles in Ordnung; das Problem war, dass wir in Zeile 4 auf Index `5` einer Liste mit nur zwei Elementen zugegriffen haben. Wir haben es hier also nicht mehr mit einem `ZeroDivisionError` zu tun, sondern mit einem `IndexError`. Da wir aber alle Exceptions in unserem `catch` abfangen, bekommen wir die echte Fehlermedlung nie zu Gesicht und entsprechend schwierig wird sich die Fehlersuche gestalten."
   ]
  },
  {
   "cell_type": "markdown",
   "metadata": {},
   "source": [
    "Das ist der Grund, warum ein\n",
    "\n",
    "```python\n",
    "catch:\n",
    "```\n",
    "\n",
    "nie in dieser allgemeinsten Form verwendet werden soll. Geben Sie statt dessen den Typ der Exception, auf die reagiert werden soll, möglichst genau an (Zeile 6):"
   ]
  },
  {
   "cell_type": "code",
   "execution_count": null,
   "metadata": {},
   "outputs": [],
   "source": [
    "divisor = int(input('Divisor: '))\n",
    "some_names = ['Otto', 'Anna']\n",
    "try:\n",
    "    print(some_names[divisor])\n",
    "    print(6543 / divisor)\n",
    "except ZeroDivisionError:\n",
    "    print('Bei der Division ist ein Fehler aufgetreten')\n",
    "print(\"Programm wird normal beendet.\")       "
   ]
  },
  {
   "cell_type": "markdown",
   "metadata": {},
   "source": [
    "So wie das `catch` nun geschrieben ist, fühlt es sich nur noch für Ausnahmen vom Typ `ZeroDivisionError` zuständig. Probieren Sie es aus, indem Sie zuerst wieder `0` eingeben und dann `5`. Bei `5` sehen Sie nun wieder den `IndexError` und Sie haben eine Chance, herauszufinden, was falsch gelaufen ist."
   ]
  },
  {
   "cell_type": "markdown",
   "metadata": {},
   "source": [
    "### Auf mehrere Exceptions reagieren\n",
    "\n",
    "Im letzten Beispiel haben wir je nach Eingabe einen `ZeroDivisionError` oder einen `IndexError`  ausgelöst. Abgefangen wurde aber nur der `ZeroDivisionError`. Wenn wir auch auf den `IndexError` selbst reagieren wollen, können wir ein weiteres `catch` einbauen:"
   ]
  },
  {
   "cell_type": "code",
   "execution_count": null,
   "metadata": {},
   "outputs": [],
   "source": [
    "divisor = int(input('Divisor: '))\n",
    "some_names = ['Otto', 'Anna']\n",
    "try:\n",
    "    print(some_names[divisor])\n",
    "    print(6543 / divisor)\n",
    "except ZeroDivisionError:\n",
    "    print('Bei der Division ist ein Fehler aufgetreten')\n",
    "except IndexError:\n",
    "    print('Die Liste hat nicht so viele Elemente!')\n",
    "print(\"Programm wird normal beendet.\")   "
   ]
  },
  {
   "cell_type": "markdown",
   "metadata": {},
   "source": [
    "Die Kunst beim Exception Handling ist herauszufinden\n",
    "* wann es überhaupt Sinn macht, eine Exception abzufangen.\n",
    "  * Wenn ein Fehler so gravierend ist, dass die weitere Programmausführung keinen Sinn macht, macht es in der Regel auch keinen Sinn, die Exception abzufangen (außer Sie wollen z.B. eine benutzerfreundllicher Fehlermeldung ausgeben und dann das Programm selbst beenden).\n",
    "  * Wenn das Problem keine gravierenden Auswirkungen hat, könnte man im `catch` Block beispielsweise eine Warnung ausgeben und dann das Programm weiter laufen lassen.\n",
    "  * Manchmal möchte man das Programm sogar bei schweren Fehlern weiter laufen lassen. Beiepielsweise sollte ein Webserver nicht durch eine fehlerhafte Anfrage beendet werden. In so einem Fall fängt man die Exception ab und sendet eine entsprechende Anfrage an den Client zurück und nimmt dann die nächste Anfage entgegen.\n",
    "  * Wenn ein Fehler durch eine unmittelbare Benutzereingabe auftritt, kann man u.U. im `catch` Block die Eingabe erneut einfordern (hier ist es aber normalerweise besser, die Eingabe explizit zu validieren).\n",
    "  * Manchmal kann es Sinn machen, das Programm quasi zu resetten, also z.B. einen Defaultwert zu verwenden. Das muss aber gut bedacht werden.\n",
    "* An welcher Stelle die Ausnahme behandelt werden soll\n",
    "  * Wir wir noch sehen werden, muss die Exception nicht zwingend dort abgefangen werden, wo sie auftritt."
   ]
  },
  {
   "cell_type": "markdown",
   "metadata": {},
   "source": [
    "Ehe wir weiter machen, noch ein Beispiel, bei dem das Exception Handling vielleicht mehr Sinn macht:"
   ]
  },
  {
   "cell_type": "code",
   "execution_count": 5,
   "metadata": {},
   "outputs": [
    {
     "name": "stdin",
     "output_type": "stream",
     "text": [
      "Geben Sie eine Zahl ein:  s\n"
     ]
    },
    {
     "name": "stdout",
     "output_type": "stream",
     "text": [
      "Das war keine Zahl!\n"
     ]
    },
    {
     "name": "stdin",
     "output_type": "stream",
     "text": [
      "Geben Sie eine Zahl ein:  1\n"
     ]
    },
    {
     "name": "stdout",
     "output_type": "stream",
     "text": [
      "User hat 1 eingegeben.\n"
     ]
    }
   ],
   "source": [
    "\n",
    "def ask_for_number():\n",
    "    \"\"\"Ask for number.\n",
    "    \n",
    "    Ask again if user did enter a non number until he enters a number.\n",
    "    \"\"\"\n",
    "    while True:\n",
    "        try: \n",
    "            num = int(input('Geben Sie eine Zahl ein: '))\n",
    "            break\n",
    "        except ValueError:\n",
    "            print('Das war keine Zahl!')\n",
    "    return num\n",
    "    \n",
    "print(f'User hat {ask_for_number()} eingegeben.')\n",
    "    "
   ]
  },
  {
   "cell_type": "markdown",
   "metadata": {},
   "source": [
    "Der Trick sind hier die beiden Zeile im ``try``-Block: Wir versuchen zuerst, den eingegeben String in einen Integer umzuwandeln. Wenn das funktioniert, wird die nächste Zeile (``break``) ausgeführt und somit die Schleife beendet. Der umgewandelte Wert wird zurückgeliefert. Wenn aber beim Umwandeln etwas schief geht, wirft Python einen `ValueError`, den wir mit ``catch`` abfangen und eine entsprechende Meldung ausgeben. Da im ``catch``-Block kein ``break`` steht, und das ``break`` im ``try``-Block wegen der Exception nicht erreicht wird, wird der Benutzer imm nächsten Scheifendurchlauf erneut gefragt."
   ]
  },
  {
   "cell_type": "markdown",
   "metadata": {},
   "source": [
    "### Die Typ-Hierarchie nutzen\n",
    "\n",
    "Holen wir uns noch einmal das vorletzte Beispiel in etwas vereinfachter Form:"
   ]
  },
  {
   "cell_type": "code",
   "execution_count": null,
   "metadata": {},
   "outputs": [],
   "source": [
    "divisor = int(input('Divisor: '))\n",
    "try:\n",
    "    print(6543 / divisor)\n",
    "except ZeroDivisionError:\n",
    "    print('Bei der Division ist ein Fehler aufgetreten')\n",
    "print(\"Programm wird normal beendet.\")       "
   ]
  },
  {
   "cell_type": "markdown",
   "metadata": {},
   "source": [
    "Hier haben wir auf einen einen `catch`-Block für den `ZeroDivisionError` definiert. Alternativ hätten wir auch höher in der Exception-Hierarchie einsteigen können: Wenn wir alle `ArithmeticError` abfangen, ist damit auch der `ZeroDivisionError` abgedeckt. Geben Sie beim Ausführen der folgenden Code-Zelle `0` ein:"
   ]
  },
  {
   "cell_type": "code",
   "execution_count": null,
   "metadata": {},
   "outputs": [],
   "source": [
    "divisor = int(input('Divisor: '))\n",
    "try:\n",
    "    print(6543 / divisor)\n",
    "except ArithmeticError:\n",
    "    print('Bei der Division ist ein Fehler aufgetreten')\n",
    "print(\"Programm wird normal beendet.\")       "
   ]
  },
  {
   "cell_type": "markdown",
   "metadata": {},
   "source": [
    "Das funktioniert, weil der `ZeroDivisionError` ein Spezialfall des `ArithmeticError` ist."
   ]
  },
  {
   "cell_type": "markdown",
   "metadata": {},
   "source": [
    "Im Prinzip würde auch das funktionieren:"
   ]
  },
  {
   "cell_type": "code",
   "execution_count": null,
   "metadata": {},
   "outputs": [],
   "source": [
    "divisor = int(input('Divisor: '))\n",
    "\n",
    "try:\n",
    "    print(6543 / divisor)\n",
    "except Exception:\n",
    "    print('Bei der Division ist ein Fehler aufgetreten')\n",
    "print(\"Programm wird normal beendet.\")       "
   ]
  },
  {
   "cell_type": "markdown",
   "metadata": {},
   "source": [
    "Allerdings haben wir hier wieder ein ähnliches Problem wie ganz zu Beginn, als wir beim `catch` keine Exception-Typ spezifiziert  haben: Wenn wir `Exception` abfangen,  reagieren wir auf den Großteil der Python-Fehlertypen und machen uns dadurch das Leben bei der Fehlersuche unnnötig schwer."
   ]
  },
  {
   "cell_type": "markdown",
   "metadata": {},
   "source": [
    "Wenn wir hingegen eine Nicht-Zahl (z.B. 'abc') eingeben, wird das Programm nach wie vor abgebrochen, weil die Umwandlung nach int außerhalb des ``try``-Blocks steht."
   ]
  },
  {
   "cell_type": "markdown",
   "metadata": {},
   "source": [
    "<div class=\"alert alert-block alert-info\">\n",
    "<b>Übung Exception-1</b>\n",
    "<p>Lassen sie die unmittelbar folgende Code-Zelle laufen und geben Sie statt einer Zahl den String 'abc' ein. Das Programm wird mit einer Fehlermeldung abgebrochen. Schreiben Sie den Code so um, dass auch dieser Fehler sauber im Programm behandelt und das Programm somit sauber beendet wird.</p>\n",
    "</div>"
   ]
  },
  {
   "cell_type": "code",
   "execution_count": null,
   "metadata": {},
   "outputs": [],
   "source": [
    "divisor = int(input('Geben Sie einen Divisor ein: '))\n",
    "try:\n",
    "    result = 8374949 / divisor\n",
    "    print('Ergebnis: {}'.format(result))\n",
    "except (ZeroDivisionError):\n",
    "    print('Bei der Division ist ein Fehler aufgetreten.')\n",
    "print(\"Programm wird normal beendet.\")"
   ]
  },
  {
   "cell_type": "markdown",
   "metadata": {},
   "source": [
    "### finally\n",
    "\n",
    "Falls wir ein Code-Fragment in jedem Fall ausführen wollen, also unabhängig davon, ob ein Fehler aufgetreten ist oder nicht, können wir einen `finally`-Block definieren. Da macht zum Beispiel Sinn, wenn wir irgendwelche Ressourcen wie Filehandles freigeben wollen.\n",
    "\n",
    "~~~\n",
    "try:\n",
    "    f = open('data.txt')\n",
    "    # make some computations on data\n",
    "except ZeroDivisionError:\n",
    "    print('Warning: Division by Zero in data.txt')\n",
    "finally:\n",
    "    f.close()\n",
    "    \n",
    "~~~"
   ]
  },
  {
   "cell_type": "markdown",
   "metadata": {},
   "source": [
    "## Exceptions wandern durch den Stack\n",
    "\n",
    "Ein großer Vorteil von Exceptions ist, dass wir sie nicht zwingend dort abfangen müssen, wo sie auftreten, weil sie durch die Programmhierarchie durchgereicht werden, bis sie irgendwo behandelt werden (oder auch nicht, was dann zum Programmabbruch führt). Zur Illustration schreiben wir eine Funktion, das den Benutzer nach einer Zahl fragt. Hier müssen wir berücksichtigen, dass der Benutzer etwas eingeben könnte, das nicht als Zahl interpretierbar ist. In diesem Fall würde bei Aufruf der Funktion `int()` (Zeile 3) ein `ValueError` ausgelöst:"
   ]
  },
  {
   "cell_type": "code",
   "execution_count": null,
   "metadata": {},
   "outputs": [],
   "source": [
    "def ask_for_int(msg):\n",
    "    try:\n",
    "        return int(input('{}: '.format(msg)))\n",
    "    except ValueError:\n",
    "        print('Das war keine Zahl!')\n",
    "        return ask_for_int(msg) # Run function again\n",
    "\n",
    "\n",
    "print(6543 / ask_for_int('Divisor eingeben'))"
   ]
  },
  {
   "cell_type": "markdown",
   "metadata": {},
   "source": [
    "Wir haben die Exception an Ort und Stelle (nämlich in der Funktion abgefangen). Nur nebenbei: im  `catch`-Block rufen wir aus der Funktion heraus, die Funktion so lange erneut auf, bis eine brauchbare Eingabe erfolgt. Man nennt dies Rekursion."
   ]
  },
  {
   "cell_type": "markdown",
   "metadata": {},
   "source": [
    "Da Exceptions aber durch den Stack gereicht werden, könnten wir die Exception auch außerhalb der Funktion (z.B. an einer zentralen Stelle im Programm) abfangen. Hier ein entsprechendes Beispiel:"
   ]
  },
  {
   "cell_type": "code",
   "execution_count": null,
   "metadata": {},
   "outputs": [],
   "source": [
    "def ask_for_int(msg):\n",
    "    return int(input('{}: '.format(msg)))\n",
    "\n",
    "try:\n",
    "    print(6543 / ask_for_int('Divisor eingeben'))\n",
    "except ValueError:\n",
    "    print('Das war keine Zahl!')"
   ]
  },
  {
   "cell_type": "markdown",
   "metadata": {},
   "source": [
    "Kleiner Exkurs: Falls Sie hier eine erneute Ausgabe haben möchten (wie im anderen Beispiel) können Sie das mit einer `while`-Schleife lösen:"
   ]
  },
  {
   "cell_type": "code",
   "execution_count": null,
   "metadata": {},
   "outputs": [],
   "source": [
    "def ask_for_int(msg):\n",
    "    return int(input('{}: '.format(msg)))\n",
    "\n",
    "while True:\n",
    "    try:\n",
    "        print(6543 / ask_for_int('Divisor eingeben'))\n",
    "        break\n",
    "    except ValueError:\n",
    "        print('Das war keine Zahl!')"
   ]
  },
  {
   "cell_type": "markdown",
   "metadata": {},
   "source": [
    "## Zugriff auf Ausnahme-Objekte\n",
    "Wenn eine Ausnahme auftritt, erzeugt Python ein Ausnahmeobjekt, das, wie wir gesehen haben, durchgereicht wird. Falls benötigt, können wir dieses Objekt im `catch`-Block sogar genauer untersuchen oder weiterverwenden."
   ]
  },
  {
   "cell_type": "code",
   "execution_count": 6,
   "metadata": {},
   "outputs": [
    {
     "name": "stdin",
     "output_type": "stream",
     "text": [
      "Divisor eingeben:  sfd\n"
     ]
    },
    {
     "name": "stdout",
     "output_type": "stream",
     "text": [
      "Ich kann nur durch eine Zahl dividieren!\n",
      "Das Problem war: (\"invalid literal for int() with base 10: 'sfd'\",)\n"
     ]
    }
   ],
   "source": [
    "def ask_for_int(msg):\n",
    "    return int(input('{}: '.format(msg)))\n",
    "\n",
    "try:\n",
    "    print(6543 / ask_for_int('Divisor eingeben'))\n",
    "except ValueError as exp:\n",
    "    print('Ich kann nur durch eine Zahl dividieren!')\n",
    "    print(f'Das Problem war: {exp.args}')"
   ]
  },
  {
   "cell_type": "markdown",
   "metadata": {},
   "source": [
    "Via `as` haben wir das Exception-Objekt in einer Variable `exp` gespeichert und  verwenden diese in Zeile 8, um daraus die originale Fehlermeldung zu extrahieren und auszugeben."
   ]
  },
  {
   "cell_type": "markdown",
   "metadata": {},
   "source": [
    "## Ausnahmen auslösen\n",
    "Bei Bedarf können wir sogar selbst Ausnahmen auslösen."
   ]
  },
  {
   "cell_type": "code",
   "execution_count": null,
   "metadata": {},
   "outputs": [],
   "source": [
    "def ask_for_int(msg):\n",
    "    return int(input('{}: '.format(msg)))\n",
    "\n",
    "try:\n",
    "    print(6543 / ask_for_int('Bitte Zahl eingeben: '))\n",
    "except ValueError as exp:\n",
    "    print('Da ist ein Fehler aufgetreten: Ungültige Eingabe')\n",
    "    raise exp"
   ]
  },
  {
   "cell_type": "markdown",
   "metadata": {},
   "source": [
    "Hier haben wir wie zuvor das Exception-Objekt in eine Variable gespeichert. Im `catch`-Block haben wir zunächst eine Meldung ausgegeben und dann den originalen Fehler erneut ausgelöst. Das kann sinnvoll sein, wenn wir an Ort und Stelle etwas tun müssen, das eigentliche Exception-Handling aber an anderer Stelle statt findet."
   ]
  },
  {
   "cell_type": "markdown",
   "metadata": {},
   "source": [
    "Häufiger braucht man aber erfahrungsgemäß die Möglichkeit, selbst eine Exception auszulösen:"
   ]
  },
  {
   "cell_type": "code",
   "execution_count": null,
   "metadata": {},
   "outputs": [],
   "source": [
    "def ask_for_int(msg):\n",
    "    return int(input('{}: '.format(msg)))\n",
    "\n",
    "grade = ask_for_int('Note eingeben: ')\n",
    "if grade < 1 or grade > 5:\n",
    "    raise ValueError(\"Input must be 1, 2, 3, 4 or 5!\")"
   ]
  },
  {
   "cell_type": "markdown",
   "metadata": {},
   "source": [
    "## Eigene Ausnahmen definieren\n",
    "\n",
    "Bei größeren Projekten ist es manchmal nützlich, eigene Ausnahmen oder sogar ganze Ausnahmehierarchien zu definieren um gezielt auf solche Ausnahmen reagieren zu können. "
   ]
  },
  {
   "cell_type": "code",
   "execution_count": null,
   "metadata": {},
   "outputs": [],
   "source": [
    "class MyAppException(Exception): pass\n",
    "class MyAppWarning(MyAppException): pass\n",
    "class MyAppError(MyAppException): pass\n",
    "class GradeValueException(MyAppError): pass"
   ]
  },
  {
   "cell_type": "markdown",
   "metadata": {},
   "source": [
    "Damit haben wir unsere eigene Ausnahmehierarchie definiert:\n",
    "\n",
    "~~~\n",
    "Exception\n",
    "|---- MyAppException\n",
    "      | ---- MyAppWarning\n",
    "      | ---- MyAppError\n",
    "             | ---- GradeValueException\n",
    "~~~\n",
    "\n",
    "Je nach Bedarf können wir hier nun z.B. auf alle Subtypen von `MyAppException` reagieren oder auf alle `MyAppWarnings` oder `MyAppErrors` oder ganz gezielt auf eine `GradeValueException`."
   ]
  },
  {
   "cell_type": "markdown",
   "metadata": {},
   "source": [
    "## Vertiefende Literatur\n",
    "Ich empfehle ausdrücklich, mindestens eine der folgenden Ressourcen zur Vertiefung zu lesen!\n",
    "\n",
    "  * Python Tutorial: \n",
    "\t* Kapitel 8\n",
    "\t\t* http://docs.python.org/3/tutorial/errors.html\n",
    "  * Klein, Kurs: \n",
    "     (https://www.diveinto.org/python3/your-first-python-program.html#exceptions)\n",
    "  \n",
    "  \n",
    "  * Klein, Buch: Kapitel 18\n",
    "  * Kofler: Kapitel 10\n",
    "  * Weigend: Kapitel 5.7 und S. 567 f.\n",
    "  * Pilgrim: Kapitel 1.7:\n",
    "    (https://www.diveinto.org/python3/your-first-python-program.html#exceptions)\n"
   ]
  },
  {
   "cell_type": "markdown",
   "metadata": {},
   "source": [
    "## Lizenz\n",
    "\n",
    "This notebook ist part of the course [Grundlagen der Programmierung](https://github.com/gvasold/gdp) held by [Gunter Vasold](https://online.uni-graz.at/kfu_online/wbForschungsportal.cbShowPortal?pPersonNr=51488) at Graz University 2017&thinsp;ff. \n",
    "\n",
    "<p>\n",
    "    It is licensed under <a href=\"https://creativecommons.org/licenses/by-nc-sa/4.0\">CC BY-NC-SA 4.0</a>\n",
    "</p>\n",
    "\n",
    "<table>\n",
    "    <tr>\n",
    "    <td>\n",
    "        <img style=\"height:22px\" \n",
    "             src=\"https://mirrors.creativecommons.org/presskit/icons/cc.svg?ref=chooser-v1\"/></li>\n",
    "    </td>\n",
    "    <td>\n",
    "    <img style=\"height:22px;\"\n",
    "         src=\"https://mirrors.creativecommons.org/presskit/icons/by.svg?ref=chooser-v1\" /></li>\n",
    "    </td>\n",
    "    <td>\n",
    "        <img style=\"height:22px;\"\n",
    "         src=\"https://mirrors.creativecommons.org/presskit/icons/nc.svg?ref=chooser-v1\" /></li>\n",
    "    </td>\n",
    "    <td>\n",
    "        <img style=\"height:22px;\"\n",
    "             src=\"https://mirrors.creativecommons.org/presskit/icons/sa.svg?ref=chooser-v1\" /></li>\n",
    "    </td>\n",
    "</tr>\n",
    "</table>"
   ]
  }
 ],
 "metadata": {
  "kernelspec": {
   "display_name": "Python 3 (ipykernel)",
   "language": "python",
   "name": "python3"
  },
  "language_info": {
   "codemirror_mode": {
    "name": "ipython",
    "version": 3
   },
   "file_extension": ".py",
   "mimetype": "text/x-python",
   "name": "python",
   "nbconvert_exporter": "python",
   "pygments_lexer": "ipython3",
   "version": "3.10.6"
  }
 },
 "nbformat": 4,
 "nbformat_minor": 4
}
