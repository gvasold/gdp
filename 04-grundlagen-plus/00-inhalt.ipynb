{
 "cells": [
  {
   "cell_type": "markdown",
   "id": "b50ca23e-7689-41d6-8ad7-0c9100b2c2f5",
   "metadata": {},
   "source": [
    "# Erweiterte Grundlagen\n",
    "\n",
    "In diesem Kapitel lernen wir ein paar wichtige Konzepte kennen:\n",
    "\n",
    "  1. [Ausnahmen](./01-ausnahmen.ipynb) sind spezielle Objekte, die von Python immer \n",
    "     erzeugt werden, wenn etwas Unerwartetes passiert. Wir lernen, was Ausnahmen sind, wie diese\n",
    "     hierarchisch organisiert sind, wie wir auf Ausnahmen reagieren können, und wie wir\n",
    "     Ausnahmen bei Bedarf sogar selbst auslösen können.\n",
    "  1. [Module](./02-module.ipynb) sind ein zentrales Element der Codeorganisation. Wir lernen\n",
    "     was Module sind, und wie wir diese selbst schreiben können.\n",
    "  1. [Existierende Module importieren](./03-existierende_module_importieren.ipynb) zeigt,\n",
    "     dass es zahlreiche nützliche Module gibt, die andere Leute bereits geschrieben und\n",
    "     bereit gestellt haben. Wir lernen, wie man diese sucht, installiert und im eigenen\n",
    "     Code verwenden kann.\n",
    "  1. Zuletzt lernen wir [Virtuelle Umgebungen](./04-virtuelle_umgebungen.ipynb) kennen.\n",
    "     Diese sind sehr nützlich, wenn es darum geht, zusätzlich importierte  Module sauber zu\n",
    "     verwalten undsollten deshalb in jedem Code-Projekt verwendet werden.   "
   ]
  }
 ],
 "metadata": {
  "kernelspec": {
   "display_name": "Python 3 (ipykernel)",
   "language": "python",
   "name": "python3"
  },
  "language_info": {
   "codemirror_mode": {
    "name": "ipython",
    "version": 3
   },
   "file_extension": ".py",
   "mimetype": "text/x-python",
   "name": "python",
   "nbconvert_exporter": "python",
   "pygments_lexer": "ipython3",
   "version": "3.13.7"
  }
 },
 "nbformat": 4,
 "nbformat_minor": 5
}
