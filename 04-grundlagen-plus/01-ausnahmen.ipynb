{
 "cells": [
  {
   "cell_type": "markdown",
   "metadata": {},
   "source": [
    "# Ausnahmen (Exceptions)"
   ]
  },
  {
   "cell_type": "markdown",
   "metadata": {},
   "source": [
    "## Was sind Ausnahmen?"
   ]
  },
  {
   "cell_type": "markdown",
   "metadata": {},
   "source": [
    "Wir haben schon mehrfach festgestellt, dass beim Ausführen von Programmen Fehler aufgetreten sind, die zum Abbruch des Programms geführt haben. Das passiert beispielsweise, wenn wir auf ein nicht existierendes Element einer Liste zuzugreifen versuchen:"
   ]
  },
  {
   "cell_type": "code",
   "execution_count": null,
   "metadata": {},
   "outputs": [],
   "source": [
    "names = ['Otto', 'Hugo', 'Maria']\n",
    "names[3]\n",
    "print('Das steht am Ende des Programms')"
   ]
  },
  {
   "cell_type": "markdown",
   "metadata": {},
   "source": [
    "Oder wenn wir versuchen eine Zahl durch 0 zu dividieren:"
   ]
  },
  {
   "cell_type": "code",
   "execution_count": null,
   "metadata": {},
   "outputs": [],
   "source": [
    "user_input = 0 \n",
    "2335 / user_input\n",
    "print('Das steht am Ende des Programms')"
   ]
  },
  {
   "cell_type": "markdown",
   "metadata": {},
   "source": [
    "Oder wenn wir versuchen, eine nicht vorhandene Datei zu öffnen:"
   ]
  },
  {
   "cell_type": "code",
   "execution_count": null,
   "metadata": {},
   "outputs": [],
   "source": [
    "with open('hudriwudri.txt') as fh:\n",
    "    print(fh.read())\n",
    "print('Das steht am Ende des Programms')    "
   ]
  },
  {
   "cell_type": "markdown",
   "metadata": {},
   "source": [
    "Da die Ausgabe der `print()`-Funktion (jeweils Zeile 3) nie erfolgt, sehen wir, dass in allen Fällen Python das Programm sofort abbricht, sobald der Fehler auftritt. Das passiert jedoch nur, wenn wir in unserem Programm keinen Mechanismus einbauen, der auf die Ausnahme (d.h. den Fehler) reagiert. Wichtig ist zunächst aber einmal, dass es verschiedene Arten von Ausnahmen gibt. Das ist gut, weil wir dadurch selektiv auf bestimmte Ausnahmen in einer bestimmten Weise reagieren können. Wir werden später sehen, wie das funktioniert. Sehen wir uns aber zuerst ein paar Ausnahme-Typen an."
   ]
  },
  {
   "cell_type": "markdown",
   "metadata": {},
   "source": [
    "## Ausnahme-Typen"
   ]
  },
  {
   "cell_type": "markdown",
   "metadata": {},
   "source": [
    " Hier noch einmal die drei Fragmente, mit denen wir am Anfang dieses Notebooks Fehler ausgelöst haben:"
   ]
  },
  {
   "cell_type": "code",
   "execution_count": null,
   "metadata": {},
   "outputs": [],
   "source": [
    "names = ['Otto', 'Hugo', 'Maria']\n",
    "names[3]"
   ]
  },
  {
   "cell_type": "code",
   "execution_count": null,
   "metadata": {},
   "outputs": [],
   "source": [
    "user_input = 0 \n",
    "2335 / user_input"
   ]
  },
  {
   "cell_type": "code",
   "execution_count": null,
   "metadata": {},
   "outputs": [],
   "source": [
    "with open('hudriwudri.txt') as fh:\n",
    "    print(fh.read())"
   ]
  },
  {
   "cell_type": "markdown",
   "metadata": {},
   "source": [
    "Wenn wir genau hinsehen, stellen wir fest, dass es sich um drei unterschiedliche Arten von Fehlern handelt:\n",
    "\n",
    "* IndexError bei (`names[3]`)\n",
    "* ZeroDivisionError bei (`2335 / user_input`)\n",
    "* FileNotFoundError bei (`open('hudriwudri.txt')`)\n",
    "\n",
    "Python generiert also, abhängig davon, welche Art von Fehler aufgetreten ist, ein entsprechendes Ausnahme-Objekt. \n",
    "\n",
    "Diese Fehler sind hierarchisch organisiert, d.h. dass jede zusätzliche Ebene eine speziellere Art eines Fehlers bedeutet. \n",
    "\n",
    "Die komplette Hierarchie der eingebauten Exceptions findet sich hier: https://docs.python.org/3/library/exceptions.html#exception-hierarchy. Öffnen Sie diesen Link in einem eigenen Fenster, damit Sie es parallel zum Notebook sehen können!)\n",
    "\n",
    "Die allgemeinste Art eines Fehlers ist also die `BaseException`. Abgeleitet davon gibt es z.B. die `KeyboardInterrupt`-Exception (wird ausgelöst, wenn der Benutzer das Programm mit 'STRG-C' abbricht) oder die `Exception`, die selbst wieder Basisklasse für viele weitere Exceptions ist, wie etwa des `ArithmethicError` oder des `LookupError`. Der `ArithmeticError` wiederum ist Basisklasse für `FloatingPointError`, `OverflowError` und des gerade aufgetretenen `ZeroDivisionError`.\n",
    "\n",
    "Dieses Prinzip sollte Ihnen bekannt vorkommen. Es handelt sich dabei im Vererbung im Sinne der Objektorientierung.\n",
    "Ausgehend von einer Basisklasse `BaseException` wird spezialisiert. D.h. `Exception`ist ein Spezialfall von `BaseException`, `ArithmeticError` wieder ein Spezialfall von `Exception` usw.\n",
    "\n",
    "Wenn wir uns nur diesen Ausschnitt an Exceptions als Baum aufzeichnen, sieht das so aus:"
   ]
  },
  {
   "cell_type": "markdown",
   "metadata": {},
   "source": [
    "![Exception Hierarchie](data:image/png;base64,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)"
   ]
  },
  {
   "cell_type": "markdown",
   "metadata": {},
   "source": [
    "Der Clou an der Sache mit der Vererbung ist, dass die folgenden Aussagen aus der Sicht von Python alle korrekt sind:\n",
    "\n",
    "* Ein `ZeroDivisionError` ist ein `ZeroDivisionError`\n",
    "* Ein `ZeroDivisionError` ist ein `ArithmeticError`\n",
    "* Ein `ZeroDivisionError` ist eine `Exception`\n",
    "* Ein `ZeroDivisionError` ist eine `BaseException`\n",
    "\n",
    "Wenn wir also auf einen `ZeroDivisionError` reagieren wollen, können wir genau diesen Exception-Typ abfangen. Alternativ könnten wir alle `ArithmeticError` gemeinsam an einer Stelle behandeln oder sogar alle `Exception`-Objekte, was aber keine gute Idee ist."
   ]
  },
  {
   "cell_type": "markdown",
   "metadata": {},
   "source": [
    "## Auf Ausnahmen reagieren\n",
    "\n",
    "Wenn Python also auf ein Problem stößt, erzeugt es ein Ausnahme-Objekt. Dieses Objekt kann \"abgefangen\" werden. Sehen wir uns das an einem konkreten Beispiel an:"
   ]
  },
  {
   "cell_type": "code",
   "execution_count": null,
   "metadata": {},
   "outputs": [],
   "source": [
    "divisor = int(input('Divisor: '))\n",
    "try:\n",
    "    print(6543 / divisor)\n",
    "except:\n",
    "    print('Bei der Division ist ein Fehler aufgetreten')\n",
    "print(\"Programm wird normal beendet.\")   "
   ]
  },
  {
   "cell_type": "markdown",
   "metadata": {},
   "source": [
    "Wir haben hier den \"gefährlichen\" Codeteil (also den Teil, wo eine Division durch 0 passieren könnte) in einen \"`try`\"-Block gesetzt. Wenn innerhalb des `try`-Blocks ein Fehler auftritt, wird der \"`catch`\" Block aktiviert und dort (in unserem trivialen Beispiel) die entsprechende Fehlermeldung ausgegeben. Wesentlich dabei ist aber, dass -- anders als bisher -- beim Auftreten der Ausnahme das Programm nicht mehr abgebrochen wird, was wir daran erkennen können, das die `print()`-Funktion in Zeile 6 ausgeführt wird. Wie haben die Ausnahme selbst behandelt und Python sieht deshalb keine Veranlassung mehr, das Programm wegen des Fehlers zu beenden."
   ]
  },
  {
   "cell_type": "markdown",
   "metadata": {},
   "source": [
    "Was wir hier gemacht haben, ist jedoch **ganz schlechter Stil**: Wir haben jede Art von Fehler oder Warnung abgefangen. Damit werden unter Umständen auch Fehler abgefangen, die wir gar nicht abfangen wollten, und die unter Umständen entscheidende Hinweise zur Fehlersuche geben könnten. Hier ein (sehr konstruiertes) Beispiel um das zu verdeutlichen. Geben Sie zuerst `0` ein, um einen `ZeroDivisionError` auszulösen:"
   ]
  },
  {
   "cell_type": "code",
   "execution_count": null,
   "metadata": {},
   "outputs": [],
   "source": [
    "divisor = int(input('Divisor: '))\n",
    "some_names = ['Otto', 'Anna']\n",
    "try:\n",
    "    print(some_names[divisor])\n",
    "    print(6543 / divisor)\n",
    "except:\n",
    "    print('Bei der Division ist ein Fehler aufgetreten')\n",
    "print(\"Programm wird normal beendet.\")       "
   ]
  },
  {
   "cell_type": "markdown",
   "metadata": {},
   "source": [
    "Das ist das, was wir schon kennen und auch erwartet haben.\n",
    "\n",
    "Lassen Sie nun die Zelle oben noch einmal laufen und geben Sie `5` ein! Python meldet erneut, dass es ein Problem beim Dividieren gegeben hat. In Wahrheit war mit der Division alles in Ordnung; das Problem war, dass wir in Zeile 4 auf Index `5` einer Liste mit nur zwei Elementen zugegriffen haben. Wir haben es hier also nicht mehr mit einem `ZeroDivisionError` zu tun, sondern mit einem `IndexError`. Da wir aber alle Exceptions in unserem `catch` abfangen, bekommen wir die echte Fehlermedlung nie zu Gesicht und entsprechend schwierig wird sich die Fehlersuche gestalten."
   ]
  },
  {
   "cell_type": "markdown",
   "metadata": {},
   "source": [
    "Das ist der Grund, warum ein\n",
    "\n",
    "```python\n",
    "catch:\n",
    "```\n",
    "\n",
    "nie in dieser allgemeinsten Form verwendet werden soll. Geben Sie statt dessen den Typ der Exception, auf die reagiert werden soll, möglichst genau an (Zeile 6):"
   ]
  },
  {
   "cell_type": "code",
   "execution_count": null,
   "metadata": {},
   "outputs": [],
   "source": [
    "divisor = int(input('Divisor: '))\n",
    "some_names = ['Otto', 'Anna']\n",
    "try:\n",
    "    print(some_names[divisor])\n",
    "    print(6543 / divisor)\n",
    "except ZeroDivisionError:\n",
    "    print('Bei der Division ist ein Fehler aufgetreten')\n",
    "print(\"Programm wird normal beendet.\")       "
   ]
  },
  {
   "cell_type": "markdown",
   "metadata": {},
   "source": [
    "So wie das `catch` nun geschrieben ist, fühlt es sich nur noch für Ausnahmen vom Typ `ZeroDivisionError` zuständig. Probieren Sie es aus, indem Sie zuerst wieder `0` eingeben und dann `5`. Bei `5` sehen Sie nun wieder den `IndexError` und Sie haben eine Chance, herauszufinden, was falsch gelaufen ist."
   ]
  },
  {
   "cell_type": "markdown",
   "metadata": {},
   "source": [
    "### Auf mehrere Exceptions reagieren\n",
    "\n",
    "Im letzten Beispiel haben wir je nach Eingabe einen `ZeroDivisionError` oder einen `IndexError`  ausgelöst. Abgefangen wurde aber nur der `ZeroDivisionError`. Wenn wir auch auf den `IndexError` selbst reagieren wollen, können wir ein weiteres `catch` einbauen:"
   ]
  },
  {
   "cell_type": "code",
   "execution_count": null,
   "metadata": {},
   "outputs": [],
   "source": [
    "divisor = int(input('Divisor: '))\n",
    "some_names = ['Otto', 'Anna']\n",
    "try:\n",
    "    print(some_names[divisor])\n",
    "    print(6543 / divisor)\n",
    "except ZeroDivisionError:\n",
    "    print('Bei der Division ist ein Fehler aufgetreten')\n",
    "except IndexError:\n",
    "    print('Die Liste hat nicht so viele Elemente!')\n",
    "print(\"Programm wird normal beendet.\")   "
   ]
  },
  {
   "cell_type": "markdown",
   "metadata": {},
   "source": [
    "Die Kunst beim Exception Handling ist herauszufinden\n",
    "* wann es überhaupt Sinn macht, eine Exception abzufangen.\n",
    "  * Wenn ein Fehler so gravierend ist, dass die weitere Programmausführung keinen Sinn macht, macht es in der Regel auch keinen Sinn, die Exception abzufangen (außer Sie wollen z.B. eine benutzerfreundllicher Fehlermeldung ausgeben und dann das Programm selbst beenden).\n",
    "  * Wenn das Problem keine gravierenden Auswirkungen hat, könnte man im `catch` Block beispielsweise eine Warnung ausgeben und dann das Programm weiter laufen lassen.\n",
    "  * Manchmal möchte man das Programm sogar bei schweren Fehlern weiter laufen lassen. Beispielsweise sollte ein Webserver nicht durch eine fehlerhafte Anfrage beendet werden. In so einem Fall fängt man die Exception ab und sendet eine entsprechende Anfrage an den Client zurück und nimmt dann die nächste Anfage entgegen.\n",
    "  * Wenn ein Fehler durch eine unmittelbare Benutzereingabe auftritt, kann man u.U. im `catch` Block die Eingabe erneut einfordern (hier ist es aber normalerweise besser, die Eingabe explizit zu validieren).\n",
    "  * Manchmal kann es Sinn machen, das Programm quasi zu resetten, also z.B. einen Defaultwert zu verwenden. Das muss aber gut bedacht werden.\n",
    "* An welcher Stelle die Ausnahme behandelt werden soll\n",
    "  * Wir wir noch sehen werden, muss die Exception nicht zwingend dort abgefangen werden, wo sie auftritt."
   ]
  },
  {
   "cell_type": "markdown",
   "metadata": {},
   "source": [
    "Ehe wir weiter machen, noch ein Beispiel, bei dem das Exception Handling vielleicht mehr Sinn macht:"
   ]
  },
  {
   "cell_type": "code",
   "execution_count": null,
   "metadata": {},
   "outputs": [],
   "source": [
    "\n",
    "def ask_for_number():\n",
    "    \"\"\"Ask for number.\n",
    "    \n",
    "    Ask again if user did enter a non number until he enters a number.\n",
    "    \"\"\"\n",
    "    while True:\n",
    "        try: \n",
    "            num = int(input('Geben Sie eine Zahl ein: '))\n",
    "            break\n",
    "        except ValueError:\n",
    "            print('Das war keine Zahl!')\n",
    "    return num\n",
    "    \n",
    "print(f'User hat {ask_for_number()} eingegeben.')\n",
    "    "
   ]
  },
  {
   "cell_type": "markdown",
   "metadata": {},
   "source": [
    "Der Trick sind hier die beiden Zeile im ``try``-Block: Wir versuchen zuerst, den eingegeben String in einen Integer umzuwandeln. Wenn das funktioniert, wird die nächste Zeile (``break``) ausgeführt und somit die Schleife beendet. Der umgewandelte Wert wird zurückgeliefert. Wenn aber beim Umwandeln etwas schief geht, wirft Python einen `ValueError`, den wir mit ``catch`` abfangen und eine entsprechende Meldung ausgeben. Da im ``catch``-Block kein ``break`` steht, und das ``break`` im ``try``-Block wegen der Exception nicht erreicht wird, wird der Benutzer imm nächsten Scheifendurchlauf erneut gefragt."
   ]
  },
  {
   "cell_type": "markdown",
   "metadata": {},
   "source": [
    "### Die Typ-Hierarchie nutzen\n",
    "\n",
    "Holen wir uns noch einmal das vorletzte Beispiel in etwas vereinfachter Form:"
   ]
  },
  {
   "cell_type": "code",
   "execution_count": null,
   "metadata": {},
   "outputs": [],
   "source": [
    "divisor = int(input('Divisor: '))\n",
    "try:\n",
    "    print(6543 / divisor)\n",
    "except ZeroDivisionError:\n",
    "    print('Bei der Division ist ein Fehler aufgetreten')\n",
    "print(\"Programm wird normal beendet.\")       "
   ]
  },
  {
   "cell_type": "markdown",
   "metadata": {},
   "source": [
    "Hier haben wir auf einen einen `catch`-Block für den `ZeroDivisionError` definiert. Wir reagieren als ausschließlich auf Exception dieses Typs. \n",
    "\n",
    "Alternativ hätten wir auch höher in der Exception-Hierarchie einsteigen können: Wenn wir nicht nur den `ZeroDivisionError`, sondern alle `ArithmeticError`-Ausnahmen abfangen, ist damit auch der `ZeroDivisionError` abgedeckt. "
   ]
  },
  {
   "cell_type": "markdown",
   "metadata": {},
   "source": [
    "![Exception Hierarchie](data:image/png;base64,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)"
   ]
  },
  {
   "cell_type": "markdown",
   "metadata": {},
   "source": [
    "Geben Sie beim Ausführen der folgenden Code-Zelle `0` ein:"
   ]
  },
  {
   "cell_type": "code",
   "execution_count": null,
   "metadata": {},
   "outputs": [],
   "source": [
    "divisor = int(input('Divisor: '))\n",
    "try:\n",
    "    print(6543 / divisor)\n",
    "except ArithmeticError:\n",
    "    print('Es ist ein Rechenfehler aufgetreten!')\n",
    "print(\"Programm wird normal beendet.\")       "
   ]
  },
  {
   "cell_type": "markdown",
   "metadata": {},
   "source": [
    "Das funktioniert, weil der `ZeroDivisionError` ein Spezialfall des `ArithmeticError` ist."
   ]
  },
  {
   "cell_type": "markdown",
   "metadata": {},
   "source": [
    "Im Prinzip würde auch das funktionieren:"
   ]
  },
  {
   "cell_type": "code",
   "execution_count": null,
   "metadata": {},
   "outputs": [],
   "source": [
    "divisor = int(input('Divisor: '))\n",
    "\n",
    "try:\n",
    "    print(6543 / divisor)\n",
    "except Exception:\n",
    "    print('Es ist ein Fehler aufgetreten!')\n",
    "print(\"Programm wird normal beendet.\")       "
   ]
  },
  {
   "cell_type": "markdown",
   "metadata": {},
   "source": [
    "Allerdings haben wir hier wieder ein ähnliches Problem wie ganz zu Beginn, als wir beim `catch` keine Exception-Typ spezifiziert  haben: Wenn wir `Exception` abfangen,  reagieren wir auf den Großteil der Python-Fehlertypen und machen uns dadurch das Leben bei der Fehlersuche unnnötig schwer."
   ]
  },
  {
   "cell_type": "markdown",
   "metadata": {},
   "source": [
    "Wenn wir hingegen eine Nicht-Zahl (z.B. 'abc') eingeben, wird das Programm nach wie vor abgebrochen, weil die Umwandlung nach int außerhalb des ``try``-Blocks steht."
   ]
  },
  {
   "cell_type": "markdown",
   "metadata": {},
   "source": [
    "<div class=\"alert alert-block alert-info\">\n",
    "<b>Übung Exception-1</b>\n",
    "<p>Lassen sie die unmittelbar folgende Code-Zelle laufen und geben Sie statt einer Zahl den String 'abc' ein. Das Programm wird mit einer Fehlermeldung abgebrochen. Schreiben Sie den Code so um, dass auch dieser Fehler sauber im Programm behandelt und das Programm somit sauber beendet wird.</p>\n",
    "</div>"
   ]
  },
  {
   "cell_type": "code",
   "execution_count": null,
   "metadata": {},
   "outputs": [],
   "source": [
    "divisor = int(input('Geben Sie einen Divisor ein: '))\n",
    "try:\n",
    "    result = 8374949 / divisor\n",
    "    print('Ergebnis: {result}')\n",
    "except (ZeroDivisionError):\n",
    "    print('Bei der Division ist ein Fehler aufgetreten.')\n",
    "print(\"Programm wird normal beendet.\")"
   ]
  },
  {
   "cell_type": "markdown",
   "metadata": {},
   "source": [
    "### finally\n",
    "\n",
    "Falls wir ein Code-Fragment in jedem Fall ausführen wollen, also unabhängig davon, ob ein Fehler aufgetreten ist oder nicht, können wir einen `finally`-Block definieren. Da macht zum Beispiel Sinn, wenn wir irgendwelche Ressourcen wie Filehandles freigeben wollen.\n",
    "\n",
    "~~~\n",
    "try:\n",
    "    f = open('data.txt')\n",
    "    # make some computations on data\n",
    "except ZeroDivisionError:\n",
    "    print('Warning: Division by Zero in data.txt')\n",
    "finally:\n",
    "    f.close()\n",
    "    \n",
    "~~~"
   ]
  },
  {
   "cell_type": "markdown",
   "metadata": {},
   "source": [
    "## Exceptions wandern durch den Stack\n",
    "\n",
    "Ein großer Vorteil von Exceptions ist, dass wir sie nicht zwingend dort abfangen müssen, wo sie auftreten, weil sie durch die Aufrufhierarchie durchgereicht werden, bis sie irgendwo behandelt werden (oder auch nicht, was dann zum Programmabbruch führt). Zur Illustration schreiben wir eine Funktion, das den Benutzer nach einer Zahl fragt. Hier müssen wir berücksichtigen, dass der Benutzer etwas eingeben könnte, das nicht als Zahl interpretierbar ist. In diesem Fall würde bei Aufruf der Funktion `int()` (Zeile 3) ein `ValueError` ausgelöst:"
   ]
  },
  {
   "cell_type": "code",
   "execution_count": null,
   "metadata": {},
   "outputs": [],
   "source": [
    "def ask_for_int(msg):\n",
    "    try:\n",
    "        return int(input('{msg}: '))\n",
    "    except ValueError:\n",
    "        print('Das war keine Zahl!')\n",
    "        return ask_for_int(msg) # Run function again\n",
    "\n",
    "\n",
    "print(6543 / ask_for_int('Divisor eingeben'))"
   ]
  },
  {
   "cell_type": "markdown",
   "metadata": {},
   "source": [
    "Wir haben die Exception an Ort und Stelle (nämlich in der Funktion abgefangen). Nur nebenbei: im  `catch`-Block rufen wir aus der Funktion heraus, die Funktion so lange erneut auf, bis eine brauchbare Eingabe erfolgt. Man nennt dies Rekursion."
   ]
  },
  {
   "cell_type": "markdown",
   "metadata": {},
   "source": [
    "Da Exceptions aber durch den Stack gereicht werden, könnten wir die Exception auch außerhalb der Funktion (z.B. an einer zentralen Stelle im Programm) abfangen. Hier ein entsprechendes Beispiel:"
   ]
  },
  {
   "cell_type": "code",
   "execution_count": null,
   "metadata": {},
   "outputs": [],
   "source": [
    "def ask_for_int(msg):\n",
    "    return int(input('{msg}: '))\n",
    "\n",
    "try:\n",
    "    print(6543 / ask_for_int('Divisor eingeben'))\n",
    "except ValueError:\n",
    "    print('Das war keine Zahl!')"
   ]
  },
  {
   "cell_type": "markdown",
   "metadata": {},
   "source": [
    "Kleiner Exkurs: Falls Sie hier eine erneute Ausgabe haben möchten (wie im anderen Beispiel) können Sie das mit einer `while`-Schleife lösen:"
   ]
  },
  {
   "cell_type": "code",
   "execution_count": null,
   "metadata": {},
   "outputs": [],
   "source": [
    "def ask_for_int(msg):\n",
    "    return int(input('{msg}: '))\n",
    "\n",
    "while True:\n",
    "    try:\n",
    "        print(6543 / ask_for_int('Divisor eingeben'))\n",
    "        break\n",
    "    except ValueError:\n",
    "        print('Das war keine Zahl!')"
   ]
  },
  {
   "cell_type": "markdown",
   "metadata": {},
   "source": [
    "## Zugriff auf Ausnahme-Objekte\n",
    "Wenn eine Ausnahme auftritt, erzeugt Python ein Ausnahmeobjekt, das, wie wir gesehen haben, durchgereicht wird. Falls benötigt, können wir dieses Objekt im `catch`-Block sogar genauer untersuchen oder weiterverwenden."
   ]
  },
  {
   "cell_type": "code",
   "execution_count": null,
   "metadata": {},
   "outputs": [],
   "source": [
    "def ask_for_int(msg):\n",
    "    return int(input('{msg}: '))\n",
    "\n",
    "try:\n",
    "    print(6543 / ask_for_int('Divisor eingeben'))\n",
    "except ValueError as exp:\n",
    "    print('Ich kann nur durch eine Zahl dividieren!')\n",
    "    print(f'Das Problem war: {exp.args}')"
   ]
  },
  {
   "cell_type": "markdown",
   "metadata": {},
   "source": [
    "Via `as` haben wir das Exception-Objekt in einer Variable `exp` zugewiesen und  verwenden diese in Zeile 8, um daraus die originale Fehlermeldung zu extrahieren und auszugeben."
   ]
  },
  {
   "cell_type": "markdown",
   "metadata": {},
   "source": [
    "## Ausnahmen auslösen\n",
    "Bei Bedarf können wir sogar selbst Ausnahmen auslösen."
   ]
  },
  {
   "cell_type": "code",
   "execution_count": null,
   "metadata": {},
   "outputs": [],
   "source": [
    "def ask_for_int(msg):\n",
    "    return int(input('{msg}: '))\n",
    "\n",
    "try:\n",
    "    print(6543 / ask_for_int('Bitte Zahl eingeben: '))\n",
    "except ValueError as exp:\n",
    "    print('Da ist ein Fehler aufgetreten: Ungültige Eingabe')\n",
    "    raise exp"
   ]
  },
  {
   "cell_type": "markdown",
   "metadata": {},
   "source": [
    "Hier haben wir wie zuvor das Exception-Objekt in eine Variable gespeichert. Im `catch`-Block haben wir zunächst eine Meldung ausgegeben und dann den originalen Fehler erneut ausgelöst. Das kann sinnvoll sein, wenn wir an Ort und Stelle etwas tun müssen, das eigentliche Exception-Handling aber an anderer Stelle statt findet."
   ]
  },
  {
   "cell_type": "markdown",
   "metadata": {},
   "source": [
    "Häufiger braucht man aber erfahrungsgemäß die Möglichkeit, selbst eine Exception auszulösen:"
   ]
  },
  {
   "cell_type": "code",
   "execution_count": null,
   "metadata": {},
   "outputs": [],
   "source": [
    "def ask_for_int(msg):\n",
    "    return int(input('{msg}: '))\n",
    "\n",
    "grade = ask_for_int('Note eingeben: ')\n",
    "if grade < 1 or grade > 5:\n",
    "    raise ValueError(\"Input must be 1, 2, 3, 4 or 5!\")"
   ]
  },
  {
   "cell_type": "markdown",
   "metadata": {},
   "source": [
    "## Eigene Ausnahmen definieren\n",
    "\n",
    "Bei größeren Projekten ist es manchmal nützlich, eigene Ausnahmen oder sogar ganze Ausnahmehierarchien zu definieren um gezielt auf solche Ausnahmen reagieren zu können. "
   ]
  },
  {
   "cell_type": "code",
   "execution_count": null,
   "metadata": {},
   "outputs": [],
   "source": [
    "class MyAppException(Exception): pass\n",
    "class MyAppWarning(MyAppException): pass\n",
    "class MyAppError(MyAppException): pass\n",
    "class GradeValueException(MyAppError): pass"
   ]
  },
  {
   "cell_type": "markdown",
   "metadata": {},
   "source": [
    "Damit haben wir unsere eigene Ausnahmehierarchie definiert:\n",
    "\n",
    "~~~\n",
    "Exception\n",
    "|---- MyAppException\n",
    "      | ---- MyAppWarning\n",
    "      | ---- MyAppError\n",
    "             | ---- GradeValueException\n",
    "~~~\n",
    "\n",
    "Je nach Bedarf können wir hier nun z.B. auf alle Subtypen von `MyAppException` reagieren oder auf alle `MyAppWarnings` oder `MyAppErrors` oder ganz gezielt auf eine `GradeValueException`."
   ]
  },
  {
   "cell_type": "markdown",
   "metadata": {},
   "source": [
    "## Vertiefende Literatur\n",
    "Ich empfehle ausdrücklich, mindestens eine der folgenden Ressourcen zur Vertiefung zu lesen!\n",
    "\n",
    "  * Python Tutorial: \n",
    "\t* Kapitel 8\n",
    "\t\t* http://docs.python.org/3/tutorial/errors.html\n",
    "  * Klein, Kurs: \n",
    "     (https://www.diveinto.org/python3/your-first-python-program.html#exceptions)\n",
    "  \n",
    "  \n",
    "  * Klein, Buch: Kapitel 18.\n",
    "  * Kofler: Kapitel 10.\n",
    "  * Inden: Kapitel 9.\n",
    "  * Weigend: Kapitel 5.7 und S. 567 f.\n",
    "  * Pilgrim: Kapitel 1.7:\n",
    "    (https://www.diveinto.org/python3/your-first-python-program.html#exceptions)"
   ]
  },
  {
   "cell_type": "markdown",
   "metadata": {},
   "source": [
    "## Lizenz\n",
    "\n",
    "This notebook ist part of the course [Grundlagen der Programmierung](https://github.com/gvasold/gdp) held by [Gunter Vasold](https://online.uni-graz.at/kfu_online/wbForschungsportal.cbShowPortal?pPersonNr=51488) at Graz University 2017&thinsp;ff. \n",
    "\n",
    "<p>\n",
    "    It is licensed under <a href=\"https://creativecommons.org/licenses/by-nc-sa/4.0\">CC BY-NC-SA 4.0</a>\n",
    "</p>\n",
    "\n",
    "<table>\n",
    "    <tr>\n",
    "    <td>\n",
    "        <img style=\"height:22px\" \n",
    "             src=\"https://mirrors.creativecommons.org/presskit/icons/cc.svg?ref=chooser-v1\"/></li>\n",
    "    </td>\n",
    "    <td>\n",
    "    <img style=\"height:22px;\"\n",
    "         src=\"https://mirrors.creativecommons.org/presskit/icons/by.svg?ref=chooser-v1\" /></li>\n",
    "    </td>\n",
    "    <td>\n",
    "        <img style=\"height:22px;\"\n",
    "         src=\"https://mirrors.creativecommons.org/presskit/icons/nc.svg?ref=chooser-v1\" /></li>\n",
    "    </td>\n",
    "    <td>\n",
    "        <img style=\"height:22px;\"\n",
    "             src=\"https://mirrors.creativecommons.org/presskit/icons/sa.svg?ref=chooser-v1\" /></li>\n",
    "    </td>\n",
    "</tr>\n",
    "</table>"
   ]
  }
 ],
 "metadata": {
  "kernelspec": {
   "display_name": "Python 3 (ipykernel)",
   "language": "python",
   "name": "python3"
  },
  "language_info": {
   "codemirror_mode": {
    "name": "ipython",
    "version": 3
   },
   "file_extension": ".py",
   "mimetype": "text/x-python",
   "name": "python",
   "nbconvert_exporter": "python",
   "pygments_lexer": "ipython3",
   "version": "3.12.3"
  }
 },
 "nbformat": 4,
 "nbformat_minor": 4
}
