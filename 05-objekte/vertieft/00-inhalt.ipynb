{
 "cells": [
  {
   "cell_type": "markdown",
   "id": "87257f7c-345b-443c-8090-8530cc9bc767",
   "metadata": {},
   "source": [
    "# Inhalt\n",
    "\n",
    "Dieses Verzeichnis enhält drei Notebooks, die das Thema \"Objektorientierung\" etwas vertiefen.\n",
    "\n",
    "*Diese drei Notebooks sind kein Prüfungsstoff*\n",
    "\n",
    "- [Objektorientierte Programmierung 1: Grundlagen](objekte_1.ipynb)\n",
    "- [Objektorientiere Programmierung: Etwas Theorie](objekte_2.ipynb)\n",
    "- [Objektorientiere Programmierung: Vertiefung](objekte_3.ipynb)"
   ]
  },
  {
   "cell_type": "code",
   "execution_count": null,
   "id": "87344b73-2fdb-46ed-ae01-dcf19e913639",
   "metadata": {},
   "outputs": [],
   "source": []
  }
 ],
 "metadata": {
  "kernelspec": {
   "display_name": "Python 3 (ipykernel)",
   "language": "python",
   "name": "python3"
  },
  "language_info": {
   "codemirror_mode": {
    "name": "ipython",
    "version": 3
   },
   "file_extension": ".py",
   "mimetype": "text/x-python",
   "name": "python",
   "nbconvert_exporter": "python",
   "pygments_lexer": "ipython3",
   "version": "3.13.7"
  }
 },
 "nbformat": 4,
 "nbformat_minor": 5
}
