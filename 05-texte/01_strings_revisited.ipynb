{
 "cells": [
  {
   "cell_type": "markdown",
   "metadata": {},
   "source": [
    "# Strings revisited"
   ]
  },
  {
   "cell_type": "markdown",
   "metadata": {},
   "source": [
    "## Vorbemerkung"
   ]
  },
  {
   "cell_type": "markdown",
   "metadata": {},
   "source": [
    "In diesem Notebook verwenden wir den Text \"Der Mann von vierzig Jahren\" von Jakob Wassermann. Dieser Text stammt aus dem Jahr 1913 und wurde vom Projekt Gutenberg digitalisiert (http://www.gutenberg.org/ebooks/15736). Um die Arbeit mit dem Text zu erleichtern, habe ich die Metadaten und Copyright-Hinweise aus dem Text entfernt und in eigene Dateien ausgelagert. Die vollständige Fassung ist unter der oben angeführten Adresse abrufbar. Die Gutenberg-Lizenz erfordert die Angabe des folgendes Textes:\n",
    "\n",
    "*This eBook is for the use of anyone anywhere at no cost and with almost no restrictions whatsoever.  You may copy it, give it away or re-use it under the terms of the Project Gutenberg License included with this eBook or online at www.gutenberg.net*"
   ]
  },
  {
   "cell_type": "markdown",
   "metadata": {},
   "source": [
    "Übung: Wir wollen den gesamten Inhalt des Romans ein einen einzigen String mit dem Namen `text` einlesen. Die einzulesende Datei ist `data/wassermann/der_mann_von_vierzig_jahren.txt`. "
   ]
  },
  {
   "cell_type": "code",
   "execution_count": null,
   "metadata": {},
   "outputs": [],
   "source": [
    "#TODO"
   ]
  },
  {
   "cell_type": "markdown",
   "metadata": {},
   "source": [
    "## str als Sequenztyp (Auffrischung)"
   ]
  },
  {
   "cell_type": "markdown",
   "metadata": {},
   "source": [
    "Wie haben bereits den Datentyp `str` kennengelernt und uns mit Sequenztypen wie `list` beschäftigt. Da auch `str` ein Sequenztyp ist, stellten Strings ähnliche Schnittstellen bereit wie andere Sequenztypen. Wir können die Länge des Strings mit der Funktion `len()` ermitteln:"
   ]
  },
  {
   "cell_type": "code",
   "execution_count": null,
   "metadata": {},
   "outputs": [],
   "source": [
    "# TODO"
   ]
  },
  {
   "cell_type": "markdown",
   "metadata": {},
   "source": [
    "Mit dem `in` Operator können wir feststellen, ob ein Zeichen oder ein Substring im String enthalten ist. Gibt es im Text ein `Y`?"
   ]
  },
  {
   "cell_type": "code",
   "execution_count": null,
   "metadata": {},
   "outputs": [],
   "source": [
    "'Y' in text"
   ]
  },
  {
   "cell_type": "markdown",
   "metadata": {},
   "source": [
    "Kommt das Wort \"Brandung\" im Text vor?"
   ]
  },
  {
   "cell_type": "code",
   "execution_count": null,
   "metadata": {},
   "outputs": [],
   "source": [
    "# TODO"
   ]
  },
  {
   "cell_type": "markdown",
   "metadata": {},
   "source": [
    "## Substrings zählen"
   ]
  },
  {
   "cell_type": "markdown",
   "metadata": {},
   "source": [
    "So wie man mit der `count()`-Methode zählen kann, wie oft ein Wert in einer Liste oder einem Tupel erscheint, kann auch gezählt werden, wie oft ein Zeichen oder eine Abfolge von Zeichen in einem String vorkommen:"
   ]
  },
  {
   "cell_type": "code",
   "execution_count": null,
   "metadata": {},
   "outputs": [],
   "source": [
    "text.count('Brandung')"
   ]
  },
  {
   "cell_type": "markdown",
   "metadata": {},
   "source": [
    "## Position ermitteln\n",
    "\n",
    "Manchmal ist es nützlich, festzustellen, an welcher Position ein bestimmtes Zeichen oder ein Teilstring erstmalig vorkommt.\n"
   ]
  },
  {
   "cell_type": "code",
   "execution_count": null,
   "metadata": {},
   "outputs": [],
   "source": [
    "text.index('Brandung')"
   ]
  },
  {
   "cell_type": "markdown",
   "metadata": {},
   "source": [
    "Übung: Wie könnten wir ermitteln, wo das zweite Vorkommen des Wortes `Brandung` beginnt?"
   ]
  },
  {
   "cell_type": "code",
   "execution_count": null,
   "metadata": {},
   "outputs": [],
   "source": []
  },
  {
   "cell_type": "markdown",
   "metadata": {},
   "source": [
    "Ähnlich wie `index()` das erste Vorkommen eines Zeichens oder Teilstrings ermittelt, kann mit `rindex()` das letzte Vorkommen gefunden werden."
   ]
  },
  {
   "cell_type": "markdown",
   "metadata": {},
   "source": [
    "## Groß- und Kleinschreibung ändern"
   ]
  },
  {
   "cell_type": "markdown",
   "metadata": {},
   "source": [
    "Die Methode `upper()` wandelt alle Zeichen eines Strings in Großbuchstaben um. `lower()` wandelt alle Zeichen in Kleinbuchstaben um."
   ]
  },
  {
   "cell_type": "markdown",
   "metadata": {},
   "source": [
    "Der vermutlich häufigste Einsatzzweck von `upper()` und `lower()` liegt darin, unabhängig von Groß- und Kleinschreibung im Text suchen zu können."
   ]
  },
  {
   "cell_type": "code",
   "execution_count": null,
   "metadata": {},
   "outputs": [],
   "source": [
    "text.count('genau')"
   ]
  },
  {
   "cell_type": "code",
   "execution_count": null,
   "metadata": {},
   "outputs": [],
   "source": [
    "text.count('Genau')"
   ]
  },
  {
   "cell_type": "markdown",
   "metadata": {},
   "source": [
    "Übung: Überlegen Sie, wie alle Vorkommen von 'Genau' und 'genau' mit einer `count()`-Anweisung gefunden werden könnten."
   ]
  },
  {
   "cell_type": "code",
   "execution_count": null,
   "metadata": {},
   "outputs": [],
   "source": []
  },
  {
   "cell_type": "markdown",
   "metadata": {},
   "source": [
    "Erzeugen Sie eine Variante von `text`, die nur Kleinbuchstaben enthält, und die unter dem Namen `lc_text` verfügbar gemacht wird."
   ]
  },
  {
   "cell_type": "code",
   "execution_count": null,
   "metadata": {},
   "outputs": [],
   "source": [
    "# TODO"
   ]
  },
  {
   "cell_type": "markdown",
   "metadata": {},
   "source": [
    "## Teilstrings ersetzen\n",
    "In Python kann ganz einfach jedes Vorkommen eines Teilstrings durch einen anderen Teilstring ersetzt werden. Die entsprechende Methode ist `.replace(alt, neu)`."
   ]
  },
  {
   "cell_type": "code",
   "execution_count": null,
   "metadata": {},
   "outputs": [],
   "source": [
    "s = 'Mississippi'\n",
    "s.replace('s', 'b')"
   ]
  },
  {
   "cell_type": "markdown",
   "metadata": {},
   "source": [
    "Wir können uns das zunutze machen, um im Wassermann-Text alle nicht benötigten Zeilenumbrüche zu entfernen."
   ]
  },
  {
   "cell_type": "code",
   "execution_count": null,
   "metadata": {},
   "outputs": [],
   "source": [
    "text.replace('\\n', ' ')"
   ]
  },
  {
   "cell_type": "markdown",
   "metadata": {},
   "source": [
    "Allerdings müssen wir hier etwas aufpassen: Absätze werden durch zwei aufeinander folgende Zeilenumbrüche gekennzeichnet. Wenn wir die Absätze erhalten wollen, dürfen wir nur einfache Zeilenumbrüche durch ein Leerzeichen entfernen. Hat jemand eine Lösung dafür?"
   ]
  },
  {
   "cell_type": "code",
   "execution_count": null,
   "metadata": {},
   "outputs": [],
   "source": [
    "# TODO"
   ]
  },
  {
   "cell_type": "markdown",
   "metadata": {},
   "source": [
    "## Strings an bestimmten  Zeichen aufsplitten\n",
    "Die Methode `split()` trennt einen String an jedem Whitespace und liefert eine Liste von Teilstrings."
   ]
  },
  {
   "cell_type": "code",
   "execution_count": null,
   "metadata": {},
   "outputs": [],
   "source": [
    "tokens = lc_text.split()\n",
    "tokens[:20]"
   ]
  },
  {
   "cell_type": "markdown",
   "metadata": {},
   "source": [
    "Damit haben wir einen primitiven Tokenizer, der unseren Text in einzelne Wörter zerlegt."
   ]
  },
  {
   "cell_type": "markdown",
   "metadata": {},
   "source": [
    "Übung: Aus wie vielen Tokens (Wörtern) besteht der Text?"
   ]
  },
  {
   "cell_type": "code",
   "execution_count": null,
   "metadata": {},
   "outputs": [],
   "source": []
  },
  {
   "cell_type": "markdown",
   "metadata": {},
   "source": [
    "Übung: Aus wie vielen Types besteht der Text? (Types sind unterschiedliche bzw. distinkte Tokens - man verwirft mehrfach vorkommende Tokens)"
   ]
  },
  {
   "cell_type": "code",
   "execution_count": null,
   "metadata": {},
   "outputs": [],
   "source": []
  },
  {
   "cell_type": "markdown",
   "metadata": {},
   "source": [
    "Übung: wie hoch ist die Type-Token-Ratio? (Die Type-Token-Ratio ist ein Wert zwischen 0 und 1, der einein Indikator für den Wortschatz des Autors darstellt und im Bereich der Stylometrie verwendet wird.)"
   ]
  },
  {
   "cell_type": "code",
   "execution_count": null,
   "metadata": {},
   "outputs": [],
   "source": []
  },
  {
   "cell_type": "markdown",
   "metadata": {},
   "source": [
    "### An Nicht-Whitespace splitten"
   ]
  },
  {
   "cell_type": "markdown",
   "metadata": {},
   "source": [
    "Falls nicht an Whitespace, sondern an einem anderen Zeichen gesplittet werden soll, kann dieses Zeichen (oder eine Zeichenkette) angegeben werden. Wenn wir von der naiven Annahme ausgehen, dass jeder Satz durch einen Punkt begrenzt wird, können wir den Text so in Sätze zerlegen:"
   ]
  },
  {
   "cell_type": "code",
   "execution_count": null,
   "metadata": {},
   "outputs": [],
   "source": [
    "sentences = text.split('.')"
   ]
  },
  {
   "cell_type": "markdown",
   "metadata": {},
   "source": [
    "Falls nicht an jedem Trennzeichen gesplittet werden soll, sondern z.B. nur beim ersten, kann `maxsplit` gesetzt werden. Falls wir also nur am ersten Satz interessiert sind:"
   ]
  },
  {
   "cell_type": "code",
   "execution_count": null,
   "metadata": {},
   "outputs": [],
   "source": [
    "text.split('.', 1)"
   ]
  },
  {
   "cell_type": "markdown",
   "metadata": {},
   "source": [
    "Übung: Splitten Sie den Text absatzweise."
   ]
  },
  {
   "cell_type": "code",
   "execution_count": null,
   "metadata": {},
   "outputs": [],
   "source": []
  },
  {
   "cell_type": "markdown",
   "metadata": {},
   "source": [
    "## Vergleichmethoden"
   ]
  },
  {
   "cell_type": "markdown",
   "metadata": {},
   "source": [
    "Das String-Objekt kennt eine Reihe von Methoden, über die sich Stringvergleiche durchführen lassen.\n",
    "`startswith(str)` und `endswith(str)` können dazu verwendet werden um Tokens zu finden, die mit einer bestimmten Zeichenfolge beginnen oder enden. Die Token, die mit der Silbe `ab` beginnen, finden wir so:"
   ]
  },
  {
   "cell_type": "code",
   "execution_count": null,
   "metadata": {},
   "outputs": [],
   "source": [
    "[token for token in tokens if token.startswith('ab')]"
   ]
  },
  {
   "cell_type": "markdown",
   "metadata": {},
   "source": [
    "Es wäre schön, wenn hier jedes Wort nur einmal erscheinen würde. Wie das geht, wissen wir ja schon:"
   ]
  },
  {
   "cell_type": "code",
   "execution_count": null,
   "metadata": {},
   "outputs": [],
   "source": []
  },
  {
   "cell_type": "markdown",
   "metadata": {},
   "source": [
    "Außerdem wollen wir die Ausgabe alphabetisch sortiert:"
   ]
  },
  {
   "cell_type": "code",
   "execution_count": null,
   "metadata": {},
   "outputs": [],
   "source": []
  },
  {
   "cell_type": "markdown",
   "metadata": {},
   "source": [
    "Die Token, die mit der Zeichenkette `heit` enden, können wir zur Abwechslung statt mit einer List Comprehension auch in einer Schleife suchen:"
   ]
  },
  {
   "cell_type": "code",
   "execution_count": null,
   "metadata": {},
   "outputs": [],
   "source": [
    "result = []\n",
    "for token in tokens:\n",
    "    # TODO\n",
    "    pass\n",
    "    "
   ]
  },
  {
   "cell_type": "markdown",
   "metadata": {},
   "source": [
    "Zahlen im Text finden wir so:"
   ]
  },
  {
   "cell_type": "code",
   "execution_count": null,
   "metadata": {},
   "outputs": [],
   "source": [
    "[token for token in tokens if token.isdigit()]"
   ]
  },
  {
   "cell_type": "markdown",
   "metadata": {},
   "source": [
    "## Stopwords\n",
    "In der Datei `data/stopwords_de.txt` haben wir eine Liste mit Stopwords für die deutsche Sprache. Versuchen wir, unsere Tokens um diese Wörter zu bereinigen. Dazu müssen wir zuerst die Stopwort-Liste einlesen:"
   ]
  },
  {
   "cell_type": "code",
   "execution_count": null,
   "metadata": {},
   "outputs": [],
   "source": [
    "with open('data/stopwords_de.txt') as fp:\n",
    "    stopwords = [word.rstrip() for word in fp.readlines()]\n",
    "stopwords    "
   ]
  },
  {
   "cell_type": "markdown",
   "metadata": {},
   "source": [
    "Um nun die Stopwords aus der Liste `tokens` zu entfernen, können wir eine List Comprension verwenden:"
   ]
  },
  {
   "cell_type": "code",
   "execution_count": null,
   "metadata": {},
   "outputs": [],
   "source": [
    "print(len(tokens)) \n",
    "tokens = [token for token in tokens if token not in stopwords]\n",
    "len(tokens)\n"
   ]
  },
  {
   "cell_type": "markdown",
   "metadata": {},
   "source": [
    "## Strings bauen mit f-strings()"
   ]
  },
  {
   "cell_type": "markdown",
   "metadata": {},
   "source": [
    "Um Variablen in Strings einzubauen kennt Python mehrere Möglichkeiten. Die zur Zeit empfohlene sind f-strings, die wir schon mehrfach verwendet haben. Die Idee dahinter ist, dass man in einen String Platzhalter einstreut.\n"
   ]
  },
  {
   "cell_type": "code",
   "execution_count": null,
   "metadata": {},
   "outputs": [],
   "source": [
    "name = 'Anna'\n",
    "place = 'Graz'\n",
    "print(f'Mein Name ist {name}. Ich wohne in {place}.')"
   ]
  },
  {
   "cell_type": "markdown",
   "metadata": {},
   "source": [
    "Auf diese Weise ist es relativ einfach, einen Märchengenerator zu schreiben:"
   ]
  },
  {
   "cell_type": "code",
   "execution_count": null,
   "metadata": {},
   "outputs": [],
   "source": [
    "# Wir verwenden eine Zufallsgenerator zur Auswahl der Listenelemente\n",
    "import random\n",
    "\n",
    "things = ['Kind', 'Pferd', 'Elch', 'Haus', 'Pirat', 'Gespenst',\n",
    "          'Buch', 'Spiel', 'Stier', 'Ochse', 'Soldat', 'Bauer']\n",
    "names = ['Stefan', 'Simon', 'Jakob', 'Moritz', 'Selma', 'Rita']\n",
    "places = ['Wald', 'Regenbogen', 'Kanal', 'Fluss', 'Knast',\n",
    "          'Keller', 'Zoo']\n",
    "\n",
    "name1=random.choice(names) \n",
    "name2=random.choice(names)\n",
    "thing1=random.choice(things) \n",
    "thing2=random.choice(things)\n",
    "place1=random.choice(places)\n",
    "\n",
    "print(f\"\"\"Es war einmal ein {thing1}. Sein Name war {name1}.\n",
    "{name1} liebte {name2}. {name2} war ein {thing2}.\n",
    "{name1} und {name2} gingen in den {place1} und erlebten dort\n",
    "viele Abenteuer.  Und wenn sie nicht gestorben sind, dann\n",
    "leben sie noch heute.\"\"\")\n"
   ]
  },
  {
   "cell_type": "markdown",
   "metadata": {},
   "source": [
    "## Vertiefende Literatur\n",
    "Ich empfehle ausdrücklich, mindestens eine der folgenden Ressourcen zur Vertiefung zu lesen!\n",
    "\n",
    "* Python Standard Library: Kapitel 4.7.1\n",
    "\t( https://docs.python.org/3/library/stdtypes.html#text-sequence-type-str ).\n",
    "* Beschreibung des Datentyps `str`: https://docs.python.org/3/library/stdtypes.html?highlight=string#text-sequence-type-str\n",
    "* Das Python-Modul `string`: https://docs.python.org/3/library/string.html?highlight=string#module-string    \n",
    "* Klein, Buch: Kapitel 17.\n",
    "* Weigend: Kapitel 13.1 und 13.3.\n",
    "* Pilgrim: Kapitel 4 (v.a. 4.4. und 4.5.)\n",
    "\t( https://www.diveinto.org/python3/strings.html ).\n",
    "* Downey: Kapitel 8.8\n",
    "    ( http://greenteapress.com/thinkpython/html/thinkpython009.html ).\n",
    "* Sweigart: Kapitel 6\n",
    "* Kofler: Kapitel 5"
   ]
  },
  {
   "cell_type": "markdown",
   "metadata": {},
   "source": [
    "## Lizenz\n",
    "\n",
    "This notebook ist part of the course [Grundlagen der Programmierung](https://github.com/gvasold/gdp) held by [Gunter Vasold](https://online.uni-graz.at/kfu_online/wbForschungsportal.cbShowPortal?pPersonNr=51488) at Graz University 2017&thinsp;ff. \n",
    "\n",
    "<p>\n",
    "    It is licensed under <a href=\"https://creativecommons.org/licenses/by-nc-sa/4.0\">CC BY-NC-SA 4.0</a>\n",
    "</p>\n",
    "\n",
    "<table>\n",
    "    <tr>\n",
    "    <td>\n",
    "        <img style=\"height:22px\" \n",
    "             src=\"https://mirrors.creativecommons.org/presskit/icons/cc.svg?ref=chooser-v1\"/></li>\n",
    "    </td>\n",
    "    <td>\n",
    "    <img style=\"height:22px;\"\n",
    "         src=\"https://mirrors.creativecommons.org/presskit/icons/by.svg?ref=chooser-v1\" /></li>\n",
    "    </td>\n",
    "    <td>\n",
    "        <img style=\"height:22px;\"\n",
    "         src=\"https://mirrors.creativecommons.org/presskit/icons/nc.svg?ref=chooser-v1\" /></li>\n",
    "    </td>\n",
    "    <td>\n",
    "        <img style=\"height:22px;\"\n",
    "             src=\"https://mirrors.creativecommons.org/presskit/icons/sa.svg?ref=chooser-v1\" /></li>\n",
    "    </td>\n",
    "</tr>\n",
    "</table>"
   ]
  }
 ],
 "metadata": {
  "kernelspec": {
   "display_name": "Python 3 (ipykernel)",
   "language": "python",
   "name": "python3"
  },
  "language_info": {
   "codemirror_mode": {
    "name": "ipython",
    "version": 3
   },
   "file_extension": ".py",
   "mimetype": "text/x-python",
   "name": "python",
   "nbconvert_exporter": "python",
   "pygments_lexer": "ipython3",
   "version": "3.10.6"
  }
 },
 "nbformat": 4,
 "nbformat_minor": 4
}
