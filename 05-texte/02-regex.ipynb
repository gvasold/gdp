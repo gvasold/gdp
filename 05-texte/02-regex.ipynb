{
 "cells": [
  {
   "cell_type": "markdown",
   "metadata": {},
   "source": [
    "# Reguläre Ausdrücke"
   ]
  },
  {
   "cell_type": "markdown",
   "metadata": {},
   "source": [
    "## Was sind reguläre Ausdrücke?\n",
    "Reguläre Ausdrücke stammen aus dem Gebiet der Automatentheorie, die\n",
    "wiederum Teil der theoretischen Informatik ist. Zu jedem regulären Ausdruck\n",
    "(regulär deshalb, weil zur Familie der regulären Sprachen gehörend) besteht\n",
    "ein endlicher Automat, der den Ausdruck akzeptiert. Ein endlicher Automat ist\n",
    "einfach eine Zustandsmaschine mit einer endlichen Menge von Zuständen, die\n",
    "diese einnehmen kann.\n",
    "\n",
    "In der Praxis werden reguläre Ausdrücke vor allem zum Mustervergleich auf\n",
    "Zeichenketten angewendet.\n",
    "\n",
    "Diese Ausdrücke sind weitgehend sprachübergreifend:\n",
    "Bis auf einige kleine Abweichungen lässt sich eine *regular expression* in\n",
    "Programmiersprachen wie Python, Perl oder Java gleich oder zumindest sehr ähnlich \n",
    "schreiben. Auch\n",
    "viele Texteditoren bieten ebenso Unterstützung für reguläre Ausdrücke wie\n",
    "z.B. auch MS Word.\n"
   ]
  },
  {
   "cell_type": "markdown",
   "metadata": {},
   "source": [
    "## Wozu reguläre Ausdrücke?"
   ]
  },
  {
   "cell_type": "markdown",
   "metadata": {},
   "source": [
    "Wir haben bisher einige Möglichkeiten kennen gelernt, in einem String nach einem Substring zu suchen.\n",
    "\n",
    "Den in-Operator überprüft, ob ein Substring im String vorkommt:"
   ]
  },
  {
   "cell_type": "code",
   "execution_count": null,
   "metadata": {},
   "outputs": [],
   "source": [
    "firstnames = ['Astrid', 'Ines', 'Christoph', 'Markus', 'Çınar', \n",
    "              'Đželila', 'Niklas', 'Anna', 'Stefanie', 'Raphael', \n",
    "              'Anna-Lena', 'Silvia', 'Julian', 'Simon', 'Katharina', \n",
    "              'Michael', 'Dominik', 'Maria', 'Kevin', 'Bianca', \n",
    "              'Thomas', 'Nora', 'Manuel', 'Selina', 'Gabriel', \n",
    "              'Daniel', 'Thomas', 'Nina', 'Michael', 'Fabio', \n",
    "              'Theresa', 'Manuel', 'Carina', 'Philipp', 'Lukas', \n",
    "              'Wolfgang', 'Anna', 'Doris', 'Thomas', 'Muhammed', \n",
    "              'Christoph', 'Lisa-Marie', 'Jessica', 'Maria', \n",
    "              'Thomas', 'Florian', 'Martin', 'Anna', 'Oliver', \n",
    "              'Gregor', 'Helmut', 'Florian', 'Matteo', 'David', \n",
    "              'Marlene', 'Vanessa', 'Lea', 'Jan', 'Béla', 'Verena', \n",
    "              'Manuel', 'Björn', 'Tobias', 'Denise', 'Emma', 'Lukas', \n",
    "              'Sarah', 'Oliver', 'Janine', 'Manuel', 'Georg', 'Lorenz', \n",
    "              'Verena', 'Caroline', 'Laura', 'Felix', 'Simon', 'Lea', \n",
    "              'Peter', 'Sandra', 'Julia', 'Sophie', 'Jacqueline', \n",
    "              'Nina', 'Sebastian', 'David', 'Matthias', 'Patrick', \n",
    "              'Selina', 'Fabian', 'Daniel', 'Sabine', 'Josef', 'Lisa', \n",
    "              'Carina', 'Florian', 'Fabian', 'Viktoria', 'Christoph', \n",
    "              'Emilia']\n",
    "for firstname in firstnames:\n",
    "    if 'ie' in firstname:\n",
    "        print(firstname)"
   ]
  },
  {
   "cell_type": "markdown",
   "metadata": {},
   "source": [
    "startswith() und endswith() testen, ob ein String mit einem Substring beginnt oder endet:"
   ]
  },
  {
   "cell_type": "code",
   "execution_count": null,
   "metadata": {},
   "outputs": [],
   "source": [
    "[firstname for firstname in firstnames if firstname.startswith('A')]"
   ]
  },
  {
   "cell_type": "code",
   "execution_count": null,
   "metadata": {},
   "outputs": [],
   "source": [
    "[firstname for firstname in firstnames if firstname.endswith('o')]"
   ]
  },
  {
   "cell_type": "markdown",
   "metadata": {},
   "source": [
    "Reguläre Ausdrücke (oder regular expressions) erweitern die Möglichkeiten, in einem String nach einem Muster zu suchen, enorm. Sie sind auch nicht Python-spezifisch, sondern wie bereits gesagt, in den meisten Programmiersprachen und vielen Texteditoren verfügbar.\n",
    "\n",
    "Ein regulärer Ausdruck ist ein in einer speziellen Syntax geschriebenes Muster, das auf einen String angewendet wird."
   ]
  },
  {
   "cell_type": "markdown",
   "metadata": {},
   "source": [
    "Hier gleich ein Tipp: Komplexere reguläre Ausdrücke sind oft schwer zu verstehen. Erfahrungsgemäß hilft hier die Verwendung interaktiver oder sogar visualisierender Regex-Tester. Hier zwei Empfehlungen:\n",
    "\n",
    "* https://pythex.org/ \n",
    "* oder noch schöner mit Visualisierung: https://www.debuggex.com/"
   ]
  },
  {
   "cell_type": "markdown",
   "metadata": {},
   "source": [
    "## Reguläre Ausrücke in Python"
   ]
  },
  {
   "cell_type": "markdown",
   "metadata": {},
   "source": [
    "In Python werden reguläre Ausdrücke über das Modul `re` aus der Standard Library bereitgestellt. Alternativ gibt es das etwas neuere `regex` Modul, das wir zuerst via pip oder conda installieren müßten. Hier verwenden wir das überall bereits verfügbare Modul `re`."
   ]
  },
  {
   "cell_type": "code",
   "execution_count": null,
   "metadata": {},
   "outputs": [],
   "source": [
    "import re"
   ]
  },
  {
   "cell_type": "markdown",
   "metadata": {},
   "source": [
    "Das re-Modul stellt eine Reihe von Funktionen bereit, darunter die Funktion `search()`, mit der nach einem Muster in\n",
    "einem String gesucht werden kann. `search()` erwartet zwei Argumente: das zu suchende Muster und den String, auf den das Muster anzuwenden ist.\n",
    "\n",
    "Wird das Muster gefunden, liefert `search()` ein `Match`-Objekt:"
   ]
  },
  {
   "cell_type": "code",
   "execution_count": null,
   "metadata": {},
   "outputs": [],
   "source": [
    "re.search('de', 'abcdef')"
   ]
  },
  {
   "cell_type": "markdown",
   "metadata": {},
   "source": [
    "Wird das Muster nicht gefunden, liefert `search()` statt eines ``Match``-Objekts `None` zurück: "
   ]
  },
  {
   "cell_type": "code",
   "execution_count": null,
   "metadata": {},
   "outputs": [],
   "source": [
    "print(re.search('xyz', 'abcdef'))"
   ]
  },
  {
   "cell_type": "markdown",
   "metadata": {},
   "source": [
    "Dasselbe hätte wir allerdings auch mit einem simplen \n",
    "\n",
    "```python\n",
    "'xyz' in 'abcdef'\n",
    "``` \n",
    "\n",
    "erreichen können:"
   ]
  },
  {
   "cell_type": "code",
   "execution_count": null,
   "metadata": {},
   "outputs": [],
   "source": [
    "'xyz' in 'abcdef'"
   ]
  },
  {
   "cell_type": "markdown",
   "metadata": {},
   "source": [
    "Die Mächtigkeit von regulären Ausdrücken ergibt sich erst aus der Möglichkeit, komplexere Muster zu definieren."
   ]
  },
  {
   "cell_type": "markdown",
   "metadata": {},
   "source": [
    "## Muster"
   ]
  },
  {
   "cell_type": "markdown",
   "metadata": {},
   "source": [
    "### Auf Anfang des Strings testen\n",
    "Reguläre Ausdrücke verwenden das Zeichen `^` (links oben auf der Tastatur) um den Anfang des Strings zu markieren. Ist das erste Zeichen des Musters ein '^', dann muss das darauf folgende Muster am Anfang des Strings vorkommen:"
   ]
  },
  {
   "cell_type": "code",
   "execution_count": null,
   "metadata": {},
   "outputs": [],
   "source": [
    "re.search('^ab', 'abc')"
   ]
  },
  {
   "cell_type": "markdown",
   "metadata": {},
   "source": [
    "liefert ein Match-Objekt, "
   ]
  },
  {
   "cell_type": "code",
   "execution_count": null,
   "metadata": {},
   "outputs": [],
   "source": [
    "re.search('^ab', 'cab')"
   ]
  },
  {
   "cell_type": "markdown",
   "metadata": {},
   "source": [
    "dagegen findet das Muster nicht: ``ab`` kommt zwar im String vor, jedoch nicht am Anfang des Strings."
   ]
  },
  {
   "cell_type": "markdown",
   "metadata": {},
   "source": [
    "### Auf Ende des Strings testen\n",
    "\n",
    "Reguläre Ausdrücke verwenden das Zeichen `$` um das Ende des Strings zu markieren:"
   ]
  },
  {
   "cell_type": "code",
   "execution_count": null,
   "metadata": {},
   "outputs": [],
   "source": [
    "re.search('z$', 'xyz')"
   ]
  },
  {
   "cell_type": "markdown",
   "metadata": {},
   "source": [
    "liefert einen Treffer, weil ``z`` am Ende des Strings vorkommt."
   ]
  },
  {
   "cell_type": "code",
   "execution_count": null,
   "metadata": {},
   "outputs": [],
   "source": [
    "re.search('z$', 'xyz!')"
   ]
  },
  {
   "cell_type": "markdown",
   "metadata": {},
   "source": [
    "liefert keinen Treffer, weil ``z`` nicht das letzte Zeichen des Strings ist."
   ]
  },
  {
   "cell_type": "markdown",
   "metadata": {},
   "source": [
    "<div class=\"alert alert-block alert-info\">\n",
    "<b>Übung Regex-1</b>\n",
    "<p>Etwas zum Nachdenken: Auf welchen String passt das folgende Muster?</p>\n",
    "</div>"
   ]
  },
  {
   "cell_type": "code",
   "execution_count": null,
   "metadata": {},
   "outputs": [],
   "source": [
    "re.search('^abc$', '')"
   ]
  },
  {
   "cell_type": "markdown",
   "metadata": {},
   "source": [
    "### Beliebige Zeichen und Quantoren"
   ]
  },
  {
   "cell_type": "markdown",
   "metadata": {},
   "source": [
    "Der  Punkt steht in einem regulären Ausdruck für jedes beliebige Zeichen."
   ]
  },
  {
   "cell_type": "code",
   "execution_count": null,
   "metadata": {},
   "outputs": [],
   "source": [
    "re.search('v.n', 'Guido van Rossum')"
   ]
  },
  {
   "cell_type": "code",
   "execution_count": null,
   "metadata": {},
   "outputs": [],
   "source": [
    "re.search('v.n', 'Anton von Webern')"
   ]
  },
  {
   "cell_type": "markdown",
   "metadata": {},
   "source": [
    "liefert also in beiden Fällen einen Treffer, weil das Muster  ``v.n`` sowohl auf ``van`` als auch auf ``von`` passt."
   ]
  },
  {
   "cell_type": "markdown",
   "metadata": {},
   "source": [
    "Jedes Zeichen lässt sich mit einem *Quantor* kombinieren, der angibt, wie oft das Zeichen an dieser Stelle vorkommen muss. Folgende Quantoren sollten Sie kennen:\n",
    "\n",
    "* `*`: Das Stern-Zeichen bedeutet 0 bis beliebig viele Wiederholungen.\n",
    "* `+`: Das Plus steht für eine oder mehr Wiederholungen\n",
    "* `?`: Das Fragezeichen steht für keine oder eine Wiederholung"
   ]
  },
  {
   "cell_type": "markdown",
   "metadata": {},
   "source": [
    "#### Beliebig viele Wiederholungen (*)\n",
    "\n",
    "Ein Quantor kann mit jedem Zeichen kombiniert werden. Hier kombinieren wir den Quantor `*` mit dem Zeichen `a`, was soviel bedeutet wie: *An dieser Stelle kann keinmal, einmal oder beliebig oft das Zeichen `a` erscheinen.*"
   ]
  },
  {
   "cell_type": "code",
   "execution_count": null,
   "metadata": {},
   "outputs": [],
   "source": [
    "import re\n",
    "\n",
    "for s in ['Pr', 'Par', 'Paar', 'Paaar']:\n",
    "    if re.search('Pa*r', s):\n",
    "        print(s)"
   ]
  },
  {
   "cell_type": "markdown",
   "metadata": {},
   "source": [
    "Kombiniert man den Quantor `*` mit dem Platzhalterzeichen '.', so bedeutet das, dass an dieser Stelle jedes Zeichen beliebig oft vorkommen kann, es wird also eine beliebige Menge beliebiger Zeichen damit abgedeckt. "
   ]
  },
  {
   "cell_type": "code",
   "execution_count": null,
   "metadata": {},
   "outputs": [],
   "source": [
    "re.search('G.*v', 'Guido van Rossum')"
   ]
  },
  {
   "cell_type": "markdown",
   "metadata": {},
   "source": [
    "Das Muster passt auf `Guido v`, weil zwischen dem `G` und dem `v` beliebig viele Zeichen erlaubt sind. \n",
    "Beliebig viele inkludiert aber auch *keine*, wie wir an diesem Beispiel sehen können:"
   ]
  },
  {
   "cell_type": "code",
   "execution_count": null,
   "metadata": {},
   "outputs": [],
   "source": [
    "re.search('R.*o', 'Guido van Rossum')"
   ]
  },
  {
   "cell_type": "markdown",
   "metadata": {},
   "source": [
    "obwohl das `o` in `Rossum` unmittelbar auf das `R` folgt, also kein weiteres Zeichen dazwischen steht, passt unser Muster. \n",
    "\n",
    "#### Eine oder mehr Wiederholungen (+)\n",
    "Verwenden wir statt `*` den Quantor `+` (1 oder mehr Wiederholungen) passt das Muster für `Ro` nicht mehr, weil ``+`` mindestens 1 Zeichen an dieser Position erfordert:"
   ]
  },
  {
   "cell_type": "code",
   "execution_count": null,
   "metadata": {},
   "outputs": [],
   "source": [
    "re.search('R.+o', 'Guido van Rossum')"
   ]
  },
  {
   "cell_type": "markdown",
   "metadata": {},
   "source": [
    "Dieses Muster wird hingegen nach wie vor gefunden:"
   ]
  },
  {
   "cell_type": "code",
   "execution_count": null,
   "metadata": {},
   "outputs": [],
   "source": [
    "re.search('G.+v', 'Guido van Rossum')"
   ]
  },
  {
   "cell_type": "markdown",
   "metadata": {},
   "source": [
    "#### Keine oder eine Wiederholung (?)\n",
    "Das folgende Beispiel (`R.?s`) passt, weil das Fragezeichen für keine oder eine Wiederholung steht, auf z.B. `Ros` oder `Rus`, aber auch auf `Rs`, aber nicht auf `Roos`."
   ]
  },
  {
   "cell_type": "code",
   "execution_count": null,
   "metadata": {},
   "outputs": [],
   "source": [
    "for s in ['Ros', 'Rus', 'Rxs', 'Rs', 'Roos']:\n",
    "    if re.search('R.?s', s):\n",
    "        print(s)"
   ]
  },
  {
   "cell_type": "markdown",
   "metadata": {},
   "source": [
    "#### Eine bestimmte Zahl von Wiederholungen\n",
    "Wenn wir ein Muster festlegen wollen, in dem genau zwei Wiederholungen erwartet werden, können wir das so angeben: `{2}`"
   ]
  },
  {
   "cell_type": "code",
   "execution_count": null,
   "metadata": {},
   "outputs": [],
   "source": [
    "for s in ['Rs', 'Ras', 'Raas', 'Raus', 'Raaas']:\n",
    "    if re.search('R.{2}s', s):\n",
    "        print(s)"
   ]
  },
  {
   "cell_type": "markdown",
   "metadata": {},
   "source": [
    "Hier suchen wir also nach Teilstrings, wo zwischen ``R`` und ``s`` genau zwei (beliebige) Zeichen stehen."
   ]
  },
  {
   "cell_type": "markdown",
   "metadata": {},
   "source": [
    "#### Ein Intervall von Wiederholungen\n",
    "Es ist auch möglich, im Muster festzulegen, dass z.B. 1, 2 oder 3 Wiederholungen des Zeichens erlaubt sind. Dazu werden zwei Zahlen (min, max) zwischen die geschwungenen Klammern geschrieben:"
   ]
  },
  {
   "cell_type": "code",
   "execution_count": null,
   "metadata": {},
   "outputs": [],
   "source": [
    "for s in ['Rs', 'Ras', 'Rees', 'Riiis', 'Roooos']:\n",
    "    if re.search('R.{1,3}s', s):\n",
    "        print(s)"
   ]
  },
  {
   "cell_type": "markdown",
   "metadata": {},
   "source": [
    "#### Quantoren funktionieren nicht nur mit Platzhaltern\n",
    "Noch einmal zur Erinnerung: Quantoren können nicht nur zusammen mit dem Platzhalterzeichen `.` verwendet werden, sondern mit allen Zeichen oder Zeichenklassen:"
   ]
  },
  {
   "cell_type": "code",
   "execution_count": null,
   "metadata": {},
   "outputs": [],
   "source": [
    "for s in ['Pr', 'Par', 'Pur', 'Paar', 'Paur', 'Paaar']:\n",
    "    if re.search('a+', s):\n",
    "        print(s)"
   ]
  },
  {
   "cell_type": "markdown",
   "metadata": {},
   "source": [
    "**Übung**: versuchen Sie das obige Beispiel auch mit anderen Quantoren!"
   ]
  },
  {
   "cell_type": "markdown",
   "metadata": {},
   "source": [
    "## Muster sind gierig\n",
    "Eine Regex-Engine versucht immer das breiteste Muster zu finden. Das wird deutlicher, wenn wir im nächsten Beispiel statt `re.search()` `re.findall()` verwenden. Diese Funktion liefert kein Match-Objekt, sondern eine Liste aller Substrings auf die das Muster passt, die Regeln für das Muster sind aber dieselben."
   ]
  },
  {
   "cell_type": "code",
   "execution_count": null,
   "metadata": {},
   "outputs": [],
   "source": [
    "re.findall('G.*o', 'Guido van Rossum')"
   ]
  },
  {
   "cell_type": "markdown",
   "metadata": {},
   "source": [
    "Der gefundene Teilstring ist nicht, wie man vielleicht erwarten könnte, `Guido`, sondern der längste String, auf den das Muster passt: `Guido van Ro`. \n",
    "Da dies nicht immer erwünscht ist, können wir einen Quantor durch ein nachgestelltes Fragezeichen als *non-greedy* markieren:"
   ]
  },
  {
   "cell_type": "code",
   "execution_count": null,
   "metadata": {},
   "outputs": [],
   "source": [
    "re.findall('G.*?o', 'Guido van Rossum')"
   ]
  },
  {
   "cell_type": "markdown",
   "metadata": {},
   "source": [
    "Das ``?`` nach dem Quantor ``*`` bedeutet also: Brich ab, sobald du ein Muster gefunden hast (d.h. versuche nicht, ein breiteres Muster zu finden)."
   ]
  },
  {
   "cell_type": "markdown",
   "metadata": {},
   "source": [
    "Um noch die Funktionsweise von `findall()` zu demonstrieren, ein weiteres Beispiel:"
   ]
  },
  {
   "cell_type": "code",
   "execution_count": null,
   "metadata": {},
   "outputs": [],
   "source": [
    "re.findall('.aa.', 'Ein paar Paare ohne Haar')"
   ]
  },
  {
   "cell_type": "markdown",
   "metadata": {},
   "source": [
    "### Groß- und Kleinschreibung ignorieren\n",
    "Normalerweise wird bei regulären Ausdrücken zwischen Groß- und Kleinschreibung unterschieden:"
   ]
  },
  {
   "cell_type": "code",
   "execution_count": null,
   "metadata": {},
   "outputs": [],
   "source": [
    "re.findall('a.{0,2}', 'Anton arbeitet am liebsten allein.')"
   ]
  },
  {
   "cell_type": "markdown",
   "metadata": {},
   "source": [
    "Wenn wir diese Unterscheidung nicht wollen, müssen wir die Regex-Funktion mit dem Flag re.I (oder: re.IGNORECASE) aufrufen:"
   ]
  },
  {
   "cell_type": "code",
   "execution_count": null,
   "metadata": {},
   "outputs": [],
   "source": [
    "re.findall('a.{0,2}', 'Anton arbeitet am liebsten allein.', re.I)"
   ]
  },
  {
   "cell_type": "markdown",
   "metadata": {},
   "source": [
    "Nun passt das Muster auch auf `'Ant'`."
   ]
  },
  {
   "cell_type": "markdown",
   "metadata": {},
   "source": [
    "## Zeichenklassen\n",
    "Bisher haben wir nur Muster definiert, die entweder ein bestimmtes Zeichen oder einen Platzhalter für alle Zeichen verwenden. Oft wäre es aber nützlich, wenn wir nur auf bestimmte Zeichen (also eine Teilmenge von Zeichen), wie zum Beispiel alle Vokale testen könnten. Regular Expressions stellen dazu das Konzept der *Zeichenklasse* zur Verfügung. \n",
    "Alle Zeichen innerhalb eckiger Klammern werden als Mitglieder der Zeichenklasse betrachtet. Der Ausdruck `[aeiou]` passt somit auf jeden Vokal."
   ]
  },
  {
   "cell_type": "code",
   "execution_count": null,
   "metadata": {},
   "outputs": [],
   "source": [
    "re.findall('[aeiou]{2}', 'Anton arbeitet am liebsten allein.')"
   ]
  },
  {
   "cell_type": "markdown",
   "metadata": {},
   "source": [
    "findet alle Stellen, wo zwei Vokale aufeinander folgen."
   ]
  },
  {
   "cell_type": "markdown",
   "metadata": {},
   "source": [
    "Die Klasse aller Kleinbuchstaben können wir so angeben: `[a-z]`"
   ]
  },
  {
   "cell_type": "code",
   "execution_count": null,
   "metadata": {},
   "outputs": [],
   "source": [
    "re.findall('[a-z]', 'Anton arbeitet am liebsten allein.')"
   ]
  },
  {
   "cell_type": "markdown",
   "metadata": {},
   "source": [
    "Das funktioniert auch für Ziffern: `[0-9]`"
   ]
  },
  {
   "cell_type": "code",
   "execution_count": null,
   "metadata": {},
   "outputs": [],
   "source": [
    "re.findall('[0-9]', 'Anton hat 1 Pferd und 2 Katzen.')"
   ]
  },
  {
   "cell_type": "markdown",
   "metadata": {},
   "source": [
    "<div class=\"alert alert-block alert-info\">\n",
    "<b>Übung Regex-2</b>\n",
    "<p>\n",
    "Schreiben Sie den folgenden Ausdruck so um, dass das Ergebnis `['12', '3']` ist:    \n",
    "</p>    \n",
    "</div>\n",
    "\n"
   ]
  },
  {
   "cell_type": "code",
   "execution_count": null,
   "metadata": {},
   "outputs": [],
   "source": [
    "re.findall('[0-9]', 'Anna hat 12 Kühe Pferd und 3 Hunde.')"
   ]
  },
  {
   "cell_type": "markdown",
   "metadata": {},
   "source": [
    "Entsprechend bildet ``[A-Z]`` die Klasse alle Großbuchstaben und ``[a-zA-Z]`` die Klasse aller Groß- und Kleinbuchstaben:"
   ]
  },
  {
   "cell_type": "code",
   "execution_count": null,
   "metadata": {},
   "outputs": [],
   "source": [
    "re.findall('[a-zA-Z]', 'Anton arbeitet am liebsten allein.')"
   ]
  },
  {
   "cell_type": "markdown",
   "metadata": {},
   "source": [
    "### Vordefinierte Zeichenklassen\n",
    "\n",
    "Einige Zeichenklassen sind vordefiniert und können uns das Leben erheblich erleichtern:\n",
    "\n",
    "  * `\\s` steht für Whitespace (Leerzeichen, Tabulatoren, \n",
    "    Zeilenumbrüche usw.)\n",
    "  * `\\S` steht für jedes Zeichen, dass kein Whitespace ist. (Diese\n",
    "    Umkehrung durch Großschreibung funktioniert\n",
    "    für alle hier vorgestellten Zeichenklassen)\n",
    "  * `\\b` steht für word *boundary*, also einen Worttrenner. \n",
    "  * `\\d` steht für ein `decimal digit`, eine Ziffer in irgendeinem\n",
    "    Zeichensystem, das in Unicode definiert ist (Siehe [hier]\n",
    "    (http://www.fileformat.info/info/unicode/category/Nd/list.htm)).\n",
    "  * `\\w` steht für ein \"Wortzeichen\". In ASCII entspricht \n",
    "    das [a-zA-Z0-9_]\n",
    "\n",
    "Da manche Backslash-Kombinationen (wie `\\b`) auf Stringebene bereits eine besondere Bedeutung tragen (sie erinnern sich an ``\\n``?), müssen wir sie bei der Verwendung in einem regulären Ausdruck entweder durch einen zweiten Backslash escapen oder den Ausdruck als *Raw String* schreiben (gekennzeichnet durch ein vor den String gestelltes `r`). Dieses Beispiel funktioniert nicht:"
   ]
  },
  {
   "cell_type": "code",
   "execution_count": null,
   "metadata": {},
   "outputs": [],
   "source": [
    "re.findall('\\b[A-Z]\\w*', 'Anton hat 1 Pferd und 2 Katzen.')"
   ]
  },
  {
   "cell_type": "markdown",
   "metadata": {},
   "source": [
    "Das hingegen schon:"
   ]
  },
  {
   "cell_type": "code",
   "execution_count": null,
   "metadata": {},
   "outputs": [],
   "source": [
    "re.findall('\\\\b[A-Z]\\w*', 'Anton hat 1 Pferd und 2 Katzen.')"
   ]
  },
  {
   "cell_type": "markdown",
   "metadata": {},
   "source": [
    "Grundsätzlich sollten Sie sich zur Angewohnheit machen, Muster immer als *Raw Strings* zu schreiben, indem sie ein `r` vor den Ausdruck stellen:"
   ]
  },
  {
   "cell_type": "code",
   "execution_count": null,
   "metadata": {},
   "outputs": [],
   "source": [
    "re.findall(r'\\b[A-Z]\\w*', 'Anton hat 1 Pferd und 2 Katzen.')"
   ]
  },
  {
   "cell_type": "markdown",
   "metadata": {},
   "source": [
    "Dieses neue Wissen können wir wir zum Beispiel anwenden, um alle Wörter zu finden, in denen zwei Vokale aufeinander folgen:"
   ]
  },
  {
   "cell_type": "code",
   "execution_count": null,
   "metadata": {},
   "outputs": [],
   "source": [
    "s = \"Ein paar Paare in der Bar machen ohne Haare viele Klare alle\"\n",
    "re.findall(r'\\b\\w*[aeiou]{2}\\w*', s)"
   ]
  },
  {
   "cell_type": "markdown",
   "metadata": {},
   "source": [
    "Noch einmal zur Erinnerung: `\\b` steht für word boundary, was wir hier zum Trenner in Wörter benötigen; `\\w` für ein Wortzeichen (``[a-zA-Z0-9_]``), von denen im Wort vor und nach dem gesuchten Vokalpaar beliebig viele vorkommen dürfen."
   ]
  },
  {
   "cell_type": "markdown",
   "metadata": {},
   "source": [
    "### Alternativen\n",
    "\n",
    "Eine Zeichenklasse steht immer für ein einzelnes Zeichen im String. Falls wir nach einer von mehreren Zeichenkombinationen suchen wollen, brauchen wir statt Zeichenklassen **Alternativen**:"
   ]
  },
  {
   "cell_type": "code",
   "execution_count": null,
   "metadata": {},
   "outputs": [],
   "source": [
    "s = 'Anton hat 1 Pferd, 2 Hunde und 3 Katzen'\n",
    "re.findall(r'Katzen|Pferd|Hunde', s)"
   ]
  },
  {
   "cell_type": "markdown",
   "metadata": {},
   "source": [
    "Wenn wir unabhängig von der Ein- oder Mehrzahl suchen wollen, können wir den ``?`` Quantor verwenden. Zur Erinnerung: ``?`` bedeutet, dass das davor stehende Zeichen keinmal oder einmal vorkommen kann. ``Pferde?``\n",
    "matcht also mit ``Pferd`` und ``Pferde``. Damit können wir unser Muster flexibler gestalten:"
   ]
  },
  {
   "cell_type": "code",
   "execution_count": null,
   "metadata": {},
   "outputs": [],
   "source": [
    "s = 'Anton hat 1 Pferd, 2 Hunde und 3 Katzen'\n",
    "re.findall(r'Katzen?|Pferde?|Hunde?', s)"
   ]
  },
  {
   "cell_type": "markdown",
   "metadata": {},
   "source": [
    "Wir können uns sogar die Zahl der Tiere mitausgeben lassen, wenn wir davon ausgehen, dass die Zahl vor dem Tier steht und auf die Zahl ein oder mehrere Whitespace-Zeichen folgen:"
   ]
  },
  {
   "cell_type": "code",
   "execution_count": null,
   "metadata": {},
   "outputs": [],
   "source": [
    "s = 'Anton hat 1 Pferd, 2 Hunde und 3 Katzen'\n",
    "re.findall(r'\\d+\\s+Pferde?|\\d+\\s*Hunde?|\\d+\\s*Katzen?', s)"
   ]
  },
  {
   "cell_type": "markdown",
   "metadata": {},
   "source": [
    "Greifen wir das Beispiel von oben mit den Vokalen noch einmal auf. Falls wir nur an Wörtern mit Doppelvokalen (und nicht an zwei aufeinander folgenden Vokalen) interessiert sind, können wir mit *Alternativen* arbeiten:"
   ]
  },
  {
   "cell_type": "code",
   "execution_count": null,
   "metadata": {},
   "outputs": [],
   "source": [
    "s = \"Ein paar Paare in der Bar machen ohne Haare viele Klare alle\"\n",
    "re.findall(r'\\b\\w*aa\\w*|\\b\\wee\\w*|\\b\\wii\\w*|\\b\\woo\\w*|\\b\\wuu\\w*', s)"
   ]
  },
  {
   "cell_type": "markdown",
   "metadata": {},
   "source": [
    "Dieses Muster lässt sich natürlich auch auf längere Texte anwenden. Finden wir heraus, welche Wörter mit Doppelvokalen Jakob Wassermann verwendet hat:"
   ]
  },
  {
   "cell_type": "code",
   "execution_count": null,
   "metadata": {},
   "outputs": [],
   "source": [
    "with open('data/wassermann/der_mann_von_vierzig_jahren.txt') as fh:\n",
    "    text = fh.read()\n",
    "re.findall(r'\\b\\w*aa\\w*|\\b\\wee\\w*|\\b\\wii\\w*|\\b\\woo\\w*|\\b\\wuu\\w*', text)"
   ]
  },
  {
   "cell_type": "markdown",
   "metadata": {},
   "source": [
    "<div class=\"alert alert-block alert-info\">\n",
    "<b>Übung Regex-3</b>\n",
    "<p>Finden Sie mit einem Regex-Ausdruck im Mann von vierzig Jahren alle Tokens in denen entweder `straße`, `chaussee` oder `gasse` vorkommt. Suchen Sie unabhängig von der Groß- und Kleinschreibung (case insensitive). </p>\n",
    "<p> Die Ausgabe wäre natürlich übersichtlicher, wenn jedes Wort nur einmal vorkommen und die gefundenen Wörter alphabetisch sortiert ausgegeben würden.</p>\n",
    "</div>\n"
   ]
  },
  {
   "cell_type": "markdown",
   "metadata": {},
   "source": [
    "## Match-Objekte"
   ]
  },
  {
   "cell_type": "markdown",
   "metadata": {},
   "source": [
    "Zur Auffrischung: `re.search()`, das wir bereits kennengelernt haben, liefert, wenn das Muster gefunden wurde, ein Match-Objekt:"
   ]
  },
  {
   "cell_type": "code",
   "execution_count": null,
   "metadata": {},
   "outputs": [],
   "source": [
    "text = 'Guido van Rossum'\n",
    "re.search('v.n', text)"
   ]
  },
  {
   "cell_type": "markdown",
   "metadata": {},
   "source": [
    "Weisen wir das Match-Objekt einer Variable zu, um es genauer zu untersuchen:"
   ]
  },
  {
   "cell_type": "code",
   "execution_count": null,
   "metadata": {},
   "outputs": [],
   "source": [
    "m = re.search('v.n', text)\n",
    "dir(m)"
   ]
  },
  {
   "cell_type": "markdown",
   "metadata": {},
   "source": [
    "Ein Match-Objekt hat Funktionen, mit denen wir die Position des Match im String feststellen können:"
   ]
  },
  {
   "cell_type": "code",
   "execution_count": null,
   "metadata": {},
   "outputs": [],
   "source": [
    "print(m.start(), m.end())"
   ]
  },
  {
   "cell_type": "markdown",
   "metadata": {},
   "source": [
    "Die Methode `span()` liefert uns beide Werte als Tupel:"
   ]
  },
  {
   "cell_type": "code",
   "execution_count": null,
   "metadata": {},
   "outputs": [],
   "source": [
    "m.span()"
   ]
  },
  {
   "cell_type": "markdown",
   "metadata": {},
   "source": [
    "Besonders interessant sind die beiden Methoden `groups()` und `group()`. Damit wir diese nutzen können, müssen wir zuerst ein weiteres wichtiges Konzept von regulären Ausdrücken kennen lernen: *Gruppierungen*.\n",
    "\n",
    "Wir haben oben an einem Beispiel gesehen, wie wir bestimmte Tiere mit ihrer Zahl extrahieren konnten:"
   ]
  },
  {
   "cell_type": "code",
   "execution_count": null,
   "metadata": {},
   "outputs": [],
   "source": [
    "s = 'Anton hat 1 Pferd, 2 Hunde und 3 Katzen'\n",
    "re.findall(r'\\d+\\s+Pferde?|\\d+\\s*Hunde?|\\d+\\s*Katzen?', s)"
   ]
  },
  {
   "cell_type": "markdown",
   "metadata": {},
   "source": [
    "`search()` liefert nur den ersten Treffer als Match-Objekt:"
   ]
  },
  {
   "cell_type": "code",
   "execution_count": null,
   "metadata": {},
   "outputs": [],
   "source": [
    "re.search(r'\\d+\\s+Pferde?|\\d+\\s*Hunde?|\\d+\\s*Katzen?', s)"
   ]
  },
  {
   "cell_type": "markdown",
   "metadata": {},
   "source": [
    "Wollen wir diese Daten weiter verarbeiten, wäre es nicht schlecht, die Zahl von der Tierart zu trennen. Dazu müssen wir unseren Ausdruck durch runde Klammern gruppieren. "
   ]
  },
  {
   "cell_type": "code",
   "execution_count": null,
   "metadata": {},
   "outputs": [],
   "source": [
    "re.search(r'(\\d+)\\s+(Pferde?|Hunde?|Katzen?)', s)"
   ]
  },
  {
   "cell_type": "markdown",
   "metadata": {},
   "source": [
    "``(\\d)`` bildet die erste Gruppe, ``(Pferde?|Hunde?|Katzen?)`` die zweite Gruppe."
   ]
  },
  {
   "cell_type": "markdown",
   "metadata": {},
   "source": [
    "Auf den ersten Blick ist kein Unterschied zu sehen. Allerdings gibt es einen wesentlichen Unterschied im Match-Objekt: ``groups()`` liefert die Teilstrings die auf die einzelnen Gruppen passen:"
   ]
  },
  {
   "cell_type": "code",
   "execution_count": null,
   "metadata": {},
   "outputs": [],
   "source": [
    "m = re.search(r'(\\d+)\\s+(Pferde?|Hunde?|Katzen?)', s)\n",
    "m.groups()"
   ]
  },
  {
   "cell_type": "markdown",
   "metadata": {},
   "source": [
    "### Kleiner Exkurs: Tiere zählen\n",
    "Mit diesem Wissen können wir zählen, wie viele Pferde, Hunde und Katzen in einem Text vorkommen. Da `re.search()` immer nur den ersten Treffer liefert, müssen wir uns in einer Schleife durch den Text bewegen und so lange rechts vom letzten Treffer weitersuchen, bis kein Treffer mehr vorhanden ist. Dazu können wir die Eigenschaft `string` des Match-Objekts verwenden, die den durchsuchten String beinhaltet, und die Methode `end()`, die die Position des letzten Matches liefert."
   ]
  },
  {
   "cell_type": "code",
   "execution_count": null,
   "metadata": {},
   "outputs": [],
   "source": [
    "s = 'Anton hat 12 Kühe, 1 Pferd, 2 Hunde und 3 Katzen.'\n",
    "pattern = r'(\\d+)\\s+(Pferde?|Hunde?|Katzen?|Kuh|Kühe)'\n",
    "animal_counter = 0\n",
    "m = re.search(pattern, s)\n",
    "while m:\n",
    "    print(m.groups()) # only to show what's happening\n",
    "    animal_counter += int(m.group(1))\n",
    "    m = re.search(pattern, m.string[m.end():])  # process rest of string\n",
    "print(\"{} Tiere gefunden\".format(animal_counter))"
   ]
  },
  {
   "cell_type": "markdown",
   "metadata": {},
   "source": [
    "### Weiter Funktionen des re-Moduls\n",
    "Bisher haben wir nur zwei Funktion des re-Moduls kennen gelernt: `search()` und `findall()`. Es gibt aber noch einige weitere sehr nützliche Funktionen."
   ]
  },
  {
   "cell_type": "markdown",
   "metadata": {},
   "source": [
    "### match()\n",
    "\n",
    "`match()` verhält sich wie `search()`, allerdings wird das Muster immer am Anfang des Strings gesucht. Ein `match('abc', s)` entspricht also einem `search('^abc', s)`"
   ]
  },
  {
   "cell_type": "code",
   "execution_count": null,
   "metadata": {},
   "outputs": [],
   "source": [
    "re.match('ab', 'abcdef')"
   ]
  },
  {
   "cell_type": "code",
   "execution_count": null,
   "metadata": {},
   "outputs": [],
   "source": [
    "re.match('ab', '-abcdef')"
   ]
  },
  {
   "cell_type": "markdown",
   "metadata": {},
   "source": [
    "### split()\n",
    "Wir haben bereits die `split()`-Methode des String-Objekt kennengelernt:"
   ]
  },
  {
   "cell_type": "code",
   "execution_count": null,
   "metadata": {},
   "outputs": [],
   "source": [
    "'1,2,3,4'.split(',')"
   ]
  },
  {
   "cell_type": "markdown",
   "metadata": {},
   "source": [
    "`re` stellt eine ähnliche `split()`-Funktion zur Verfügung, bei der wir das Trennzeichen (bzw. den Trennstring) als\n",
    "regulären Ausdruck angeben können. Dieses Split ist dadurch viel mächtiger. \n",
    "\n",
    "Wollen wir etwa einen Text in Sätze zerlegen, müssen wir den Text an jedem Satzzeichen trennen: `.!?`. Mit `re.split()` ist das ganz einfach:"
   ]
  },
  {
   "cell_type": "code",
   "execution_count": null,
   "metadata": {},
   "outputs": [],
   "source": [
    "with open('data/wassermann/der_mann_von_vierzig_jahren.txt') as fh:\n",
    "    text = fh.read()\n",
    "sentences = re.split(r'[.?!]\\s*', text)\n",
    "print(len(sentences))"
   ]
  },
  {
   "cell_type": "markdown",
   "metadata": {},
   "source": [
    "Zur Erklärung: Das ``\\s*`` am Ende des Musters stellt sicher, dass Whitespace zwischen Sätzen abgestreift wird."
   ]
  },
  {
   "cell_type": "code",
   "execution_count": null,
   "metadata": {},
   "outputs": [],
   "source": [
    "print(sentences[:4])"
   ]
  },
  {
   "cell_type": "markdown",
   "metadata": {},
   "source": [
    "*Hinweis*: Dieser Vorgang des Zerlegens eines Textes in kleiner Einheiten wie Sätze oder Wörter, nennt man Tokenisierung (tokenizing). Das lässt sich für einfache Fälle mit Regulären Ausdrücken erledigen, besser sind aber spezialisierte Funktionen, wie sie von Pakete zur Verarbeitung natürlicher Sprachen (z.B. NLTK) bereit gestellt werden."
   ]
  },
  {
   "cell_type": "markdown",
   "metadata": {},
   "source": [
    "### sub()\n",
    "\n",
    "Diese Funktion entspricht der `replace()`-Methode des String-Objekts. Allerdings kann der zu ersetzende Substring hier ein Muster sein.\n",
    "Wir könnten z.B. allen Whitespace in einem String zu einem Leerzeichen normalisieren, um mehrfach vorkommende Leerzeichen, aber auch Tabulatorzeichen, Zeilenumbrüche usw. zu zu einem einzigen Leerzeichen umzuwandeln."
   ]
  },
  {
   "cell_type": "code",
   "execution_count": null,
   "metadata": {},
   "outputs": [],
   "source": [
    "with open('data/wassermann/der_mann_von_vierzig_jahren.txt') as fh:\n",
    "    text = fh.read()\n",
    "text = re.sub('\\s+', ' ', text)    \n",
    "sentences = re.split(r'[\\.\\?\\!]\\s*', text)\n",
    "print(sentences[:4])"
   ]
  },
  {
   "cell_type": "markdown",
   "metadata": {},
   "source": [
    "Jetzt können wir beispielsweise die mittlere Satzlänge (in Zeichen) berechnen:"
   ]
  },
  {
   "cell_type": "code",
   "execution_count": null,
   "metadata": {},
   "outputs": [],
   "source": [
    "# Für alle Fälle entfernen wir noch Sätze der Länge 0\n",
    "sentences = [s for s in sentences if len(s) > 0]\n",
    "sum([len(s) for s in sentences]) / len(sentences)"
   ]
  },
  {
   "cell_type": "markdown",
   "metadata": {},
   "source": [
    "Oder die gemittelte Zahl von Wörtern pro Satz, den kürzesten und den längsten Satz:"
   ]
  },
  {
   "cell_type": "code",
   "execution_count": null,
   "metadata": {},
   "outputs": [],
   "source": [
    "words_per_sentence = [len(s.split()) for s in sentences] \n",
    "print('Mittlere Wortzahl pro Satz:', sum(words_per_sentence) / len(sentences))\n",
    "print('Der längste Satz hat {} Wörter, der kürzeste {}'.format(max(words_per_sentence), min(words_per_sentence)))"
   ]
  },
  {
   "cell_type": "markdown",
   "metadata": {},
   "source": [
    "## Vertiefende Literatur\n",
    "Ich empfehle ausdrücklich, mindestens eine der folgenden Ressourcen zur Vertiefung zu lesen!\n",
    "\n",
    "  * Python Standard Library: re — Regular expression operations\n",
    "\t(https://docs.python.org/3/library/re.html)\n",
    "  * A.M. Kuchling: Regular Expression HOWTO \n",
    "    (https://docs.python.org/3/howto/regex.html#regex-howto)  \n",
    "  * Klein, Buch: Kapitel 24.\n",
    "  * Weigend: Kapitel 13.5.\n",
    "  * Pilgrim: Kapitel 5\n",
    "\t(https://www.diveinto.org/python3/regular-expressions.html.\n",
    "  * Sweigart: Kapitel 7.\n",
    "  * Kofler, Kap. 5.6 (leider sehr kurz)"
   ]
  },
  {
   "cell_type": "markdown",
   "metadata": {},
   "source": [
    "## Lizenz\n",
    "\n",
    "This notebook ist part of the course [Grundlagen der Programmierung](https://github.com/gvasold/gdp) held by [Gunter Vasold](https://online.uni-graz.at/kfu_online/wbForschungsportal.cbShowPortal?pPersonNr=51488) at Graz University 2017&thinsp;ff. \n",
    "\n",
    "<p>\n",
    "    It is licensed under <a href=\"https://creativecommons.org/licenses/by-nc-sa/4.0\">CC BY-NC-SA 4.0</a>\n",
    "</p>\n",
    "\n",
    "<table>\n",
    "    <tr>\n",
    "    <td>\n",
    "        <img style=\"height:22px\" \n",
    "             src=\"https://mirrors.creativecommons.org/presskit/icons/cc.svg?ref=chooser-v1\"/></li>\n",
    "    </td>\n",
    "    <td>\n",
    "    <img style=\"height:22px;\"\n",
    "         src=\"https://mirrors.creativecommons.org/presskit/icons/by.svg?ref=chooser-v1\" /></li>\n",
    "    </td>\n",
    "    <td>\n",
    "        <img style=\"height:22px;\"\n",
    "         src=\"https://mirrors.creativecommons.org/presskit/icons/nc.svg?ref=chooser-v1\" /></li>\n",
    "    </td>\n",
    "    <td>\n",
    "        <img style=\"height:22px;\"\n",
    "             src=\"https://mirrors.creativecommons.org/presskit/icons/sa.svg?ref=chooser-v1\" /></li>\n",
    "    </td>\n",
    "</tr>\n",
    "</table>"
   ]
  }
 ],
 "metadata": {
  "kernelspec": {
   "display_name": "Python 3 (ipykernel)",
   "language": "python",
   "name": "python3"
  },
  "language_info": {
   "codemirror_mode": {
    "name": "ipython",
    "version": 3
   },
   "file_extension": ".py",
   "mimetype": "text/x-python",
   "name": "python",
   "nbconvert_exporter": "python",
   "pygments_lexer": "ipython3",
   "version": "3.10.6"
  }
 },
 "nbformat": 4,
 "nbformat_minor": 4
}
