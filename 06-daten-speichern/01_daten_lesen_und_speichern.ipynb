{
 "cells": [
  {
   "cell_type": "markdown",
   "metadata": {},
   "source": [
    "# Strukturierte Daten speichern\n",
    "\n",
    "Wir haben bisher verschiedenen Datenstrukturen verwendet, aber noch nicht darüber nachgedacht, wie man Daten strukturiert speichern kann.\n",
    "Das einzige und sehr minimalistische Beispiel waren die Dateien mit den Vornamen, die so struktiert waren, dass jeder Name in einer eigenen Zeile stand.\n",
    "In der Praxis braucht man jedoch häufig komplexer strukturierte Daten. Python (wie viele andere Programmiersprachen) bietet hier mehrere Möglichkeiten:\n",
    "\n",
    "  * CSV\n",
    "  * JSON\n",
    "  * XML\n",
    "  * Datenbanken\n",
    "  * Pickle\n",
    "\n",
    "Wir werden uns hier einige Möglichkeiten in sehr knapper Form ansehen. Für einige Themen werde ich eigene Notebooks breitstellen."
   ]
  },
  {
   "cell_type": "markdown",
   "metadata": {},
   "source": [
    "## CSV\n",
    "\n",
    "CSV steht für **C**omma **S**eparated **V**alues. Damit ist ein textbasiertes Speicherformat gemeint, dass es erlaubt,\n",
    "tabellarische Daten einfach und platzsparend in eine Datei zu speichern. In dieser Datei wird jeder Datensatz durch ein Zeile repräsentiert. Die einzenen Felder werden durch ein Komma (oder ein anderes Trennzeichen) voneinander getrennt.\n",
    "\n",
    "Eine einfache CSV Datei könnte so aussehen:\n",
    "\n",
    "```\n",
    "Vorname,Zuname,Matrikelnummer,Note\n",
    "Anna,Bauer,123456,1\n",
    "Conrad,Dräger,13547,2\n",
    "Elsa,Fischer,172456,2\n",
    "```\n",
    "\n",
    "Die erste Zeile mit den Spaltennamen kann auch fehlen, sie macht die Interpretation der Daten aber einfacher.\n",
    "\n",
    "CSV ist ein ziemlich populäres Format. So können Sie beispielsweise Tabellen in Tabellenkalkulationsprogrammen wie Microsoft Excel einfach im CSV-Format speichern und CSV-Dateien auf einfache Art importieren. Dabei ist aber darauf zu achten, das z.B. in der deutschsprachigen Version von Excel das Komma als Dezimaltrennzeichen verwendet wird. Es empfiehlt sich hier also, statt des Kommas ein anderes Trennzeichen (z.B. ein Semikolon) zu verwenden und noch wichtiger: In Python alle Kommata durch Punkte ersetzen, damit sie korrekt als Float interpretiert werden können."
   ]
  },
  {
   "cell_type": "markdown",
   "metadata": {},
   "source": [
    "Auf den ersten Blick sieht es so aus, als ob man eine solche CSV-Datei relativ einfach selbst in eine\n",
    "Datenstruktur wie eine Liste von Listen einlesen könnte. Doch seien Sie gewarnt: Es sieht einfacher aus, als es ist, weil es allerlei Spezialfälle zu beachten gibt. Daher besser eine fertige Bibliothek verwenden. In der Standard-Library gibt es das ``csv`` Modul; wenn Sie mit Pandas arbeiten, können sie die dort verfügbare ``read_csv()`` Funktion verwenden."
   ]
  },
  {
   "cell_type": "markdown",
   "metadata": {},
   "source": [
    "Lesen wir zuerst eine bestehende CSV Datei ein. Um diese in eine Python-Datenstruktur umzuwandeln, müssen wir ein CSV-Reader Objekt erzeugen, dem wir die Datei übergeben:"
   ]
  },
  {
   "cell_type": "markdown",
   "metadata": {},
   "source": [
    "### Eine CSV Datei lesen"
   ]
  },
  {
   "cell_type": "code",
   "execution_count": null,
   "metadata": {},
   "outputs": [],
   "source": [
    "import csv\n",
    "\n",
    "\n",
    "with open('data/cities.csv', encoding=\"utf-8\") as fh:\n",
    "    reader = csv.reader(fh)\n",
    "    for row in reader:\n",
    "        print(row)"
   ]
  },
  {
   "cell_type": "markdown",
   "metadata": {},
   "source": [
    "Das Reader-Objekt stellt uns in einer Schleife einen Datensatz nach dem anderen bereit. Der Typ eines jeden Datensatzes ist eine Liste. Wir können daher auch gezielt auf einzelne Spalteneinträge zugreifen:"
   ]
  },
  {
   "cell_type": "code",
   "execution_count": null,
   "metadata": {},
   "outputs": [],
   "source": [
    "with open('data/cities.csv', encoding=\"utf-8\") as fh:\n",
    "    reader = csv.reader(fh)\n",
    "    next(reader)  # skip the first row (labels)\n",
    "    for row in reader:\n",
    "        print(f\"{row[0]} wurde {row[3]} zur Stadt.\")"
   ]
  },
  {
   "cell_type": "markdown",
   "metadata": {},
   "source": [
    "### Eine CSV Datei schreiben\n",
    "\n",
    "Da CSV eine tabellenartige Struktur voraussetzt, benötigen wir in Python die Daten als Liste von Listen oder als Liste von Tupeln. Wir verwenden hier die Daten aus dem ersten minimalen Beispiel von oben:"
   ]
  },
  {
   "cell_type": "code",
   "execution_count": null,
   "metadata": {},
   "outputs": [],
   "source": [
    "fieldnames = \"Vorname,Zuname,Matrikelnummer,Note\".split(',')\n",
    "\n",
    "data = [\n",
    "    (\"Anna\",\"Bauer\",\"123456\",1),\n",
    "    (\"Conrad\",\"Dräger\",\"213547\",2),\n",
    "    (\"Elsa\",\"Fischer\",\"172456\",2)\n",
    "]\n",
    "\n",
    "with open('output/students.csv', 'w', encoding=\"utf-8\") as fh:\n",
    "    writer = csv.writer(fh)\n",
    "    writer.writerow(fieldnames)\n",
    "    writer.writerows(data)"
   ]
  },
  {
   "cell_type": "markdown",
   "metadata": {},
   "source": [
    "Hinweis: Wenn Sie ``outpu/students.csv`` in Jupyter-Lab öffnen, sehen sie eine \"benutzerfreundliche\" Darstellung und nicht den reinen Text. Daher lassen wir uns den Dateiinhalt hier direkt ausgeben:"
   ]
  },
  {
   "cell_type": "code",
   "execution_count": null,
   "metadata": {},
   "outputs": [],
   "source": [
    "with open('output/students.csv', encoding=\"utf-8\") as fh:\n",
    "    text = fh.read()\n",
    "print(text)"
   ]
  },
  {
   "cell_type": "markdown",
   "metadata": {},
   "source": [
    "Das csv Modul hat noch einiges mehr zu bieten. Sehen Sie sich bei Bedarf das entsprechende Notebook in diesem Verzeichnis an!"
   ]
  },
  {
   "cell_type": "markdown",
   "metadata": {},
   "source": [
    "## JSON\n",
    "\n",
    "JSON ist ein populäres Format um verschachtelte oder baumförmige Daten in Textform abzulegen. Python stellt dazu in der Standard-Library das `json` Modul bereit. Mit diesem Modul können Sie auf enfache Weise Python-Dictionaries und Listen serialisieren. \n",
    "\n",
    "Da JSON im WWW und auch für andere Zwecke sehr populär ist, wird das Format von sehr vielen Programmsprachen unterstützt. Um die Implementierung einfach zu halten, ist die Zahl der erlaubten Datentypen sehr überschaubar. Folgende Python-Datentypen werden direkt unterstützt:\n",
    "\n",
    "  * ``None`` wird in JSON zu ``null``\n",
    "  * ``bool`` wird zu ``Boolean``. Hier ist zu beachten, dass ``True`` zu ``true`` wird und ``False`` zu ``false``\n",
    "  * ``int`` und ``float`` werden zum Datentyp ``Number``\n",
    "  * ``str`` wird ein ``String``. Zu beachten ist, dass in JSON nur doppelte Anführungszeichen zur Begrenzung\n",
    "    von Strings erlaubt sind: ``\"foo\"``\n",
    "  * ``list`` wird zu ``Array``\n",
    "  * ``dict`` wird zu ``Object\n",
    "\n",
    "Gut zu wissen: Die ``json`` Bibliothek kümmert sich selbst darum, dass die Datentypen und Werte beim Schreiben und Lesen korrekt umgewandelt werden."
   ]
  },
  {
   "cell_type": "markdown",
   "metadata": {},
   "source": [
    "### JSON erzeugen\n",
    "\n",
    "Hier ein kleines Beispiel. Wir haben ein Dictionary, das wir ins JSON-Format umwandeln werden:"
   ]
  },
  {
   "cell_type": "code",
   "execution_count": null,
   "metadata": {},
   "outputs": [],
   "source": [
    "import json\n",
    "\n",
    "data = {\n",
    "    \"name\": \"Otto\",\n",
    "    \"age\": 24,\n",
    "    \"avg_grade\": 1.9,\n",
    "    \"title\": None,\n",
    "    \"enrolled\": True,\n",
    "    \"friends\": ['André', 'Berta'],\n",
    "    \"address\": {\n",
    "        \"street\": \"Am Gansbach 24\",\n",
    "        \"place\": \"Entenhausen\"\n",
    "    }\n",
    "}\n",
    "\n",
    "json_str = json.dumps(data)\n",
    "print(json_str)"
   ]
  },
  {
   "cell_type": "markdown",
   "metadata": {},
   "source": [
    "Hier haben wir uns das Dictionary via ``dumps()`` in einen String umwandeln lassen. Wir sehen,\n",
    "dass ``None`` zu ``null`` geworden ist, ``True`` zu ``true`` und dass alles Strings mit doppelten Anführungszeichen markiert sind, unabhängig davon ob wir im Dictionary einfache oder doppelte verwendet haben. Ebenfalls anzumerken ist, dass die JSON-Bibliothek aus der Standard Library standardmässig versucht, nur ASCII-Zeichen zu verwenden. Deshalb wurde das ``André`` in JSON zu ``Andr\\u00e9``. Über den Parameter ``ensure_ascii`` können wir dieses Verhalten ändern:"
   ]
  },
  {
   "cell_type": "code",
   "execution_count": null,
   "metadata": {},
   "outputs": [],
   "source": [
    "json_str = json.dumps(data, ensure_ascii=False)\n",
    "print(json_str)"
   ]
  },
  {
   "cell_type": "markdown",
   "metadata": {},
   "source": [
    "Bei Bedarf können wir das JSON auch direkt in eine Datei schreiben ohne zuerst einen JSON-String erzeugen zu müssen:"
   ]
  },
  {
   "cell_type": "code",
   "execution_count": null,
   "metadata": {},
   "outputs": [],
   "source": [
    "with open('output/otto.json', 'w', encoding='utf-8') as fh:\n",
    "    json.dump(data, fh, ensure_ascii=False)"
   ]
  },
  {
   "cell_type": "markdown",
   "metadata": {},
   "source": [
    "Hinweis: Vermutlich sehen sie in Jupyter-Lab nicht die erzeugte Textdatei, sondern eine für menschliche Betrachter optimierte Darstellung. Wir lassen uns daher den Inhalt der Datei hier im Notebook ausgeben:"
   ]
  },
  {
   "cell_type": "code",
   "execution_count": null,
   "metadata": {},
   "outputs": [],
   "source": [
    "with open('output/otto.json', encoding=\"utf-8\") as fh:\n",
    "    text = fh.read()\n",
    "text    "
   ]
  },
  {
   "cell_type": "markdown",
   "metadata": {},
   "source": [
    "### JSON lesen\n",
    "\n",
    "Die eben erzeugte Datei können wir ganz einfach wieder in ein Dictionary einlesen:"
   ]
  },
  {
   "cell_type": "code",
   "execution_count": null,
   "metadata": {},
   "outputs": [],
   "source": [
    "with open('output/otto.json') as fh:\n",
    "    data = json.load(fh)\n",
    "print(data)"
   ]
  },
  {
   "cell_type": "markdown",
   "metadata": {},
   "source": [
    "Es ist wichtig zu verstehen, dass ``data`` kein String mehr ist, sondern wieder das originale Dictionary:"
   ]
  },
  {
   "cell_type": "code",
   "execution_count": null,
   "metadata": {},
   "outputs": [],
   "source": [
    "type(data)"
   ]
  },
  {
   "cell_type": "markdown",
   "metadata": {},
   "source": [
    "Das bedeutet, dass wir gezielt auf einzelne Elemente zugreifen können:"
   ]
  },
  {
   "cell_type": "code",
   "execution_count": null,
   "metadata": {},
   "outputs": [],
   "source": [
    "print(data[\"name\"])\n",
    "print(data[\"friends\"][0])\n",
    "print(data[\"enrolled\"])"
   ]
  },
  {
   "cell_type": "markdown",
   "metadata": {},
   "source": [
    "JSON als Format hat gegenüber dem weiter unten vorstellten Pickle-Format einige Vorteile:\n",
    "\n",
    "  1) Es ist standardisiert. So serialisierte Daten können von vielen Programmiersprachen verarbeitet werden. Sie können also z.B. mit Python Daten erzeugen, diese über ein Netzwerk übertragen und auf der anderen Seite mit JavaScript weiter verarbeiten.\n",
    "  2) Es ist ein textbasiertes Format, das sehr einfach aufgebaut ist und daher auch direkt von Menschen lesebar ist."
   ]
  },
  {
   "cell_type": "markdown",
   "metadata": {},
   "source": [
    "## XML\n",
    "\n",
    "XML ist ein Format, bei dem die Strukturinformation in Form von Tags in die eigentlichen Daten eingestreut werden. XML ist besonders für baumförmig organisierte Daten geeignet:\n",
    "\n",
    "```\n",
    "<brief id=\"1\">\n",
    "    <datum date=\"1902-04-11\">Den elften April</datum>\n",
    "    <anrede>Lieber Sohn!</anrede>\n",
    "    <text>\n",
    "       Danke für deinen netten Brief. Ich war gestern in Geschäften in <place>Radkersburg</place>.\n",
    "    </text>\n",
    "</brief>\n",
    "```"
   ]
  },
  {
   "cell_type": "markdown",
   "metadata": {},
   "source": [
    "In der Standard Library gibt es das XML Paket, das verschiedene Möglichkeiten anbietet, mit XML-Daten umzugehen. Besonders nützlich ist das ``xml.etree.ElementTree`` Modul, mit dem Sie relativ einfach auf bestimmte Elemente zugreifen oder auch neues XML erzeugen können. \n",
    "\n",
    "Falls die Möglichkeiten von etree nicht ausreichen, können Sie auf die nicht in der Standard Library enthaltene Bibliothek lxml (https://lxml.de/) zurückgreifen, deren API fast identisch mit der von etree ist.\n",
    "\n",
    "Falls Sie fremdes XML verarbeiten müssen, sollten Sie aus Sicherheitsgründen einen Blick auf defusedxml (https://pypi.org/project/defusedxml/#defusedxml) werfen."
   ]
  },
  {
   "cell_type": "markdown",
   "metadata": {},
   "source": [
    "### Ein kleines Beispiel\n",
    "\n",
    "Lesen wir zuerst eine XML-Datei ein. Um das folgende Beispiel nachvollziehen zu können, wäre es hilfreich, zwischendurch immer wieder einen Blick in die eingelesen Datei cities.xml zu werden."
   ]
  },
  {
   "cell_type": "code",
   "execution_count": null,
   "metadata": {},
   "outputs": [],
   "source": [
    "from xml.etree import ElementTree as ET\n",
    "\n",
    "tree = ET.parse(\"data/cities.xml\")"
   ]
  },
  {
   "cell_type": "markdown",
   "metadata": {},
   "source": [
    "Die Variable ``tree`` hat den Datentyp ``ElementTree`` und enthält eine Baumstruktur von ``Element`` Objekten. Wenn wir mit den Daten arbeiten wollen, brauchen wir eine Referenz auf das Wurzelelement des Baums:"
   ]
  },
  {
   "cell_type": "code",
   "execution_count": null,
   "metadata": {},
   "outputs": [],
   "source": [
    "root = tree.getroot()"
   ]
  },
  {
   "cell_type": "markdown",
   "metadata": {},
   "source": [
    "``root`` ist also ein Objekt vom Typ 'Element'.  Jedes Element hat eine Eigenschaft \n",
    "``tag`` (das was zwischen den Spitzklammern steht), ``text`` (der Text des Elements) und ``attrib``, ein Dictionary\n",
    "mit allen Attributen des Elements.  Um das zu verdeutlichen, erzeugen wir als eingeschobenes Beispiel ein möglichst einfaches XML, das nur aus einem ``Èlement`` ``foo``besteht:"
   ]
  },
  {
   "cell_type": "code",
   "execution_count": null,
   "metadata": {},
   "outputs": [],
   "source": [
    "el = ET.XML('<foo id=\"f1\" name=\"Anton\">Mein Name ist Anton</foo>')\n",
    "print(el.tag)\n",
    "print(el.text)\n",
    "print(el.attrib)"
   ]
  },
  {
   "cell_type": "markdown",
   "metadata": {},
   "source": [
    "Kehren wir nun zum ursprünglichen Beispiel mit den Städten zurück. Das WurzelElement (``root``) ist diesbezüglich nicht sehr interessant, weil es weder einen nützlichen Text noch Attribute hat. Wir lassen uns die drei Eigenschaften aber dennoch  ausgeben:"
   ]
  },
  {
   "cell_type": "code",
   "execution_count": null,
   "metadata": {},
   "outputs": [],
   "source": [
    "print(f\"tag: {root.tag}\")\n",
    "print(f\"text: {root.text}\")\n",
    "print(f\"attrib: {root.attrib}\")"
   ]
  },
  {
   "cell_type": "markdown",
   "metadata": {},
   "source": [
    "Wir sehen also dass das Wurzelelement ein <data>-Tag ist. In der Ausgabe oben sehen wir auch, dass die Eigenschaft 'text' überraschenderweise sehr wohl belegt ist: Mit einem Zeilenumbruch, der sich daraus ergibt, dass ich die XML-Datei zur besseren Lesbarkeit mit Zeilenumbrüchen und Einrückungen versehen habe. Die Eigenschaft ``attrib`` ist ein leeres Dictionary, weil das Element keine Attribute trägt."
   ]
  },
  {
   "cell_type": "markdown",
   "metadata": {},
   "source": [
    "Lassen wir uns nun die unmittelbaren Kindelemente des Root-Elements ausgeben. Das sollten 9 Elemente mit dem Tag ``province`` sein. Zur Überprüfung lassen wir uns für jedes dieser unmittelbaren Kindelement den Tag und das Attribut ``name`` ausgeben:"
   ]
  },
  {
   "cell_type": "code",
   "execution_count": null,
   "metadata": {},
   "outputs": [],
   "source": [
    "for child in root:\n",
    "    print(f\"{child.tag}: {child.attrib['name']}\")"
   ]
  },
  {
   "cell_type": "markdown",
   "metadata": {},
   "source": [
    "Wieder eine Ebene tiefer existieren für jedes Bundesland die Bezirke des jeweiligen Bundeslandes als ``district`` Tags. Wenn wir nur an den Bezirken der Steiermark interessiert sind, können wir zuerst die Bundesländer auf \"Steiermark\" filtern und uns dann für dieses \"Steiermark\"-Element die Kindelement ausgeben lassen:"
   ]
  },
  {
   "cell_type": "code",
   "execution_count": null,
   "metadata": {},
   "outputs": [],
   "source": [
    "for child in root:\n",
    "    if child.attrib[\"name\"] == \"Steiermark\":\n",
    "        for district in child:\n",
    "            print(district.attrib[\"name\"])"
   ]
  },
  {
   "cell_type": "markdown",
   "metadata": {},
   "source": [
    "Eine bessere Lösung für solche Zugriffspfade ist die Verwendung eines XPath-Ausdrucks. Im nächsten Beispiel suchen wird nach allen Städten im Bezirk Liezen:"
   ]
  },
  {
   "cell_type": "code",
   "execution_count": null,
   "metadata": {},
   "outputs": [],
   "source": [
    "for city in root.findall(\"./province/district[@name='Liezen']/city\"):\n",
    "    # For extracting the population of 2023, we use a second xpath\n",
    "    pop23 = city.find('./populationNumbers/pop2023')\n",
    "    print(f\"{city.attrib['name']}: {pop23.text}\")"
   ]
  },
  {
   "cell_type": "markdown",
   "metadata": {},
   "source": [
    "Natürlich kann man auch XML-Daten verändern, neue Daten hinzufügen und das Ergebnis wieder als XML speichern. Um etwa dem Bezirk Deutschlandsberg einen neues Ort hinzuzufügen, brauchen wir zuerst das Element für den Bezirk Deutschlandsberg:"
   ]
  },
  {
   "cell_type": "code",
   "execution_count": null,
   "metadata": {},
   "outputs": [],
   "source": [
    "dberg = root.find(\"./province/district[@name='Deutschlandsberg']\")\n",
    "# zur Überprüfung\n",
    "print(dberg.attrib[\"name\"])"
   ]
  },
  {
   "cell_type": "markdown",
   "metadata": {},
   "source": [
    "Dann erzeugen wir ein neues Element (konkret: ein SubElement) als Kindelement von Deuschlandsberg:"
   ]
  },
  {
   "cell_type": "code",
   "execution_count": null,
   "metadata": {},
   "outputs": [],
   "source": [
    "newplace = ET.SubElement(dberg, 'city')"
   ]
  },
  {
   "cell_type": "markdown",
   "metadata": {},
   "source": [
    "Dieses Element können wir nun bearbeiten:"
   ]
  },
  {
   "cell_type": "code",
   "execution_count": null,
   "metadata": {},
   "outputs": [],
   "source": [
    "newplace.attrib[\"name\"] =  \"Entenhausen\"\n",
    "since_element = ET.SubElement(newplace, 'citySince')\n",
    "since_element.text = \"1938\"\n",
    "numbers = ET.SubElement(newplace, 'populationNumbers')\n",
    "pop01 = ET.SubElement(numbers, 'pop2001')\n",
    "pop01.text = \"118\"\n",
    "pop11 = ET.SubElement(numbers, 'pop2011')\n",
    "pop11.text = \"201\"\n",
    "pop23 = ET.SubElement(numbers, 'pop2023')\n",
    "pop23.text = \"177\""
   ]
  },
  {
   "cell_type": "markdown",
   "metadata": {},
   "source": [
    "Grundsätzlich kann man, wenn alle benötigten Daten bereits verfügbar sind, das so vereinfachen:"
   ]
  },
  {
   "cell_type": "code",
   "execution_count": null,
   "metadata": {},
   "outputs": [],
   "source": [
    "gansbach = ET.XML('''<city name=\"Gansbach\">\n",
    "   <citySince>2023</citySince>\n",
    "   <populationNumbers><pop2001>55</pop2001>\n",
    "   <pop2011>53</pop2011>\n",
    "   <pop2023>65</pop2023>\n",
    "   </populationNumbers>\n",
    "   </city>''')\n",
    "dberg.append(gansbach)"
   ]
  },
  {
   "cell_type": "markdown",
   "metadata": {},
   "source": [
    "Dann lassen wir uns das geänderte XML in die Datei ``output/cities.xml`` schreiben:"
   ]
  },
  {
   "cell_type": "code",
   "execution_count": null,
   "metadata": {},
   "outputs": [],
   "source": [
    "ET.indent(tree, space=\"\\t\", level=0)  # Make the output better readable for humans\n",
    "tree.write('output/cities.xml', encoding=\"utf-8\", xml_declaration=True)"
   ]
  },
  {
   "cell_type": "markdown",
   "metadata": {},
   "source": [
    "## Pickle\n",
    "\n",
    "Das Pickle-Modul ist eine sehr einfache Möglichkeiten, Objekte in einem Pyhon-spezifischen Binärformat abzuspeichern und dann wieder einzulesen. Im Normalfall sollte man das für ernsthafte Projekte eher nicht verwenden, weil \n",
    "\n",
    " * das Format Python-spezifisch ist (d.h. es kann nur von Python Scripts sinnvoll gelesen werden)\n",
    " * das \"Ent-Picklen\" ein Sicherheitsrisiko darstellt.  Daher sollte man nur selbst erzeugte (d.h. keine fremden) Pickles einlesen.\n",
    "\n",
    "Hier ein kleiners Beispiel:"
   ]
  },
  {
   "cell_type": "code",
   "execution_count": null,
   "metadata": {},
   "outputs": [],
   "source": [
    "import pickle\n",
    "\n",
    "class Person:\n",
    "    def __init__(self, name):\n",
    "        self.name = name\n",
    "\n",
    "data = {\"foo\": \"bar\", \"size\": 123, \"members\": [Person(\"A\"), Person(\"B\"), Person(\"C\")]}\n",
    "with open('output/data.pickle', 'wb') as fh:\n",
    "    pickle.dump(data, fh)"
   ]
  },
  {
   "cell_type": "markdown",
   "metadata": {},
   "source": [
    "Wie wir sehen, kann Pickle nicht nur mit den Standard-Datentypen umgehen, sondern auch mit selbst erfundenen Objekten, wie hier ``Person``.\n",
    "\n",
    "Mit der ``dump()`` Funktion des ``pickle`` Moduls können wir beliebige Python-Objekte (auch verschachtelte wie in unserem Beispiel) serialisieren und speichern."
   ]
  },
  {
   "cell_type": "markdown",
   "metadata": {},
   "source": [
    "Das gespeicherte Pickle wieder einzulesen geht so:"
   ]
  },
  {
   "cell_type": "code",
   "execution_count": null,
   "metadata": {},
   "outputs": [],
   "source": [
    "with open('output/data.pickle', 'rb') as fh:\n",
    "    new_data = pickle.load(fh)\n",
    "print(new_data)\n",
    "print(new_data[\"members\"][0].name)"
   ]
  },
  {
   "cell_type": "markdown",
   "metadata": {},
   "source": [
    "Im Normalfall ist JSON für solche Zwecke ein besseres Format. Allerdings unterstützt JSON nur einige wenige Datentypen. Man muss also gegebenfalls überlegen, wie man die Daten eines `Personen`-Objekts im JSON-Format ausrücken kann. Das wäre hier sehr einfach: ```{\"name\": \"A\"}```."
   ]
  },
  {
   "cell_type": "markdown",
   "metadata": {},
   "source": [
    "## Datenbanken\n",
    "\n",
    "Python definiert eine generische Datenbank Schnittstelle (DB-API), an der sich alle Schnittstellen zu relationalen Datenbanken orientieren. Dadurch sollte sich die Arbeit mit unterschiedlichen Datenbanksystemen kaum unterscheiden. \n",
    "\n",
    "Im Python Package Index gibt es Bibliotheken für zahlreiche Datenbankmanagementsysteme. Man kann also von Python aus seine strukturierten Daten relativ einfach in solche Datenbanken speichern.\n",
    "\n",
    "Python bringt aber selbst ein leistungsfähiges relationales Datenbanksystem mit, das für viele Anwendungsfälle ausreicht und häufig zum Entwickeln und Testen verwendet wird. Wenn Sie bereits ein wenig mit relationalen Datenbanksystem und SQL vertraut sind, sollten Sie sich mit dem `sqlite3` Modul der Standard Library vertraut machen, das wir in den folgenden Beispielen verwenden. Andere Datenbanken wie MySQL oder Postgresl lassen sich auf sehr ähnliche Weise ansprechen."
   ]
  },
  {
   "cell_type": "markdown",
   "metadata": {},
   "source": [
    "### Eine Datenbank erzeugen\n",
    "Als kleines Beispiel legen wir eine Datenbank der schon bekannten Städte an. Sie soll in der Datei ``output/cities.db`` dauerhaft gespeichert werden.\n",
    "\n",
    "Die benötigten (vorbereiteten) SQL-Anweisungen liegen in der Datei ``data/cities.sql``. Wir hätten die Datenbank natürlich auch schrttweise im Python Code erzeugen können, aber aus Zeitgründen verwenden wir das fertige SQL."
   ]
  },
  {
   "cell_type": "code",
   "execution_count": null,
   "metadata": {},
   "outputs": [],
   "source": [
    "import os.path\n",
    "import sqlite3\n",
    "\n",
    "\n",
    "# if database does not exist, we will create it\n",
    "if not os.path.exists('output/cities.db'):\n",
    "    # read schema definition and data from an sql file\n",
    "    with open('data/cities.sql', encoding=\"utf-8\") as fh:\n",
    "        sql = fh.read()\n",
    "\n",
    "    # connect to a database\n",
    "    con = sqlite3.connect(\"output/cities.db\")\n",
    "    cur = con.cursor()\n",
    "    cur.executescript(sql)"
   ]
  },
  {
   "cell_type": "markdown",
   "metadata": {},
   "source": [
    "### Die Datenbank abfragen\n",
    "\n",
    "Danach können wir die Datenbank aus Python heraus abfragen. \n",
    "\n",
    "Wir können beispielsweise ermitteln, welche Städte weniger als 1000 Einwohner haben:"
   ]
  },
  {
   "cell_type": "code",
   "execution_count": null,
   "metadata": {},
   "outputs": [],
   "source": [
    "# Open the database connection\n",
    "con = sqlite3.connect(\"output/cities.db\")\n",
    "# Create a cursor object for querying\n",
    "cur = con.cursor()\n",
    "# Execute the SQL statement\n",
    "cur.execute(\"SELECT * from city WHERE population_2023 < 1000\")\n",
    "# read result row by row. Each row is a tuple containing the fields of a single data point\n",
    "for row in cur.fetchall():\n",
    "    print(row)"
   ]
  },
  {
   "cell_type": "markdown",
   "metadata": {},
   "source": [
    "Bei Bedarf können wir natürlich auf einzelne Felder (d.h. Tupel-Elemente) gezielt zugreifen:"
   ]
  },
  {
   "cell_type": "code",
   "execution_count": null,
   "metadata": {},
   "outputs": [],
   "source": [
    "# Execute the SQL statement\n",
    "cur.execute(\"SELECT * from city WHERE population_2023 < 1000\")\n",
    "# read result row by row. Each row is a tuple containing the fields of a single data point\n",
    "for row in cur.fetchall():\n",
    "    print(f\"{row[1]} gegründet {row[2]} hatte 2023 {row[-2]} Einwohner.\")"
   ]
  },
  {
   "cell_type": "markdown",
   "metadata": {},
   "source": [
    "### Neue Einträge hinzufügen\n",
    "\n",
    "Nun können wir normales SQL verwenden, um Daten hinzuzufügen:"
   ]
  },
  {
   "cell_type": "code",
   "execution_count": null,
   "metadata": {},
   "outputs": [],
   "source": [
    "cur.execute(\"\"\"INSERT INTO city (name, since, population_2001, population_2011, population_2023, district_id)\n",
    "               VALUES(\"Entenhausen\", 2023, 0, 0, 1, 77)\"\"\")"
   ]
  },
  {
   "cell_type": "markdown",
   "metadata": {},
   "source": [
    "Zur Überprüfung geben wir uns den neuen Datensatz aus:"
   ]
  },
  {
   "cell_type": "code",
   "execution_count": null,
   "metadata": {},
   "outputs": [],
   "source": [
    "cur.execute(\"SELECT * from city WHERE name =  'Entenhausen'\")\n",
    "# read result row by row. Each row is a tuple containing the fields of a single data point\n",
    "print(cur.fetchone())"
   ]
  },
  {
   "cell_type": "markdown",
   "metadata": {},
   "source": [
    "### Einen Eintrag ändern\n",
    "\n",
    "Auch das Ändern von Daten geht über SQL:"
   ]
  },
  {
   "cell_type": "code",
   "execution_count": null,
   "metadata": {},
   "outputs": [],
   "source": [
    "cur.execute(\"UPDATE city SET population_2023=2 WHERE name='Entenhausen'\")"
   ]
  },
  {
   "cell_type": "markdown",
   "metadata": {},
   "source": [
    "Und wieder zur Kontrolle die Abfrage:"
   ]
  },
  {
   "cell_type": "code",
   "execution_count": null,
   "metadata": {},
   "outputs": [],
   "source": [
    "cur.execute(\"SELECT * from city WHERE name =  'Entenhausen'\")\n",
    "# read result row by row. Each row is a tuple containing the fields of a single data point\n",
    "print(cur.fetchone())"
   ]
  },
  {
   "cell_type": "markdown",
   "metadata": {},
   "source": [
    "### Datenbanken ohne SQL mit einem ORM\n",
    "\n",
    "Falls Sie nicht direkt mit SQL arbeiten wollen, können Sie einen **Object Relational Mapper (ORM)** verwenden. Das sind Bibliotheken, die die Daten und Tabellen als Objekte bereit stellen. Sie brauchen dann nicht mehr SQL zu schreiben, sondern können über die Methoden dieser Objekte mit der Datenbank interagieren. Allerdings bleibt ihnen auch hier nicht erspart, den Umgang mit dem ORM zu erlernen. Die bekanntesten ORMs für Python sind:\n",
    "\n",
    "  * SQLAlchemy (https://www.sqlalchemy.org/)\n",
    "  * PeeWee (http://docs.peewee-orm.com/en/latest/)\n",
    "  * Pony (https://ponyorm.org/)"
   ]
  },
  {
   "cell_type": "markdown",
   "metadata": {},
   "source": [
    "## Vertiefende Literatur\n",
    "Ich empfehle ausdrücklich, mindestens eine der folgenden Ressourcen zur Vertiefung zu lesen!\n",
    "\n",
    "* CSV\n",
    "    * https://docs.python.org/3/library/csv.html\n",
    "* JSON\n",
    "    * https://docs.python.org/3/library/json.html\n",
    "    * https://www.json.org/json-en.html\n",
    "* XML\n",
    "    * https://docs.python.org/3/library/xml.html\n",
    "    * https://docs.python.org/3/library/xml.etree.elementtree.html\n",
    "    * https://lxml.de/\n",
    "    * https://pypi.org/project/defusedxml/#defusedxml\n",
    "* Datenbanken\n",
    "    * https://docs.python.org/3/library/sqlite3.html\n",
    "    * Die DB-API von Python ist hier definiert: https://peps.python.org/pep-0249/.\n",
    "* Pickle\n",
    "    * https://docs.python.org/3/library/pickle.html"
   ]
  },
  {
   "cell_type": "markdown",
   "metadata": {},
   "source": [
    "## Lizenz\n",
    "\n",
    "This notebook ist part of the course [Grundlagen der Programmierung](https://github.com/gvasold/gdp) held by [Gunter Vasold](https://online.uni-graz.at/kfu_online/wbForschungsportal.cbShowPortal?pPersonNr=51488) at Graz University 2017&thinsp;ff. \n",
    "\n",
    "<p>\n",
    "    It is licensed under <a href=\"https://creativecommons.org/licenses/by-nc-sa/4.0\">CC BY-NC-SA 4.0</a>\n",
    "</p>\n",
    "\n",
    "<table>\n",
    "    <tr>\n",
    "    <td>\n",
    "        <img style=\"height:22px\" \n",
    "             src=\"https://mirrors.creativecommons.org/presskit/icons/cc.svg?ref=chooser-v1\"/></li>\n",
    "    </td>\n",
    "    <td>\n",
    "    <img style=\"height:22px;\"\n",
    "         src=\"https://mirrors.creativecommons.org/presskit/icons/by.svg?ref=chooser-v1\" /></li>\n",
    "    </td>\n",
    "    <td>\n",
    "        <img style=\"height:22px;\"\n",
    "         src=\"https://mirrors.creativecommons.org/presskit/icons/nc.svg?ref=chooser-v1\" /></li>\n",
    "    </td>\n",
    "    <td>\n",
    "        <img style=\"height:22px;\"\n",
    "             src=\"https://mirrors.creativecommons.org/presskit/icons/sa.svg?ref=chooser-v1\" /></li>\n",
    "    </td>\n",
    "</tr>\n",
    "</table>"
   ]
  },
  {
   "cell_type": "code",
   "execution_count": null,
   "metadata": {},
   "outputs": [],
   "source": []
  }
 ],
 "metadata": {
  "kernelspec": {
   "display_name": "Python 3 (ipykernel)",
   "language": "python",
   "name": "python3"
  },
  "language_info": {
   "codemirror_mode": {
    "name": "ipython",
    "version": 3
   },
   "file_extension": ".py",
   "mimetype": "text/x-python",
   "name": "python",
   "nbconvert_exporter": "python",
   "pygments_lexer": "ipython3",
   "version": "3.9.2"
  }
 },
 "nbformat": 4,
 "nbformat_minor": 4
}
