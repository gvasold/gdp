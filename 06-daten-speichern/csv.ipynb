{
 "cells": [
  {
   "cell_type": "markdown",
   "metadata": {},
   "source": [
    "## CSV (Comma Separated Values)\n",
    "\n",
    "CSV ist ein weit verbreitetes Format zur Speicherung tabellarischer Daten (also Zeilen und Spalten). Jede Zeile repräsentiert dabei einen Datensatz,\n",
    "jede Spalte einen Wert dieses Datensatzen. Die einzelnen Werte sind dabei durch ein Trennzeichen (default: Komma) voneinander getrennt:\n",
    "\n",
    "```\n",
    "Hans,Huber,Graz,2001-09-06\n",
    "Anna Maria,Bauer,Weiz,1999-02-14\n",
    "```\n",
    "\n",
    "Auf den ersten Blick erscheint es ziemlich einfach, so eine Datei einzulesen und beispielsweise als Liste von Listen zu verwalten:"
   ]
  },
  {
   "cell_type": "code",
   "execution_count": null,
   "metadata": {},
   "outputs": [],
   "source": [
    "data = []\n",
    "with open('data/beispiel1.csv', encoding=\"utf-8\") as fh:\n",
    "    for line in fh:\n",
    "        data.append(line.rstrip().split(','))\n",
    "print(data) "
   ]
  },
  {
   "cell_type": "markdown",
   "metadata": {},
   "source": [
    "In der Praxis ist es aber oft nicht ganz so einfach, etwa wenn das Trennzeichen in einem Wert vorkommt:\n",
    "\n",
    "```\n",
    "Hans,Huber,\"Graz, Wien\",2001-09-06\n",
    "Anna Maria,Bauer,Weiz,1999-02-14\n",
    "```"
   ]
  },
  {
   "cell_type": "markdown",
   "metadata": {},
   "source": [
    "Daher soll man nicht versuchen, selbst Code zu schreiben, der ein solches Format parst, sondern auf bestehende Bibliotheken zurückgreifen. In der Standardlibrary gibt es dafür das `csv` Modul. Ebenfalls sehr populär ist ist die `read_csv()` Funktion der Pandas Bibliothek, deren Verwendung aber nur Sinn macht, wenn man ohnehin mit Pandas arbeiten will. Daher beschäftigen wir uns hier mit dem csv Modul. Die Dokumentation des Moduls finden Sie hier: https://docs.python.org/3/library/csv.html."
   ]
  },
  {
   "cell_type": "markdown",
   "metadata": {},
   "source": [
    "### CSV lesen\n",
    "\n",
    "Zum Einlesen einer CSV-Datei benötigen wir einen Reader, dem wir die CSV-Datei als Parameter übergeben:"
   ]
  },
  {
   "cell_type": "code",
   "execution_count": null,
   "metadata": {},
   "outputs": [],
   "source": [
    "import csv\n",
    "\n",
    "with open('data/cities.csv', encoding=\"utf-8\") as fh:\n",
    "    reader = csv.reader(fh)"
   ]
  },
  {
   "cell_type": "markdown",
   "metadata": {},
   "source": [
    "Das `reader` Objekt stellt nun die einzelnen Zeilenwerte als Folge von Listen bereit:"
   ]
  },
  {
   "cell_type": "code",
   "execution_count": null,
   "metadata": {},
   "outputs": [],
   "source": [
    "import csv\n",
    "\n",
    "with open('data/cities.csv', encoding='utf-8') as fh:\n",
    "    reader = csv.reader(fh)\n",
    "    for row in reader:\n",
    "        print(row)"
   ]
  },
  {
   "cell_type": "markdown",
   "metadata": {},
   "source": [
    "Damit kann man gezielt auf Spaltenwerte zugreifen. Wenn ich etwas nur an den Städtenamen und Bundesländern interessiert bin:"
   ]
  },
  {
   "cell_type": "code",
   "execution_count": null,
   "metadata": {},
   "outputs": [],
   "source": [
    "import csv\n",
    "\n",
    "with open('data/cities.csv', encoding='utf-8') as fh:\n",
    "    reader = csv.reader(fh)\n",
    "    next(reader) # skip the first line\n",
    "    for row in reader:\n",
    "        print(f\"{row[0]}, {row[2]}, {row[-1]}\")"
   ]
  },
  {
   "cell_type": "markdown",
   "metadata": {},
   "source": [
    "Es ist zu beachten, dass alle Werte den Datentyp `str` haben. Im nächsten Beispiel speichern wir alle Zeilen in einer Liste `data`. Dann versuchen wir die Summe der aktuellen Einwohnerzahlen zu bilden, was nicht funktioniert, weil `sum()` numerische Werte (und keine Strings) erwartet:"
   ]
  },
  {
   "cell_type": "code",
   "execution_count": null,
   "metadata": {},
   "outputs": [],
   "source": [
    "\n",
    "with open('data/cities.csv', encoding='utf-8') as fh:\n",
    "    reader = csv.reader(fh)\n",
    "    next(reader) # skip the first line\n",
    "    data = list(reader)\n",
    "\n",
    "sum_of_population = sum([row[-1] for row in data])        "
   ]
  },
  {
   "cell_type": "markdown",
   "metadata": {},
   "source": [
    "Damit dieser Code funktioniert, müssen wir explizit eine Typumwandlung durchführen (und den Tausender-Trenner entfernen):"
   ]
  },
  {
   "cell_type": "code",
   "execution_count": null,
   "metadata": {},
   "outputs": [],
   "source": [
    "sum_of_population = sum([int(row[-1].replace('.', '')) for row in data])\n",
    "print(sum_of_population)"
   ]
  },
  {
   "cell_type": "markdown",
   "metadata": {},
   "source": [
    "Eine alternative Strategie wäre, die Daten schon zu Beginn in eine brauchbare Form zu bringen. \n",
    "Das empfiehlt sich vor allem, wenn weitere Auswertungen auf diesen Daten benötigt werden."
   ]
  },
  {
   "cell_type": "code",
   "execution_count": null,
   "metadata": {},
   "outputs": [],
   "source": [
    "data = []\n",
    "with open('data/cities.csv', encoding='utf-8') as fh:\n",
    "    reader = csv.reader(fh)\n",
    "    next(reader) # skip the first line\n",
    "    for row in reader:\n",
    "        data.append((row[0], row[1], row[2], int(row[3]), \n",
    "                    int(row[4].replace('.', '')), \n",
    "                    int(row[5].replace('.', '')),\n",
    "                    int(row[6].replace('.', ''))))\n",
    "\n",
    "sum_of_population = sum([row[-1] for row in data])\n",
    "print(sum_of_population)"
   ]
  },
  {
   "cell_type": "markdown",
   "metadata": {},
   "source": [
    "#### Reader konfigurieren\n",
    "\n",
    "Wir haben das `reader` Objekt bisher in seiner einfachsten Form verwendet. Es bietet aber eine Reihe von Möglichkeiten, über die das Parsen der Input-Daten beeinflusst werden können. Beispielsweise kann man über den Parameter `delimiter`= \n",
    "das Trennzeichen ändern. Die vollständige Liste an Möglichkeiten finden Sie hier: https://docs.python.org/3/library/csv.html?highlight=csv#csv-fmt-params."
   ]
  },
  {
   "cell_type": "markdown",
   "metadata": {},
   "source": [
    "#### CSV als Liste von Dictionaries\n",
    "\n",
    "Normalerweise stellt das csv Modul die Daten als Liste von Listen bereit. Manchmal ist es aber übersichtlicher, auf einer Liste von Dictionaries zu operieren, in der die Keys die Spaltennamen sind. Das csv Modul stellt das einen speziellen `DictReader` zur Verfügung:"
   ]
  },
  {
   "cell_type": "code",
   "execution_count": null,
   "metadata": {},
   "outputs": [],
   "source": [
    "with open('data/cities.csv', encoding=\"utf-8\") as fh:\n",
    "    reader = csv.DictReader(fh)\n",
    "    for row in reader:\n",
    "        print(row['name'], row['province'], row['population_2023'])"
   ]
  },
  {
   "cell_type": "markdown",
   "metadata": {},
   "source": [
    "Der `DictReader` verwendet automatisch die Felder der ersten Zeile als keys. Falls die CSV-Datei keine Feldnamen in der ersten Zeile hat, können diese explizit als Liste von Strings angegeben werden:"
   ]
  },
  {
   "cell_type": "code",
   "execution_count": null,
   "metadata": {},
   "outputs": [],
   "source": [
    "with open('data/cities_no_fieldnames.csv', encoding=\"utf-8\") as fh:\n",
    "    reader = csv.DictReader(fh, fieldnames=[\"Name\", \"Bezirk\", \"Bundesland\", \"Stadt seit\", \n",
    "                                            \"Einwohner 2001\", \"Einwohner_2011\", \"Einwohner 2023\"])\n",
    "    for row in reader:\n",
    "        print(row['Name'], row['Bundesland'], row['Einwohner 2023'])"
   ]
  },
  {
   "cell_type": "markdown",
   "metadata": {},
   "source": [
    "## CSV schreiben\n",
    "\n",
    "Auch beim Schreiben von CSV empfehle ich dringend, auf fertige Bibliotheken zurückzugreifen, weil diese mit Besonderheiten wie Trennzeichen in den Daten gut umgehen können. Das csv Modul bietet einige Writer an.\n",
    "\n",
    "Nehmen wir an, wir hätten in unserem Programm Daten generiert oder aus anderen Daten abgeleitet. Da diese in Tabellenform vorliegen, wollen wir sie in eine CSV Datei speichern:"
   ]
  },
  {
   "cell_type": "code",
   "execution_count": null,
   "metadata": {},
   "outputs": [],
   "source": [
    "data = [\n",
    "    (\"foo\", 123, \"a, c, x\"),\n",
    "    (\"bar\", 987, \"a, r, z\"),\n",
    "    (\"foobar\", 1245, \"b, m\")\n",
    "]\n",
    "with open('output/data.csv', 'w', encoding=\"utf-8\")  as fh:\n",
    "    writer = csv.writer(fh)\n",
    "    writer.writerows(data)"
   ]
  },
  {
   "cell_type": "markdown",
   "metadata": {},
   "source": [
    "`writer.writerows()` schreibt alles Elemente der Liste in unsere zum Schreiben geöffnete CSV-Datei `output/cities.csv`. Überprüfen Sie, ob und wie die Daten korrekt geschrieben wurden:"
   ]
  },
  {
   "cell_type": "code",
   "execution_count": null,
   "metadata": {},
   "outputs": [],
   "source": [
    "with open('output/data.csv') as fh:\n",
    "   print(fh.read())"
   ]
  },
  {
   "cell_type": "markdown",
   "metadata": {},
   "source": [
    "Falls wir nur einzelne Zeilen schreiben wollen, sollten wir `writer.writerow()` verwenden:"
   ]
  },
  {
   "cell_type": "code",
   "execution_count": null,
   "metadata": {},
   "outputs": [],
   "source": [
    "data = [\n",
    "    (\"foo\", 123, \"a, c, x\"),\n",
    "    (\"bar\", 987, \"a, r, z\"),\n",
    "    (\"foobar\", 1245, \"b, m\")\n",
    "]\n",
    "with open('output/data.csv', 'w', encoding=\"utf-8\")  as fh:\n",
    "    writer = csv.writer(fh)\n",
    "    for row in data:\n",
    "        if row[1] > 500:\n",
    "            writer.writerow(row)"
   ]
  },
  {
   "cell_type": "code",
   "execution_count": null,
   "metadata": {},
   "outputs": [],
   "source": [
    "with open('output/data.csv') as fh:\n",
    "   print(fh.read())"
   ]
  },
  {
   "cell_type": "markdown",
   "metadata": {},
   "source": [
    "## Vertiefende Literatur\n",
    "\n",
    "Ich empfehle ausdrücklich, mindestens eine der folgenden Ressourcen zur Vertiefung zu lesen!\n",
    "\n",
    "  * https://docs.python.org/3/library/csv.html"
   ]
  },
  {
   "cell_type": "markdown",
   "metadata": {},
   "source": [
    "## Lizenz\n",
    "\n",
    "This notebook ist part of the course [Grundlagen der Programmierung](https://github.com/gvasold/gdp) held by [Gunter Vasold](https://online.uni-graz.at/kfu_online/wbForschungsportal.cbShowPortal?pPersonNr=51488) at Graz University 2017&thinsp;ff. \n",
    "\n",
    "<p>\n",
    "    It is licensed under <a href=\"https://creativecommons.org/licenses/by-nc-sa/4.0\">CC BY-NC-SA 4.0</a>\n",
    "</p>\n",
    "\n",
    "<table>\n",
    "    <tr>\n",
    "    <td>\n",
    "        <img style=\"height:22px\" \n",
    "             src=\"https://mirrors.creativecommons.org/presskit/icons/cc.svg?ref=chooser-v1\"/></li>\n",
    "    </td>\n",
    "    <td>\n",
    "    <img style=\"height:22px;\"\n",
    "         src=\"https://mirrors.creativecommons.org/presskit/icons/by.svg?ref=chooser-v1\" /></li>\n",
    "    </td>\n",
    "    <td>\n",
    "        <img style=\"height:22px;\"\n",
    "         src=\"https://mirrors.creativecommons.org/presskit/icons/nc.svg?ref=chooser-v1\" /></li>\n",
    "    </td>\n",
    "    <td>\n",
    "        <img style=\"height:22px;\"\n",
    "             src=\"https://mirrors.creativecommons.org/presskit/icons/sa.svg?ref=chooser-v1\" /></li>\n",
    "    </td>\n",
    "</tr>\n",
    "</table>"
   ]
  }
 ],
 "metadata": {
  "kernelspec": {
   "display_name": "Python 3 (ipykernel)",
   "language": "python",
   "name": "python3"
  },
  "language_info": {
   "codemirror_mode": {
    "name": "ipython",
    "version": 3
   },
   "file_extension": ".py",
   "mimetype": "text/x-python",
   "name": "python",
   "nbconvert_exporter": "python",
   "pygments_lexer": "ipython3",
   "version": "3.9.2"
  }
 },
 "nbformat": 4,
 "nbformat_minor": 4
}
