{
 "cells": [
  {
   "cell_type": "markdown",
   "metadata": {},
   "source": [
    "# JSON\n",
    "\n",
    "JSON (JavaScript Object Notation) ist ein einfaches Datenaustauschformat, das auch zum Speichern von Daten gut geeignet ist.\n",
    "Usrprünglich für JavaScript entwickelt, gibt es inzwischen für fast jede Programmiersprache Bibliotheken zum Lesen und Schreiben von JSON.\n",
    "\n",
    "JSON ist ein textbasiertes Format, das einfach in eine Datei gespeichert oder über eine Netzwerkverbindung übertragen werden kann. Ein JSON-Parser liest dann das JSON als String ein und wandelt diesen in eine passende Datenstruktur um. Welche Datenstrukturen dabei verwendet werden, hängt von der Programmiersprache ab; in Python werden Dictionaries und Listen verwendet.\n",
    "\n",
    "JSON hat gegenüber CSV den Vorteil, dass es nicht nur für tabellenförmige Daten geeignet ist. Grundsätzlich kann man natürlich auch tabellarische Struktuen in JSON als Liste von Dictionaries ausdrücken, der Platzbedarf ist aber viel größer:"
   ]
  },
  {
   "cell_type": "code",
   "execution_count": null,
   "metadata": {},
   "outputs": [],
   "source": [
    "temperatures = [\n",
    "    {\"morning\": 11, \"noon\": 24, \"evening\": 22},\n",
    "    {\"morning\": 12, \"noon\": 28, \"evening\": 25},\n",
    "    {\"morning\": 8, \"noon\": 25, \"evening\": 18}\n",
    "]"
   ]
  },
  {
   "cell_type": "markdown",
   "metadata": {},
   "source": [
    "Man kann also auch mehr als 2 Dimensionen (z.B. als verschachtelte Dictionaries) ausdrücken oder z.B. baumförmige Strukturen kodieren. \n",
    "\n",
    "Sehen wir uns ein einfaches Beispiel an:\n",
    "\n",
    "```\n",
    "{\n",
    "    \"firstname\": \"Gunter\",\n",
    "    \"lastname\": \"Vasold\",\n",
    "    \"courses\": [\n",
    "        {\n",
    "            \"title\": \"Grundlagen der Programmierung\",\n",
    "            \"type\": \"VU\",\n",
    "            \"years\": [2017,2018,2019,2020,2021,2022,2023]\n",
    "        },\n",
    "        {\n",
    "            \"title\": \"Informationsmodellierung II\",\n",
    "            \"type\": \"VU\",\n",
    "            \"years\": [2019,2020,2021,2022]\n",
    "        },\n",
    "        {\n",
    "            \"title\": \"Digitale Langzeitarchivierung und Datenmanagement\",\n",
    "            \"type\": \"VU\",\n",
    "            \"years\": [2023]\n",
    "        }\n",
    "    ]\n",
    "}\n",
    "```\n"
   ]
  },
  {
   "cell_type": "markdown",
   "metadata": {},
   "source": [
    "Das gesamte JSON beschreibt einen Vortragenden am ZIM, besteht also in JSON-Speak aus einem \"Object\". Dieses Object hat 3 `properties`: `firstname`, `lastname` und `courses`.  `courses` ist eine Liste von weiteren Objekten: Jedes Objekt in dieser Liste repräsentiert eine Lehrveranstaltung und hat diese Eigenschaften:\n",
    "\n",
    "  * title (String)\n",
    "  * type (String)\n",
    "  * years (Liste mit int-Werten)"
   ]
  },
  {
   "cell_type": "markdown",
   "metadata": {},
   "source": [
    "JSON unterstützt nur wenige und entsprechend generische Datentypen. Hier ein Überblick:\n",
    "\n",
    "\n",
    "| JSON Typ | Python Typ | Anmerkung |\n",
    "|----------|------------|-----------|\n",
    "| Objekt   | dict       |           |\n",
    "| Array    | list       |           |  \n",
    "| String   | str        | Strings müssen durch doppelte Anführungszeichen begrenzt werden: ``\"foo\"``|\n",
    "| Number   | int oder float | Python Typ wird automatisch erkannt |\n",
    "| Boolean  | bool       | In JSON ``true/false ``, in Python ``True/False``|\n",
    "| null     | None       | NoneType  |"
   ]
  },
  {
   "cell_type": "markdown",
   "metadata": {
    "jp-MarkdownHeadingCollapsed": true
   },
   "source": [
    "## Ins JSON-Format serialisieren"
   ]
  },
  {
   "cell_type": "markdown",
   "metadata": {},
   "source": [
    "Für die folgenden Beispiele verwenden wir das ziemlich einfache Beispiel von oben in einer leicht erweiterten Form:\n",
    "Ein Dictionary mit 6 Keys: ``firstname``, ``lastname``, ``lectures_since``, ``ìs_retired`` ``landline`` und ``courses``.\n",
    "\n",
    "  * Die Werte von ``firstname`` und ``lastname`` sind Strings\n",
    "  * ``lectures_since``zeigt auf einen ``int``-Wert\n",
    "  * ``is_retired`` hat als Wert vom Typ ``bool``\n",
    "  * ``landline`` steht zu Demonstrationszwecken auf ``None``\n",
    "  * ``courses`` hat als Wert eine Liste weiterer Objekte, die jeweils mit 3 Eigenschaften\n",
    "    eine Lehrveranstaltung beschreiben:\n",
    "      * ``title`` -> ``str``\n",
    "      * ``type`` -> ``str``\n",
    "      * ``years`` -> Eine Liste von Integern\n",
    "   \n",
    "Unsere Ausgangsdaten sind also ein Python-Dictionary:"
   ]
  },
  {
   "cell_type": "code",
   "execution_count": null,
   "metadata": {},
   "outputs": [],
   "source": [
    "data = {\n",
    "    \"firstname\": 'Gunter',\n",
    "    \"lastname\": \"Vasold\",\n",
    "    \"lectures_since\": 1998,\n",
    "    \"is_retired\": False,\n",
    "    \"landline\": None,\n",
    "    \"courses\": [\n",
    "        {\n",
    "            \"title\": \"Grundlagen der Programmierung\",\n",
    "            \"type\": \"VU\",\n",
    "            \"years\": [2017,2018,2019,2020,2021,2022,2023]\n",
    "        },\n",
    "        {\n",
    "            \"title\": \"Informationsmodellierung II\",\n",
    "            \"type\": \"VU\",\n",
    "            \"years\": [2019,2020,2021,2022]\n",
    "        },\n",
    "        {\n",
    "            \"title\": \"Digitale Langzeitarchivierung und Datenmanagement\",\n",
    "            \"type\": \"VU\",\n",
    "            \"years\": [2023]\n",
    "        }\n",
    "    ]\n",
    "}"
   ]
  },
  {
   "cell_type": "markdown",
   "metadata": {},
   "source": [
    "### Daten als String\n",
    "\n",
    "Stellen wir uns vor, wir müssten nun diese Daten (d.h. das Dictionary ``data``) über eine Netzwerkverbindung zu einem anderen Computer übertragen. Ein häufiger Anwendungsfall ist, dass eine in Python geschriebene Applikation über einen Webserver diese Daten bereitstellt, die dann von einem einem anderen Computer abgefragt, verarbeitet oder dargestellt werden. Das Programm am zweiten Computer kann zum Beispiel in JavaScript oder einer anderen Sprache geschrieben sein. Die Daten sollten also in einem Format übertragen werden, das auf der einen Seite einfach zu erzeugen und auf der anderen Seite mit einer beliebigen Programmiersprache einfach zu verarbeiten ist. Im WWW hat sich für diesen Zweck JSON als bevorzugtes Format etabliert.\n",
    "\n",
    "Kehren wir zurück zu unserem Programm am Server: Wir haben die Daten generiert (z.B. aus einer Datenbank abgefragt) und wollen sie nun an den anfragenden Client im JSON-Format zurücksenden. Dazu müssen wir das Dictionary ``data`` in einen String (JSON ist ein textbasiertes Format) umwandeln und dabei den vom JSON-Format definierten Vorgaben folgen. Das machen wir natürlich nicht \"zu Fuß\", sondern wir verwenden das ``json``-Modul der Standard Library:"
   ]
  },
  {
   "cell_type": "code",
   "execution_count": null,
   "metadata": {},
   "outputs": [],
   "source": [
    "import json\n",
    "\n",
    "serialized_data = json.dumps(data)\n",
    "print(type(serialized_data))\n",
    "serialized_data"
   ]
  },
  {
   "cell_type": "markdown",
   "metadata": {},
   "source": [
    "Wenn wir das Dictionary mit dem Rückgabewert von ``json.dumps()`` vergleichen, sehen wir zuerst einen Unterschied im Datentyp: ``data`` ist ein Dictionary, ``serialized_data`` hingegen ein String.\n",
    "Wir sehen aber auch, dass die Daten von ``data`` in ``serialized_data`` noch alle vorhanden sind. Allerdings mit ein paar kleinen, aber wesentlichen Unterschieden:\n",
    "\n",
    "  * Alle String-Werte sind durch doppelte Anführungszeichen umschlossen (das wird von JSON so vorgegeben)\n",
    "  * Der Wert von ``is_retired`` ist in ``data`` ``False``, in JSON aber ``false``.\n",
    "  * Der Wert von ``landline`` ist im Dictionary ``None``,  in JSON aber ``null``\n",
    "\n",
    "Diese Änderungen enstprechen dem von JSON vorgegebenen Format.\n",
    "\n",
    "Im nächsten Schritt könnten wir nun den String ``serialized_data`` über eine Netzwerkverbindung an den anderen Rechner senden, was hier aber nicht weiter behandelt wird."
   ]
  },
  {
   "cell_type": "markdown",
   "metadata": {},
   "source": [
    "### Parameter für die Serialisierung\n",
    "Die ``json.dumps()`` Funktion kennt noch einige Parameter, mit denen wir die Umwandlung nach JSON\n",
    "beeinflussen können. Die am häufigsten benötigte ist ``ensure_ascii=False``:"
   ]
  },
  {
   "cell_type": "markdown",
   "metadata": {},
   "source": [
    "#### ensure_ascii=\n",
    "\n",
    "Dieser Wert von ``ensure_ascii`` steht normalerweise auf ``True``, was dazu führt, dass alle Nicht-ASCII-Zeichen in eine ASCII-kompatible Form umgewandelt werden. Das ist eine Vorsichtsmaßnahme um Encoding-Probleme zu vermeiden."
   ]
  },
  {
   "cell_type": "code",
   "execution_count": null,
   "metadata": {},
   "outputs": [],
   "source": [
    "json.dumps(\"Ärgernis\")"
   ]
  },
  {
   "cell_type": "markdown",
   "metadata": {},
   "source": [
    "Heutzutage wir meist erwartet, dass die JSON-Daten UTF-8 kodiert werden. Daher können wir ``ensure_ascii`` auf ``False`` stellen:"
   ]
  },
  {
   "cell_type": "code",
   "execution_count": null,
   "metadata": {},
   "outputs": [],
   "source": [
    "json.dumps(\"Ärgernis\", ensure_ascii=False)"
   ]
  },
  {
   "cell_type": "markdown",
   "metadata": {},
   "source": [
    "#### indent=\n",
    "\n",
    "Falls der erzeugte String für Menschen besser lesbar gemacht werden soll, dann man den ``indent`` Parameter setzen. Dieser steht defaultmässig auf ``None``. Wenn man ihn auf einen positiven Ganzzahlenwert setzt (z.B. 2), wird für jede Verschachtelungsebene um so viele Zeichen eingerückt:"
   ]
  },
  {
   "cell_type": "code",
   "execution_count": null,
   "metadata": {},
   "outputs": [],
   "source": [
    "serialized_data = json.dumps(data, indent=2)\n",
    "print(serialized_data)"
   ]
  },
  {
   "cell_type": "markdown",
   "metadata": {},
   "source": [
    "Alternativ kann man statt der Zahl ``\"\\t\"`` angeben, dann wird jede Einrückungsebene um einen Tabulator eingerückt:"
   ]
  },
  {
   "cell_type": "code",
   "execution_count": null,
   "metadata": {},
   "outputs": [],
   "source": [
    "serialized_data = json.dumps(data, indent=\"\\t\")\n",
    "print(serialized_data)"
   ]
  },
  {
   "cell_type": "markdown",
   "metadata": {},
   "source": [
    "``dumps()`` kennt noch einige weitere, seltener genrauchte Parameter, die in der Dokumentation der Standard Library\n",
    "(https://docs.python.org/3/library/json.html) beschreiben werden."
   ]
  },
  {
   "cell_type": "markdown",
   "metadata": {},
   "source": [
    "### JSON direkt in Datei speichern\n",
    "\n",
    "Im Beispiel oben haben wir gesehen, wie wir ein Dictionary in einen String umgewandelt haben. Diesen String könnten wir ohne weitere via ``fh.write(serialized_data)`` auch in eine Datein speichern. Das JSON-Modul bietet aber die Möglichkeit, Daten direkt in eine Datei zu schreiben:"
   ]
  },
  {
   "cell_type": "code",
   "execution_count": null,
   "metadata": {},
   "outputs": [],
   "source": [
    "with open('output/data.json', 'w', encoding=\"utf-8\") as fh:\n",
    "    json.dump(data, fh)"
   ]
  },
  {
   "cell_type": "markdown",
   "metadata": {},
   "source": [
    "``json.dump()`` kennt weitgehend dieselben Parameter wie ``dumps()``, das heißt, wir können auch hier ``ensure_ascii=`` oder ``indent=`` verwenden."
   ]
  },
  {
   "cell_type": "markdown",
   "metadata": {
    "jp-MarkdownHeadingCollapsed": true
   },
   "source": [
    "## JSON lesen"
   ]
  },
  {
   "cell_type": "markdown",
   "metadata": {},
   "source": [
    "### JSON aus String lesen"
   ]
  },
  {
   "cell_type": "markdown",
   "metadata": {},
   "source": [
    "Natürlich können wir das ``json`` Modul auch dazu verwenden, einen JSON-String wieder in eine Python-Datenstruktur umzuwandelt. Das ist z.B. dann nützlich, wenn wir ein Python-Script schreiben, das sich Daten von einem Server holt und weiter verarbeitet. Eine andere Anwendungsmöglichkeit besteht darin, Daten aus einer JSON-Datei zu lesen."
   ]
  },
  {
   "cell_type": "markdown",
   "metadata": {},
   "source": [
    "Beginnen wir mit einem einfachen Beispiel: Ein einfaches JSON in einem String:"
   ]
  },
  {
   "cell_type": "code",
   "execution_count": null,
   "metadata": {},
   "outputs": [],
   "source": [
    "json_data = '''{\"firstname\": \"Gunter\", \"lastname\": \"Vasold\", \"lectures_since\": 1998, \n",
    "               \"is_retired\": false, \"landline\": null, \n",
    "               \"courses\": [\n",
    "               {\"title\": \"Grundlagen der Programmierung\", \"type\": \"VU\", \n",
    "               \"years\": [2017, 2018, 2019, 2020, 2021, 2022, 2023]}, \n",
    "               {\"title\": \"Informationsmodellierung II\", \"type\": \"VU\", \"years\": [2019, 2020, 2021, 2022]}, \n",
    "               {\"title\": \"Digitale Langzeitarchivierung und Datenmanagement\", \"type\": \"VU\", \"years\": [2023]}]}'''"
   ]
  },
  {
   "cell_type": "markdown",
   "metadata": {},
   "source": [
    "Um diesen String in ein Dictionary umzuwandeln, benötigen wir die ``loads()`` Funktion des ``json``  Moduls."
   ]
  },
  {
   "cell_type": "code",
   "execution_count": null,
   "metadata": {},
   "outputs": [],
   "source": [
    "data = json.loads(json_data)\n",
    "print(type(data))"
   ]
  },
  {
   "cell_type": "markdown",
   "metadata": {},
   "source": [
    "``loads`` hat nicht nur die Struktur der Daten wiederhergestellt, sondern auch ``false`` als ``False`` interpretiert und ``null`` als ``None``."
   ]
  },
  {
   "cell_type": "code",
   "execution_count": null,
   "metadata": {},
   "outputs": [],
   "source": [
    "print(data[\"firstname\"], data[\"is_retired\"], data[\"landline\"])"
   ]
  },
  {
   "cell_type": "markdown",
   "metadata": {},
   "source": [
    "Hier sehen wir einen weiteren Unterschied zu csv: JSON unterstützt seine grundlegenden Datentypen auch beim Lesen, während bei csv zunächst alle Daten als Strings angelegt werden."
   ]
  },
  {
   "cell_type": "markdown",
   "metadata": {},
   "source": [
    "### JSON aus Datei lesen"
   ]
  },
  {
   "cell_type": "markdown",
   "metadata": {},
   "source": [
    "Mit der ``load()`` Funktion kann man JSON auch direkt aus einer Datei lesen:"
   ]
  },
  {
   "cell_type": "code",
   "execution_count": null,
   "metadata": {},
   "outputs": [],
   "source": [
    "with open('data/cities.json', encoding=\"utf-8\") as fh:\n",
    "    data = json.load(fh)\n",
    "print(data[\"provinces\"][0])    "
   ]
  },
  {
   "cell_type": "markdown",
   "metadata": {},
   "source": [
    "## Eigene Klassen nach JSON serialisieren und wieder deserialisieren\n",
    "\n",
    "Wir haben gelernt, dass JSON nur basale Datentypen wie Listen, Dictionaries, Strings usw. serialisieren kann. Was ist, wenn wir Objekte aus selbst geschriebenen Klassen haben? Das JSON-Modul wirft für Daten, die es nicht serialisiere kann einen\n",
    "``TypeError``. Die lässt sich zwar mit dem Parameter ``skipkeys=True`` unterdrücke, würde aber dazu führen, dass die Daten nicht vollständig serialisiert werden und damit verloren gehen.\n",
    "\n",
    "Ich stelle hier eine Mögöichkeit vor, die es erlaubt, auch eigene Klassen nach JSON serialisieren zu können. Dazu\n",
    "fügen wir unserer Klasse eine ``to_json()`` Methode hinzu. Diese Methode wandelt die in der Klasse gespeicherten Daten nach JSON um und liefert diesen JSON String zruück. \n",
    "\n",
    "Zusätzlich könnte man eine Klassenmethode haben, die aus dem von ``to_json()`` erzeugten JSON wieder ein Objekt erzeugt. \n",
    "Hier ein simples Beispiel:"
   ]
  },
  {
   "cell_type": "code",
   "execution_count": null,
   "metadata": {},
   "outputs": [],
   "source": [
    "class Course:\n",
    "\n",
    "    def __init__(self, title, type, *args):\n",
    "        self.title = title\n",
    "        self.type = type\n",
    "        self.years = list(args)\n",
    "\n",
    "    def add_year(self, year):\n",
    "        self.years.append(year)\n",
    "\n",
    "    def to_json(self):\n",
    "        \"Serialize object to JSON.\"\n",
    "        data = {\"title\": self.title, \"type\": self.type, \"years\": self.years}\n",
    "        return json.dumps(data)\n",
    "\n",
    "    @classmethod\n",
    "    def from_json(cls, json_str):\n",
    "        \"Create a Course object from json_str.\"\n",
    "        data = json.loads(json_str)\n",
    "        course = Course(data[\"title\"], data[\"type\"])\n",
    "        for year in data[\"years\"]:\n",
    "            course.add_year(year)\n",
    "        return course"
   ]
  },
  {
   "cell_type": "markdown",
   "metadata": {},
   "source": [
    "Probieren wir diese Klasse gleich aus, indem wir ein ``Course`` Objekt erzeugen und dieses dann nach JSON serialisieren:"
   ]
  },
  {
   "cell_type": "code",
   "execution_count": null,
   "metadata": {},
   "outputs": [],
   "source": [
    "course = Course(\"Introduction to Python\", \"VU\", 2022, 2023)\n",
    "course_json = course.to_json()\n",
    "course_json"
   ]
  },
  {
   "cell_type": "markdown",
   "metadata": {},
   "source": [
    "Um die Klassenmethode ``from_json()`` zu demonstrieren, löschen wird das existierende ``course`` Objekt (was eigentlich nicht notwendig wäre) und erzeugen es via ``from_json()`` neu:"
   ]
  },
  {
   "cell_type": "code",
   "execution_count": null,
   "metadata": {},
   "outputs": [],
   "source": [
    "del course\n",
    "course = Course.from_json(course_json)\n",
    "print(course)\n",
    "print(course.years)\n",
    "print(course.to_json())"
   ]
  },
  {
   "cell_type": "markdown",
   "metadata": {},
   "source": [
    "Wir haben also aus dem JSON-String über die Klassenmethode ``Course.from_json()`` uns wieder ein ``Course``-Objekt erzuegen lassen."
   ]
  },
  {
   "cell_type": "markdown",
   "metadata": {},
   "source": [
    "### Verschachtelte Objekte serialisieren/deserialisieren\n",
    "Was wir hier für eine einzelne Klasse demonstriert haben, funktioniert natürlich auch für verschachtelte Objekte. Die ``Lecturer`` Klasse erwartet hier (implizit) als Datentyp von ``courses`` eine Liste von ``Course`` Objekten.\n",
    "Wir verwenden daher in der ``to_json()`` Methode von ``Lecturer`` die ``to_json()``-Methode von ``Course`` um die einzelnen Course-Objekt nach JSON zu serialisieren. \n",
    "\n",
    "In der ``from_json()`` Methode von ``Lecturer``verwenden wir zum Erzeugen der ``Course``-Objekte die entsprechend ``from_json()``-Methode der ``Course``-Klasse. "
   ]
  },
  {
   "cell_type": "code",
   "execution_count": null,
   "metadata": {},
   "outputs": [],
   "source": [
    "class Lecturer:\n",
    "\n",
    "    def __init__(self, firstname, lastname, lectures_since, landline=None):\n",
    "        self.firstname = firstname\n",
    "        self.lastname = lastname\n",
    "        self.lectures_since = lectures_since\n",
    "        self.landline = landline\n",
    "        self.is_retired = False\n",
    "        self.courses = []\n",
    "\n",
    "    def retire(self):\n",
    "        \"Retire the lecturer.\"\n",
    "        self.is_retired = True\n",
    "\n",
    "    def add_course(self, course):\n",
    "        self.courses.append(course)\n",
    "\n",
    "    def to_json(self):\n",
    "        \"Serialize object with all containes subobjects to JSON.\"\n",
    "        data = { \"firstname\": self.firstname, \n",
    "                 \"lastname\": self.lastname,\n",
    "                 \"lectures_since\": self.lectures_since,\n",
    "                 \"landline\": self.landline, \n",
    "                 \"is_retired\": self.is_retired,\n",
    "                 \"courses\": []\n",
    "               }\n",
    "        for course in self.courses:\n",
    "            data[\"courses\"].append(course.to_json())\n",
    "        return json.dumps(data)\n",
    "\n",
    "\n",
    "    @classmethod\n",
    "    def from_json(cls, json_str):\n",
    "        \"\"\"Create a Lecturer object from JSON.\n",
    "        \n",
    "        All contained Course data are converted to ``Course`` objects.\n",
    "        \"\"\"\n",
    "        data = json.loads(json_str)\n",
    "        lecturer = Lecturer(data[\"firstname\"], data[\"lastname\"], \n",
    "                            data[\"lectures_since\"], data[\"landline\"])\n",
    "        for course in data[\"courses\"]:\n",
    "            lecturer.add_course(Course.from_json(course))\n",
    "        return lecturer\n",
    "            "
   ]
  },
  {
   "cell_type": "markdown",
   "metadata": {},
   "source": [
    "Wenn wir dir folgende Code-Zelle ausführen, erhalten wir einen JSON-String, der die Daten des gesamten ``Lecturer``-Objekts inklusive der enthaltenen ``Course`` Objekte enthält."
   ]
  },
  {
   "cell_type": "code",
   "execution_count": null,
   "metadata": {},
   "outputs": [],
   "source": [
    "lecturer = Lecturer(\"Gunter\", \"Vasold\", 1998)\n",
    "lecturer.add_course(Course(\"Databases\", \"VU\", 2024))\n",
    "lecturer.add_course(Course(\"Web APIs and REST\", \"VU\", 2023, 2024))\n",
    "lecturer_json = lecturer.to_json()\n",
    "lecturer_json"
   ]
  },
  {
   "cell_type": "markdown",
   "metadata": {},
   "source": [
    "Den so generierten JSON-String können wir später dazu verwenden, via ``Lecturer.from_json()`` wieder ein ``Lecturer`` Objekt samt der darin enthaltenen ``Course``Objekte zu erzeugen."
   ]
  },
  {
   "cell_type": "code",
   "execution_count": null,
   "metadata": {},
   "outputs": [],
   "source": [
    "lecturer = Lecturer.from_json(lecturer_json)\n",
    "print(lecturer.lastname)\n",
    "print(len(lecturer.courses))"
   ]
  },
  {
   "cell_type": "markdown",
   "metadata": {},
   "source": [
    "## XPath für JSON\n",
    "\n",
    "Man kann sich natürlich mit Python-Boardmitteln (``data[\"provinces\"][2][\"districts\"][4]``) durch eine komplexe JSON-Struktur bewegen, es gibt aber einige Bibliotheken, die die Navigation erleichtern. Eine empfehlenswerte Bibliothek ist ``jsonpath-ng``, die eine XPath-artige Funktionsweise hat. \n",
    "\n",
    "Zuerst müssen wir uns die Bibliothek installieren:"
   ]
  },
  {
   "cell_type": "code",
   "execution_count": null,
   "metadata": {},
   "outputs": [],
   "source": [
    "!pip install jsonpath-ng"
   ]
  },
  {
   "cell_type": "markdown",
   "metadata": {},
   "source": [
    "Zuerst laden wir die Bibliothek und laden dann die Daten aus der JSON-Datei in ein Disctionary:"
   ]
  },
  {
   "cell_type": "code",
   "execution_count": null,
   "metadata": {},
   "outputs": [],
   "source": [
    "import jsonpath_ng as jp\n",
    "\n",
    "with open(\"data/cities.json\", encoding=\"utf-8\") as fh:\n",
    "    data = json.load(fh)"
   ]
  },
  {
   "cell_type": "markdown",
   "metadata": {},
   "source": [
    "jsonpath arbeitet so, dass man zuerst einen Pfadausdruck definiert und mit der ``parse()``-Funktion in ein Objekt umwandelt. Danach kann in einem aus JSON generierten Dictionary der Ausdruck ausgewertet werden:"
   ]
  },
  {
   "cell_type": "code",
   "execution_count": null,
   "metadata": {},
   "outputs": [],
   "source": [
    "province_expr = jp.parse(\"$.provinces[*].name\")\n",
    "for province in province_expr.find(data):\n",
    "    print(province.value)"
   ]
  },
  {
   "cell_type": "markdown",
   "metadata": {},
   "source": [
    "* Das ``$`` steht hier für das Wurzelelement und kann im Prinzip auch weggelassen werden.\n",
    "* Das ``.`` trennt Pfade\n",
    "* ``provinces`` ist der Key, auf den wir zugreifen wollen. Da der Wert von ``provinces`` eine Liste ist, signalisieren wir mit ``[*]``: Wende den Ausdruck auf alle Element der Liste an.\n",
    "*  ``name`` ist der Key, auf den wir (für jedes Objekt aus der Liste ``provinces``) zugreifen wollen"
   ]
  },
  {
   "cell_type": "markdown",
   "metadata": {},
   "source": [
    "Während der einfache Punkt im Ausdruck jeweils eine Ebene trennt, können wir mit zwei Punkten (``..``) beliebig viele Ebenen matchen. Der folgende Ausdruck matcht also alle 'cities' Keys und liefert alle Darin enthaltenen Werte für den Key ``name``."
   ]
  },
  {
   "cell_type": "code",
   "execution_count": null,
   "metadata": {},
   "outputs": [],
   "source": [
    "cities_expr = jp.parse(\"$..cities[*].name\")\n",
    "for city in cities_expr.find(data):\n",
    "    print(city.value)"
   ]
  },
  {
   "cell_type": "markdown",
   "metadata": {},
   "source": [
    "Sind wir nur an den Städten der Steiermark interessiert, müssen wir filtern. Dazu brauchen wir das ``jsonpath_ng.ext`` Modul:"
   ]
  },
  {
   "cell_type": "code",
   "execution_count": null,
   "metadata": {},
   "outputs": [],
   "source": [
    "import jsonpath_ng.ext as jpx"
   ]
  },
  {
   "cell_type": "markdown",
   "metadata": {},
   "source": [
    "Danach können wir Filter in Pfadausdrücke einbauen. Beachten Sie, dass wir nun nicht mehr ``jp.parse()``, sondern ``jpx.parse()`` aufrufen! Die Filterbedingung wird durch ein ``? `` eingeleitet und steht zwischen eckicgen Klammern. In der Bedingung können die Python-Vergleichsoperatoren verwendet werden."
   ]
  },
  {
   "cell_type": "code",
   "execution_count": null,
   "metadata": {},
   "outputs": [],
   "source": [
    "cities_expr = jpx.parse(\"$.provinces[?(@.name == 'Steiermark')]..cities[*].name\")\n",
    "for city in cities_expr.find(data):\n",
    "    print(city.value)"
   ]
  },
  {
   "cell_type": "markdown",
   "metadata": {},
   "source": [
    "jsonpath_ng bietet noch eine Reihe weiterer Möglichkeiten, ich verweise diesbezüglich auf die Dokumentation der Bibliothek."
   ]
  },
  {
   "cell_type": "markdown",
   "metadata": {},
   "source": [
    "## Vertiefende Literatur\n",
    "Ich empfehle ausdrücklich, mindestens eine der folgenden Ressourcen zur Vertiefung zu lesen!\n",
    "\n",
    "  * https://docs.python.org/3/library/json.html\n",
    "  * https://pypi.org/project/jsonpath-ng/\n",
    "  * https://github.com/h2non/jsonpath-ng"
   ]
  },
  {
   "cell_type": "markdown",
   "metadata": {},
   "source": [
    "## Lizenz\n",
    "\n",
    "This notebook ist part of the course [Grundlagen der Programmierung](https://github.com/gvasold/gdp) held by [Gunter Vasold](https://online.uni-graz.at/kfu_online/wbForschungsportal.cbShowPortal?pPersonNr=51488) at Graz University 2017&thinsp;ff. \n",
    "\n",
    "<p>\n",
    "    It is licensed under <a href=\"https://creativecommons.org/licenses/by-nc-sa/4.0\">CC BY-NC-SA 4.0</a>\n",
    "</p>\n",
    "\n",
    "<table>\n",
    "    <tr>\n",
    "    <td>\n",
    "        <img style=\"height:22px\" \n",
    "             src=\"https://mirrors.creativecommons.org/presskit/icons/cc.svg?ref=chooser-v1\"/></li>\n",
    "    </td>\n",
    "    <td>\n",
    "    <img style=\"height:22px;\"\n",
    "         src=\"https://mirrors.creativecommons.org/presskit/icons/by.svg?ref=chooser-v1\" /></li>\n",
    "    </td>\n",
    "    <td>\n",
    "        <img style=\"height:22px;\"\n",
    "         src=\"https://mirrors.creativecommons.org/presskit/icons/nc.svg?ref=chooser-v1\" /></li>\n",
    "    </td>\n",
    "    <td>\n",
    "        <img style=\"height:22px;\"\n",
    "             src=\"https://mirrors.creativecommons.org/presskit/icons/sa.svg?ref=chooser-v1\" /></li>\n",
    "    </td>\n",
    "</tr>\n",
    "</table>"
   ]
  },
  {
   "cell_type": "code",
   "execution_count": null,
   "metadata": {},
   "outputs": [],
   "source": []
  }
 ],
 "metadata": {
  "kernelspec": {
   "display_name": "Python 3 (ipykernel)",
   "language": "python",
   "name": "python3"
  },
  "language_info": {
   "codemirror_mode": {
    "name": "ipython",
    "version": 3
   },
   "file_extension": ".py",
   "mimetype": "text/x-python",
   "name": "python",
   "nbconvert_exporter": "python",
   "pygments_lexer": "ipython3",
   "version": "3.9.2"
  }
 },
 "nbformat": 4,
 "nbformat_minor": 4
}
