{
 "cells": [
  {
   "cell_type": "markdown",
   "metadata": {},
   "source": [
    "# XML\n",
    "\n",
    "Die E**x**tensible **M**arkup **L**anguage ist ein Format und eine Metasprache für (primär) hierarchische Daten. Da XML in einigen anderen Lehrveranstaltungen verwendet wird, gehe ich hier nicht näher darauf ein, sondern möchte nur kurz zeigen, wie man XML mit Python verarbeiten und erzeugen kann."
   ]
  },
  {
   "cell_type": "markdown",
   "metadata": {},
   "source": [
    "## XML Bibliotheken in Python\n",
    "\n",
    "Die in der Standardbibliothek vorhandenen XML-Bibliotheken finden sich im Package xml. Diese sind:\n",
    "    \n",
    "* **dom.sax** - liest XML als Datenstrom ein und generiert Events um z.B. auf bestimmte Tags zu reagieren. Dieses Modul wird        vor allem verwendet, um riesige XML-Dokumente zu        verarbeiten, ohne dabei viel RAM zu verbrauchen.\n",
    "* **xml.dom.minidom** - Macht ein XML-Dokument als **D**ocument-**O**bjekt-**M**odel verfügbar. Das DOM ist eine abstrakte Sichtweise und        API auf ein XML-Dokument, das von vielen Programmiersprachen unterstützt wird. DOM spielt z.B. beim Zugriff von JavaScript auf HTML eine große Rolle.\n",
    "* **xml.dom.pulldom** ist eine etwas exotische Zwischenlösung zwischen SAX und DOM, mit einem sehr überschaubaren Einsatzbereich.\n",
    "* **xml.etree.ElementTree** ist eine sehr \"pythonische\" Art, XML zu        verarbeiten. Es ist von der Idee her mit DOM vergleichbar, bietet aber ein einfacheres Interface.\n",
    "\n",
    "## Zusatzbibliotheken\n",
    "Hier ist vor allem `lxml` (http://lxml.de/) zu erwähnen. `lxml` ist so etwas wie der größere, klügere und stärkere Bruder von `xml.etree.ElementTree` . Beide sind jedoch so ähnlich, dass man, wenn man `xml.etree.ElementTree` verwendet hat, mit minimalen Codeänderungen auf `lxml` umsteigen kann. Der Hauptunterschied ist einerseits die Verarbeitungsgeschwindigkeit und die Unterstützung von XPath, die in `lxml` im Unterschied zu `etree` vollständig implementiert ist. `lxml` bietet darüber hinaus noch ein Reihe weiterer Möglichkeiten, etwa zum Parsen von HTML.\n",
    "        \n",
    "    "
   ]
  },
  {
   "cell_type": "markdown",
   "metadata": {},
   "source": [
    "In der Folge werden wir auf ElementTree fokusieren, weil dies die gebräuchlichste  Art ist, XML-Daten mit Python zu verarbeiten und weitgehend gleich verwendet wird, wie das mächtigere lxml.\n",
    "\n",
    "Im Anhang werde ich noch kurze Beispiele für die anderen Möglichkeiten geben.\n"
   ]
  },
  {
   "cell_type": "markdown",
   "metadata": {},
   "source": [
    "## Die Beispieldaten\n",
    "\n",
    "Wir verwenden hier sehr einfache Daten, die hoffentlich einfach zu verstehen sind. Dabei handelt es sich um eine kurze Rezeptsammlung.\n",
    "\n",
    "In XML sind Daten baumförmig organisiert. Ein Wurzelelement (hier: `<recipes>`) enthält ein oder mehrere Kindelement, die wiederum Kindelemente enthalten können. Im Beispiel kann das Wurzelement `<recipes>` beliebig viele `<recipe>`-Elemente enthalten. Jedes `<recipe>`-Element enthält wiederum diese Elemente: `<title>`, `<coocingTime>`, `<ingredients>` und `<instructions>` usw. \n",
    "\n",
    "Man kann sich diese Struktur wie eine Menge ineinander steckender Behälter vorstellen:\n",
    "\n",
    "<img src=\"img/recipes_box.png\" style=\"height: 300px;\"/>\n",
    "\n",
    "oder auch als Baum, ähnlich etwa einer Verzeichnisstruktur:\n",
    "\n",
    "<img src=\"img/recipes_tree.png\" style=\"width: 100%;\"/>\n",
    "\n",
    "Wichtig ist auch noch, dass Elemente Attribute haben können. Beispielsweise wird das verwendet, um jedem Rezept einen `type` und eine Sprache (`xml:lang`) zuzuweisen:\n",
    "\n",
    "~~~\n",
    "<recipe type=\"soup\" xml:lang=\"de\">\n",
    "~~~\n",
    "\n",
    "Die gesamte XML-Datei finden Sie hier: `data/recipes.xml`"
   ]
  },
  {
   "cell_type": "markdown",
   "metadata": {},
   "source": [
    "## Die XML-Datei einlesen\n",
    "\n",
    "Wir werden ins bei den folgenden Beispiel mit `etree` begnügen. Die Beispiele sollten aber mit kleinen Änderungen auch mit lxml funktionieren. \n",
    "\n",
    "Zunächst müssen wir das Modul importieren. Um nicht immer den langen Modulnamen eintippen zu müssen, importieren wir das Modul unter dem Namen ET:"
   ]
  },
  {
   "cell_type": "code",
   "execution_count": null,
   "metadata": {},
   "outputs": [],
   "source": [
    "import xml.etree.ElementTree as ET"
   ]
  },
  {
   "cell_type": "markdown",
   "metadata": {},
   "source": [
    "Dann lesen wir die XML-Datei ein und weisen das dabei erzeugte ElementTree-Objekt der Variable `tree` zu:"
   ]
  },
  {
   "cell_type": "code",
   "execution_count": null,
   "metadata": {},
   "outputs": [],
   "source": [
    "tree = ET.parse('data/recipes.xml')"
   ]
  },
  {
   "cell_type": "markdown",
   "metadata": {},
   "source": [
    "Um im Baum navigieren zu können, brauchen wir seine Wurzel:"
   ]
  },
  {
   "cell_type": "code",
   "execution_count": null,
   "metadata": {},
   "outputs": [],
   "source": [
    "root = tree.getroot()"
   ]
  },
  {
   "cell_type": "markdown",
   "metadata": {},
   "source": [
    "Dann können wir uns das Wurzel-Objekt `root` genauer ansehen:"
   ]
  },
  {
   "cell_type": "code",
   "execution_count": null,
   "metadata": {},
   "outputs": [],
   "source": [
    "type(root)"
   ]
  },
  {
   "cell_type": "markdown",
   "metadata": {},
   "source": [
    "## Das Element-Objekt\n",
    "root ist also ein Element-Objekt, d.h. ein Objekt vom Typ `Element`. Dieses hat drei wichtige Eigenschaften:\n",
    "\n",
    "* `tag` repräsentiert den Tag-Namen des Elements\n",
    "* `text` repräsentiert den Text-Knoten, der dem Element unmittelbar untergeordnet ist. Dieser kann leer sein.\n",
    "* `attrib` ist ein Dictionary mit allen Attributen des XML-Elements."
   ]
  },
  {
   "cell_type": "code",
   "execution_count": null,
   "metadata": {},
   "outputs": [],
   "source": [
    "root.tag"
   ]
  },
  {
   "cell_type": "markdown",
   "metadata": {},
   "source": [
    "Das Wurzelelement ist also mit `recipes` getaggt, wie wir auch unschwer aus der oben stehenden Grafik erkennen können."
   ]
  },
  {
   "cell_type": "code",
   "execution_count": null,
   "metadata": {},
   "outputs": [],
   "source": [
    "root.text"
   ]
  },
  {
   "cell_type": "markdown",
   "metadata": {},
   "source": [
    "Unser Wurzelelement enthält keinen richtigen Text, sondern nur einen Zeilenumbruch und ein Tabulatorzeichen, die sich daraus ergeben, dass in der XML-Datei zwischen `<recipes>` und `<recipe>` genau diese beiden Zeichen stehen. Wir werden später an einem anderen Element ein sinnvolleres Beispiel für die `text`-Eigenschaft sehen."
   ]
  },
  {
   "cell_type": "code",
   "execution_count": null,
   "metadata": {},
   "outputs": [],
   "source": [
    "root.attrib"
   ]
  },
  {
   "cell_type": "markdown",
   "metadata": {},
   "source": [
    "Wir sehen hier, dass die Attribute eines Elements als Dictionary verfügbar sind. Das für das Element `recipes` kein Attribut definiert ist, besteht die Eigenschaft `attrib` aus einem leeren Dictionary."
   ]
  },
  {
   "cell_type": "markdown",
   "metadata": {},
   "source": [
    "### Kindelemente\n",
    "\n",
    "Von jedem beliebigen Element aus können wir auf seine Kindelemente zugreifen."
   ]
  },
  {
   "cell_type": "code",
   "execution_count": null,
   "metadata": {},
   "outputs": [],
   "source": [
    "for child in root:\n",
    "    print(child)"
   ]
  },
  {
   "cell_type": "code",
   "execution_count": null,
   "metadata": {},
   "outputs": [],
   "source": [
    "len(root)"
   ]
  },
  {
   "cell_type": "markdown",
   "metadata": {},
   "source": [
    "Die Kindelemente stehen also über einen Iterator zur Verfügung und können bei Bedarf in eine Liste umgewandelt werden (was aber nur selten nötig sein wird):\n"
   ]
  },
  {
   "cell_type": "code",
   "execution_count": null,
   "metadata": {},
   "outputs": [],
   "source": [
    "list(root)"
   ]
  },
  {
   "cell_type": "markdown",
   "metadata": {},
   "source": [
    "`len(element)` liefert die Zahl der Kindelemente:"
   ]
  },
  {
   "cell_type": "markdown",
   "metadata": {},
   "source": [
    "Über den Index 0 kann man auf das erste Kindelement direkt zugreifen:"
   ]
  },
  {
   "cell_type": "code",
   "execution_count": null,
   "metadata": {},
   "outputs": [],
   "source": [
    "recipe1 = root[0]"
   ]
  },
  {
   "cell_type": "markdown",
   "metadata": {},
   "source": [
    "Das Kindelement `recipe1` ist wieder ein Element-Objekt mit den schon bekannten Eigenschaften:"
   ]
  },
  {
   "cell_type": "code",
   "execution_count": null,
   "metadata": {},
   "outputs": [],
   "source": [
    "recipe1.tag"
   ]
  },
  {
   "cell_type": "code",
   "execution_count": null,
   "metadata": {},
   "outputs": [],
   "source": [
    "recipe1.attrib"
   ]
  },
  {
   "cell_type": "markdown",
   "metadata": {},
   "source": [
    "Hier haben wir 2 Attribute: `type` und `xml:lang`, wobei der Namespace `xml` automatisch zur vollen URI des Namespaces expandiert wird: `http://www.w3.org/XML/1998/namespace}lang`."
   ]
  },
  {
   "cell_type": "markdown",
   "metadata": {},
   "source": [
    "Um direkt auf den Wert eines bestimmten Attributs zuzugreifen bietet `Element` die `get`-Methode:"
   ]
  },
  {
   "cell_type": "code",
   "execution_count": null,
   "metadata": {},
   "outputs": [],
   "source": [
    "recipe1.get('type')"
   ]
  },
  {
   "cell_type": "markdown",
   "metadata": {},
   "source": [
    "Greift man auf ein nicht existierendes Attribut zu, liefert `get()` None:"
   ]
  },
  {
   "cell_type": "code",
   "execution_count": null,
   "metadata": {},
   "outputs": [],
   "source": [
    "print(recipe1.get('hudriwurdri'))"
   ]
  },
  {
   "cell_type": "markdown",
   "metadata": {},
   "source": [
    "### Auf bestimmte Elemente zugreifen\n",
    "#### find()\n",
    "Sehen wir uns einmal die Kindelemente von `recipe1` an:"
   ]
  },
  {
   "cell_type": "code",
   "execution_count": null,
   "metadata": {},
   "outputs": [],
   "source": [
    "for child in recipe1:\n",
    "    print(child.tag)"
   ]
  },
  {
   "cell_type": "markdown",
   "metadata": {},
   "source": [
    "Das Element hat also vier Kindelemente. Wollen wir auf ein bestimmtes Kindelement zugreifen, können wir die `find(<gesuchter_tag>)` Methode nutzen. Sie liefert das erste unmittelbare Kindelement mit dem angegebenen Tag-Namen:"
   ]
  },
  {
   "cell_type": "code",
   "execution_count": null,
   "metadata": {},
   "outputs": [],
   "source": [
    "recipe1.find('title')"
   ]
  },
  {
   "cell_type": "markdown",
   "metadata": {},
   "source": [
    "Wir können auch direkt auf die Text-Eigenschaft des gefundenen Elements zugreifen:"
   ]
  },
  {
   "cell_type": "code",
   "execution_count": null,
   "metadata": {},
   "outputs": [],
   "source": [
    "recipe1.find('title').text"
   ]
  },
  {
   "cell_type": "markdown",
   "metadata": {},
   "source": [
    "Mit diesen Mitteln könnten wir uns bereits eine Übersicht über die vorhanden Rezepte verschaffen:"
   ]
  },
  {
   "cell_type": "code",
   "execution_count": null,
   "metadata": {},
   "outputs": [],
   "source": [
    "for recipe in root:\n",
    "    print(recipe.find('title').text)"
   ]
  },
  {
   "cell_type": "markdown",
   "metadata": {},
   "source": [
    "#### findall()\n",
    "Während `find()` nur das erste gesuchte Kindelement liefert, findet `findall()` alle direkten Kindelemente mit dem gesuchten Tag."
   ]
  },
  {
   "cell_type": "code",
   "execution_count": null,
   "metadata": {},
   "outputs": [],
   "source": [
    "recipe1.findall('title')"
   ]
  },
  {
   "cell_type": "markdown",
   "metadata": {},
   "source": [
    "Da es pro Rezept nur ein `title`-Element gibt, bekommen wir eine Liste mit nur einem Eintrag. Interessanter wird es, wenn wir `findall()` auf das Element `ingredients` anwenden:"
   ]
  },
  {
   "cell_type": "code",
   "execution_count": null,
   "metadata": {},
   "outputs": [],
   "source": [
    "recipe1.find('ingredients').findall('ingredient')"
   ]
  },
  {
   "cell_type": "markdown",
   "metadata": {},
   "source": [
    "`ingredients` hat also 4 Kindelemente vom Typ `ingredient`."
   ]
  },
  {
   "cell_type": "markdown",
   "metadata": {},
   "source": [
    "Anstatt nur die Elemente auszugeben, können wir das nutzen um eine Liste aller Zutaten zu erzeugen:"
   ]
  },
  {
   "cell_type": "code",
   "execution_count": null,
   "metadata": {},
   "outputs": [],
   "source": [
    "for ingredient in recipe1.find('ingredients').findall('ingredient'):\n",
    "    print('{} {} {}'.format(\n",
    "        ingredient.get('quantity', ''), \n",
    "        ingredient.get('unit', ''), \n",
    "        ingredient.text))"
   ]
  },
  {
   "cell_type": "markdown",
   "metadata": {},
   "source": [
    "#### iter()\n",
    "Die Methoden `find()` und `findall()` durchsuchen nur die direkten Kindelemente. Wenn wir sie vom Element `recipe1` aus anwenden, um nach `ingredient` zu suchen, wird nichts gefunden, weil das Element `ingredients` dazwischen liegt:"
   ]
  },
  {
   "cell_type": "code",
   "execution_count": null,
   "metadata": {},
   "outputs": [],
   "source": [
    "recipe1.findall('ingredient')"
   ]
  },
  {
   "cell_type": "markdown",
   "metadata": {},
   "source": [
    "Wollen wir tiefer als eine Ebene suchen, brauchen wir die Methode `iter()`. Diese liefert einen Iterator, der ein Element nach dem anderen liefert:"
   ]
  },
  {
   "cell_type": "code",
   "execution_count": null,
   "metadata": {},
   "outputs": [],
   "source": [
    "for ingredient in recipe1.iter('ingredient'):\n",
    "    print(ingredient.text)"
   ]
  },
  {
   "cell_type": "markdown",
   "metadata": {},
   "source": [
    "Damit können wir auch alle Zutaten für alle Rezepte sehr einfach ausgeben, weil `iter()` alle Elemente beliebig tief in der Struktur findet:"
   ]
  },
  {
   "cell_type": "code",
   "execution_count": null,
   "metadata": {},
   "outputs": [],
   "source": [
    "for ingredient in root.iter('ingredient'):\n",
    "    print(ingredient.text)"
   ]
  },
  {
   "cell_type": "markdown",
   "metadata": {},
   "source": [
    "## XPath\n",
    "XPath ist eine Sprache, die es erlaubt, Zugriffspfade auf ein oder mehrere XML-Elemente zu definieren. ElementTree unterstützt XPath, allerdings unvollständig (mehr dazu hier: https://docs.python.org/3/library/xml.etree.elementtree.html#elementtree-xpath). \n",
    "Da lxml XPath (Vers. 1.0) vollständig unterstützt, empfiehlt sich für komplexere Aufgaben die Verwendung von [lxml](https://lxml.de/xpathxslt.html) anstelle von ElementTree. Falls aktuellere Versionen benötigt werden, können die Python-Bindings von Saxon verwendet werden: https://www.saxonica.com/saxon-c/doc/html/saxonc.html. Diese sind jedoch nicht mit ElementTree kompatibel."
   ]
  },
  {
   "cell_type": "markdown",
   "metadata": {},
   "source": [
    "Das letzte Beispiel ließe sich unter Verwendung von XPath auch so schreiben:"
   ]
  },
  {
   "cell_type": "code",
   "execution_count": null,
   "metadata": {},
   "outputs": [],
   "source": [
    "for ingredient in root.findall('./recipe/ingredients/ingredient'):\n",
    "    print(ingredient.text)"
   ]
  },
  {
   "cell_type": "markdown",
   "metadata": {},
   "source": [
    "oder kürzer (aber langsamer) so:"
   ]
  },
  {
   "cell_type": "code",
   "execution_count": null,
   "metadata": {},
   "outputs": [],
   "source": [
    "for ingredient in root.findall('.//ingredient'):\n",
    "    print(ingredient.text)"
   ]
  },
  {
   "cell_type": "markdown",
   "metadata": {},
   "source": [
    "Sind wird nur an den Zudaten für Desserts interessiert, können wir nach dem Wert des Attributs `type` im Element `recipe` filtern:"
   ]
  },
  {
   "cell_type": "code",
   "execution_count": null,
   "metadata": {},
   "outputs": [],
   "source": [
    "for ingredient in root.findall('./recipe[@type=\"dessert\"]/ingredients/ingredient'):\n",
    "    print(ingredient.text)"
   ]
  },
  {
   "cell_type": "markdown",
   "metadata": {},
   "source": [
    "Selbstverständlich können wir von jedem gefundenen Element aus weiter durch den Pfad navigieren. Hier suchen wir zunächst via XPath alle Rezepte des Typs `dessert`. Von jedem gefundenen Rezept-Element aus verwenden wir einene weiteren XPath-Ausdruck, um den Title des Rezepts auszugeben und einen zweiten Xpath, um zu den Zudaten des Rezepts zu navigieren."
   ]
  },
  {
   "cell_type": "code",
   "execution_count": null,
   "metadata": {},
   "outputs": [],
   "source": [
    "for recipe in root.findall('./recipe[@type=\"dessert\"]'):\n",
    "    print(recipe.find('./title').text)\n",
    "    for ingredient in recipe.findall('./ingredients/ingredient'):\n",
    "        print('\\t{}'.format(ingredient.text))"
   ]
  },
  {
   "cell_type": "markdown",
   "metadata": {},
   "source": [
    "lxml unterstützt neben XPath noch weitere Methoden wie `getprevious()` `getnext()` oder `getparent()` um durch den Baum zu navigieren."
   ]
  },
  {
   "cell_type": "markdown",
   "metadata": {},
   "source": [
    "## Daten verändern\n",
    "### Attribute und Text verändern\n",
    "ElementTree unterstützt natürlich auch die Veränderung von Daten. Wir können beispielsweise die Bezeichnung 'grams' auf 'Gramm' ändern. Suchen wir zunächst via XPath nach allen `ingredient`-Elementen, in denen dieser Wert vorkommen:"
   ]
  },
  {
   "cell_type": "code",
   "execution_count": null,
   "metadata": {},
   "outputs": [],
   "source": [
    "for ingredient in root.findall('./recipe/ingredients/ingredient[@unit=\"grams\"]'):\n",
    "    print(ingredient.attrib)"
   ]
  },
  {
   "cell_type": "code",
   "execution_count": null,
   "metadata": {},
   "outputs": [],
   "source": [
    "for ingredient in root.findall('./recipe/ingredients/ingredient[@unit=\"grams\"]'):\n",
    "    ingredient.set('unit', 'Gramm')"
   ]
  },
  {
   "cell_type": "markdown",
   "metadata": {},
   "source": [
    "Zur Kontrolle können wir uns das ganze XML-Dokument ausgeben lassen:"
   ]
  },
  {
   "cell_type": "code",
   "execution_count": null,
   "metadata": {},
   "outputs": [],
   "source": [
    "ET.tostring(root, encoding='utf-8')"
   ]
  },
  {
   "cell_type": "markdown",
   "metadata": {},
   "source": [
    "oder in eine Datei schreiben lassen:"
   ]
  },
  {
   "cell_type": "code",
   "execution_count": null,
   "metadata": {},
   "outputs": [],
   "source": [
    "tree.write('output/rezepte_de.xml', encoding=\"utf-8\")"
   ]
  },
  {
   "cell_type": "markdown",
   "metadata": {},
   "source": [
    "Genauso wie die Attribute eines Elements, können wir die Text-Eigenschaft verändern:"
   ]
  },
  {
   "cell_type": "code",
   "execution_count": null,
   "metadata": {},
   "outputs": [],
   "source": [
    "for ingredient in root.findall('./recipe/ingredients/ingredient'):\n",
    "    ingredient.text = ingredient.text.replace('Erdäpfel', 'Kartoffel')\n",
    "tree.write('output/rezepte_de.xml', encoding=\"utf-8\")    "
   ]
  },
  {
   "cell_type": "markdown",
   "metadata": {},
   "source": [
    "#### Löschen und Hinzufügen neuer Element\n",
    "\n",
    "Natürlich unterstützt ElementTree auch das Erzeugen neuer Element-Objekte. Damit können wir das XML erweitern oder eine neue XML-Datei erzeugen."
   ]
  },
  {
   "cell_type": "code",
   "execution_count": null,
   "metadata": {},
   "outputs": [],
   "source": [
    "# Create a new `recipe` Element as child of `root` Element\n",
    "new_recipe = ET.SubElement(root, 'recipe')\n",
    "\n",
    "# Set some attributes\n",
    "new_recipe.set('type', 'mainDish')\n",
    "new_recipe.set('xml:lang', 'de')\n",
    "\n",
    "# Add a `title` Element\n",
    "title = ET.SubElement(new_recipe, 'title')\n",
    "# Add a text node to the `title` element\n",
    "title.text = 'Ravioli aus der Dose'\n",
    "\n",
    "# Add an `ingreditents` Element as child element of `new_recipe`\n",
    "ingredients = ET.SubElement(new_recipe, 'ingredients')\n",
    "\n",
    "# Ad an `ingredient` Element as child element of `ingredients`\n",
    "ingredient = ET.SubElement(ingredients, 'ingredient')\n",
    "\n",
    "# Set attributes und text for `ingredient` Element\n",
    "ingredient.set('quantity', '1')\n",
    "ingredient.set('unit', 'pieces')\n",
    "ingredient.text = 'Dose Ravioli'"
   ]
  },
  {
   "cell_type": "code",
   "execution_count": null,
   "metadata": {},
   "outputs": [],
   "source": [
    "ET.dump(new_recipe)"
   ]
  },
  {
   "cell_type": "markdown",
   "metadata": {},
   "source": [
    "## Sax und Minidom\n",
    "Wie bereits beschrieben, gibt es weitere Möglichkeiten, mit Python XML zu verarbeiten. Wir sehen uns hier in aller Kürze zwei davon an.\n",
    "\n",
    "### Sax\n",
    "Sax ist eventbasiert und speicherschonend, weil nie das gesamte Dokument im Speicher gehalten werden muss. Man erzeugt einen Parser und weist diesem einen selbstgeschriebenen ContentHandler zu. Dann übergibt man dem Parser das zu parsende Dokument:"
   ]
  },
  {
   "cell_type": "code",
   "execution_count": null,
   "metadata": {},
   "outputs": [],
   "source": [
    "import xml.sax as sax\n",
    "parser = sax.make_parser()\n",
    "parser.setContentHandler(RecipeHandler())\n",
    "parser.parse('data/recipes.xml')"
   ]
  },
  {
   "cell_type": "markdown",
   "metadata": {},
   "source": [
    "Dieser Code funktioniert noch nicht, weil wir zuerst den ContentHandler schreiben müssen:"
   ]
  },
  {
   "cell_type": "code",
   "execution_count": null,
   "metadata": {},
   "outputs": [],
   "source": [
    "class RecipeHandler(sax.handler.ContentHandler):\n",
    "    \n",
    "    def __init__(self):\n",
    "        self.in_title = False # set to True if we are inside a <title> Tag\n",
    "        self.in_ingredient = False\n",
    "        self.content = ''\n",
    "        \n",
    "    def startElement(self, name, attrs):\n",
    "        \"This method is called for each opening tag.\"\n",
    "        if name == 'title':\n",
    "            self.in_title = True\n",
    "        if name == 'ingredient':\n",
    "            self.in_ingredient = True\n",
    "\n",
    "    def characters(self, content):\n",
    "        \"Content within tag markers\"\n",
    "        if self.in_title or self.in_ingredient:\n",
    "            self.content = content\n",
    "            \n",
    "    def endElement(self, name):\n",
    "        if name == 'title':\n",
    "            self.in_title = False\n",
    "            print(self.content)\n",
    "        elif name == 'ingredient':\n",
    "            self.in_ingredient = False\n",
    "            print(\"\\t{}\".format(self.content))\n",
    "    "
   ]
  },
  {
   "cell_type": "markdown",
   "metadata": {},
   "source": [
    "Nun funktioniert auch der bereits geschriebene Code:"
   ]
  },
  {
   "cell_type": "code",
   "execution_count": null,
   "metadata": {},
   "outputs": [],
   "source": [
    "parser = sax.make_parser()\n",
    "parser.setContentHandler(RecipeHandler())\n",
    "parser.parse('data/recipes.xml')"
   ]
  },
  {
   "cell_type": "markdown",
   "metadata": {},
   "source": [
    "### MiniDOM\n",
    "Mit MiniDOM bietet Python eine Sichtweise auf XML-Daten die weitgehend konform mit dem vom World Wide Web Consortium definierten DOM (Document Object Model) ist, das weite Verbreitung hat und von vielen Programmiersprachen unterstützt wird. DOM ist im Vergleich zu ElementTree relativ umständlich und vor allem im Vergleich zu lxml (bei  großen Dokumenten) sehr langsam.\n",
    "Sehen wir uns ein kleines Beispiel an:"
   ]
  },
  {
   "cell_type": "code",
   "execution_count": null,
   "metadata": {},
   "outputs": [],
   "source": [
    "import xml.dom.minidom as minidom\n",
    "\n",
    "tree = minidom.parse('data/recipes.xml')\n",
    "for recipe in tree.getElementsByTagName('recipe'):\n",
    "    title = recipe.getElementsByTagName('title')[0]\n",
    "    print(title.firstChild.data)\n",
    "    for ingredient in recipe.getElementsByTagName('ingredient'):\n",
    "        print(\"\\t{}\".format(ingredient.firstChild.data))"
   ]
  },
  {
   "cell_type": "markdown",
   "metadata": {},
   "source": [
    "## Vertiefende Literatur\n",
    "Ich empfehle ausdrücklich, mindestens eine der folgenden Ressourcen zur Vertiefung zu lesen!\n",
    "\n",
    "  * Python Standard Library: XML Processing Modules\n",
    "\t(https://docs.python.org/3/library/xml.html).\n",
    "  * The lxml.etree Tutorial \n",
    "    (https://lxml.de/tutorial.html).\n",
    "  * Weigend: Kapitel 26.\n",
    "  * Pilgrim: Kapitel 12\n",
    "\t(https://www.diveinto.org/python3/xml.html).\n",
    "  * Kofler behandelt XML sehr knapp in Kapitel 14.6  \n",
    "  "
   ]
  },
  {
   "cell_type": "markdown",
   "metadata": {},
   "source": [
    "## Lizenz\n",
    "\n",
    "This notebook ist part of the course [Grundlagen der Programmierung](https://github.com/gvasold/gdp) held by [Gunter Vasold](https://online.uni-graz.at/kfu_online/wbForschungsportal.cbShowPortal?pPersonNr=51488) at Graz University 2017&thinsp;ff. \n",
    "\n",
    "<p>\n",
    "    It is licensed under <a href=\"https://creativecommons.org/licenses/by-nc-sa/4.0\">CC BY-NC-SA 4.0</a>\n",
    "</p>\n",
    "\n",
    "<table>\n",
    "    <tr>\n",
    "    <td>\n",
    "        <img style=\"height:22px\" \n",
    "             src=\"https://mirrors.creativecommons.org/presskit/icons/cc.svg?ref=chooser-v1\"/></li>\n",
    "    </td>\n",
    "    <td>\n",
    "    <img style=\"height:22px;\"\n",
    "         src=\"https://mirrors.creativecommons.org/presskit/icons/by.svg?ref=chooser-v1\" /></li>\n",
    "    </td>\n",
    "    <td>\n",
    "        <img style=\"height:22px;\"\n",
    "         src=\"https://mirrors.creativecommons.org/presskit/icons/nc.svg?ref=chooser-v1\" /></li>\n",
    "    </td>\n",
    "    <td>\n",
    "        <img style=\"height:22px;\"\n",
    "             src=\"https://mirrors.creativecommons.org/presskit/icons/sa.svg?ref=chooser-v1\" /></li>\n",
    "    </td>\n",
    "</tr>\n",
    "</table>"
   ]
  }
 ],
 "metadata": {
  "kernelspec": {
   "display_name": "Python 3 (ipykernel)",
   "language": "python",
   "name": "python3"
  },
  "language_info": {
   "codemirror_mode": {
    "name": "ipython",
    "version": 3
   },
   "file_extension": ".py",
   "mimetype": "text/x-python",
   "name": "python",
   "nbconvert_exporter": "python",
   "pygments_lexer": "ipython3",
   "version": "3.9.2"
  }
 },
 "nbformat": 4,
 "nbformat_minor": 4
}
