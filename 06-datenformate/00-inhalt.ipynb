{
 "cells": [
  {
   "cell_type": "markdown",
   "id": "76431300-4870-4b1b-acf6-a7deca7057d5",
   "metadata": {},
   "source": [
    "# Inhalt\n",
    "\n",
    "In diesem Kapitel geht es darum, wie strukturierte Daten am besten gespeichert (oder über ein Netzwerk übertragen) werden können.\n",
    "\n",
    "- [Daten lesen und Speichern](01-daten_lesen_und_speichern.ipynb) bietet einen Überblick\n",
    "- Zusätzlich wird der Umang mit einige weiteren Formaten ausführlicher beschrieben:\n",
    "  - [CSV](csv.ipynb)\n",
    "  - [JSON](json.ipynb)\n",
    "  - [XML](xml.ipynb)"
   ]
  }
 ],
 "metadata": {
  "kernelspec": {
   "display_name": "Python 3 (ipykernel)",
   "language": "python",
   "name": "python3"
  },
  "language_info": {
   "codemirror_mode": {
    "name": "ipython",
    "version": 3
   },
   "file_extension": ".py",
   "mimetype": "text/x-python",
   "name": "python",
   "nbconvert_exporter": "python",
   "pygments_lexer": "ipython3",
   "version": "3.13.7"
  }
 },
 "nbformat": 4,
 "nbformat_minor": 5
}
