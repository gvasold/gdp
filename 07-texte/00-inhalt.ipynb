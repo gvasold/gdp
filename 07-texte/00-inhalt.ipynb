{
 "cells": [
  {
   "cell_type": "markdown",
   "id": "e855b9ed-bc7c-4845-abf7-662b6e3c808c",
   "metadata": {},
   "source": [
    "# Inhalt\n",
    "\n",
    "In diesem Kapitel widmen wir uns noch einmal dem Datentyp Stringund lernen weitere Möglichkeiten kennen\n",
    "\n",
    "- [Strings revisited](01-strings_revisited.ipynb)\n",
    "- [Reguläre Ausdrücke](02-regex.ipynb)\n",
    "- [Preprocessing für NLP](03-preprocessing.ipynb)"
   ]
  }
 ],
 "metadata": {
  "kernelspec": {
   "display_name": "Python 3 (ipykernel)",
   "language": "python",
   "name": "python3"
  },
  "language_info": {
   "codemirror_mode": {
    "name": "ipython",
    "version": 3
   },
   "file_extension": ".py",
   "mimetype": "text/x-python",
   "name": "python",
   "nbconvert_exporter": "python",
   "pygments_lexer": "ipython3",
   "version": "3.9.6"
  }
 },
 "nbformat": 4,
 "nbformat_minor": 5
}
