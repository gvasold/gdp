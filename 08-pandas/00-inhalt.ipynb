{
 "cells": [
  {
   "cell_type": "markdown",
   "id": "d61e1c75-febc-4c42-a06b-39d0195dbcb9",
   "metadata": {},
   "source": [
    "# Inhalt\n",
    "\n",
    "- [Grundlagen von Pandas](01-pandas_grundlagen.ipynb)\n",
    "- [Das Series Objekt](02-series.ipynb)\n",
    "- [Das DataFrame Objekt](03-dataframes.ipynb)\n",
    "- [Statistik mit Pandas](04-statistische_auswertung.ipynb)\n",
    "- [Diagramme zeichen](05-diagramme_zeichnen.ipynb)"
   ]
  }
 ],
 "metadata": {
  "kernelspec": {
   "display_name": "Python 3 (ipykernel)",
   "language": "python",
   "name": "python3"
  },
  "language_info": {
   "codemirror_mode": {
    "name": "ipython",
    "version": 3
   },
   "file_extension": ".py",
   "mimetype": "text/x-python",
   "name": "python",
   "nbconvert_exporter": "python",
   "pygments_lexer": "ipython3",
   "version": "3.9.6"
  }
 },
 "nbformat": 4,
 "nbformat_minor": 5
}
