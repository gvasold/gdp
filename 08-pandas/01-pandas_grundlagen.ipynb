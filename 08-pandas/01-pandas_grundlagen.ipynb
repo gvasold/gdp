{
 "cells": [
  {
   "cell_type": "markdown",
   "id": "e92343a0-a1dc-4ab6-bdc7-c87038f64d68",
   "metadata": {},
   "source": [
    "# Pandas\n",
    "\n",
    "\n",
    "[Pandas](https://pandas.pydata.org/) (\"panel data\") ist eine Programmbiblothek zur Bearbeitung und Analyse listen- bzw. tabellenartig organisierter Daten. \n",
    "Pandas wird zwar mit Python programmiert, erweitert die Sprache aber erheblich durch eigene, zusätzliche Datentypen und Funktionen. Pandas selbst basiert relativ massiv auf anderen (mathematischen) Paketen wie [Numpy](https://numpy.org/), [Scipy](https://scipy.org/) oder [Matplotlib](https://matplotlib.org/). Außerdem bietet Pandas seit Version 2 Unterstützung für [Apache Arrow](https://arrow.apache.org/) als Alternative zu Numpy.\n",
    "\n",
    "Pandas basiert auf zwei zentralen Datenstrukturen zur Organisation der Daten: **Series** und **DataFrames**. Das  Verstehen dieser Datentypen ist wesentlich für die Arbeit mit Pandas."
   ]
  },
  {
   "cell_type": "markdown",
   "id": "3276539a-4fb1-43a7-955f-e337dfab4e86",
   "metadata": {},
   "source": [
    "## Pandas installieren\n",
    "\n",
    "Ehe wir Pandas verwenden können, müssen wir die Bibliothek installieren. Wenn Sie Anaconda-Python verwenden, ist Pandas fast sicher bereits vorhanden, andernfalls können Sie es mit dem Befehl\n",
    "\n",
    "```\n",
    "conda install pandas\n",
    "```\n",
    "\n",
    "installieren.\n",
    "\n",
    "Wenn Sie eine normale Python-Installation verwenden, führt dieser Befehl zur Installation von Pandas:\n",
    "\n",
    "```\n",
    "pip install pandas\n",
    "```"
   ]
  },
  {
   "cell_type": "markdown",
   "id": "fb0b536d-636e-4b86-b4e9-8657326b1c55",
   "metadata": {},
   "source": [
    "### Pandas aus dem Notebook heraus installieren\n",
    "\n",
    "Natürlich können Sie Pandas, wie jedes andere Paket auch, über ein *Magic* aus einem Notebook heraus installieren:"
   ]
  },
  {
   "cell_type": "code",
   "execution_count": null,
   "id": "d7b1fd3f-eadc-4b4f-8e0d-1c4e0418dc1b",
   "metadata": {},
   "outputs": [],
   "source": [
    "%pip install pandas"
   ]
  },
  {
   "cell_type": "markdown",
   "id": "f43acb1d-4ebc-43c2-b040-58e0efc081da",
   "metadata": {},
   "source": [
    "Oder, wenn Sie Anaconda verwenden:"
   ]
  },
  {
   "cell_type": "code",
   "execution_count": null,
   "id": "4b721085-4b6e-454c-ab70-59d72ebc6863",
   "metadata": {},
   "outputs": [],
   "source": [
    "%conda install pandas"
   ]
  },
  {
   "cell_type": "markdown",
   "id": "b3a9b987-c0d2-46b7-8d1b-a62f99197375",
   "metadata": {},
   "source": [
    "## Pandas importieren\n",
    "\n",
    "Wenn die Bibliothek am Rechner vorhanden ist, können wir sie in unser Programm importieren. Für den Import von Pandas ist diese Form sehr gebräuchlich:"
   ]
  },
  {
   "cell_type": "code",
   "execution_count": null,
   "id": "9487319e-755d-4910-bd38-dc06f01b6f89",
   "metadata": {},
   "outputs": [],
   "source": [
    "import pandas as pd"
   ]
  },
  {
   "cell_type": "markdown",
   "id": "f49c5256-2219-4d41-8591-d3ec3a55c878",
   "metadata": {},
   "source": [
    "Die bedeutet nichts anderes, als dass wir in Zukunft `pandas` über den kürzeren Namen `pd` ansprechen können. Natürlich können Sie auch einfach ``import pandas`` verwenden. Dann müssen Sie aber später  überall  ``pandas`` schreiben. Außerdem ist die Kurzschreibweise so verbreitet, dass ein normaler Import verwirrend wäre."
   ]
  },
  {
   "cell_type": "markdown",
   "id": "f9776028-44da-423b-a830-e481f79b8c2c",
   "metadata": {},
   "source": [
    "## Series und Dataframes\n",
    "\n",
    "Pandas stellt zwei wichtige Objekte zur Verfügung, die wir hier jeweils in einem eigenen Notebook abhandeln werden: \n",
    "\n",
    "  - Series: Eine indizierte Abfolge von Werten\n",
    "  - Dataframe: Eine tabellenartige Struktur"
   ]
  },
  {
   "cell_type": "markdown",
   "id": "b2b3e834-f6fc-4cc4-8288-c02065adb053",
   "metadata": {},
   "source": [
    "## Literatur\n",
    "\n",
    "  * https://pandas.pydata.org/docs/\n",
    "  * Wes McKinney: Datenanalyse mit Python, 3. Aufl., 2023. Die englische Version ist als Open\n",
    "    Acces HTML Version verfügbar: https://wesmckinney.com/book/\n",
    "  * Matt Harrison: Effective Pandas 2 (https://store.metasnake.com/effective-pandas-book)\n",
    "  * Joel Grus: Einführung in Data Science, 2. Aufl., 2020."
   ]
  },
  {
   "cell_type": "markdown",
   "id": "90214bea-296b-4084-b53b-54d49d81034b",
   "metadata": {},
   "source": [
    "## Lizenz\n",
    "\n",
    "This notebook ist part of the course [Grundlagen der Programmierung](https://github.com/gvasold/gdp) held by [Gunter Vasold](https://online.uni-graz.at/kfu_online/wbForschungsportal.cbShowPortal?pPersonNr=51488) at Graz University 2017&thinsp;ff. \n",
    "\n",
    "<p>\n",
    "    It is licensed under <a href=\"https://creativecommons.org/licenses/by-nc-sa/4.0\">CC BY-NC-SA 4.0</a>\n",
    "</p>\n",
    "\n",
    "<table>\n",
    "    <tr>\n",
    "    <td>\n",
    "        <img style=\"height:22px\" \n",
    "             src=\"https://mirrors.creativecommons.org/presskit/icons/cc.svg?ref=chooser-v1\"/></li>\n",
    "    </td>\n",
    "    <td>\n",
    "    <img style=\"height:22px;\"\n",
    "         src=\"https://mirrors.creativecommons.org/presskit/icons/by.svg?ref=chooser-v1\" /></li>\n",
    "    </td>\n",
    "    <td>\n",
    "        <img style=\"height:22px;\"\n",
    "         src=\"https://mirrors.creativecommons.org/presskit/icons/nc.svg?ref=chooser-v1\" /></li>\n",
    "    </td>\n",
    "    <td>\n",
    "        <img style=\"height:22px;\"\n",
    "             src=\"https://mirrors.creativecommons.org/presskit/icons/sa.svg?ref=chooser-v1\" /></li>\n",
    "    </td>\n",
    "</tr>\n",
    "</table>"
   ]
  }
 ],
 "metadata": {
  "kernelspec": {
   "display_name": "Python 3 (ipykernel)",
   "language": "python",
   "name": "python3"
  },
  "language_info": {
   "codemirror_mode": {
    "name": "ipython",
    "version": 3
   },
   "file_extension": ".py",
   "mimetype": "text/x-python",
   "name": "python",
   "nbconvert_exporter": "python",
   "pygments_lexer": "ipython3",
   "version": "3.12.3"
  }
 },
 "nbformat": 4,
 "nbformat_minor": 5
}
