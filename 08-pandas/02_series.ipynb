{
 "cells": [
  {
   "cell_type": "markdown",
   "metadata": {},
   "source": [
    "# Pandas: Series"
   ]
  },
  {
   "cell_type": "markdown",
   "metadata": {},
   "source": [
    "Eine *Serie* ist eine eindimensionale Abfolge von Werten (ähnlich einem Array oder einer Liste). Allerdings kann man für ein Series Objekt bei Bedarf eigene Indexwerte vergeben, über die man wie bei einem Dictionary auf die Werte zugreifen kann."
   ]
  },
  {
   "cell_type": "markdown",
   "metadata": {},
   "source": [
    "## Ein Series Objekt erzeugen\n",
    "\n",
    "Beginnen wir mit der einfachsten Möglichkeit, ein Series Objekt zu erstellen: Wir wandeln eine Python Liste in ein Series Objekt um:"
   ]
  },
  {
   "cell_type": "code",
   "execution_count": null,
   "metadata": {},
   "outputs": [],
   "source": [
    "import pandas as pd\n",
    "ser = pd.Series([1, 4, 2, 6, 8])"
   ]
  },
  {
   "cell_type": "markdown",
   "metadata": {},
   "source": [
    "Lassen wir uns das eben erzeugte Objekt ausgeben:"
   ]
  },
  {
   "cell_type": "code",
   "execution_count": null,
   "metadata": {},
   "outputs": [],
   "source": [
    "ser"
   ]
  },
  {
   "cell_type": "markdown",
   "metadata": {},
   "source": [
    "Wir sehen, dass jeder Eintrag einen Indexwert hat, gefolgt vom eigentlichen Wert. Diese Indexwerte, werden, wenn nicht anders angeordnet, einfach mit 0 beginnend hochgezählt. Das entspricht der Verwendung des Index in einer Python Liste.\n",
    "\n",
    "Interessant ist noch die letzte Zeile:\n",
    "\n",
    "```\n",
    "dtype: int64\n",
    "```"
   ]
  },
  {
   "cell_type": "markdown",
   "metadata": {},
   "source": [
    "### Kleiner Exkurs: Pandas verwendet eigene Datentypen\n",
    "\n",
    "Pandas kan zwar mit Python Werten umgehen, verwendet aber aus Performancegründen meist eigene Datentypen (die es wiederum von Numpy übernimmt).\n",
    "\n",
    "Der Datentyp der numerischen Einträge im eben angelegten Series Objekt ist nicht `int`, sondern `int64`. Pandas kennt mehrere Typen für Integers (aber z.B. auch für Floats): \n",
    "\n",
    "| Typ    | Bereich                             |\n",
    "| ------ | ----------------------------------- | \n",
    "| int8   | -128 bis 127 |\n",
    "| uint8  | 0 bis 265 |\n",
    "| int16  | -32768 bis 32767 |\n",
    "| uint16 | 0 bis 64535 |\n",
    "| int32  | -2147483648 bis 2147483647 |\n",
    "| uint32 | 0 bis 4294967295                    |\n",
    "| int64  | -9223372036854775808 bis 9223372036854775807 |        \n",
    "| uint64 | 0 bis 18 446 744 073 709 551 615 |\n",
    "\n",
    "\n",
    "\n",
    "Je nach Typ wird eine unterschiedliche Menge an Speicher gebraucht. Standardmässig wird der Typ `int64` verwendet, der sehr große Zahlen aufnehmen kann. Wenn wir bereits beim Anlegen wissen, dass wir es nur mit klein(er)en Zahl zu tun haben, können wir einen anderen Typ festlegen, und so etwas Speicher sparen. Wenn wir schon zuvor wissen, dass wir keine negativen Zahlen benötigen können wir einen uint (unsigned int) Wert verwenden. Als Anfänger:in sollten Sie sich darüber aber nicht zu viele Gedanken machen und einfach den Defaulttyp verwenden.\n"
   ]
  },
  {
   "cell_type": "code",
   "execution_count": null,
   "metadata": {},
   "outputs": [],
   "source": [
    "small_numbers = pd.Series([1, 4, 2, 6, 8], dtype=pd.Int8Dtype())\n",
    "small_numbers"
   ]
  },
  {
   "cell_type": "markdown",
   "metadata": {},
   "source": [
    "Neben der eben gezeigten Art, eine `Series` aus einer Liste zu erzeugen, gibt es noch eine Reihe weiterer Möglichkeiten. Man kann etwa Daten aus einer Datei einlesen oder ein Series Objekt aus einem anderen Objekt erzeugen. Wir werden einige davon noch kennen lernen."
   ]
  },
  {
   "cell_type": "markdown",
   "metadata": {},
   "source": [
    "Will man nachträglich einen Wert in ein bestehendes Series-Objekt einfügen (was erfahrungsgemäß eher selten gebraucht wird und auch nicht empfehlenswert ist, weil langsam), kan man `at[]` bzw. `loc[]` verwenden:\n"
   ]
  },
  {
   "cell_type": "code",
   "execution_count": null,
   "metadata": {},
   "outputs": [],
   "source": [
    "ser.at[5] = 2\n",
    "ser"
   ]
  },
  {
   "cell_type": "markdown",
   "metadata": {},
   "source": [
    "Eine generische Lösung, um einen Eintrag am Ende einzufügen wäre das:"
   ]
  },
  {
   "cell_type": "code",
   "execution_count": null,
   "metadata": {},
   "outputs": [],
   "source": [
    "ser.at[len(ser)] = 11\n",
    "ser"
   ]
  },
  {
   "cell_type": "markdown",
   "metadata": {},
   "source": [
    "## Zugriff auf einen Wert\n",
    "\n",
    "### Zugriff über Index\n",
    "\n",
    "Über den Indexwert können wir, wie wir das z.B. von Listen gewohnt sind, auf einen Wert zugreifen. Wir schreiben den gesuchten Indexwert in eckige Klammern: "
   ]
  },
  {
   "cell_type": "code",
   "execution_count": null,
   "metadata": {},
   "outputs": [],
   "source": [
    "value_of_index_3 = ser[3]\n",
    "print(value_of_index_3)\n",
    "print(type(value_of_index_3))"
   ]
  },
  {
   "cell_type": "markdown",
   "metadata": {},
   "source": [
    "#### Zugriff über mehrere Indexwerte\n",
    "\n",
    "Anders als bei einer Liste kann der Wert innerhalb der eckigen Klammern auch eine Liste sein. Wir können damit also mehrere gesuchte Indexwerte zugleich angeben:"
   ]
  },
  {
   "cell_type": "code",
   "execution_count": null,
   "metadata": {},
   "outputs": [],
   "source": [
    "filtered_ser = ser[[1, 3, 4]]\n",
    "print(filtered_ser)\n",
    "print(type(filtered_ser))"
   ]
  },
  {
   "cell_type": "markdown",
   "metadata": {},
   "source": [
    "Als Ergebnis bekommen wir nun nicht einen einzelnen Wert, sondern ein neu erzeugtes Series Objekt. Beachten Sie, dass die originalen Indexwerte im neuen Series-Objekt erhalten geblieben sind. Das ist besonders nützlich, wenn wir statt des standardmässigen hochzählenden Indexwerts eigene Indexwerte vergeben möchten."
   ]
  },
  {
   "cell_type": "markdown",
   "metadata": {},
   "source": [
    "### Zugriff über selbst vergebene Indexwerte\n",
    "\n",
    "Bei Bedarf können wir statt der automatisch vergebenen, fortlaufenden Indexwerte auch eigene vergeben. Wir können also den einzelnen Werten \"Namen\" geben. Im nächsten Beispiel verwenden wir den Vornamen von Studierenden als Index:"
   ]
  },
  {
   "cell_type": "code",
   "execution_count": null,
   "metadata": {},
   "outputs": [],
   "source": [
    "grade_index = ['Anna', 'Berthold', 'Clara', 'Dieter']\n",
    "grades = pd.Series([2,1,3,5], index=grade_index)\n",
    "grades"
   ]
  },
  {
   "cell_type": "markdown",
   "metadata": {},
   "source": [
    "Unsere Serie verwendet nun keine fortlaufenden Zahlen, sondern Vornamen als Indexwerte. Damit können wir gezielt auf die Note einer bestimmten Person zugreifen:"
   ]
  },
  {
   "cell_type": "code",
   "execution_count": null,
   "metadata": {},
   "outputs": [],
   "source": [
    "print(grades['Clara'])"
   ]
  },
  {
   "cell_type": "markdown",
   "metadata": {},
   "source": [
    "Das ist jetzt nicht sonderlich spektakulär, weil wir das z.B. mit einem Dictionary genauso hätten lösen können. Series und Dictionaries sind sich so ähnlich, dass man sogar ein Series-Objekt aus einem Dictionary Objekt erzeugen kann. Wir hätten das letzte Beispiel also auch so schreiben können:"
   ]
  },
  {
   "cell_type": "code",
   "execution_count": null,
   "metadata": {},
   "outputs": [],
   "source": [
    "grade_index = pd.Series({\"Anna\": 2, \"Berthold\": 1, \"Clara\": 3, \"Dieter\": 5})\n",
    "print(grade_index)"
   ]
  },
  {
   "cell_type": "markdown",
   "metadata": {},
   "source": [
    "Damit haben wir eine weitere Möglichkeit kennen gelernt, wie man ein Series Objekt erzeugen kann."
   ]
  },
  {
   "cell_type": "markdown",
   "metadata": {},
   "source": [
    "#### Mehrfach vorkommende Indexwerte\n",
    "\n",
    "Was allerdings mit einem Dictionary nicht funktioniert, ist, dass in einem Series Objekt mehrere Einträge mit demselben Index existieren können. Im folgenden Beispiel leben wir einen zweiten Wert für `Anna` an:"
   ]
  },
  {
   "cell_type": "code",
   "execution_count": null,
   "metadata": {},
   "outputs": [],
   "source": [
    "grades = pd.Series([2,1,3,5, 4], index=['Anna', 'Berthold', 'Clara', 'Dieter', \"Anna\"])\n",
    "grades"
   ]
  },
  {
   "cell_type": "markdown",
   "metadata": {},
   "source": [
    "Wir sehen, dass der Indexwert `Anna` zweimal vorkommt. Entsprechend erhalten wir, wenn wir auf Werte mit `Anna` als Index zugreifen, zwei Werte:"
   ]
  },
  {
   "cell_type": "code",
   "execution_count": null,
   "metadata": {},
   "outputs": [],
   "source": [
    "grades[\"Anna\"]"
   ]
  },
  {
   "cell_type": "markdown",
   "metadata": {},
   "source": [
    "#### Zugriff über mehrere Namen\n",
    "\n",
    "Genau wie oben beim Zugriff über mehrere Indexwerte, können wir bei selbst vergebenen Indexnamen auch mehrere Werte als Liste in die eckigen Klammern schreiben:"
   ]
  },
  {
   "cell_type": "code",
   "execution_count": null,
   "metadata": {},
   "outputs": [],
   "source": [
    "print(grades[['Clara', 'Dieter']])"
   ]
  },
  {
   "cell_type": "markdown",
   "metadata": {},
   "source": [
    "#### loc\n",
    "\n",
    "Die eben gezeigte Art des Zugriffs lässt sich auch über die Eigenschaft `loc` des Series-Objekt realisieren:"
   ]
  },
  {
   "cell_type": "code",
   "execution_count": null,
   "metadata": {},
   "outputs": [],
   "source": [
    "grades.loc[['Clara', 'Dieter']]"
   ]
  },
  {
   "cell_type": "markdown",
   "metadata": {},
   "source": [
    "Wir können sogar eine Bedingung angeben, um die Rückgabewerte zu filtern:"
   ]
  },
  {
   "cell_type": "code",
   "execution_count": null,
   "metadata": {},
   "outputs": [],
   "source": [
    "grades.loc[grades < 3]"
   ]
  },
  {
   "cell_type": "markdown",
   "metadata": {},
   "source": [
    "Das würde übrigens auch ohne `loc` funktionieren:"
   ]
  },
  {
   "cell_type": "code",
   "execution_count": null,
   "metadata": {},
   "outputs": [],
   "source": [
    "grades[grades < 3]"
   ]
  },
  {
   "cell_type": "markdown",
   "metadata": {},
   "source": [
    "#### loc und at\n",
    "\n",
    "Die Ergebnisse dieser beiden Zugriffmöglichkeiten sehen auf den ersten Blick sehr ähnlich aus: "
   ]
  },
  {
   "cell_type": "code",
   "execution_count": null,
   "metadata": {},
   "outputs": [],
   "source": [
    "print(grades.at[\"Clara\"])\n",
    "print(grades.loc[\"Clara\"])"
   ]
  },
  {
   "cell_type": "markdown",
   "metadata": {},
   "source": [
    "Der Unterschied ist, dass `at` nur mit konkreten Indexwerten umgehen kann und deshalb in der Regel schneller ist, während `loc`, wie wir schon gesehen haben, auch Bedingungen (in Form einer Indexmaske) erlaubt:"
   ]
  },
  {
   "cell_type": "code",
   "execution_count": null,
   "metadata": {},
   "outputs": [],
   "source": [
    "print(grades.loc[(grades > 1) & (grades < 4)])"
   ]
  },
  {
   "cell_type": "markdown",
   "metadata": {},
   "source": [
    "#### iat und iloc\n",
    "\n",
    "Wir sollten hier noch erwähnen, dass die Vergabe von selbst gewählten Indexnamen nicht dazu führt, dass Pandas die ursprüngliche Reihenfolge der Einträge vergisst. Diese bleibt in den Eigenschaften `iat` und `iloc` weiter verfügbar. \n",
    "\n",
    "Wenn wir wissen wollen, was der erste Eintrag in der Serie ist, können wir so darauf zugreifen:"
   ]
  },
  {
   "cell_type": "code",
   "execution_count": null,
   "metadata": {},
   "outputs": [],
   "source": [
    "print(grades.iat[0])"
   ]
  },
  {
   "cell_type": "markdown",
   "metadata": {},
   "source": [
    "Wenn wir auf mehr als ein Element zugreifen wollen, müssen wir statt `iat` `iloc`verwenden, weil `iat` immer nur einen Indexwert erlaubt:"
   ]
  },
  {
   "cell_type": "code",
   "execution_count": null,
   "metadata": {},
   "outputs": [],
   "source": [
    "print(grades.iloc[[0,1]])"
   ]
  },
  {
   "cell_type": "markdown",
   "metadata": {},
   "source": [
    "Man kann hier auch einen Range angeben. Das folgende Beispiel gibt den zweiten, dritten und vierten Wert der Serie aus."
   ]
  },
  {
   "cell_type": "code",
   "execution_count": null,
   "metadata": {},
   "outputs": [],
   "source": [
    "print(grades)\n",
    "print('-' * 20)\n",
    "print(grades.iloc[1:4])"
   ]
  },
  {
   "cell_type": "markdown",
   "metadata": {},
   "source": [
    "## Mit Series rechnen"
   ]
  },
  {
   "cell_type": "markdown",
   "metadata": {},
   "source": [
    "Wir können ganz einfach Rechenoperationen auf alle Element einer Serie anwenden. Wenn wir z.B. alle Bewertungen um eine Note verbessern möchten, reicht ein `- 1`:"
   ]
  },
  {
   "cell_type": "code",
   "execution_count": null,
   "metadata": {},
   "outputs": [],
   "source": [
    "grades - 1"
   ]
  },
  {
   "cell_type": "markdown",
   "metadata": {},
   "source": [
    "Wenn wir mehrere gleich aufgebaute Serien haben, dann können wir diese direkt in die Rechnung einbeziehen.\n",
    "Stellen wir uns vor, wir hätten ein eigenes Series Objekt für jede Teilleistung. Um die Gesamtnote auszurechnen, addieren wir die beiden Series Objekt und dividieren das Ergebnis durch 2:"
   ]
  },
  {
   "cell_type": "code",
   "execution_count": null,
   "metadata": {},
   "outputs": [],
   "source": [
    "exam1 = pd.Series({\"Anna\": 2, \"Berthold\": 1, \"Clara\": 3, \"Dieter\": 5})\n",
    "exam2 = pd.Series({\"Anna\": 1, \"Berthold\": 4, \"Clara\": 3, \"Dieter\": 3})\n",
    "print((exam1 + exam2) / 2)"
   ]
  },
  {
   "cell_type": "markdown",
   "metadata": {},
   "source": [
    "Wie wir an der Ausgabe sehen, ist das Ergebnis wiederum ein Series Objekt."
   ]
  },
  {
   "cell_type": "markdown",
   "metadata": {},
   "source": [
    "## Fehlende Werte\n",
    "\n",
    "Wenn Dieter bei der zweiten Klausur gefehlt hätte, würde diese Teilleistung fehlen. `exam2` hätte also nur 3 Einträge und das Berechnen der Gesamtnote würde deshalb ebenfalls unvollständig sein:"
   ]
  },
  {
   "cell_type": "code",
   "execution_count": null,
   "metadata": {},
   "outputs": [],
   "source": [
    "exam2 = pd.Series({\"Anna\": 1, \"Berthold\": 4, \"Clara\": 3})\n",
    "print((exam1 + exam2) / 2)"
   ]
  },
  {
   "cell_type": "markdown",
   "metadata": {},
   "source": [
    "`NaN` steht für `not a number` und taucht überall dort auf, wo wir auf einem nicht als Zahl interpretierbaren Wert, also z.B. einem fehlenden Wert operieren. Dasselbe Ergebnis bekommen wir übrigens auch, wenn wir den Wert auf `None` setzen:"
   ]
  },
  {
   "cell_type": "code",
   "execution_count": null,
   "metadata": {},
   "outputs": [],
   "source": [
    "exam2 = pd.Series({\"Anna\": 1, \"Berthold\": 4, \"Clara\": 3, \"Dieter\": None})\n",
    "print((exam1 + exam2) / 2)"
   ]
  },
  {
   "cell_type": "markdown",
   "metadata": {},
   "source": [
    "Es ist gut, dass Pandas so reagiert, weil wir dadurch auf mögliche Probleme aufmerksam gemacht werden. Wir können sogar im Vorfeld auf solche problematische Werte filtern:"
   ]
  },
  {
   "cell_type": "markdown",
   "metadata": {},
   "source": [
    "### NaN Werte suchen: isna()\n",
    "\n",
    "Die Methode `isna()` gibt für jeden Wert aus, ob er als Zahl auswertbar ist oder nicht. Steht ein Wert also auf `NaN`, so liefert `isna()` `True`."
   ]
  },
  {
   "cell_type": "code",
   "execution_count": null,
   "metadata": {},
   "outputs": [],
   "source": [
    "exam2 = pd.Series({\"Anna\": 1, \"Berthold\": 4, \"Clara\": 3, \"Dieter\": None})\n",
    "exam2.isna()"
   ]
  },
  {
   "cell_type": "markdown",
   "metadata": {},
   "source": [
    "### Fehlende Werte suchen: isnull()\n",
    "\n",
    "`isnull()` funktioniert sehr ähnlich, prüft aber auf fehlende Werte und ist somit allgemeiner verwendbar."
   ]
  },
  {
   "cell_type": "code",
   "execution_count": null,
   "metadata": {},
   "outputs": [],
   "source": [
    "print(exam2.isnull())"
   ]
  },
  {
   "cell_type": "markdown",
   "metadata": {},
   "source": [
    "Wenn wir nur an den unsauberen Werte interessiert sind, können wir diese herausfiltern:"
   ]
  },
  {
   "cell_type": "code",
   "execution_count": null,
   "metadata": {},
   "outputs": [],
   "source": [
    "print(exam2.loc[exam2.isnull()])"
   ]
  },
  {
   "cell_type": "markdown",
   "metadata": {},
   "source": [
    "### Fehlende Werte entfernen mit dropna()\n",
    "\n",
    "Wie gehen wir nun mit solchen Werten um? Die einfachste Möglichkeit ist, Zeilen mit fehlenden Werten einfach zu entfernen. Das geht mit der `dropna()` Methode:"
   ]
  },
  {
   "cell_type": "code",
   "execution_count": null,
   "metadata": {},
   "outputs": [],
   "source": [
    "clean_exam2 = exam2.dropna()\n",
    "print(clean_exam2)"
   ]
  },
  {
   "cell_type": "markdown",
   "metadata": {},
   "source": [
    "Das Verwerfen des `None`-Wertes löst, wie wir weiter oben schon gesehen haben nicht unser Problem beim Berechnen des Endnote, weil diese nur funktioniert, wenn alle Indexnamen und Werte in beiden Series-Objekten vorhanden sind. Das soll hier jetzt aber nicht bedeuten, dass `dropna()` nicht für andere Zwecke sehr nützlich ist!"
   ]
  },
  {
   "cell_type": "markdown",
   "metadata": {},
   "source": [
    "### Fehlende Werte ergänzen mit fillna()\n",
    "Wir können aber festlegen, dass nicht erbrachte Leistungen automatisch mit der Note 5 gerechnet werden sollen. Pandas macht das einfach, indem wir die `fillna()` Methode einsetzen:"
   ]
  },
  {
   "cell_type": "code",
   "execution_count": null,
   "metadata": {},
   "outputs": [],
   "source": [
    "clean_exam1 = exam1.fillna(5)  # not strictly necessary, because contains all grades\n",
    "clean_exam2 = exam2.fillna(5)\n",
    "print(clean_exam2)"
   ]
  },
  {
   "cell_type": "markdown",
   "metadata": {},
   "source": [
    "Wir sehen, dass Dieter jetzt die Note 5 hat. Da wir nun wieder alle Noten haben, können wir endlich die Gesamtnote berechnen:"
   ]
  },
  {
   "cell_type": "code",
   "execution_count": null,
   "metadata": {},
   "outputs": [],
   "source": [
    "print((clean_exam1 + clean_exam2) / 2)"
   ]
  },
  {
   "cell_type": "markdown",
   "metadata": {},
   "source": [
    "## Werte verändern mit apply()\n",
    "\n",
    "Wenn es darum geht, alle Werte einer Serie auf eine beliebig komplexe Art zu modifizieren, ist die `apply()` Methode sehr nützlich. Sie erwartet als Parameter den Namen einer Funktion, die auf jeden Wert der Series angewendet werden soll. Stellen wir uns vor, wär hätten eine lange Liste mit Temperaturangaben in Fahrenheit und brauchen diese Werte in Celsius. Wir könnten eine Funktion `fahrenheit2celsius` schreiben, und diese mit `apply()` auf alle Werte anwenden:"
   ]
  },
  {
   "cell_type": "code",
   "execution_count": null,
   "metadata": {
    "scrolled": true
   },
   "outputs": [],
   "source": [
    "def fahrenheit2celsius(val):\n",
    "    \"Compute Celsius for Fahrenheit values.\"\n",
    "    return (val - 32) * 5 / 9\n",
    "    \n",
    "fahrenheit_temperatures = pd.Series([17.6, 24.44, 23.0, 33.9, 26.4])\n",
    "celsius_temperatures = fahrenheit_temperatures.apply(fahrenheit2celsius)\n",
    "print(celsius_temperatures)"
   ]
  },
  {
   "cell_type": "markdown",
   "metadata": {},
   "source": [
    "Statt mit einer Funktion hätten wir das natürlich auch mit einem Lambda-Ausdruck lösen können und hätten uns so die Funktion erspart:"
   ]
  },
  {
   "cell_type": "code",
   "execution_count": null,
   "metadata": {},
   "outputs": [],
   "source": [
    "celsius_temperatures = fahrenheit_temperatures.apply(lambda x: (x - 32) * 5 / 9)\n",
    "print(celsius_temperatures)"
   ]
  },
  {
   "cell_type": "markdown",
   "metadata": {},
   "source": [
    "## Zusammenführen von Series-Objekten\n",
    "\n",
    "Wollen wir die Werte von zwei oder mehr `Series` Objekten aneinanderhängen, benötigen wir die von Pandas bereit gestellte `concat()` Funktion:\n"
   ]
  },
  {
   "cell_type": "code",
   "execution_count": null,
   "metadata": {},
   "outputs": [],
   "source": [
    "combined_exams = pd.concat([exam1, exam2])\n",
    "print(combined_exams)"
   ]
  },
  {
   "cell_type": "markdown",
   "metadata": {},
   "source": [
    "Um hier wieder die Gesamtnote zu berechnen, ersetzten wir alle `NaN` Werte zuerst wieder durch `5`. "
   ]
  },
  {
   "cell_type": "code",
   "execution_count": null,
   "metadata": {},
   "outputs": [],
   "source": [
    "combined_exams = pd.concat([exam1, exam2]).fillna(5)"
   ]
  },
  {
   "cell_type": "markdown",
   "metadata": {},
   "source": [
    "## Serien gruppieren\n",
    "\n",
    "Danach gruppieren wir die Noten nach dem Namen im Index. `groupby()` ist eine so genannte *Aggregatfunktion*, die Gruppen von Werten bildet. Der Parameter `level` legt bei einem mehrwertigen Index fest, welcher Wert für die Gruppierung verwendet werden soll. Da wir nur einen Wert haben, verwenden wir (`level=0`). Die `groupby()`-Methode liefert ein `SeriesGroupBy` Objekt.  Über die `groups` Eigenschaft können wir uns die Gruppen (jeweils mit den enthaltenen Indexwerten ansehen):"
   ]
  },
  {
   "cell_type": "code",
   "execution_count": null,
   "metadata": {},
   "outputs": [],
   "source": [
    "combined_exams.groupby(level=0).groups"
   ]
  },
  {
   "cell_type": "markdown",
   "metadata": {},
   "source": [
    "Alle Werte mit demselben Indexwert sind also in einer gleichnamigen Gruppe versammelt. Wir können in eine solche Gruppe mit der `get_group()`Methode hineinschauen:"
   ]
  },
  {
   "cell_type": "code",
   "execution_count": null,
   "metadata": {},
   "outputs": [],
   "source": [
    "combined_exams.groupby(level=0).get_group('Dieter')"
   ]
  },
  {
   "cell_type": "markdown",
   "metadata": {},
   "source": [
    "Mit `sum()` bilden wir die Summe für jede Gruppe und dividieren diese dann durch 2: "
   ]
  },
  {
   "cell_type": "code",
   "execution_count": null,
   "metadata": {},
   "outputs": [],
   "source": [
    "combined_exams.groupby(level=0).sum() / 2"
   ]
  },
  {
   "cell_type": "markdown",
   "metadata": {},
   "source": [
    "Flexibler ist, wenn wir nicht das fixe `2` verwenden, sondern die Zahl der Einträge für jede Gruppe ermitteln lassen. Dazu weisen wir der Gruppe eine neue Variable zu:"
   ]
  },
  {
   "cell_type": "code",
   "execution_count": null,
   "metadata": {},
   "outputs": [],
   "source": [
    "group = combined_exams.groupby(level=0)\n",
    "group.sum() / group.count()"
   ]
  },
  {
   "cell_type": "markdown",
   "metadata": {},
   "source": [
    "## Lizenz\n",
    "\n",
    "This notebook ist part of the course [Grundlagen der Programmierung](https://github.com/gvasold/gdp) held by [Gunter Vasold](https://online.uni-graz.at/kfu_online/wbForschungsportal.cbShowPortal?pPersonNr=51488) at Graz University 2017&thinsp;ff. \n",
    "\n",
    "<p>\n",
    "    It is licensed under <a href=\"https://creativecommons.org/licenses/by-nc-sa/4.0\">CC BY-NC-SA 4.0</a>\n",
    "</p>\n",
    "\n",
    "<table>\n",
    "    <tr>\n",
    "    <td>\n",
    "        <img style=\"height:22px\" \n",
    "             src=\"https://mirrors.creativecommons.org/presskit/icons/cc.svg?ref=chooser-v1\"/></li>\n",
    "    </td>\n",
    "    <td>\n",
    "    <img style=\"height:22px;\"\n",
    "         src=\"https://mirrors.creativecommons.org/presskit/icons/by.svg?ref=chooser-v1\" /></li>\n",
    "    </td>\n",
    "    <td>\n",
    "        <img style=\"height:22px;\"\n",
    "         src=\"https://mirrors.creativecommons.org/presskit/icons/nc.svg?ref=chooser-v1\" /></li>\n",
    "    </td>\n",
    "    <td>\n",
    "        <img style=\"height:22px;\"\n",
    "             src=\"https://mirrors.creativecommons.org/presskit/icons/sa.svg?ref=chooser-v1\" /></li>\n",
    "    </td>\n",
    "</tr>\n",
    "</table>"
   ]
  }
 ],
 "metadata": {
  "kernelspec": {
   "display_name": "Python 3 (ipykernel)",
   "language": "python",
   "name": "python3"
  },
  "language_info": {
   "codemirror_mode": {
    "name": "ipython",
    "version": 3
   },
   "file_extension": ".py",
   "mimetype": "text/x-python",
   "name": "python",
   "nbconvert_exporter": "python",
   "pygments_lexer": "ipython3",
   "version": "3.12.3"
  }
 },
 "nbformat": 4,
 "nbformat_minor": 4
}
