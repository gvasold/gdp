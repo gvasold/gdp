{
 "cells": [
  {
   "cell_type": "markdown",
   "metadata": {},
   "source": [
    "# Pandas: DataFrames\n"
   ]
  },
  {
   "cell_type": "markdown",
   "metadata": {},
   "source": [
    "## Was sind DataFrames?\n",
    "\n",
    "Ein DataFrame ist ein zentraler, von Pandas bereit gestellter Datentyp, der einer zweidimensionalen Tabelle entspricht. Sie können sich da so ähnlich vorstellen wir ein Excel Sheet."
   ]
  },
  {
   "cell_type": "markdown",
   "metadata": {},
   "source": [
    "## Erzeugen eines DataFrame\n",
    "\n",
    "### Aus einem Dictionary von Listen\n",
    "\n",
    "Es gibt mehrere Möglichkeiten ein DataFrame-Objekt zu erzeugen. Man kann beispielsweise ein zweidimensionales Dictionary in ein DataFrame-Objekt umwandeln. Hier steht jeder Key für einen Spaltennamen und jeder Value für einen Eintrag in der Spalte:"
   ]
  },
  {
   "cell_type": "markdown",
   "metadata": {},
   "source": [
    "Zuerst importieren wir wieder Pandas:"
   ]
  },
  {
   "cell_type": "code",
   "execution_count": null,
   "metadata": {},
   "outputs": [],
   "source": [
    "import pandas as pd"
   ]
  },
  {
   "cell_type": "code",
   "execution_count": null,
   "metadata": {},
   "outputs": [],
   "source": [
    "students = pd.DataFrame({\n",
    "    'Name': ['Anna', 'Berthold', 'Clara', 'Dieter'],\n",
    "    'Studium': ['G BC', 'KG BC', 'KG MA', 'DH MA'],\n",
    "    'Studienkennzahl': ['UB 033 661',  'UB 033 626', 'UB 066 646', 'UB 066 320'],\n",
    "    'Semester': [5, 3, 7, 1],\n",
    "    'Punkte Klausur 1': [10, 6, 4, 8],\n",
    "    'Punkte Klausur 2': [7, 11, 8, None]\n",
    "})\n",
    "students"
   ]
  },
  {
   "cell_type": "markdown",
   "metadata": {},
   "source": [
    "### Aus einer Liste von Listen"
   ]
  },
  {
   "cell_type": "code",
   "execution_count": null,
   "metadata": {},
   "outputs": [],
   "source": [
    "column_names = ['Name', 'Studium', 'Studienkennzahl', 'Semester', 'Punkte Klausur 1', 'Punkte Klausur 2']\n",
    "students = pd.DataFrame([\n",
    "['Anna', 'G BC', 'UB 033 661', 5, 10, 7],\n",
    "['Berthold', 'KG BC', 'UB 033 626', 3, 6,\t11],\n",
    "['Clara', 'KG MA', 'UB 066 646', 7, 4, 8],\n",
    "['Dieter', 'DH MA', 'UB 066 320', 1, 8, ]\n",
    "], columns=column_names)\n",
    "students"
   ]
  },
  {
   "cell_type": "markdown",
   "metadata": {},
   "source": [
    "## Sich einen Überblick verschaffen\n",
    "\n",
    "Ein `DataFrame` Objekt stellt einige Methoden bereit, über die man rasch einen Überblick über den DataFrame gewinnen kann:"
   ]
  },
  {
   "cell_type": "markdown",
   "metadata": {},
   "source": [
    "### head(), tail() und sample()\n",
    "\n",
    "`.head()` liefert die ersten 5 Zeilen eines DataFrames. Falls wie mehr oder weniger Zeilen sehen wollen, können wir die Zahl der gewünschen Zeilen an die Methode übergeben: `head(10)`. Falls Sie sich wundern, warum das hier nicht funktioniert: Unser Dataframe hat nur 4 Zeilen.\n"
   ]
  },
  {
   "cell_type": "code",
   "execution_count": null,
   "metadata": {},
   "outputs": [],
   "source": [
    "students.head()"
   ]
  },
  {
   "cell_type": "markdown",
   "metadata": {},
   "source": [
    "`.tail()` liefert die letzen 5 Zeilen eines DataFrames. Auch hier können wir optional die Zahl der gewünschten Zeilen angeben: `tail(10)`."
   ]
  },
  {
   "cell_type": "code",
   "execution_count": null,
   "metadata": {},
   "outputs": [],
   "source": [
    "students.tail()"
   ]
  },
  {
   "cell_type": "markdown",
   "metadata": {},
   "source": [
    "Mit `.sample(<int>)` können wir uns eine anzugebende Zahl zufällig gewählter Zeilen (also ein Sample) liefern lassen:\n"
   ]
  },
  {
   "cell_type": "code",
   "execution_count": null,
   "metadata": {},
   "outputs": [],
   "source": [
    "students.sample(3)"
   ]
  },
  {
   "cell_type": "markdown",
   "metadata": {},
   "source": [
    "### shape, colums und dtypes\n",
    "\n",
    "Die `shape` Eigenschaft liefert die Anzahl der Zeilen und Spalten des DataFrames als Tupel:"
   ]
  },
  {
   "cell_type": "code",
   "execution_count": null,
   "metadata": {},
   "outputs": [],
   "source": [
    "students.shape"
   ]
  },
  {
   "cell_type": "markdown",
   "metadata": {},
   "source": [
    "Diese Ausgabe bedeutet, dass unser DataFrame 4 Zeilen und 6 Spalten hat."
   ]
  },
  {
   "cell_type": "markdown",
   "metadata": {},
   "source": [
    "`.columns` liefert die Spaltennamen als Index-Objekt"
   ]
  },
  {
   "cell_type": "code",
   "execution_count": null,
   "metadata": {},
   "outputs": [],
   "source": [
    "students.columns"
   ]
  },
  {
   "cell_type": "markdown",
   "metadata": {},
   "source": [
    "`.dtypes` liefert den Datentyp der einzelnen Spalten als Series-Objekt:"
   ]
  },
  {
   "cell_type": "code",
   "execution_count": null,
   "metadata": {},
   "outputs": [],
   "source": [
    "students.dtypes"
   ]
  },
  {
   "cell_type": "markdown",
   "metadata": {},
   "source": [
    "## Zugriff auf eine Spalte\n",
    "\n",
    "Um auf die Werte einer bestimmten Spalte zuzugreifen, kann man einfach den Namen der Spalte als Property verwenden. Zurückgeliefert wird ein `Series`-Objekt mit den Werten dieser Spalte. Als Index wird eine fortlaufende Zahl verwendet:"
   ]
  },
  {
   "cell_type": "code",
   "execution_count": null,
   "metadata": {},
   "outputs": [],
   "source": [
    "spalte = students.Name\n",
    "print(spalte)\n",
    "print(type(spalte))\n",
    "print(spalte.index)"
   ]
  },
  {
   "cell_type": "markdown",
   "metadata": {},
   "source": [
    "Die Groß- und Kleinschreibung ist hier wichtig und muss exakt der Schreibweise des Spaltennamens entsprechen."
   ]
  },
  {
   "cell_type": "markdown",
   "metadata": {},
   "source": [
    "Eine zweite Möglichkeit besteht darin, den Spaltennamen in eckigen Klammern anzugeben (so wie beim Key eines Dictionaries). "
   ]
  },
  {
   "cell_type": "code",
   "execution_count": null,
   "metadata": {},
   "outputs": [],
   "source": [
    "students[\"Studium\"]"
   ]
  },
  {
   "cell_type": "markdown",
   "metadata": {},
   "source": [
    "Diese Art des Zugriffs hat den Vorteil, dass man sie z.B. auch für Spalten mit Leerzeichen im Spaltennamen verwenden kann. Bei der ersten Methode haben wir das Problem, dass ein Leerzeichen in einem Python-Namen nicht erlaubt sind (so wie z.B. auch Namen, die mit einer Ziffer beginnen). Geben wir den Namen in eckigen Klammern an, haben wir das Problem nicht:"
   ]
  },
  {
   "cell_type": "code",
   "execution_count": null,
   "metadata": {},
   "outputs": [],
   "source": [
    "students[\"Punkte Klausur 1\"]"
   ]
  },
  {
   "cell_type": "markdown",
   "metadata": {},
   "source": [
    "### Mehrere Spalten auswählen\n",
    "\n",
    "Wir können auch mehr als eine Spalte auswählen:"
   ]
  },
  {
   "cell_type": "code",
   "execution_count": null,
   "metadata": {},
   "outputs": [],
   "source": [
    "students[[\"Name\", \"Punkte Klausur 1\", \"Punkte Klausur 2\"]]"
   ]
  },
  {
   "cell_type": "markdown",
   "metadata": {},
   "source": [
    "Das Ergebnis der letzten Operation war ein neues DataFrame. Wir können dieses neue DataFrame einer neuen Variable (`grades`) zuweisen: "
   ]
  },
  {
   "cell_type": "code",
   "execution_count": null,
   "metadata": {},
   "outputs": [],
   "source": [
    "grades = students[[\"Name\", \"Punkte Klausur 1\", \"Punkte Klausur 2\"]]\n",
    "grades"
   ]
  },
  {
   "cell_type": "markdown",
   "metadata": {},
   "source": [
    "Aber Vorsicht: Aus Effizienzgründen ist das kein komplette neues und unabhäniger `DataFrame`, sondern ein `View`, als eine spezielle Sichtweise auf das originale `DataFrame`. Wenn wir ein komplett unabhängiges neues DataFrame wünschen, können wir eine Kopie des Views anlegen. Auf diesem können wir dann problemlos weiterarbeiten. Die Erzeugung einer Kopie ist meist nicht notwenig und verbraucht zusätzliche Ressourcen. Manche Operationen (Pandas gibt dann eine Warnung oder Fehlermeldung aus), funktionieren aber nur auf der Kopie."
   ]
  },
  {
   "cell_type": "code",
   "execution_count": null,
   "metadata": {},
   "outputs": [],
   "source": [
    "# make an independend DataFrame\n",
    "grades = students.copy()\n",
    "# Make sure no NaN values remain\n",
    "grades[['Punkte Klausur 1', 'Punkte Klausur 2']] = grades[['Punkte Klausur 1', 'Punkte Klausur 2']].fillna(0)\n",
    "grades"
   ]
  },
  {
   "cell_type": "markdown",
   "metadata": {},
   "source": [
    "In unsere Kopie (`grades`) steht nun der Wert für die Punkte der zweiten Klausur bei Dieter nicht mehr auf `NaN`, sondern auf `0.0.` \n",
    "Im originalen DataFrame `students` ist diese Änderung nicht enthalten:"
   ]
  },
  {
   "cell_type": "code",
   "execution_count": null,
   "metadata": {},
   "outputs": [],
   "source": [
    "students"
   ]
  },
  {
   "cell_type": "markdown",
   "metadata": {},
   "source": [
    "## Zugriff auf Zeilen über Index"
   ]
  },
  {
   "cell_type": "markdown",
   "metadata": {},
   "source": [
    "Zeilen können über die Slicing-Methode (wie bei Listen mit Python) adressiert werden.\n",
    "\n",
    "```\n",
    "students[1:3]\n",
    "```\n",
    "\n",
    "bedeutet, dass wie an den Zeilen 2 und 3 interessiert sind. Zur Erinnerung: Der Index beginnt mit `0`, daher ist `1` die zweite Zeile. `3` (d.h. die vierte Zeile) ist die erste Zeile, die nicht mehr ausgeschnitten werden soll."
   ]
  },
  {
   "cell_type": "code",
   "execution_count": null,
   "metadata": {},
   "outputs": [],
   "source": [
    "students[1:3]"
   ]
  },
  {
   "cell_type": "markdown",
   "metadata": {},
   "source": [
    "Wenn wir auf eine bestimmte Zeile zugreifen wollen, verwenden wir die schon von Series bekannten Properties `loc` und `iloc`:"
   ]
  },
  {
   "cell_type": "code",
   "execution_count": null,
   "metadata": {},
   "outputs": [],
   "source": [
    "print(students.iloc[2])"
   ]
  },
  {
   "cell_type": "code",
   "execution_count": null,
   "metadata": {},
   "outputs": [],
   "source": [
    "print(students.iloc[2])"
   ]
  },
  {
   "cell_type": "markdown",
   "metadata": {},
   "source": [
    "Zur Erinnerung: `iloc` ist schneller, `loc` ist mächtiger, weil man damit auch filtern kann. Der Vollständigkeit halber: Das Slicing funktioniert natürlich auch mit `loc` und `iloc`:"
   ]
  },
  {
   "cell_type": "code",
   "execution_count": null,
   "metadata": {},
   "outputs": [],
   "source": [
    "students.iloc[1:3]"
   ]
  },
  {
   "cell_type": "markdown",
   "metadata": {},
   "source": [
    "### Zugriff über einen nicht numerischen Index\n",
    "\n",
    "Es wäre doch schön, wenn wir, wie im Notebook zu `Series` gezeigt, über den Namen der Studierenden auf bestimmte Zeilen zugreifen könnten. Um in einem DataFrame statt der  fortlaufenden Indexwerte die Werte einer Spalte zu verwenden, rufen wir die `set_index()` Methode auf. Diese verändert nicht den aktuellen DataFrame, sondern erzeugt einen neuen:"
   ]
  },
  {
   "cell_type": "code",
   "execution_count": null,
   "metadata": {},
   "outputs": [],
   "source": [
    "\n",
    "test_students = students.set_index('Name')\n",
    "test_students"
   ]
  },
  {
   "cell_type": "code",
   "execution_count": null,
   "metadata": {},
   "outputs": [],
   "source": [
    "test_students.loc['Clara']"
   ]
  },
  {
   "cell_type": "markdown",
   "metadata": {},
   "source": [
    "Auf die eben gezeigts Art verschwindet die für den Index verwendete Spalte aus den eigentlichen Daten. Falls wir sie als normale Spalte behalten wollen, müsse wir den Index so setzen:"
   ]
  },
  {
   "cell_type": "code",
   "execution_count": null,
   "metadata": {},
   "outputs": [],
   "source": [
    "test_students = students.set_index('Name', drop=False)\n",
    "test_students"
   ]
  },
  {
   "cell_type": "markdown",
   "metadata": {},
   "source": [
    "## Zeilen filtern\n",
    "\n",
    "\n",
    "### Nach Zahlen filtern\n",
    "Wir wir schon von den Series kennen, können wir `loc` dazu verwenden, um Zeilen herauszufiltern:"
   ]
  },
  {
   "cell_type": "code",
   "execution_count": null,
   "metadata": {},
   "outputs": [],
   "source": [
    "students.loc[students[\"Punkte Klausur 1\"] > 4]"
   ]
  },
  {
   "cell_type": "markdown",
   "metadata": {},
   "source": [
    "### Filter über Stringvergleich\n",
    "\n",
    "Wir können natürlich auf Zeilen filtern, die einen bestimmten String beinhalten:"
   ]
  },
  {
   "cell_type": "code",
   "execution_count": null,
   "metadata": {},
   "outputs": [],
   "source": [
    "students.loc[students[\"Studium\"] == \"KG BC\"]"
   ]
  },
  {
   "cell_type": "markdown",
   "metadata": {},
   "source": [
    "Die Filterung nach einem Teilstring ist etwas komplizierter, aber immer noch einfach:"
   ]
  },
  {
   "cell_type": "code",
   "execution_count": null,
   "metadata": {},
   "outputs": [],
   "source": [
    "students.loc[students[\"Studium\"].str.contains(\"KG\")]"
   ]
  },
  {
   "cell_type": "markdown",
   "metadata": {},
   "source": [
    "### Mehrere Filterbedingungen\n",
    "\n",
    "Falls nach mehr als einer Bedingung gefilter werden soll, können wir die einzelnen Bedingungen mit den Operatoren `&` (und) bzw. `|` (oder) verbinden. Zusätzlich müssen wir die einzelnen Bedingung klammern:"
   ]
  },
  {
   "cell_type": "code",
   "execution_count": null,
   "metadata": {},
   "outputs": [],
   "source": [
    "students.loc[(students[\"Studium\"].str.contains(\"KG\")) & (students.Semester < 5)]"
   ]
  },
  {
   "cell_type": "markdown",
   "metadata": {},
   "source": [
    "## Iterieren über Zeilen\n",
    "\n",
    "Falls wir einzelne Zeilen in einer Schleife verarbeiten wollen, bietet Pandas zwei Möglichkeiten:\n",
    "\n",
    "  * `iterrows()`\n",
    "  * `items()`"
   ]
  },
  {
   "cell_type": "markdown",
   "metadata": {},
   "source": [
    "### iterrows()\n",
    "\n",
    "`iterrows()` liefert jede Zeile als zweiwertiges Tupel, bestehend aus dem Indexwert und den einzelnen Spaltenwerten der Zeile als Series-Objekt."
   ]
  },
  {
   "cell_type": "code",
   "execution_count": null,
   "metadata": {},
   "outputs": [],
   "source": [
    "for index, row_series in students.iterrows(): \n",
    "    print(f\"{index}: {row_series.Name}: {row_series['Punkte Klausur 1'] + row_series['Punkte Klausur 2']}\")"
   ]
  },
  {
   "cell_type": "markdown",
   "metadata": {},
   "source": [
    "### items()\n",
    "\n",
    "`items()` liefert jede Spalte als zweiwertiges Tupel, bestehend aus dem Spaltennamen und den einzelnen Spaltenwerten als Series-Objekt."
   ]
  },
  {
   "cell_type": "code",
   "execution_count": null,
   "metadata": {},
   "outputs": [],
   "source": [
    "for key, col_series in students.items(): \n",
    "    print(f\"{key}: {col_series.values}\")"
   ]
  },
  {
   "cell_type": "markdown",
   "metadata": {},
   "source": [
    "## Spaltenoperationen\n",
    "<a class=\"anchor\" id=\"spalten_operationen\"></a>\n",
    "\n",
    "### Spalten einfügen\n",
    "\n",
    "Einem *DataFrame* können bei Bedarf auf einfache Weise neue Spalten hinzugefügt werden. Nehmen wir an, wir brauchen eine neue Spalte 'Gender': "
   ]
  },
  {
   "cell_type": "code",
   "execution_count": null,
   "metadata": {},
   "outputs": [],
   "source": [
    "students['Gender'] = [\"f\", \"m\", \"f\", \"m\"]\n",
    "students"
   ]
  },
  {
   "cell_type": "markdown",
   "metadata": {},
   "source": [
    "Statt wie im letzten Beispiel explizite Werte anzugeben, können wir die Werte der neuen Spalte auch aus bestehenden Spalten ableiten:"
   ]
  },
  {
   "cell_type": "code",
   "execution_count": null,
   "metadata": {},
   "outputs": [],
   "source": [
    "# Make sure no NaN values remain\n",
    "students['Punkte Klausur 1'] = students['Punkte Klausur 1'].fillna(0)\n",
    "students['Punkte Klausur 2'] = students['Punkte Klausur 2'].fillna(0)\n",
    "\n",
    "# add a new column 'Gesamtpunkte'\n",
    "students['Gesamtpunkte'] = students['Punkte Klausur 1'] + students['Punkte Klausur 2']\n",
    "students"
   ]
  },
  {
   "cell_type": "markdown",
   "metadata": {},
   "source": [
    "`DataFrames` haben natürlich auch eine `apply()` Methode, die wir schon vom `Series` Objekt kennen. \n",
    "\n",
    "Diese könnten wir zum Beispiel nutzen, um die Spalte Studium aufzutrennen. Dies Spalte beinhaltet streng genommen 2 Werte: Eine Abkürzung für das Studium (z.B. `G` für Geschichte) und eine Abkürzung für die Art des Studiums (`BC` oder `MA`). Wir schreiben nun eine Funktion `extract_studyphase()`, die den übergebenen Wert zuerst am Leerzeichen aufsplittet und dann den Wert hinter dem Leerzeichen zu `Bachelor` bzw. `Master` auflöst.\n",
    "\n",
    "Zusätzlich verwenden wir einen Lambda-Ausdruck, um den ersten Teil (die Abkürzung für die Studienrichtung) herauszulösen. Mit den so ermittelten Werten befüllen wir zwei neue Spalten `Studienrichtung` und `Studyphase`."
   ]
  },
  {
   "cell_type": "code",
   "execution_count": null,
   "metadata": {},
   "outputs": [],
   "source": [
    "def extract_studyphase(row):\n",
    "    \"Splitte 'Studium' und löse den zweiten Teil auf.\"\n",
    "    richtung, grad = row.Studium.split()\n",
    "    if grad == 'BC':\n",
    "        return 'Bachelor'\n",
    "    elif grad == 'MA':\n",
    "        return 'Master'\n",
    "    return grad\n",
    "\n",
    "# Demonstrate how to do it with a lambda expression\n",
    "students['Studienrichtung'] = students.apply(lambda row: row.Studium.split()[0], axis=1)\n",
    "\n",
    "# Demonstrate how to do is with calling a function\n",
    "students['Studyphase'] = students.apply(extract_studyphase, axis=1)\n",
    "students"
   ]
  },
  {
   "cell_type": "markdown",
   "metadata": {},
   "source": [
    "### Spaltennamen ändern\n",
    "\n",
    "#### Einzelne Spalten umbenennen\n",
    "\n",
    "Wir können gezielt eine oder mehrere Spalten umbennen, indem wir die `rename()` Methode verwenden."
   ]
  },
  {
   "cell_type": "code",
   "execution_count": null,
   "metadata": {},
   "outputs": [],
   "source": [
    "students.rename(columns = {\"Studium\": \"Study\"}, inplace=True)\n",
    "students"
   ]
  },
  {
   "cell_type": "markdown",
   "metadata": {},
   "source": [
    "Der Parameter `columns`erwartet ein Dictionary mit den zu verändernden Namen. Der *Key* ist jeweils der alte Name, der *Value* der neue Name. Das `inplace=True` bedeutet, dass der DataFrame direkt verändert werden soll, was relativ gefährlich ist, weil wir so den DataFrame kaputt machen können. Hätten wir es weggelassen, dann hätte `rename` ein neues `DataFrame` Objekt erzeugt. Probieren wir das gleich aus und ändern bei der Gelegenheit gleich mehrere Spaltennamen auf einen Schlag:"
   ]
  },
  {
   "cell_type": "code",
   "execution_count": null,
   "metadata": {},
   "outputs": [],
   "source": [
    "new_df = students.rename(columns = {\"Study\": \"Studium\", \"Punkte Klausur 1\": \"Klausur1\", \"Punkte Klausur 2\": \"Klausur 2\"})\n",
    "new_df"
   ]
  },
  {
   "cell_type": "markdown",
   "metadata": {},
   "source": [
    "#### Alle Spalten umbennen\n",
    "\n",
    "Da die Spaltennamen in der Eigenschaft `columns` steht, können wir diese direkt verändern. Wir müssen nur aufpassen, dass wir gleich viele Werte übergeben, wie ursprünglich vorhanden waren."
   ]
  },
  {
   "cell_type": "code",
   "execution_count": null,
   "metadata": {},
   "outputs": [],
   "source": [
    "new_df.columns = [\"firstname\", \"s\", \"study_id\", \"num_of_terms\", \"exam1\", \"exam2\", \"sex\", \"total points\", \"study\", \"phase\"]\n",
    "new_df"
   ]
  },
  {
   "cell_type": "markdown",
   "metadata": {},
   "source": [
    "### Löschen von Spalten\n",
    "Über die Methode `.drop()` können Spalten gelöscht werden. Auch hier erzeugt Pandas als Ergebnis eine veränderte Kopie des `DataFrames`. Grundsätzlich kann man auch hier `inplace=True` setzen und hoffen, dass man die Spalte wirklich nicht mehr braucht.\n",
    "\n",
    "Außerdem müssen wir die Richtung des Löschvorgangs über den Parameter `axis` angeben: `0` steht für Zeilen, `1` für Spalten. Da wir ja eine Spalte löschen wollen, verwenden wir `axis=1`."
   ]
  },
  {
   "cell_type": "code",
   "execution_count": null,
   "metadata": {},
   "outputs": [],
   "source": [
    "new_df = students.drop('Studienkennzahl', axis=1)\n",
    "new_df"
   ]
  },
  {
   "cell_type": "markdown",
   "metadata": {},
   "source": [
    "Man kann auch mehrere Spalten zugleich löschen. Dazu müssen wir an die `drop()`-Methode eine Liste mit den Namen der zu löschenden Spalten übergeben."
   ]
  },
  {
   "cell_type": "code",
   "execution_count": null,
   "metadata": {},
   "outputs": [],
   "source": [
    "new_df = students.drop(['Studienkennzahl', 'Semester'], axis=1)\n",
    "new_df"
   ]
  },
  {
   "cell_type": "markdown",
   "metadata": {},
   "source": [
    "## "
   ]
  },
  {
   "cell_type": "markdown",
   "metadata": {},
   "source": [
    "## Zeilenoperationen\n",
    "\n",
    "Da wir `students` und new_df gerade ziemlich umgebaut haben, erzeugen wir die beiden DataFrame Objekt hier neu, damit wir nicht den Überblick verlieren verlieren:"
   ]
  },
  {
   "cell_type": "code",
   "execution_count": null,
   "metadata": {},
   "outputs": [],
   "source": [
    "column_names = ['Name', 'Studium', 'Studienkennzahl', 'Semester', 'Punkte Klausur 1', 'Punkte Klausur 2']\n",
    "students = pd.DataFrame([\n",
    "['Anna', 'G BC', 'UB 033 661', 5, 10, 7],\n",
    "['Berthold', 'KG BC', 'UB 033 626', 3, 6,\t11],\n",
    "['Clara', 'KG MA', 'UB 066 646', 7, 4, 8],\n",
    "['Dieter', 'DH MA', 'UB 066 320', 1, 8, ]\n",
    "], columns=column_names)\n",
    "students"
   ]
  },
  {
   "cell_type": "code",
   "execution_count": null,
   "metadata": {},
   "outputs": [],
   "source": [
    "new_df = students.copy()\n",
    "new_df"
   ]
  },
  {
   "cell_type": "markdown",
   "metadata": {},
   "source": [
    "### Zeilen einfügen\n",
    "\n",
    "Eine neue Zeile kann über die `loc` Eigenschaft eingefügt werden. Man muss einen Indexwert vergeben und diesem eine Liste von Werten zuweisen. Dass die Zahl der Listenelement der Zahl der vorhandenen Spalten entsprechen soll, versteht sich von selbst. Wenn unser `DataFrame` einen fortlaufenden Zähler als Index hat, können wir einfach [`len(df)`] für den Wert des neuen Index verwenden."
   ]
  },
  {
   "cell_type": "code",
   "execution_count": null,
   "metadata": {},
   "outputs": [],
   "source": [
    "new_df.loc[len(new_df)] = ['Elke', 'G BC', 'UB 066 6614', 5, 10, 10]\n",
    "new_df"
   ]
  },
  {
   "cell_type": "markdown",
   "metadata": {},
   "source": [
    "Eine andere Möglichleit besteht in der Verwendung der `concat()` Methode. Um das Beipiel so einfach wie möglich zu halten, legen wir zuerst zwei neue, minimale DataFrames an:"
   ]
  },
  {
   "cell_type": "code",
   "execution_count": null,
   "metadata": {},
   "outputs": [],
   "source": [
    "df1 = pd.DataFrame({\n",
    "    \"Name\": [\"Anna\", \"Berta\"],\n",
    "    \"Alter\": [25, 37]\n",
    "})\n",
    "\n",
    "df2 = pd.DataFrame({\n",
    "    \"Name\": [\"Conrad\", \"Detlef\"],\n",
    "    \"Alter\": [22, 55]\n",
    "})\n",
    "print(df1)\n",
    "print('-' * 20)\n",
    "print(df2)"
   ]
  },
  {
   "cell_type": "markdown",
   "metadata": {},
   "source": [
    "Nun hängen wir die beiden DataFrames aneinander. Das Ergebnis ist ein neuer DataFrame:"
   ]
  },
  {
   "cell_type": "code",
   "execution_count": null,
   "metadata": {},
   "outputs": [],
   "source": [
    "combined_df = pd.concat([df1, df2])\n",
    "combined_df"
   ]
  },
  {
   "cell_type": "markdown",
   "metadata": {},
   "source": [
    "Wir sehen, dass die Indexwerte erhalten geblieben sind. Wenn wir lieber hätten, dass der neue `DataFrame` den Index neu aufbaut, machen wir das so:"
   ]
  },
  {
   "cell_type": "code",
   "execution_count": null,
   "metadata": {},
   "outputs": [],
   "source": [
    "combined_df = pd.concat([df1, df2], ignore_index=True)\n",
    "combined_df"
   ]
  },
  {
   "cell_type": "markdown",
   "metadata": {},
   "source": [
    "### Zeilenwerte und Zeilenindex verändern\n",
    "\n",
    "Um den Wert einer ganzen Zeile zu verändern, greiffen wir via `loc` darauf zu und weisen die neuen Werte als Liste zu:"
   ]
  },
  {
   "cell_type": "code",
   "execution_count": null,
   "metadata": {},
   "outputs": [],
   "source": [
    "combined_df.loc[1] = [\"Zenzi\", 99]\n",
    "combined_df"
   ]
  },
  {
   "cell_type": "markdown",
   "metadata": {},
   "source": [
    "Um einen einzelnen Wert zu verändern, nutzen wir ebenfalls `loc`. Allerdings geben wir nun den Namen der zu ändernden Spalte als zweiten Wert mit:"
   ]
  },
  {
   "cell_type": "code",
   "execution_count": null,
   "metadata": {},
   "outputs": [],
   "source": [
    "combined_df.loc[1, 'Alter'] = 33\n",
    "combined_df"
   ]
  },
  {
   "cell_type": "markdown",
   "metadata": {},
   "source": [
    "### Zeilen löschen\n",
    "\n",
    "Zum Löschen einer oder mehrerer Zeilen aus dem DataFrame setzen wir `axis=0`. Natürlich können wir jetzt keine Spaltennamen mehr verwenden, sondern wir brauchen den Index der Zeile. Wir haben ja weiter oben bereits den Index von `students` auf den Wert von `Name` gesetzt. Sicherheitshalber (möglicherweise haben Sie inzwischen den `DataFrame` neu erzeugt), setzen wir den Index erneut. Danach löschen wir die Zeile für 'Dieter' aus dem `DataFrame`. "
   ]
  },
  {
   "cell_type": "code",
   "execution_count": null,
   "metadata": {},
   "outputs": [],
   "source": [
    "students.set_index('Name', inplace=True)\n",
    "students"
   ]
  },
  {
   "cell_type": "code",
   "execution_count": null,
   "metadata": {},
   "outputs": [],
   "source": [
    "new_df = students.drop('Dieter', axis=0)\n",
    "new_df"
   ]
  },
  {
   "cell_type": "markdown",
   "metadata": {},
   "source": [
    "### Zeilen sortieren\n",
    "\n",
    "Mit der Funktion `.sort_values()` kann man die Zeilen eines `DataFrame` sortieren. "
   ]
  },
  {
   "cell_type": "code",
   "execution_count": null,
   "metadata": {},
   "outputs": [],
   "source": [
    "students.sort_values(by='Semester')"
   ]
  },
  {
   "cell_type": "markdown",
   "metadata": {},
   "source": [
    "Wir können die Sortierreihenfolge natürlich auch umdrehen:"
   ]
  },
  {
   "cell_type": "code",
   "execution_count": null,
   "metadata": {},
   "outputs": [],
   "source": [
    "students.sort_values(by='Semester', ascending=False)"
   ]
  },
  {
   "cell_type": "markdown",
   "metadata": {},
   "source": [
    "## Lizenz\n",
    "\n",
    "This notebook ist part of the course [Grundlagen der Programmierung](https://github.com/gvasold/gdp) held by [Gunter Vasold](https://online.uni-graz.at/kfu_online/wbForschungsportal.cbShowPortal?pPersonNr=51488) at Graz University 2017&thinsp;ff. \n",
    "\n",
    "<p>\n",
    "    It is licensed under <a href=\"https://creativecommons.org/licenses/by-nc-sa/4.0\">CC BY-NC-SA 4.0</a>\n",
    "</p>\n",
    "\n",
    "<table>\n",
    "    <tr>\n",
    "    <td>\n",
    "        <img style=\"height:22px\" \n",
    "             src=\"https://mirrors.creativecommons.org/presskit/icons/cc.svg?ref=chooser-v1\"/></li>\n",
    "    </td>\n",
    "    <td>\n",
    "    <img style=\"height:22px;\"\n",
    "         src=\"https://mirrors.creativecommons.org/presskit/icons/by.svg?ref=chooser-v1\" /></li>\n",
    "    </td>\n",
    "    <td>\n",
    "        <img style=\"height:22px;\"\n",
    "         src=\"https://mirrors.creativecommons.org/presskit/icons/nc.svg?ref=chooser-v1\" /></li>\n",
    "    </td>\n",
    "    <td>\n",
    "        <img style=\"height:22px;\"\n",
    "             src=\"https://mirrors.creativecommons.org/presskit/icons/sa.svg?ref=chooser-v1\" /></li>\n",
    "    </td>\n",
    "</tr>\n",
    "</table>"
   ]
  }
 ],
 "metadata": {
  "kernelspec": {
   "display_name": "Python 3 (ipykernel)",
   "language": "python",
   "name": "python3"
  },
  "language_info": {
   "codemirror_mode": {
    "name": "ipython",
    "version": 3
   },
   "file_extension": ".py",
   "mimetype": "text/x-python",
   "name": "python",
   "nbconvert_exporter": "python",
   "pygments_lexer": "ipython3",
   "version": "3.12.3"
  }
 },
 "nbformat": 4,
 "nbformat_minor": 4
}
