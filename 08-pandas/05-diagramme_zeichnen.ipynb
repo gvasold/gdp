{
 "cells": [
  {
   "cell_type": "markdown",
   "id": "entitled-election",
   "metadata": {},
   "source": [
    "# Daten visualisieren"
   ]
  },
  {
   "cell_type": "markdown",
   "id": "13e03792-238b-4521-adf8-603979a443de",
   "metadata": {},
   "source": [
    "Ab eine gewissen Datenmenge und Datenkomplexität, sind diese ohne grafische Visualisierungen nur schwer oder gar nicht zu verstehen. Python bietet eine Reihe von Visualisierungsbibliotheken, von denen wir wir uns zwei in aller Kürze ansehen werden. Es sollte klar sein, dass wir dabei nur die absoluten Grundlagen behandeln können. Die einzelnen Bibliotheken bieten noch viel mehr Möglichkeiten. Wir beginnen mit der bekanntesten Bibliothek 'matplotlib' und sehen uns danach die Möglichkeiten an, die Pandas selbt bietet (wobei Pandas im Hintergrund natürlich andere Bibliotheken nutzt)."
   ]
  },
  {
   "cell_type": "markdown",
   "id": "innovative-middle",
   "metadata": {},
   "source": [
    "## matplotlib - Diagrammtypen\n",
    "\n",
    "Im Folgenden finden Sie ein paar einfache Beispiele mit [matplotlib](https://matplotlib.org/), die v.a. jenen helfen sollen, die noch wenig Erfahrung mit der Visualisierung mit Python und *matplotlib* haben."
   ]
  },
  {
   "cell_type": "markdown",
   "id": "focal-penetration",
   "metadata": {},
   "source": [
    "### Balkendigramme\n",
    "<a class=\"anchor\" id=\"balkendiagramme\"></a>\n",
    "\n",
    "Balkendiagramme sind eine häufig verwendet Art von Diagrammen. Man sieht sie etwa bei der Darstellung von Umfragen im Netz, in Zeitungen und Zeitschriften. In einem Balkendiagramm werden waagrechte Rechtecke (Balken) auf der y-Achse dargestellt (`matplotlib.pyplot.bar`) (oder gekippt auf der x-Achse mit `matplotlib.pyplot.barh`). Jeder Balken repräsentiert eine bestimmte Kategorie, und seine Höhe steht für den Wert oder die Häufigkeit, die mit dieser Kategorie verbunden ist. Beispiele sind:\n",
    "- Prüfungsresultate (wie oft wurde jede Note vergeben)\n",
    "- Wahlergebnisse"
   ]
  },
  {
   "cell_type": "markdown",
   "id": "16e74099-7fc5-47b0-a394-6c5df59766e7",
   "metadata": {},
   "source": [
    "Hinweis: Falls die folgende Codezelle einen Fehler verursacht, müssen Sie `matplotlib` noch installieren. Geben Sie dazu entweder auf der Kommandozeile diesen Befehl ein:\n",
    "`pip install matplotlib` oder verwenden Sie ein Jupyter Magic in einer Codezelle: `%pip install matplotlib`."
   ]
  },
  {
   "cell_type": "code",
   "execution_count": null,
   "id": "acute-theater",
   "metadata": {},
   "outputs": [],
   "source": [
    "# uncomment the next line to install matplotlib if necessary\n",
    "# %pip install matplotlib  \n",
    "import matplotlib.pyplot as plt\n",
    "# show generated diagrams inline in the notebook\n",
    "%matplotlib inline  "
   ]
  },
  {
   "cell_type": "markdown",
   "id": "7a973627-d3b9-4ef5-84a5-63fbd8cddbd6",
   "metadata": {},
   "source": [
    "Erzeugen wir zunächst ein paar Beispieldaten in Form von zwei Listen: `books` sind 5 Buchtitel, `sales` sind die Verkaufszahlen für diese Bücher."
   ]
  },
  {
   "cell_type": "code",
   "execution_count": null,
   "id": "informed-running",
   "metadata": {},
   "outputs": [],
   "source": [
    "books = ['Don Quijote', 'Decameron', 'Mephisto', 'Die Pest', 'Die Kapuzinergruft']\n",
    "sales = [10, 12, 15, 11, 12]"
   ]
  },
  {
   "cell_type": "markdown",
   "id": "02553470-8891-4900-9f15-6a2dd548e85b",
   "metadata": {},
   "source": [
    "Erzeugen wir nun das einfachste Balkendiagramm:"
   ]
  },
  {
   "cell_type": "code",
   "execution_count": null,
   "id": "b408f909-f196-47f8-b9f3-89b07d4ed016",
   "metadata": {},
   "outputs": [],
   "source": [
    "plt.bar(books, sales)"
   ]
  },
  {
   "cell_type": "markdown",
   "id": "2a932e77-fb7d-4e82-81b7-ea69a60ea2fc",
   "metadata": {},
   "source": [
    "Fügen wir nun noch ein paar Beschriftungen ein, um das Diagramm besser verständlich zu machen:"
   ]
  },
  {
   "cell_type": "code",
   "execution_count": null,
   "id": "dominican-childhood",
   "metadata": {},
   "outputs": [],
   "source": [
    "plt.bar(books, sales)\n",
    "plt.title('Weltliteratur')\n",
    "plt.ylabel('in Mio.')\n",
    "plt.show()"
   ]
  },
  {
   "cell_type": "markdown",
   "id": "e72bf33a-383f-4156-a486-c1fb72bed7a5",
   "metadata": {},
   "source": [
    "Bei Bedarf können wir das Diagramm auch um 90 Grad drehen. Wir verwenden statt der `bar()` Funktion nun `barh()` (horizontal bar)."
   ]
  },
  {
   "cell_type": "code",
   "execution_count": null,
   "id": "999c6b15-ca1b-4f09-9e18-2869290e0f5f",
   "metadata": {},
   "outputs": [],
   "source": [
    "plt.barh(books, sales)\n",
    "plt.title('Weltliteratur')\n",
    "plt.xlabel('in Mio.')"
   ]
  },
  {
   "cell_type": "markdown",
   "id": "31f6c8da-5712-4774-85f2-f758c0107fa3",
   "metadata": {},
   "source": [
    "Mit einem einfachen `plt.savefig('balkendiagramm_horizontal.jpg')` können wir bei Bedarf das Diagramm nach seiner Erzeugung auch ein eine externe Datei speichern:"
   ]
  },
  {
   "cell_type": "code",
   "execution_count": null,
   "id": "a77504d4-43b5-46db-bd40-91e2c2b6ed6c",
   "metadata": {},
   "outputs": [],
   "source": [
    "plt.barh(books, sales)\n",
    "plt.title('Weltliteratur')\n",
    "plt.xlabel('in Mio.')\n",
    "plt.savefig('../output/balkendiagramm_horizontal.jpg')"
   ]
  },
  {
   "cell_type": "markdown",
   "id": "going-melissa",
   "metadata": {},
   "source": [
    "### Einfaches Liniendiagramm\n",
    "<a class=\"anchor\" id=\"liniendiagramme\"></a>\n",
    "\n",
    "Ein Liniendiagramm zeigt die Veränderungen einer stetigen Variable im Zeitverlauf. Dabei wird die Zeit auf der x-Achse dargestellt, und die stetige Variable (z. B. Gewicht, Temperatur) auf der y-Achse. Einfache Beispiele wären: \n",
    "- Gewichtsveränderung über Monate\n",
    "- das BIP pro Jahr\n",
    "- Besucherzahlen\n",
    "\n",
    "Erzeugen wir zuerst wieder ein paar Beispieldaten. Wir haben einige Jahre und die nach Land organisierten Besucherzahlen für diese Jahre:"
   ]
  },
  {
   "cell_type": "code",
   "execution_count": null,
   "id": "broad-space",
   "metadata": {},
   "outputs": [],
   "source": [
    "years = ['2020', '2021', '2022', '2023', '2024']\n",
    "austria = [3486, 3665, 3317, 3499, 3546]\n",
    "germany = [3376, 3799, 3414, 3552, 3472]\n",
    "italy = [3564, 3533, 3517, 3225, 3326]"
   ]
  },
  {
   "cell_type": "markdown",
   "id": "c51d3aae-c5b4-4490-9dc1-41f27991c407",
   "metadata": {},
   "source": [
    "Dann zeichnen wir für jedes Land eine Linie in einer unterschiedlichen Farbe:"
   ]
  },
  {
   "cell_type": "code",
   "execution_count": null,
   "id": "latter-architect",
   "metadata": {},
   "outputs": [],
   "source": [
    "plt.plot(years, austria, color='red', marker='o', linestyle='solid', label=\"Österreich\")\n",
    "plt.plot(years, germany, color='blue', marker='o', linestyle='solid', label=\"Deutschland\")\n",
    "plt.plot(years, italy, color='green', marker='o', linestyle='solid', label=\"Italien\")\n",
    "plt.title('Besucher pro Jahr')\n",
    "plt.xlabel('Jahr')\n",
    "plt.ylabel('Besucher')\n",
    "plt.legend(loc=\"upper right\")\n",
    "plt.show()"
   ]
  },
  {
   "cell_type": "markdown",
   "id": "d766b36b-09dd-4d68-9c36-ca65a2116f9b",
   "metadata": {},
   "source": [
    "Wir haben nun ein paar zusätzliche Argumente an die `plot()` Funktion übergeben:\n",
    "\n",
    "  * `color=` legt die Farbe der Linie fest. Sie können vordefinierte Farben verwenden oder z.B. RGB-Werte. Details dazu finden Sie hier: \n",
    "    https://matplotlib.org/stable/users/explain/colors/colors.html#colors-def\n",
    "  * `marker=` legt fest, wie die einzelnen Punkte markiert werden. Hier verwenden wir 'o', also Kreise. Weiter\n",
    "     Möglichkeiten wären etwa 's' für 'square' oder 'X' für ein 'x'. Details hier:\n",
    "     https://matplotlib.org/stable/api/_as_gen/matplotlib.markers.MarkerStyle.html#matplotlib.markers.MarkerStyle\n",
    "  * `linestyle=`  legt die Art der Line fest. Häufige Werte sind `solid`, '--', oder ':'. Alle möglichen Styles finden Sie hier:\n",
    "    https://matplotlib.org/stable/api/_as_gen/matplotlib.lines.Line2D.html#matplotlib.lines.Line2D.set_linestyle\n",
    "  * `label=` legt die Bezeichnung in der Legende fest"
   ]
  },
  {
   "cell_type": "markdown",
   "id": "dramatic-brother",
   "metadata": {},
   "source": [
    "### Histogramm\n",
    "<a class=\"anchor\" id=\"histogramme\"></a>\n",
    "\n",
    "Ein Histogramm ist eine grafische Darstellungsform, in der die absolute oder relative Häufigkeitsverteilung eines in Klassen eingeteilten Datensatzes in einem speziellen Säulendiagramm veranschaulicht wird. Einfache Beispiele wären:\n",
    "- die Altersverteilung einer Gruppe\n",
    "- Verkaufszahlen für verschiedene Produkte\n",
    "\n",
    "Wir erzeugen zuerst wieder Daten (`ages`). Das sind z.B. die Altersangaben die Besucher bei einer Veranstaltung gemacht haben."
   ]
  },
  {
   "cell_type": "code",
   "execution_count": null,
   "id": "cc50f7c9-1816-47d4-aef6-7d41c6bbe711",
   "metadata": {},
   "outputs": [],
   "source": [
    "ages = [\n",
    "    47, 18, 69, 50, 45, 34, 27, 44, 58, 35, 36, 45, 31, 36, 32, 40, 65,\n",
    "    73, 30, 58, 33, 35, 54, 34, 31, 38, 20, 53, 28, 41, 37, 66, 23,76, \n",
    "    25, 78, 41, 58, 63, 41, 17, 82, 49, 52, 20, 75, 20, 88, 23, 21, 28, \n",
    "    51, 29, 11\n",
    "]"
   ]
  },
  {
   "cell_type": "markdown",
   "id": "8d688b64-9286-438a-8613-803d8e94d2de",
   "metadata": {},
   "source": [
    "Die beste Art so etwas wie die Altersverteilung darzustellen, ist ein Histogramm. `matplotlib.pyplot` stellt dafür eine eigene Funktion bereit: `hist()`. Dieser übergeben wir die Daten (also die Liste der Altersangaben und legen fest, in wie viele 'Bins', also Intervalle die Daten aufgeteilt werden sollen. Beginnen wir einmal mit 10 Bins. Wir teilen also alle Altersangaben in 10 gleich breite Altersklassen auf:"
   ]
  },
  {
   "cell_type": "code",
   "execution_count": null,
   "id": "86c1e50e-28b5-477a-89f2-515da6771e54",
   "metadata": {},
   "outputs": [],
   "source": [
    "plt.hist(ages, bins=10)"
   ]
  },
  {
   "cell_type": "markdown",
   "id": "11af4b59-4a57-4201-aa31-e1b86fb29042",
   "metadata": {},
   "source": [
    "Wir können die Datstellung verbessern, indem wir den Balken einen Rahmen geben:"
   ]
  },
  {
   "cell_type": "code",
   "execution_count": null,
   "id": "4e8114d4-492b-46c3-96c0-d31e78adce22",
   "metadata": {},
   "outputs": [],
   "source": [
    "plt.hist(ages, bins=10, edgecolor='black')"
   ]
  },
  {
   "cell_type": "markdown",
   "id": "df0f87bd-7909-41f9-9d76-e56dbed5db73",
   "metadata": {},
   "source": [
    "Je mehr Bins wir erzeugen, desto schmäler werden die zusammengefassten Wertbereiche:"
   ]
  },
  {
   "cell_type": "code",
   "execution_count": null,
   "id": "605cbe45-1ae2-4297-a3b7-0a5174a94943",
   "metadata": {},
   "outputs": [],
   "source": [
    "plt.hist(ages, bins=20, edgecolor='black')\n",
    "plt.title('Altersklassen der Besucher')\n",
    "plt.xlabel('Alter')\n",
    "plt.ylabel('Anzahl Besucher')"
   ]
  },
  {
   "cell_type": "markdown",
   "id": "superb-information",
   "metadata": {},
   "source": [
    "### Scatterplot\n",
    "<a class=\"anchor\" id=\"scatterplot\"></a>\n",
    "\n",
    "Ein Scatterplot ist eine grafische Darstellung, bei der Punkte im Koordinatensystem platziert werden. Jeder Punkt repräsentiert ein **Wertepaar zweier Variablen** – eine auf der x-Achse und eine auf der y-Achse. Beispiele wären:\n",
    "- Körpermasseindex (BMI) **und** Fettanteil\n",
    "- Anzahl von Freunden **und** verbrachte Zeit in Minuten in sozialen Medien"
   ]
  },
  {
   "cell_type": "code",
   "execution_count": null,
   "id": "incorporated-knife",
   "metadata": {},
   "outputs": [],
   "source": [
    "friends = [70, 65, 72, 63, 71, 67, 60, 62]\n",
    "minutes = [172, 170, 205, 120, 210, 140, 105, 145]\n",
    "labels = ['Anna', 'Berthold', 'Claudia', 'Detlef', 'Erika', 'Franz', 'Gisela', 'Henriette']  # z.B. Display Namen"
   ]
  },
  {
   "cell_type": "code",
   "execution_count": null,
   "id": "scenic-dominant",
   "metadata": {},
   "outputs": [],
   "source": [
    "plt.scatter(friends, minutes)\n",
    "\n",
    "# Jeden Punkt beschriften\n",
    "for label, friend_count, minute_count in zip(labels, friends, minutes):\n",
    "    plt.annotate(label,  # Name der Person\n",
    "                xy=(friend_count, minute_count), # Position des zu annotierenden Datenpunkts\n",
    "                xytext=(8, -4), # offset für den Text: 8 Punkte nach rechts 4 Punkte nach unten\n",
    "                textcoords='offset points')  # offset relativ zum Datenpunkt \n",
    "    \n",
    "plt.title('Minuten täglich / Anzahl von Freunden')\n",
    "plt.xlabel('Anzahl Freunde')\n",
    "plt.ylabel('verbrachte Zeit in Minuten')"
   ]
  },
  {
   "cell_type": "markdown",
   "id": "31680818-a21e-4715-913a-54f51c6defe1",
   "metadata": {},
   "source": [
    "Das ist jetzt so zu interpretieren, dass z.B. Gisela nur wenig Zeit mit sozialen Medien vergeudet, aber dafür auch nur relativ wenige Online-Freunde hat. Erika und Claudia hingegeben führen bei der Zahl der Freund und der Zeit, die sie im Netz verbringen. Scatterplots sind also ein sehr guter Weg, Zusammenhänge zu visualisieren."
   ]
  },
  {
   "cell_type": "markdown",
   "id": "compact-supplier",
   "metadata": {},
   "source": [
    "### Boxplots\n",
    "<a class=\"anchor\" id=\"violinplots\"></a>\n",
    "\n",
    "Ein Boxplot ist ein Diagramm, das die wichtigsten robusten Lage- und Streuungsmaße übersichtlich darstellt. Es zeigt das **Minimum**, das **untere Quartil**, den **Median**, das **obere Quartil** und das **Maximum** (vgl. dazu auch *describe*-Methode von *pandas DataFrames*). Es geht also darum, zu zeigen, in welchem Bereich die Daten liegen und wie sie sich verteilen.\n",
    "\n",
    "Beispiele sind:\n",
    "- Gehaltsverteilung\n",
    "- Temperaturverlauf\n",
    "- Verkaufszahlen für verschiedene Produktkategorien"
   ]
  },
  {
   "cell_type": "code",
   "execution_count": null,
   "id": "fc4ef5ae-14cc-4fa7-85cd-1ca54a07608d",
   "metadata": {},
   "outputs": [],
   "source": [
    "temperatures = [ -3, 1, -2, -3, 1, 5, 0, 4, 3, 12, 9, 10, 3, 2]\n",
    "plt.boxplot(temperatures)"
   ]
  },
  {
   "cell_type": "markdown",
   "id": "66666158-f50b-4b28-9f3d-d6d75f9b69e8",
   "metadata": {},
   "source": [
    "Die Visualisierung ist nun so zu interpretieren:\n",
    "\n",
    "  *  Die *Box* wird oben und unten begrenzt durch das obere und untere Quartil. Das ist also der\n",
    "     Bereich, in dem 50% der Daten liegen.\n",
    "  *  Der farbige, horizontale Strich ist der Median. Liegt dieser relativ mittig, hat man eine\n",
    "     symetrische Verteilung, ist er nach oben oder unten verschoben, ist die\n",
    "     Verteilung asymetrisch.\n",
    "  *  Oben und unten ragen die so genannten *Antennen* heraus. Sie kennzeichnen die Werte, die\n",
    "     außerhalb der 50 Prozent liegen, also unterhalb der ersten Quartils und oberhalb des\n",
    "     dritten Quartils (oder trivial gesagt: die ersten 25% der Werte und dier letzten 25% der Werte).\n",
    "     Häufig werden hier nur Werte berückichtigt, die in dem Bereich liegen, der dem 1,5-fachen des\n",
    "     Interquartilsabstands (IQA) entspricht, als dem Abstand im Kasten (25 bis 75% der Werte). \n",
    "  * Außerhalb der Antennen liegende Daten werden als \"Ausreißer\" in Punktform eingezeichnet.\n",
    "  "
   ]
  },
  {
   "cell_type": "markdown",
   "id": "5abc8763-fc1b-4c65-9775-183eceaa2c40",
   "metadata": {},
   "source": [
    "Besonders gut geeignet sind Boxplots, um unterschiedliche Datensätze zu vergleichen. Verwenden wir dazu als Beispiel die Temperaturen aus drei Jahren."
   ]
  },
  {
   "cell_type": "code",
   "execution_count": null,
   "id": "207d0ca1-3b67-4a55-8187-eaa164dafc9e",
   "metadata": {},
   "outputs": [],
   "source": [
    "temperatures_2023 = [ -3, 1, -2, -3, 1, 5, 0, 4, 3, 12, 9, 10, 3, 2]\n",
    "temperatures_2024 = [ -5, -5, -3, -4, -2, 0, 1, 2, 2, 0, 2, 8, 1, 2]\n",
    "temperatures_2025 = [ 3, 2, 4, 6, 5, 2, 1, -2, -5, -8, -1, 2, 2, 0]\n",
    "plt.boxplot([temperatures_2023, temperatures_2024, temperatures_2025])"
   ]
  },
  {
   "cell_type": "markdown",
   "id": "2fd972cb-71fa-42b7-8e1e-710005c8a496",
   "metadata": {},
   "source": [
    "Machen wie das Diagramm etwas besser lesbar:"
   ]
  },
  {
   "cell_type": "code",
   "execution_count": null,
   "id": "0566cb7e-5b58-45a3-919b-43d1863fa8c6",
   "metadata": {},
   "outputs": [],
   "source": [
    "plt.boxplot([temperatures_2023, temperatures_2024, temperatures_2025])\n",
    "plt.grid(axis=\"y\")\n",
    "plt.ylabel(\"Grad Celsius\")\n",
    "plt.xticks([1, 2, 3], ['2023', '2024', '2025'])\n",
    "plt.xlabel(\"Jahr\")"
   ]
  },
  {
   "cell_type": "markdown",
   "id": "5457b22e-daa3-4229-bb3e-ca8a0230f485",
   "metadata": {},
   "source": [
    "### Weitere Möglichkeiten\n",
    "\n",
    "Was wir hier gesehen haben, war nur ein kleine Ausschnitt dessen, was man mit Matplotlib machen kann.  Ich verweise auf die Dokumentation zu Matplotlib unter\n",
    "https://matplotlib.org/stable/.\n",
    "\n",
    "Matplotlib ist die bekannteste, aber bei weitem nicht einzige Bibliothek zur Datenvisualisierung in Python. Sehr bekannt sind etwas auch [Seaborn](https://seaborn.pydata.org/), das auf Matplotlib basiert, oder [Plotly](https://plotly.com/python/). Auch Pandas bietet eigene Visualisierungen, die aber weitgehend eine etwas vereinfachte Schnittstelle zu Matplotlib darstellen. Wir sehen uns im nächsten Abschnitt ein paar Beispiele an.\n",
    "\n",
    "Sehr interessant ist auch die [Python Graph Gallery](https://python-graph-gallery.com/all-charts/), wo sich hunderte Beispiele für Visualisierungen mit Python finden.\n"
   ]
  },
  {
   "cell_type": "markdown",
   "id": "bd6c018a-b74d-4a54-b9e3-b3c9ba5c8a92",
   "metadata": {},
   "source": [
    "## Daten direkt mit Pandas visualisieren\n",
    "\n",
    "Pandas stellt einige auf Matplotlib basierende Diagrammtypen bereit. Der Hauptunterschied ist, dass die Pandas-Visualisierungen direkt mit den Pandas Typen (z.B. DataFrame) umgeen können. Auch die Bedienung ist in der Regel etwas einfacher (und dafür weniger mächtig) als direkt mit Matplotlib. Wir gehen hier nur einige wenige Beispiel durch. Die Dokumentation finden sie unter \n",
    "https://pandas.pydata.org/pandas-docs/stable/user_guide/visualization.html."
   ]
  },
  {
   "cell_type": "markdown",
   "id": "55eb47d7-dd28-4694-ae8c-8588abaebe29",
   "metadata": {},
   "source": [
    "### Ein Series Objekt als Liniendiagramm"
   ]
  },
  {
   "cell_type": "code",
   "execution_count": null,
   "id": "02f9e8b4-cc4d-4844-abc8-ef189c0b28f0",
   "metadata": {},
   "outputs": [],
   "source": [
    "import random\n",
    "import pandas as pd\n",
    "\n",
    "# generate 100 random integers in the range from 1 to 200\n",
    "values = random.sample(range(1, 200), 100)\n",
    "ser = pd.Series(values)\n",
    "\n",
    "# now we plot the Series\n",
    "ser.plot()"
   ]
  },
  {
   "cell_type": "markdown",
   "id": "3270bfe4-f212-4285-bedb-2f63d2051b32",
   "metadata": {},
   "source": [
    "Aus einem DataFrame können wir mehrere Linien generieren."
   ]
  },
  {
   "cell_type": "code",
   "execution_count": null,
   "id": "b1d85782-c983-4f3d-bdf7-45db2fa9f4a0",
   "metadata": {},
   "outputs": [],
   "source": [
    "# Generate 3 times 10 random numbers between 1 and 40\n",
    "s1 = random.sample(range(1, 40), 10)\n",
    "s2 = random.sample(range(1, 40), 10)\n",
    "s3 = random.sample(range(1, 40), 10)\n",
    "df = pd.DataFrame({\n",
    "    \"Tag 1\": s1,\n",
    "    \"Tag 2\": s2,\n",
    "    \"Tag 3\": s3\n",
    "})\n",
    "df.plot(ylabel=\"Temperaturen\", xlabel=\"Messungen\")\n"
   ]
  },
  {
   "cell_type": "markdown",
   "id": "7219a67b-1c8c-4115-8fbc-96b23c2d7d82",
   "metadata": {},
   "source": [
    "### Boxplot\n",
    "\n",
    "Erzeugen wir zwei Datenreihen, die sich nur durch den letzten Wert unterscheiden:"
   ]
  },
  {
   "cell_type": "code",
   "execution_count": null,
   "id": "official-block",
   "metadata": {},
   "outputs": [],
   "source": [
    "import pandas as pd\n",
    "df = pd.DataFrame({\n",
    "    'Datenreihe_1': [1, 1, 1, 2, 2, 2, 2, 3, 3, 3, 3, 3, 4, 4, 4, 4, 5, 5, 5],\n",
    "    'Datenreihe_2': [1, 1, 1, 2, 2, 2, 2, 3, 3, 3, 3, 3, 4, 4, 4, 4, 5, 5, 10]\n",
    "                  })"
   ]
  },
  {
   "cell_type": "code",
   "execution_count": null,
   "id": "hydraulic-divorce",
   "metadata": {},
   "outputs": [],
   "source": [
    "df.describe()"
   ]
  },
  {
   "cell_type": "code",
   "execution_count": null,
   "id": "under-comparative",
   "metadata": {
    "scrolled": true
   },
   "outputs": [],
   "source": [
    "df.boxplot()"
   ]
  },
  {
   "cell_type": "markdown",
   "id": "d9716341-5cd7-4800-bb0a-2662ca37971b",
   "metadata": {},
   "source": [
    "## Lizenz\n",
    "\n",
    "This notebook is based on a notebook created by Fabio Tosques part of the course [Grundlagen der Programmierung](https://github.com/gvasold/gdp) held by [Gunter Vasold](https://online.uni-graz.at/kfu_online/wbForschungsportal.cbShowPortal?pPersonNr=51488) at Graz University 2017&thinsp;ff. \n",
    "\n",
    "<p>\n",
    "    It is licensed under <a href=\"https://creativecommons.org/licenses/by-nc-sa/4.0\">CC BY-NC-SA 4.0</a>\n",
    "</p>\n",
    "\n",
    "<table>\n",
    "    <tr>\n",
    "    <td>\n",
    "        <img style=\"height:22px\" \n",
    "             src=\"https://mirrors.creativecommons.org/presskit/icons/cc.svg?ref=chooser-v1\"/></li>\n",
    "    </td>\n",
    "    <td>\n",
    "    <img style=\"height:22px;\"\n",
    "         src=\"https://mirrors.creativecommons.org/presskit/icons/by.svg?ref=chooser-v1\" /></li>\n",
    "    </td>\n",
    "    <td>\n",
    "        <img style=\"height:22px;\"\n",
    "         src=\"https://mirrors.creativecommons.org/presskit/icons/nc.svg?ref=chooser-v1\" /></li>\n",
    "    </td>\n",
    "    <td>\n",
    "        <img style=\"height:22px;\"\n",
    "             src=\"https://mirrors.creativecommons.org/presskit/icons/sa.svg?ref=chooser-v1\" /></li>\n",
    "    </td>\n",
    "</tr>\n",
    "</table>"
   ]
  }
 ],
 "metadata": {
  "kernelspec": {
   "display_name": "Python 3 (ipykernel)",
   "language": "python",
   "name": "python3"
  },
  "language_info": {
   "codemirror_mode": {
    "name": "ipython",
    "version": 3
   },
   "file_extension": ".py",
   "mimetype": "text/x-python",
   "name": "python",
   "nbconvert_exporter": "python",
   "pygments_lexer": "ipython3",
   "version": "3.12.3"
  }
 },
 "nbformat": 4,
 "nbformat_minor": 5
}
