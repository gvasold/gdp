{
 "cells": [
  {
   "cell_type": "markdown",
   "id": "a791f0e4-f955-4dc5-9737-de8349e8f6fd",
   "metadata": {},
   "source": [
    "# Ein paar Grundlagen zu Daten (Auffrischung)\n",
    "\n",
    "*Der Inhalt dieses Notebooks ist nicht prüfungsrelevant, verbessert aber das Verständnis der Materie.*"
   ]
  },
  {
   "cell_type": "markdown",
   "id": "1a1d20e0-001e-4e22-bee7-37f9ddf42021",
   "metadata": {},
   "source": [
    "## Bit\n",
    "\n",
    "Das Bit (Binary Unit), ist die kleinste Informationseinheit. Ein einzelnes Bit kennt nur einen von zwei Zuständen (stellen Sie sich etwas vor wie *wahr/falsch* oder *0/1*.\n",
    "\n",
    "Ein einzelnes Bit kann also nicht viel speichern. Wir können aber mehrere Bits zu einer *Bitfolge* kombinieren und damit mehr als diese zwei Zustände festhalten.\n",
    "Verwenden wir statt einem Bit zwei Bits, können wir bereits einen von vier Zuständen festhalten, bei drei Bits einen von acht Zuständen usw. Exerzieren wir das einmal durch:\n",
    "\n",
    "Mit einem Bit kann man also nur einen von zwei Zuständen festhalten: \n",
    "\n",
    "```\n",
    "0\n",
    "1\n",
    "```\n",
    "\n",
    "Kombiniert man 2 Bits können wir einen von vier Zuständen festhalten:\n",
    "\n",
    "```\n",
    "00    10\n",
    "01    11 \n",
    "```\n",
    "\n",
    "Fügen wir ein drittes Bit hinzu, haben wir bereits 8 mögliche Zustände:\n",
    "\n",
    "```\n",
    "000    100\n",
    "001    101\n",
    "010    110\n",
    "011    111\n",
    "```\n",
    "\n",
    "Die Zahl der möglichen Zustände berechnet sich also mit dieser Formel: $2^n$, wobei n die Zahl der Bytes ist.\n"
   ]
  },
  {
   "cell_type": "markdown",
   "id": "b0ca9559-e090-4ae5-98ac-04332b7c4653",
   "metadata": {},
   "source": [
    "## Byte\n",
    "\n",
    "Unter einem *Byte* wird normalerweise eine Menge von 8 Bits verstanden. Mit einem Byte kann also einer von $2^8 = 256$ Zuständen kodiert werden.\n"
   ]
  },
  {
   "cell_type": "markdown",
   "id": "0f689c4b-cfab-469e-a5bd-76edaa235549",
   "metadata": {},
   "source": [
    "## Repräsentation von Daten"
   ]
  },
  {
   "cell_type": "markdown",
   "id": "f212a6c2-83a9-4ddc-b38f-86ba89b71415",
   "metadata": {},
   "source": [
    "### Zahlen\n",
    "\n",
    "Da Daten in einem Computer als (grundsätzlich kontextlose) Bitfolgen repräsentiert werden, stellt sich die Frage, wie man Zahlen auf solche Bitfolgen abbilden kann, also wie man z.B. die Zahl 150 als Bitfolge darstellen kann. Hier bietet sich das Dualsystem an, also das Zahlensystem zur Basis 2, weil dieses ebefalls nur zwei Ziffern (0 und 1) benutzt. Man kann also einfach jedes Bit als Ziffer im Dualsystem verwenden. Hat man also zum Beispiel eine Bitfolge von acht Bits (1 Byte) wie `10010110` lässt sich diese direkt als Zahl im Dualsystem interpretieren: `10010110`. Dieser Wert entspricht der Zahl `150` im für uns normalen Dezimalsystem,  `226` im Oktalsystem (zur Basis 8) oder `96` in dem in der Informatik häufig verwendeten Hexadezimalsystem (zur Basis 16). Weiter unten finden Sie, falls es Sie interessiert, beschrieben, wie man diese Umrechnungen zwischen den einzelnen Stellenwertsystemen vornehmen kann."
   ]
  },
  {
   "cell_type": "markdown",
   "id": "cb4bb936-1700-4ca2-b928-3630a5ae1fef",
   "metadata": {},
   "source": [
    "### Texte\n",
    "\n",
    "Die Abbildung von Texten auf Bitfolgen und vice versa folgt immer einer (von mehreren möglichen) Übereinkünften. Diese Festlegungen nennt man *Zeichenkodierungen* oder *Codetabellen*. Im Lauf der letzten Jahrzehnte wurden zahlreiche solche Zeichentabellen festgelegt.\n",
    "\n",
    "#### ASCII\n",
    "\n",
    "Eine frühe (1963) solche Festlegung\n",
    "ist *ASCII* (American Standard Code for Information Interchange). Diese Norm definiert, wie 128 festgelegte Zeichen als Folge von 7 Bits kodiert werden. Dabei sind die ersten 32 Zeichen\n",
    "für so genannte nicht druckbare Steuerzeichen reserviert, die beispielsweise für Fernschreiber genutzt wurden. Die für uns relevanten \"druckbaren\" Zeichen beginnen mit Zeichen Nummer (dezimal) 32 (was `0010 0000` in dual entspricht).\n",
    "\n",
    "| Dez | Hex  | Dual      | Zeichen      |\n",
    "|----:| ----:| --------- | -------------|\n",
    "|0    | 00   |0000 0000  | Null charakter |\n",
    "|1    | 01   |0000 0001  | Start of heading|\n",
    "|2    | 02   |0000 0010  | Start of Text|\n",
    "|3    | 03   |0000 0011  | End of Text|\n",
    "|... ||||\n",
    "|32   | 20   | 0010 0000 | Leerzeichen|\n",
    "|33   | 21   | 0010 0001 | !|\n",
    "|34   | 22   | 0010 0010 | \" |\n",
    "|... ||||\n",
    "|48  |30|0011 0000|0|\n",
    "|49  |31|0011 0001|1|\n",
    "|50  |32|0011 0010|2|\n",
    "|... ||||\n",
    "|65  |41|0100 0001|A|\n",
    "|66  |42|0100 0010|B|\n",
    "|67  |43|0100 0011|C|\n",
    "|... ||||\n",
    "|97  |61|0110 0001|a|\n",
    "|98  |62|0110 0010|b|\n",
    "|99  |63|0110 0011|c|\n",
    "|... ||||\n",
    "|122  |7A|0111 1010|z|\n",
    "|123  |7B|0111 1011|{|\n",
    "|124  |7C|0111 1100|\\||\n",
    "|125  |7D|0111 1101|}|\n",
    "|126  |7E|0111 1110|~|\n",
    "|127  |7F|0111 1111|DEL|\n",
    "\n",
    "\n"
   ]
  },
  {
   "cell_type": "markdown",
   "id": "32b14c3a-a751-47d3-9ab3-48591966a75b",
   "metadata": {},
   "source": [
    "#### Die ISO-8859 Zeichensätze\n",
    "\n",
    "ASCII begnügt sich mit sieben Bits, weil nur 128 Zeichen definiert sind. Das bedeute aber auch, dass sich damit keine Sonderzeichen wie etwa die deutschen Umlaute kodieren lassen. Eine frühe Lösung für dieses Problem waren Zeichensätze, die acht Bits verwenden, also damit 128 zusätzliche Zustände und damit 128 zusätzliche Zeichen ermöglichen (für die ersten sieben Bits wurde meist ASCII übernommen). Es entstanden einige solche Zeichensätze, viele davon wurden auch standardisiert. Eine wichtige Rolle spielen hier die so genannten ISO (Latin) Zeichensätze, die als ISO-Standard mit der Nummer 8859 festgelegt wurden. Damit ausreichend Zeichen für verschiedene Sprach- und Schriftsysteme zur Verfügung stehen, wurde hier nicht ein einzelner Zeichensatz festgelegt, sondern derer 15:\n",
    "\n",
    "|Codetabelle | Name|  Anmerkung |\n",
    "|----------- | --------| ---------------|\n",
    "| ISO 8859-1 | Latin-1 | Westeuropäisch |\n",
    "| ISO 8859-2 | Latin-2 | Mitteuropäisch | \n",
    "| ISO 8859-3 | Latin-3 | Mitteuropäisch | \n",
    "| ISO 8859-4 | Latin-4 | Mitteuropäisch | \n",
    "| ISO 8859-5 | Kyrillisch |  | \n",
    "| ISO 8859-6 | Arabisch |  | \n",
    "| ISO 8859-7 | Griechisch | | \n",
    "| ISO 8859-8 | Hebräisch |  | \n",
    "| ISO 8859-9 | Latin-5 | Türkisch | \n",
    "| ISO 8859-10 | Latin-6 | Nordisch | \n",
    "| ISO 8859-11 | Thai |  | \n",
    "| ISO 8859-12 |  | existiert nicht | \n",
    "| ISO 8859-13 | Latin-7 | Baltisch | \n",
    "| ISO 8859-14 | Latin-8 | Ketlisch | \n",
    "| ISO 8859-15 | Latin-9 | Westeuropäisch | \n",
    "| ISO 8859-16 | Latin-10| Südeuropäisch | \n",
    "\n",
    "\n",
    "In jedem diese Zeichensätze ist jede Bitfolge, die einem Dezimalwert zwischen 128 und 255 entspricht, potentenzell anders belegt. Nehmen wir als Beispiel die Bitfolge `1011 1001` (dezimal 185). Diese steht in den verschiedenen ISO 8859 Codetabellen für dieses Zeichen:\n",
    "\n",
    "| Codetabelle | Zeichen | Anmerkung |\n",
    "|-------------|---------|-----------|\n",
    "| ISO 8859-1 | ¹ ||\n",
    "| ISO 8859-2 | š ||\n",
    "| ISO 8859-3 | ı ||\n",
    "| ISO 8859-4 | š ||\n",
    "| ISO 8859-5 | Й ||\n",
    "| ISO 8859-6 || Nicht belegt\n",
    "| ISO 8859-7 | Ή ||\n",
    "| ISO 8859-8 | ¹ ||\n",
    "| ISO 8859-9 | ¹ ||\n",
    "| ISO 8859-10 | đ ||\n",
    "| ISO 8859-11 | น ||\n",
    "| ISO 8859-13 | ¹ ||\n",
    "| ISO 8859-14 | ṗ ||\n",
    "| ISO 8859-15 | ¹ ||\n",
    "| ISO 8859-16 | č ||\n"
   ]
  },
  {
   "cell_type": "markdown",
   "id": "3fec8c34-8e83-4803-a16b-938451b4dd77",
   "metadata": {},
   "source": [
    "### Unicode"
   ]
  },
  {
   "cell_type": "markdown",
   "id": "51de4153-ef17-4696-95cf-42a9d414f4d0",
   "metadata": {},
   "source": [
    "Codetabellen sind also eine effiziente und speichersparende Methode, Zeichen aus verschiedenen Zeichensystemen als Bitfolgen abzubilden. Sie haben aber gravierende Nachteile: Wenn die verwendete Codetabelle nicht bekannt ist, kann man nur raten, für welches Zeichen diejeweilige Bitfolge steht. Außerdem ist es (zumindest in reinen Texten) nicht möglich, mehrere Codetabellen im selben Text zu verwenden. Um also etwa arabische Zitate in einen westeuropäischen Text einzustreuen, braucht es spezielle Formate, die im Text zwischen verschiedenen Codetabellen hin- und herschalten können und damit spezielle Programme, die diese Formate unterstützen.\n",
    "\n",
    "Spätestens mit dem häufiger werdenden Austausch von Texten über das Internet wurde dies zunehmend zum Problem. Deshalb hat man in den 1990er-Jahren damit begonnen, einen neuen Zeichensatz zu entwickeln, der jedes Zeichen eindeutig festlegt: **Unicode**.  Die Unicode-Codepoints für bestimmte Zeichen lassen sich im WWW einfach finden. Die offizielle Ressource sind die [Unicode Character Code Charts](https://www.unicode.org/charts/).\n",
    "\n",
    "Die Kernidee von Unicode ist, jedem Zeichen einen sogenannten **Codepoint** zuzuweisen. Oder einfacher gesagt: Jedem definierten Zeichen wird eine eindeutige Zahl (sprich: Bitfolge) zugewiesen. Die ersten 256 \"Zahlen\" entsprechen der Codetabelle ISO 8859-1. Danach wurde einfach weitergezählt. Dabei wurden so gut wie alle existierenden Schriftsysteme, darunter auch historische wie etwa *Linear A* oder Keilschrift (Cuneiform), aber beispielsweise auch Musiknoten oder Emoticons berücksichtigt. Aktuell sind mehr als 150 000 Zeichen defininiert. Das balinesicher Zeichen ᭒ etwa hat den Codepoint `6994` (`00011011 01010010`),\n",
    "das Smiley Emoticon (&#128578;) den Codepoint `128578` (`0001 11110110 01000010`).\n",
    "\n",
    "Python stellt die `ord()` Funktion bereit, mit der wir uns den Codepoint für ein Zeichen ausgeben lassen können:"
   ]
  },
  {
   "cell_type": "code",
   "execution_count": 9,
   "id": "260fe1a3-45bd-4eee-881e-e547324dbf39",
   "metadata": {},
   "outputs": [
    {
     "data": {
      "text/plain": [
       "228"
      ]
     },
     "execution_count": 9,
     "metadata": {},
     "output_type": "execute_result"
    }
   ],
   "source": [
    "ord('ä')"
   ]
  },
  {
   "cell_type": "markdown",
   "id": "6b8e374a-ffb1-44ae-8dac-ace22219c4dc",
   "metadata": {},
   "source": [
    "Umgekehrt können wir dir `chr()` Funktion verwenden, um das Zeichen mit einem bestimmten Codepoint zu ermitteln:"
   ]
  },
  {
   "cell_type": "code",
   "execution_count": 10,
   "id": "86b88fd5-e284-48cc-bb92-00b386bca4ff",
   "metadata": {},
   "outputs": [
    {
     "data": {
      "text/plain": [
       "'ä'"
      ]
     },
     "execution_count": 10,
     "metadata": {},
     "output_type": "execute_result"
    }
   ],
   "source": [
    "chr(228)"
   ]
  },
  {
   "cell_type": "markdown",
   "id": "595f61fb-4e7e-47bc-865c-e77270a812ef",
   "metadata": {},
   "source": [
    "Man kann einen Codepoint auch direkt in einen String einfügen. Allerdngs muss man hier den Hexadezimalwert (der ohnehin in den meisten Unicode-Tabellen verwendet wird) angeben:"
   ]
  },
  {
   "cell_type": "code",
   "execution_count": 33,
   "id": "b97e499c-7df7-486d-ad3e-db24c6c27a27",
   "metadata": {},
   "outputs": [
    {
     "data": {
      "text/plain": [
       "'6b29'"
      ]
     },
     "execution_count": 33,
     "metadata": {},
     "output_type": "execute_result"
    }
   ],
   "source": [
    "# Get the Hex value of decimal 27433\n",
    "f\"{27433:x}\""
   ]
  },
  {
   "cell_type": "code",
   "execution_count": 32,
   "id": "9311c732-6e16-4ef8-abd4-88f7765b7f20",
   "metadata": {},
   "outputs": [
    {
     "data": {
      "text/plain": [
       "'欩'"
      ]
     },
     "execution_count": 32,
     "metadata": {},
     "output_type": "execute_result"
    }
   ],
   "source": [
    "'\\u6B29'"
   ]
  },
  {
   "cell_type": "markdown",
   "id": "937cf9fa-2c7a-447a-97e8-eb814e0bf676",
   "metadata": {},
   "source": [
    "#### UTF Kodierungen\n",
    "\n",
    "Um eine Zahl wie 150 000 als Bitfolge auszudrücken (`10 01001001 11110000`),\n",
    "braucht es 18 Bits d.h. 3 Bytes. Damit beim Einlesen eines Textes die einzelnen Zeichen aus den Bitfolgen extrahiert d.h. von einander unterschieden werden können, wäre es am einfachsten, für alle Zeichen gleich viele Bytes (z.B. 3, d.h. 24 Bit) zu verwenden. Dann wüssten wir, dass bei jedem 25. Bit ein neues Zeichen beginnt. \n",
    "\n",
    "Diese Lösung hat aber einen gravierenden Nachteil. Das Zeichen mit dem Codepoint 150 000 (ein Zeichen aus der Han-Schrift) würde mit 3 Bytes so aussehen: `00000010 01001001 11110000`. Ein kleines `a` hingegen (Codepoint 97) würde in einer solchen 3-Byte-Codierung (24 Bits pro Zeichen) so aussehen:  `00000000 00000000 01100001`. Obwohl die Zahl mit nur 7 Bits (`110 0001`) ausgedrückt werden könnte, würden trotzdem 24 Bits pro Zeichen benötigt. Da dies (vor allem wenn ein Text hauptsächlich aus lateinischen Buchstaben besteht) eine erhebliche Verschwendung von Speicherplatz wäre, haben findige Köpfe die so genannten **UTF-Kodierungen** (UCS Transformation Format) für Unicode Codepoints erfunden (UCS ist der ISO-standardisierte Name für die Unicode Code Tabelle: ISO 10646. Das Akronym steht für *Universal Coded Character Set').\n",
    "\n",
    "Die populäste UTF-Codierung ist **UTF-8**. Vor allem in Asien ist **UTF-16** verbreitet, weil diese für Zeichen mit hohen Codepoints etwas wenige Platz benötigt. Es gibt noch weitere UTF-Kodierungen, die aber kaum eine Rolle spielen. Im Prinzip ist die Art der UTF-Kodierung aber austauschbar.\n",
    "\n",
    "\n",
    "##### Wie funktioniert nun die Kodierung von Codepoints in UTF-8?\n",
    "\n",
    "Die Kernidee ist, dass erste Bit eines Bytes signalisiert, ob wir es mit einem ASCII-Zeichen zu tun haben oder nicht. Steht das erste Bit auf `0`, dann signaisiert das dem Decoder, dass das Zeichen nur aus diesem einen Bit besteht. Steht das Bit hingegen auf `1`, haben wir es mit einem mehrbytigem Zeichen zu tun: Beginnt das Byte mit `11` bedeutet das, dass hier ein mehrbytiges Zeichen beginnt. Beginnt das Byte mit `10` ist es ein Folgebyte, das mit dem oder den zurvor gelesen Bytes zusammengeführt werden muss. Ein mehrbytiges Zeichen könnte also so kodiert sein:\n",
    "\n",
    "```\n",
    "1101 0101\n",
    "1011 1101 \n",
    "```\n",
    "\n",
    "Die beiden ersten Bits des ersten Bytes (`11`) bedeuten 'hier beginnt ein mehrbytiges Zeichen'.\n",
    "Die beiden ersten Bits des darauf folgenden Bytes (`10`) bedeuten 'ich bin ein Folgebyte'.\n",
    "Der UTF-Decoder macht daraus ein Zeichen mit diese Bitfolge: `0101 01111101`, was dem Codepoint \n",
    "`1405` entspricht. Es wurden also jeweils die beiden ersten Bits abgestreift und der Rest aneinander gefügt."
   ]
  },
  {
   "cell_type": "markdown",
   "id": "b1d79fdb-1da3-475b-a5c1-085b95e3f3ab",
   "metadata": {},
   "source": [
    "## Anhang\n",
    "\n",
    "### Umwandlung von Zahlensystemen\n",
    "\n",
    "#### Von dual nach dezimal\n",
    "\n",
    "Eine Dualzahl wie `10010110` lässt sich in ihren Dezimalwert umwandeln, indem man den Wert jeder auf 1 stehenden Stelle als 2 mit der Position (beginnend bei 0) potenziert:\n",
    "\n",
    "\n",
    "$$10010110 = 2^7 + 2^4 + 2^2 + 2^1 = 128 + 16 +4 + 2 = 150$$\n",
    "\n",
    "\n",
    "Das achte Bit (Position 7) steht auf 1, daher $2^7$. Das siebte und sechste Bit stehen auf 0, können also ignoriert werden. Das fünfte Bit (Position 4) steht wieder auf 1, daher wird $2^4$ addiert usw."
   ]
  },
  {
   "cell_type": "markdown",
   "id": "0fd54288-f245-40cf-a245-5b4106dc54e4",
   "metadata": {},
   "source": [
    "Wir können die Umwandlung natürlich auch Python überlassen:"
   ]
  },
  {
   "cell_type": "code",
   "execution_count": 3,
   "id": "92c0b3e5-4f11-4baf-8719-2a65304cae45",
   "metadata": {},
   "outputs": [
    {
     "data": {
      "text/plain": [
       "150"
      ]
     },
     "execution_count": 3,
     "metadata": {},
     "output_type": "execute_result"
    }
   ],
   "source": [
    "int('10010110', 2)"
   ]
  },
  {
   "cell_type": "markdown",
   "id": "5bdc467a-7f3a-432f-a2bb-126f947b161f",
   "metadata": {},
   "source": [
    "#### Von dezimal nach dual\n",
    "\n",
    "Hier müssen wir ein wenig mehr rechnen: Es geht darum, die Zahl 2 zu dividieren. Das Ergebnis der Division wird erneut durch 2 dividiert und so weiter. Wir merken uns den Rest jeder Division.\n",
    "\n",
    "```\n",
    "150 / 2 = 75; Rest: 0\n",
    "75 / 2 = 37;  Rest: 1\n",
    "37 % 2 = 18;  Rest: 1\n",
    "18 / 2 = 9;   Rest: 0\n",
    "9 / 2 = 4;    Rest: 1\n",
    "4 / 2 = 2;    Rest: 0\n",
    "2 / 2 = 1;    Rest: 0\n",
    "1 / 2 = 0;    Rest: 1\n",
    "```\n",
    "Die Rest-Werte von unten nach oben gelesen ergeben nun die Binärzahl: `10010110`. \n",
    "\n",
    "Wir können uns dabei aber auch von Python helfen lassen:"
   ]
  },
  {
   "cell_type": "code",
   "execution_count": 8,
   "id": "6cf421f0-8f23-417b-aa95-e02a98b0189d",
   "metadata": {},
   "outputs": [
    {
     "data": {
      "text/plain": [
       "'10010110'"
      ]
     },
     "execution_count": 8,
     "metadata": {},
     "output_type": "execute_result"
    }
   ],
   "source": [
    "f'{150:b}'"
   ]
  },
  {
   "cell_type": "markdown",
   "id": "d2729b2b-03cd-48ae-8378-379a4e077377",
   "metadata": {},
   "source": [
    "#### Von dezimal nach oktal\n",
    "\n",
    "Das Oktalsystem funktioniert zur Basis 8. Dadurch lassen sich jeweils 3 Bit an einer Stelle darstellen. Dabei entsprechen folgende Bitfolgen diesen Oktalwerten:\n",
    "\n",
    "| dual | oktal |   | dual | oktal |\n",
    "| ---- | ----- | - | ---- | ----- |\n",
    "|  000  |  0   |   | 100  | 4 |\n",
    "|  001  |  1   |   | 101  | 5 |\n",
    "|  010  |  2   |   | 110  | 6 |\n",
    "|  011  |  3   |   | 111  | 7 |"
   ]
  },
  {
   "cell_type": "markdown",
   "id": "bb0d634c-bab6-4fac-b1f4-fef0cea9fab1",
   "metadata": {},
   "source": [
    "Um nun eine Dezimalzahl nach oktal umzuwandeln, wandeln wir diese zuerst, wie oben beschrieben, in eine Dualzahl: 150 wird zu `10010110`. Diesen Wert zerlegen wir nun, rechts beginnend in jeweils dreistellige Einheiten:\n",
    "\n",
    "```\n",
    "10 | 010 | 110\n",
    "```\n",
    "\n",
    "Jede Stelle wird dann durch den entsprechenden Oktalwert (aus der Tabelle oben) ersetzt:\n",
    "\n",
    "```\n",
    "226\n",
    "```\n",
    "\n",
    "Der Oktalwert von 150 ist somit `226`. \n",
    "\n"
   ]
  },
  {
   "cell_type": "markdown",
   "id": "fbb280f9-7355-485a-b9f0-2cc853787a8f",
   "metadata": {},
   "source": [
    "Oder wir verwenden Python, um die Umwandlung durchzuführen:"
   ]
  },
  {
   "cell_type": "code",
   "execution_count": 41,
   "id": "c2a50474-bb68-45d9-a5f4-9816dab3e79d",
   "metadata": {},
   "outputs": [
    {
     "data": {
      "text/plain": [
       "'226'"
      ]
     },
     "execution_count": 41,
     "metadata": {},
     "output_type": "execute_result"
    }
   ],
   "source": [
    "f'{150:o}'"
   ]
  },
  {
   "cell_type": "markdown",
   "id": "21174745-a1a6-4787-b598-543eb603c003",
   "metadata": {},
   "source": [
    "#### Von oktal nach dezimal\n",
    "\n",
    "Der einfachste Weg besteht in der Umkehrung des eben beschriebenen Schrittes. Wir ersetzen jeden Oktalwert durch den ensprechende Dualwert und wandeln dann den Dualwert in den Dezimalwert.\n",
    "\n",
    "`2 2 6` wird zu `010 010 110` und daraus wird  `150`.\n",
    "\n",
    "Wir können diese Umwandlung natürlich auch Python überlassen:"
   ]
  },
  {
   "cell_type": "code",
   "execution_count": 47,
   "id": "f7a748eb-4aee-4eb8-98cf-1c26037da292",
   "metadata": {},
   "outputs": [
    {
     "data": {
      "text/plain": [
       "150"
      ]
     },
     "execution_count": 47,
     "metadata": {},
     "output_type": "execute_result"
    }
   ],
   "source": [
    "int('226', 8)"
   ]
  },
  {
   "cell_type": "markdown",
   "id": "ecad047a-9de0-42f6-88ad-9078b84425aa",
   "metadata": {},
   "source": [
    "#### Von dezimal nach hexadezimal\n",
    "\n",
    "Das Hexadezimalsystem funktioniert zur Basis 16. Damit lassen sich jeweils 4 Bits an einer Stelle darstellen. Dabei entsprechen folgende Bitfolgen diesen Hexadezimalwerten:\n",
    "\n",
    "| dual | hex |   | dual | hex |\n",
    "| ---- | --- | - | ---- | --- |\n",
    "| 0000 | 0 | | 1000 | 8 |\n",
    "| 0001 | 1 | | 1001 | 9 |\n",
    "| 0010 | 2 | | 1010 | A |\n",
    "| 0011 | 3 | | 1011 | B |\n",
    "| 0100 | 4 | | 1100 | C |\n",
    "| 0101 | 5 | | 1101 | D |\n",
    "| 0110 | 6 | | 1110 | E |\n",
    "| 0111 | 7 | | 1111 | F |\n",
    "\n",
    "Die Umwandlung von dezimal nach hexadezimal ähnelt der Umwandlung nach oktal: Wir wandeln die Zahl zuerst in eine Dualzahlund segmentieren diese an jeder vierten Stellen:\n",
    "\n",
    "```\n",
    "1001 | 0110\n",
    "```\n",
    "\n",
    "und ersetzen jedes Segment durch den entsprechenden Hexadezimalwert: `96`.\n",
    "\n",
    "Oder wir überlassen die Arbeit Python:"
   ]
  },
  {
   "cell_type": "code",
   "execution_count": 43,
   "id": "c4ab4729-3162-4c6e-9662-825948c15425",
   "metadata": {},
   "outputs": [
    {
     "data": {
      "text/plain": [
       "'96'"
      ]
     },
     "execution_count": 43,
     "metadata": {},
     "output_type": "execute_result"
    }
   ],
   "source": [
    "f'{150:x}'"
   ]
  },
  {
   "cell_type": "markdown",
   "id": "c86967e9-aa7e-4a14-828c-bdb89f282aa4",
   "metadata": {},
   "source": [
    "#### Von hexadezimal nach dezimal\n",
    "\n",
    "Der einfachste Weg besteht in der Umkehrung des eben beschriebenen Schrittes. Wir ersetzen jeden Hexadezimalwert durch den ensprechende Dualwert und wandeln dann den Dualwert in den Dezimalwert.\n",
    "\n",
    "`9 6` wird zu `1001 0110` und daraus wird 150.\n",
    "\n",
    "Einfacher funktioniert dies natürlich mit Python:"
   ]
  },
  {
   "cell_type": "code",
   "execution_count": 46,
   "id": "3b4814ed-9f9c-41a9-82dd-2d376e252547",
   "metadata": {},
   "outputs": [
    {
     "data": {
      "text/plain": [
       "150"
      ]
     },
     "execution_count": 46,
     "metadata": {},
     "output_type": "execute_result"
    }
   ],
   "source": [
    "int('96', 16)"
   ]
  },
  {
   "cell_type": "markdown",
   "id": "a84e7c34-11c3-4bbc-b119-596fa7d29a83",
   "metadata": {},
   "source": [
    "## Lizenz\n",
    "\n",
    "This notebook ist part of the course [Grundlagen der Programmierung](https://github.com/gvasold/gdp) held by [Gunter Vasold](https://online.uni-graz.at/kfu_online/wbForschungsportal.cbShowPortal?pPersonNr=51488) at Graz University 2017&thinsp;ff. \n",
    "\n",
    "<p>\n",
    "    It is licensed under <a href=\"https://creativecommons.org/licenses/by-nc-sa/4.0\">CC BY-NC-SA 4.0</a>\n",
    "</p>\n",
    "\n",
    "<table>\n",
    "    <tr>\n",
    "    <td>\n",
    "        <img style=\"height:22px\" \n",
    "             src=\"https://mirrors.creativecommons.org/presskit/icons/cc.svg?ref=chooser-v1\"/></li>\n",
    "    </td>\n",
    "    <td>\n",
    "    <img style=\"height:22px;\"\n",
    "         src=\"https://mirrors.creativecommons.org/presskit/icons/by.svg?ref=chooser-v1\" /></li>\n",
    "    </td>\n",
    "    <td>\n",
    "        <img style=\"height:22px;\"\n",
    "         src=\"https://mirrors.creativecommons.org/presskit/icons/nc.svg?ref=chooser-v1\" /></li>\n",
    "    </td>\n",
    "    <td>\n",
    "        <img style=\"height:22px;\"\n",
    "             src=\"https://mirrors.creativecommons.org/presskit/icons/sa.svg?ref=chooser-v1\" /></li>\n",
    "    </td>\n",
    "</tr>\n",
    "</table>"
   ]
  },
  {
   "cell_type": "markdown",
   "id": "02275519-1f63-420d-8c71-b8b37cdcf5dc",
   "metadata": {},
   "source": [
    "---\n",
    "\n",
    "<div style=\"text-align: center; margin-top:20pt;\">  \n",
    "  <a href=\"Pfad/zum/vorherigen_Notebook.ipynb\">← Vorheriges Notebook</a>  \n",
    "  <span style=\"width: 100px;display: inline-block;\"> </span>\n",
    "    <a href=\"Pfad/zum/inhalt\">↑ Inhaltsübersicht</a>\n",
    "    <span style=\"width: 100px;display: inline-block;\"> </span>\n",
    "  <a href=\"Pfad/zum/nächsten_Notebook.ipynb\">Nächstes Notebook →</a>  \n",
    "</div>  "
   ]
  }
 ],
 "metadata": {
  "kernelspec": {
   "display_name": "Python 3 (ipykernel)",
   "language": "python",
   "name": "python3"
  },
  "language_info": {
   "codemirror_mode": {
    "name": "ipython",
    "version": 3
   },
   "file_extension": ".py",
   "mimetype": "text/x-python",
   "name": "python",
   "nbconvert_exporter": "python",
   "pygments_lexer": "ipython3",
   "version": "3.9.6"
  }
 },
 "nbformat": 4,
 "nbformat_minor": 5
}
