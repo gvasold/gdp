{
 "cells": [
  {
   "cell_type": "markdown",
   "metadata": {},
   "source": [
    "# Über den Umgang mit Jupyter Notebooks"
   ]
  },
  {
   "cell_type": "markdown",
   "metadata": {},
   "source": [
    "## Was ist ein Jupyter Notebook?"
   ]
  },
  {
   "cell_type": "markdown",
   "metadata": {},
   "source": [
    "Ein Notebook ist eine im Browser laufende interaktive Python-Shell. In einem Notebook können nicht nur Python-Snippets eingegeben und unmittelbar ausgeführt werden, es ist auch möglich, den Programmcode mit Texten, Bilder und Videos usw. anzureichern. Notebooks sind daher eine tolle Möglichkeit, eine Art interaktives Skriptum zu erstellen.\n",
    "\n",
    "Jupyter Notebooks werden mit allen Inhalten in eine einzelne Datei (Extension: `.ipynb`)  gespeichert und können deshalb einfach weitergegeben werden. Darüber hinaus gibt es die Möglichkeit, die Notebooks in verschiedene Formate zu exportieren (im Browser unter `File -> Download as`, in VS Code über das \"Export as\"-Icon ).\n",
    "\n",
    "Jupyter Notebooks funktionieren nach den Client-Server-Prinzip: \n",
    "\n",
    "  * Es gibt einen im Browser oder einem anderen Programm (VSCode, PyCharm) laufenden Client, mit dem Notebooks geöffnet, bearbeitet und angezeigt werden können. \n",
    "  * Die eigentliche Ausführung der Programme übernimmt ein so genannter \"Kernel\", der auf einem Server läuft. Ursprünglich nur für Python entwickelt, gibt es heute auch Kernels für andere Programmiersprachen wie R, Javascript oder Julia. \n",
    "  * Normalerweise laufen Client und Server auf dem selben Computer, man kann aber den Server auch auf einem anderen, z.B. besonders leistungsfähigen Computer laufen lassen."
   ]
  },
  {
   "cell_type": "markdown",
   "metadata": {},
   "source": [
    "### Jupyter Notebooks und Python Scripte\n",
    "\n",
    "Jupyter Notebooks sind überall dort von Vorteil, wo es darum geht, Programmcode mit Text zu integrieren und kleine Programmsnippets direkt aus dieser Umgebung heraus zu starten -- etwa als interaktives Skriptum für diese Lehrveranstaltung oder in der Wissenschaft, wo man die zu untersuchenden Daten interaktiv bearbeiten, visualisieren und die Ergebnisse gleich dokumentieren kann.\n",
    "\n",
    "Das sollte Sie jedoch nicht davon abhalten, auch die traditionelle und viel weiter verbreitete Form der Programmierung zu praktizieren:\n",
    "\n",
    "* Source Code wird in einem Editor oder Integrierten Entwicklungsumgebung (IDE) geschrieben und als Datei \n",
    "  (in Python typischerweise mit der Dateinamenerweiterung `.py`) gespeichert.\n",
    "* Diese Datei wird einem Python-Interpreter zur Auführung übergeben.\n",
    "  \n",
    "Damit diese \"normale\" Art der Programmierung nicht unter den Tisch fällt, werden wir sie im zweiten Teil des Semesters und für Übungen praktizieren."
   ]
  },
  {
   "cell_type": "markdown",
   "metadata": {},
   "source": [
    "## Jupyter Notebook starten"
   ]
  },
  {
   "cell_type": "markdown",
   "metadata": {},
   "source": [
    "Voraussetzung für diesen Schritt ist, dass Sie Python und Jupyter auf Ihrem Computer installiert haben.\n",
    "\n",
    "Geben sie folgenden Befehl ein, um den Notebook-Server zu starten (Python und Jupyter müssen installiert sein!):\n",
    "\n",
    "~~~\n",
    "jupyter notebook\n",
    "~~~\n",
    "\n",
    "Falls es dabei zu einem Problem kommt, weil auf Ihrem Rechner der Jupyter-Port bereits belegt ist, können Sie einen anderen Port angeben:\n",
    "\n",
    "~~~\n",
    "jupyter notebook --port 12345\n",
    "~~~\n",
    "\n",
    "Alternativ können Sie die modernere Variante JupyterLab verwenden (falls diese installiert ist). Dazu geben Sie dieses Kommando ein:\n",
    "\n",
    "~~~\n",
    "jupyter-lab\n",
    "~~~\n",
    "\n",
    "Dieser Befehl startet den Server und öffnet den Browser, in dem das Dashboard angezeigt wird. Falls das nicht automatisch passiert, finden Sie in der Ausgabe des startenden Notebook-Servers die URL, unter der Sie ihn im Browser erreichen (beginnt mit http://localhost:...). "
   ]
  },
  {
   "cell_type": "markdown",
   "metadata": {},
   "source": [
    "## Das Dashboard"
   ]
  },
  {
   "attachments": {
    "notebook.png": {
     "image/png": "[encoded data removed]"
    }
   },
   "cell_type": "markdown",
   "metadata": {},
   "source": [
    "Das Dashboard ist die Kommandozentrale ihres Notebook Clients.\n",
    "\n",
    "![notebook.png](attachment:notebook.png)\n",
    "\n",
    "Sie können hier ein bestehenden Dokument öffnen oder über den New-Button auf der rechten Seite ein neues Dokument anlegen. Darüber hinaus gibt es eine Reihe von weiteren Möglichkeiten, auf die wie hier (noch) nicht eingehen."
   ]
  },
  {
   "cell_type": "markdown",
   "metadata": {},
   "source": [
    "## Mit einem Notebook arbeiten"
   ]
  },
  {
   "cell_type": "markdown",
   "metadata": {},
   "source": [
    "Wenn Sie ein bestehendes Dokument geöffnet oder ein neues Dokument angelegt haben, sehen Sie ähnlich wie bei einem normalen Programm eine Menüzeile, darunter die Toolbar und darunter den eigentlichen Arbeitsbereich, der in Zellen organisiert ist.\n"
   ]
  },
  {
   "cell_type": "markdown",
   "metadata": {},
   "source": [
    "### Der Jupyter Arbeitsbereich: Zellen"
   ]
  },
  {
   "cell_type": "markdown",
   "metadata": {},
   "source": [
    "Ein Notebook ist in einzelnen Zellen organisiert. Jede Zelle ist entweder\n",
    "* **Code**, d.h. Programmcode\n",
    "* **Markdown**, d.h. Text evtl. mit Multimedia-Elementen\n",
    "* **Raw NB Convert** definiert eine \"Raw Cell\", in der man Inhalte z.B. nur für bestimmte Ausgabeformate definieren kann.\n",
    "    \n",
    "Wichtig für uns sind die beiden ersten Möglichkeiten. "
   ]
  },
  {
   "cell_type": "markdown",
   "metadata": {},
   "source": [
    "### Code-Zellen\n",
    "In eine ``Code``-Zelle können wir direkt Python-Code eingeben und ausführen. Sie können das gleich ausprobieren:\n",
    "\n",
    "  * Etwas weiter unten in diesem Notebook sehen sie eine Zelle mit dem Inhalt ``print('Hello world')``.\n",
    "  * Setzen Sie den Fokus auf diese Zelle (z.B. indem Sie mit der Maus hineinklicken) und führen Sie \n",
    "    den Inhalt aus. Zur Ausführung des Codes haben Sie mehrere Möglichkeiten:\n",
    "    * Klicken Sie oben in der Toolbar auf `>|Run`\n",
    "    * Klicken Sie im Menü auf ``Cell`` und dann ``Run Cells``\n",
    "    * Drücken Sie die Tastenkombination ``Strg + Enter``, d.h. halten Sie die Strg-Taste \n",
    "      gedrückt und drücken Sie gleichzeitig auf die Enter-Taste.\n",
    "    * Drücken Sie die Tastenkombination ``Shift + Enter``, d.h. halten Sie die Hochstell-Taste \n",
    "      gedrückt und drücken Sie gleichzeitig auf die Enter-Taste. Das führt nicht nur den Code \n",
    "      aus, sondern erzeugt auch gleich eine neue leere Zelle unterhalb der ausgeführten Zelle."
   ]
  },
  {
   "cell_type": "markdown",
   "metadata": {},
   "source": [
    "**Übung**: Versuchen Sie an der folgenden Zelle die vier vorgeschlagenen Möglichkeiten der Ausführung! Unmittelbar unterhalb des Programmcodes sehen Sie nach der Ausführung die Ausgabe des Code Snippets. Falls Sie die Ausgabe entfernen wollen, klicken Sie im Menü auf ``Cell -> Current Outputs -> Clear``."
   ]
  },
  {
   "cell_type": "code",
   "execution_count": null,
   "metadata": {},
   "outputs": [],
   "source": [
    "print('Hello world!')"
   ]
  },
  {
   "cell_type": "markdown",
   "metadata": {},
   "source": [
    "Den Code können Sie jederzeit modifzieren. Klicken Sie dazu in die Zelle und ändern den Inhalt. Ersetzen Sie beispielsweise im oben stehenden Beispiel ``world`` durch Ihren Vornamen und führen Sie die Zelle erneut aus."
   ]
  },
  {
   "cell_type": "markdown",
   "metadata": {},
   "source": [
    "### Markdown-Zellen\n",
    "\n",
    "Markdown-Zellen enthalten verbindende oder erklärende Texte. Auch diese Zellen können Sie jederzeit verändern oder z.B. mit eigenen Notizen erweitern. Klicken Sie dazu einfach mit einem Doppelklick in die Zelle. Dadurch wird diese bearbeitbar. Um wieder in den normalen Modus zurück zu kommen, führen Sie die Zelle aus wie oben bei Codezellen beschrieben.\n",
    "\n",
    "Markdown ist eine sehr rasch zu erlernende Markup-Sprache, mit der Sie Texte strukturieren können. Eine gute Einführung finden Sie z.B. hier:\n",
    "https://www.earthdatascience.org/courses/intro-to-earth-data-science/file-formats/use-text-files/format-text-with-markdown-jupyter-notebook/\n",
    "\n",
    "Markdown ist nicht nur die Sprache von Jupyter Notebooks, sondern wird auch bevorzugt zur Dokumentation von Software-Projekten aber auch für viele andere Zwecke verwendet (ich schreibe z.B. viele meiner Vortragsfolien mit Markdown und verwende Markdown für Mitschriften). \n",
    "\n",
    "Aus meiner Sicht ist es höchst lohnenswert, Markdown zu lernen, weil viele Texte damit einfacher und schneller zu erstellen sind, als beispielsweise mit MS Word und Texteditoren auf jedem Computer ohnehin vorhanden sind. Es gibt einige Programme, mit denen man Markdown in andere Formate umwandeln kann; sehr mächtig ist [Pandoc](https://pandoc.org/), mit dem Sie ein Markdown-Dokument sehr einfach z.B. nach PDF, HTML oder nach MS Word konvertieren können."
   ]
  },
  {
   "cell_type": "markdown",
   "metadata": {},
   "source": [
    "### Crashkurs Markdown\n",
    "\n",
    "#### Überschriften\n",
    "\n",
    "Überschriften werden durch am Beginn der Zeile stehende ``#`` gekennzeichnet: \n",
    "\n",
    "  * ``#`` für die Hauptüberschrift\n",
    "  * ``##``für eine Überschrift zweiter Ordnung \n",
    "  * ``###`` für eine Überschrift dritter Ordnung usw.\n",
    "  \n",
    "#### Absätze\n",
    "\n",
    "Ein neuer Absatz beginnt immer mit einer Leerzeile.\n",
    "\n",
    "```\n",
    "Absatz 1\n",
    "\n",
    "Absatz 2\n",
    "```\n",
    "\n",
    "führt zu dieser Ausgabe:\n",
    "\n",
    "Absatz 1\n",
    "\n",
    "Absatz 2\n",
    "\n",
    "#### Formatierungen\n",
    "\n",
    "  * ``*ein kursiver Text*`` setzt einen Textteil in Kursivschrift: *ein kursiver Text* \n",
    "  * ``**ein fetter Text**``  setzt einen Text in Fettschrift: **ein fetter Text**\n",
    "  * ``ein `hervorgehobener` Text``. Text zwischen Backticks (`) hebt eine Textstelle hervor\n",
    "  \n",
    "#### Listen\n",
    "\n",
    "Markdown kennt 2 Arten von Listen: Aufzählungen und numerierte Listen. Beide Listenarten sollten durch eine Leerzeile und danach durch Aufzählungszeichen begonnen werden, wobei das Aufzählungszeichen durch 2 oder 4 Leerzeichen eingerückt sein soll (die Markdown-Prozessoren sind hier aber meist sehr tolerant). Aufzählungspunkte werden durch ``*`` eingeleitet (mit einem Doppelklick in die Zelle sehen sie das Markdown):\n",
    "\n",
    "Ein Aufzählung:\n",
    "\n",
    "  * Erster Punkt\n",
    "  * Zweiter Punkt\n",
    "  * Dritter Punkt\n",
    "  \n",
    "Numerierte Listen werdenerzeugt, indem man ``1.``, ``2.`` usw. vor den Listeneintrag schreibt:\n",
    "\n",
    "  1. Erster Punkt\n",
    "  2. Zweiter Punkt\n",
    "  3. Dritter Punkt\n",
    "  \n",
    "Viele Markdown-Dialekte erlauben, immer ``1.`` zu schreiben und zählen dann automatisch hoch, was das nachträgliche Einfügen von Einträgen sehr erleichtert (machen Sie einen Doppelklick in diese Zelle, um zu sehen, dass hier alle Punkte mit ``1.`` eingeleitet sind):\n",
    "\n",
    "   1. Erster Punkt\n",
    "   1. Zweiter Punkt\n",
    "   1. Dritter Punkt"
   ]
  },
  {
   "cell_type": "markdown",
   "metadata": {},
   "source": [
    "### Neue Zellen einfügen\n",
    "Sie können jederzeit und überall neue Zellen einfügen, z.B. für eigene Notizen oder eigene Code-Experimente. Klicken Sie dazu in der Toolbar auf das ``+``-Symbol oder verwenden Sie den ``Insert``-Menüpunkt. Über die Tastatur können Sie mit\n",
    "`A` oder `B` eine neue Zelle ober- oder unterhalb der aktuellen Zelle einfügen."
   ]
  },
  {
   "cell_type": "markdown",
   "metadata": {},
   "source": [
    "## Weiterführende Ressourcen"
   ]
  },
  {
   "cell_type": "markdown",
   "metadata": {},
   "source": [
    "* Die offizielle Notebook Dokumentation: https://jupyter-notebook.readthedocs.io/en/stable/"
   ]
  },
  {
   "cell_type": "markdown",
   "metadata": {},
   "source": [
    "## Lizenz\n",
    "\n",
    "This notebook ist part of the course [Grundlagen der Programmierung](https://github.com/gvasold/gdp) held by [Gunter Vasold](https://online.uni-graz.at/kfu_online/wbForschungsportal.cbShowPortal?pPersonNr=51488) at Graz University 2017&thinsp;ff. \n",
    "\n",
    "<p>\n",
    "    It is licensed under <a href=\"https://creativecommons.org/licenses/by-nc-sa/4.0\">CC BY-NC-SA 4.0</a>\n",
    "</p>\n",
    "\n",
    "<table>\n",
    "    <tr>\n",
    "    <td>\n",
    "        <img style=\"height:22px\" \n",
    "             src=\"https://mirrors.creativecommons.org/presskit/icons/cc.svg?ref=chooser-v1\"/></li>\n",
    "    </td>\n",
    "    <td>\n",
    "    <img style=\"height:22px;\"\n",
    "         src=\"https://mirrors.creativecommons.org/presskit/icons/by.svg?ref=chooser-v1\" /></li>\n",
    "    </td>\n",
    "    <td>\n",
    "        <img style=\"height:22px;\"\n",
    "         src=\"https://mirrors.creativecommons.org/presskit/icons/nc.svg?ref=chooser-v1\" /></li>\n",
    "    </td>\n",
    "    <td>\n",
    "        <img style=\"height:22px;\"\n",
    "             src=\"https://mirrors.creativecommons.org/presskit/icons/sa.svg?ref=chooser-v1\" /></li>\n",
    "    </td>\n",
    "</tr>\n",
    "</table>"
   ]
  }
 ],
 "metadata": {
  "kernelspec": {
   "display_name": "Python 3 (ipykernel)",
   "language": "python",
   "name": "python3"
  },
  "language_info": {
   "codemirror_mode": {
    "name": "ipython",
    "version": 3
   },
   "file_extension": ".py",
   "mimetype": "text/x-python",
   "name": "python",
   "nbconvert_exporter": "python",
   "pygments_lexer": "ipython3",
   "version": "3.10.12"
  }
 },
 "nbformat": 4,
 "nbformat_minor": 4
}
